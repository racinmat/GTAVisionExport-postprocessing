{
 "cells": [
  {
   "cell_type": "code",
   "execution_count": 1,
   "metadata": {
    "collapsed": true
   },
   "outputs": [],
   "source": [
    "import numpy as np\n",
    "import matplotlib.pyplot as plt\n",
    "import visualization\n",
    "import os\n",
    "from gta_math import points_to_homo, ndc_to_view, construct_proj_matrix, view_to_world, construct_view_matrix\n",
    "from visualization import load_depth, load_stencil, save_pointcloud_csv, bbox_from_string\n",
    "import progressbar\n",
    "from joblib import Parallel, delayed\n",
    "from configparser import ConfigParser\n",
    "from PIL import Image\n",
    "import pickle\n",
    "import json\n",
    "import time\n",
    "from shutil import copyfile\n",
    "from functools import lru_cache"
   ]
  },
  {
   "cell_type": "code",
   "execution_count": 2,
   "metadata": {},
   "outputs": [],
   "source": [
    "ini_file = \"gta-postprocessing.ini\"\n",
    "visualization.multi_page = False\n",
    "visualization.ini_file = ini_file\n",
    "visualization.use_cache = False\n",
    "\n",
    "conn = visualization.get_connection_pooled()\n",
    "cur = conn.cursor()\n",
    "\n",
    "CONFIG = ConfigParser()\n",
    "CONFIG.read(ini_file)\n",
    "in_directory = CONFIG[\"Images\"][\"Tiff\"]\n",
    "out_directory = r'D:\\output-datasets\\offroad-8'\n",
    "\n",
    "# for some datasets we don't need entities, which produces lot smaller json files\n",
    "include_entities = False\n",
    "# for some datasets, we want each camera data to be in separate folder\n",
    "directory_per_camera = True\n",
    "camera_names = {}\n",
    "# sometimes buffers are not synced and don't correspond to current camera. \n",
    "# they can be recognized by having same data as previous record\n",
    "discard_invalid_buffers = True"
   ]
  },
  {
   "cell_type": "code",
   "execution_count": 3,
   "metadata": {},
   "outputs": [
    {
     "name": "stdout",
     "output_type": "stream",
     "text": [
      "There are 3840 snapshots\n"
     ]
    }
   ],
   "source": [
    "#run_id = 19\n",
    "#run_id = 3677\n",
    "run_id = 4149\n",
    "\n",
    "cur.execute(\"\"\"SELECT snapshot_id, imagepath, cam_near_clip, camera_fov, width, height, timestamp, timeofday, width, height, \\\n",
    "      ARRAY[st_x(camera_relative_rotation), st_y(camera_relative_rotation), st_z(camera_relative_rotation)] as camera_relative_rotation, \\\n",
    "      ARRAY[st_x(camera_relative_position), st_y(camera_relative_position), st_z(camera_relative_position)] as camera_relative_position, \\\n",
    "      ARRAY[st_x(camera_pos), st_y(camera_pos), st_z(camera_pos)] as camera_pos, \\\n",
    "      ARRAY[st_x(camera_rot), st_y(camera_rot), st_z(camera_rot)] as camera_rot, \\\n",
    "      ARRAY[st_x(current_target), st_y(current_target), st_z(current_target)] as current_target, \\\n",
    "      currentweather \\\n",
    "      FROM snapshots \\\n",
    "      WHERE run_id = {}\n",
    "      ORDER BY timestamp ASC \\\n",
    "    \"\"\".format(run_id))\n",
    "\n",
    "results = []\n",
    "for row in cur:\n",
    "    res = dict(row)\n",
    "    if res['camera_fov'] == 0 and res['cam_near_clip'] == 0:\n",
    "        continue  # somehow malformed data, skipping them\n",
    "    res['camera_rot'] = np.array(res['camera_rot'])\n",
    "    res['camera_pos'] = np.array(res['camera_pos'])\n",
    "    res['camera_relative_rotation'] = np.array(res['camera_relative_rotation'])\n",
    "    res['camera_relative_position'] = np.array(res['camera_relative_position'])\n",
    "    res['current_target'] = np.array(res['current_target'])\n",
    "    res['view_matrix'] = construct_view_matrix(res['camera_pos'], res['camera_rot'])\n",
    "    res['proj_matrix'] = construct_proj_matrix(res['height'], res['width'], res['camera_fov'], res['cam_near_clip'])\n",
    "    results.append(res)\n",
    "\n",
    "print('There are {} snapshots'.format(len(results)))"
   ]
  },
  {
   "cell_type": "code",
   "execution_count": 4,
   "metadata": {},
   "outputs": [],
   "source": [
    "def get_base_name(name):\n",
    "    return os.path.basename(os.path.splitext(name)[0])\n",
    "\n",
    "def get_main_image_name(cameras):\n",
    "    for cam in cameras:\n",
    "        # this is the main camera\n",
    "        if np.array_equal(cam['camera_relative_rotation'], [0, 0, 0]):\n",
    "            return cam['imagepath']\n",
    "    raise Exception('no main image')\n",
    "\n",
    "def load_entities_data(snapshot_id):\n",
    "    conn = visualization.get_connection_pooled()\n",
    "    cur = conn.cursor()\n",
    "    \n",
    "    # start = time.time()\n",
    "\n",
    "    cur.execute(\"\"\"SELECT bbox, \\\n",
    "        ARRAY[st_x(pos), st_y(pos), st_z(pos)] as pos, \\\n",
    "        ARRAY[st_x(rot), st_y(rot), st_z(rot)] as rot, \\\n",
    "        ARRAY[st_xmin(bbox3d), st_xmax(bbox3d), st_ymin(bbox3d), st_ymax(bbox3d), st_zmin(bbox3d), st_zmax(bbox3d)] as bbox3d, \\\n",
    "         type, class, handle, snapshot_id \\\n",
    "        FROM detections \\\n",
    "        WHERE snapshot_id = '{}' \\\n",
    "        \"\"\".format(snapshot_id))\n",
    "\n",
    "    # end = time.time()\n",
    "    # print('time to load from db', end - start)\n",
    "    # start = time.time()\n",
    "\n",
    "    # print(size)\n",
    "    results = []\n",
    "    for row in cur:\n",
    "        res = dict(row)\n",
    "        res['model_sizes'] = np.array(res['bbox3d'])\n",
    "        res['bbox'] = bbox_from_string(res['bbox'])\n",
    "        res['pos'] = np.array(res['pos'])\n",
    "        res['rot'] = np.array(res['rot'])\n",
    "        results.append(res)\n",
    "\n",
    "    # end = time.time()\n",
    "    # print('time to convert arrays to numpy', end - start)\n",
    "    # start = time.time()\n",
    "\n",
    "    return results\n",
    "\n",
    "\n",
    "def convert_rgb(in_directory, out_directory, out_name, name, out_format):\n",
    "    outfile = os.path.join(out_directory, \"{}.{}\".format(out_name, out_format))\n",
    "    # print(outfile)\n",
    "    if os.path.exists(outfile):\n",
    "        return\n",
    "\n",
    "    try:\n",
    "        infile = os.path.join(in_directory, name)\n",
    "        im = Image.open(infile)\n",
    "        im = im.convert(mode=\"RGB\")\n",
    "        im.save(outfile)\n",
    "    except OSError:\n",
    "        # print(\"Skipping invalid file {}\".format(name))\n",
    "        return\n",
    "\n",
    "\n",
    "def convert_depth(in_directory, out_directory, out_name, name, out_format):\n",
    "    outfile = os.path.join(out_directory, \"{}.{}\".format(out_name, out_format))\n",
    "    # print(outfile)\n",
    "    if os.path.exists(outfile):\n",
    "        return\n",
    "\n",
    "    try:\n",
    "        infile = os.path.join(in_directory, name)\n",
    "        depth = load_depth(name)\n",
    "        # print('depth min before: ', np.min(depth))\n",
    "        # print('depth max before: ', np.max(depth))\n",
    "        depth = depth * np.iinfo(np.uint16).max\n",
    "        # print('depth min after: ', np.min(depth))\n",
    "        # print('depth max after: ', np.max(depth))\n",
    "        im = Image.fromarray(depth.astype(np.int32), mode=\"I\")\n",
    "        im.save(outfile)\n",
    "    except OSError:\n",
    "        # print(\"Skipping invalid file {}\".format(name))\n",
    "        return\n",
    "\n",
    "def convert_stencil(in_directory, out_directory, out_name, name, out_format):\n",
    "    outfile = os.path.join(out_directory, \"{}.{}\".format(out_name, out_format))\n",
    "    # print(outfile)\n",
    "    if os.path.exists(outfile):\n",
    "        return\n",
    "\n",
    "    try:\n",
    "        infile = os.path.join(in_directory, name)\n",
    "        stencil = load_stencil(name)\n",
    "        im = Image.fromarray(stencil.astype(np.uint8), mode=\"L\")\n",
    "        im.save(outfile)\n",
    "    except OSError:\n",
    "        # print(\"Skipping invalid file {}\".format(name))\n",
    "        return\n",
    "\n",
    "def get_out_directory(out_directory, res, directory_per_camera):\n",
    "    if directory_per_camera:\n",
    "        # dictionary of camera string representation and indices\n",
    "        global camera_names\n",
    "        camera_directory_name = 'camera_{}__{}'.format(\n",
    "            '_'.join(['{:0.2f}'.format(i) for i in res['camera_relative_position']]), \n",
    "            '_'.join(['{:0.2f}'.format(i) for i in res['camera_relative_rotation']]), \n",
    "        )\n",
    "        if camera_directory_name not in camera_names:\n",
    "            camera_names[camera_directory_name] = str(len(camera_names))\n",
    "        return os.path.join(out_directory, camera_names[camera_directory_name])\n",
    "    else:\n",
    "        return out_directory\n",
    "\n",
    "@lru_cache(maxsize=32)\n",
    "def get_first_record_timestamp_in_run(run_id):\n",
    "    conn = visualization.get_connection_pooled()\n",
    "    cur = conn.cursor()\n",
    "    cur.execute(\"\"\"SELECT min(timestamp) as timestamp \\\n",
    "        FROM snapshots \\\n",
    "        WHERE run_id = {} \\\n",
    "        LIMIT 1 \\\n",
    "        \"\"\".format(run_id))\n",
    "    return cur.fetchone()['timestamp']\n",
    "    \n",
    "def is_first_record_in_run(res, run_id):\n",
    "    first_timestamp = get_first_record_timestamp_in_run(run_id)\n",
    "    return first_timestamp == res['timestamp']\n",
    "    \n",
    "def get_previous_record(res):\n",
    "    conn = visualization.get_connection_pooled()\n",
    "    cur = conn.cursor()\n",
    "    cur.execute(\"\"\"SELECT imagepath, snapshot_id, scene_id \\\n",
    "        FROM snapshots \\\n",
    "        WHERE timestamp < '{}' and run_id = (SELECT run_id from snapshots WHERE snapshot_id = {}) \\\n",
    "        ORDER BY timestamp DESC \\\n",
    "        LIMIT 1 \\\n",
    "        \"\"\".format(res['timestamp'], res['snapshot_id']))\n",
    "    # this should select previous record independently on primary key, without problems with race conditions by persisting in other threads\n",
    "    # and belonging into the same run\n",
    "    results = []\n",
    "    for row in cur:\n",
    "        res = dict(row)\n",
    "        results.append(res)\n",
    "    if len(results) == 0:\n",
    "        print('no previous record for snapshot_id {}'.format(res['snapshot_id']))\n",
    "    return results[0]['imagepath']\n",
    "\n",
    "def are_buffers_same_as_previous(in_directory, res):\n",
    "    name = res['imagepath']\n",
    "    depth = load_depth(name)\n",
    "    stencil = load_stencil(name)\n",
    "    prev_name = get_previous_record(res)\n",
    "    prev_depth = load_depth(prev_name)\n",
    "    prev_stencil = load_stencil(prev_name)\n",
    "    return (depth == prev_depth).all() or (stencil == prev_stencil).all()\n",
    "\n",
    "def try_dump_snapshot_to_dataset(in_directory, out_directory, res, run_id):\n",
    "    try:\n",
    "        dump_snapshot_to_dataset(in_directory, out_directory, res, run_id)\n",
    "    except Exception as e:\n",
    "        print(e)\n",
    "        pass\n",
    "\n",
    "def dump_snapshot_to_dataset(in_directory, out_directory, res, run_id):\n",
    "    if 'pbar' in globals() and 'counter' in globals():\n",
    "        global counter\n",
    "        counter += 1\n",
    "        pbar.update(counter)\n",
    "\n",
    "    start = time.time()\n",
    "    \n",
    "    if not os.path.exists(out_directory):\n",
    "        os.makedirs(out_directory)\n",
    "\n",
    "    if discard_invalid_buffers and (not is_first_record_in_run(res, run_id)) and \\\n",
    "        are_buffers_same_as_previous(in_directory, res):\n",
    "        print('skipping record wih invalid buffers in snapshot {}, filename {} and camera {}'\n",
    "              .format(res['snapshot_id'], res['imagepath'], res['camera_relative_position'].tolist()))\n",
    "        return\n",
    "    \n",
    "    name = res['imagepath']\n",
    "#    convert_rgb(in_directory, out_directory, get_base_name(name), get_base_name(name)+'.tiff', 'png')\n",
    "    convert_rgb(in_directory, out_directory, get_base_name(name), get_base_name(name)+'.tiff', 'jpg')\n",
    "    convert_depth(in_directory, out_directory, get_base_name(name)+'-depth', get_base_name(name), 'png')\n",
    "    convert_stencil(in_directory, out_directory, get_base_name(name)+'-stencil', get_base_name(name), 'png')\n",
    "    # end = time.time()\n",
    "    # print('time to generate images', end - start)\n",
    "    # start = time.time()\n",
    "    \n",
    "    outfile = os.path.join(out_directory, '{}.json'.format(res['imagepath']))\n",
    "    if os.path.exists(outfile):\n",
    "        return\n",
    "\n",
    "    if include_entities:\n",
    "        data = load_entities_data(res['snapshot_id'])\n",
    "\n",
    "        # end = time.time()\n",
    "        # print('loading entities data', end - start)\n",
    "        # start = time.time()\n",
    "    \n",
    "        json_entities_data = []\n",
    "        for i in data:\n",
    "            json_entity = {\n",
    "                'model_sizes': i['model_sizes'].tolist(),\n",
    "                'bbox': i['bbox'].tolist(),\n",
    "                'pos': i['pos'].tolist(),\n",
    "                'rot': i['rot'].tolist(),\n",
    "                'class': i['class'],\n",
    "                'handle': i['handle'],\n",
    "                'type': i['type'],\n",
    "            }\n",
    "            json_entities_data.append(json_entity)\n",
    "\n",
    "    # end = time.time()\n",
    "    # print('dumping entities to json', end - start)\n",
    "    # start = time.time()\n",
    "\n",
    "    json_data = {\n",
    "        'imagepath': res['imagepath'],\n",
    "        'timestamp': res['timestamp'].strftime(\"%Y-%m-%d %H:%M:%S\"),\n",
    "        'timeofday': res['timeofday'].strftime(\"%H:%M:%S\"),\n",
    "        'currentweather': res['currentweather'],\n",
    "        'width': res['width'],\n",
    "        'height': res['height'],\n",
    "        'snapshot_id': res['snapshot_id'],\n",
    "        'camera_rot': res['camera_rot'].tolist(),\n",
    "        'camera_pos': res['camera_pos'].tolist(),\n",
    "        'camera_fov': res['camera_fov'],\n",
    "        'camera_relative_rotation': res['camera_relative_rotation'].tolist(),\n",
    "        'camera_relative_position': res['camera_relative_position'].tolist(),\n",
    "        'current_target': res['current_target'].tolist(),\n",
    "        'view_matrix': res['view_matrix'].tolist(),\n",
    "        'proj_matrix': res['proj_matrix'].tolist(),\n",
    "    }\n",
    "    \n",
    "    if include_entities:\n",
    "        json_data['entities']: json_entities_data\n",
    "\n",
    "    # end = time.time()\n",
    "    # print('dumping base object to json', end - start)\n",
    "    # start = time.time()\n",
    "\n",
    "    with open(outfile, 'w') as f:\n",
    "        json.dump(json_data, f)\n",
    "    \n",
    "    # end = time.time()\n",
    "    # print('persisting json to file', end - start)\n",
    "    "
   ]
  },
  {
   "cell_type": "markdown",
   "metadata": {},
   "source": [
    "### dumping all data"
   ]
  },
  {
   "cell_type": "code",
   "execution_count": 5,
   "metadata": {
    "scrolled": false
   },
   "outputs": [
    {
     "name": "stderr",
     "output_type": "stream",
     "text": [
      "  5% 223 |###                                                       |   4.4 B/sC:\\ProgramData\\Anaconda3\\lib\\site-packages\\tifffile\\tifffile.py:2642: RuntimeWarning: py_decodelzw encountered unexpected end of stream\n",
      "  strip = decompress(strip)\n",
      "  5% 225 |###                                                       |   4.4 B/sC:\\ProgramData\\Anaconda3\\lib\\site-packages\\tifffile\\tifffile.py:2577: UserWarning: unpack: string size must be a multiple of element size\n",
      "  warnings.warn(\"unpack: %s\" % e)\n",
      "  8% 336 |#####                                                     |   4.4 B/s"
     ]
    },
    {
     "name": "stdout",
     "output_type": "stream",
     "text": [
      "skipping record wih invalid buffers in snapshot 469934, filename 2018-08-13--11-34-41--826 and camera [0.480000019073486, 1.5, 1.07649993896484]\n"
     ]
    },
    {
     "name": "stderr",
     "output_type": "stream",
     "text": [
      "\r",
      "                                                                               \r",
      "\r",
      "  8% 338 |#####                                                     |   4.4 B/s"
     ]
    },
    {
     "name": "stdout",
     "output_type": "stream",
     "text": [
      "skipping record wih invalid buffers in snapshot 469935, filename 2018-08-13--11-34-42--114 and camera [-0.0599999986588955, 17.5, 25.0764999389648]\n"
     ]
    },
    {
     "name": "stderr",
     "output_type": "stream",
     "text": [
      "\r",
      "                                                                               \r",
      "\r",
      "  8% 339 |#####                                                     |   4.4 B/s"
     ]
    },
    {
     "name": "stdout",
     "output_type": "stream",
     "text": [
      "skipping record wih invalid buffers in snapshot 469936, filename 2018-08-13--11-34-42--571 and camera [-0.0599999986588955, 1.5, 1.07649993896484]\n"
     ]
    },
    {
     "name": "stderr",
     "output_type": "stream",
     "text": [
      "  8% 341 |#####                                                     |   4.4 B/s"
     ]
    },
    {
     "name": "stdout",
     "output_type": "stream",
     "text": [
      "skipping record wih invalid buffers in snapshot 469937, filename 2018-08-13--11-34-42--825 and camera [15.9399995803833, 17.5, 6.07649993896484]\n",
      "skipping record wih invalid buffers in snapshot 469938, filename 2018-08-13--11-34-43--099 and camera [-0.0599999986588955, 33.5, 6.07649993896484]\n",
      "skipping record wih invalid buffers in snapshot 469940, filename 2018-08-13--11-34-43--625 and camera [0.480000019073486, 1.5, 1.07649993896484]\n"
     ]
    },
    {
     "name": "stderr",
     "output_type": "stream",
     "text": [
      "\r",
      "                                                                               \r",
      "\r",
      "  8% 343 |#####                                                     |   4.4 B/s"
     ]
    },
    {
     "name": "stdout",
     "output_type": "stream",
     "text": [
      "skipping record wih invalid buffers in snapshot 469939, filename 2018-08-13--11-34-43--375 and camera [-16.0599994659424, 17.5, 6.07649993896484]\n"
     ]
    },
    {
     "name": "stderr",
     "output_type": "stream",
     "text": [
      "\r",
      "                                                                               \r",
      "\r",
      "  8% 344 |#####                                                     |   4.4 B/s"
     ]
    },
    {
     "name": "stdout",
     "output_type": "stream",
     "text": [
      "skipping record wih invalid buffers in snapshot 469941, filename 2018-08-13--11-34-43--897 and camera [-0.0599999986588955, 17.5, 25.0764999389648]\n",
      "skipping record wih invalid buffers in snapshot 469942, filename 2018-08-13--11-34-44--353 and camera [-0.0599999986588955, 1.5, 1.07649993896484]\n"
     ]
    },
    {
     "name": "stderr",
     "output_type": "stream",
     "text": [
      "\r",
      "                                                                               \r",
      "\r",
      "  9% 346 |#####                                                     |   4.4 B/s"
     ]
    },
    {
     "name": "stdout",
     "output_type": "stream",
     "text": [
      "skipping record wih invalid buffers in snapshot 469943, filename 2018-08-13--11-34-44--632 and camera [15.9399995803833, 17.5, 6.07649993896484]\n"
     ]
    },
    {
     "name": "stderr",
     "output_type": "stream",
     "text": [
      "\r",
      "                                                                               \r",
      "\r",
      "  9% 347 |#####                                                     |   4.4 B/s"
     ]
    },
    {
     "name": "stdout",
     "output_type": "stream",
     "text": [
      "skipping record wih invalid buffers in snapshot 469944, filename 2018-08-13--11-34-44--882 and camera [-0.0599999986588955, 33.5, 6.07649993896484]\n"
     ]
    },
    {
     "name": "stderr",
     "output_type": "stream",
     "text": [
      "  9% 351 |#####                                                     |   4.5 B/s"
     ]
    },
    {
     "name": "stdout",
     "output_type": "stream",
     "text": [
      "skipping record wih invalid buffers in snapshot 469948, filename 2018-08-13--11-34-46--180 and camera [-0.0599999986588955, 1.5, 1.07649993896484]\n",
      "skipping record wih invalid buffers in snapshot 469945, filename 2018-08-13--11-34-45--150 and camera [-16.0599994659424, 17.5, 6.07649993896484]\n",
      "skipping record wih invalid buffers in snapshot 469947, filename 2018-08-13--11-34-45--719 and camera [-0.0599999986588955, 17.5, 25.0764999389648]\n",
      "skipping record wih invalid buffers in snapshot 469946, filename 2018-08-13--11-34-45--441 and camera [0.480000019073486, 1.5, 1.07649993896484]\n"
     ]
    },
    {
     "name": "stderr",
     "output_type": "stream",
     "text": [
      "\r",
      "                                                                               \r",
      "\r",
      "  9% 352 |#####                                                     |   4.5 B/s"
     ]
    },
    {
     "name": "stdout",
     "output_type": "stream",
     "text": [
      "skipping record wih invalid buffers in snapshot 469949, filename 2018-08-13--11-34-46--452 and camera [15.9399995803833, 17.5, 6.07649993896484]\n"
     ]
    },
    {
     "name": "stderr",
     "output_type": "stream",
     "text": [
      "  9% 354 |#####                                                     |   4.5 B/s"
     ]
    },
    {
     "name": "stdout",
     "output_type": "stream",
     "text": [
      "skipping record wih invalid buffers in snapshot 469950, filename 2018-08-13--11-34-46--730 and camera [-0.0599999986588955, 33.5, 6.07649993896484]\n",
      "skipping record wih invalid buffers in snapshot 469951, filename 2018-08-13--11-34-47--017 and camera [-16.0599994659424, 17.5, 6.07649993896484]\n"
     ]
    },
    {
     "name": "stderr",
     "output_type": "stream",
     "text": [
      "  9% 356 |#####                                                     |   4.5 B/s"
     ]
    },
    {
     "name": "stdout",
     "output_type": "stream",
     "text": [
      "skipping record wih invalid buffers in snapshot 469952, filename 2018-08-13--11-34-47--271 and camera [0.480000019073486, 1.5, 1.07649993896484]\n",
      "skipping record wih invalid buffers in snapshot 469953, filename 2018-08-13--11-34-47--541 and camera [-0.0599999986588955, 17.5, 25.0764999389648]\n"
     ]
    },
    {
     "name": "stderr",
     "output_type": "stream",
     "text": [
      "  9% 360 |#####                                                     |   4.5 B/s"
     ]
    },
    {
     "name": "stdout",
     "output_type": "stream",
     "text": [
      "skipping record wih invalid buffers in snapshot 469956, filename 2018-08-13--11-34-48--526 and camera [-0.0599999986588955, 33.5, 6.07649993896484]\n",
      "skipping record wih invalid buffers in snapshot 469954, filename 2018-08-13--11-34-47--976 and camera [-0.0599999986588955, 1.5, 1.07649993896484]\n",
      "skipping record wih invalid buffers in snapshot 469955, filename 2018-08-13--11-34-48--273 and camera [15.9399995803833, 17.5, 6.07649993896484]\n",
      "skipping record wih invalid buffers in snapshot 469957, filename 2018-08-13--11-34-48--781 and camera [-16.0599994659424, 17.5, 6.07649993896484]\n"
     ]
    },
    {
     "name": "stderr",
     "output_type": "stream",
     "text": [
      "\r",
      "                                                                               \r",
      "\r",
      "  9% 361 |#####                                                     |   4.5 B/s"
     ]
    },
    {
     "name": "stdout",
     "output_type": "stream",
     "text": [
      "skipping record wih invalid buffers in snapshot 469959, filename 2018-08-13--11-34-49--336 and camera [-0.0599999986588955, 17.5, 25.0764999389648]\n"
     ]
    },
    {
     "name": "stderr",
     "output_type": "stream",
     "text": [
      "\r",
      "                                                                               \r",
      "\r",
      "  9% 362 |#####                                                     |   4.5 B/s"
     ]
    },
    {
     "name": "stdout",
     "output_type": "stream",
     "text": [
      "skipping record wih invalid buffers in snapshot 469958, filename 2018-08-13--11-34-49--072 and camera [0.480000019073486, 1.5, 1.07649993896484]\n"
     ]
    },
    {
     "name": "stderr",
     "output_type": "stream",
     "text": [
      "\r",
      "                                                                               \r",
      "\r",
      "  9% 363 |#####                                                     |   4.5 B/s"
     ]
    },
    {
     "name": "stdout",
     "output_type": "stream",
     "text": [
      "skipping record wih invalid buffers in snapshot 469961, filename 2018-08-13--11-34-50--179 and camera [15.9399995803833, 17.5, 6.07649993896484]\n",
      "skipping record wih invalid buffers in snapshot 469960, filename 2018-08-13--11-34-49--893 and camera [-0.0599999986588955, 1.5, 1.07649993896484]\n"
     ]
    },
    {
     "name": "stderr",
     "output_type": "stream",
     "text": [
      "  9% 366 |#####                                                     |   4.5 B/s"
     ]
    },
    {
     "name": "stdout",
     "output_type": "stream",
     "text": [
      "skipping record wih invalid buffers in snapshot 469964, filename 2018-08-13--11-34-51--123 and camera [0.480000019073486, 1.5, 1.07649993896484]\n",
      "skipping record wih invalid buffers in snapshot 469962, filename 2018-08-13--11-34-50--485 and camera [-0.0599999986588955, 33.5, 6.07649993896484]\n",
      "skipping record wih invalid buffers in snapshot 469963, filename 2018-08-13--11-34-50--772 and camera [-16.0599994659424, 17.5, 6.07649993896484]"
     ]
    },
    {
     "name": "stderr",
     "output_type": "stream",
     "text": [
      "\r",
      "                                                                               \r",
      "\r",
      "  9% 368 |#####                                                     |   4.5 B/s"
     ]
    },
    {
     "name": "stdout",
     "output_type": "stream",
     "text": [
      "\n",
      "skipping record wih invalid buffers in snapshot 469965, filename 2018-08-13--11-34-51--384 and camera [-0.0599999986588955, 17.5, 25.0764999389648]\n"
     ]
    },
    {
     "name": "stderr",
     "output_type": "stream",
     "text": [
      "  9% 370 |#####                                                     |   4.5 B/s"
     ]
    },
    {
     "name": "stdout",
     "output_type": "stream",
     "text": [
      "skipping record wih invalid buffers in snapshot 469966, filename 2018-08-13--11-34-51--854 and camera [-0.0599999986588955, 1.5, 1.07649993896484]\n",
      "skipping record wih invalid buffers in snapshot 469967, filename 2018-08-13--11-34-52--139 and camera [15.9399995803833, 17.5, 6.07649993896484]\n"
     ]
    },
    {
     "name": "stderr",
     "output_type": "stream",
     "text": [
      "\r",
      "                                                                               \r",
      "\r",
      "  9% 371 |#####                                                     |   4.5 B/s"
     ]
    },
    {
     "name": "stdout",
     "output_type": "stream",
     "text": [
      "skipping record wih invalid buffers in snapshot 469968, filename 2018-08-13--11-34-52--411 and camera [-0.0599999986588955, 33.5, 6.07649993896484]\n"
     ]
    },
    {
     "name": "stderr",
     "output_type": "stream",
     "text": [
      "  9% 373 |#####                                                     |   4.5 B/s"
     ]
    },
    {
     "name": "stdout",
     "output_type": "stream",
     "text": [
      "skipping record wih invalid buffers in snapshot 469969, filename 2018-08-13--11-34-52--682 and camera [-16.0599994659424, 17.5, 6.07649993896484]\n",
      "skipping record wih invalid buffers in snapshot 469970, filename 2018-08-13--11-34-52--985 and camera [0.480000019073486, 1.5, 1.07649993896484]\n",
      "skipping record wih invalid buffers in snapshot 469971, filename 2018-08-13--11-34-53--279 and camera [-0.0599999986588955, 17.5, 25.0764999389648]\n"
     ]
    },
    {
     "name": "stderr",
     "output_type": "stream",
     "text": [
      "  9% 376 |#####                                                     |   4.5 B/s"
     ]
    },
    {
     "name": "stdout",
     "output_type": "stream",
     "text": [
      "skipping record wih invalid buffers in snapshot 469972, filename 2018-08-13--11-34-53--712 and camera [-0.0599999986588955, 1.5, 1.07649993896484]\n",
      "skipping record wih invalid buffers in snapshot 469973, filename 2018-08-13--11-34-53--967 and camera [15.9399995803833, 17.5, 6.07649993896484]\n"
     ]
    },
    {
     "name": "stderr",
     "output_type": "stream",
     "text": [
      "\r",
      "                                                                               \r",
      "\r",
      "  9% 377 |#####                                                     |   4.5 B/s"
     ]
    },
    {
     "name": "stdout",
     "output_type": "stream",
     "text": [
      "skipping record wih invalid buffers in snapshot 469974, filename 2018-08-13--11-34-54--270 and camera [-0.0599999986588955, 33.5, 6.07649993896484]\n"
     ]
    },
    {
     "name": "stderr",
     "output_type": "stream",
     "text": [
      "\r",
      "                                                                               \r",
      "\r",
      "  9% 378 |#####                                                     |   4.5 B/s"
     ]
    },
    {
     "name": "stdout",
     "output_type": "stream",
     "text": [
      "skipping record wih invalid buffers in snapshot 469976, filename 2018-08-13--11-34-54--809 and camera [0.480000019073486, 1.5, 1.07649993896484]\n"
     ]
    },
    {
     "name": "stderr",
     "output_type": "stream",
     "text": [
      "  9% 380 |#####                                                     |   4.5 B/s"
     ]
    },
    {
     "name": "stdout",
     "output_type": "stream",
     "text": [
      "skipping record wih invalid buffers in snapshot 469977, filename 2018-08-13--11-34-55--098 and camera [-0.0599999986588955, 17.5, 25.0764999389648]\n"
     ]
    },
    {
     "name": "stderr",
     "output_type": "stream",
     "text": [
      "\r",
      "                                                                               \r",
      "\r",
      "  9% 383 |#####                                                     |   4.5 B/s"
     ]
    },
    {
     "name": "stdout",
     "output_type": "stream",
     "text": [
      "skipping record wih invalid buffers in snapshot 469978, filename 2018-08-13--11-34-55--547 and camera [-0.0599999986588955, 1.5, 1.07649993896484]\n",
      "skipping record wih invalid buffers in snapshot 469979, filename 2018-08-13--11-34-55--814 and camera [15.9399995803833, 17.5, 6.07649993896484]\n",
      "skipping record wih invalid buffers in snapshot 469980, filename 2018-08-13--11-34-56--113 and camera [-0.0599999986588955, 33.5, 6.07649993896484]\n",
      "skipping record wih invalid buffers in snapshot 469981, filename 2018-08-13--11-34-56--366 and camera [-16.0599994659424, 17.5, 6.07649993896484]\n"
     ]
    },
    {
     "name": "stderr",
     "output_type": "stream",
     "text": [
      "\r",
      "                                                                               \r",
      "\r",
      " 10% 385 |#####                                                     |   4.5 B/s"
     ]
    },
    {
     "name": "stdout",
     "output_type": "stream",
     "text": [
      "skipping record wih invalid buffers in snapshot 469982, filename 2018-08-13--11-34-56--642 and camera [0.480000019073486, 1.5, 1.07649993896484]\n"
     ]
    },
    {
     "name": "stderr",
     "output_type": "stream",
     "text": [
      "\r",
      "                                                                               \r",
      "\r",
      " 10% 386 |#####                                                     |   4.5 B/s"
     ]
    },
    {
     "name": "stdout",
     "output_type": "stream",
     "text": [
      "skipping record wih invalid buffers in snapshot 469983, filename 2018-08-13--11-34-56--934 and camera [-0.0599999986588955, 17.5, 25.0764999389648]\n"
     ]
    },
    {
     "name": "stderr",
     "output_type": "stream",
     "text": [
      " 26% 1014 |###############                                          |   4.1 B/s"
     ]
    },
    {
     "name": "stdout",
     "output_type": "stream",
     "text": [
      "skipping record wih invalid buffers in snapshot 470613, filename 2018-08-13--11-38-27--875 and camera [-0.0599999986588955, 17.5, 25.0764999389648]\n"
     ]
    },
    {
     "name": "stderr",
     "output_type": "stream",
     "text": [
      " 26% 1017 |###############                                          |   4.1 B/s"
     ]
    },
    {
     "name": "stdout",
     "output_type": "stream",
     "text": [
      "skipping record wih invalid buffers in snapshot 470614, filename 2018-08-13--11-38-28--300 and camera [-0.0599999986588955, 1.5, 1.07649993896484]\n",
      "skipping record wih invalid buffers in snapshot 470615, filename 2018-08-13--11-38-28--566 and camera [15.9399995803833, 17.5, 6.07649993896484]\n"
     ]
    },
    {
     "name": "stderr",
     "output_type": "stream",
     "text": [
      " 26% 1020 |###############                                          |   4.1 B/s"
     ]
    },
    {
     "name": "stdout",
     "output_type": "stream",
     "text": [
      "skipping record wih invalid buffers in snapshot 470616, filename 2018-08-13--11-38-28--850 and camera [-0.0599999986588955, 33.5, 6.07649993896484]\n",
      "skipping record wih invalid buffers in snapshot 470618, filename 2018-08-13--11-38-29--401 and camera [0.480000019073486, 1.5, 1.07649993896484]\n",
      "skipping record wih invalid buffers in snapshot 470617, filename 2018-08-13--11-38-29--109 and camera [-16.0599994659424, 17.5, 6.07649993896484]\n"
     ]
    },
    {
     "name": "stderr",
     "output_type": "stream",
     "text": [
      " 26% 1023 |###############                                          |   4.1 B/s"
     ]
    },
    {
     "name": "stdout",
     "output_type": "stream",
     "text": [
      "skipping record wih invalid buffers in snapshot 470619, filename 2018-08-13--11-38-29--691 and camera [-0.0599999986588955, 17.5, 25.0764999389648]\n",
      "skipping record wih invalid buffers in snapshot 470620, filename 2018-08-13--11-38-30--118 and camera [-0.0599999986588955, 1.5, 1.07649993896484]\n"
     ]
    },
    {
     "name": "stderr",
     "output_type": "stream",
     "text": [
      "\r",
      "                                                                               \r",
      "\r",
      " 26% 1024 |###############                                          |   4.1 B/s"
     ]
    },
    {
     "name": "stdout",
     "output_type": "stream",
     "text": [
      "skipping record wih invalid buffers in snapshot 470621, filename 2018-08-13--11-38-30--398 and camera [15.9399995803833, 17.5, 6.07649993896484]\n"
     ]
    },
    {
     "name": "stderr",
     "output_type": "stream",
     "text": [
      " 26% 1026 |###############                                          |   4.1 B/s"
     ]
    },
    {
     "name": "stdout",
     "output_type": "stream",
     "text": [
      "skipping record wih invalid buffers in snapshot 470622, filename 2018-08-13--11-38-30--716 and camera [-0.0599999986588955, 33.5, 6.07649993896484]\n",
      "skipping record wih invalid buffers in snapshot 470623, filename 2018-08-13--11-38-30--987 and camera [-16.0599994659424, 17.5, 6.07649993896484]\n",
      "skipping record wih invalid buffers in snapshot 470624, filename 2018-08-13--11-38-31--352 and camera [0.480000019073486, 1.5, 1.07649993896484]\n"
     ]
    },
    {
     "name": "stderr",
     "output_type": "stream",
     "text": [
      "\r",
      "                                                                               \r",
      "\r",
      " 26% 1028 |###############                                          |   4.1 B/s"
     ]
    },
    {
     "name": "stdout",
     "output_type": "stream",
     "text": [
      "skipping record wih invalid buffers in snapshot 470625, filename 2018-08-13--11-38-31--647 and camera [-0.0599999986588955, 17.5, 25.0764999389648]\n",
      "skipping record wih invalid buffers in snapshot 470626, filename 2018-08-13--11-38-32--093 and camera [-0.0599999986588955, 1.5, 1.07649993896484]\n"
     ]
    },
    {
     "name": "stderr",
     "output_type": "stream",
     "text": [
      "\r",
      "                                                                               \r",
      "\r",
      " 26% 1030 |###############                                          |   4.1 B/s"
     ]
    },
    {
     "name": "stdout",
     "output_type": "stream",
     "text": [
      "skipping record wih invalid buffers in snapshot 470627, filename 2018-08-13--11-38-32--359 and camera [15.9399995803833, 17.5, 6.07649993896484]\n",
      "skipping record wih invalid buffers in snapshot 470628, filename 2018-08-13--11-38-32--637 and camera [-0.0599999986588955, 33.5, 6.07649993896484]\n"
     ]
    },
    {
     "name": "stderr",
     "output_type": "stream",
     "text": [
      "\r",
      "                                                                               \r",
      "\r",
      " 26% 1032 |###############                                          |   4.1 B/s"
     ]
    },
    {
     "name": "stdout",
     "output_type": "stream",
     "text": [
      "skipping record wih invalid buffers in snapshot 470629, filename 2018-08-13--11-38-32--943 and camera [-16.0599994659424, 17.5, 6.07649993896484]\n"
     ]
    },
    {
     "name": "stderr",
     "output_type": "stream",
     "text": [
      " 26% 1034 |###############                                          |   4.1 B/s"
     ]
    },
    {
     "name": "stdout",
     "output_type": "stream",
     "text": [
      "skipping record wih invalid buffers in snapshot 470631, filename 2018-08-13--11-38-33--486 and camera [-0.0599999986588955, 17.5, 25.0764999389648]\n",
      "skipping record wih invalid buffers in snapshot 470630, filename 2018-08-13--11-38-33--213 and camera [0.480000019073486, 1.5, 1.07649993896484]\n"
     ]
    },
    {
     "name": "stderr",
     "output_type": "stream",
     "text": [
      " 27% 1037 |###############                                          |   4.1 B/s"
     ]
    },
    {
     "name": "stdout",
     "output_type": "stream",
     "text": [
      "skipping record wih invalid buffers in snapshot 470632, filename 2018-08-13--11-38-33--943 and camera [-0.0599999986588955, 1.5, 1.07649993896484]\n",
      "skipping record wih invalid buffers in snapshot 470633, filename 2018-08-13--11-38-34--281 and camera [15.9399995803833, 17.5, 6.07649993896484]\n",
      "skipping record wih invalid buffers in snapshot 470634, filename 2018-08-13--11-38-34--562 and camera [-0.0599999986588955, 33.5, 6.07649993896484]\n"
     ]
    },
    {
     "name": "stderr",
     "output_type": "stream",
     "text": [
      " 27% 1039 |###############                                          |   4.1 B/s"
     ]
    },
    {
     "name": "stdout",
     "output_type": "stream",
     "text": [
      "skipping record wih invalid buffers in snapshot 470635, filename 2018-08-13--11-38-34--863 and camera [-16.0599994659424, 17.5, 6.07649993896484]\n",
      "skipping record wih invalid buffers in snapshot 470636, filename 2018-08-13--11-38-35--140 and camera [0.480000019073486, 1.5, 1.07649993896484]\n",
      "skipping record wih invalid buffers in snapshot 470637, filename 2018-08-13--11-38-35--452 and camera [-0.0599999986588955, 17.5, 25.0764999389648]\n"
     ]
    },
    {
     "name": "stderr",
     "output_type": "stream",
     "text": [
      " 27% 1042 |###############                                          |   4.1 B/s"
     ]
    },
    {
     "name": "stdout",
     "output_type": "stream",
     "text": [
      "skipping record wih invalid buffers in snapshot 470638, filename 2018-08-13--11-38-35--907 and camera [-0.0599999986588955, 1.5, 1.07649993896484]\n",
      "skipping record wih invalid buffers in snapshot 470639, filename 2018-08-13--11-38-36--175 and camera [15.9399995803833, 17.5, 6.07649993896484]\n",
      "skipping record wih invalid buffers in snapshot 470641, filename 2018-08-13--11-38-36--779 and camera [-16.0599994659424, 17.5, 6.07649993896484]\n"
     ]
    },
    {
     "name": "stderr",
     "output_type": "stream",
     "text": [
      " 27% 1045 |###############                                          |   4.1 B/s"
     ]
    },
    {
     "name": "stdout",
     "output_type": "stream",
     "text": [
      "skipping record wih invalid buffers in snapshot 470640, filename 2018-08-13--11-38-36--469 and camera [-0.0599999986588955, 33.5, 6.07649993896484]\n",
      "skipping record wih invalid buffers in snapshot 470642, filename 2018-08-13--11-38-37--043 and camera [0.480000019073486, 1.5, 1.07649993896484]\n"
     ]
    },
    {
     "name": "stderr",
     "output_type": "stream",
     "text": [
      " 27% 1047 |###############                                          |   4.1 B/s"
     ]
    },
    {
     "name": "stdout",
     "output_type": "stream",
     "text": [
      "skipping record wih invalid buffers in snapshot 470643, filename 2018-08-13--11-38-37--355 and camera [-0.0599999986588955, 17.5, 25.0764999389648]\n",
      "skipping record wih invalid buffers in snapshot 470645, filename 2018-08-13--11-38-38--083 and camera [15.9399995803833, 17.5, 6.07649993896484]\n",
      "skipping record wih invalid buffers in snapshot 470644, filename 2018-08-13--11-38-37--808 and camera [-0.0599999986588955, 1.5, 1.07649993896484]\n"
     ]
    },
    {
     "name": "stderr",
     "output_type": "stream",
     "text": [
      "\r",
      "                                                                               \r",
      "\r",
      " 27% 1049 |###############                                          |   4.1 B/s"
     ]
    },
    {
     "name": "stdout",
     "output_type": "stream",
     "text": [
      "skipping record wih invalid buffers in snapshot 470646, filename 2018-08-13--11-38-38--341 and camera [-0.0599999986588955, 33.5, 6.07649993896484]\n"
     ]
    },
    {
     "name": "stderr",
     "output_type": "stream",
     "text": [
      " 27% 1052 |###############                                          |   4.1 B/s"
     ]
    },
    {
     "name": "stdout",
     "output_type": "stream",
     "text": [
      "skipping record wih invalid buffers in snapshot 470648, filename 2018-08-13--11-38-38--956 and camera [0.480000019073486, 1.5, 1.07649993896484]\n",
      "skipping record wih invalid buffers in snapshot 470647, filename 2018-08-13--11-38-38--624 and camera [-16.0599994659424, 17.5, 6.07649993896484]\n",
      "skipping record wih invalid buffers in snapshot 470650, filename 2018-08-13--11-38-39--636 and camera [-0.0599999986588955, 1.5, 1.07649993896484]\n",
      "skipping record wih invalid buffers in snapshot 470649, filename 2018-08-13--11-38-39--229 and camera [-0.0599999986588955, 17.5, 25.0764999389648]\n"
     ]
    },
    {
     "name": "stderr",
     "output_type": "stream",
     "text": [
      "\r",
      "                                                                               \r",
      "\r",
      " 27% 1054 |###############                                          |   4.1 B/s"
     ]
    },
    {
     "name": "stdout",
     "output_type": "stream",
     "text": [
      "skipping record wih invalid buffers in snapshot 470652, filename 2018-08-13--11-38-40--280 and camera [-0.0599999986588955, 33.5, 6.07649993896484]\n",
      "skipping record wih invalid buffers in snapshot 470651, filename 2018-08-13--11-38-39--991 and camera [15.9399995803833, 17.5, 6.07649993896484]\n",
      "skipping record wih invalid buffers in snapshot 470653, filename 2018-08-13--11-38-40--630 and camera [-16.0599994659424, 17.5, 6.07649993896484]\n"
     ]
    },
    {
     "name": "stderr",
     "output_type": "stream",
     "text": [
      "\r",
      "                                                                               \r",
      "\r",
      " 27% 1057 |###############                                          |   4.1 B/s"
     ]
    },
    {
     "name": "stdout",
     "output_type": "stream",
     "text": [
      "skipping record wih invalid buffers in snapshot 470654, filename 2018-08-13--11-38-40--949 and camera [0.480000019073486, 1.5, 1.07649993896484]\n"
     ]
    },
    {
     "name": "stderr",
     "output_type": "stream",
     "text": [
      "\r",
      "                                                                               \r",
      "\r",
      " 27% 1058 |###############                                          |   4.1 B/s"
     ]
    },
    {
     "name": "stdout",
     "output_type": "stream",
     "text": [
      "skipping record wih invalid buffers in snapshot 470657, filename 2018-08-13--11-38-41--994 and camera [15.9399995803833, 17.5, 6.07649993896484]\n",
      "skipping record wih invalid buffers in snapshot 470655, filename 2018-08-13--11-38-41--218 and camera [-0.0599999986588955, 17.5, 25.0764999389648]\n",
      "skipping record wih invalid buffers in snapshot 470656, filename 2018-08-13--11-38-41--689 and camera [-0.0599999986588955, 1.5, 1.07649993896484]\n",
      "skipping record wih invalid buffers in snapshot 470658, filename 2018-08-13--11-38-42--253 and camera [-0.0599999986588955, 33.5, 6.07649993896484]\n"
     ]
    },
    {
     "name": "stderr",
     "output_type": "stream",
     "text": [
      "\r",
      "                                                                               \r",
      "\r",
      " 27% 1062 |###############                                          |   4.1 B/s"
     ]
    },
    {
     "name": "stdout",
     "output_type": "stream",
     "text": [
      "skipping record wih invalid buffers in snapshot 470660, filename 2018-08-13--11-38-42--872 and camera [0.480000019073486, 1.5, 1.07649993896484]\n"
     ]
    },
    {
     "name": "stderr",
     "output_type": "stream",
     "text": [
      " 27% 1064 |###############                                          |   4.1 B/s"
     ]
    },
    {
     "name": "stdout",
     "output_type": "stream",
     "text": [
      "skipping record wih invalid buffers in snapshot 470661, filename 2018-08-13--11-38-43--195 and camera [-0.0599999986588955, 17.5, 25.0764999389648]\n",
      "skipping record wih invalid buffers in snapshot 470659, filename 2018-08-13--11-38-42--557 and camera [-16.0599994659424, 17.5, 6.07649993896484]\n"
     ]
    },
    {
     "name": "stderr",
     "output_type": "stream",
     "text": [
      "\r",
      "                                                                               \r",
      "\r",
      " 27% 1065 |###############                                          |   4.1 B/s"
     ]
    },
    {
     "name": "stdout",
     "output_type": "stream",
     "text": [
      "skipping record wih invalid buffers in snapshot 470662, filename 2018-08-13--11-38-43--628 and camera [-0.0599999986588955, 1.5, 1.07649993896484]\n"
     ]
    },
    {
     "name": "stderr",
     "output_type": "stream",
     "text": [
      " 27% 1069 |###############                                          |   4.1 B/s"
     ]
    },
    {
     "name": "stdout",
     "output_type": "stream",
     "text": [
      "skipping record wih invalid buffers in snapshot 470665, filename 2018-08-13--11-38-44--513 and camera [-16.0599994659424, 17.5, 6.07649993896484]\n",
      "skipping record wih invalid buffers in snapshot 470663, filename 2018-08-13--11-38-43--912 and camera [15.9399995803833, 17.5, 6.07649993896484]\n",
      "skipping record wih invalid buffers in snapshot 470667, filename 2018-08-13--11-38-45--087 and camera [-0.0599999986588955, 17.5, 25.0764999389648]\n",
      "skipping record wih invalid buffers in snapshot 470666, filename 2018-08-13--11-38-44--805 and camera [0.480000019073486, 1.5, 1.07649993896484]\n",
      "skipping record wih invalid buffers in snapshot 470664, filename 2018-08-13--11-38-44--230 and camera [-0.0599999986588955, 33.5, 6.07649993896484]\n"
     ]
    },
    {
     "name": "stderr",
     "output_type": "stream",
     "text": [
      "\r",
      "                                                                               \r",
      "\r",
      " 27% 1071 |###############                                          |   4.1 B/s"
     ]
    },
    {
     "name": "stdout",
     "output_type": "stream",
     "text": [
      "skipping record wih invalid buffers in snapshot 470668, filename 2018-08-13--11-38-45--499 and camera [-0.0599999986588955, 1.5, 1.07649993896484]\n"
     ]
    },
    {
     "name": "stderr",
     "output_type": "stream",
     "text": [
      "\r",
      "                                                                               \r",
      "\r",
      " 27% 1072 |###############                                          |   4.1 B/s"
     ]
    },
    {
     "name": "stdout",
     "output_type": "stream",
     "text": [
      "skipping record wih invalid buffers in snapshot 470670, filename 2018-08-13--11-38-46--096 and camera [-0.0599999986588955, 33.5, 6.07649993896484]\n",
      "skipping record wih invalid buffers in snapshot 470669, filename 2018-08-13--11-38-45--792 and camera [15.9399995803833, 17.5, 6.07649993896484]\n"
     ]
    },
    {
     "name": "stderr",
     "output_type": "stream",
     "text": [
      "\r",
      "                                                                               \r",
      "\r",
      " 27% 1074 |###############                                          |   4.1 B/s"
     ]
    },
    {
     "name": "stdout",
     "output_type": "stream",
     "text": [
      "skipping record wih invalid buffers in snapshot 470671, filename 2018-08-13--11-38-46--358 and camera [-16.0599994659424, 17.5, 6.07649993896484]\n",
      "skipping record wih invalid buffers in snapshot 470672, filename 2018-08-13--11-38-46--646 and camera [0.480000019073486, 1.5, 1.07649993896484]\n"
     ]
    },
    {
     "name": "stderr",
     "output_type": "stream",
     "text": [
      "\r",
      "                                                                               \r",
      "\r",
      " 28% 1076 |###############                                          |   4.1 B/s"
     ]
    },
    {
     "name": "stdout",
     "output_type": "stream",
     "text": [
      "skipping record wih invalid buffers in snapshot 470673, filename 2018-08-13--11-38-46--942 and camera [-0.0599999986588955, 17.5, 25.0764999389648]\n",
      "skipping record wih invalid buffers in snapshot 470675, filename 2018-08-13--11-38-47--671 and camera [15.9399995803833, 17.5, 6.07649993896484]\n"
     ]
    },
    {
     "name": "stderr",
     "output_type": "stream",
     "text": [
      "\r",
      "                                                                               \r",
      "\r",
      " 28% 1078 |################                                         |   4.1 B/s"
     ]
    },
    {
     "name": "stdout",
     "output_type": "stream",
     "text": [
      "skipping record wih invalid buffers in snapshot 470678, filename 2018-08-13--11-38-48--576 and camera [0.480000019073486, 1.5, 1.07649993896484]\n",
      "skipping record wih invalid buffers in snapshot 470674, filename 2018-08-13--11-38-47--405 and camera [-0.0599999986588955, 1.5, 1.07649993896484]\n",
      "skipping record wih invalid buffers in snapshot 470676, filename 2018-08-13--11-38-47--981 and camera [-0.0599999986588955, 33.5, 6.07649993896484]\n"
     ]
    },
    {
     "name": "stderr",
     "output_type": "stream",
     "text": [
      "\r",
      "                                                                               \r",
      "\r",
      " 28% 1081 |################                                         |   4.1 B/s"
     ]
    },
    {
     "name": "stdout",
     "output_type": "stream",
     "text": [
      "skipping record wih invalid buffers in snapshot 470677, filename 2018-08-13--11-38-48--276 and camera [-16.0599994659424, 17.5, 6.07649993896484]\n"
     ]
    },
    {
     "name": "stderr",
     "output_type": "stream",
     "text": [
      "\r",
      "                                                                               \r",
      "\r",
      " 28% 1082 |################                                         |   4.1 B/s"
     ]
    },
    {
     "name": "stdout",
     "output_type": "stream",
     "text": [
      "skipping record wih invalid buffers in snapshot 470679, filename 2018-08-13--11-38-48--860 and camera [-0.0599999986588955, 17.5, 25.0764999389648]\n",
      "skipping record wih invalid buffers in snapshot 470680, filename 2018-08-13--11-38-49--306 and camera [-0.0599999986588955, 1.5, 1.07649993896484]\n"
     ]
    },
    {
     "name": "stderr",
     "output_type": "stream",
     "text": [
      " 28% 1087 |################                                         |   4.1 B/s"
     ]
    },
    {
     "name": "stdout",
     "output_type": "stream",
     "text": [
      "skipping record wih invalid buffers in snapshot 470681, filename 2018-08-13--11-38-49--604 and camera [15.9399995803833, 17.5, 6.07649993896484]\n",
      "skipping record wih invalid buffers in snapshot 470682, filename 2018-08-13--11-38-49--877 and camera [-0.0599999986588955, 33.5, 6.07649993896484]\n",
      "skipping record wih invalid buffers in snapshot 470685, filename 2018-08-13--11-38-50--738 and camera [-0.0599999986588955, 17.5, 25.0764999389648]\n",
      "skipping record wih invalid buffers in snapshot 470686, filename 2018-08-13--11-38-51--188 and camera [-0.0599999986588955, 1.5, 1.07649993896484]\n",
      "skipping record wih invalid buffers in snapshot 470684, filename 2018-08-13--11-38-50--426 and camera [0.480000019073486, 1.5, 1.07649993896484]\n",
      "skipping record wih invalid buffers in snapshot 470683, filename 2018-08-13--11-38-50--173 and camera [-16.0599994659424, 17.5, 6.07649993896484]\n"
     ]
    },
    {
     "name": "stderr",
     "output_type": "stream",
     "text": [
      "\r",
      "                                                                               \r",
      "\r",
      " 28% 1090 |################                                         |   4.1 B/s"
     ]
    },
    {
     "name": "stdout",
     "output_type": "stream",
     "text": [
      "skipping record wih invalid buffers in snapshot 470689, filename 2018-08-13--11-38-52--024 and camera [-16.0599994659424, 17.5, 6.07649993896484]\n",
      "skipping record wih invalid buffers in snapshot 470687, filename 2018-08-13--11-38-51--462 and camera [15.9399995803833, 17.5, 6.07649993896484]\n",
      "skipping record wih invalid buffers in snapshot 470691, filename 2018-08-13--11-38-52--601 and camera [-0.0599999986588955, 17.5, 25.0764999389648]\n"
     ]
    },
    {
     "name": "stderr",
     "output_type": "stream",
     "text": [
      " 28% 1094 |################                                         |   4.1 B/s"
     ]
    },
    {
     "name": "stdout",
     "output_type": "stream",
     "text": [
      "skipping record wih invalid buffers in snapshot 470688, filename 2018-08-13--11-38-51--742 and camera [-0.0599999986588955, 33.5, 6.07649993896484]\n",
      "skipping record wih invalid buffers in snapshot 470690, filename 2018-08-13--11-38-52--293 and camera [0.480000019073486, 1.5, 1.07649993896484]\n"
     ]
    },
    {
     "name": "stderr",
     "output_type": "stream",
     "text": [
      " 56% 2180 |################################                         |   4.0 B/s"
     ]
    },
    {
     "name": "stdout",
     "output_type": "stream",
     "text": [
      "skipping record wih invalid buffers in snapshot 471777, filename 2018-08-13--11-44-59--956 and camera [-0.0599999986588955, 17.5, 25.0764999389648]\n"
     ]
    },
    {
     "name": "stderr",
     "output_type": "stream",
     "text": [
      "\r",
      "                                                                               \r",
      "\r",
      " 56% 2181 |################################                         |   4.0 B/s"
     ]
    },
    {
     "name": "stdout",
     "output_type": "stream",
     "text": [
      "skipping record wih invalid buffers in snapshot 471778, filename 2018-08-13--11-45-00--381 and camera [-0.0599999986588955, 1.5, 1.07649993896484]\n"
     ]
    },
    {
     "name": "stderr",
     "output_type": "stream",
     "text": [
      " 56% 2183 |################################                         |   4.0 B/s"
     ]
    },
    {
     "name": "stdout",
     "output_type": "stream",
     "text": [
      "skipping record wih invalid buffers in snapshot 471780, filename 2018-08-13--11-45-01--006 and camera [-0.0599999986588955, 33.5, 6.07649993896484]\n",
      "skipping record wih invalid buffers in snapshot 471779, filename 2018-08-13--11-45-00--698 and camera [15.9399995803833, 17.5, 6.07649993896484]\n",
      "skipping record wih invalid buffers in snapshot 471781, filename 2018-08-13--11-45-01--291 and camera [-16.0599994659424, 17.5, 6.07649993896484]\n"
     ]
    },
    {
     "name": "stderr",
     "output_type": "stream",
     "text": [
      " 56% 2186 |################################                         |   4.0 B/s"
     ]
    },
    {
     "name": "stdout",
     "output_type": "stream",
     "text": [
      "skipping record wih invalid buffers in snapshot 471782, filename 2018-08-13--11-45-01--571 and camera [0.480000019073486, 1.5, 1.07649993896484]\n",
      "skipping record wih invalid buffers in snapshot 471785, filename 2018-08-13--11-45-02--611 and camera [15.9399995803833, 17.5, 6.07649993896484]\n"
     ]
    },
    {
     "name": "stderr",
     "output_type": "stream",
     "text": [
      " 56% 2188 |################################                         |   4.0 B/s"
     ]
    },
    {
     "name": "stdout",
     "output_type": "stream",
     "text": [
      "skipping record wih invalid buffers in snapshot 471783, filename 2018-08-13--11-45-01--870 and camera [-0.0599999986588955, 17.5, 25.0764999389648]\n",
      "skipping record wih invalid buffers in snapshot 471784, filename 2018-08-13--11-45-02--327 and camera [-0.0599999986588955, 1.5, 1.07649993896484]\n"
     ]
    },
    {
     "name": "stderr",
     "output_type": "stream",
     "text": [
      " 57% 2190 |################################                         |   4.0 B/s"
     ]
    },
    {
     "name": "stdout",
     "output_type": "stream",
     "text": [
      "skipping record wih invalid buffers in snapshot 471786, filename 2018-08-13--11-45-02--947 and camera [-0.0599999986588955, 33.5, 6.07649993896484]\n",
      "skipping record wih invalid buffers in snapshot 471787, filename 2018-08-13--11-45-03--251 and camera [-16.0599994659424, 17.5, 6.07649993896484]\n"
     ]
    },
    {
     "name": "stderr",
     "output_type": "stream",
     "text": [
      " 57% 2194 |################################                         |   4.0 B/s"
     ]
    },
    {
     "name": "stdout",
     "output_type": "stream",
     "text": [
      "skipping record wih invalid buffers in snapshot 471789, filename 2018-08-13--11-45-03--854 and camera [-0.0599999986588955, 17.5, 25.0764999389648]\n",
      "skipping record wih invalid buffers in snapshot 471788, filename 2018-08-13--11-45-03--531 and camera [0.480000019073486, 1.5, 1.07649993896484]\n",
      "skipping record wih invalid buffers in snapshot 471791, filename 2018-08-13--11-45-04--620 and camera [15.9399995803833, 17.5, 6.07649993896484]\n",
      "skipping record wih invalid buffers in snapshot 471790, filename 2018-08-13--11-45-04--307 and camera [-0.0599999986588955, 1.5, 1.07649993896484]\n"
     ]
    },
    {
     "name": "stderr",
     "output_type": "stream",
     "text": [
      " 57% 2196 |################################                         |   4.0 B/s"
     ]
    },
    {
     "name": "stdout",
     "output_type": "stream",
     "text": [
      "skipping record wih invalid buffers in snapshot 471792, filename 2018-08-13--11-45-04--891 and camera [-0.0599999986588955, 33.5, 6.07649993896484]\n",
      "skipping record wih invalid buffers in snapshot 471793, filename 2018-08-13--11-45-05--193 and camera [-16.0599994659424, 17.5, 6.07649993896484]\n"
     ]
    },
    {
     "name": "stderr",
     "output_type": "stream",
     "text": [
      " 57% 2200 |################################                         |   4.0 B/s"
     ]
    },
    {
     "name": "stdout",
     "output_type": "stream",
     "text": [
      "skipping record wih invalid buffers in snapshot 471798, filename 2018-08-13--11-45-06--796 and camera [-0.0599999986588955, 33.5, 6.07649993896484]\n",
      "skipping record wih invalid buffers in snapshot 471796, filename 2018-08-13--11-45-06--190 and camera [-0.0599999986588955, 1.5, 1.07649993896484]\n",
      "skipping record wih invalid buffers in snapshot 471794, filename 2018-08-13--11-45-05--478 and camera [0.480000019073486, 1.5, 1.07649993896484]\n",
      "skipping record wih invalid buffers in snapshot 471795, filename 2018-08-13--11-45-05--756 and camera [-0.0599999986588955, 17.5, 25.0764999389648]\n"
     ]
    },
    {
     "name": "stderr",
     "output_type": "stream",
     "text": [
      "\r",
      "                                                                               \r",
      "\r",
      " 57% 2201 |################################                         |   4.0 B/s"
     ]
    },
    {
     "name": "stdout",
     "output_type": "stream",
     "text": [
      "skipping record wih invalid buffers in snapshot 471799, filename 2018-08-13--11-45-07--047 and camera [-16.0599994659424, 17.5, 6.07649993896484]\n",
      "skipping record wih invalid buffers in snapshot 471797, filename 2018-08-13--11-45-06--479 and camera [15.9399995803833, 17.5, 6.07649993896484]\n"
     ]
    },
    {
     "name": "stderr",
     "output_type": "stream",
     "text": [
      "\r",
      "                                                                               \r",
      "\r",
      " 57% 2203 |################################                         |   4.0 B/s"
     ]
    },
    {
     "name": "stdout",
     "output_type": "stream",
     "text": [
      "skipping record wih invalid buffers in snapshot 471801, filename 2018-08-13--11-45-07--696 and camera [-0.0599999986588955, 17.5, 25.0764999389648]\n",
      "skipping record wih invalid buffers in snapshot 471800, filename 2018-08-13--11-45-07--384 and camera [0.480000019073486, 1.5, 1.07649993896484]\n"
     ]
    },
    {
     "name": "stderr",
     "output_type": "stream",
     "text": [
      "\r",
      "                                                                               \r",
      "\r",
      " 57% 2205 |################################                         |   4.0 B/s"
     ]
    },
    {
     "name": "stdout",
     "output_type": "stream",
     "text": [
      "skipping record wih invalid buffers in snapshot 471805, filename 2018-08-13--11-45-08--967 and camera [-16.0599994659424, 17.5, 6.07649993896484]\n",
      "skipping record wih invalid buffers in snapshot 471802, filename 2018-08-13--11-45-08--111 and camera [-0.0599999986588955, 1.5, 1.07649993896484]\n"
     ]
    },
    {
     "name": "stderr",
     "output_type": "stream",
     "text": [
      " 57% 2208 |################################                         |   4.0 B/s"
     ]
    },
    {
     "name": "stdout",
     "output_type": "stream",
     "text": [
      "skipping record wih invalid buffers in snapshot 471804, filename 2018-08-13--11-45-08--701 and camera [-0.0599999986588955, 33.5, 6.07649993896484]\n",
      "skipping record wih invalid buffers in snapshot 471803, filename 2018-08-13--11-45-08--400 and camera [15.9399995803833, 17.5, 6.07649993896484]\n"
     ]
    },
    {
     "name": "stderr",
     "output_type": "stream",
     "text": [
      "\r",
      "                                                                               \r",
      "\r",
      " 57% 2209 |################################                         |   4.0 B/s"
     ]
    },
    {
     "name": "stdout",
     "output_type": "stream",
     "text": [
      "skipping record wih invalid buffers in snapshot 471807, filename 2018-08-13--11-45-09--575 and camera [-0.0599999986588955, 17.5, 25.0764999389648]\n",
      "skipping record wih invalid buffers in snapshot 471809, filename 2018-08-13--11-45-10--318 and camera [15.9399995803833, 17.5, 6.07649993896484]\n",
      "skipping record wih invalid buffers in snapshot 471806, filename 2018-08-13--11-45-09--264 and camera [0.480000019073486, 1.5, 1.07649993896484]\n",
      "skipping record wih invalid buffers in snapshot 471808, filename 2018-08-13--11-45-10--037 and camera [-0.0599999986588955, 1.5, 1.07649993896484]\n"
     ]
    },
    {
     "name": "stderr",
     "output_type": "stream",
     "text": [
      " 57% 2214 |################################                         |   4.0 B/s"
     ]
    },
    {
     "name": "stdout",
     "output_type": "stream",
     "text": [
      "skipping record wih invalid buffers in snapshot 471810, filename 2018-08-13--11-45-10--611 and camera [-0.0599999986588955, 33.5, 6.07649993896484]\n",
      "skipping record wih invalid buffers in snapshot 471813, filename 2018-08-13--11-45-11--506 and camera [-0.0599999986588955, 17.5, 25.0764999389648]\n",
      "skipping record wih invalid buffers in snapshot 471811, filename 2018-08-13--11-45-10--928 and camera [-16.0599994659424, 17.5, 6.07649993896484]\n",
      "skipping record wih invalid buffers in snapshot 471812, filename 2018-08-13--11-45-11--197 and camera [0.480000019073486, 1.5, 1.07649993896484]\n"
     ]
    },
    {
     "name": "stderr",
     "output_type": "stream",
     "text": [
      " 57% 2220 |################################                         |   4.0 B/s"
     ]
    },
    {
     "name": "stdout",
     "output_type": "stream",
     "text": [
      "skipping record wih invalid buffers in snapshot 471816, filename 2018-08-13--11-45-12--810 and camera [-0.0599999986588955, 33.5, 6.07649993896484]\n",
      "skipping record wih invalid buffers in snapshot 471815, filename 2018-08-13--11-45-12--221 and camera [15.9399995803833, 17.5, 6.07649993896484]\n",
      "skipping record wih invalid buffers in snapshot 471817, filename 2018-08-13--11-45-13--138 and camera [-16.0599994659424, 17.5, 6.07649993896484]\n",
      "skipping record wih invalid buffers in snapshot 471814, filename 2018-08-13--11-45-11--968 and camera [-0.0599999986588955, 1.5, 1.07649993896484]\n"
     ]
    },
    {
     "name": "stderr",
     "output_type": "stream",
     "text": [
      "\r",
      "                                                                               \r",
      "\r",
      " 57% 2221 |################################                         |   4.0 B/s"
     ]
    },
    {
     "name": "stdout",
     "output_type": "stream",
     "text": [
      "skipping record wih invalid buffers in snapshot 471820, filename 2018-08-13--11-45-14--149 and camera [-0.0599999986588955, 1.5, 1.07649993896484]\n",
      "skipping record wih invalid buffers in snapshot 471821, filename 2018-08-13--11-45-14--432 and camera [15.9399995803833, 17.5, 6.07649993896484]\n"
     ]
    },
    {
     "name": "stderr",
     "output_type": "stream",
     "text": [
      " 57% 2224 |#################################                        |   4.0 B/s"
     ]
    },
    {
     "name": "stdout",
     "output_type": "stream",
     "text": [
      "skipping record wih invalid buffers in snapshot 471819, filename 2018-08-13--11-45-13--693 and camera [-0.0599999986588955, 17.5, 25.0764999389648]\n"
     ]
    },
    {
     "name": "stderr",
     "output_type": "stream",
     "text": [
      " 57% 2226 |#################################                        |   4.0 B/s"
     ]
    },
    {
     "name": "stdout",
     "output_type": "stream",
     "text": [
      "skipping record wih invalid buffers in snapshot 471823, filename 2018-08-13--11-45-15--070 and camera [-16.0599994659424, 17.5, 6.07649993896484]\n",
      "skipping record wih invalid buffers in snapshot 471824, filename 2018-08-13--11-45-15--633 and camera [0.480000019073486, 1.5, 1.07649993896484]\n",
      "skipping record wih invalid buffers in snapshot 471825, filename 2018-08-13--11-45-15--910 and camera [-0.0599999986588955, 17.5, 25.0764999389648]\n",
      "skipping record wih invalid buffers in snapshot 471822, filename 2018-08-13--11-45-14--747 and camera [-0.0599999986588955, 33.5, 6.07649993896484]"
     ]
    },
    {
     "name": "stderr",
     "output_type": "stream",
     "text": [
      " 58% 2230 |#################################                        |   4.0 B/s"
     ]
    },
    {
     "name": "stdout",
     "output_type": "stream",
     "text": [
      "\n",
      "skipping record wih invalid buffers in snapshot 471827, filename 2018-08-13--11-45-16--681 and camera [15.9399995803833, 17.5, 6.07649993896484]\n",
      "skipping record wih invalid buffers in snapshot 471826, filename 2018-08-13--11-45-16--365 and camera [-0.0599999986588955, 1.5, 1.07649993896484]\n",
      "skipping record wih invalid buffers in snapshot 471828, filename 2018-08-13--11-45-16--941 and camera [-0.0599999986588955, 33.5, 6.07649993896484]\n"
     ]
    },
    {
     "name": "stderr",
     "output_type": "stream",
     "text": [
      " 58% 2233 |#################################                        |   4.0 B/s"
     ]
    },
    {
     "name": "stdout",
     "output_type": "stream",
     "text": [
      "skipping record wih invalid buffers in snapshot 471829, filename 2018-08-13--11-45-17--236 and camera [-16.0599994659424, 17.5, 6.07649993896484]\n",
      "skipping record wih invalid buffers in snapshot 471831, filename 2018-08-13--11-45-17--834 and camera [-0.0599999986588955, 17.5, 25.0764999389648]\n"
     ]
    },
    {
     "name": "stderr",
     "output_type": "stream",
     "text": [
      "\r",
      "                                                                               \r",
      "\r",
      " 58% 2234 |#################################                        |   4.0 B/s"
     ]
    },
    {
     "name": "stdout",
     "output_type": "stream",
     "text": [
      "skipping record wih invalid buffers in snapshot 471832, filename 2018-08-13--11-45-18--253 and camera [-0.0599999986588955, 1.5, 1.07649993896484]\n",
      "skipping record wih invalid buffers in snapshot 471830, filename 2018-08-13--11-45-17--555 and camera [0.480000019073486, 1.5, 1.07649993896484]\n"
     ]
    },
    {
     "name": "stderr",
     "output_type": "stream",
     "text": [
      "\r",
      "                                                                               \r",
      "\r",
      " 58% 2236 |#################################                        |   4.0 B/s"
     ]
    },
    {
     "name": "stdout",
     "output_type": "stream",
     "text": [
      "skipping record wih invalid buffers in snapshot 471833, filename 2018-08-13--11-45-18--565 and camera [15.9399995803833, 17.5, 6.07649993896484]\n"
     ]
    },
    {
     "name": "stderr",
     "output_type": "stream",
     "text": [
      " 58% 2238 |#################################                        |   4.0 B/s"
     ]
    },
    {
     "name": "stdout",
     "output_type": "stream",
     "text": [
      "skipping record wih invalid buffers in snapshot 471835, filename 2018-08-13--11-45-19--152 and camera [-16.0599994659424, 17.5, 6.07649993896484]\n",
      "skipping record wih invalid buffers in snapshot 471834, filename 2018-08-13--11-45-18--888 and camera [-0.0599999986588955, 33.5, 6.07649993896484]\n",
      "skipping record wih invalid buffers in snapshot 471836, filename 2018-08-13--11-45-19--437 and camera [0.480000019073486, 1.5, 1.07649993896484]\n"
     ]
    },
    {
     "name": "stderr",
     "output_type": "stream",
     "text": [
      "\r",
      "                                                                               \r",
      "\r",
      " 58% 2240 |#################################                        |   4.0 B/s"
     ]
    },
    {
     "name": "stdout",
     "output_type": "stream",
     "text": [
      "skipping record wih invalid buffers in snapshot 471837, filename 2018-08-13--11-45-19--732 and camera [-0.0599999986588955, 17.5, 25.0764999389648]\n"
     ]
    },
    {
     "name": "stderr",
     "output_type": "stream",
     "text": [
      " 58% 2243 |#################################                        |   4.0 B/s"
     ]
    },
    {
     "name": "stdout",
     "output_type": "stream",
     "text": [
      "skipping record wih invalid buffers in snapshot 471839, filename 2018-08-13--11-45-20--456 and camera [15.9399995803833, 17.5, 6.07649993896484]\n",
      "skipping record wih invalid buffers in snapshot 471840, filename 2018-08-13--11-45-20--758 and camera [-0.0599999986588955, 33.5, 6.07649993896484]\n",
      "skipping record wih invalid buffers in snapshot 471838, filename 2018-08-13--11-45-20--191 and camera [-0.0599999986588955, 1.5, 1.07649993896484]\n"
     ]
    },
    {
     "name": "stderr",
     "output_type": "stream",
     "text": [
      "\r",
      "                                                                               \r",
      "\r",
      " 58% 2244 |#################################                        |   4.0 B/s"
     ]
    },
    {
     "name": "stdout",
     "output_type": "stream",
     "text": [
      "skipping record wih invalid buffers in snapshot 471841, filename 2018-08-13--11-45-21--061 and camera [-16.0599994659424, 17.5, 6.07649993896484]\n"
     ]
    },
    {
     "name": "stderr",
     "output_type": "stream",
     "text": [
      "\r",
      "                                                                               \r",
      "\r",
      " 58% 2245 |#################################                        |   4.0 B/s"
     ]
    },
    {
     "name": "stdout",
     "output_type": "stream",
     "text": [
      "skipping record wih invalid buffers in snapshot 471844, filename 2018-08-13--11-45-22--320 and camera [-0.0599999986588955, 1.5, 1.07649993896484]\n",
      "skipping record wih invalid buffers in snapshot 471842, filename 2018-08-13--11-45-21--322 and camera [0.480000019073486, 1.5, 1.07649993896484]\n"
     ]
    },
    {
     "name": "stderr",
     "output_type": "stream",
     "text": [
      "\r",
      "                                                                               \r",
      "\r",
      " 58% 2247 |#################################                        |   4.0 B/s"
     ]
    },
    {
     "name": "stdout",
     "output_type": "stream",
     "text": [
      "skipping record wih invalid buffers in snapshot 471843, filename 2018-08-13--11-45-21--605 and camera [-0.0599999986588955, 17.5, 25.0764999389648]\n"
     ]
    },
    {
     "name": "stderr",
     "output_type": "stream",
     "text": [
      " 58% 2249 |#################################                        |   4.0 B/s"
     ]
    },
    {
     "name": "stdout",
     "output_type": "stream",
     "text": [
      "skipping record wih invalid buffers in snapshot 471845, filename 2018-08-13--11-45-22--635 and camera [15.9399995803833, 17.5, 6.07649993896484]\n",
      "skipping record wih invalid buffers in snapshot 471846, filename 2018-08-13--11-45-22--936 and camera [-0.0599999986588955, 33.5, 6.07649993896484]\n"
     ]
    },
    {
     "name": "stderr",
     "output_type": "stream",
     "text": [
      " 58% 2251 |#################################                        |   4.1 B/s"
     ]
    },
    {
     "name": "stdout",
     "output_type": "stream",
     "text": [
      "skipping record wih invalid buffers in snapshot 471849, filename 2018-08-13--11-45-23--849 and camera [-0.0599999986588955, 17.5, 25.0764999389648]\n",
      "skipping record wih invalid buffers in snapshot 471848, filename 2018-08-13--11-45-23--588 and camera [0.480000019073486, 1.5, 1.07649993896484]\n"
     ]
    },
    {
     "name": "stderr",
     "output_type": "stream",
     "text": [
      "\r",
      "                                                                               \r",
      "\r",
      " 58% 2252 |#################################                        |   4.0 B/s"
     ]
    },
    {
     "name": "stdout",
     "output_type": "stream",
     "text": [
      "skipping record wih invalid buffers in snapshot 471850, filename 2018-08-13--11-45-24--329 and camera [-0.0599999986588955, 1.5, 1.07649993896484]\n",
      "skipping record wih invalid buffers in snapshot 471851, filename 2018-08-13--11-45-24--644 and camera [15.9399995803833, 17.5, 6.07649993896484]\n"
     ]
    },
    {
     "name": "stderr",
     "output_type": "stream",
     "text": [
      "\r",
      "                                                                               \r",
      "\r",
      " 58% 2255 |#################################                        |   4.1 B/s"
     ]
    },
    {
     "name": "stdout",
     "output_type": "stream",
     "text": [
      "skipping record wih invalid buffers in snapshot 471853, filename 2018-08-13--11-45-25--218 and camera [-16.0599994659424, 17.5, 6.07649993896484]\n",
      "skipping record wih invalid buffers in snapshot 471852, filename 2018-08-13--11-45-24--915 and camera [-0.0599999986588955, 33.5, 6.07649993896484]\n"
     ]
    },
    {
     "name": "stderr",
     "output_type": "stream",
     "text": [
      "\r",
      "                                                                               \r",
      "\r",
      " 58% 2257 |#################################                        |   4.1 B/s"
     ]
    },
    {
     "name": "stdout",
     "output_type": "stream",
     "text": [
      "skipping record wih invalid buffers in snapshot 471854, filename 2018-08-13--11-45-25--545 and camera [0.480000019073486, 1.5, 1.07649993896484]\n"
     ]
    },
    {
     "name": "stderr",
     "output_type": "stream",
     "text": [
      "\r",
      "                                                                               \r",
      "\r",
      " 58% 2258 |#################################                        |   4.1 B/s"
     ]
    },
    {
     "name": "stdout",
     "output_type": "stream",
     "text": [
      "skipping record wih invalid buffers in snapshot 471855, filename 2018-08-13--11-45-25--855 and camera [-0.0599999986588955, 17.5, 25.0764999389648]\n",
      "skipping record wih invalid buffers in snapshot 471856, filename 2018-08-13--11-45-26--260 and camera [-0.0599999986588955, 1.5, 1.07649993896484]\n"
     ]
    },
    {
     "name": "stderr",
     "output_type": "stream",
     "text": [
      " 58% 2261 |#################################                        |   4.1 B/s"
     ]
    },
    {
     "name": "stdout",
     "output_type": "stream",
     "text": [
      "skipping record wih invalid buffers in snapshot 471859, filename 2018-08-13--11-45-27--174 and camera [-16.0599994659424, 17.5, 6.07649993896484]\n",
      "skipping record wih invalid buffers in snapshot 471858, filename 2018-08-13--11-45-26--856 and camera [-0.0599999986588955, 33.5, 6.07649993896484]\n",
      "skipping record wih invalid buffers in snapshot 471857, filename 2018-08-13--11-45-26--542 and camera [15.9399995803833, 17.5, 6.07649993896484]"
     ]
    },
    {
     "name": "stderr",
     "output_type": "stream",
     "text": [
      " 58% 2264 |#################################                        |   4.1 B/s"
     ]
    },
    {
     "name": "stdout",
     "output_type": "stream",
     "text": [
      "\n",
      "skipping record wih invalid buffers in snapshot 471861, filename 2018-08-13--11-45-27--741 and camera [-0.0599999986588955, 17.5, 25.0764999389648]\n",
      "skipping record wih invalid buffers in snapshot 471860, filename 2018-08-13--11-45-27--439 and camera [0.480000019073486, 1.5, 1.07649993896484]\n"
     ]
    },
    {
     "name": "stderr",
     "output_type": "stream",
     "text": [
      "\r",
      "                                                                               \r",
      "\r",
      " 58% 2265 |#################################                        |   4.1 B/s"
     ]
    },
    {
     "name": "stdout",
     "output_type": "stream",
     "text": [
      "skipping record wih invalid buffers in snapshot 471862, filename 2018-08-13--11-45-28--182 and camera [-0.0599999986588955, 1.5, 1.07649993896484]\n"
     ]
    },
    {
     "name": "stderr",
     "output_type": "stream",
     "text": [
      "\r",
      "                                                                               \r",
      "\r",
      " 59% 2266 |#################################                        |   4.1 B/s"
     ]
    },
    {
     "name": "stdout",
     "output_type": "stream",
     "text": [
      "skipping record wih invalid buffers in snapshot 471863, filename 2018-08-13--11-45-28--453 and camera [15.9399995803833, 17.5, 6.07649993896484]skipping record wih invalid buffers in snapshot 471864, filename 2018-08-13--11-45-28--766 and camera [-0.0599999986588955, 33.5, 6.07649993896484]\n",
      "\n"
     ]
    },
    {
     "name": "stderr",
     "output_type": "stream",
     "text": [
      "\r",
      "                                                                               \r",
      "\r",
      " 59% 2268 |#################################                        |   4.1 B/s"
     ]
    },
    {
     "name": "stdout",
     "output_type": "stream",
     "text": [
      "skipping record wih invalid buffers in snapshot 471865, filename 2018-08-13--11-45-29--078 and camera [-16.0599994659424, 17.5, 6.07649993896484]\n",
      "skipping record wih invalid buffers in snapshot 471866, filename 2018-08-13--11-45-29--375 and camera [0.480000019073486, 1.5, 1.07649993896484]\n"
     ]
    },
    {
     "name": "stderr",
     "output_type": "stream",
     "text": [
      " 59% 2271 |#################################                        |   4.1 B/s"
     ]
    },
    {
     "name": "stdout",
     "output_type": "stream",
     "text": [
      "skipping record wih invalid buffers in snapshot 471867, filename 2018-08-13--11-45-29--658 and camera [-0.0599999986588955, 17.5, 25.0764999389648]\n",
      "skipping record wih invalid buffers in snapshot 471868, filename 2018-08-13--11-45-30--129 and camera [-0.0599999986588955, 1.5, 1.07649993896484]\n",
      "skipping record wih invalid buffers in snapshot 471869, filename 2018-08-13--11-45-30--452 and camera [15.9399995803833, 17.5, 6.07649993896484]\n"
     ]
    },
    {
     "name": "stderr",
     "output_type": "stream",
     "text": [
      " 59% 2274 |#################################                        |   4.1 B/s"
     ]
    },
    {
     "name": "stdout",
     "output_type": "stream",
     "text": [
      "skipping record wih invalid buffers in snapshot 471870, filename 2018-08-13--11-45-30--715 and camera [-0.0599999986588955, 33.5, 6.07649993896484]\n",
      "skipping record wih invalid buffers in snapshot 471872, filename 2018-08-13--11-45-31--335 and camera [0.480000019073486, 1.5, 1.07649993896484]\n"
     ]
    },
    {
     "name": "stderr",
     "output_type": "stream",
     "text": [
      "\r",
      "                                                                               \r",
      "\r",
      " 59% 2275 |#################################                        |   4.1 B/s"
     ]
    },
    {
     "name": "stdout",
     "output_type": "stream",
     "text": [
      "skipping record wih invalid buffers in snapshot 471871, filename 2018-08-13--11-45-31--028 and camera [-16.0599994659424, 17.5, 6.07649993896484]\n"
     ]
    },
    {
     "name": "stderr",
     "output_type": "stream",
     "text": [
      " 59% 2278 |#################################                        |   4.1 B/s"
     ]
    },
    {
     "name": "stdout",
     "output_type": "stream",
     "text": [
      "skipping record wih invalid buffers in snapshot 471873, filename 2018-08-13--11-45-31--609 and camera [-0.0599999986588955, 17.5, 25.0764999389648]\n",
      "skipping record wih invalid buffers in snapshot 471875, filename 2018-08-13--11-45-32--474 and camera [15.9399995803833, 17.5, 6.07649993896484]\n",
      "skipping record wih invalid buffers in snapshot 471874, filename 2018-08-13--11-45-32--039 and camera [-0.0599999986588955, 1.5, 1.07649993896484]\n"
     ]
    },
    {
     "name": "stderr",
     "output_type": "stream",
     "text": [
      "\r",
      "                                                                               \r",
      "\r",
      " 59% 2279 |#################################                        |   4.1 B/s"
     ]
    },
    {
     "name": "stdout",
     "output_type": "stream",
     "text": [
      "skipping record wih invalid buffers in snapshot 471876, filename 2018-08-13--11-45-32--759 and camera [-0.0599999986588955, 33.5, 6.07649993896484]\n"
     ]
    },
    {
     "name": "stderr",
     "output_type": "stream",
     "text": [
      "\r",
      "                                                                               \r",
      "\r",
      " 59% 2280 |#################################                        |   4.1 B/s"
     ]
    },
    {
     "name": "stdout",
     "output_type": "stream",
     "text": [
      "skipping record wih invalid buffers in snapshot 471877, filename 2018-08-13--11-45-33--259 and camera [-16.0599994659424, 17.5, 6.07649993896484]\n"
     ]
    },
    {
     "name": "stderr",
     "output_type": "stream",
     "text": [
      "\r",
      "                                                                               \r",
      "\r",
      " 59% 2281 |#################################                        |   4.1 B/s"
     ]
    },
    {
     "name": "stdout",
     "output_type": "stream",
     "text": [
      "skipping record wih invalid buffers in snapshot 471878, filename 2018-08-13--11-45-33--658 and camera [0.480000019073486, 1.5, 1.07649993896484]\n"
     ]
    },
    {
     "name": "stderr",
     "output_type": "stream",
     "text": [
      "\r",
      "                                                                               \r",
      "\r",
      " 59% 2282 |#################################                        |   4.1 B/s"
     ]
    },
    {
     "name": "stdout",
     "output_type": "stream",
     "text": [
      "skipping record wih invalid buffers in snapshot 471879, filename 2018-08-13--11-45-33--970 and camera [-0.0599999986588955, 17.5, 25.0764999389648]\n",
      "skipping record wih invalid buffers in snapshot 471880, filename 2018-08-13--11-45-34--389 and camera [-0.0599999986588955, 1.5, 1.07649993896484]\n"
     ]
    },
    {
     "name": "stderr",
     "output_type": "stream",
     "text": [
      "\r",
      "                                                                               \r",
      "\r",
      " 59% 2284 |#################################                        |   4.1 B/s"
     ]
    },
    {
     "name": "stdout",
     "output_type": "stream",
     "text": [
      "skipping record wih invalid buffers in snapshot 471882, filename 2018-08-13--11-45-34--982 and camera [-0.0599999986588955, 33.5, 6.07649993896484]skipping record wih invalid buffers in snapshot 471881, filename 2018-08-13--11-45-34--675 and camera [15.9399995803833, 17.5, 6.07649993896484]\n",
      "\n",
      "skipping record wih invalid buffers in snapshot 471884, filename 2018-08-13--11-45-35--555 and camera [0.480000019073486, 1.5, 1.07649993896484]\n",
      "skipping record wih invalid buffers in snapshot 471883, filename 2018-08-13--11-45-35--250 and camera [-16.0599994659424, 17.5, 6.07649993896484]\n"
     ]
    },
    {
     "name": "stderr",
     "output_type": "stream",
     "text": [
      "\r",
      "                                                                               \r",
      "\r",
      " 59% 2288 |#################################                        |   4.1 B/s"
     ]
    },
    {
     "name": "stdout",
     "output_type": "stream",
     "text": [
      "skipping record wih invalid buffers in snapshot 471885, filename 2018-08-13--11-45-35--886 and camera [-0.0599999986588955, 17.5, 25.0764999389648]\n"
     ]
    },
    {
     "name": "stderr",
     "output_type": "stream",
     "text": [
      " 59% 2290 |#################################                        |   4.1 B/s"
     ]
    },
    {
     "name": "stdout",
     "output_type": "stream",
     "text": [
      "skipping record wih invalid buffers in snapshot 471886, filename 2018-08-13--11-45-36--334 and camera [-0.0599999986588955, 1.5, 1.07649993896484]\n",
      "skipping record wih invalid buffers in snapshot 471887, filename 2018-08-13--11-45-36--617 and camera [15.9399995803833, 17.5, 6.07649993896484]\n"
     ]
    },
    {
     "name": "stderr",
     "output_type": "stream",
     "text": [
      "\r",
      "                                                                               \r",
      "\r",
      " 59% 2292 |##################################                       |   4.1 B/s"
     ]
    },
    {
     "name": "stdout",
     "output_type": "stream",
     "text": [
      "skipping record wih invalid buffers in snapshot 471889, filename 2018-08-13--11-45-37--231 and camera [-16.0599994659424, 17.5, 6.07649993896484]\n",
      "skipping record wih invalid buffers in snapshot 471888, filename 2018-08-13--11-45-36--922 and camera [-0.0599999986588955, 33.5, 6.07649993896484]\n"
     ]
    },
    {
     "name": "stderr",
     "output_type": "stream",
     "text": [
      " 59% 2294 |##################################                       |   4.1 B/s"
     ]
    },
    {
     "name": "stdout",
     "output_type": "stream",
     "text": [
      "skipping record wih invalid buffers in snapshot 471892, filename 2018-08-13--11-45-38--245 and camera [-0.0599999986588955, 1.5, 1.07649993896484]\n",
      "skipping record wih invalid buffers in snapshot 471890, filename 2018-08-13--11-45-37--532 and camera [0.480000019073486, 1.5, 1.07649993896484]\n"
     ]
    },
    {
     "name": "stderr",
     "output_type": "stream",
     "text": [
      "\r",
      "                                                                               \r",
      "\r",
      " 59% 2295 |##################################                       |   4.1 B/s"
     ]
    },
    {
     "name": "stdout",
     "output_type": "stream",
     "text": [
      "skipping record wih invalid buffers in snapshot 471891, filename 2018-08-13--11-45-37--832 and camera [-0.0599999986588955, 17.5, 25.0764999389648]\n",
      "skipping record wih invalid buffers in snapshot 471893, filename 2018-08-13--11-45-38--551 and camera [15.9399995803833, 17.5, 6.07649993896484]\n"
     ]
    },
    {
     "name": "stderr",
     "output_type": "stream",
     "text": [
      "\r",
      "                                                                               \r",
      "\r",
      " 59% 2297 |##################################                       |   4.1 B/s"
     ]
    },
    {
     "name": "stdout",
     "output_type": "stream",
     "text": [
      "skipping record wih invalid buffers in snapshot 471894, filename 2018-08-13--11-45-38--878 and camera [-0.0599999986588955, 33.5, 6.07649993896484]\n"
     ]
    },
    {
     "name": "stderr",
     "output_type": "stream",
     "text": [
      " 59% 2300 |##################################                       |   4.1 B/s"
     ]
    },
    {
     "name": "stdout",
     "output_type": "stream",
     "text": [
      "skipping record wih invalid buffers in snapshot 471895, filename 2018-08-13--11-45-39--135 and camera [-16.0599994659424, 17.5, 6.07649993896484]\n",
      "skipping record wih invalid buffers in snapshot 471897, filename 2018-08-13--11-45-39--741 and camera [-0.0599999986588955, 17.5, 25.0764999389648]\n",
      "skipping record wih invalid buffers in snapshot 471896, filename 2018-08-13--11-45-39--439 and camera [0.480000019073486, 1.5, 1.07649993896484]\n"
     ]
    },
    {
     "name": "stderr",
     "output_type": "stream",
     "text": [
      "\r",
      "                                                                               \r",
      "\r",
      " 59% 2301 |##################################                       |   4.1 B/s"
     ]
    },
    {
     "name": "stdout",
     "output_type": "stream",
     "text": [
      "skipping record wih invalid buffers in snapshot 471898, filename 2018-08-13--11-45-40--187 and camera [-0.0599999986588955, 1.5, 1.07649993896484]\n",
      "skipping record wih invalid buffers in snapshot 471899, filename 2018-08-13--11-45-40--471 and camera [15.9399995803833, 17.5, 6.07649993896484]\n"
     ]
    },
    {
     "name": "stderr",
     "output_type": "stream",
     "text": [
      "\r",
      "                                                                               \r",
      "\r",
      " 59% 2303 |##################################                       |   4.1 B/s"
     ]
    },
    {
     "name": "stdout",
     "output_type": "stream",
     "text": [
      "skipping record wih invalid buffers in snapshot 471900, filename 2018-08-13--11-45-40--884 and camera [-0.0599999986588955, 33.5, 6.07649993896484]\n",
      "skipping record wih invalid buffers in snapshot 471901, filename 2018-08-13--11-45-41--202 and camera [-16.0599994659424, 17.5, 6.07649993896484]\n"
     ]
    },
    {
     "name": "stderr",
     "output_type": "stream",
     "text": [
      "\r",
      "                                                                               \r",
      "\r",
      " 60% 2305 |##################################                       |   4.1 B/s"
     ]
    },
    {
     "name": "stdout",
     "output_type": "stream",
     "text": [
      "skipping record wih invalid buffers in snapshot 471902, filename 2018-08-13--11-45-41--472 and camera [0.480000019073486, 1.5, 1.07649993896484]\n"
     ]
    },
    {
     "name": "stderr",
     "output_type": "stream",
     "text": [
      "\r",
      "                                                                               \r",
      "\r",
      " 60% 2306 |##################################                       |   4.1 B/s"
     ]
    },
    {
     "name": "stdout",
     "output_type": "stream",
     "text": [
      "skipping record wih invalid buffers in snapshot 471905, filename 2018-08-13--11-45-42--557 and camera [15.9399995803833, 17.5, 6.07649993896484]\n",
      "skipping record wih invalid buffers in snapshot 471904, filename 2018-08-13--11-45-42--241 and camera [-0.0599999986588955, 1.5, 1.07649993896484]\n"
     ]
    },
    {
     "name": "stderr",
     "output_type": "stream",
     "text": [
      "\r",
      "                                                                               \r",
      "\r",
      " 60% 2308 |##################################                       |   4.1 B/s"
     ]
    },
    {
     "name": "stdout",
     "output_type": "stream",
     "text": [
      "skipping record wih invalid buffers in snapshot 471903, filename 2018-08-13--11-45-41--753 and camera [-0.0599999986588955, 17.5, 25.0764999389648]\n"
     ]
    },
    {
     "name": "stderr",
     "output_type": "stream",
     "text": [
      "\r",
      "                                                                               \r",
      "\r",
      " 60% 2309 |##################################                       |   4.1 B/s"
     ]
    },
    {
     "name": "stdout",
     "output_type": "stream",
     "text": [
      "skipping record wih invalid buffers in snapshot 471906, filename 2018-08-13--11-45-42--876 and camera [-0.0599999986588955, 33.5, 6.07649993896484]\n"
     ]
    },
    {
     "name": "stderr",
     "output_type": "stream",
     "text": [
      " 61% 2379 |###################################                      |   4.1 B/s"
     ]
    },
    {
     "name": "stdout",
     "output_type": "stream",
     "text": [
      "skipping record wih invalid buffers in snapshot 471979, filename 2018-08-13--11-46-09--095 and camera [-16.0599994659424, 17.5, 6.07649993896484]\n"
     ]
    },
    {
     "name": "stderr",
     "output_type": "stream",
     "text": [
      "\r",
      "                                                                               \r",
      "\r",
      " 61% 2380 |###################################                      |   4.1 B/s"
     ]
    },
    {
     "name": "stdout",
     "output_type": "stream",
     "text": [
      "skipping record wih invalid buffers in snapshot 471980, filename 2018-08-13--11-46-09--407 and camera [0.480000019073486, 1.5, 1.07649993896484]\n"
     ]
    },
    {
     "name": "stderr",
     "output_type": "stream",
     "text": [
      " 62% 2388 |###################################                      |   4.1 B/s"
     ]
    },
    {
     "name": "stdout",
     "output_type": "stream",
     "text": [
      "skipping record wih invalid buffers in snapshot 471982, filename 2018-08-13--11-46-10--180 and camera [-0.0599999986588955, 1.5, 1.07649993896484]\n",
      "skipping record wih invalid buffers in snapshot 471984, filename 2018-08-13--11-46-10--849 and camera [-0.0599999986588955, 33.5, 6.07649993896484]\n",
      "skipping record wih invalid buffers in snapshot 471981, filename 2018-08-13--11-46-09--742 and camera [-0.0599999986588955, 17.5, 25.0764999389648]\n",
      "skipping record wih invalid buffers in snapshot 471983, filename 2018-08-13--11-46-10--472 and camera [15.9399995803833, 17.5, 6.07649993896484]\n",
      "skipping record wih invalid buffers in snapshot 471985, filename 2018-08-13--11-46-11--105 and camera [-16.0599994659424, 17.5, 6.07649993896484]\n"
     ]
    },
    {
     "name": "stderr",
     "output_type": "stream",
     "text": [
      " 62% 2390 |###################################                      |   4.1 B/s"
     ]
    },
    {
     "name": "stdout",
     "output_type": "stream",
     "text": [
      "skipping record wih invalid buffers in snapshot 471986, filename 2018-08-13--11-46-11--423 and camera [0.480000019073486, 1.5, 1.07649993896484]\n",
      "skipping record wih invalid buffers in snapshot 471988, filename 2018-08-13--11-46-12--175 and camera [-0.0599999986588955, 1.5, 1.07649993896484]\n",
      "skipping record wih invalid buffers in snapshot 471987, filename 2018-08-13--11-46-11--738 and camera [-0.0599999986588955, 17.5, 25.0764999389648]\n"
     ]
    },
    {
     "name": "stderr",
     "output_type": "stream",
     "text": [
      "\r",
      "                                                                               \r",
      "\r",
      " 62% 2392 |###################################                      |   4.1 B/s"
     ]
    },
    {
     "name": "stdout",
     "output_type": "stream",
     "text": [
      "skipping record wih invalid buffers in snapshot 471989, filename 2018-08-13--11-46-12--461 and camera [15.9399995803833, 17.5, 6.07649993896484]\n",
      "skipping record wih invalid buffers in snapshot 471993, filename 2018-08-13--11-46-13--643 and camera [-0.0599999986588955, 17.5, 25.0764999389648]\n"
     ]
    },
    {
     "name": "stderr",
     "output_type": "stream",
     "text": [
      " 62% 2398 |###################################                      |   4.1 B/s"
     ]
    },
    {
     "name": "stdout",
     "output_type": "stream",
     "text": [
      "skipping record wih invalid buffers in snapshot 471994, filename 2018-08-13--11-46-14--112 and camera [-0.0599999986588955, 1.5, 1.07649993896484]\n",
      "skipping record wih invalid buffers in snapshot 471991, filename 2018-08-13--11-46-13--070 and camera [-16.0599994659424, 17.5, 6.07649993896484]\n",
      "skipping record wih invalid buffers in snapshot 471992, filename 2018-08-13--11-46-13--341 and camera [0.480000019073486, 1.5, 1.07649993896484]\n",
      "skipping record wih invalid buffers in snapshot 471990, filename 2018-08-13--11-46-12--774 and camera [-0.0599999986588955, 33.5, 6.07649993896484]\n",
      "skipping record wih invalid buffers in snapshot 471995, filename 2018-08-13--11-46-14--414 and camera [15.9399995803833, 17.5, 6.07649993896484]\n",
      "skipping record wih invalid buffers in snapshot 471996, filename 2018-08-13--11-46-14--689 and camera [-0.0599999986588955, 33.5, 6.07649993896484]\n"
     ]
    },
    {
     "name": "stderr",
     "output_type": "stream",
     "text": [
      "\r",
      "                                                                               \r",
      "\r",
      " 62% 2400 |###################################                      |   4.1 B/s"
     ]
    },
    {
     "name": "stdout",
     "output_type": "stream",
     "text": [
      "skipping record wih invalid buffers in snapshot 471998, filename 2018-08-13--11-46-15--304 and camera [0.480000019073486, 1.5, 1.07649993896484]\n",
      "skipping record wih invalid buffers in snapshot 471997, filename 2018-08-13--11-46-15--003 and camera [-16.0599994659424, 17.5, 6.07649993896484]\n"
     ]
    },
    {
     "name": "stderr",
     "output_type": "stream",
     "text": [
      "\r",
      "                                                                               \r",
      "\r",
      " 62% 2402 |###################################                      |   4.1 B/s"
     ]
    },
    {
     "name": "stdout",
     "output_type": "stream",
     "text": [
      "skipping record wih invalid buffers in snapshot 472000, filename 2018-08-13--11-46-15--998 and camera [-0.0599999986588955, 1.5, 1.07649993896484]\n"
     ]
    },
    {
     "name": "stderr",
     "output_type": "stream",
     "text": [
      " 62% 2406 |###################################                      |   4.1 B/s"
     ]
    },
    {
     "name": "stdout",
     "output_type": "stream",
     "text": [
      "skipping record wih invalid buffers in snapshot 472002, filename 2018-08-13--11-46-16--840 and camera [-0.0599999986588955, 33.5, 6.07649993896484]\n",
      "skipping record wih invalid buffers in snapshot 472001, filename 2018-08-13--11-46-16--527 and camera [15.9399995803833, 17.5, 6.07649993896484]\n",
      "skipping record wih invalid buffers in snapshot 472004, filename 2018-08-13--11-46-17--421 and camera [0.480000019073486, 1.5, 1.07649993896484]\n",
      "skipping record wih invalid buffers in snapshot 471999, filename 2018-08-13--11-46-15--577 and camera [-0.0599999986588955, 17.5, 25.0764999389648]\n",
      "skipping record wih invalid buffers in snapshot 472003, filename 2018-08-13--11-46-17--095 and camera [-16.0599994659424, 17.5, 6.07649993896484]\n"
     ]
    },
    {
     "name": "stderr",
     "output_type": "stream",
     "text": [
      "\r",
      "                                                                               \r",
      "\r",
      " 62% 2408 |###################################                      |   4.1 B/s"
     ]
    },
    {
     "name": "stdout",
     "output_type": "stream",
     "text": [
      "skipping record wih invalid buffers in snapshot 472005, filename 2018-08-13--11-46-17--721 and camera [-0.0599999986588955, 17.5, 25.0764999389648]\n"
     ]
    },
    {
     "name": "stderr",
     "output_type": "stream",
     "text": [
      "\r",
      "                                                                               \r",
      "\r",
      " 62% 2409 |###################################                      |   4.1 B/s"
     ]
    },
    {
     "name": "stdout",
     "output_type": "stream",
     "text": [
      "skipping record wih invalid buffers in snapshot 472006, filename 2018-08-13--11-46-18--228 and camera [-0.0599999986588955, 1.5, 1.07649993896484]\n",
      "skipping record wih invalid buffers in snapshot 472007, filename 2018-08-13--11-46-18--570 and camera [15.9399995803833, 17.5, 6.07649993896484]\n"
     ]
    },
    {
     "name": "stderr",
     "output_type": "stream",
     "text": [
      "\r",
      "                                                                               \r",
      "\r",
      " 62% 2411 |###################################                      |   4.1 B/s"
     ]
    },
    {
     "name": "stdout",
     "output_type": "stream",
     "text": [
      "skipping record wih invalid buffers in snapshot 472012, filename 2018-08-13--11-46-20--186 and camera [-0.0599999986588955, 1.5, 1.07649993896484]\n",
      "skipping record wih invalid buffers in snapshot 472008, filename 2018-08-13--11-46-18--840 and camera [-0.0599999986588955, 33.5, 6.07649993896484]\n"
     ]
    },
    {
     "name": "stderr",
     "output_type": "stream",
     "text": [
      " 62% 2416 |###################################                      |   4.1 B/s"
     ]
    },
    {
     "name": "stdout",
     "output_type": "stream",
     "text": [
      "skipping record wih invalid buffers in snapshot 472011, filename 2018-08-13--11-46-19--771 and camera [-0.0599999986588955, 17.5, 25.0764999389648]\n",
      "skipping record wih invalid buffers in snapshot 472009, filename 2018-08-13--11-46-19--152 and camera [-16.0599994659424, 17.5, 6.07649993896484]\n",
      "skipping record wih invalid buffers in snapshot 472010, filename 2018-08-13--11-46-19--454 and camera [0.480000019073486, 1.5, 1.07649993896484]\n",
      "skipping record wih invalid buffers in snapshot 472013, filename 2018-08-13--11-46-20--504 and camera [15.9399995803833, 17.5, 6.07649993896484]\n"
     ]
    },
    {
     "name": "stderr",
     "output_type": "stream",
     "text": [
      " 62% 2418 |###################################                      |   4.1 B/s"
     ]
    },
    {
     "name": "stdout",
     "output_type": "stream",
     "text": [
      "skipping record wih invalid buffers in snapshot 472014, filename 2018-08-13--11-46-20--823 and camera [-0.0599999986588955, 33.5, 6.07649993896484]\n",
      "skipping record wih invalid buffers in snapshot 472015, filename 2018-08-13--11-46-21--101 and camera [-16.0599994659424, 17.5, 6.07649993896484]\n"
     ]
    },
    {
     "name": "stderr",
     "output_type": "stream",
     "text": [
      " 63% 2420 |###################################                      |   4.1 B/s"
     ]
    },
    {
     "name": "stdout",
     "output_type": "stream",
     "text": [
      "skipping record wih invalid buffers in snapshot 472016, filename 2018-08-13--11-46-21--434 and camera [0.480000019073486, 1.5, 1.07649993896484]\n",
      "skipping record wih invalid buffers in snapshot 472017, filename 2018-08-13--11-46-21--744 and camera [-0.0599999986588955, 17.5, 25.0764999389648]\n"
     ]
    },
    {
     "name": "stderr",
     "output_type": "stream",
     "text": [
      " 63% 2423 |###################################                      |   4.1 B/s"
     ]
    },
    {
     "name": "stdout",
     "output_type": "stream",
     "text": [
      "skipping record wih invalid buffers in snapshot 472019, filename 2018-08-13--11-46-22--636 and camera [15.9399995803833, 17.5, 6.07649993896484]\n",
      "skipping record wih invalid buffers in snapshot 472020, filename 2018-08-13--11-46-22--946 and camera [-0.0599999986588955, 33.5, 6.07649993896484]\n",
      "skipping record wih invalid buffers in snapshot 472018, filename 2018-08-13--11-46-22--338 and camera [-0.0599999986588955, 1.5, 1.07649993896484]\n",
      "skipping record wih invalid buffers in snapshot 472021, filename 2018-08-13--11-46-23--230 and camera [-16.0599994659424, 17.5, 6.07649993896484]\n"
     ]
    },
    {
     "name": "stderr",
     "output_type": "stream",
     "text": [
      " 63% 2426 |####################################                     |   4.1 B/s"
     ]
    },
    {
     "name": "stdout",
     "output_type": "stream",
     "text": [
      "skipping record wih invalid buffers in snapshot 472023, filename 2018-08-13--11-46-24--036 and camera [-0.0599999986588955, 17.5, 25.0764999389648]\n",
      "skipping record wih invalid buffers in snapshot 472022, filename 2018-08-13--11-46-23--608 and camera [0.480000019073486, 1.5, 1.07649993896484]\n"
     ]
    },
    {
     "name": "stderr",
     "output_type": "stream",
     "text": [
      "\r",
      "                                                                               \r",
      "\r",
      " 63% 2427 |####################################                     |   4.1 B/s"
     ]
    },
    {
     "name": "stdout",
     "output_type": "stream",
     "text": [
      "skipping record wih invalid buffers in snapshot 472025, filename 2018-08-13--11-46-24--843 and camera [15.9399995803833, 17.5, 6.07649993896484]\n",
      "skipping record wih invalid buffers in snapshot 472024, filename 2018-08-13--11-46-24--485 and camera [-0.0599999986588955, 1.5, 1.07649993896484]\n"
     ]
    },
    {
     "name": "stderr",
     "output_type": "stream",
     "text": [
      " 63% 2430 |####################################                     |   4.1 B/s"
     ]
    },
    {
     "name": "stdout",
     "output_type": "stream",
     "text": [
      "skipping record wih invalid buffers in snapshot 472028, filename 2018-08-13--11-46-25--781 and camera [0.480000019073486, 1.5, 1.07649993896484]\n",
      "skipping record wih invalid buffers in snapshot 472026, filename 2018-08-13--11-46-25--180 and camera [-0.0599999986588955, 33.5, 6.07649993896484]\n"
     ]
    },
    {
     "name": "stderr",
     "output_type": "stream",
     "text": [
      " 63% 2432 |####################################                     |   4.1 B/s"
     ]
    },
    {
     "name": "stdout",
     "output_type": "stream",
     "text": [
      "skipping record wih invalid buffers in snapshot 472027, filename 2018-08-13--11-46-25--465 and camera [-16.0599994659424, 17.5, 6.07649993896484]\n",
      "skipping record wih invalid buffers in snapshot 472029, filename 2018-08-13--11-46-26--186 and camera [-0.0599999986588955, 17.5, 25.0764999389648]\n"
     ]
    },
    {
     "name": "stderr",
     "output_type": "stream",
     "text": [
      "\r",
      "                                                                               \r",
      "\r",
      " 63% 2433 |####################################                     |   4.1 B/s"
     ]
    },
    {
     "name": "stdout",
     "output_type": "stream",
     "text": [
      "skipping record wih invalid buffers in snapshot 472030, filename 2018-08-13--11-46-26--676 and camera [-0.0599999986588955, 1.5, 1.07649993896484]\n"
     ]
    },
    {
     "name": "stderr",
     "output_type": "stream",
     "text": [
      "\r",
      "                                                                               \r",
      "\r",
      " 63% 2434 |####################################                     |   4.1 B/s"
     ]
    },
    {
     "name": "stdout",
     "output_type": "stream",
     "text": [
      "skipping record wih invalid buffers in snapshot 472031, filename 2018-08-13--11-46-26--949 and camera [15.9399995803833, 17.5, 6.07649993896484]\n"
     ]
    },
    {
     "name": "stderr",
     "output_type": "stream",
     "text": [
      " 63% 2436 |####################################                     |   4.1 B/s"
     ]
    },
    {
     "name": "stdout",
     "output_type": "stream",
     "text": [
      "skipping record wih invalid buffers in snapshot 472032, filename 2018-08-13--11-46-27--241 and camera [-0.0599999986588955, 33.5, 6.07649993896484]\n",
      "skipping record wih invalid buffers in snapshot 472033, filename 2018-08-13--11-46-27--548 and camera [-16.0599994659424, 17.5, 6.07649993896484]\n"
     ]
    },
    {
     "name": "stderr",
     "output_type": "stream",
     "text": [
      " 63% 2438 |####################################                     |   4.1 B/s"
     ]
    },
    {
     "name": "stdout",
     "output_type": "stream",
     "text": [
      "skipping record wih invalid buffers in snapshot 472035, filename 2018-08-13--11-46-28--250 and camera [-0.0599999986588955, 17.5, 25.0764999389648]\n",
      "skipping record wih invalid buffers in snapshot 472034, filename 2018-08-13--11-46-27--813 and camera [0.480000019073486, 1.5, 1.07649993896484]\n"
     ]
    },
    {
     "name": "stderr",
     "output_type": "stream",
     "text": [
      " 63% 2441 |####################################                     |   4.1 B/s"
     ]
    },
    {
     "name": "stdout",
     "output_type": "stream",
     "text": [
      "skipping record wih invalid buffers in snapshot 472036, filename 2018-08-13--11-46-28--720 and camera [-0.0599999986588955, 1.5, 1.07649993896484]\n",
      "skipping record wih invalid buffers in snapshot 472038, filename 2018-08-13--11-46-29--297 and camera [-0.0599999986588955, 33.5, 6.07649993896484]\n",
      "skipping record wih invalid buffers in snapshot 472037, filename 2018-08-13--11-46-28--999 and camera [15.9399995803833, 17.5, 6.07649993896484]\n"
     ]
    },
    {
     "name": "stderr",
     "output_type": "stream",
     "text": [
      "\r",
      "                                                                               \r",
      "\r",
      " 63% 2442 |####################################                     |   4.1 B/s"
     ]
    },
    {
     "name": "stdout",
     "output_type": "stream",
     "text": [
      "skipping record wih invalid buffers in snapshot 472039, filename 2018-08-13--11-46-29--601 and camera [-16.0599994659424, 17.5, 6.07649993896484]\n"
     ]
    },
    {
     "name": "stderr",
     "output_type": "stream",
     "text": [
      " 63% 2444 |####################################                     |   4.1 B/s"
     ]
    },
    {
     "name": "stdout",
     "output_type": "stream",
     "text": [
      "skipping record wih invalid buffers in snapshot 472040, filename 2018-08-13--11-46-29--869 and camera [0.480000019073486, 1.5, 1.07649993896484]\n",
      "skipping record wih invalid buffers in snapshot 472041, filename 2018-08-13--11-46-30--138 and camera [-0.0599999986588955, 17.5, 25.0764999389648]\n"
     ]
    },
    {
     "name": "stderr",
     "output_type": "stream",
     "text": [
      "\r",
      "                                                                               \r",
      "\r",
      " 63% 2445 |####################################                     |   4.1 B/s"
     ]
    },
    {
     "name": "stdout",
     "output_type": "stream",
     "text": [
      "skipping record wih invalid buffers in snapshot 472042, filename 2018-08-13--11-46-30--588 and camera [-0.0599999986588955, 1.5, 1.07649993896484]\n",
      "skipping record wih invalid buffers in snapshot 472043, filename 2018-08-13--11-46-30--928 and camera [15.9399995803833, 17.5, 6.07649993896484]\n"
     ]
    },
    {
     "name": "stderr",
     "output_type": "stream",
     "text": [
      "\r",
      "                                                                               \r",
      "\r",
      " 63% 2447 |####################################                     |   4.1 B/s"
     ]
    },
    {
     "name": "stdout",
     "output_type": "stream",
     "text": [
      "skipping record wih invalid buffers in snapshot 472044, filename 2018-08-13--11-46-31--185 and camera [-0.0599999986588955, 33.5, 6.07649993896484]\n",
      "skipping record wih invalid buffers in snapshot 472045, filename 2018-08-13--11-46-31--497 and camera [-16.0599994659424, 17.5, 6.07649993896484]\n"
     ]
    },
    {
     "name": "stderr",
     "output_type": "stream",
     "text": [
      "\r",
      "                                                                               \r",
      "\r",
      " 63% 2449 |####################################                     |   4.1 B/s"
     ]
    },
    {
     "name": "stdout",
     "output_type": "stream",
     "text": [
      "skipping record wih invalid buffers in snapshot 472046, filename 2018-08-13--11-46-31--808 and camera [0.480000019073486, 1.5, 1.07649993896484]\n"
     ]
    },
    {
     "name": "stderr",
     "output_type": "stream",
     "text": [
      " 63% 2451 |####################################                     |   4.1 B/s"
     ]
    },
    {
     "name": "stdout",
     "output_type": "stream",
     "text": [
      "skipping record wih invalid buffers in snapshot 472047, filename 2018-08-13--11-46-32--090 and camera [-0.0599999986588955, 17.5, 25.0764999389648]\n",
      "skipping record wih invalid buffers in snapshot 472048, filename 2018-08-13--11-46-32--518 and camera [-0.0599999986588955, 1.5, 1.07649993896484]\n"
     ]
    },
    {
     "name": "stderr",
     "output_type": "stream",
     "text": [
      " 63% 2453 |####################################                     |   4.1 B/s"
     ]
    },
    {
     "name": "stdout",
     "output_type": "stream",
     "text": [
      "skipping record wih invalid buffers in snapshot 472049, filename 2018-08-13--11-46-32--828 and camera [15.9399995803833, 17.5, 6.07649993896484]\n",
      "skipping record wih invalid buffers in snapshot 472050, filename 2018-08-13--11-46-33--158 and camera [-0.0599999986588955, 33.5, 6.07649993896484]\n",
      "skipping record wih invalid buffers in snapshot 472051, filename 2018-08-13--11-46-33--428 and camera [-16.0599994659424, 17.5, 6.07649993896484]\n"
     ]
    },
    {
     "name": "stderr",
     "output_type": "stream",
     "text": [
      " 63% 2457 |####################################                     |   4.1 B/s"
     ]
    },
    {
     "name": "stdout",
     "output_type": "stream",
     "text": [
      "skipping record wih invalid buffers in snapshot 472053, filename 2018-08-13--11-46-34--071 and camera [-0.0599999986588955, 17.5, 25.0764999389648]\n",
      "skipping record wih invalid buffers in snapshot 472052, filename 2018-08-13--11-46-33--755 and camera [0.480000019073486, 1.5, 1.07649993896484]\n",
      "skipping record wih invalid buffers in snapshot 472054, filename 2018-08-13--11-46-34--478 and camera [-0.0599999986588955, 1.5, 1.07649993896484]\n"
     ]
    },
    {
     "name": "stderr",
     "output_type": "stream",
     "text": [
      "\r",
      "                                                                               \r",
      "\r",
      " 64% 2458 |####################################                     |   4.1 B/s"
     ]
    },
    {
     "name": "stdout",
     "output_type": "stream",
     "text": [
      "skipping record wih invalid buffers in snapshot 472055, filename 2018-08-13--11-46-34--853 and camera [15.9399995803833, 17.5, 6.07649993896484]\n"
     ]
    },
    {
     "name": "stderr",
     "output_type": "stream",
     "text": [
      "\r",
      "                                                                               \r",
      "\r",
      " 64% 2459 |####################################                     |   4.1 B/s"
     ]
    },
    {
     "name": "stdout",
     "output_type": "stream",
     "text": [
      "skipping record wih invalid buffers in snapshot 472056, filename 2018-08-13--11-46-35--187 and camera [-0.0599999986588955, 33.5, 6.07649993896484]\n"
     ]
    },
    {
     "name": "stderr",
     "output_type": "stream",
     "text": [
      " 64% 2461 |####################################                     |   4.1 B/s"
     ]
    },
    {
     "name": "stdout",
     "output_type": "stream",
     "text": [
      "skipping record wih invalid buffers in snapshot 472057, filename 2018-08-13--11-46-35--505 and camera [-16.0599994659424, 17.5, 6.07649993896484]\n",
      "skipping record wih invalid buffers in snapshot 472058, filename 2018-08-13--11-46-35--763 and camera [0.480000019073486, 1.5, 1.07649993896484]\n"
     ]
    },
    {
     "name": "stderr",
     "output_type": "stream",
     "text": [
      " 71% 2730 |########################################                 |   4.1 B/s"
     ]
    },
    {
     "name": "stdout",
     "output_type": "stream",
     "text": [
      "skipping record wih invalid buffers in snapshot 472328, filename 2018-08-13--11-48-11--806 and camera [0.480000019073486, 1.5, 1.07649993896484]\n",
      "skipping record wih invalid buffers in snapshot 472329, filename 2018-08-13--11-48-12--241 and camera [-0.0599999986588955, 17.5, 25.0764999389648]\n"
     ]
    },
    {
     "name": "stderr",
     "output_type": "stream",
     "text": [
      "\r",
      "                                                                               \r",
      "\r",
      " 71% 2733 |########################################                 |   4.1 B/s"
     ]
    },
    {
     "name": "stdout",
     "output_type": "stream",
     "text": [
      "skipping record wih invalid buffers in snapshot 472330, filename 2018-08-13--11-48-12--729 and camera [-0.0599999986588955, 1.5, 1.07649993896484]\n"
     ]
    },
    {
     "name": "stderr",
     "output_type": "stream",
     "text": [
      "\r",
      "                                                                               \r",
      "\r",
      " 71% 2734 |########################################                 |   4.1 B/s"
     ]
    },
    {
     "name": "stdout",
     "output_type": "stream",
     "text": [
      "skipping record wih invalid buffers in snapshot 472331, filename 2018-08-13--11-48-13--004 and camera [15.9399995803833, 17.5, 6.07649993896484]\n"
     ]
    },
    {
     "name": "stderr",
     "output_type": "stream",
     "text": [
      "\r",
      "                                                                               \r",
      "\r",
      " 71% 2735 |########################################                 |   4.1 B/s"
     ]
    },
    {
     "name": "stdout",
     "output_type": "stream",
     "text": [
      "skipping record wih invalid buffers in snapshot 472332, filename 2018-08-13--11-48-13--328 and camera [-0.0599999986588955, 33.5, 6.07649993896484]\n"
     ]
    },
    {
     "name": "stderr",
     "output_type": "stream",
     "text": [
      " 71% 2737 |########################################                 |   4.1 B/s"
     ]
    },
    {
     "name": "stdout",
     "output_type": "stream",
     "text": [
      "skipping record wih invalid buffers in snapshot 472335, filename 2018-08-13--11-48-14--294 and camera [-0.0599999986588955, 17.5, 25.0764999389648]\n",
      "skipping record wih invalid buffers in snapshot 472333, filename 2018-08-13--11-48-13--661 and camera [-16.0599994659424, 17.5, 6.07649993896484]\n"
     ]
    },
    {
     "name": "stderr",
     "output_type": "stream",
     "text": [
      "\r",
      "                                                                               \r",
      "\r",
      " 71% 2738 |########################################                 |   4.1 B/s"
     ]
    },
    {
     "name": "stdout",
     "output_type": "stream",
     "text": [
      "skipping record wih invalid buffers in snapshot 472336, filename 2018-08-13--11-48-14--761 and camera [-0.0599999986588955, 1.5, 1.07649993896484]\n",
      "skipping record wih invalid buffers in snapshot 472338, filename 2018-08-13--11-48-15--353 and camera [-0.0599999986588955, 33.5, 6.07649993896484]\n",
      "skipping record wih invalid buffers in snapshot 472334, filename 2018-08-13--11-48-13--952 and camera [0.480000019073486, 1.5, 1.07649993896484]\n",
      "skipping record wih invalid buffers in snapshot 472337, filename 2018-08-13--11-48-15--036 and camera [15.9399995803833, 17.5, 6.07649993896484]\n"
     ]
    },
    {
     "name": "stderr",
     "output_type": "stream",
     "text": [
      " 71% 2743 |########################################                 |   4.1 B/s"
     ]
    },
    {
     "name": "stdout",
     "output_type": "stream",
     "text": [
      "skipping record wih invalid buffers in snapshot 472339, filename 2018-08-13--11-48-15--681 and camera [-16.0599994659424, 17.5, 6.07649993896484]\n",
      "skipping record wih invalid buffers in snapshot 472340, filename 2018-08-13--11-48-15--952 and camera [0.480000019073486, 1.5, 1.07649993896484]\n"
     ]
    },
    {
     "name": "stderr",
     "output_type": "stream",
     "text": [
      "\r",
      "                                                                               \r",
      "\r",
      " 71% 2744 |########################################                 |   4.1 B/s"
     ]
    },
    {
     "name": "stdout",
     "output_type": "stream",
     "text": [
      "skipping record wih invalid buffers in snapshot 472341, filename 2018-08-13--11-48-16--278 and camera [-0.0599999986588955, 17.5, 25.0764999389648]\n"
     ]
    },
    {
     "name": "stderr",
     "output_type": "stream",
     "text": [
      " 71% 2748 |########################################                 |   4.1 B/s"
     ]
    },
    {
     "name": "stdout",
     "output_type": "stream",
     "text": [
      "skipping record wih invalid buffers in snapshot 472344, filename 2018-08-13--11-48-17--348 and camera [-0.0599999986588955, 33.5, 6.07649993896484]\n",
      "skipping record wih invalid buffers in snapshot 472342, filename 2018-08-13--11-48-16--740 and camera [-0.0599999986588955, 1.5, 1.07649993896484]\n",
      "skipping record wih invalid buffers in snapshot 472343, filename 2018-08-13--11-48-17--026 and camera [15.9399995803833, 17.5, 6.07649993896484]\n",
      "skipping record wih invalid buffers in snapshot 472346, filename 2018-08-13--11-48-17--994 and camera [0.480000019073486, 1.5, 1.07649993896484]\n"
     ]
    },
    {
     "name": "stderr",
     "output_type": "stream",
     "text": [
      " 71% 2750 |########################################                 |   4.1 B/s"
     ]
    },
    {
     "name": "stdout",
     "output_type": "stream",
     "text": [
      "skipping record wih invalid buffers in snapshot 472345, filename 2018-08-13--11-48-17--677 and camera [-16.0599994659424, 17.5, 6.07649993896484]\n",
      "skipping record wih invalid buffers in snapshot 472348, filename 2018-08-13--11-48-18--746 and camera [-0.0599999986588955, 1.5, 1.07649993896484]\n",
      "skipping record wih invalid buffers in snapshot 472347, filename 2018-08-13--11-48-18--293 and camera [-0.0599999986588955, 17.5, 25.0764999389648]\n"
     ]
    },
    {
     "name": "stderr",
     "output_type": "stream",
     "text": [
      " 71% 2753 |########################################                 |   4.1 B/s"
     ]
    },
    {
     "name": "stdout",
     "output_type": "stream",
     "text": [
      "skipping record wih invalid buffers in snapshot 472349, filename 2018-08-13--11-48-19--066 and camera [15.9399995803833, 17.5, 6.07649993896484]\n",
      "skipping record wih invalid buffers in snapshot 472350, filename 2018-08-13--11-48-19--361 and camera [-0.0599999986588955, 33.5, 6.07649993896484]\n"
     ]
    },
    {
     "name": "stderr",
     "output_type": "stream",
     "text": [
      "\r",
      "                                                                               \r",
      "\r",
      " 71% 2754 |########################################                 |   4.1 B/s"
     ]
    },
    {
     "name": "stdout",
     "output_type": "stream",
     "text": [
      "skipping record wih invalid buffers in snapshot 472352, filename 2018-08-13--11-48-20--034 and camera [0.480000019073486, 1.5, 1.07649993896484]\n",
      "skipping record wih invalid buffers in snapshot 472351, filename 2018-08-13--11-48-19--682 and camera [-16.0599994659424, 17.5, 6.07649993896484]\n",
      "skipping record wih invalid buffers in snapshot 472353, filename 2018-08-13--11-48-20--328 and camera [-0.0599999986588955, 17.5, 25.0764999389648]\n"
     ]
    },
    {
     "name": "stderr",
     "output_type": "stream",
     "text": [
      " 71% 2759 |########################################                 |   4.1 B/s"
     ]
    },
    {
     "name": "stdout",
     "output_type": "stream",
     "text": [
      "skipping record wih invalid buffers in snapshot 472354, filename 2018-08-13--11-48-20--736 and camera [-0.0599999986588955, 1.5, 1.07649993896484]\n",
      "skipping record wih invalid buffers in snapshot 472355, filename 2018-08-13--11-48-21--055 and camera [15.9399995803833, 17.5, 6.07649993896484]\n",
      "skipping record wih invalid buffers in snapshot 472356, filename 2018-08-13--11-48-21--376 and camera [-0.0599999986588955, 33.5, 6.07649993896484]\n"
     ]
    },
    {
     "name": "stderr",
     "output_type": "stream",
     "text": [
      "\r",
      "                                                                               \r",
      "\r",
      " 71% 2760 |########################################                 |   4.1 B/s"
     ]
    },
    {
     "name": "stdout",
     "output_type": "stream",
     "text": [
      "skipping record wih invalid buffers in snapshot 472358, filename 2018-08-13--11-48-21--954 and camera [0.480000019073486, 1.5, 1.07649993896484]\n",
      "skipping record wih invalid buffers in snapshot 472357, filename 2018-08-13--11-48-21--652 and camera [-16.0599994659424, 17.5, 6.07649993896484]\n"
     ]
    },
    {
     "name": "stderr",
     "output_type": "stream",
     "text": [
      " 71% 2764 |#########################################                |   4.1 B/s"
     ]
    },
    {
     "name": "stdout",
     "output_type": "stream",
     "text": [
      "skipping record wih invalid buffers in snapshot 472359, filename 2018-08-13--11-48-22--285 and camera [-0.0599999986588955, 17.5, 25.0764999389648]\n",
      "skipping record wih invalid buffers in snapshot 472360, filename 2018-08-13--11-48-22--732 and camera [-0.0599999986588955, 1.5, 1.07649993896484]\n",
      "skipping record wih invalid buffers in snapshot 472361, filename 2018-08-13--11-48-22--996 and camera [15.9399995803833, 17.5, 6.07649993896484]\n",
      "skipping record wih invalid buffers in snapshot 472362, filename 2018-08-13--11-48-23--326 and camera [-0.0599999986588955, 33.5, 6.07649993896484]\n",
      "skipping record wih invalid buffers in snapshot 472364, filename 2018-08-13--11-48-23--917 and camera [0.480000019073486, 1.5, 1.07649993896484]"
     ]
    },
    {
     "name": "stderr",
     "output_type": "stream",
     "text": [
      "\r",
      "                                                                               \r",
      "\r",
      " 72% 2767 |#########################################                |   4.1 B/s"
     ]
    },
    {
     "name": "stdout",
     "output_type": "stream",
     "text": [
      "\n",
      "skipping record wih invalid buffers in snapshot 472363, filename 2018-08-13--11-48-23--635 and camera [-16.0599994659424, 17.5, 6.07649993896484]\n",
      "skipping record wih invalid buffers in snapshot 472365, filename 2018-08-13--11-48-24--363 and camera [-0.0599999986588955, 17.5, 25.0764999389648]"
     ]
    },
    {
     "name": "stderr",
     "output_type": "stream",
     "text": [
      " 72% 2769 |#########################################                |   4.1 B/s"
     ]
    },
    {
     "name": "stdout",
     "output_type": "stream",
     "text": [
      "\n",
      "skipping record wih invalid buffers in snapshot 472366, filename 2018-08-13--11-48-24--838 and camera [-0.0599999986588955, 1.5, 1.07649993896484]\n"
     ]
    },
    {
     "name": "stderr",
     "output_type": "stream",
     "text": [
      "\r",
      "                                                                               \r",
      "\r",
      " 72% 2770 |#########################################                |   4.1 B/s"
     ]
    },
    {
     "name": "stdout",
     "output_type": "stream",
     "text": [
      "skipping record wih invalid buffers in snapshot 472367, filename 2018-08-13--11-48-25--118 and camera [15.9399995803833, 17.5, 6.07649993896484]\n"
     ]
    },
    {
     "name": "stderr",
     "output_type": "stream",
     "text": [
      " 80% 3091 |#############################################            |   4.1 B/s"
     ]
    },
    {
     "name": "stdout",
     "output_type": "stream",
     "text": [
      "skipping record wih invalid buffers in snapshot 472690, filename 2018-08-13--11-50-15--614 and camera [-0.0599999986588955, 1.5, 1.07649993896484]\n",
      "skipping record wih invalid buffers in snapshot 472691, filename 2018-08-13--11-50-15--920 and camera [15.9399995803833, 17.5, 6.07649993896484]\n"
     ]
    },
    {
     "name": "stderr",
     "output_type": "stream",
     "text": [
      " 80% 3095 |#############################################            |   4.1 B/s"
     ]
    },
    {
     "name": "stdout",
     "output_type": "stream",
     "text": [
      "skipping record wih invalid buffers in snapshot 472692, filename 2018-08-13--11-50-16--205 and camera [-0.0599999986588955, 33.5, 6.07649993896484]\n"
     ]
    },
    {
     "name": "stderr",
     "output_type": "stream",
     "text": [
      "\r",
      "                                                                               \r",
      "\r",
      " 80% 3096 |#############################################            |   4.1 B/s"
     ]
    },
    {
     "name": "stdout",
     "output_type": "stream",
     "text": [
      "skipping record wih invalid buffers in snapshot 472693, filename 2018-08-13--11-50-16--499 and camera [-16.0599994659424, 17.5, 6.07649993896484]\n"
     ]
    },
    {
     "name": "stderr",
     "output_type": "stream",
     "text": [
      " 80% 3098 |#############################################            |   4.1 B/s"
     ]
    },
    {
     "name": "stdout",
     "output_type": "stream",
     "text": [
      "skipping record wih invalid buffers in snapshot 472694, filename 2018-08-13--11-50-16--830 and camera [0.480000019073486, 1.5, 1.07649993896484]\n",
      "skipping record wih invalid buffers in snapshot 472698, filename 2018-08-13--11-50-18--140 and camera [-0.0599999986588955, 33.5, 6.07649993896484]\n"
     ]
    },
    {
     "name": "stderr",
     "output_type": "stream",
     "text": [
      " 80% 3103 |##############################################           |   4.1 B/s"
     ]
    },
    {
     "name": "stdout",
     "output_type": "stream",
     "text": [
      "skipping record wih invalid buffers in snapshot 472695, filename 2018-08-13--11-50-17--090 and camera [-0.0599999986588955, 17.5, 25.0764999389648]\n",
      "skipping record wih invalid buffers in snapshot 472696, filename 2018-08-13--11-50-17--508 and camera [-0.0599999986588955, 1.5, 1.07649993896484]\n",
      "skipping record wih invalid buffers in snapshot 472699, filename 2018-08-13--11-50-18--412 and camera [-16.0599994659424, 17.5, 6.07649993896484]\n",
      "skipping record wih invalid buffers in snapshot 472697, filename 2018-08-13--11-50-17--814 and camera [15.9399995803833, 17.5, 6.07649993896484]\n",
      "skipping record wih invalid buffers in snapshot 472700, filename 2018-08-13--11-50-18--733 and camera [0.480000019073486, 1.5, 1.07649993896484]\n"
     ]
    },
    {
     "name": "stderr",
     "output_type": "stream",
     "text": [
      "\r",
      "                                                                               \r",
      "\r",
      " 80% 3104 |##############################################           |   4.1 B/s"
     ]
    },
    {
     "name": "stdout",
     "output_type": "stream",
     "text": [
      "skipping record wih invalid buffers in snapshot 472701, filename 2018-08-13--11-50-19--049 and camera [-0.0599999986588955, 17.5, 25.0764999389648]\n",
      "skipping record wih invalid buffers in snapshot 472702, filename 2018-08-13--11-50-19--489 and camera [-0.0599999986588955, 1.5, 1.07649993896484]\n"
     ]
    },
    {
     "name": "stderr",
     "output_type": "stream",
     "text": [
      " 80% 3107 |##############################################           |   4.1 B/s"
     ]
    },
    {
     "name": "stdout",
     "output_type": "stream",
     "text": [
      "skipping record wih invalid buffers in snapshot 472704, filename 2018-08-13--11-50-20--079 and camera [-0.0599999986588955, 33.5, 6.07649993896484]\n",
      "skipping record wih invalid buffers in snapshot 472707, filename 2018-08-13--11-50-20--978 and camera [-0.0599999986588955, 17.5, 25.0764999389648]\n",
      "skipping record wih invalid buffers in snapshot 472703, filename 2018-08-13--11-50-19--762 and camera [15.9399995803833, 17.5, 6.07649993896484]\n"
     ]
    },
    {
     "name": "stderr",
     "output_type": "stream",
     "text": [
      " 80% 3110 |##############################################           |   4.1 B/s"
     ]
    },
    {
     "name": "stdout",
     "output_type": "stream",
     "text": [
      "skipping record wih invalid buffers in snapshot 472705, filename 2018-08-13--11-50-20--413 and camera [-16.0599994659424, 17.5, 6.07649993896484]\n",
      "skipping record wih invalid buffers in snapshot 472706, filename 2018-08-13--11-50-20--689 and camera [0.480000019073486, 1.5, 1.07649993896484]\n"
     ]
    },
    {
     "name": "stderr",
     "output_type": "stream",
     "text": [
      "\r",
      "                                                                               \r",
      "\r",
      " 81% 3111 |##############################################           |   4.1 B/s"
     ]
    },
    {
     "name": "stdout",
     "output_type": "stream",
     "text": [
      "skipping record wih invalid buffers in snapshot 472708, filename 2018-08-13--11-50-21--424 and camera [-0.0599999986588955, 1.5, 1.07649993896484]\n"
     ]
    },
    {
     "name": "stderr",
     "output_type": "stream",
     "text": [
      "\r",
      "                                                                               \r",
      "\r",
      " 81% 3112 |##############################################           |   4.1 B/s"
     ]
    },
    {
     "name": "stdout",
     "output_type": "stream",
     "text": [
      "skipping record wih invalid buffers in snapshot 472709, filename 2018-08-13--11-50-21--731 and camera [15.9399995803833, 17.5, 6.07649993896484]\n",
      "skipping record wih invalid buffers in snapshot 472710, filename 2018-08-13--11-50-21--997 and camera [-0.0599999986588955, 33.5, 6.07649993896484]\n"
     ]
    },
    {
     "name": "stderr",
     "output_type": "stream",
     "text": [
      " 81% 3115 |##############################################           |   4.1 B/s"
     ]
    },
    {
     "name": "stdout",
     "output_type": "stream",
     "text": [
      "skipping record wih invalid buffers in snapshot 472711, filename 2018-08-13--11-50-22--288 and camera [-16.0599994659424, 17.5, 6.07649993896484]\n",
      "skipping record wih invalid buffers in snapshot 472713, filename 2018-08-13--11-50-22--864 and camera [-0.0599999986588955, 17.5, 25.0764999389648]\n"
     ]
    },
    {
     "name": "stderr",
     "output_type": "stream",
     "text": [
      " 81% 3118 |##############################################           |   4.1 B/s"
     ]
    },
    {
     "name": "stdout",
     "output_type": "stream",
     "text": [
      "skipping record wih invalid buffers in snapshot 472712, filename 2018-08-13--11-50-22--593 and camera [0.480000019073486, 1.5, 1.07649993896484]\n",
      "skipping record wih invalid buffers in snapshot 472714, filename 2018-08-13--11-50-23--307 and camera [-0.0599999986588955, 1.5, 1.07649993896484]\n",
      "skipping record wih invalid buffers in snapshot 472716, filename 2018-08-13--11-50-23--883 and camera [-0.0599999986588955, 33.5, 6.07649993896484]\n",
      "skipping record wih invalid buffers in snapshot 472715, filename 2018-08-13--11-50-23--623 and camera [15.9399995803833, 17.5, 6.07649993896484]\n"
     ]
    },
    {
     "name": "stderr",
     "output_type": "stream",
     "text": [
      "\r",
      "                                                                               \r",
      "\r",
      " 81% 3120 |##############################################           |   4.1 B/s"
     ]
    },
    {
     "name": "stdout",
     "output_type": "stream",
     "text": [
      "skipping record wih invalid buffers in snapshot 472719, filename 2018-08-13--11-50-24--800 and camera [-0.0599999986588955, 17.5, 25.0764999389648]\n",
      "skipping record wih invalid buffers in snapshot 472717, filename 2018-08-13--11-50-24--181 and camera [-16.0599994659424, 17.5, 6.07649993896484]\n",
      "skipping record wih invalid buffers in snapshot 472718, filename 2018-08-13--11-50-24--496 and camera [0.480000019073486, 1.5, 1.07649993896484]\n"
     ]
    },
    {
     "name": "stderr",
     "output_type": "stream",
     "text": [
      "\r",
      "                                                                               \r",
      "\r",
      " 81% 3123 |##############################################           |   4.1 B/s"
     ]
    },
    {
     "name": "stdout",
     "output_type": "stream",
     "text": [
      "skipping record wih invalid buffers in snapshot 472720, filename 2018-08-13--11-50-25--207 and camera [-0.0599999986588955, 1.5, 1.07649993896484]\n",
      "skipping record wih invalid buffers in snapshot 472721, filename 2018-08-13--11-50-25--506 and camera [15.9399995803833, 17.5, 6.07649993896484]\n"
     ]
    },
    {
     "name": "stderr",
     "output_type": "stream",
     "text": [
      " 81% 3127 |##############################################           |   4.1 B/s"
     ]
    },
    {
     "name": "stdout",
     "output_type": "stream",
     "text": [
      "skipping record wih invalid buffers in snapshot 472724, filename 2018-08-13--11-50-26--394 and camera [0.480000019073486, 1.5, 1.07649993896484]\n",
      "skipping record wih invalid buffers in snapshot 472722, filename 2018-08-13--11-50-25--814 and camera [-0.0599999986588955, 33.5, 6.07649993896484]\n",
      "skipping record wih invalid buffers in snapshot 472723, filename 2018-08-13--11-50-26--081 and camera [-16.0599994659424, 17.5, 6.07649993896484]\n"
     ]
    },
    {
     "name": "stderr",
     "output_type": "stream",
     "text": [
      "\r",
      "                                                                               \r",
      "\r",
      " 81% 3128 |##############################################           |   4.1 B/s"
     ]
    },
    {
     "name": "stdout",
     "output_type": "stream",
     "text": [
      "skipping record wih invalid buffers in snapshot 472725, filename 2018-08-13--11-50-26--707 and camera [-0.0599999986588955, 17.5, 25.0764999389648]\n",
      "skipping record wih invalid buffers in snapshot 472726, filename 2018-08-13--11-50-27--157 and camera [-0.0599999986588955, 1.5, 1.07649993896484]\n"
     ]
    },
    {
     "name": "stderr",
     "output_type": "stream",
     "text": [
      " 91% 3499 |###################################################      |   4.1 B/s"
     ]
    },
    {
     "name": "stdout",
     "output_type": "stream",
     "text": [
      "skipping record wih invalid buffers in snapshot 473101, filename 2018-08-13--11-52-35--629 and camera [-16.0599994659424, 17.5, 6.07649993896484]\n",
      "skipping record wih invalid buffers in snapshot 473102, filename 2018-08-13--11-52-35--932 and camera [0.480000019073486, 1.5, 1.07649993896484]\n"
     ]
    },
    {
     "name": "stderr",
     "output_type": "stream",
     "text": [
      " 91% 3505 |####################################################     |   4.1 B/s"
     ]
    },
    {
     "name": "stdout",
     "output_type": "stream",
     "text": [
      "skipping record wih invalid buffers in snapshot 473103, filename 2018-08-13--11-52-36--262 and camera [-0.0599999986588955, 17.5, 25.0764999389648]\n"
     ]
    },
    {
     "name": "stderr",
     "output_type": "stream",
     "text": [
      "\r",
      "                                                                               \r",
      "\r",
      " 91% 3507 |####################################################     |   4.1 B/s"
     ]
    },
    {
     "name": "stdout",
     "output_type": "stream",
     "text": [
      "skipping record wih invalid buffers in snapshot 473108, filename 2018-08-13--11-52-37--900 and camera [0.480000019073486, 1.5, 1.07649993896484]\n",
      "skipping record wih invalid buffers in snapshot 473105, filename 2018-08-13--11-52-36--984 and camera [15.9399995803833, 17.5, 6.07649993896484]\n",
      "skipping record wih invalid buffers in snapshot 473107, filename 2018-08-13--11-52-37--617 and camera [-16.0599994659424, 17.5, 6.07649993896484]\n"
     ]
    },
    {
     "name": "stderr",
     "output_type": "stream",
     "text": [
      " 91% 3513 |####################################################     |   4.1 B/s"
     ]
    },
    {
     "name": "stdout",
     "output_type": "stream",
     "text": [
      "skipping record wih invalid buffers in snapshot 473106, filename 2018-08-13--11-52-37--295 and camera [-0.0599999986588955, 33.5, 6.07649993896484]\n",
      "skipping record wih invalid buffers in snapshot 473109, filename 2018-08-13--11-52-38--183 and camera [-0.0599999986588955, 17.5, 25.0764999389648]\n",
      "skipping record wih invalid buffers in snapshot 473104, filename 2018-08-13--11-52-36--723 and camera [-0.0599999986588955, 1.5, 1.07649993896484]\n",
      "skipping record wih invalid buffers in snapshot 473110, filename 2018-08-13--11-52-38--697 and camera [-0.0599999986588955, 1.5, 1.07649993896484]\n"
     ]
    },
    {
     "name": "stderr",
     "output_type": "stream",
     "text": [
      "\r",
      "                                                                               \r",
      "\r",
      " 91% 3514 |####################################################     |   4.1 B/s"
     ]
    },
    {
     "name": "stdout",
     "output_type": "stream",
     "text": [
      "skipping record wih invalid buffers in snapshot 473111, filename 2018-08-13--11-52-39--091 and camera [15.9399995803833, 17.5, 6.07649993896484]\n"
     ]
    },
    {
     "name": "stderr",
     "output_type": "stream",
     "text": [
      " 91% 3516 |####################################################     |   4.1 B/s"
     ]
    },
    {
     "name": "stdout",
     "output_type": "stream",
     "text": [
      "skipping record wih invalid buffers in snapshot 473114, filename 2018-08-13--11-52-40--000 and camera [0.480000019073486, 1.5, 1.07649993896484]\n",
      "skipping record wih invalid buffers in snapshot 473112, filename 2018-08-13--11-52-39--380 and camera [-0.0599999986588955, 33.5, 6.07649993896484]\n",
      "skipping record wih invalid buffers in snapshot 473113, filename 2018-08-13--11-52-39--673 and camera [-16.0599994659424, 17.5, 6.07649993896484]\n",
      "skipping record wih invalid buffers in snapshot 473115, filename 2018-08-13--11-52-40--310 and camera [-0.0599999986588955, 17.5, 25.0764999389648]\n"
     ]
    },
    {
     "name": "stderr",
     "output_type": "stream",
     "text": [
      " 91% 3521 |####################################################     |   4.1 B/s"
     ]
    },
    {
     "name": "stdout",
     "output_type": "stream",
     "text": [
      "skipping record wih invalid buffers in snapshot 473118, filename 2018-08-13--11-52-41--349 and camera [-0.0599999986588955, 33.5, 6.07649993896484]skipping record wih invalid buffers in snapshot 473117, filename 2018-08-13--11-52-41--028 and camera [15.9399995803833, 17.5, 6.07649993896484]\n",
      "\n",
      "skipping record wih invalid buffers in snapshot 473116, filename 2018-08-13--11-52-40--742 and camera [-0.0599999986588955, 1.5, 1.07649993896484]\n",
      "skipping record wih invalid buffers in snapshot 473119, filename 2018-08-13--11-52-41--632 and camera [-16.0599994659424, 17.5, 6.07649993896484]\n"
     ]
    },
    {
     "name": "stderr",
     "output_type": "stream",
     "text": [
      "\r",
      "                                                                               \r",
      "\r",
      " 91% 3523 |####################################################     |   4.1 B/s"
     ]
    },
    {
     "name": "stdout",
     "output_type": "stream",
     "text": [
      "skipping record wih invalid buffers in snapshot 473120, filename 2018-08-13--11-52-41--937 and camera [0.480000019073486, 1.5, 1.07649993896484]\n",
      "skipping record wih invalid buffers in snapshot 473122, filename 2018-08-13--11-52-42--782 and camera [-0.0599999986588955, 1.5, 1.07649993896484]\n"
     ]
    },
    {
     "name": "stderr",
     "output_type": "stream",
     "text": [
      " 91% 3526 |####################################################     |   4.1 B/s"
     ]
    },
    {
     "name": "stdout",
     "output_type": "stream",
     "text": [
      "skipping record wih invalid buffers in snapshot 473121, filename 2018-08-13--11-52-42--257 and camera [-0.0599999986588955, 17.5, 25.0764999389648]\n",
      "skipping record wih invalid buffers in snapshot 473123, filename 2018-08-13--11-52-43--066 and camera [15.9399995803833, 17.5, 6.07649993896484]\n"
     ]
    },
    {
     "name": "stderr",
     "output_type": "stream",
     "text": [
      " 91% 3529 |####################################################     |   4.1 B/s"
     ]
    },
    {
     "name": "stdout",
     "output_type": "stream",
     "text": [
      "skipping record wih invalid buffers in snapshot 473127, filename 2018-08-13--11-52-44--252 and camera [-0.0599999986588955, 17.5, 25.0764999389648]\n",
      "skipping record wih invalid buffers in snapshot 473124, filename 2018-08-13--11-52-43--357 and camera [-0.0599999986588955, 33.5, 6.07649993896484]\n",
      "skipping record wih invalid buffers in snapshot 473125, filename 2018-08-13--11-52-43--679 and camera [-16.0599994659424, 17.5, 6.07649993896484]\n",
      "skipping record wih invalid buffers in snapshot 473126, filename 2018-08-13--11-52-43--968 and camera [0.480000019073486, 1.5, 1.07649993896484]\n"
     ]
    },
    {
     "name": "stderr",
     "output_type": "stream",
     "text": [
      " 92% 3534 |####################################################     |   4.1 B/s"
     ]
    },
    {
     "name": "stdout",
     "output_type": "stream",
     "text": [
      "skipping record wih invalid buffers in snapshot 473128, filename 2018-08-13--11-52-44--704 and camera [-0.0599999986588955, 1.5, 1.07649993896484]\n",
      "skipping record wih invalid buffers in snapshot 473129, filename 2018-08-13--11-52-45--005 and camera [15.9399995803833, 17.5, 6.07649993896484]\n",
      "skipping record wih invalid buffers in snapshot 473130, filename 2018-08-13--11-52-45--278 and camera [-0.0599999986588955, 33.5, 6.07649993896484]\n",
      "skipping record wih invalid buffers in snapshot 473133, filename 2018-08-13--11-52-46--207 and camera [-0.0599999986588955, 17.5, 25.0764999389648]\n"
     ]
    },
    {
     "name": "stderr",
     "output_type": "stream",
     "text": [
      "\r",
      "                                                                               \r",
      "\r",
      " 92% 3535 |####################################################     |   4.1 B/s"
     ]
    },
    {
     "name": "stdout",
     "output_type": "stream",
     "text": [
      "skipping record wih invalid buffers in snapshot 473131, filename 2018-08-13--11-52-45--583 and camera [-16.0599994659424, 17.5, 6.07649993896484]\n",
      "skipping record wih invalid buffers in snapshot 473132, filename 2018-08-13--11-52-45--906 and camera [0.480000019073486, 1.5, 1.07649993896484]\n"
     ]
    },
    {
     "name": "stderr",
     "output_type": "stream",
     "text": [
      "100% 3840 |#########################################################|   4.1 B/s"
     ]
    },
    {
     "name": "stdout",
     "output_type": "stream",
     "text": [
      "done\n"
     ]
    }
   ],
   "source": [
    "workers = 8\n",
    "\n",
    "widgets = [progressbar.Percentage(), ' ', progressbar.Counter(), ' ', progressbar.Bar(), ' ',\n",
    "           progressbar.FileTransferSpeed()]\n",
    "\n",
    "pbar = progressbar.ProgressBar(widgets=widgets, maxval=len(results)).start()\n",
    "counter = 0\n",
    "\n",
    "Parallel(n_jobs=workers, backend='threading')(delayed(try_dump_snapshot_to_dataset)(in_directory, get_out_directory(out_directory, i, directory_per_camera), i, run_id) for i in results)\n",
    "print('done')"
   ]
  },
  {
   "cell_type": "markdown",
   "metadata": {},
   "source": [
    "### copying to linux into datagrid dir"
   ]
  },
  {
   "cell_type": "code",
   "execution_count": null,
   "metadata": {
    "scrolled": true
   },
   "outputs": [
    {
     "name": "stderr",
     "output_type": "stream",
     "text": [
      "  8% 812 |#####                                                     |   2.0 B/s"
     ]
    }
   ],
   "source": [
    "def copy_file(in_path, out_path):\n",
    "    if os.path.exists(out_path):\n",
    "        return\n",
    "    copyfile(in_path, out_path)\n",
    "\n",
    "def copy_files(in_dir, out_dir, name):\n",
    "    if 'pbar' in globals() and 'counter' in globals():\n",
    "        global counter\n",
    "        counter += 1\n",
    "        pbar.update(counter)\n",
    "\n",
    "    rgb_name = name+'.jpg'\n",
    "    json_name = name+'.json'\n",
    "    depth_name = name+'-depth.png'\n",
    "    stencil_name = name+'-stencil.png'\n",
    "    \n",
    "    copyfile(os.path.join(in_dir, rgb_name), os.path.join(out_dir, rgb_name))\n",
    "    copyfile(os.path.join(in_dir, json_name), os.path.join(out_dir, json_name))\n",
    "    copyfile(os.path.join(in_dir, depth_name), os.path.join(out_dir, depth_name))\n",
    "    copyfile(os.path.join(in_dir, stencil_name), os.path.join(out_dir, stencil_name))\n",
    "\n",
    "workers = 8\n",
    "\n",
    "windows_in_directory = r'D:\\output-datasets\\offroad-6'\n",
    "linux_out_directory = r'Z:\\offroad-6'\n",
    "\n",
    "if not os.path.exists(linux_out_directory):\n",
    "    os.makedirs(linux_out_directory)\n",
    "\n",
    "widgets = [progressbar.Percentage(), ' ', progressbar.Counter(), ' ', progressbar.Bar(), ' ',\n",
    "           progressbar.FileTransferSpeed()]\n",
    "\n",
    "pbar = progressbar.ProgressBar(widgets=widgets, max_value=len(results)).start()\n",
    "counter = 0\n",
    "\n",
    "Parallel(n_jobs=workers, backend='threading')(\n",
    "    delayed(copy_files)(windows_in_directory, linux_out_directory, i['imagepath']) for i in results)\n"
   ]
  },
  {
   "cell_type": "markdown",
   "metadata": {},
   "source": [
    "### copying original tiffs to linux into datagrid dir, only one run from database"
   ]
  },
  {
   "cell_type": "code",
   "execution_count": 42,
   "metadata": {},
   "outputs": [
    {
     "name": "stderr",
     "output_type": "stream",
     "text": [
      "  0% 42 |                                                           |   0.7 B/s"
     ]
    },
    {
     "ename": "KeyboardInterrupt",
     "evalue": "",
     "output_type": "error",
     "traceback": [
      "\u001b[1;31m---------------------------------------------------------------------------\u001b[0m",
      "\u001b[1;31mKeyboardInterrupt\u001b[0m                         Traceback (most recent call last)",
      "\u001b[1;32m<ipython-input-42-505770c9802e>\u001b[0m in \u001b[0;36m<module>\u001b[1;34m()\u001b[0m\n\u001b[0;32m     29\u001b[0m \u001b[1;33m\u001b[0m\u001b[0m\n\u001b[0;32m     30\u001b[0m Parallel(n_jobs=workers, backend='threading')(\n\u001b[1;32m---> 31\u001b[1;33m     delayed(copy_files)(in_directory, out_directory, i['imagepath']) for i in results)\n\u001b[0m",
      "\u001b[1;32mC:\\ProgramData\\Anaconda3\\lib\\site-packages\\joblib\\parallel.py\u001b[0m in \u001b[0;36m__call__\u001b[1;34m(self, iterable)\u001b[0m\n\u001b[0;32m    787\u001b[0m                 \u001b[1;31m# consumption.\u001b[0m\u001b[1;33m\u001b[0m\u001b[1;33m\u001b[0m\u001b[0m\n\u001b[0;32m    788\u001b[0m                 \u001b[0mself\u001b[0m\u001b[1;33m.\u001b[0m\u001b[0m_iterating\u001b[0m \u001b[1;33m=\u001b[0m \u001b[1;32mFalse\u001b[0m\u001b[1;33m\u001b[0m\u001b[0m\n\u001b[1;32m--> 789\u001b[1;33m             \u001b[0mself\u001b[0m\u001b[1;33m.\u001b[0m\u001b[0mretrieve\u001b[0m\u001b[1;33m(\u001b[0m\u001b[1;33m)\u001b[0m\u001b[1;33m\u001b[0m\u001b[0m\n\u001b[0m\u001b[0;32m    790\u001b[0m             \u001b[1;31m# Make sure that we get a last message telling us we are done\u001b[0m\u001b[1;33m\u001b[0m\u001b[1;33m\u001b[0m\u001b[0m\n\u001b[0;32m    791\u001b[0m             \u001b[0melapsed_time\u001b[0m \u001b[1;33m=\u001b[0m \u001b[0mtime\u001b[0m\u001b[1;33m.\u001b[0m\u001b[0mtime\u001b[0m\u001b[1;33m(\u001b[0m\u001b[1;33m)\u001b[0m \u001b[1;33m-\u001b[0m \u001b[0mself\u001b[0m\u001b[1;33m.\u001b[0m\u001b[0m_start_time\u001b[0m\u001b[1;33m\u001b[0m\u001b[0m\n",
      "\u001b[1;32mC:\\ProgramData\\Anaconda3\\lib\\site-packages\\joblib\\parallel.py\u001b[0m in \u001b[0;36mretrieve\u001b[1;34m(self)\u001b[0m\n\u001b[0;32m    697\u001b[0m             \u001b[1;32mtry\u001b[0m\u001b[1;33m:\u001b[0m\u001b[1;33m\u001b[0m\u001b[0m\n\u001b[0;32m    698\u001b[0m                 \u001b[1;32mif\u001b[0m \u001b[0mgetattr\u001b[0m\u001b[1;33m(\u001b[0m\u001b[0mself\u001b[0m\u001b[1;33m.\u001b[0m\u001b[0m_backend\u001b[0m\u001b[1;33m,\u001b[0m \u001b[1;34m'supports_timeout'\u001b[0m\u001b[1;33m,\u001b[0m \u001b[1;32mFalse\u001b[0m\u001b[1;33m)\u001b[0m\u001b[1;33m:\u001b[0m\u001b[1;33m\u001b[0m\u001b[0m\n\u001b[1;32m--> 699\u001b[1;33m                     \u001b[0mself\u001b[0m\u001b[1;33m.\u001b[0m\u001b[0m_output\u001b[0m\u001b[1;33m.\u001b[0m\u001b[0mextend\u001b[0m\u001b[1;33m(\u001b[0m\u001b[0mjob\u001b[0m\u001b[1;33m.\u001b[0m\u001b[0mget\u001b[0m\u001b[1;33m(\u001b[0m\u001b[0mtimeout\u001b[0m\u001b[1;33m=\u001b[0m\u001b[0mself\u001b[0m\u001b[1;33m.\u001b[0m\u001b[0mtimeout\u001b[0m\u001b[1;33m)\u001b[0m\u001b[1;33m)\u001b[0m\u001b[1;33m\u001b[0m\u001b[0m\n\u001b[0m\u001b[0;32m    700\u001b[0m                 \u001b[1;32melse\u001b[0m\u001b[1;33m:\u001b[0m\u001b[1;33m\u001b[0m\u001b[0m\n\u001b[0;32m    701\u001b[0m                     \u001b[0mself\u001b[0m\u001b[1;33m.\u001b[0m\u001b[0m_output\u001b[0m\u001b[1;33m.\u001b[0m\u001b[0mextend\u001b[0m\u001b[1;33m(\u001b[0m\u001b[0mjob\u001b[0m\u001b[1;33m.\u001b[0m\u001b[0mget\u001b[0m\u001b[1;33m(\u001b[0m\u001b[1;33m)\u001b[0m\u001b[1;33m)\u001b[0m\u001b[1;33m\u001b[0m\u001b[0m\n",
      "\u001b[1;32mC:\\ProgramData\\Anaconda3\\lib\\multiprocessing\\pool.py\u001b[0m in \u001b[0;36mget\u001b[1;34m(self, timeout)\u001b[0m\n\u001b[0;32m    636\u001b[0m \u001b[1;33m\u001b[0m\u001b[0m\n\u001b[0;32m    637\u001b[0m     \u001b[1;32mdef\u001b[0m \u001b[0mget\u001b[0m\u001b[1;33m(\u001b[0m\u001b[0mself\u001b[0m\u001b[1;33m,\u001b[0m \u001b[0mtimeout\u001b[0m\u001b[1;33m=\u001b[0m\u001b[1;32mNone\u001b[0m\u001b[1;33m)\u001b[0m\u001b[1;33m:\u001b[0m\u001b[1;33m\u001b[0m\u001b[0m\n\u001b[1;32m--> 638\u001b[1;33m         \u001b[0mself\u001b[0m\u001b[1;33m.\u001b[0m\u001b[0mwait\u001b[0m\u001b[1;33m(\u001b[0m\u001b[0mtimeout\u001b[0m\u001b[1;33m)\u001b[0m\u001b[1;33m\u001b[0m\u001b[0m\n\u001b[0m\u001b[0;32m    639\u001b[0m         \u001b[1;32mif\u001b[0m \u001b[1;32mnot\u001b[0m \u001b[0mself\u001b[0m\u001b[1;33m.\u001b[0m\u001b[0mready\u001b[0m\u001b[1;33m(\u001b[0m\u001b[1;33m)\u001b[0m\u001b[1;33m:\u001b[0m\u001b[1;33m\u001b[0m\u001b[0m\n\u001b[0;32m    640\u001b[0m             \u001b[1;32mraise\u001b[0m \u001b[0mTimeoutError\u001b[0m\u001b[1;33m\u001b[0m\u001b[0m\n",
      "\u001b[1;32mC:\\ProgramData\\Anaconda3\\lib\\multiprocessing\\pool.py\u001b[0m in \u001b[0;36mwait\u001b[1;34m(self, timeout)\u001b[0m\n\u001b[0;32m    633\u001b[0m \u001b[1;33m\u001b[0m\u001b[0m\n\u001b[0;32m    634\u001b[0m     \u001b[1;32mdef\u001b[0m \u001b[0mwait\u001b[0m\u001b[1;33m(\u001b[0m\u001b[0mself\u001b[0m\u001b[1;33m,\u001b[0m \u001b[0mtimeout\u001b[0m\u001b[1;33m=\u001b[0m\u001b[1;32mNone\u001b[0m\u001b[1;33m)\u001b[0m\u001b[1;33m:\u001b[0m\u001b[1;33m\u001b[0m\u001b[0m\n\u001b[1;32m--> 635\u001b[1;33m         \u001b[0mself\u001b[0m\u001b[1;33m.\u001b[0m\u001b[0m_event\u001b[0m\u001b[1;33m.\u001b[0m\u001b[0mwait\u001b[0m\u001b[1;33m(\u001b[0m\u001b[0mtimeout\u001b[0m\u001b[1;33m)\u001b[0m\u001b[1;33m\u001b[0m\u001b[0m\n\u001b[0m\u001b[0;32m    636\u001b[0m \u001b[1;33m\u001b[0m\u001b[0m\n\u001b[0;32m    637\u001b[0m     \u001b[1;32mdef\u001b[0m \u001b[0mget\u001b[0m\u001b[1;33m(\u001b[0m\u001b[0mself\u001b[0m\u001b[1;33m,\u001b[0m \u001b[0mtimeout\u001b[0m\u001b[1;33m=\u001b[0m\u001b[1;32mNone\u001b[0m\u001b[1;33m)\u001b[0m\u001b[1;33m:\u001b[0m\u001b[1;33m\u001b[0m\u001b[0m\n",
      "\u001b[1;32mC:\\ProgramData\\Anaconda3\\lib\\threading.py\u001b[0m in \u001b[0;36mwait\u001b[1;34m(self, timeout)\u001b[0m\n\u001b[0;32m    549\u001b[0m             \u001b[0msignaled\u001b[0m \u001b[1;33m=\u001b[0m \u001b[0mself\u001b[0m\u001b[1;33m.\u001b[0m\u001b[0m_flag\u001b[0m\u001b[1;33m\u001b[0m\u001b[0m\n\u001b[0;32m    550\u001b[0m             \u001b[1;32mif\u001b[0m \u001b[1;32mnot\u001b[0m \u001b[0msignaled\u001b[0m\u001b[1;33m:\u001b[0m\u001b[1;33m\u001b[0m\u001b[0m\n\u001b[1;32m--> 551\u001b[1;33m                 \u001b[0msignaled\u001b[0m \u001b[1;33m=\u001b[0m \u001b[0mself\u001b[0m\u001b[1;33m.\u001b[0m\u001b[0m_cond\u001b[0m\u001b[1;33m.\u001b[0m\u001b[0mwait\u001b[0m\u001b[1;33m(\u001b[0m\u001b[0mtimeout\u001b[0m\u001b[1;33m)\u001b[0m\u001b[1;33m\u001b[0m\u001b[0m\n\u001b[0m\u001b[0;32m    552\u001b[0m             \u001b[1;32mreturn\u001b[0m \u001b[0msignaled\u001b[0m\u001b[1;33m\u001b[0m\u001b[0m\n\u001b[0;32m    553\u001b[0m \u001b[1;33m\u001b[0m\u001b[0m\n",
      "\u001b[1;32mC:\\ProgramData\\Anaconda3\\lib\\threading.py\u001b[0m in \u001b[0;36mwait\u001b[1;34m(self, timeout)\u001b[0m\n\u001b[0;32m    293\u001b[0m         \u001b[1;32mtry\u001b[0m\u001b[1;33m:\u001b[0m    \u001b[1;31m# restore state no matter what (e.g., KeyboardInterrupt)\u001b[0m\u001b[1;33m\u001b[0m\u001b[0m\n\u001b[0;32m    294\u001b[0m             \u001b[1;32mif\u001b[0m \u001b[0mtimeout\u001b[0m \u001b[1;32mis\u001b[0m \u001b[1;32mNone\u001b[0m\u001b[1;33m:\u001b[0m\u001b[1;33m\u001b[0m\u001b[0m\n\u001b[1;32m--> 295\u001b[1;33m                 \u001b[0mwaiter\u001b[0m\u001b[1;33m.\u001b[0m\u001b[0macquire\u001b[0m\u001b[1;33m(\u001b[0m\u001b[1;33m)\u001b[0m\u001b[1;33m\u001b[0m\u001b[0m\n\u001b[0m\u001b[0;32m    296\u001b[0m                 \u001b[0mgotit\u001b[0m \u001b[1;33m=\u001b[0m \u001b[1;32mTrue\u001b[0m\u001b[1;33m\u001b[0m\u001b[0m\n\u001b[0;32m    297\u001b[0m             \u001b[1;32melse\u001b[0m\u001b[1;33m:\u001b[0m\u001b[1;33m\u001b[0m\u001b[0m\n",
      "\u001b[1;31mKeyboardInterrupt\u001b[0m: "
     ]
    }
   ],
   "source": [
    "def copy_file(in_path, out_path):\n",
    "    if os.path.exists(out_path):\n",
    "        return\n",
    "    copyfile(in_path, out_path)\n",
    "\n",
    "def copy_files(in_dir, out_dir, name):\n",
    "    if 'pbar' in globals() and 'counter' in globals():\n",
    "        global counter\n",
    "        counter += 1\n",
    "        pbar.update(counter)\n",
    "\n",
    "    rgb_name = name+'.tiff'\n",
    "    depth_name = name+'-depth.tiff'\n",
    "    stencil_name = name+'-stencil.tiff'\n",
    "    \n",
    "    copyfile(os.path.join(in_dir, rgb_name), os.path.join(out_dir, rgb_name))\n",
    "    copyfile(os.path.join(in_dir, depth_name), os.path.join(out_dir, depth_name))\n",
    "    copyfile(os.path.join(in_dir, stencil_name), os.path.join(out_dir, stencil_name))\n",
    "\n",
    "workers = 8\n",
    "\n",
    "out_directory = r'Z:\\offroad-4-orig'\n",
    "widgets = [progressbar.Percentage(), ' ', progressbar.Counter(), ' ', progressbar.Bar(), ' ',\n",
    "           progressbar.FileTransferSpeed()]\n",
    "\n",
    "pbar = progressbar.ProgressBar(widgets=widgets, max_value=len(results)).start()\n",
    "counter = 0\n",
    "\n",
    "Parallel(n_jobs=workers, backend='threading')(\n",
    "    delayed(copy_files)(in_directory, out_directory, i['imagepath']) for i in results)\n"
   ]
  },
  {
   "cell_type": "markdown",
   "metadata": {},
   "source": [
    "### copying videos into datagrid"
   ]
  },
  {
   "cell_type": "code",
   "execution_count": null,
   "metadata": {
    "collapsed": true
   },
   "outputs": [],
   "source": []
  },
  {
   "cell_type": "markdown",
   "metadata": {},
   "source": [
    "### dumping one snapshot, for testing"
   ]
  },
  {
   "cell_type": "code",
   "execution_count": null,
   "metadata": {
    "collapsed": true,
    "scrolled": false
   },
   "outputs": [],
   "source": [
    "dump_snapshot_to_dataset(in_directory, out_directory, results[0])\n"
   ]
  },
  {
   "cell_type": "code",
   "execution_count": null,
   "metadata": {
    "collapsed": true
   },
   "outputs": [],
   "source": [
    "im = np.array(Image.open(os.path.join(out_directory, results[0]['imagepath']+'-depth.png')))\n",
    "print(np.min(im))\n",
    "print(np.max(im))\n"
   ]
  },
  {
   "cell_type": "code",
   "execution_count": null,
   "metadata": {
    "collapsed": true
   },
   "outputs": [],
   "source": [
    "results[0]['snapshot_id']"
   ]
  },
  {
   "cell_type": "code",
   "execution_count": 64,
   "metadata": {},
   "outputs": [
    {
     "data": {
      "text/plain": [
       "{'cam_near_clip': 0.15,\n",
       " 'camera_fov': 90.0,\n",
       " 'camera_pos': array([ 2524.83105469,  3334.53613281,    53.38750458]),\n",
       " 'camera_relative_position': array([-0.06      ,  1.5       ,  1.07649994]),\n",
       " 'camera_relative_rotation': array([ 0.,  0.,  0.]),\n",
       " 'camera_rot': array([-1.26793635, -4.02545595, -0.25146627]),\n",
       " 'current_target': array([2586.0, 3490.0, None], dtype=object),\n",
       " 'currentweather': 'Clear',\n",
       " 'height': 1052,\n",
       " 'imagepath': '2018-08-13--11-15-01--499',\n",
       " 'proj_matrix': array([[  5.49634274e-01,   0.00000000e+00,   0.00000000e+00,\n",
       "           0.00000000e+00],\n",
       "        [  0.00000000e+00,   1.00000000e+00,   0.00000000e+00,\n",
       "           0.00000000e+00],\n",
       "        [  0.00000000e+00,   0.00000000e+00,   1.49945045e-05,\n",
       "           1.50002249e-01],\n",
       "        [  0.00000000e+00,   0.00000000e+00,  -1.00000000e+00,\n",
       "           0.00000000e+00]]),\n",
       " 'snapshot_id': 466517,\n",
       " 'timeofday': datetime.time(12, 5, 35),\n",
       " 'timestamp': datetime.datetime(2018, 8, 13, 11, 15, 1, 499713, tzinfo=psycopg2.tz.FixedOffsetTimezone(offset=0, name=None)),\n",
       " 'view_matrix': array([[  9.97523352e-01,  -4.37807276e-03,   7.01996747e-02,\n",
       "          -2.50772688e+03],\n",
       "        [ -7.00846934e-02,   2.24356686e-02,   9.97288713e-01,\n",
       "           4.88967069e+01],\n",
       "        [ -5.94117919e-03,  -9.99738702e-01,   2.20732675e-02,\n",
       "           3.34748686e+03],\n",
       "        [  0.00000000e+00,   0.00000000e+00,   0.00000000e+00,\n",
       "           1.00000000e+00]]),\n",
       " 'width': 1914}"
      ]
     },
     "execution_count": 64,
     "metadata": {},
     "output_type": "execute_result"
    }
   ],
   "source": [
    "res = results[0]\n",
    "res"
   ]
  },
  {
   "cell_type": "code",
   "execution_count": null,
   "metadata": {
    "collapsed": true
   },
   "outputs": [],
   "source": []
  }
 ],
 "metadata": {
  "kernelspec": {
   "display_name": "Python 3",
   "language": "python",
   "name": "python3"
  },
  "language_info": {
   "codemirror_mode": {
    "name": "ipython",
    "version": 3
   },
   "file_extension": ".py",
   "mimetype": "text/x-python",
   "name": "python",
   "nbconvert_exporter": "python",
   "pygments_lexer": "ipython3",
   "version": "3.6.3"
  }
 },
 "nbformat": 4,
 "nbformat_minor": 2
}
