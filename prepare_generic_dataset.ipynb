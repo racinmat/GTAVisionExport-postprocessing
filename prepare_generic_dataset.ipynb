{
 "cells": [
  {
   "cell_type": "code",
   "execution_count": 1,
   "metadata": {
    "collapsed": true
   },
   "outputs": [],
   "source": [
    "import numpy as np\n",
    "import matplotlib.pyplot as plt\n",
    "import visualization\n",
    "import os\n",
    "from gta_math import points_to_homo, ndc_to_view, construct_proj_matrix, view_to_world, construct_view_matrix\n",
    "from visualization import load_depth, load_stencil, save_pointcloud_csv, bbox_from_string, are_buffers_same_as_previous, \\\n",
    "    is_first_record_in_run, camera_to_string\n",
    "import progressbar\n",
    "from joblib import Parallel, delayed\n",
    "from configparser import ConfigParser\n",
    "from PIL import Image\n",
    "import pickle\n",
    "import json\n",
    "import time\n",
    "from shutil import copyfile\n",
    "from functools import lru_cache"
   ]
  },
  {
   "cell_type": "code",
   "execution_count": 2,
   "metadata": {
    "collapsed": true
   },
   "outputs": [],
   "source": [
    "ini_file = \"gta-postprocessing.ini\"\n",
    "visualization.multi_page = False\n",
    "visualization.ini_file = ini_file\n",
    "visualization.use_cache = False\n",
    "\n",
    "conn = visualization.get_connection_pooled()\n",
    "cur = conn.cursor()\n",
    "\n",
    "CONFIG = ConfigParser()\n",
    "CONFIG.read(ini_file)\n",
    "in_directory = CONFIG[\"Images\"][\"Tiff\"]\n",
    "out_directory = r'D:\\output-datasets\\onroad-8'\n",
    "\n",
    "# for some datasets we don't need entities, which produces lot smaller json files\n",
    "# for some datasets, we want each camera data to be in separate folder\n",
    "# sometimes buffers are not synced and don't correspond to current camera. \n",
    "# they can be recognized by having same data as previous record\n",
    "include_entities = True\n",
    "directory_per_camera = False\n",
    "\n",
    "discard_invalid_buffers = True"
   ]
  },
  {
   "cell_type": "code",
   "execution_count": 3,
   "metadata": {},
   "outputs": [
    {
     "name": "stdout",
     "output_type": "stream",
     "text": [
      "There are 6503 snapshots\n",
      "{'camera_-0.80_0.80_0.40__0.00_0.00_90.00': '0', 'camera_0.00_-2.30_0.30__0.00_0.00_180.00': '1', 'camera_0.00_2.00_0.30__0.00_0.00_0.00': '2', 'camera_0.80_0.80_0.40__0.00_0.00_270.00': '3'}\n"
     ]
    }
   ],
   "source": [
    "#run_id = 19\n",
    "#run_id = 3677\n",
    "run_id = 4190\n",
    "\n",
    "cur.execute(\"\"\"SELECT snapshot_id, imagepath, cam_near_clip, camera_fov, width, height, timestamp, timeofday, width, height, \\\n",
    "      ARRAY[st_x(camera_relative_rotation), st_y(camera_relative_rotation), st_z(camera_relative_rotation)] as camera_relative_rotation, \\\n",
    "      ARRAY[st_x(camera_relative_position), st_y(camera_relative_position), st_z(camera_relative_position)] as camera_relative_position, \\\n",
    "      ARRAY[st_x(camera_pos), st_y(camera_pos), st_z(camera_pos)] as camera_pos, \\\n",
    "      ARRAY[st_x(camera_rot), st_y(camera_rot), st_z(camera_rot)] as camera_rot, \\\n",
    "      ARRAY[st_x(current_target), st_y(current_target), st_z(current_target)] as current_target, \\\n",
    "      currentweather, scene_id \\\n",
    "      FROM snapshots \\\n",
    "      WHERE run_id = {}\n",
    "      ORDER BY timestamp ASC \\\n",
    "    \"\"\".format(run_id))\n",
    "\n",
    "results = []\n",
    "for row in cur:\n",
    "    res = dict(row)\n",
    "    if res['camera_fov'] == 0 and res['cam_near_clip'] == 0:\n",
    "        continue  # somehow malformed data, skipping them\n",
    "    res['camera_rot'] = np.array(res['camera_rot'])\n",
    "    res['camera_pos'] = np.array(res['camera_pos'])\n",
    "    res['camera_relative_rotation'] = np.array(res['camera_relative_rotation'])\n",
    "    res['camera_relative_position'] = np.array(res['camera_relative_position'])\n",
    "    res['current_target'] = np.array(res['current_target'])\n",
    "    res['view_matrix'] = construct_view_matrix(res['camera_pos'], res['camera_rot'])\n",
    "    res['proj_matrix'] = construct_proj_matrix(res['height'], res['width'], res['camera_fov'], res['cam_near_clip'])\n",
    "    results.append(res)\n",
    "\n",
    "print('There are {} snapshots'.format(len(results)))\n",
    "\n",
    "# because sometimes I use two cameras heading same direction, pair (position, rotation) is unique identifier\n",
    "cur.execute(\"\"\"SELECT DISTINCT \\\n",
    "      ARRAY[st_x(camera_relative_rotation), st_y(camera_relative_rotation), st_z(camera_relative_rotation)] as camera_relative_rotation, \n",
    "      ARRAY[st_x(camera_relative_position), st_y(camera_relative_position), st_z(camera_relative_position)] as camera_relative_position \n",
    "      FROM snapshots \\\n",
    "      WHERE run_id = {} AND camera_fov != 0 \\\n",
    "      ORDER BY camera_relative_position, camera_relative_rotation ASC \\\n",
    "    \"\"\".format(run_id))\n",
    "\n",
    "camera_names = {}\n",
    "for i, row in enumerate(cur):\n",
    "    camera_name = camera_to_string(row)\n",
    "    camera_names[camera_name] = str(i)\n",
    "    \n",
    "print(camera_names)\n"
   ]
  },
  {
   "cell_type": "code",
   "execution_count": 4,
   "metadata": {
    "collapsed": true
   },
   "outputs": [],
   "source": [
    "def get_base_name(name):\n",
    "    return os.path.basename(os.path.splitext(name)[0])\n",
    "\n",
    "def get_main_image_name(cameras):\n",
    "    for cam in cameras:\n",
    "        # this is the main camera\n",
    "        if np.array_equal(cam['camera_relative_rotation'], [0, 0, 0]):\n",
    "            return cam['imagepath']\n",
    "    raise Exception('no main image')\n",
    "\n",
    "def load_entities_data(snapshot_id):\n",
    "    conn = visualization.get_connection_pooled()\n",
    "    cur = conn.cursor()\n",
    "    \n",
    "    # start = time.time()\n",
    "\n",
    "    cur.execute(\"\"\"SELECT bbox, \\\n",
    "        ARRAY[st_x(pos), st_y(pos), st_z(pos)] as pos, \\\n",
    "        ARRAY[st_x(rot), st_y(rot), st_z(rot)] as rot, \\\n",
    "        ARRAY[st_xmin(bbox3d), st_xmax(bbox3d), st_ymin(bbox3d), st_ymax(bbox3d), st_zmin(bbox3d), st_zmax(bbox3d)] as bbox3d, \\\n",
    "         type, class, handle, snapshot_id \\\n",
    "        FROM detections \\\n",
    "        WHERE snapshot_id = '{}' \\\n",
    "        \"\"\".format(snapshot_id))\n",
    "\n",
    "    # end = time.time()\n",
    "    # print('time to load from db', end - start)\n",
    "    # start = time.time()\n",
    "\n",
    "    # print(size)\n",
    "    results = []\n",
    "    for row in cur:\n",
    "        res = dict(row)\n",
    "        res['model_sizes'] = np.array(res['bbox3d'])\n",
    "        res['bbox'] = bbox_from_string(res['bbox'])\n",
    "        res['pos'] = np.array(res['pos'])\n",
    "        res['rot'] = np.array(res['rot'])\n",
    "        results.append(res)\n",
    "\n",
    "    # end = time.time()\n",
    "    # print('time to convert arrays to numpy', end - start)\n",
    "    # start = time.time()\n",
    "\n",
    "    return results\n",
    "\n",
    "\n",
    "def convert_rgb(in_directory, out_directory, out_name, name, out_format):\n",
    "    outfile = os.path.join(out_directory, \"{}.{}\".format(out_name, out_format))\n",
    "    # print(outfile)\n",
    "    if os.path.exists(outfile):\n",
    "        return\n",
    "\n",
    "    try:\n",
    "        infile = os.path.join(in_directory, name)\n",
    "        im = Image.open(infile)\n",
    "        im = im.convert(mode=\"RGB\")\n",
    "        im.save(outfile)\n",
    "    except OSError:\n",
    "        # print(\"Skipping invalid file {}\".format(name))\n",
    "        return\n",
    "\n",
    "\n",
    "def convert_depth(in_directory, out_directory, out_name, name, out_format):\n",
    "    outfile = os.path.join(out_directory, \"{}.{}\".format(out_name, out_format))\n",
    "    # print(outfile)\n",
    "    if os.path.exists(outfile):\n",
    "        return\n",
    "\n",
    "    try:\n",
    "        infile = os.path.join(in_directory, name)\n",
    "        depth = load_depth(name)\n",
    "        # print('depth min before: ', np.min(depth))\n",
    "        # print('depth max before: ', np.max(depth))\n",
    "        depth = depth * np.iinfo(np.uint16).max\n",
    "        # print('depth min after: ', np.min(depth))\n",
    "        # print('depth max after: ', np.max(depth))\n",
    "        im = Image.fromarray(depth.astype(np.int32), mode=\"I\")\n",
    "        im.save(outfile)\n",
    "    except OSError:\n",
    "        # print(\"Skipping invalid file {}\".format(name))\n",
    "        return\n",
    "\n",
    "def convert_stencil(in_directory, out_directory, out_name, name, out_format):\n",
    "    outfile = os.path.join(out_directory, \"{}.{}\".format(out_name, out_format))\n",
    "    # print(outfile)\n",
    "    if os.path.exists(outfile):\n",
    "        return\n",
    "\n",
    "    try:\n",
    "        infile = os.path.join(in_directory, name)\n",
    "        stencil = load_stencil(name)\n",
    "        im = Image.fromarray(stencil.astype(np.uint8), mode=\"L\")\n",
    "        im.save(outfile)\n",
    "    except OSError:\n",
    "        # print(\"Skipping invalid file {}\".format(name))\n",
    "        return\n",
    "\n",
    "def get_out_directory(out_directory, res, directory_per_camera):\n",
    "    if directory_per_camera:\n",
    "        return os.path.join(out_directory, camera_names[camera_to_string(res)])\n",
    "    else:\n",
    "        return out_directory\n",
    "\n",
    "def try_dump_snapshot_to_dataset(in_directory, out_directory, res, run_id, include_entities):\n",
    "    try:\n",
    "        dump_snapshot_to_dataset(in_directory, out_directory, res, run_id, include_entities)\n",
    "    except Exception as e:\n",
    "        print(e)\n",
    "        pass\n",
    "\n",
    "def dump_snapshot_to_dataset(in_directory, out_directory, res, run_id, include_entities):\n",
    "    if 'pbar' in globals() and 'counter' in globals():\n",
    "        global counter\n",
    "        counter += 1\n",
    "        pbar.update(counter)\n",
    "\n",
    "    start = time.time()\n",
    "    \n",
    "    if not os.path.exists(out_directory):\n",
    "        os.makedirs(out_directory)\n",
    "\n",
    "    if discard_invalid_buffers and (not is_first_record_in_run(res, run_id)) and \\\n",
    "        are_buffers_same_as_previous(res):\n",
    "        print('skipping record wih invalid buffers in snapshot {}, filename {} and camera {}'\n",
    "              .format(res['snapshot_id'], res['imagepath'], res['camera_relative_position'].tolist()))\n",
    "        return\n",
    "    \n",
    "    name = res['imagepath']\n",
    "#    convert_rgb(in_directory, out_directory, get_base_name(name), get_base_name(name)+'.tiff', 'png')\n",
    "    convert_rgb(in_directory, out_directory, get_base_name(name), get_base_name(name)+'.tiff', 'jpg')\n",
    "    convert_depth(in_directory, out_directory, get_base_name(name)+'-depth', get_base_name(name), 'png')\n",
    "    convert_stencil(in_directory, out_directory, get_base_name(name)+'-stencil', get_base_name(name), 'png')\n",
    "    # end = time.time()\n",
    "    # print('time to generate images', end - start)\n",
    "    # start = time.time()\n",
    "    \n",
    "    outfile = os.path.join(out_directory, '{}.json'.format(res['imagepath']))\n",
    "    if os.path.exists(outfile):\n",
    "        return\n",
    "\n",
    "    if include_entities:\n",
    "        data = load_entities_data(res['snapshot_id'])\n",
    "\n",
    "        # end = time.time()\n",
    "        # print('loading entities data', end - start)\n",
    "        # start = time.time()\n",
    "    \n",
    "        json_entities_data = []\n",
    "        for i in data:\n",
    "            json_entity = {\n",
    "                'model_sizes': i['model_sizes'].tolist(),\n",
    "                'bbox': i['bbox'].tolist(),\n",
    "                'pos': i['pos'].tolist(),\n",
    "                'rot': i['rot'].tolist(),\n",
    "                'class': i['class'],\n",
    "                'handle': i['handle'],\n",
    "                'type': i['type'],\n",
    "            }\n",
    "            json_entities_data.append(json_entity)\n",
    "\n",
    "    # end = time.time()\n",
    "    # print('dumping entities to json', end - start)\n",
    "    # start = time.time()\n",
    "\n",
    "    json_data = {\n",
    "        'imagepath': res['imagepath'],\n",
    "        'timestamp': res['timestamp'].strftime(\"%Y-%m-%d %H:%M:%S\"),\n",
    "        'timeofday': res['timeofday'].strftime(\"%H:%M:%S\"),\n",
    "        'currentweather': res['currentweather'],\n",
    "        'width': res['width'],\n",
    "        'height': res['height'],\n",
    "        'snapshot_id': res['snapshot_id'],\n",
    "        'scene_id': res['scene_id'],\n",
    "        'camera_rot': res['camera_rot'].tolist(),\n",
    "        'camera_pos': res['camera_pos'].tolist(),\n",
    "        'camera_fov': res['camera_fov'],\n",
    "        'camera_relative_rotation': res['camera_relative_rotation'].tolist(),\n",
    "        'camera_relative_position': res['camera_relative_position'].tolist(),\n",
    "        'current_target': res['current_target'].tolist(),\n",
    "        'view_matrix': res['view_matrix'].tolist(),\n",
    "        'proj_matrix': res['proj_matrix'].tolist(),\n",
    "    }\n",
    "    \n",
    "    if include_entities:\n",
    "        json_data['entities'] = json_entities_data\n",
    "\n",
    "    # end = time.time()\n",
    "    # print('dumping base object to json', end - start)\n",
    "    # start = time.time()\n",
    "\n",
    "    with open(outfile, 'w') as f:\n",
    "        json.dump(json_data, f)\n",
    "    \n",
    "    # end = time.time()\n",
    "    # print('persisting json to file', end - start)\n",
    "    "
   ]
  },
  {
   "cell_type": "markdown",
   "metadata": {},
   "source": [
    "### dumping all data"
   ]
  },
  {
   "cell_type": "code",
   "execution_count": 5,
   "metadata": {
    "scrolled": true
   },
   "outputs": [
    {
     "name": "stderr",
     "output_type": "stream",
     "text": [
      "  0% 27 |                                                           |   3.4 B/s"
     ]
    },
    {
     "name": "stdout",
     "output_type": "stream",
     "text": [
      "skipping record wih invalid buffers in snapshot 553668, filename 2018-08-20--18-53-59--877 and camera [0.0, -2.29999995231628, 0.300000011920929]\n"
     ]
    },
    {
     "name": "stderr",
     "output_type": "stream",
     "text": [
      "  0% 29 |                                                           |   3.2 B/s"
     ]
    },
    {
     "name": "stdout",
     "output_type": "stream",
     "text": [
      "skipping record wih invalid buffers in snapshot 553672, filename 2018-08-20--18-54-01--482 and camera [0.0, -2.29999995231628, 0.300000011920929]\n",
      "skipping record wih invalid buffers in snapshot 553673, filename 2018-08-20--18-54-01--815 and camera [0.800000011920929, 0.800000011920929, 0.400000005960464]\n"
     ]
    },
    {
     "name": "stderr",
     "output_type": "stream",
     "text": [
      "  0% 32 |                                                           |   3.4 B/s"
     ]
    },
    {
     "name": "stdout",
     "output_type": "stream",
     "text": [
      "skipping record wih invalid buffers in snapshot 553669, filename 2018-08-20--18-54-00--196 and camera [0.800000011920929, 0.800000011920929, 0.400000005960464]\n",
      "skipping record wih invalid buffers in snapshot 553671, filename 2018-08-20--18-54-01--172 and camera [-0.800000011920929, 0.800000011920929, 0.400000005960464]\n",
      "skipping record wih invalid buffers in snapshot 553670, filename 2018-08-20--18-54-00--795 and camera [0.0, 2.0, 0.300000011920929]\n"
     ]
    },
    {
     "name": "stderr",
     "output_type": "stream",
     "text": [
      "  0% 34 |                                                           |   3.4 B/s"
     ]
    },
    {
     "name": "stdout",
     "output_type": "stream",
     "text": [
      "skipping record wih invalid buffers in snapshot 553674, filename 2018-08-20--18-54-02--418 and camera [0.0, 2.0, 0.300000011920929]\n",
      "skipping record wih invalid buffers in snapshot 553676, filename 2018-08-20--18-54-03--072 and camera [0.0, -2.29999995231628, 0.300000011920929]\n"
     ]
    },
    {
     "name": "stderr",
     "output_type": "stream",
     "text": [
      "\r",
      "                                                                               \r",
      "\r",
      "  0% 35 |                                                           |   3.4 B/s"
     ]
    },
    {
     "name": "stdout",
     "output_type": "stream",
     "text": [
      "skipping record wih invalid buffers in snapshot 553675, filename 2018-08-20--18-54-02--754 and camera [-0.800000011920929, 0.800000011920929, 0.400000005960464]\n"
     ]
    },
    {
     "name": "stderr",
     "output_type": "stream",
     "text": [
      "  0% 37 |                                                           |   3.3 B/s"
     ]
    },
    {
     "name": "stdout",
     "output_type": "stream",
     "text": [
      "skipping record wih invalid buffers in snapshot 553677, filename 2018-08-20--18-54-03--459 and camera [0.800000011920929, 0.800000011920929, 0.400000005960464]\n",
      "skipping record wih invalid buffers in snapshot 553680, filename 2018-08-20--18-54-04--696 and camera [0.0, -2.29999995231628, 0.300000011920929]\n"
     ]
    },
    {
     "name": "stderr",
     "output_type": "stream",
     "text": [
      "\r",
      "                                                                               \r",
      "\r",
      "  0% 39 |                                                           |   3.4 B/s"
     ]
    },
    {
     "name": "stdout",
     "output_type": "stream",
     "text": [
      "skipping record wih invalid buffers in snapshot 553681, filename 2018-08-20--18-54-05--013 and camera [0.800000011920929, 0.800000011920929, 0.400000005960464]\n",
      "skipping record wih invalid buffers in snapshot 553678, filename 2018-08-20--18-54-03--904 and camera [0.0, 2.0, 0.300000011920929]\n",
      "skipping record wih invalid buffers in snapshot 553679, filename 2018-08-20--18-54-04--350 and camera [-0.800000011920929, 0.800000011920929, 0.400000005960464]\n"
     ]
    },
    {
     "name": "stderr",
     "output_type": "stream",
     "text": [
      "  0% 42 |                                                           |   3.6 B/s"
     ]
    },
    {
     "name": "stdout",
     "output_type": "stream",
     "text": [
      "skipping record wih invalid buffers in snapshot 553683, filename 2018-08-20--18-54-05--899 and camera [-0.800000011920929, 0.800000011920929, 0.400000005960464]\n",
      "skipping record wih invalid buffers in snapshot 553682, filename 2018-08-20--18-54-05--474 and camera [0.0, 2.0, 0.300000011920929]\n"
     ]
    },
    {
     "name": "stderr",
     "output_type": "stream",
     "text": [
      "\r",
      "                                                                               \r",
      "\r",
      "  0% 43 |                                                           |   3.6 B/s"
     ]
    },
    {
     "name": "stdout",
     "output_type": "stream",
     "text": [
      "skipping record wih invalid buffers in snapshot 553684, filename 2018-08-20--18-54-06--293 and camera [0.0, -2.29999995231628, 0.300000011920929]\n"
     ]
    },
    {
     "name": "stderr",
     "output_type": "stream",
     "text": [
      "  0% 46 |                                                           |   3.5 B/s"
     ]
    },
    {
     "name": "stdout",
     "output_type": "stream",
     "text": [
      "skipping record wih invalid buffers in snapshot 553689, filename 2018-08-20--18-54-08--229 and camera [0.800000011920929, 0.800000011920929, 0.400000005960464]\n",
      "skipping record wih invalid buffers in snapshot 553685, filename 2018-08-20--18-54-06--619 and camera [0.800000011920929, 0.800000011920929, 0.400000005960464]\n",
      "skipping record wih invalid buffers in snapshot 553687, filename 2018-08-20--18-54-07--602 and camera [-0.800000011920929, 0.800000011920929, 0.400000005960464]\n"
     ]
    },
    {
     "name": "stderr",
     "output_type": "stream",
     "text": [
      "\r",
      "                                                                               \r",
      "\r",
      "  0% 48 |                                                           |   3.6 B/s"
     ]
    },
    {
     "name": "stdout",
     "output_type": "stream",
     "text": [
      "skipping record wih invalid buffers in snapshot 553686, filename 2018-08-20--18-54-07--277 and camera [0.0, 2.0, 0.300000011920929]\n",
      "skipping record wih invalid buffers in snapshot 553688, filename 2018-08-20--18-54-07--909 and camera [0.0, -2.29999995231628, 0.300000011920929]\n",
      "skipping record wih invalid buffers in snapshot 553690, filename 2018-08-20--18-54-08--755 and camera [0.0, 2.0, 0.300000011920929]\n"
     ]
    },
    {
     "name": "stderr",
     "output_type": "stream",
     "text": [
      "  5% 360 |###                                                       |   3.1 B/sC:\\ProgramData\\Anaconda3\\lib\\site-packages\\tifffile\\tifffile.py:2642: RuntimeWarning: py_decodelzw encountered unexpected end of stream\n",
      "  strip = decompress(strip)\n",
      " 27% 1800 |###############                                          |   3.2 B/sC:\\ProgramData\\Anaconda3\\lib\\site-packages\\tifffile\\tifffile.py:2577: UserWarning: unpack: string size must be a multiple of element size\n",
      "  warnings.warn(\"unpack: %s\" % e)\n",
      " 35% 2279 |###################                                      |   3.3 B/s"
     ]
    },
    {
     "name": "stdout",
     "output_type": "stream",
     "text": [
      "skipping record wih invalid buffers in snapshot 555921, filename 2018-08-20--19-08-51--343 and camera [-0.800000011920929, 0.800000011920929, 0.400000005960464]\n"
     ]
    },
    {
     "name": "stderr",
     "output_type": "stream",
     "text": [
      " 40% 2636 |#######################                                  |   3.4 B/s"
     ]
    },
    {
     "name": "stdout",
     "output_type": "stream",
     "text": [
      "skipping record wih invalid buffers in snapshot 556281, filename 2018-08-20--19-11-15--493 and camera [-0.800000011920929, 0.800000011920929, 0.400000005960464]\n",
      "skipping record wih invalid buffers in snapshot 556280, filename 2018-08-20--19-11-15--182 and camera [0.0, 2.0, 0.300000011920929]\n"
     ]
    },
    {
     "name": "stderr",
     "output_type": "stream",
     "text": [
      " 40% 2638 |#######################                                  |   3.4 B/s"
     ]
    },
    {
     "name": "stdout",
     "output_type": "stream",
     "text": [
      "skipping record wih invalid buffers in snapshot 556282, filename 2018-08-20--19-11-15--799 and camera [0.0, -2.29999995231628, 0.300000011920929]\n"
     ]
    },
    {
     "name": "stderr",
     "output_type": "stream",
     "text": [
      " 40% 2643 |#######################                                  |   3.4 B/s"
     ]
    },
    {
     "name": "stdout",
     "output_type": "stream",
     "text": [
      "skipping record wih invalid buffers in snapshot 556283, filename 2018-08-20--19-11-16--149 and camera [0.800000011920929, 0.800000011920929, 0.400000005960464]\n",
      "skipping record wih invalid buffers in snapshot 556284, filename 2018-08-20--19-11-16--647 and camera [0.0, 2.0, 0.300000011920929]\n",
      "skipping record wih invalid buffers in snapshot 556285, filename 2018-08-20--19-11-16--940 and camera [-0.800000011920929, 0.800000011920929, 0.400000005960464]\n"
     ]
    },
    {
     "name": "stderr",
     "output_type": "stream",
     "text": [
      " 40% 2647 |#######################                                  |   3.4 B/s"
     ]
    },
    {
     "name": "stdout",
     "output_type": "stream",
     "text": [
      "skipping record wih invalid buffers in snapshot 556286, filename 2018-08-20--19-11-17--494 and camera [0.0, -2.29999995231628, 0.300000011920929]\n",
      "skipping record wih invalid buffers in snapshot 556287, filename 2018-08-20--19-11-17--876 and camera [0.800000011920929, 0.800000011920929, 0.400000005960464]\n",
      "skipping record wih invalid buffers in snapshot 556289, filename 2018-08-20--19-11-18--796 and camera [-0.800000011920929, 0.800000011920929, 0.400000005960464]\n",
      "skipping record wih invalid buffers in snapshot 556288, filename 2018-08-20--19-11-18--452 and camera [0.0, 2.0, 0.300000011920929]\n",
      "skipping record wih invalid buffers in snapshot 556290, filename 2018-08-20--19-11-19--154 and camera [0.0, -2.29999995231628, 0.300000011920929]\n"
     ]
    },
    {
     "name": "stderr",
     "output_type": "stream",
     "text": [
      " 40% 2651 |#######################                                  |   3.4 B/s"
     ]
    },
    {
     "name": "stdout",
     "output_type": "stream",
     "text": [
      "skipping record wih invalid buffers in snapshot 556292, filename 2018-08-20--19-11-20--017 and camera [0.0, 2.0, 0.300000011920929]\n",
      "skipping record wih invalid buffers in snapshot 556291, filename 2018-08-20--19-11-19--526 and camera [0.800000011920929, 0.800000011920929, 0.400000005960464]\n",
      "skipping record wih invalid buffers in snapshot 556293, filename 2018-08-20--19-11-20--331 and camera [-0.800000011920929, 0.800000011920929, 0.400000005960464]\n"
     ]
    },
    {
     "name": "stderr",
     "output_type": "stream",
     "text": [
      " 40% 2655 |#######################                                  |   3.4 B/s"
     ]
    },
    {
     "name": "stdout",
     "output_type": "stream",
     "text": [
      "skipping record wih invalid buffers in snapshot 556294, filename 2018-08-20--19-11-20--675 and camera [0.0, -2.29999995231628, 0.300000011920929]\n",
      "skipping record wih invalid buffers in snapshot 556295, filename 2018-08-20--19-11-20--974 and camera [0.800000011920929, 0.800000011920929, 0.400000005960464]\n",
      "skipping record wih invalid buffers in snapshot 556296, filename 2018-08-20--19-11-21--462 and camera [0.0, 2.0, 0.300000011920929]\n",
      "skipping record wih invalid buffers in snapshot 556297, filename 2018-08-20--19-11-21--799 and camera [-0.800000011920929, 0.800000011920929, 0.400000005960464]\n",
      "skipping record wih invalid buffers in snapshot 556298, filename 2018-08-20--19-11-22--101 and camera [0.0, -2.29999995231628, 0.300000011920929]\n"
     ]
    },
    {
     "name": "stderr",
     "output_type": "stream",
     "text": [
      " 40% 2659 |#######################                                  |   3.4 B/s"
     ]
    },
    {
     "name": "stdout",
     "output_type": "stream",
     "text": [
      "skipping record wih invalid buffers in snapshot 556299, filename 2018-08-20--19-11-22--431 and camera [0.800000011920929, 0.800000011920929, 0.400000005960464]\n",
      "skipping record wih invalid buffers in snapshot 556300, filename 2018-08-20--19-11-22--940 and camera [0.0, 2.0, 0.300000011920929]\n"
     ]
    },
    {
     "name": "stderr",
     "output_type": "stream",
     "text": [
      "\r",
      "                                                                               \r",
      "\r",
      " 40% 2660 |#######################                                  |   3.4 B/s"
     ]
    },
    {
     "name": "stdout",
     "output_type": "stream",
     "text": [
      "skipping record wih invalid buffers in snapshot 556301, filename 2018-08-20--19-11-23--278 and camera [-0.800000011920929, 0.800000011920929, 0.400000005960464]\n"
     ]
    },
    {
     "name": "stderr",
     "output_type": "stream",
     "text": [
      " 40% 2662 |#######################                                  |   3.4 B/s"
     ]
    },
    {
     "name": "stdout",
     "output_type": "stream",
     "text": [
      "skipping record wih invalid buffers in snapshot 556302, filename 2018-08-20--19-11-23--574 and camera [0.0, -2.29999995231628, 0.300000011920929]\n",
      "skipping record wih invalid buffers in snapshot 556303, filename 2018-08-20--19-11-23--908 and camera [0.800000011920929, 0.800000011920929, 0.400000005960464]\n"
     ]
    },
    {
     "name": "stderr",
     "output_type": "stream",
     "text": [
      " 44% 2871 |#########################                                |   3.5 B/s"
     ]
    },
    {
     "name": "stdout",
     "output_type": "stream",
     "text": [
      "skipping record wih invalid buffers in snapshot 556512, filename 2018-08-20--19-12-48--093 and camera [0.0, 2.0, 0.300000011920929]\n",
      "skipping record wih invalid buffers in snapshot 556514, filename 2018-08-20--19-12-48--779 and camera [0.0, -2.29999995231628, 0.300000011920929]\n",
      "skipping record wih invalid buffers in snapshot 556513, filename 2018-08-20--19-12-48--422 and camera [-0.800000011920929, 0.800000011920929, 0.400000005960464]\n"
     ]
    },
    {
     "name": "stderr",
     "output_type": "stream",
     "text": [
      " 44% 2876 |#########################                                |   3.5 B/s"
     ]
    },
    {
     "name": "stdout",
     "output_type": "stream",
     "text": [
      "skipping record wih invalid buffers in snapshot 556515, filename 2018-08-20--19-12-49--124 and camera [0.800000011920929, 0.800000011920929, 0.400000005960464]\n",
      "skipping record wih invalid buffers in snapshot 556516, filename 2018-08-20--19-12-49--584 and camera [0.0, 2.0, 0.300000011920929]\n",
      "skipping record wih invalid buffers in snapshot 556518, filename 2018-08-20--19-12-50--247 and camera [0.0, -2.29999995231628, 0.300000011920929]\n",
      "skipping record wih invalid buffers in snapshot 556517, filename 2018-08-20--19-12-49--896 and camera [-0.800000011920929, 0.800000011920929, 0.400000005960464]\n"
     ]
    },
    {
     "name": "stderr",
     "output_type": "stream",
     "text": [
      "\r",
      "                                                                               \r",
      "\r",
      " 44% 2878 |#########################                                |   3.5 B/s"
     ]
    },
    {
     "name": "stdout",
     "output_type": "stream",
     "text": [
      "skipping record wih invalid buffers in snapshot 556519, filename 2018-08-20--19-12-50--556 and camera [0.800000011920929, 0.800000011920929, 0.400000005960464]\n",
      "skipping record wih invalid buffers in snapshot 556520, filename 2018-08-20--19-12-51--031 and camera [0.0, 2.0, 0.300000011920929]\n",
      "skipping record wih invalid buffers in snapshot 556521, filename 2018-08-20--19-12-51--355 and camera [-0.800000011920929, 0.800000011920929, 0.400000005960464]\n"
     ]
    },
    {
     "name": "stderr",
     "output_type": "stream",
     "text": [
      " 47% 3106 |###########################                              |   3.5 B/s"
     ]
    },
    {
     "name": "stdout",
     "output_type": "stream",
     "text": [
      "skipping record wih invalid buffers in snapshot 556750, filename 2018-08-20--19-14-22--618 and camera [0.0, -2.29999995231628, 0.300000011920929]\n",
      "skipping record wih invalid buffers in snapshot 556749, filename 2018-08-20--19-14-22--337 and camera [-0.800000011920929, 0.800000011920929, 0.400000005960464]\n"
     ]
    },
    {
     "name": "stderr",
     "output_type": "stream",
     "text": [
      "\r",
      "                                                                               \r",
      "\r",
      " 47% 3108 |###########################                              |   3.5 B/s"
     ]
    },
    {
     "name": "stdout",
     "output_type": "stream",
     "text": [
      "skipping record wih invalid buffers in snapshot 556752, filename 2018-08-20--19-14-23--712 and camera [0.0, 2.0, 0.300000011920929]\n",
      "skipping record wih invalid buffers in snapshot 556751, filename 2018-08-20--19-14-23--202 and camera [0.800000011920929, 0.800000011920929, 0.400000005960464]\n"
     ]
    },
    {
     "name": "stderr",
     "output_type": "stream",
     "text": [
      " 47% 3112 |###########################                              |   3.5 B/s"
     ]
    },
    {
     "name": "stdout",
     "output_type": "stream",
     "text": [
      "skipping record wih invalid buffers in snapshot 556754, filename 2018-08-20--19-14-24--298 and camera [0.0, -2.29999995231628, 0.300000011920929]\n"
     ]
    },
    {
     "name": "stderr",
     "output_type": "stream",
     "text": [
      " 47% 3114 |###########################                              |   3.5 B/s"
     ]
    },
    {
     "name": "stdout",
     "output_type": "stream",
     "text": [
      "skipping record wih invalid buffers in snapshot 556753, filename 2018-08-20--19-14-24--021 and camera [-0.800000011920929, 0.800000011920929, 0.400000005960464]\n",
      "skipping record wih invalid buffers in snapshot 556756, filename 2018-08-20--19-14-25--140 and camera [0.0, 2.0, 0.300000011920929]\n"
     ]
    },
    {
     "name": "stderr",
     "output_type": "stream",
     "text": [
      "\r",
      "                                                                               \r",
      "\r",
      " 47% 3116 |###########################                              |   3.5 B/s"
     ]
    },
    {
     "name": "stdout",
     "output_type": "stream",
     "text": [
      "skipping record wih invalid buffers in snapshot 556755, filename 2018-08-20--19-14-24--638 and camera [0.800000011920929, 0.800000011920929, 0.400000005960464]\n",
      "skipping record wih invalid buffers in snapshot 556757, filename 2018-08-20--19-14-25--458 and camera [-0.800000011920929, 0.800000011920929, 0.400000005960464]\n"
     ]
    },
    {
     "name": "stderr",
     "output_type": "stream",
     "text": [
      " 47% 3119 |###########################                              |   3.5 B/s"
     ]
    },
    {
     "name": "stdout",
     "output_type": "stream",
     "text": [
      "skipping record wih invalid buffers in snapshot 556758, filename 2018-08-20--19-14-25--774 and camera [0.0, -2.29999995231628, 0.300000011920929]\n",
      "skipping record wih invalid buffers in snapshot 556759, filename 2018-08-20--19-14-26--110 and camera [0.800000011920929, 0.800000011920929, 0.400000005960464]\n",
      "skipping record wih invalid buffers in snapshot 556760, filename 2018-08-20--19-14-26--616 and camera [0.0, 2.0, 0.300000011920929]\n"
     ]
    },
    {
     "name": "stderr",
     "output_type": "stream",
     "text": [
      " 48% 3122 |###########################                              |   3.5 B/s"
     ]
    },
    {
     "name": "stdout",
     "output_type": "stream",
     "text": [
      "skipping record wih invalid buffers in snapshot 556761, filename 2018-08-20--19-14-26--888 and camera [-0.800000011920929, 0.800000011920929, 0.400000005960464]\n",
      "skipping record wih invalid buffers in snapshot 556762, filename 2018-08-20--19-14-27--198 and camera [0.0, -2.29999995231628, 0.300000011920929]\n",
      "skipping record wih invalid buffers in snapshot 556764, filename 2018-08-20--19-14-28--077 and camera [0.0, 2.0, 0.300000011920929]\n"
     ]
    },
    {
     "name": "stderr",
     "output_type": "stream",
     "text": [
      "\r",
      "                                                                               \r",
      "\r",
      " 48% 3123 |###########################                              |   3.5 B/s"
     ]
    },
    {
     "name": "stdout",
     "output_type": "stream",
     "text": [
      "skipping record wih invalid buffers in snapshot 556763, filename 2018-08-20--19-14-27--565 and camera [0.800000011920929, 0.800000011920929, 0.400000005960464]\n",
      "skipping record wih invalid buffers in snapshot 556765, filename 2018-08-20--19-14-28--353 and camera [-0.800000011920929, 0.800000011920929, 0.400000005960464]\n"
     ]
    },
    {
     "name": "stderr",
     "output_type": "stream",
     "text": [
      "\r",
      "                                                                               \r",
      "\r",
      " 48% 3125 |###########################                              |   3.5 B/s"
     ]
    },
    {
     "name": "stdout",
     "output_type": "stream",
     "text": [
      "skipping record wih invalid buffers in snapshot 556766, filename 2018-08-20--19-14-28--700 and camera [0.0, -2.29999995231628, 0.300000011920929]\n",
      "skipping record wih invalid buffers in snapshot 556767, filename 2018-08-20--19-14-29--061 and camera [0.800000011920929, 0.800000011920929, 0.400000005960464]\n"
     ]
    },
    {
     "name": "stderr",
     "output_type": "stream",
     "text": [
      " 85% 5585 |################################################         |   3.7 B/s"
     ]
    },
    {
     "name": "stdout",
     "output_type": "stream",
     "text": [
      "skipping record wih invalid buffers in snapshot 559229, filename 2018-08-20--19-31-07--516 and camera [-0.800000011920929, 0.800000011920929, 0.400000005960464]\n",
      "skipping record wih invalid buffers in snapshot 559228, filename 2018-08-20--19-31-07--075 and camera [0.0, 2.0, 0.300000011920929]\n",
      "skipping record wih invalid buffers in snapshot 559227, filename 2018-08-20--19-31-06--539 and camera [0.800000011920929, 0.800000011920929, 0.400000005960464]\n"
     ]
    },
    {
     "name": "stderr",
     "output_type": "stream",
     "text": [
      " 85% 5589 |################################################         |   3.7 B/s"
     ]
    },
    {
     "name": "stdout",
     "output_type": "stream",
     "text": [
      "skipping record wih invalid buffers in snapshot 559230, filename 2018-08-20--19-31-07--897 and camera [0.0, -2.29999995231628, 0.300000011920929]\n"
     ]
    },
    {
     "name": "stderr",
     "output_type": "stream",
     "text": [
      "\r",
      "                                                                               \r",
      "\r",
      " 85% 5590 |################################################         |   3.7 B/s"
     ]
    },
    {
     "name": "stdout",
     "output_type": "stream",
     "text": [
      "skipping record wih invalid buffers in snapshot 559232, filename 2018-08-20--19-31-08--830 and camera [0.0, 2.0, 0.300000011920929]\n"
     ]
    },
    {
     "name": "stderr",
     "output_type": "stream",
     "text": [
      " 85% 5592 |#################################################        |   3.7 B/s"
     ]
    },
    {
     "name": "stdout",
     "output_type": "stream",
     "text": [
      "skipping record wih invalid buffers in snapshot 559234, filename 2018-08-20--19-31-09--604 and camera [0.0, -2.29999995231628, 0.300000011920929]\n",
      "skipping record wih invalid buffers in snapshot 559231, filename 2018-08-20--19-31-08--296 and camera [0.800000011920929, 0.800000011920929, 0.400000005960464]\n",
      "skipping record wih invalid buffers in snapshot 559233, filename 2018-08-20--19-31-09--244 and camera [-0.800000011920929, 0.800000011920929, 0.400000005960464]\n"
     ]
    },
    {
     "name": "stderr",
     "output_type": "stream",
     "text": [
      " 86% 5596 |#################################################        |   3.7 B/s"
     ]
    },
    {
     "name": "stdout",
     "output_type": "stream",
     "text": [
      "skipping record wih invalid buffers in snapshot 559235, filename 2018-08-20--19-31-09--993 and camera [0.800000011920929, 0.800000011920929, 0.400000005960464]\n",
      "skipping record wih invalid buffers in snapshot 559236, filename 2018-08-20--19-31-10--589 and camera [0.0, 2.0, 0.300000011920929]\n",
      "skipping record wih invalid buffers in snapshot 559237, filename 2018-08-20--19-31-10--969 and camera [-0.800000011920929, 0.800000011920929, 0.400000005960464]\n"
     ]
    },
    {
     "name": "stderr",
     "output_type": "stream",
     "text": [
      "\r",
      "                                                                               \r",
      "\r",
      " 86% 5597 |#################################################        |   3.7 B/s"
     ]
    },
    {
     "name": "stdout",
     "output_type": "stream",
     "text": [
      "skipping record wih invalid buffers in snapshot 559238, filename 2018-08-20--19-31-11--313 and camera [0.0, -2.29999995231628, 0.300000011920929]\n"
     ]
    },
    {
     "name": "stderr",
     "output_type": "stream",
     "text": [
      "\r",
      "                                                                               \r",
      "\r",
      " 86% 5598 |#################################################        |   3.7 B/s"
     ]
    },
    {
     "name": "stdout",
     "output_type": "stream",
     "text": [
      "skipping record wih invalid buffers in snapshot 559239, filename 2018-08-20--19-31-11--667 and camera [0.800000011920929, 0.800000011920929, 0.400000005960464]\n"
     ]
    },
    {
     "name": "stderr",
     "output_type": "stream",
     "text": [
      " 86% 5600 |#################################################        |   3.7 B/s"
     ]
    },
    {
     "name": "stdout",
     "output_type": "stream",
     "text": [
      "skipping record wih invalid buffers in snapshot 559240, filename 2018-08-20--19-31-12--184 and camera [0.0, 2.0, 0.300000011920929]\n",
      "skipping record wih invalid buffers in snapshot 559242, filename 2018-08-20--19-31-12--890 and camera [0.0, -2.29999995231628, 0.300000011920929]\n",
      "skipping record wih invalid buffers in snapshot 559243, filename 2018-08-20--19-31-13--244 and camera [0.800000011920929, 0.800000011920929, 0.400000005960464]\n"
     ]
    },
    {
     "name": "stderr",
     "output_type": "stream",
     "text": [
      " 86% 5604 |#################################################        |   3.7 B/s"
     ]
    },
    {
     "name": "stdout",
     "output_type": "stream",
     "text": [
      "skipping record wih invalid buffers in snapshot 559241, filename 2018-08-20--19-31-12--552 and camera [-0.800000011920929, 0.800000011920929, 0.400000005960464]\n",
      "skipping record wih invalid buffers in snapshot 559244, filename 2018-08-20--19-31-13--763 and camera [0.0, 2.0, 0.300000011920929]\n",
      "skipping record wih invalid buffers in snapshot 559245, filename 2018-08-20--19-31-14--110 and camera [-0.800000011920929, 0.800000011920929, 0.400000005960464]\n",
      "skipping record wih invalid buffers in snapshot 559246, filename 2018-08-20--19-31-14--445 and camera [0.0, -2.29999995231628, 0.300000011920929]\n"
     ]
    },
    {
     "name": "stderr",
     "output_type": "stream",
     "text": [
      "\r",
      "                                                                               \r",
      "\r",
      " 86% 5606 |#################################################        |   3.7 B/s"
     ]
    },
    {
     "name": "stdout",
     "output_type": "stream",
     "text": [
      "skipping record wih invalid buffers in snapshot 559247, filename 2018-08-20--19-31-14--914 and camera [0.800000011920929, 0.800000011920929, 0.400000005960464]\n"
     ]
    },
    {
     "name": "stderr",
     "output_type": "stream",
     "text": [
      "\r",
      "                                                                               \r",
      "\r",
      " 86% 5607 |#################################################        |   3.7 B/s"
     ]
    },
    {
     "name": "stdout",
     "output_type": "stream",
     "text": [
      "skipping record wih invalid buffers in snapshot 559248, filename 2018-08-20--19-31-15--504 and camera [0.0, 2.0, 0.300000011920929]\n"
     ]
    },
    {
     "name": "stderr",
     "output_type": "stream",
     "text": [
      " 86% 5610 |#################################################        |   3.7 B/s"
     ]
    },
    {
     "name": "stdout",
     "output_type": "stream",
     "text": [
      "skipping record wih invalid buffers in snapshot 559251, filename 2018-08-20--19-31-16--542 and camera [0.800000011920929, 0.800000011920929, 0.400000005960464]\n",
      "skipping record wih invalid buffers in snapshot 559250, filename 2018-08-20--19-31-16--190 and camera [0.0, -2.29999995231628, 0.300000011920929]\n",
      "skipping record wih invalid buffers in snapshot 559253, filename 2018-08-20--19-31-17--388 and camera [-0.800000011920929, 0.800000011920929, 0.400000005960464]\n",
      "skipping record wih invalid buffers in snapshot 559252, filename 2018-08-20--19-31-17--088 and camera [0.0, 2.0, 0.300000011920929]\n"
     ]
    },
    {
     "name": "stderr",
     "output_type": "stream",
     "text": [
      "\r",
      "                                                                               \r",
      "\r",
      " 86% 5612 |#################################################        |   3.7 B/s"
     ]
    },
    {
     "name": "stdout",
     "output_type": "stream",
     "text": [
      "skipping record wih invalid buffers in snapshot 559254, filename 2018-08-20--19-31-17--806 and camera [0.0, -2.29999995231628, 0.300000011920929]\n",
      "skipping record wih invalid buffers in snapshot 559255, filename 2018-08-20--19-31-18--205 and camera [0.800000011920929, 0.800000011920929, 0.400000005960464]\n"
     ]
    },
    {
     "name": "stderr",
     "output_type": "stream",
     "text": [
      " 86% 5615 |#################################################        |   3.7 B/s"
     ]
    },
    {
     "name": "stdout",
     "output_type": "stream",
     "text": [
      "skipping record wih invalid buffers in snapshot 559256, filename 2018-08-20--19-31-18--769 and camera [0.0, 2.0, 0.300000011920929]\n"
     ]
    },
    {
     "name": "stderr",
     "output_type": "stream",
     "text": [
      "\r",
      "                                                                               \r",
      "\r",
      " 86% 5616 |#################################################        |   3.7 B/s"
     ]
    },
    {
     "name": "stdout",
     "output_type": "stream",
     "text": [
      "skipping record wih invalid buffers in snapshot 559258, filename 2018-08-20--19-31-19--483 and camera [0.0, -2.29999995231628, 0.300000011920929]\n",
      "skipping record wih invalid buffers in snapshot 559257, filename 2018-08-20--19-31-19--114 and camera [-0.800000011920929, 0.800000011920929, 0.400000005960464]\n"
     ]
    },
    {
     "name": "stderr",
     "output_type": "stream",
     "text": [
      "\r",
      "                                                                               \r",
      "\r",
      " 86% 5618 |#################################################        |   3.7 B/s"
     ]
    },
    {
     "name": "stdout",
     "output_type": "stream",
     "text": [
      "skipping record wih invalid buffers in snapshot 559259, filename 2018-08-20--19-31-19--801 and camera [0.800000011920929, 0.800000011920929, 0.400000005960464]\n",
      "skipping record wih invalid buffers in snapshot 559261, filename 2018-08-20--19-31-20--621 and camera [-0.800000011920929, 0.800000011920929, 0.400000005960464]\n",
      "skipping record wih invalid buffers in snapshot 559262, filename 2018-08-20--19-31-20--996 and camera [0.0, -2.29999995231628, 0.300000011920929]\n"
     ]
    },
    {
     "name": "stderr",
     "output_type": "stream",
     "text": [
      " 86% 5622 |#################################################        |   3.7 B/s"
     ]
    },
    {
     "name": "stdout",
     "output_type": "stream",
     "text": [
      "skipping record wih invalid buffers in snapshot 559263, filename 2018-08-20--19-31-21--316 and camera [0.800000011920929, 0.800000011920929, 0.400000005960464]\n",
      "skipping record wih invalid buffers in snapshot 559264, filename 2018-08-20--19-31-21--798 and camera [0.0, 2.0, 0.300000011920929]\n"
     ]
    },
    {
     "name": "stderr",
     "output_type": "stream",
     "text": [
      "\r",
      "                                                                               \r",
      "\r",
      " 86% 5624 |#################################################        |   3.7 B/s"
     ]
    },
    {
     "name": "stdout",
     "output_type": "stream",
     "text": [
      "skipping record wih invalid buffers in snapshot 559265, filename 2018-08-20--19-31-22--151 and camera [-0.800000011920929, 0.800000011920929, 0.400000005960464]\n"
     ]
    },
    {
     "name": "stderr",
     "output_type": "stream",
     "text": [
      " 99% 6500 |######################################################## |   3.7 B/s"
     ]
    },
    {
     "name": "stdout",
     "output_type": "stream",
     "text": [
      "done\n"
     ]
    }
   ],
   "source": [
    "workers = 8\n",
    "\n",
    "widgets = [progressbar.Percentage(), ' ', progressbar.Counter(), ' ', progressbar.Bar(), ' ',\n",
    "           progressbar.FileTransferSpeed()]\n",
    "\n",
    "pbar = progressbar.ProgressBar(widgets=widgets, maxval=len(results)).start()\n",
    "counter = 0\n",
    "\n",
    "Parallel(n_jobs=workers, backend='threading')(delayed(try_dump_snapshot_to_dataset)(in_directory, get_out_directory(out_directory, i, directory_per_camera), i, run_id, include_entities) for i in results)\n",
    "print('done')"
   ]
  },
  {
   "cell_type": "markdown",
   "metadata": {},
   "source": [
    "### copying to linux into datagrid dir"
   ]
  },
  {
   "cell_type": "code",
   "execution_count": null,
   "metadata": {
    "scrolled": true
   },
   "outputs": [
    {
     "name": "stderr",
     "output_type": "stream",
     "text": [
      "  8% 812 |#####                                                     |   2.0 B/s"
     ]
    }
   ],
   "source": [
    "def copy_file(in_path, out_path):\n",
    "    if os.path.exists(out_path):\n",
    "        return\n",
    "    copyfile(in_path, out_path)\n",
    "\n",
    "def copy_files(in_dir, out_dir, name):\n",
    "    if 'pbar' in globals() and 'counter' in globals():\n",
    "        global counter\n",
    "        counter += 1\n",
    "        pbar.update(counter)\n",
    "\n",
    "    rgb_name = name+'.jpg'\n",
    "    json_name = name+'.json'\n",
    "    depth_name = name+'-depth.png'\n",
    "    stencil_name = name+'-stencil.png'\n",
    "    \n",
    "    copyfile(os.path.join(in_dir, rgb_name), os.path.join(out_dir, rgb_name))\n",
    "    copyfile(os.path.join(in_dir, json_name), os.path.join(out_dir, json_name))\n",
    "    copyfile(os.path.join(in_dir, depth_name), os.path.join(out_dir, depth_name))\n",
    "    copyfile(os.path.join(in_dir, stencil_name), os.path.join(out_dir, stencil_name))\n",
    "\n",
    "workers = 8\n",
    "\n",
    "windows_in_directory = r'D:\\output-datasets\\offroad-6'\n",
    "linux_out_directory = r'Z:\\offroad-6'\n",
    "\n",
    "if not os.path.exists(linux_out_directory):\n",
    "    os.makedirs(linux_out_directory)\n",
    "\n",
    "widgets = [progressbar.Percentage(), ' ', progressbar.Counter(), ' ', progressbar.Bar(), ' ',\n",
    "           progressbar.FileTransferSpeed()]\n",
    "\n",
    "pbar = progressbar.ProgressBar(widgets=widgets, max_value=len(results)).start()\n",
    "counter = 0\n",
    "\n",
    "Parallel(n_jobs=workers, backend='threading')(\n",
    "    delayed(copy_files)(windows_in_directory, linux_out_directory, i['imagepath']) for i in results)\n"
   ]
  },
  {
   "cell_type": "markdown",
   "metadata": {},
   "source": [
    "### copying original tiffs to linux into datagrid dir, only one run from database"
   ]
  },
  {
   "cell_type": "code",
   "execution_count": 42,
   "metadata": {},
   "outputs": [
    {
     "name": "stderr",
     "output_type": "stream",
     "text": [
      "  0% 42 |                                                           |   0.7 B/s"
     ]
    },
    {
     "ename": "KeyboardInterrupt",
     "evalue": "",
     "output_type": "error",
     "traceback": [
      "\u001b[1;31m---------------------------------------------------------------------------\u001b[0m",
      "\u001b[1;31mKeyboardInterrupt\u001b[0m                         Traceback (most recent call last)",
      "\u001b[1;32m<ipython-input-42-505770c9802e>\u001b[0m in \u001b[0;36m<module>\u001b[1;34m()\u001b[0m\n\u001b[0;32m     29\u001b[0m \u001b[1;33m\u001b[0m\u001b[0m\n\u001b[0;32m     30\u001b[0m Parallel(n_jobs=workers, backend='threading')(\n\u001b[1;32m---> 31\u001b[1;33m     delayed(copy_files)(in_directory, out_directory, i['imagepath']) for i in results)\n\u001b[0m",
      "\u001b[1;32mC:\\ProgramData\\Anaconda3\\lib\\site-packages\\joblib\\parallel.py\u001b[0m in \u001b[0;36m__call__\u001b[1;34m(self, iterable)\u001b[0m\n\u001b[0;32m    787\u001b[0m                 \u001b[1;31m# consumption.\u001b[0m\u001b[1;33m\u001b[0m\u001b[1;33m\u001b[0m\u001b[0m\n\u001b[0;32m    788\u001b[0m                 \u001b[0mself\u001b[0m\u001b[1;33m.\u001b[0m\u001b[0m_iterating\u001b[0m \u001b[1;33m=\u001b[0m \u001b[1;32mFalse\u001b[0m\u001b[1;33m\u001b[0m\u001b[0m\n\u001b[1;32m--> 789\u001b[1;33m             \u001b[0mself\u001b[0m\u001b[1;33m.\u001b[0m\u001b[0mretrieve\u001b[0m\u001b[1;33m(\u001b[0m\u001b[1;33m)\u001b[0m\u001b[1;33m\u001b[0m\u001b[0m\n\u001b[0m\u001b[0;32m    790\u001b[0m             \u001b[1;31m# Make sure that we get a last message telling us we are done\u001b[0m\u001b[1;33m\u001b[0m\u001b[1;33m\u001b[0m\u001b[0m\n\u001b[0;32m    791\u001b[0m             \u001b[0melapsed_time\u001b[0m \u001b[1;33m=\u001b[0m \u001b[0mtime\u001b[0m\u001b[1;33m.\u001b[0m\u001b[0mtime\u001b[0m\u001b[1;33m(\u001b[0m\u001b[1;33m)\u001b[0m \u001b[1;33m-\u001b[0m \u001b[0mself\u001b[0m\u001b[1;33m.\u001b[0m\u001b[0m_start_time\u001b[0m\u001b[1;33m\u001b[0m\u001b[0m\n",
      "\u001b[1;32mC:\\ProgramData\\Anaconda3\\lib\\site-packages\\joblib\\parallel.py\u001b[0m in \u001b[0;36mretrieve\u001b[1;34m(self)\u001b[0m\n\u001b[0;32m    697\u001b[0m             \u001b[1;32mtry\u001b[0m\u001b[1;33m:\u001b[0m\u001b[1;33m\u001b[0m\u001b[0m\n\u001b[0;32m    698\u001b[0m                 \u001b[1;32mif\u001b[0m \u001b[0mgetattr\u001b[0m\u001b[1;33m(\u001b[0m\u001b[0mself\u001b[0m\u001b[1;33m.\u001b[0m\u001b[0m_backend\u001b[0m\u001b[1;33m,\u001b[0m \u001b[1;34m'supports_timeout'\u001b[0m\u001b[1;33m,\u001b[0m \u001b[1;32mFalse\u001b[0m\u001b[1;33m)\u001b[0m\u001b[1;33m:\u001b[0m\u001b[1;33m\u001b[0m\u001b[0m\n\u001b[1;32m--> 699\u001b[1;33m                     \u001b[0mself\u001b[0m\u001b[1;33m.\u001b[0m\u001b[0m_output\u001b[0m\u001b[1;33m.\u001b[0m\u001b[0mextend\u001b[0m\u001b[1;33m(\u001b[0m\u001b[0mjob\u001b[0m\u001b[1;33m.\u001b[0m\u001b[0mget\u001b[0m\u001b[1;33m(\u001b[0m\u001b[0mtimeout\u001b[0m\u001b[1;33m=\u001b[0m\u001b[0mself\u001b[0m\u001b[1;33m.\u001b[0m\u001b[0mtimeout\u001b[0m\u001b[1;33m)\u001b[0m\u001b[1;33m)\u001b[0m\u001b[1;33m\u001b[0m\u001b[0m\n\u001b[0m\u001b[0;32m    700\u001b[0m                 \u001b[1;32melse\u001b[0m\u001b[1;33m:\u001b[0m\u001b[1;33m\u001b[0m\u001b[0m\n\u001b[0;32m    701\u001b[0m                     \u001b[0mself\u001b[0m\u001b[1;33m.\u001b[0m\u001b[0m_output\u001b[0m\u001b[1;33m.\u001b[0m\u001b[0mextend\u001b[0m\u001b[1;33m(\u001b[0m\u001b[0mjob\u001b[0m\u001b[1;33m.\u001b[0m\u001b[0mget\u001b[0m\u001b[1;33m(\u001b[0m\u001b[1;33m)\u001b[0m\u001b[1;33m)\u001b[0m\u001b[1;33m\u001b[0m\u001b[0m\n",
      "\u001b[1;32mC:\\ProgramData\\Anaconda3\\lib\\multiprocessing\\pool.py\u001b[0m in \u001b[0;36mget\u001b[1;34m(self, timeout)\u001b[0m\n\u001b[0;32m    636\u001b[0m \u001b[1;33m\u001b[0m\u001b[0m\n\u001b[0;32m    637\u001b[0m     \u001b[1;32mdef\u001b[0m \u001b[0mget\u001b[0m\u001b[1;33m(\u001b[0m\u001b[0mself\u001b[0m\u001b[1;33m,\u001b[0m \u001b[0mtimeout\u001b[0m\u001b[1;33m=\u001b[0m\u001b[1;32mNone\u001b[0m\u001b[1;33m)\u001b[0m\u001b[1;33m:\u001b[0m\u001b[1;33m\u001b[0m\u001b[0m\n\u001b[1;32m--> 638\u001b[1;33m         \u001b[0mself\u001b[0m\u001b[1;33m.\u001b[0m\u001b[0mwait\u001b[0m\u001b[1;33m(\u001b[0m\u001b[0mtimeout\u001b[0m\u001b[1;33m)\u001b[0m\u001b[1;33m\u001b[0m\u001b[0m\n\u001b[0m\u001b[0;32m    639\u001b[0m         \u001b[1;32mif\u001b[0m \u001b[1;32mnot\u001b[0m \u001b[0mself\u001b[0m\u001b[1;33m.\u001b[0m\u001b[0mready\u001b[0m\u001b[1;33m(\u001b[0m\u001b[1;33m)\u001b[0m\u001b[1;33m:\u001b[0m\u001b[1;33m\u001b[0m\u001b[0m\n\u001b[0;32m    640\u001b[0m             \u001b[1;32mraise\u001b[0m \u001b[0mTimeoutError\u001b[0m\u001b[1;33m\u001b[0m\u001b[0m\n",
      "\u001b[1;32mC:\\ProgramData\\Anaconda3\\lib\\multiprocessing\\pool.py\u001b[0m in \u001b[0;36mwait\u001b[1;34m(self, timeout)\u001b[0m\n\u001b[0;32m    633\u001b[0m \u001b[1;33m\u001b[0m\u001b[0m\n\u001b[0;32m    634\u001b[0m     \u001b[1;32mdef\u001b[0m \u001b[0mwait\u001b[0m\u001b[1;33m(\u001b[0m\u001b[0mself\u001b[0m\u001b[1;33m,\u001b[0m \u001b[0mtimeout\u001b[0m\u001b[1;33m=\u001b[0m\u001b[1;32mNone\u001b[0m\u001b[1;33m)\u001b[0m\u001b[1;33m:\u001b[0m\u001b[1;33m\u001b[0m\u001b[0m\n\u001b[1;32m--> 635\u001b[1;33m         \u001b[0mself\u001b[0m\u001b[1;33m.\u001b[0m\u001b[0m_event\u001b[0m\u001b[1;33m.\u001b[0m\u001b[0mwait\u001b[0m\u001b[1;33m(\u001b[0m\u001b[0mtimeout\u001b[0m\u001b[1;33m)\u001b[0m\u001b[1;33m\u001b[0m\u001b[0m\n\u001b[0m\u001b[0;32m    636\u001b[0m \u001b[1;33m\u001b[0m\u001b[0m\n\u001b[0;32m    637\u001b[0m     \u001b[1;32mdef\u001b[0m \u001b[0mget\u001b[0m\u001b[1;33m(\u001b[0m\u001b[0mself\u001b[0m\u001b[1;33m,\u001b[0m \u001b[0mtimeout\u001b[0m\u001b[1;33m=\u001b[0m\u001b[1;32mNone\u001b[0m\u001b[1;33m)\u001b[0m\u001b[1;33m:\u001b[0m\u001b[1;33m\u001b[0m\u001b[0m\n",
      "\u001b[1;32mC:\\ProgramData\\Anaconda3\\lib\\threading.py\u001b[0m in \u001b[0;36mwait\u001b[1;34m(self, timeout)\u001b[0m\n\u001b[0;32m    549\u001b[0m             \u001b[0msignaled\u001b[0m \u001b[1;33m=\u001b[0m \u001b[0mself\u001b[0m\u001b[1;33m.\u001b[0m\u001b[0m_flag\u001b[0m\u001b[1;33m\u001b[0m\u001b[0m\n\u001b[0;32m    550\u001b[0m             \u001b[1;32mif\u001b[0m \u001b[1;32mnot\u001b[0m \u001b[0msignaled\u001b[0m\u001b[1;33m:\u001b[0m\u001b[1;33m\u001b[0m\u001b[0m\n\u001b[1;32m--> 551\u001b[1;33m                 \u001b[0msignaled\u001b[0m \u001b[1;33m=\u001b[0m \u001b[0mself\u001b[0m\u001b[1;33m.\u001b[0m\u001b[0m_cond\u001b[0m\u001b[1;33m.\u001b[0m\u001b[0mwait\u001b[0m\u001b[1;33m(\u001b[0m\u001b[0mtimeout\u001b[0m\u001b[1;33m)\u001b[0m\u001b[1;33m\u001b[0m\u001b[0m\n\u001b[0m\u001b[0;32m    552\u001b[0m             \u001b[1;32mreturn\u001b[0m \u001b[0msignaled\u001b[0m\u001b[1;33m\u001b[0m\u001b[0m\n\u001b[0;32m    553\u001b[0m \u001b[1;33m\u001b[0m\u001b[0m\n",
      "\u001b[1;32mC:\\ProgramData\\Anaconda3\\lib\\threading.py\u001b[0m in \u001b[0;36mwait\u001b[1;34m(self, timeout)\u001b[0m\n\u001b[0;32m    293\u001b[0m         \u001b[1;32mtry\u001b[0m\u001b[1;33m:\u001b[0m    \u001b[1;31m# restore state no matter what (e.g., KeyboardInterrupt)\u001b[0m\u001b[1;33m\u001b[0m\u001b[0m\n\u001b[0;32m    294\u001b[0m             \u001b[1;32mif\u001b[0m \u001b[0mtimeout\u001b[0m \u001b[1;32mis\u001b[0m \u001b[1;32mNone\u001b[0m\u001b[1;33m:\u001b[0m\u001b[1;33m\u001b[0m\u001b[0m\n\u001b[1;32m--> 295\u001b[1;33m                 \u001b[0mwaiter\u001b[0m\u001b[1;33m.\u001b[0m\u001b[0macquire\u001b[0m\u001b[1;33m(\u001b[0m\u001b[1;33m)\u001b[0m\u001b[1;33m\u001b[0m\u001b[0m\n\u001b[0m\u001b[0;32m    296\u001b[0m                 \u001b[0mgotit\u001b[0m \u001b[1;33m=\u001b[0m \u001b[1;32mTrue\u001b[0m\u001b[1;33m\u001b[0m\u001b[0m\n\u001b[0;32m    297\u001b[0m             \u001b[1;32melse\u001b[0m\u001b[1;33m:\u001b[0m\u001b[1;33m\u001b[0m\u001b[0m\n",
      "\u001b[1;31mKeyboardInterrupt\u001b[0m: "
     ]
    }
   ],
   "source": [
    "def copy_file(in_path, out_path):\n",
    "    if os.path.exists(out_path):\n",
    "        return\n",
    "    copyfile(in_path, out_path)\n",
    "\n",
    "def copy_files(in_dir, out_dir, name):\n",
    "    if 'pbar' in globals() and 'counter' in globals():\n",
    "        global counter\n",
    "        counter += 1\n",
    "        pbar.update(counter)\n",
    "\n",
    "    rgb_name = name+'.tiff'\n",
    "    depth_name = name+'-depth.tiff'\n",
    "    stencil_name = name+'-stencil.tiff'\n",
    "    \n",
    "    copyfile(os.path.join(in_dir, rgb_name), os.path.join(out_dir, rgb_name))\n",
    "    copyfile(os.path.join(in_dir, depth_name), os.path.join(out_dir, depth_name))\n",
    "    copyfile(os.path.join(in_dir, stencil_name), os.path.join(out_dir, stencil_name))\n",
    "\n",
    "workers = 8\n",
    "\n",
    "out_directory = r'Z:\\offroad-4-orig'\n",
    "widgets = [progressbar.Percentage(), ' ', progressbar.Counter(), ' ', progressbar.Bar(), ' ',\n",
    "           progressbar.FileTransferSpeed()]\n",
    "\n",
    "pbar = progressbar.ProgressBar(widgets=widgets, max_value=len(results)).start()\n",
    "counter = 0\n",
    "\n",
    "Parallel(n_jobs=workers, backend='threading')(\n",
    "    delayed(copy_files)(in_directory, out_directory, i['imagepath']) for i in results)\n"
   ]
  },
  {
   "cell_type": "markdown",
   "metadata": {},
   "source": [
    "### checking if all converted images are ok"
   ]
  },
  {
   "cell_type": "code",
   "execution_count": 10,
   "metadata": {},
   "outputs": [
    {
     "name": "stderr",
     "output_type": "stream",
     "text": [
      "  0% 15 |                                                           |   3.9 B/sC:\\ProgramData\\Anaconda3\\lib\\site-packages\\tifffile\\tifffile.py:2642: RuntimeWarning: py_decodelzw encountered unexpected end of stream\n",
      "  strip = decompress(strip)\n",
      " 13% 968 |#######                                                   |   3.9 B/sC:\\ProgramData\\Anaconda3\\lib\\site-packages\\tifffile\\tifffile.py:2577: UserWarning: unpack: string size must be a multiple of element size\n",
      "  warnings.warn(\"unpack: %s\" % e)\n",
      "100% 7250 |#########################################################|   4.4 B/s"
     ]
    },
    {
     "name": "stdout",
     "output_type": "stream",
     "text": [
      "done\n"
     ]
    }
   ],
   "source": [
    "def check_invalid_buffers(in_directory, out_directory, res, run_id, include_entities):\n",
    "    if 'pbar' in globals() and 'counter' in globals():\n",
    "        global counter\n",
    "        counter += 1\n",
    "        pbar.update(counter)\n",
    "    \n",
    "    # skip non-existing files in out_directory, so just check existence of some of 4 files\n",
    "    outfile = os.path.join(out_directory, '{}.json'.format(res['imagepath']))\n",
    "    if not os.path.exists(outfile):\n",
    "        return\n",
    "    \n",
    "    if discard_invalid_buffers and (not is_first_record_in_run(res, run_id)) and \\\n",
    "        are_buffers_same_as_previous(res):\n",
    "        print('found record wih invalid buffers in snapshot {}, filename {} and camera {}'\n",
    "              .format(res['snapshot_id'], res['imagepath'], res['camera_relative_position'].tolist()))\n",
    "        return\n",
    "\n",
    "\n",
    "workers = 8\n",
    "\n",
    "widgets = [progressbar.Percentage(), ' ', progressbar.Counter(), ' ', progressbar.Bar(), ' ',\n",
    "           progressbar.FileTransferSpeed()]\n",
    "\n",
    "pbar = progressbar.ProgressBar(widgets=widgets, maxval=len(results)).start()\n",
    "counter = 0\n",
    "\n",
    "Parallel(n_jobs=workers, backend='threading')(delayed(check_invalid_buffers)(in_directory, get_out_directory(out_directory, i, directory_per_camera), i, run_id, include_entities) for i in results)\n",
    "print('done')"
   ]
  },
  {
   "cell_type": "markdown",
   "metadata": {},
   "source": [
    "### dumping one snapshot, for testing"
   ]
  },
  {
   "cell_type": "code",
   "execution_count": null,
   "metadata": {
    "collapsed": true,
    "scrolled": false
   },
   "outputs": [],
   "source": [
    "dump_snapshot_to_dataset(in_directory, out_directory, results[0])\n"
   ]
  },
  {
   "cell_type": "code",
   "execution_count": null,
   "metadata": {
    "collapsed": true
   },
   "outputs": [],
   "source": [
    "im = np.array(Image.open(os.path.join(out_directory, results[0]['imagepath']+'-depth.png')))\n",
    "print(np.min(im))\n",
    "print(np.max(im))\n"
   ]
  },
  {
   "cell_type": "code",
   "execution_count": null,
   "metadata": {
    "collapsed": true
   },
   "outputs": [],
   "source": [
    "results[0]['snapshot_id']"
   ]
  },
  {
   "cell_type": "code",
   "execution_count": 64,
   "metadata": {},
   "outputs": [
    {
     "data": {
      "text/plain": [
       "{'cam_near_clip': 0.15,\n",
       " 'camera_fov': 90.0,\n",
       " 'camera_pos': array([ 2524.83105469,  3334.53613281,    53.38750458]),\n",
       " 'camera_relative_position': array([-0.06      ,  1.5       ,  1.07649994]),\n",
       " 'camera_relative_rotation': array([ 0.,  0.,  0.]),\n",
       " 'camera_rot': array([-1.26793635, -4.02545595, -0.25146627]),\n",
       " 'current_target': array([2586.0, 3490.0, None], dtype=object),\n",
       " 'currentweather': 'Clear',\n",
       " 'height': 1052,\n",
       " 'imagepath': '2018-08-13--11-15-01--499',\n",
       " 'proj_matrix': array([[  5.49634274e-01,   0.00000000e+00,   0.00000000e+00,\n",
       "           0.00000000e+00],\n",
       "        [  0.00000000e+00,   1.00000000e+00,   0.00000000e+00,\n",
       "           0.00000000e+00],\n",
       "        [  0.00000000e+00,   0.00000000e+00,   1.49945045e-05,\n",
       "           1.50002249e-01],\n",
       "        [  0.00000000e+00,   0.00000000e+00,  -1.00000000e+00,\n",
       "           0.00000000e+00]]),\n",
       " 'snapshot_id': 466517,\n",
       " 'timeofday': datetime.time(12, 5, 35),\n",
       " 'timestamp': datetime.datetime(2018, 8, 13, 11, 15, 1, 499713, tzinfo=psycopg2.tz.FixedOffsetTimezone(offset=0, name=None)),\n",
       " 'view_matrix': array([[  9.97523352e-01,  -4.37807276e-03,   7.01996747e-02,\n",
       "          -2.50772688e+03],\n",
       "        [ -7.00846934e-02,   2.24356686e-02,   9.97288713e-01,\n",
       "           4.88967069e+01],\n",
       "        [ -5.94117919e-03,  -9.99738702e-01,   2.20732675e-02,\n",
       "           3.34748686e+03],\n",
       "        [  0.00000000e+00,   0.00000000e+00,   0.00000000e+00,\n",
       "           1.00000000e+00]]),\n",
       " 'width': 1914}"
      ]
     },
     "execution_count": 64,
     "metadata": {},
     "output_type": "execute_result"
    }
   ],
   "source": [
    "res = results[0]\n",
    "res"
   ]
  },
  {
   "cell_type": "code",
   "execution_count": 10,
   "metadata": {},
   "outputs": [
    {
     "data": {
      "text/plain": [
       "{'camera_-0.06_1.50_1.08__0.00_0.00_0.00': '0',\n",
       " 'camera_-0.06_17.50_25.08__270.00_0.00_90.00': '5',\n",
       " 'camera_-0.06_33.50_6.08__-30.00_0.00_180.00': '2',\n",
       " 'camera_-16.06_17.50_6.08__-30.00_0.00_270.00': '3',\n",
       " 'camera_0.48_1.50_1.08__0.00_0.00_0.00': '4',\n",
       " 'camera_15.94_17.50_6.08__-30.00_0.00_90.00': '1'}"
      ]
     },
     "execution_count": 10,
     "metadata": {},
     "output_type": "execute_result"
    }
   ],
   "source": [
    "camera_names"
   ]
  },
  {
   "cell_type": "code",
   "execution_count": null,
   "metadata": {
    "collapsed": true
   },
   "outputs": [],
   "source": []
  }
 ],
 "metadata": {
  "kernelspec": {
   "display_name": "Python 3",
   "language": "python",
   "name": "python3"
  },
  "language_info": {
   "codemirror_mode": {
    "name": "ipython",
    "version": 3
   },
   "file_extension": ".py",
   "mimetype": "text/x-python",
   "name": "python",
   "nbconvert_exporter": "python",
   "pygments_lexer": "ipython3",
   "version": "3.6.3"
  }
 },
 "nbformat": 4,
 "nbformat_minor": 2
}
