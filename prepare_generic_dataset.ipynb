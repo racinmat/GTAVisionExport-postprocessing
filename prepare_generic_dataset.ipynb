{
 "cells": [
  {
   "cell_type": "code",
   "execution_count": 2,
   "metadata": {
    "collapsed": true
   },
   "outputs": [],
   "source": [
    "import numpy as np\n",
    "import matplotlib.pyplot as plt\n",
    "import visualization\n",
    "import os\n",
    "from gta_math import points_to_homo, ndc_to_view, construct_proj_matrix, view_to_world, construct_view_matrix\n",
    "from visualization import load_depth, load_stencil, save_pointcloud_csv, bbox_from_string, are_buffers_same_as_previous, \\\n",
    "    is_first_record_in_run, camera_to_string\n",
    "import progressbar\n",
    "from joblib import Parallel, delayed\n",
    "from configparser import ConfigParser\n",
    "from PIL import Image\n",
    "import pickle\n",
    "import json\n",
    "import time\n",
    "from shutil import copyfile\n",
    "from functools import lru_cache\n",
    "import scipy.io as sio\n",
    "import tifffile"
   ]
  },
  {
   "cell_type": "code",
   "execution_count": 3,
   "metadata": {},
   "outputs": [],
   "source": [
    "ini_file = \"gta-postprocessing.ini\"\n",
    "visualization.multi_page = False\n",
    "visualization.ini_file = ini_file\n",
    "visualization.use_cache = False\n",
    "\n",
    "conn = visualization.get_connection_pooled()\n",
    "cur = conn.cursor()\n",
    "\n",
    "CONFIG = ConfigParser()\n",
    "CONFIG.read(ini_file)\n",
    "in_directory = CONFIG[\"Images\"][\"Tiff\"]\n",
    "out_directory = r'D:\\output-datasets\\offroad-14'\n",
    "\n",
    "# for some datasets we don't need entities, which produces lot smaller json files\n",
    "# for some datasets, we want each camera data to be in separate folder\n",
    "# sometimes buffers are not synced and don't correspond to current camera. \n",
    "# they can be recognized by having same data as previous record\n",
    "discard_invalid_buffers = True\n",
    "\n",
    "\n",
    "# for offroad\n",
    "include_entities = False\n",
    "directory_per_camera = True\n",
    "depth_in_tiff = True # use .tiff format to store depth directly in NDC\n",
    "scene_index_naming = True\n",
    "\n",
    "# for onroad\n",
    "#include_entities = True\n",
    "#directory_per_camera = False\n",
    "#depth_in_tiff = False\n",
    "#scene_index_naming = False\n",
    "\n",
    "\n",
    "if scene_index_naming and not directory_per_camera:\n",
    "    print('BEWARE, THE CONFIGURATION IS WRONG AND YOU MIGHT MISS SOME FILES, MULTIPLE FILES WITH SAME NAME IN ONE DIRECTORY WILL BE THERE')\n"
   ]
  },
  {
   "cell_type": "code",
   "execution_count": 4,
   "metadata": {},
   "outputs": [
    {
     "name": "stdout",
     "output_type": "stream",
     "text": [
      "There are 8503 snapshots\n",
      "{'camera_-16.06_17.50_6.08__-30.00_0.00_270.00': '0', 'camera_-0.06_1.50_1.08__0.00_0.00_0.00': '1', 'camera_-0.06_17.50_25.08__270.00_0.00_90.00': '2', 'camera_-0.06_33.50_6.08__-30.00_0.00_180.00': '3', 'camera_0.48_1.50_1.08__0.00_0.00_0.00': '4', 'camera_15.94_17.50_6.08__-30.00_0.00_90.00': '5'}\n"
     ]
    }
   ],
   "source": [
    "#run_id = 19\n",
    "#run_id = 3677\n",
    "run_id = 4203\n",
    "\n",
    "cur.execute(\"\"\"SELECT snapshot_id, imagepath, cam_near_clip, camera_fov, width, height, timestamp, timeofday, width, height, \\\n",
    "      ARRAY[st_x(camera_relative_rotation), st_y(camera_relative_rotation), st_z(camera_relative_rotation)] as camera_relative_rotation, \\\n",
    "      ARRAY[st_x(camera_relative_position), st_y(camera_relative_position), st_z(camera_relative_position)] as camera_relative_position, \\\n",
    "      ARRAY[st_x(camera_pos), st_y(camera_pos), st_z(camera_pos)] as camera_pos, \\\n",
    "      ARRAY[st_x(camera_rot), st_y(camera_rot), st_z(camera_rot)] as camera_rot, \\\n",
    "      ARRAY[st_x(current_target), st_y(current_target), st_z(current_target)] as current_target, \\\n",
    "      currentweather, scene_id, run_id \\\n",
    "      FROM snapshots \\\n",
    "      WHERE run_id = {}\n",
    "      ORDER BY timestamp ASC \\\n",
    "    \"\"\".format(run_id))\n",
    "\n",
    "results = []\n",
    "for row in cur:\n",
    "    res = dict(row)\n",
    "    if res['camera_fov'] == 0 and res['cam_near_clip'] == 0:\n",
    "        continue  # somehow malformed data, skipping them\n",
    "    res['camera_rot'] = np.array(res['camera_rot'])\n",
    "    res['camera_pos'] = np.array(res['camera_pos'])\n",
    "    res['camera_relative_rotation'] = np.array(res['camera_relative_rotation'])\n",
    "    res['camera_relative_position'] = np.array(res['camera_relative_position'])\n",
    "    res['current_target'] = np.array(res['current_target'])\n",
    "    res['view_matrix'] = construct_view_matrix(res['camera_pos'], res['camera_rot'])\n",
    "    res['proj_matrix'] = construct_proj_matrix(res['height'], res['width'], res['camera_fov'], res['cam_near_clip'])\n",
    "    results.append(res)\n",
    "\n",
    "print('There are {} snapshots'.format(len(results)))\n",
    "\n",
    "# because sometimes I use two cameras heading same direction, pair (position, rotation) is unique identifier\n",
    "cur = conn.cursor()\n",
    "cur.execute(\"\"\"SELECT DISTINCT \\\n",
    "      ARRAY[st_x(camera_relative_rotation), st_y(camera_relative_rotation), st_z(camera_relative_rotation)] as camera_relative_rotation, \n",
    "      ARRAY[st_x(camera_relative_position), st_y(camera_relative_position), st_z(camera_relative_position)] as camera_relative_position \n",
    "      FROM snapshots \\\n",
    "      WHERE run_id = {} AND camera_fov != 0 \\\n",
    "      ORDER BY camera_relative_position, camera_relative_rotation ASC \\\n",
    "    \"\"\".format(run_id))\n",
    "\n",
    "camera_names = {}\n",
    "for i, row in enumerate(cur):\n",
    "    camera_name = camera_to_string(row)\n",
    "    camera_names[camera_name] = str(i)\n",
    "    \n",
    "print(camera_names)\n",
    "\n",
    "# this is for file naming by scene index\n",
    "if scene_index_naming:\n",
    "    # then I get sorted all scene ids\n",
    "    cur = conn.cursor()\n",
    "    cur.execute(\"\"\"SELECT scene_id, min(timestamp) \n",
    "            FROM snapshots\n",
    "            WHERE run_id = %(run_id)s\n",
    "            GROUP BY scene_id\n",
    "          ORDER BY min(timestamp) ASC\n",
    "        \"\"\", {'run_id': run_id})\n",
    "\n",
    "    scenes = {}\n",
    "    for i, row in enumerate(cur):\n",
    "        scenes[row['scene_id']] = f'{i:06}'  # prepend zeros to 5 places\n",
    "\n",
    "    # then I take all imagepaths for all scene ids\n",
    "    cur = conn.cursor()\n",
    "\n",
    "    cur.execute(\"\"\"SELECT scene_id, imagepath\n",
    "          FROM snapshots \\\n",
    "          WHERE run_id = %(run_id)s\n",
    "          ORDER BY timestamp ASC\n",
    "        \"\"\", {'run_id': run_id})\n",
    "\n",
    "    file_names = {}\n",
    "    for i, row in enumerate(cur):\n",
    "        file_names[row['imagepath']] = row['scene_id']\n"
   ]
  },
  {
   "cell_type": "code",
   "execution_count": 5,
   "metadata": {
    "collapsed": true
   },
   "outputs": [],
   "source": [
    "def get_base_name(name):\n",
    "    return os.path.basename(os.path.splitext(name)[0])\n",
    "\n",
    "def get_main_image_name(cameras):\n",
    "    for cam in cameras:\n",
    "        # this is the main camera\n",
    "        if np.array_equal(cam['camera_relative_rotation'], [0, 0, 0]):\n",
    "            return cam['imagepath']\n",
    "    raise Exception('no main image')\n",
    "\n",
    "def load_entities_data(snapshot_id):\n",
    "    conn = visualization.get_connection_pooled()\n",
    "    cur = conn.cursor()\n",
    "    \n",
    "    # start = time.time()\n",
    "\n",
    "    cur.execute(\"\"\"SELECT bbox, \\\n",
    "        ARRAY[st_x(pos), st_y(pos), st_z(pos)] as pos, \\\n",
    "        ARRAY[st_x(rot), st_y(rot), st_z(rot)] as rot, \\\n",
    "        ARRAY[st_xmin(bbox3d), st_xmax(bbox3d), st_ymin(bbox3d), st_ymax(bbox3d), st_zmin(bbox3d), st_zmax(bbox3d)] as bbox3d, \\\n",
    "         type, class, handle, snapshot_id \\\n",
    "        FROM detections \\\n",
    "        WHERE snapshot_id = '{}' \\\n",
    "        \"\"\".format(snapshot_id))\n",
    "\n",
    "    # end = time.time()\n",
    "    # print('time to load from db', end - start)\n",
    "    # start = time.time()\n",
    "\n",
    "    # print(size)\n",
    "    results = []\n",
    "    for row in cur:\n",
    "        res = dict(row)\n",
    "        res['model_sizes'] = np.array(res['bbox3d'])\n",
    "        res['bbox'] = bbox_from_string(res['bbox'])\n",
    "        res['pos'] = np.array(res['pos'])\n",
    "        res['rot'] = np.array(res['rot'])\n",
    "        results.append(res)\n",
    "\n",
    "    # end = time.time()\n",
    "    # print('time to convert arrays to numpy', end - start)\n",
    "    # start = time.time()\n",
    "\n",
    "    return results\n",
    "\n",
    "\n",
    "def convert_rgb(in_directory, out_directory, out_name, name, out_format):\n",
    "    outfile = os.path.join(out_directory, \"{}.{}\".format(out_name, out_format))\n",
    "    # print(outfile)\n",
    "    if os.path.exists(outfile):\n",
    "        return\n",
    "\n",
    "    try:\n",
    "        infile = os.path.join(in_directory, name)\n",
    "        im = Image.open(infile)\n",
    "        im = im.convert(mode=\"RGB\")\n",
    "        im.save(outfile)\n",
    "    except OSError:\n",
    "        # print(\"Skipping invalid file {}\".format(name))\n",
    "        return\n",
    "\n",
    "\n",
    "def convert_depth(in_directory, out_directory, out_name, name, out_format):\n",
    "    outfile = os.path.join(out_directory, \"{}.{}\".format(out_name, out_format))\n",
    "    # print(outfile)\n",
    "    if os.path.exists(outfile):\n",
    "        return\n",
    "\n",
    "    try:\n",
    "        infile = os.path.join(in_directory, name)\n",
    "        depth = load_depth(name)\n",
    "        if out_format in ['png', 'jpg']:\n",
    "            # print('depth min before: ', np.min(depth))\n",
    "            # print('depth max before: ', np.max(depth))\n",
    "            depth = depth * np.iinfo(np.uint16).max\n",
    "            # print('depth min after: ', np.min(depth))\n",
    "            # print('depth max after: ', np.max(depth))\n",
    "            im = Image.fromarray(depth.astype(np.int32), mode=\"I\")\n",
    "            im.save(outfile)\n",
    "        elif out_format == 'mat':\n",
    "            sio.savemat(outfile, {'depth': depth}, do_compression=True)\n",
    "        elif out_format == 'tiff':\n",
    "            tifffile.imsave(outfile, depth, compress='lzma')\n",
    "    except OSError:\n",
    "        # print(\"Skipping invalid file {}\".format(name))\n",
    "        return\n",
    "\n",
    "def convert_stencil(in_directory, out_directory, out_name, name, out_format):\n",
    "    outfile = os.path.join(out_directory, \"{}.{}\".format(out_name, out_format))\n",
    "    # print(outfile)\n",
    "    if os.path.exists(outfile):\n",
    "        return\n",
    "\n",
    "    try:\n",
    "        infile = os.path.join(in_directory, name)\n",
    "        stencil = load_stencil(name)\n",
    "        im = Image.fromarray(stencil.astype(np.uint8), mode=\"L\")\n",
    "        im.save(outfile)\n",
    "    except OSError:\n",
    "        # print(\"Skipping invalid file {}\".format(name))\n",
    "        return\n",
    "\n",
    "def get_out_directory(out_directory, res, directory_per_camera):\n",
    "    if directory_per_camera:\n",
    "        return os.path.join(out_directory, camera_names[camera_to_string(res)])\n",
    "    else:\n",
    "        return out_directory\n",
    "\n",
    "def try_dump_snapshot_to_dataset(in_directory, out_directory, res, run_id):\n",
    "    try:\n",
    "        dump_snapshot_to_dataset(in_directory, out_directory, res, run_id)\n",
    "    except Exception as e:\n",
    "        print(e)\n",
    "        pass\n",
    "\n",
    "def dump_snapshot_to_dataset(in_directory, out_directory, res, run_id):\n",
    "    if 'pbar' in globals() and 'counter' in globals():\n",
    "        global counter\n",
    "        counter += 1\n",
    "        pbar.update(counter)\n",
    "\n",
    "    start = time.time()\n",
    "    \n",
    "    if not os.path.exists(out_directory):\n",
    "        os.makedirs(out_directory)\n",
    "\n",
    "    if discard_invalid_buffers and (not is_first_record_in_run(res, run_id)) and \\\n",
    "        are_buffers_same_as_previous(res):\n",
    "        print('skipping record wih invalid buffers in snapshot {}, filename {} and camera {}'\n",
    "              .format(res['snapshot_id'], res['imagepath'], res['camera_relative_position'].tolist()))\n",
    "        return\n",
    "    \n",
    "    name = res['imagepath']\n",
    "    out_name = name\n",
    "    if scene_index_naming:\n",
    "        out_name = scenes[file_names[name]]\n",
    "\n",
    "    convert_rgb(in_directory, out_directory, out_name, name+'.tiff', 'jpg')\n",
    "    if depth_in_tiff:\n",
    "        convert_depth(in_directory, out_directory, out_name+'-depth', name, 'tiff')\n",
    "    else:\n",
    "        convert_depth(in_directory, out_directory, out_name+'-depth', name, 'png')\n",
    "        \n",
    "    convert_stencil(in_directory, out_directory, out_name+'-stencil', name, 'png')\n",
    "    # end = time.time()\n",
    "    # print('time to generate images', end - start)\n",
    "    # start = time.time()\n",
    "    \n",
    "    outfile = os.path.join(out_directory, '{}.json'.format(out_name))\n",
    "    if os.path.exists(outfile):\n",
    "        return\n",
    "\n",
    "    if include_entities:\n",
    "        data = load_entities_data(res['snapshot_id'])\n",
    "\n",
    "        # end = time.time()\n",
    "        # print('loading entities data', end - start)\n",
    "        # start = time.time()\n",
    "    \n",
    "        json_entities_data = []\n",
    "        for i in data:\n",
    "            json_entity = {\n",
    "                'model_sizes': i['model_sizes'].tolist(),\n",
    "                'bbox': i['bbox'].tolist(),\n",
    "                'pos': i['pos'].tolist(),\n",
    "                'rot': i['rot'].tolist(),\n",
    "                'class': i['class'],\n",
    "                'handle': i['handle'],\n",
    "                'type': i['type'],\n",
    "            }\n",
    "            json_entities_data.append(json_entity)\n",
    "\n",
    "    # end = time.time()\n",
    "    # print('dumping entities to json', end - start)\n",
    "    # start = time.time()\n",
    "\n",
    "    json_data = {\n",
    "        'imagepath': res['imagepath'],\n",
    "        'timestamp': res['timestamp'].strftime(\"%Y-%m-%d %H:%M:%S\"),\n",
    "        'timeofday': res['timeofday'].strftime(\"%H:%M:%S\"),\n",
    "        'currentweather': res['currentweather'],\n",
    "        'width': res['width'],\n",
    "        'height': res['height'],\n",
    "        'snapshot_id': res['snapshot_id'],\n",
    "        'scene_id': res['scene_id'],\n",
    "        'run_id': res['run_id'],\n",
    "        'camera_rot': res['camera_rot'].tolist(),\n",
    "        'camera_pos': res['camera_pos'].tolist(),\n",
    "        'camera_fov': res['camera_fov'],\n",
    "        'camera_relative_rotation': res['camera_relative_rotation'].tolist(),\n",
    "        'camera_relative_position': res['camera_relative_position'].tolist(),\n",
    "        'current_target': res['current_target'].tolist(),\n",
    "        'view_matrix': res['view_matrix'].tolist(),\n",
    "        'proj_matrix': res['proj_matrix'].tolist(),\n",
    "    }\n",
    "    \n",
    "    if include_entities:\n",
    "        json_data['entities'] = json_entities_data\n",
    "\n",
    "    # end = time.time()\n",
    "    # print('dumping base object to json', end - start)\n",
    "    # start = time.time()\n",
    "\n",
    "    with open(outfile, 'w') as f:\n",
    "        json.dump(json_data, f)\n",
    "    \n",
    "    # end = time.time()\n",
    "    # print('persisting json to file', end - start)\n",
    "    "
   ]
  },
  {
   "cell_type": "markdown",
   "metadata": {},
   "source": [
    "### dumping all data"
   ]
  },
  {
   "cell_type": "code",
   "execution_count": null,
   "metadata": {
    "scrolled": true
   },
   "outputs": [
    {
     "name": "stderr",
     "output_type": "stream",
     "text": [
      " 22% 1951 |#############                                            |   1.2 B/sC:\\ProgramData\\Anaconda3\\lib\\site-packages\\tifffile\\tifffile.py:2642: RuntimeWarning: py_decodelzw encountered unexpected end of stream\n",
      "  strip = decompress(strip)\n",
      " 39% 3387 |######################                                   |   1.2 B/sC:\\ProgramData\\Anaconda3\\lib\\site-packages\\tifffile\\tifffile.py:2577: UserWarning: unpack: string size must be a multiple of element size\n",
      "  warnings.warn(\"unpack: %s\" % e)\n",
      " 53% 4519 |##############################                           |   1.2 B/s"
     ]
    },
    {
     "name": "stdout",
     "output_type": "stream",
     "text": [
      "skipping record wih invalid buffers in snapshot 597848, filename 2018-08-22--19-22-50--165 and camera [-16.0599994659424, 17.5, 6.07649993896484]\n"
     ]
    },
    {
     "name": "stderr",
     "output_type": "stream",
     "text": [
      " 53% 4521 |##############################                           |   1.2 B/s"
     ]
    },
    {
     "name": "stdout",
     "output_type": "stream",
     "text": [
      "skipping record wih invalid buffers in snapshot 597849, filename 2018-08-22--19-22-50--420 and camera [0.480000019073486, 1.5, 1.07649993896484]\n"
     ]
    },
    {
     "name": "stderr",
     "output_type": "stream",
     "text": [
      "\r",
      "                                                                               \r",
      "\r",
      " 53% 4522 |##############################                           |   1.2 B/s"
     ]
    },
    {
     "name": "stdout",
     "output_type": "stream",
     "text": [
      "skipping record wih invalid buffers in snapshot 597850, filename 2018-08-22--19-22-50--734 and camera [-0.0599999986588955, 17.5, 25.0764999389648]\n"
     ]
    },
    {
     "name": "stderr",
     "output_type": "stream",
     "text": [
      " 53% 4525 |##############################                           |   1.2 B/s"
     ]
    },
    {
     "name": "stdout",
     "output_type": "stream",
     "text": [
      "skipping record wih invalid buffers in snapshot 597851, filename 2018-08-22--19-22-51--202 and camera [-0.0599999986588955, 1.5, 1.07649993896484]\n",
      "skipping record wih invalid buffers in snapshot 597852, filename 2018-08-22--19-22-51--525 and camera [15.9399995803833, 17.5, 6.07649993896484]\n"
     ]
    },
    {
     "name": "stderr",
     "output_type": "stream",
     "text": [
      " 53% 4527 |##############################                           |   1.2 B/s"
     ]
    },
    {
     "name": "stdout",
     "output_type": "stream",
     "text": [
      "skipping record wih invalid buffers in snapshot 597854, filename 2018-08-22--19-22-52--111 and camera [-16.0599994659424, 17.5, 6.07649993896484]\n",
      "skipping record wih invalid buffers in snapshot 597853, filename 2018-08-22--19-22-51--815 and camera [-0.0599999986588955, 33.5, 6.07649993896484]\n"
     ]
    },
    {
     "name": "stderr",
     "output_type": "stream",
     "text": [
      " 53% 4529 |##############################                           |   1.2 B/s"
     ]
    },
    {
     "name": "stdout",
     "output_type": "stream",
     "text": [
      "skipping record wih invalid buffers in snapshot 597855, filename 2018-08-22--19-22-52--428 and camera [0.480000019073486, 1.5, 1.07649993896484]\n",
      "skipping record wih invalid buffers in snapshot 597856, filename 2018-08-22--19-22-52--708 and camera [-0.0599999986588955, 17.5, 25.0764999389648]\n"
     ]
    },
    {
     "name": "stderr",
     "output_type": "stream",
     "text": [
      " 53% 4532 |##############################                           |   1.2 B/s"
     ]
    },
    {
     "name": "stdout",
     "output_type": "stream",
     "text": [
      "skipping record wih invalid buffers in snapshot 597857, filename 2018-08-22--19-22-53--143 and camera [-0.0599999986588955, 1.5, 1.07649993896484]\n",
      "skipping record wih invalid buffers in snapshot 597858, filename 2018-08-22--19-22-53--436 and camera [15.9399995803833, 17.5, 6.07649993896484]\n"
     ]
    },
    {
     "name": "stderr",
     "output_type": "stream",
     "text": [
      " 53% 4536 |##############################                           |   1.2 B/s"
     ]
    },
    {
     "name": "stdout",
     "output_type": "stream",
     "text": [
      "skipping record wih invalid buffers in snapshot 597859, filename 2018-08-22--19-22-53--782 and camera [-0.0599999986588955, 33.5, 6.07649993896484]\n",
      "skipping record wih invalid buffers in snapshot 597861, filename 2018-08-22--19-22-54--351 and camera [0.480000019073486, 1.5, 1.07649993896484]\n"
     ]
    },
    {
     "name": "stderr",
     "output_type": "stream",
     "text": [
      "\r",
      "                                                                               \r",
      "\r",
      " 53% 4538 |##############################                           |   1.2 B/s"
     ]
    },
    {
     "name": "stdout",
     "output_type": "stream",
     "text": [
      "skipping record wih invalid buffers in snapshot 597860, filename 2018-08-22--19-22-54--094 and camera [-16.0599994659424, 17.5, 6.07649993896484]\n"
     ]
    },
    {
     "name": "stderr",
     "output_type": "stream",
     "text": [
      "\r",
      "                                                                               \r",
      "\r",
      " 53% 4539 |##############################                           |   1.2 B/s"
     ]
    },
    {
     "name": "stdout",
     "output_type": "stream",
     "text": [
      "skipping record wih invalid buffers in snapshot 597863, filename 2018-08-22--19-22-55--191 and camera [-0.0599999986588955, 1.5, 1.07649993896484]\n",
      "skipping record wih invalid buffers in snapshot 597862, filename 2018-08-22--19-22-54--662 and camera [-0.0599999986588955, 17.5, 25.0764999389648]\n"
     ]
    },
    {
     "name": "stderr",
     "output_type": "stream",
     "text": [
      " 53% 4542 |##############################                           |   1.2 B/s"
     ]
    },
    {
     "name": "stdout",
     "output_type": "stream",
     "text": [
      "skipping record wih invalid buffers in snapshot 597864, filename 2018-08-22--19-22-55--484 and camera [15.9399995803833, 17.5, 6.07649993896484]\n",
      "skipping record wih invalid buffers in snapshot 597865, filename 2018-08-22--19-22-55--784 and camera [-0.0599999986588955, 33.5, 6.07649993896484]\n",
      "skipping record wih invalid buffers in snapshot 597866, filename 2018-08-22--19-22-56--122 and camera [-16.0599994659424, 17.5, 6.07649993896484]\n"
     ]
    },
    {
     "name": "stderr",
     "output_type": "stream",
     "text": [
      "\r",
      "                                                                               \r",
      "\r",
      " 53% 4544 |##############################                           |   1.2 B/s"
     ]
    },
    {
     "name": "stdout",
     "output_type": "stream",
     "text": [
      "skipping record wih invalid buffers in snapshot 597867, filename 2018-08-22--19-22-56--429 and camera [0.480000019073486, 1.5, 1.07649993896484]\n",
      "skipping record wih invalid buffers in snapshot 597868, filename 2018-08-22--19-22-56--701 and camera [-0.0599999986588955, 17.5, 25.0764999389648]"
     ]
    },
    {
     "name": "stderr",
     "output_type": "stream",
     "text": [
      "\r",
      "                                                                               \r",
      "\r",
      " 53% 4545 |##############################                           |   1.2 B/s"
     ]
    },
    {
     "name": "stdout",
     "output_type": "stream",
     "text": [
      "\n",
      "skipping record wih invalid buffers in snapshot 597869, filename 2018-08-22--19-22-57--146 and camera [-0.0599999986588955, 1.5, 1.07649993896484]\n"
     ]
    },
    {
     "name": "stderr",
     "output_type": "stream",
     "text": [
      " 53% 4548 |##############################                           |   1.2 B/s"
     ]
    },
    {
     "name": "stdout",
     "output_type": "stream",
     "text": [
      "skipping record wih invalid buffers in snapshot 597871, filename 2018-08-22--19-22-57--757 and camera [-0.0599999986588955, 33.5, 6.07649993896484]\n",
      "skipping record wih invalid buffers in snapshot 597874, filename 2018-08-22--19-22-58--680 and camera [-0.0599999986588955, 17.5, 25.0764999389648]\n",
      "skipping record wih invalid buffers in snapshot 597872, filename 2018-08-22--19-22-58--094 and camera [-16.0599994659424, 17.5, 6.07649993896484]\n"
     ]
    },
    {
     "name": "stderr",
     "output_type": "stream",
     "text": [
      "\r",
      "                                                                               \r",
      "\r",
      " 53% 4550 |##############################                           |   1.2 B/s"
     ]
    },
    {
     "name": "stdout",
     "output_type": "stream",
     "text": [
      "skipping record wih invalid buffers in snapshot 597870, filename 2018-08-22--19-22-57--474 and camera [15.9399995803833, 17.5, 6.07649993896484]\n"
     ]
    },
    {
     "name": "stderr",
     "output_type": "stream",
     "text": [
      " 53% 4552 |##############################                           |   1.2 B/s"
     ]
    },
    {
     "name": "stdout",
     "output_type": "stream",
     "text": [
      "skipping record wih invalid buffers in snapshot 597873, filename 2018-08-22--19-22-58--417 and camera [0.480000019073486, 1.5, 1.07649993896484]\n",
      "skipping record wih invalid buffers in snapshot 597877, filename 2018-08-22--19-22-59--793 and camera [-0.0599999986588955, 33.5, 6.07649993896484]\n"
     ]
    },
    {
     "name": "stderr",
     "output_type": "stream",
     "text": [
      "\r",
      "                                                                               \r",
      "\r",
      " 53% 4553 |##############################                           |   1.2 B/s"
     ]
    },
    {
     "name": "stdout",
     "output_type": "stream",
     "text": [
      "skipping record wih invalid buffers in snapshot 597875, filename 2018-08-22--19-22-59--122 and camera [-0.0599999986588955, 1.5, 1.07649993896484]\n"
     ]
    },
    {
     "name": "stderr",
     "output_type": "stream",
     "text": [
      "\r",
      "                                                                               \r",
      "\r",
      " 53% 4554 |##############################                           |   1.2 B/s"
     ]
    },
    {
     "name": "stdout",
     "output_type": "stream",
     "text": [
      "skipping record wih invalid buffers in snapshot 597876, filename 2018-08-22--19-22-59--446 and camera [15.9399995803833, 17.5, 6.07649993896484]\n"
     ]
    },
    {
     "name": "stderr",
     "output_type": "stream",
     "text": [
      " 53% 4556 |##############################                           |   1.2 B/s"
     ]
    },
    {
     "name": "stdout",
     "output_type": "stream",
     "text": [
      "skipping record wih invalid buffers in snapshot 597878, filename 2018-08-22--19-23-00--058 and camera [-16.0599994659424, 17.5, 6.07649993896484]\n",
      "skipping record wih invalid buffers in snapshot 597880, filename 2018-08-22--19-23-00--719 and camera [-0.0599999986588955, 17.5, 25.0764999389648]\n",
      "skipping record wih invalid buffers in snapshot 597881, filename 2018-08-22--19-23-01--203 and camera [-0.0599999986588955, 1.5, 1.07649993896484]\n"
     ]
    },
    {
     "name": "stderr",
     "output_type": "stream",
     "text": [
      " 53% 4559 |##############################                           |   1.2 B/s"
     ]
    },
    {
     "name": "stdout",
     "output_type": "stream",
     "text": [
      "skipping record wih invalid buffers in snapshot 597879, filename 2018-08-22--19-23-00--359 and camera [0.480000019073486, 1.5, 1.07649993896484]\n",
      "skipping record wih invalid buffers in snapshot 597882, filename 2018-08-22--19-23-01--482 and camera [15.9399995803833, 17.5, 6.07649993896484]\n"
     ]
    },
    {
     "name": "stderr",
     "output_type": "stream",
     "text": [
      "\r",
      "                                                                               \r",
      "\r",
      " 53% 4560 |##############################                           |   1.2 B/s"
     ]
    },
    {
     "name": "stdout",
     "output_type": "stream",
     "text": [
      "skipping record wih invalid buffers in snapshot 597883, filename 2018-08-22--19-23-01--817 and camera [-0.0599999986588955, 33.5, 6.07649993896484]\n",
      "skipping record wih invalid buffers in snapshot 597884, filename 2018-08-22--19-23-02--132 and camera [-16.0599994659424, 17.5, 6.07649993896484]\n"
     ]
    },
    {
     "name": "stderr",
     "output_type": "stream",
     "text": [
      "\r",
      "                                                                               \r",
      "\r",
      " 53% 4562 |##############################                           |   1.2 B/s"
     ]
    },
    {
     "name": "stdout",
     "output_type": "stream",
     "text": [
      "skipping record wih invalid buffers in snapshot 597885, filename 2018-08-22--19-23-02--403 and camera [0.480000019073486, 1.5, 1.07649993896484]\n"
     ]
    },
    {
     "name": "stderr",
     "output_type": "stream",
     "text": [
      "\r",
      "                                                                               \r",
      "\r",
      " 53% 4563 |##############################                           |   1.2 B/s"
     ]
    },
    {
     "name": "stdout",
     "output_type": "stream",
     "text": [
      "skipping record wih invalid buffers in snapshot 597887, filename 2018-08-22--19-23-03--171 and camera [-0.0599999986588955, 1.5, 1.07649993896484]\n",
      "skipping record wih invalid buffers in snapshot 597886, filename 2018-08-22--19-23-02--701 and camera [-0.0599999986588955, 17.5, 25.0764999389648]\n"
     ]
    },
    {
     "name": "stderr",
     "output_type": "stream",
     "text": [
      " 53% 4566 |##############################                           |   1.2 B/s"
     ]
    },
    {
     "name": "stdout",
     "output_type": "stream",
     "text": [
      "skipping record wih invalid buffers in snapshot 597889, filename 2018-08-22--19-23-03--791 and camera [-0.0599999986588955, 33.5, 6.07649993896484]\n",
      "skipping record wih invalid buffers in snapshot 597888, filename 2018-08-22--19-23-03--472 and camera [15.9399995803833, 17.5, 6.07649993896484]\n"
     ]
    },
    {
     "name": "stderr",
     "output_type": "stream",
     "text": [
      "\r",
      "                                                                               \r",
      "\r",
      " 53% 4567 |##############################                           |   1.2 B/s"
     ]
    },
    {
     "name": "stdout",
     "output_type": "stream",
     "text": [
      "skipping record wih invalid buffers in snapshot 597890, filename 2018-08-22--19-23-04--074 and camera [-16.0599994659424, 17.5, 6.07649993896484]\n"
     ]
    },
    {
     "name": "stderr",
     "output_type": "stream",
     "text": [
      "\r",
      "                                                                               \r",
      "\r",
      " 53% 4568 |##############################                           |   1.2 B/s"
     ]
    },
    {
     "name": "stdout",
     "output_type": "stream",
     "text": [
      "skipping record wih invalid buffers in snapshot 597892, filename 2018-08-22--19-23-04--726 and camera [-0.0599999986588955, 17.5, 25.0764999389648]\n",
      "skipping record wih invalid buffers in snapshot 597891, filename 2018-08-22--19-23-04--380 and camera [0.480000019073486, 1.5, 1.07649993896484]\n"
     ]
    },
    {
     "name": "stderr",
     "output_type": "stream",
     "text": [
      "\r",
      "                                                                               \r",
      "\r",
      " 53% 4570 |##############################                           |   1.2 B/s"
     ]
    },
    {
     "name": "stdout",
     "output_type": "stream",
     "text": [
      "skipping record wih invalid buffers in snapshot 597894, filename 2018-08-22--19-23-05--472 and camera [15.9399995803833, 17.5, 6.07649993896484]\n",
      "skipping record wih invalid buffers in snapshot 597895, filename 2018-08-22--19-23-05--771 and camera [-0.0599999986588955, 33.5, 6.07649993896484]\n",
      "skipping record wih invalid buffers in snapshot 597893, filename 2018-08-22--19-23-05--168 and camera [-0.0599999986588955, 1.5, 1.07649993896484]\n"
     ]
    },
    {
     "name": "stderr",
     "output_type": "stream",
     "text": [
      "\r",
      "                                                                               \r",
      "\r",
      " 53% 4573 |##############################                           |   1.2 B/s"
     ]
    },
    {
     "name": "stdout",
     "output_type": "stream",
     "text": [
      "skipping record wih invalid buffers in snapshot 597897, filename 2018-08-22--19-23-06--364 and camera [0.480000019073486, 1.5, 1.07649993896484]\n",
      "skipping record wih invalid buffers in snapshot 597896, filename 2018-08-22--19-23-06--080 and camera [-16.0599994659424, 17.5, 6.07649993896484]\n"
     ]
    },
    {
     "name": "stderr",
     "output_type": "stream",
     "text": [
      "\r",
      "                                                                               \r",
      "\r",
      " 53% 4575 |##############################                           |   1.2 B/s"
     ]
    },
    {
     "name": "stdout",
     "output_type": "stream",
     "text": [
      "skipping record wih invalid buffers in snapshot 597898, filename 2018-08-22--19-23-06--682 and camera [-0.0599999986588955, 17.5, 25.0764999389648]\n"
     ]
    },
    {
     "name": "stderr",
     "output_type": "stream",
     "text": [
      "\r",
      "                                                                               \r",
      "\r",
      " 53% 4576 |##############################                           |   1.2 B/s"
     ]
    },
    {
     "name": "stdout",
     "output_type": "stream",
     "text": [
      "skipping record wih invalid buffers in snapshot 597900, filename 2018-08-22--19-23-07--507 and camera [15.9399995803833, 17.5, 6.07649993896484]\n",
      "skipping record wih invalid buffers in snapshot 597899, filename 2018-08-22--19-23-07--217 and camera [-0.0599999986588955, 1.5, 1.07649993896484]\n"
     ]
    },
    {
     "name": "stderr",
     "output_type": "stream",
     "text": [
      " 53% 4579 |##############################                           |   1.2 B/s"
     ]
    },
    {
     "name": "stdout",
     "output_type": "stream",
     "text": [
      "skipping record wih invalid buffers in snapshot 597901, filename 2018-08-22--19-23-07--806 and camera [-0.0599999986588955, 33.5, 6.07649993896484]\n",
      "skipping record wih invalid buffers in snapshot 597902, filename 2018-08-22--19-23-08--114 and camera [-16.0599994659424, 17.5, 6.07649993896484]\n"
     ]
    },
    {
     "name": "stderr",
     "output_type": "stream",
     "text": [
      "\r",
      "                                                                               \r",
      "\r",
      " 53% 4580 |##############################                           |   1.2 B/s"
     ]
    },
    {
     "name": "stdout",
     "output_type": "stream",
     "text": [
      "skipping record wih invalid buffers in snapshot 597903, filename 2018-08-22--19-23-08--435 and camera [0.480000019073486, 1.5, 1.07649993896484]\n"
     ]
    },
    {
     "name": "stderr",
     "output_type": "stream",
     "text": [
      " 53% 4582 |##############################                           |   1.2 B/s"
     ]
    },
    {
     "name": "stdout",
     "output_type": "stream",
     "text": [
      "skipping record wih invalid buffers in snapshot 597905, filename 2018-08-22--19-23-09--175 and camera [-0.0599999986588955, 1.5, 1.07649993896484]\n",
      "skipping record wih invalid buffers in snapshot 597906, filename 2018-08-22--19-23-09--507 and camera [15.9399995803833, 17.5, 6.07649993896484]\n",
      "skipping record wih invalid buffers in snapshot 597908, filename 2018-08-22--19-23-10--083 and camera [-16.0599994659424, 17.5, 6.07649993896484]\n"
     ]
    },
    {
     "name": "stderr",
     "output_type": "stream",
     "text": [
      " 53% 4585 |##############################                           |   1.2 B/s"
     ]
    },
    {
     "name": "stdout",
     "output_type": "stream",
     "text": [
      "skipping record wih invalid buffers in snapshot 597904, filename 2018-08-22--19-23-08--729 and camera [-0.0599999986588955, 17.5, 25.0764999389648]\n",
      "skipping record wih invalid buffers in snapshot 597907, filename 2018-08-22--19-23-09--790 and camera [-0.0599999986588955, 33.5, 6.07649993896484]\n"
     ]
    },
    {
     "name": "stderr",
     "output_type": "stream",
     "text": [
      "\r",
      "                                                                               \r",
      "\r",
      " 53% 4586 |##############################                           |   1.2 B/s"
     ]
    },
    {
     "name": "stdout",
     "output_type": "stream",
     "text": [
      "skipping record wih invalid buffers in snapshot 597909, filename 2018-08-22--19-23-10--400 and camera [0.480000019073486, 1.5, 1.07649993896484]\n",
      "skipping record wih invalid buffers in snapshot 597910, filename 2018-08-22--19-23-10--679 and camera [-0.0599999986588955, 17.5, 25.0764999389648]\n"
     ]
    },
    {
     "name": "stderr",
     "output_type": "stream",
     "text": [
      " 53% 4590 |##############################                           |   1.2 B/s"
     ]
    },
    {
     "name": "stdout",
     "output_type": "stream",
     "text": [
      "skipping record wih invalid buffers in snapshot 597911, filename 2018-08-22--19-23-11--130 and camera [-0.0599999986588955, 1.5, 1.07649993896484]\n",
      "skipping record wih invalid buffers in snapshot 597912, filename 2018-08-22--19-23-11--455 and camera [15.9399995803833, 17.5, 6.07649993896484]\n",
      "skipping record wih invalid buffers in snapshot 597915, filename 2018-08-22--19-23-12--356 and camera [0.480000019073486, 1.5, 1.07649993896484]\n"
     ]
    },
    {
     "name": "stderr",
     "output_type": "stream",
     "text": [
      "\r",
      "                                                                               \r",
      "\r",
      " 53% 4591 |##############################                           |   1.2 B/s"
     ]
    },
    {
     "name": "stdout",
     "output_type": "stream",
     "text": [
      "skipping record wih invalid buffers in snapshot 597913, filename 2018-08-22--19-23-11--797 and camera [-0.0599999986588955, 33.5, 6.07649993896484]\n",
      "skipping record wih invalid buffers in snapshot 597914, filename 2018-08-22--19-23-12--047 and camera [-16.0599994659424, 17.5, 6.07649993896484]\n"
     ]
    },
    {
     "name": "stderr",
     "output_type": "stream",
     "text": [
      "\r",
      "                                                                               \r",
      "\r",
      " 54% 4593 |##############################                           |   1.2 B/s"
     ]
    },
    {
     "name": "stdout",
     "output_type": "stream",
     "text": [
      "skipping record wih invalid buffers in snapshot 597916, filename 2018-08-22--19-23-12--686 and camera [-0.0599999986588955, 17.5, 25.0764999389648]\n"
     ]
    },
    {
     "name": "stderr",
     "output_type": "stream",
     "text": [
      "\r",
      "                                                                               \r",
      "\r",
      " 54% 4594 |##############################                           |   1.2 B/s"
     ]
    },
    {
     "name": "stdout",
     "output_type": "stream",
     "text": [
      "skipping record wih invalid buffers in snapshot 597918, filename 2018-08-22--19-23-13--471 and camera [15.9399995803833, 17.5, 6.07649993896484]\n",
      "skipping record wih invalid buffers in snapshot 597917, filename 2018-08-22--19-23-13--176 and camera [-0.0599999986588955, 1.5, 1.07649993896484]\n"
     ]
    },
    {
     "name": "stderr",
     "output_type": "stream",
     "text": [
      " 54% 4597 |##############################                           |   1.2 B/s"
     ]
    },
    {
     "name": "stdout",
     "output_type": "stream",
     "text": [
      "skipping record wih invalid buffers in snapshot 597919, filename 2018-08-22--19-23-14--031 and camera [-0.0599999986588955, 33.5, 6.07649993896484]\n",
      "skipping record wih invalid buffers in snapshot 597921, filename 2018-08-22--19-23-14--675 and camera [0.480000019073486, 1.5, 1.07649993896484]\n",
      "skipping record wih invalid buffers in snapshot 597920, filename 2018-08-22--19-23-14--349 and camera [-16.0599994659424, 17.5, 6.07649993896484]"
     ]
    },
    {
     "name": "stderr",
     "output_type": "stream",
     "text": [
      "\r",
      "                                                                               \r",
      "\r",
      " 54% 4599 |##############################                           |   1.2 B/s"
     ]
    },
    {
     "name": "stdout",
     "output_type": "stream",
     "text": [
      "\n",
      "skipping record wih invalid buffers in snapshot 597922, filename 2018-08-22--19-23-14--929 and camera [-0.0599999986588955, 17.5, 25.0764999389648]\n",
      "skipping record wih invalid buffers in snapshot 597923, filename 2018-08-22--19-23-15--396 and camera [-0.0599999986588955, 1.5, 1.07649993896484]\n"
     ]
    },
    {
     "name": "stderr",
     "output_type": "stream",
     "text": [
      "\r",
      "                                                                               \r",
      "\r",
      " 54% 4601 |##############################                           |   1.2 B/s"
     ]
    },
    {
     "name": "stdout",
     "output_type": "stream",
     "text": [
      "skipping record wih invalid buffers in snapshot 597924, filename 2018-08-22--19-23-15--718 and camera [15.9399995803833, 17.5, 6.07649993896484]\n"
     ]
    },
    {
     "name": "stderr",
     "output_type": "stream",
     "text": [
      "\r",
      "                                                                               \r",
      "\r",
      " 54% 4602 |##############################                           |   1.2 B/s"
     ]
    },
    {
     "name": "stdout",
     "output_type": "stream",
     "text": [
      "skipping record wih invalid buffers in snapshot 597926, filename 2018-08-22--19-23-16--297 and camera [-16.0599994659424, 17.5, 6.07649993896484]\n",
      "skipping record wih invalid buffers in snapshot 597925, filename 2018-08-22--19-23-16--007 and camera [-0.0599999986588955, 33.5, 6.07649993896484]\n"
     ]
    },
    {
     "name": "stderr",
     "output_type": "stream",
     "text": [
      " 54% 4607 |##############################                           |   1.2 B/s"
     ]
    },
    {
     "name": "stdout",
     "output_type": "stream",
     "text": [
      "skipping record wih invalid buffers in snapshot 597927, filename 2018-08-22--19-23-16--617 and camera [0.480000019073486, 1.5, 1.07649993896484]\n",
      "skipping record wih invalid buffers in snapshot 597930, filename 2018-08-22--19-23-17--821 and camera [15.9399995803833, 17.5, 6.07649993896484]\n",
      "skipping record wih invalid buffers in snapshot 597929, filename 2018-08-22--19-23-17--531 and camera [-0.0599999986588955, 1.5, 1.07649993896484]\n",
      "skipping record wih invalid buffers in snapshot 597928, filename 2018-08-22--19-23-17--074 and camera [-0.0599999986588955, 17.5, 25.0764999389648]\n"
     ]
    },
    {
     "name": "stderr",
     "output_type": "stream",
     "text": [
      "\r",
      "                                                                               \r",
      "\r",
      " 54% 4608 |##############################                           |   1.2 B/s"
     ]
    },
    {
     "name": "stdout",
     "output_type": "stream",
     "text": [
      "skipping record wih invalid buffers in snapshot 597931, filename 2018-08-22--19-23-18--247 and camera [-0.0599999986588955, 33.5, 6.07649993896484]\n"
     ]
    },
    {
     "name": "stderr",
     "output_type": "stream",
     "text": [
      "\r",
      "                                                                               \r",
      "\r",
      " 54% 4609 |##############################                           |   1.2 B/s"
     ]
    },
    {
     "name": "stdout",
     "output_type": "stream",
     "text": [
      "skipping record wih invalid buffers in snapshot 597932, filename 2018-08-22--19-23-18--534 and camera [-16.0599994659424, 17.5, 6.07649993896484]\n"
     ]
    },
    {
     "name": "stderr",
     "output_type": "stream",
     "text": [
      "\r",
      "                                                                               \r",
      "\r",
      " 54% 4610 |##############################                           |   1.2 B/s"
     ]
    },
    {
     "name": "stdout",
     "output_type": "stream",
     "text": [
      "skipping record wih invalid buffers in snapshot 597933, filename 2018-08-22--19-23-18--854 and camera [0.480000019073486, 1.5, 1.07649993896484]\n",
      "skipping record wih invalid buffers in snapshot 597934, filename 2018-08-22--19-23-19--184 and camera [-0.0599999986588955, 17.5, 25.0764999389648]\n"
     ]
    },
    {
     "name": "stderr",
     "output_type": "stream",
     "text": [
      "\r",
      "                                                                               \r",
      "\r",
      " 54% 4612 |##############################                           |   1.2 B/s"
     ]
    },
    {
     "name": "stdout",
     "output_type": "stream",
     "text": [
      "skipping record wih invalid buffers in snapshot 597938, filename 2018-08-22--19-23-20--557 and camera [-16.0599994659424, 17.5, 6.07649993896484]\n"
     ]
    },
    {
     "name": "stderr",
     "output_type": "stream",
     "text": [
      " 54% 4615 |##############################                           |   1.2 B/s"
     ]
    },
    {
     "name": "stdout",
     "output_type": "stream",
     "text": [
      "skipping record wih invalid buffers in snapshot 597936, filename 2018-08-22--19-23-19--920 and camera [15.9399995803833, 17.5, 6.07649993896484]\n",
      "skipping record wih invalid buffers in snapshot 597935, filename 2018-08-22--19-23-19--650 and camera [-0.0599999986588955, 1.5, 1.07649993896484]\n",
      "skipping record wih invalid buffers in snapshot 597937, filename 2018-08-22--19-23-20--238 and camera [-0.0599999986588955, 33.5, 6.07649993896484]\n",
      "skipping record wih invalid buffers in snapshot 597939, filename 2018-08-22--19-23-20--840 and camera [0.480000019073486, 1.5, 1.07649993896484]\n"
     ]
    },
    {
     "name": "stderr",
     "output_type": "stream",
     "text": [
      "\r",
      "                                                                               \r",
      "\r",
      " 54% 4617 |##############################                           |   1.2 B/s"
     ]
    },
    {
     "name": "stdout",
     "output_type": "stream",
     "text": [
      "skipping record wih invalid buffers in snapshot 597940, filename 2018-08-22--19-23-21--141 and camera [-0.0599999986588955, 17.5, 25.0764999389648]\n"
     ]
    },
    {
     "name": "stderr",
     "output_type": "stream",
     "text": [
      "\r",
      "                                                                               \r",
      "\r",
      " 54% 4618 |##############################                           |   1.2 B/s"
     ]
    },
    {
     "name": "stdout",
     "output_type": "stream",
     "text": [
      "skipping record wih invalid buffers in snapshot 597941, filename 2018-08-22--19-23-21--618 and camera [-0.0599999986588955, 1.5, 1.07649993896484]\n",
      "skipping record wih invalid buffers in snapshot 597943, filename 2018-08-22--19-23-22--266 and camera [-0.0599999986588955, 33.5, 6.07649993896484]\n",
      "skipping record wih invalid buffers in snapshot 597942, filename 2018-08-22--19-23-21--931 and camera [15.9399995803833, 17.5, 6.07649993896484]\n"
     ]
    },
    {
     "name": "stderr",
     "output_type": "stream",
     "text": [
      " 54% 4622 |##############################                           |   1.2 B/s"
     ]
    },
    {
     "name": "stdout",
     "output_type": "stream",
     "text": [
      "skipping record wih invalid buffers in snapshot 597945, filename 2018-08-22--19-23-22--877 and camera [0.480000019073486, 1.5, 1.07649993896484]\n",
      "skipping record wih invalid buffers in snapshot 597946, filename 2018-08-22--19-23-23--145 and camera [-0.0599999986588955, 17.5, 25.0764999389648]\n",
      "skipping record wih invalid buffers in snapshot 597944, filename 2018-08-22--19-23-22--559 and camera [-16.0599994659424, 17.5, 6.07649993896484]\n"
     ]
    },
    {
     "name": "stderr",
     "output_type": "stream",
     "text": [
      "\r",
      "                                                                               \r",
      "\r",
      " 54% 4624 |##############################                           |   1.2 B/s"
     ]
    },
    {
     "name": "stdout",
     "output_type": "stream",
     "text": [
      "skipping record wih invalid buffers in snapshot 597947, filename 2018-08-22--19-23-23--584 and camera [-0.0599999986588955, 1.5, 1.07649993896484]\n"
     ]
    },
    {
     "name": "stderr",
     "output_type": "stream",
     "text": [
      "\r",
      "                                                                               \r",
      "\r",
      " 54% 4625 |###############################                          |   1.2 B/s"
     ]
    },
    {
     "name": "stdout",
     "output_type": "stream",
     "text": [
      "skipping record wih invalid buffers in snapshot 597948, filename 2018-08-22--19-23-24--101 and camera [15.9399995803833, 17.5, 6.07649993896484]\n"
     ]
    },
    {
     "name": "stderr",
     "output_type": "stream",
     "text": [
      " 54% 4628 |###############################                          |   1.2 B/s"
     ]
    },
    {
     "name": "stdout",
     "output_type": "stream",
     "text": [
      "skipping record wih invalid buffers in snapshot 597950, filename 2018-08-22--19-23-24--691 and camera [-16.0599994659424, 17.5, 6.07649993896484]\n",
      "skipping record wih invalid buffers in snapshot 597949, filename 2018-08-22--19-23-24--386 and camera [-0.0599999986588955, 33.5, 6.07649993896484]\n",
      "skipping record wih invalid buffers in snapshot 597951, filename 2018-08-22--19-23-25--019 and camera [0.480000019073486, 1.5, 1.07649993896484]\n",
      "skipping record wih invalid buffers in snapshot 597952, filename 2018-08-22--19-23-25--350 and camera [-0.0599999986588955, 17.5, 25.0764999389648]\n"
     ]
    },
    {
     "name": "stderr",
     "output_type": "stream",
     "text": [
      "\r",
      "                                                                               \r",
      "\r",
      " 54% 4630 |###############################                          |   1.2 B/s"
     ]
    },
    {
     "name": "stdout",
     "output_type": "stream",
     "text": [
      "skipping record wih invalid buffers in snapshot 597953, filename 2018-08-22--19-23-25--794 and camera [-0.0599999986588955, 1.5, 1.07649993896484]\n",
      "skipping record wih invalid buffers in snapshot 597954, filename 2018-08-22--19-23-26--110 and camera [15.9399995803833, 17.5, 6.07649993896484]\n"
     ]
    },
    {
     "name": "stderr",
     "output_type": "stream",
     "text": [
      " 54% 4633 |###############################                          |   1.2 B/s"
     ]
    },
    {
     "name": "stdout",
     "output_type": "stream",
     "text": [
      "skipping record wih invalid buffers in snapshot 597955, filename 2018-08-22--19-23-26--453 and camera [-0.0599999986588955, 33.5, 6.07649993896484]\n",
      "skipping record wih invalid buffers in snapshot 597956, filename 2018-08-22--19-23-26--726 and camera [-16.0599994659424, 17.5, 6.07649993896484]\n"
     ]
    },
    {
     "name": "stderr",
     "output_type": "stream",
     "text": [
      "\r",
      "                                                                               \r",
      "\r",
      " 54% 4634 |###############################                          |   1.2 B/s"
     ]
    },
    {
     "name": "stdout",
     "output_type": "stream",
     "text": [
      "skipping record wih invalid buffers in snapshot 597958, filename 2018-08-22--19-23-27--361 and camera [-0.0599999986588955, 17.5, 25.0764999389648]\n",
      "skipping record wih invalid buffers in snapshot 597960, filename 2018-08-22--19-23-28--138 and camera [15.9399995803833, 17.5, 6.07649993896484]\n"
     ]
    },
    {
     "name": "stderr",
     "output_type": "stream",
     "text": [
      " 54% 4638 |###############################                          |   1.2 B/s"
     ]
    },
    {
     "name": "stdout",
     "output_type": "stream",
     "text": [
      "skipping record wih invalid buffers in snapshot 597957, filename 2018-08-22--19-23-27--044 and camera [0.480000019073486, 1.5, 1.07649993896484]\n",
      "skipping record wih invalid buffers in snapshot 597961, filename 2018-08-22--19-23-28--455 and camera [-0.0599999986588955, 33.5, 6.07649993896484]\n",
      "skipping record wih invalid buffers in snapshot 597959, filename 2018-08-22--19-23-27--844 and camera [-0.0599999986588955, 1.5, 1.07649993896484]\n"
     ]
    },
    {
     "name": "stderr",
     "output_type": "stream",
     "text": [
      "\r",
      "                                                                               \r",
      "\r",
      " 54% 4639 |###############################                          |   1.2 B/s"
     ]
    },
    {
     "name": "stdout",
     "output_type": "stream",
     "text": [
      "skipping record wih invalid buffers in snapshot 597962, filename 2018-08-22--19-23-28--795 and camera [-16.0599994659424, 17.5, 6.07649993896484]\n",
      "skipping record wih invalid buffers in snapshot 597963, filename 2018-08-22--19-23-29--080 and camera [0.480000019073486, 1.5, 1.07649993896484]\n"
     ]
    },
    {
     "name": "stderr",
     "output_type": "stream",
     "text": [
      "\r",
      "                                                                               \r",
      "\r",
      " 54% 4641 |###############################                          |   1.2 B/s"
     ]
    },
    {
     "name": "stdout",
     "output_type": "stream",
     "text": [
      "skipping record wih invalid buffers in snapshot 597964, filename 2018-08-22--19-23-29--365 and camera [-0.0599999986588955, 17.5, 25.0764999389648]\n"
     ]
    },
    {
     "name": "stderr",
     "output_type": "stream",
     "text": [
      " 54% 4643 |###############################                          |   1.2 B/s"
     ]
    },
    {
     "name": "stdout",
     "output_type": "stream",
     "text": [
      "skipping record wih invalid buffers in snapshot 597966, filename 2018-08-22--19-23-30--271 and camera [15.9399995803833, 17.5, 6.07649993896484]\n",
      "skipping record wih invalid buffers in snapshot 597965, filename 2018-08-22--19-23-29--855 and camera [-0.0599999986588955, 1.5, 1.07649993896484]\n"
     ]
    },
    {
     "name": "stderr",
     "output_type": "stream",
     "text": [
      " 54% 4645 |###############################                          |   1.2 B/s"
     ]
    },
    {
     "name": "stdout",
     "output_type": "stream",
     "text": [
      "skipping record wih invalid buffers in snapshot 597967, filename 2018-08-22--19-23-30--562 and camera [-0.0599999986588955, 33.5, 6.07649993896484]\n",
      "skipping record wih invalid buffers in snapshot 597968, filename 2018-08-22--19-23-30--875 and camera [-16.0599994659424, 17.5, 6.07649993896484]\n",
      "skipping record wih invalid buffers in snapshot 597969, filename 2018-08-22--19-23-31--201 and camera [0.480000019073486, 1.5, 1.07649993896484]\n"
     ]
    },
    {
     "name": "stderr",
     "output_type": "stream",
     "text": [
      " 54% 4648 |###############################                          |   1.2 B/s"
     ]
    },
    {
     "name": "stdout",
     "output_type": "stream",
     "text": [
      "skipping record wih invalid buffers in snapshot 597970, filename 2018-08-22--19-23-31--487 and camera [-0.0599999986588955, 17.5, 25.0764999389648]\n",
      "skipping record wih invalid buffers in snapshot 597972, filename 2018-08-22--19-23-32--252 and camera [15.9399995803833, 17.5, 6.07649993896484]\n",
      "skipping record wih invalid buffers in snapshot 597971, filename 2018-08-22--19-23-31--938 and camera [-0.0599999986588955, 1.5, 1.07649993896484]\n"
     ]
    },
    {
     "name": "stderr",
     "output_type": "stream",
     "text": [
      " 54% 4651 |###############################                          |   1.2 B/s"
     ]
    },
    {
     "name": "stdout",
     "output_type": "stream",
     "text": [
      "skipping record wih invalid buffers in snapshot 597974, filename 2018-08-22--19-23-32--829 and camera [-16.0599994659424, 17.5, 6.07649993896484]\n",
      "skipping record wih invalid buffers in snapshot 597973, filename 2018-08-22--19-23-32--576 and camera [-0.0599999986588955, 33.5, 6.07649993896484]\n"
     ]
    },
    {
     "name": "stderr",
     "output_type": "stream",
     "text": [
      "\r",
      "                                                                               \r",
      "\r",
      " 54% 4652 |###############################                          |   1.2 B/s"
     ]
    },
    {
     "name": "stdout",
     "output_type": "stream",
     "text": [
      "skipping record wih invalid buffers in snapshot 597977, filename 2018-08-22--19-23-34--192 and camera [-0.0599999986588955, 1.5, 1.07649993896484]\n"
     ]
    },
    {
     "name": "stderr",
     "output_type": "stream",
     "text": [
      "\r",
      "                                                                               \r",
      "\r",
      " 54% 4653 |###############################                          |   1.2 B/s"
     ]
    },
    {
     "name": "stdout",
     "output_type": "stream",
     "text": [
      "skipping record wih invalid buffers in snapshot 597978, filename 2018-08-22--19-23-34--463 and camera [15.9399995803833, 17.5, 6.07649993896484]\n",
      "skipping record wih invalid buffers in snapshot 597976, filename 2018-08-22--19-23-33--458 and camera [-0.0599999986588955, 17.5, 25.0764999389648]\n",
      "skipping record wih invalid buffers in snapshot 597979, filename 2018-08-22--19-23-34--765 and camera [-0.0599999986588955, 33.5, 6.07649993896484]\n"
     ]
    },
    {
     "name": "stderr",
     "output_type": "stream",
     "text": [
      "\r",
      "                                                                               \r",
      "\r",
      " 54% 4656 |###############################                          |   1.2 B/s"
     ]
    },
    {
     "name": "stdout",
     "output_type": "stream",
     "text": [
      "skipping record wih invalid buffers in snapshot 597980, filename 2018-08-22--19-23-35--086 and camera [-16.0599994659424, 17.5, 6.07649993896484]\n"
     ]
    },
    {
     "name": "stderr",
     "output_type": "stream",
     "text": [
      "\r",
      "                                                                               \r",
      "\r",
      " 54% 4657 |###############################                          |   1.2 B/s"
     ]
    },
    {
     "name": "stdout",
     "output_type": "stream",
     "text": [
      "skipping record wih invalid buffers in snapshot 597981, filename 2018-08-22--19-23-35--361 and camera [0.480000019073486, 1.5, 1.07649993896484]\n"
     ]
    },
    {
     "name": "stderr",
     "output_type": "stream",
     "text": [
      "\r",
      "                                                                               \r",
      "\r",
      " 54% 4658 |###############################                          |   1.2 B/s"
     ]
    },
    {
     "name": "stdout",
     "output_type": "stream",
     "text": [
      "skipping record wih invalid buffers in snapshot 597983, filename 2018-08-22--19-23-36--204 and camera [-0.0599999986588955, 1.5, 1.07649993896484]\n",
      "skipping record wih invalid buffers in snapshot 597982, filename 2018-08-22--19-23-35--653 and camera [-0.0599999986588955, 17.5, 25.0764999389648]\n"
     ]
    },
    {
     "name": "stderr",
     "output_type": "stream",
     "text": [
      " 54% 4661 |###############################                          |   1.2 B/s"
     ]
    },
    {
     "name": "stdout",
     "output_type": "stream",
     "text": [
      "skipping record wih invalid buffers in snapshot 597985, filename 2018-08-22--19-23-36--822 and camera [-0.0599999986588955, 33.5, 6.07649993896484]\n",
      "skipping record wih invalid buffers in snapshot 597984, filename 2018-08-22--19-23-36--495 and camera [15.9399995803833, 17.5, 6.07649993896484]\n"
     ]
    },
    {
     "name": "stderr",
     "output_type": "stream",
     "text": [
      "\r",
      "                                                                               \r",
      "\r",
      " 54% 4662 |###############################                          |   1.2 B/s"
     ]
    },
    {
     "name": "stdout",
     "output_type": "stream",
     "text": [
      "skipping record wih invalid buffers in snapshot 597986, filename 2018-08-22--19-23-37--137 and camera [-16.0599994659424, 17.5, 6.07649993896484]\n",
      "skipping record wih invalid buffers in snapshot 597987, filename 2018-08-22--19-23-37--579 and camera [0.480000019073486, 1.5, 1.07649993896484]\n"
     ]
    },
    {
     "name": "stderr",
     "output_type": "stream",
     "text": [
      " 54% 4665 |###############################                          |   1.2 B/s"
     ]
    },
    {
     "name": "stdout",
     "output_type": "stream",
     "text": [
      "skipping record wih invalid buffers in snapshot 597988, filename 2018-08-22--19-23-37--891 and camera [-0.0599999986588955, 17.5, 25.0764999389648]\n",
      "skipping record wih invalid buffers in snapshot 597989, filename 2018-08-22--19-23-38--410 and camera [-0.0599999986588955, 1.5, 1.07649993896484]\n"
     ]
    },
    {
     "name": "stderr",
     "output_type": "stream",
     "text": [
      "\r",
      "                                                                               \r",
      "\r",
      " 54% 4666 |###############################                          |   1.2 B/s"
     ]
    },
    {
     "name": "stdout",
     "output_type": "stream",
     "text": [
      "skipping record wih invalid buffers in snapshot 597990, filename 2018-08-22--19-23-38--718 and camera [15.9399995803833, 17.5, 6.07649993896484]\n"
     ]
    },
    {
     "name": "stderr",
     "output_type": "stream",
     "text": [
      "\r",
      "                                                                               \r",
      "\r",
      " 54% 4667 |###############################                          |   1.2 B/s"
     ]
    },
    {
     "name": "stdout",
     "output_type": "stream",
     "text": [
      "skipping record wih invalid buffers in snapshot 597991, filename 2018-08-22--19-23-38--979 and camera [-0.0599999986588955, 33.5, 6.07649993896484]\n",
      "skipping record wih invalid buffers in snapshot 597992, filename 2018-08-22--19-23-39--271 and camera [-16.0599994659424, 17.5, 6.07649993896484]\n"
     ]
    },
    {
     "name": "stderr",
     "output_type": "stream",
     "text": [
      " 54% 4671 |###############################                          |   1.2 B/s"
     ]
    },
    {
     "name": "stdout",
     "output_type": "stream",
     "text": [
      "skipping record wih invalid buffers in snapshot 597994, filename 2018-08-22--19-23-39--872 and camera [-0.0599999986588955, 17.5, 25.0764999389648]\n",
      "skipping record wih invalid buffers in snapshot 597993, filename 2018-08-22--19-23-39--556 and camera [0.480000019073486, 1.5, 1.07649993896484]\n",
      "skipping record wih invalid buffers in snapshot 597995, filename 2018-08-22--19-23-40--346 and camera [-0.0599999986588955, 1.5, 1.07649993896484]\n"
     ]
    },
    {
     "name": "stderr",
     "output_type": "stream",
     "text": [
      "\r",
      "                                                                               \r",
      "\r",
      " 54% 4672 |###############################                          |   1.2 B/s"
     ]
    },
    {
     "name": "stdout",
     "output_type": "stream",
     "text": [
      "skipping record wih invalid buffers in snapshot 597996, filename 2018-08-22--19-23-40--631 and camera [15.9399995803833, 17.5, 6.07649993896484]\n",
      "skipping record wih invalid buffers in snapshot 597997, filename 2018-08-22--19-23-41--132 and camera [-0.0599999986588955, 33.5, 6.07649993896484]\n"
     ]
    },
    {
     "name": "stderr",
     "output_type": "stream",
     "text": [
      " 54% 4675 |###############################                          |   1.2 B/s"
     ]
    },
    {
     "name": "stdout",
     "output_type": "stream",
     "text": [
      "skipping record wih invalid buffers in snapshot 597998, filename 2018-08-22--19-23-41--476 and camera [-16.0599994659424, 17.5, 6.07649993896484]\n"
     ]
    },
    {
     "name": "stderr",
     "output_type": "stream",
     "text": [
      "\r",
      "                                                                               \r",
      "\r",
      " 54% 4676 |###############################                          |   1.2 B/s"
     ]
    },
    {
     "name": "stdout",
     "output_type": "stream",
     "text": [
      "skipping record wih invalid buffers in snapshot 597999, filename 2018-08-22--19-23-41--762 and camera [0.480000019073486, 1.5, 1.07649993896484]\n"
     ]
    },
    {
     "name": "stderr",
     "output_type": "stream",
     "text": [
      "\r",
      "                                                                               \r",
      "\r",
      " 55% 4677 |###############################                          |   1.2 B/s"
     ]
    },
    {
     "name": "stdout",
     "output_type": "stream",
     "text": [
      "skipping record wih invalid buffers in snapshot 598004, filename 2018-08-22--19-23-43--378 and camera [-16.0599994659424, 17.5, 6.07649993896484]\n"
     ]
    },
    {
     "name": "stderr",
     "output_type": "stream",
     "text": [
      " 55% 4680 |###############################                          |   1.2 B/s"
     ]
    },
    {
     "name": "stdout",
     "output_type": "stream",
     "text": [
      "skipping record wih invalid buffers in snapshot 598002, filename 2018-08-22--19-23-42--820 and camera [15.9399995803833, 17.5, 6.07649993896484]\n",
      "skipping record wih invalid buffers in snapshot 598003, filename 2018-08-22--19-23-43--082 and camera [-0.0599999986588955, 33.5, 6.07649993896484]\n",
      "skipping record wih invalid buffers in snapshot 598000, filename 2018-08-22--19-23-42--051 and camera [-0.0599999986588955, 17.5, 25.0764999389648]\n",
      "skipping record wih invalid buffers in snapshot 598001, filename 2018-08-22--19-23-42--517 and camera [-0.0599999986588955, 1.5, 1.07649993896484]\n"
     ]
    },
    {
     "name": "stderr",
     "output_type": "stream",
     "text": [
      " 55% 4683 |###############################                          |   1.2 B/s"
     ]
    },
    {
     "name": "stdout",
     "output_type": "stream",
     "text": [
      "skipping record wih invalid buffers in snapshot 598006, filename 2018-08-22--19-23-43--996 and camera [-0.0599999986588955, 17.5, 25.0764999389648]\n",
      "skipping record wih invalid buffers in snapshot 598005, filename 2018-08-22--19-23-43--698 and camera [0.480000019073486, 1.5, 1.07649993896484]\n"
     ]
    },
    {
     "name": "stderr",
     "output_type": "stream",
     "text": [
      " 55% 4685 |###############################                          |   1.2 B/s"
     ]
    },
    {
     "name": "stdout",
     "output_type": "stream",
     "text": [
      "skipping record wih invalid buffers in snapshot 598007, filename 2018-08-22--19-23-44--448 and camera [-0.0599999986588955, 1.5, 1.07649993896484]\n",
      "skipping record wih invalid buffers in snapshot 598008, filename 2018-08-22--19-23-44--740 and camera [15.9399995803833, 17.5, 6.07649993896484]\n"
     ]
    },
    {
     "name": "stderr",
     "output_type": "stream",
     "text": [
      " 55% 4687 |###############################                          |   1.2 B/s"
     ]
    },
    {
     "name": "stdout",
     "output_type": "stream",
     "text": [
      "skipping record wih invalid buffers in snapshot 598010, filename 2018-08-22--19-23-45--367 and camera [-16.0599994659424, 17.5, 6.07649993896484]\n",
      "skipping record wih invalid buffers in snapshot 598011, filename 2018-08-22--19-23-45--641 and camera [0.480000019073486, 1.5, 1.07649993896484]\n"
     ]
    },
    {
     "name": "stderr",
     "output_type": "stream",
     "text": [
      "\r",
      "                                                                               \r",
      "\r",
      " 55% 4689 |###############################                          |   1.2 B/s"
     ]
    },
    {
     "name": "stdout",
     "output_type": "stream",
     "text": [
      "skipping record wih invalid buffers in snapshot 598009, filename 2018-08-22--19-23-45--029 and camera [-0.0599999986588955, 33.5, 6.07649993896484]\n",
      "skipping record wih invalid buffers in snapshot 598012, filename 2018-08-22--19-23-45--931 and camera [-0.0599999986588955, 17.5, 25.0764999389648]\n"
     ]
    },
    {
     "name": "stderr",
     "output_type": "stream",
     "text": [
      "\r",
      "                                                                               \r",
      "\r",
      " 55% 4690 |###############################                          |   1.2 B/s"
     ]
    },
    {
     "name": "stdout",
     "output_type": "stream",
     "text": [
      "skipping record wih invalid buffers in snapshot 598013, filename 2018-08-22--19-23-46--433 and camera [-0.0599999986588955, 1.5, 1.07649993896484]\n",
      "skipping record wih invalid buffers in snapshot 598014, filename 2018-08-22--19-23-46--710 and camera [15.9399995803833, 17.5, 6.07649993896484]\n"
     ]
    },
    {
     "name": "stderr",
     "output_type": "stream",
     "text": [
      " 55% 4693 |###############################                          |   1.2 B/s"
     ]
    },
    {
     "name": "stdout",
     "output_type": "stream",
     "text": [
      "skipping record wih invalid buffers in snapshot 598015, filename 2018-08-22--19-23-47--015 and camera [-0.0599999986588955, 33.5, 6.07649993896484]\n",
      "skipping record wih invalid buffers in snapshot 598017, filename 2018-08-22--19-23-47--699 and camera [0.480000019073486, 1.5, 1.07649993896484]\n"
     ]
    },
    {
     "name": "stderr",
     "output_type": "stream",
     "text": [
      "\r",
      "                                                                               \r",
      "\r",
      " 55% 4694 |###############################                          |   1.2 B/s"
     ]
    },
    {
     "name": "stdout",
     "output_type": "stream",
     "text": [
      "skipping record wih invalid buffers in snapshot 598016, filename 2018-08-22--19-23-47--336 and camera [-16.0599994659424, 17.5, 6.07649993896484]\n",
      "skipping record wih invalid buffers in snapshot 598018, filename 2018-08-22--19-23-47--986 and camera [-0.0599999986588955, 17.5, 25.0764999389648]\n"
     ]
    },
    {
     "name": "stderr",
     "output_type": "stream",
     "text": [
      "\r",
      "                                                                               \r",
      "\r",
      " 55% 4696 |###############################                          |   1.2 B/s"
     ]
    },
    {
     "name": "stdout",
     "output_type": "stream",
     "text": [
      "skipping record wih invalid buffers in snapshot 598019, filename 2018-08-22--19-23-48--473 and camera [-0.0599999986588955, 1.5, 1.07649993896484]\n",
      "skipping record wih invalid buffers in snapshot 598020, filename 2018-08-22--19-23-48--831 and camera [15.9399995803833, 17.5, 6.07649993896484]\n"
     ]
    },
    {
     "name": "stderr",
     "output_type": "stream",
     "text": [
      "\r",
      "                                                                               \r",
      "\r",
      " 55% 4698 |###############################                          |   1.2 B/s"
     ]
    },
    {
     "name": "stdout",
     "output_type": "stream",
     "text": [
      "skipping record wih invalid buffers in snapshot 598021, filename 2018-08-22--19-23-49--124 and camera [-0.0599999986588955, 33.5, 6.07649993896484]\n"
     ]
    },
    {
     "name": "stderr",
     "output_type": "stream",
     "text": [
      " 55% 4700 |###############################                          |   1.2 B/s"
     ]
    },
    {
     "name": "stdout",
     "output_type": "stream",
     "text": [
      "skipping record wih invalid buffers in snapshot 598024, filename 2018-08-22--19-23-50--087 and camera [-0.0599999986588955, 17.5, 25.0764999389648]\n",
      "skipping record wih invalid buffers in snapshot 598023, filename 2018-08-22--19-23-49--783 and camera [0.480000019073486, 1.5, 1.07649993896484]\n"
     ]
    },
    {
     "name": "stderr",
     "output_type": "stream",
     "text": [
      " 55% 4702 |###############################                          |   1.2 B/s"
     ]
    },
    {
     "name": "stdout",
     "output_type": "stream",
     "text": [
      "skipping record wih invalid buffers in snapshot 598025, filename 2018-08-22--19-23-50--565 and camera [-0.0599999986588955, 1.5, 1.07649993896484]\n",
      "skipping record wih invalid buffers in snapshot 598026, filename 2018-08-22--19-23-50--845 and camera [15.9399995803833, 17.5, 6.07649993896484]\n",
      "skipping record wih invalid buffers in snapshot 598027, filename 2018-08-22--19-23-51--519 and camera [-0.0599999986588955, 33.5, 6.07649993896484]\n",
      "skipping record wih invalid buffers in snapshot 598028, filename 2018-08-22--19-23-52--172 and camera [-16.0599994659424, 17.5, 6.07649993896484]\n"
     ]
    },
    {
     "name": "stderr",
     "output_type": "stream",
     "text": [
      "\r",
      "                                                                               \r",
      "\r",
      " 55% 4705 |###############################                          |   1.2 B/s"
     ]
    },
    {
     "name": "stdout",
     "output_type": "stream",
     "text": [
      "skipping record wih invalid buffers in snapshot 598029, filename 2018-08-22--19-23-52--443 and camera [0.480000019073486, 1.5, 1.07649993896484]\n"
     ]
    },
    {
     "name": "stderr",
     "output_type": "stream",
     "text": [
      "\r",
      "                                                                               \r",
      "\r",
      " 55% 4706 |###############################                          |   1.2 B/s"
     ]
    },
    {
     "name": "stdout",
     "output_type": "stream",
     "text": [
      "skipping record wih invalid buffers in snapshot 598030, filename 2018-08-22--19-23-52--769 and camera [-0.0599999986588955, 17.5, 25.0764999389648]\n"
     ]
    },
    {
     "name": "stderr",
     "output_type": "stream",
     "text": [
      "\r",
      "                                                                               \r",
      "\r",
      " 55% 4707 |###############################                          |   1.2 B/s"
     ]
    },
    {
     "name": "stdout",
     "output_type": "stream",
     "text": [
      "skipping record wih invalid buffers in snapshot 598032, filename 2018-08-22--19-23-53--543 and camera [15.9399995803833, 17.5, 6.07649993896484]\n"
     ]
    },
    {
     "name": "stderr",
     "output_type": "stream",
     "text": [
      " 55% 4710 |###############################                          |   1.2 B/s"
     ]
    },
    {
     "name": "stdout",
     "output_type": "stream",
     "text": [
      "skipping record wih invalid buffers in snapshot 598035, filename 2018-08-22--19-23-54--469 and camera [0.480000019073486, 1.5, 1.07649993896484]\n",
      "skipping record wih invalid buffers in snapshot 598033, filename 2018-08-22--19-23-53--817 and camera [-0.0599999986588955, 33.5, 6.07649993896484]\n",
      "skipping record wih invalid buffers in snapshot 598034, filename 2018-08-22--19-23-54--131 and camera [-16.0599994659424, 17.5, 6.07649993896484]\n",
      "skipping record wih invalid buffers in snapshot 598036, filename 2018-08-22--19-23-54--762 and camera [-0.0599999986588955, 17.5, 25.0764999389648]\n"
     ]
    },
    {
     "name": "stderr",
     "output_type": "stream",
     "text": [
      "\r",
      "                                                                               \r",
      "\r",
      " 55% 4712 |###############################                          |   1.2 B/s"
     ]
    },
    {
     "name": "stdout",
     "output_type": "stream",
     "text": [
      "skipping record wih invalid buffers in snapshot 598037, filename 2018-08-22--19-23-55--241 and camera [-0.0599999986588955, 1.5, 1.07649993896484]\n"
     ]
    },
    {
     "name": "stderr",
     "output_type": "stream",
     "text": [
      "\r",
      "                                                                               \r",
      "\r",
      " 55% 4713 |###############################                          |   1.2 B/s"
     ]
    },
    {
     "name": "stdout",
     "output_type": "stream",
     "text": [
      "skipping record wih invalid buffers in snapshot 598038, filename 2018-08-22--19-23-55--516 and camera [15.9399995803833, 17.5, 6.07649993896484]\n"
     ]
    },
    {
     "name": "stderr",
     "output_type": "stream",
     "text": [
      " 55% 4717 |###############################                          |   1.2 B/s"
     ]
    },
    {
     "name": "stdout",
     "output_type": "stream",
     "text": [
      "skipping record wih invalid buffers in snapshot 598040, filename 2018-08-22--19-23-56--287 and camera [-16.0599994659424, 17.5, 6.07649993896484]\n",
      "skipping record wih invalid buffers in snapshot 598039, filename 2018-08-22--19-23-55--960 and camera [-0.0599999986588955, 33.5, 6.07649993896484]\n",
      "skipping record wih invalid buffers in snapshot 598042, filename 2018-08-22--19-23-56--968 and camera [-0.0599999986588955, 17.5, 25.0764999389648]\n",
      "skipping record wih invalid buffers in snapshot 598041, filename 2018-08-22--19-23-56--675 and camera [0.480000019073486, 1.5, 1.07649993896484]\n"
     ]
    },
    {
     "name": "stderr",
     "output_type": "stream",
     "text": [
      "\r",
      "                                                                               \r",
      "\r",
      " 55% 4718 |###############################                          |   1.2 B/s"
     ]
    },
    {
     "name": "stdout",
     "output_type": "stream",
     "text": [
      "skipping record wih invalid buffers in snapshot 598044, filename 2018-08-22--19-23-57--810 and camera [15.9399995803833, 17.5, 6.07649993896484]\n"
     ]
    },
    {
     "name": "stderr",
     "output_type": "stream",
     "text": [
      " 55% 4721 |###############################                          |   1.2 B/s"
     ]
    },
    {
     "name": "stdout",
     "output_type": "stream",
     "text": [
      "skipping record wih invalid buffers in snapshot 598045, filename 2018-08-22--19-23-58--106 and camera [-0.0599999986588955, 33.5, 6.07649993896484]\n",
      "skipping record wih invalid buffers in snapshot 598047, filename 2018-08-22--19-23-58--728 and camera [0.480000019073486, 1.5, 1.07649993896484]\n",
      "skipping record wih invalid buffers in snapshot 598048, filename 2018-08-22--19-23-59--051 and camera [-0.0599999986588955, 17.5, 25.0764999389648]\n"
     ]
    },
    {
     "name": "stderr",
     "output_type": "stream",
     "text": [
      "\r",
      "                                                                               \r",
      "\r",
      " 55% 4723 |###############################                          |   1.2 B/s"
     ]
    },
    {
     "name": "stdout",
     "output_type": "stream",
     "text": [
      "skipping record wih invalid buffers in snapshot 598046, filename 2018-08-22--19-23-58--412 and camera [-16.0599994659424, 17.5, 6.07649993896484]\n"
     ]
    },
    {
     "name": "stderr",
     "output_type": "stream",
     "text": [
      "\r",
      "                                                                               \r",
      "\r",
      " 55% 4724 |###############################                          |   1.2 B/s"
     ]
    },
    {
     "name": "stdout",
     "output_type": "stream",
     "text": [
      "skipping record wih invalid buffers in snapshot 598049, filename 2018-08-22--19-23-59--500 and camera [-0.0599999986588955, 1.5, 1.07649993896484]\n"
     ]
    },
    {
     "name": "stderr",
     "output_type": "stream",
     "text": [
      "\r",
      "                                                                               \r",
      "\r",
      " 55% 4725 |###############################                          |   1.2 B/s"
     ]
    },
    {
     "name": "stdout",
     "output_type": "stream",
     "text": [
      "skipping record wih invalid buffers in snapshot 598051, filename 2018-08-22--19-24-00--096 and camera [-0.0599999986588955, 33.5, 6.07649993896484]\n"
     ]
    },
    {
     "name": "stderr",
     "output_type": "stream",
     "text": [
      "\r",
      "                                                                               \r",
      "\r",
      " 55% 4726 |###############################                          |   1.2 B/s"
     ]
    },
    {
     "name": "stdout",
     "output_type": "stream",
     "text": [
      "skipping record wih invalid buffers in snapshot 598052, filename 2018-08-22--19-24-00--359 and camera [-16.0599994659424, 17.5, 6.07649993896484]\n",
      "skipping record wih invalid buffers in snapshot 598050, filename 2018-08-22--19-23-59--779 and camera [15.9399995803833, 17.5, 6.07649993896484]\n",
      "skipping record wih invalid buffers in snapshot 598053, filename 2018-08-22--19-24-00--682 and camera [0.480000019073486, 1.5, 1.07649993896484]"
     ]
    },
    {
     "name": "stderr",
     "output_type": "stream",
     "text": [
      " 55% 4729 |###############################                          |   1.2 B/s"
     ]
    },
    {
     "name": "stdout",
     "output_type": "stream",
     "text": [
      "\n",
      "skipping record wih invalid buffers in snapshot 598054, filename 2018-08-22--19-24-00--980 and camera [-0.0599999986588955, 17.5, 25.0764999389648]\n",
      "skipping record wih invalid buffers in snapshot 598055, filename 2018-08-22--19-24-01--472 and camera [-0.0599999986588955, 1.5, 1.07649993896484]\n"
     ]
    },
    {
     "name": "stderr",
     "output_type": "stream",
     "text": [
      " 55% 4732 |###############################                          |   1.2 B/s"
     ]
    },
    {
     "name": "stdout",
     "output_type": "stream",
     "text": [
      "skipping record wih invalid buffers in snapshot 598056, filename 2018-08-22--19-24-01--749 and camera [15.9399995803833, 17.5, 6.07649993896484]\n"
     ]
    },
    {
     "name": "stderr",
     "output_type": "stream",
     "text": [
      " 55% 4734 |###############################                          |   1.2 B/s"
     ]
    },
    {
     "name": "stdout",
     "output_type": "stream",
     "text": [
      "skipping record wih invalid buffers in snapshot 598058, filename 2018-08-22--19-24-02--368 and camera [-16.0599994659424, 17.5, 6.07649993896484]\n",
      "skipping record wih invalid buffers in snapshot 598060, filename 2018-08-22--19-24-02--921 and camera [-0.0599999986588955, 17.5, 25.0764999389648]\n",
      "skipping record wih invalid buffers in snapshot 598057, filename 2018-08-22--19-24-02--070 and camera [-0.0599999986588955, 33.5, 6.07649993896484]\n"
     ]
    },
    {
     "name": "stderr",
     "output_type": "stream",
     "text": [
      "\r",
      "                                                                               \r",
      "\r",
      " 55% 4736 |###############################                          |   1.2 B/s"
     ]
    },
    {
     "name": "stdout",
     "output_type": "stream",
     "text": [
      "skipping record wih invalid buffers in snapshot 598059, filename 2018-08-22--19-24-02--646 and camera [0.480000019073486, 1.5, 1.07649993896484]\n",
      "skipping record wih invalid buffers in snapshot 598061, filename 2018-08-22--19-24-03--425 and camera [-0.0599999986588955, 1.5, 1.07649993896484]\n"
     ]
    },
    {
     "name": "stderr",
     "output_type": "stream",
     "text": [
      " 55% 4739 |###############################                          |   1.2 B/s"
     ]
    },
    {
     "name": "stdout",
     "output_type": "stream",
     "text": [
      "skipping record wih invalid buffers in snapshot 598062, filename 2018-08-22--19-24-03--723 and camera [15.9399995803833, 17.5, 6.07649993896484]\n",
      "skipping record wih invalid buffers in snapshot 598063, filename 2018-08-22--19-24-03--992 and camera [-0.0599999986588955, 33.5, 6.07649993896484]\n"
     ]
    },
    {
     "name": "stderr",
     "output_type": "stream",
     "text": [
      " 55% 4741 |###############################                          |   1.2 B/s"
     ]
    },
    {
     "name": "stdout",
     "output_type": "stream",
     "text": [
      "skipping record wih invalid buffers in snapshot 598065, filename 2018-08-22--19-24-04--758 and camera [0.480000019073486, 1.5, 1.07649993896484]\n",
      "skipping record wih invalid buffers in snapshot 598064, filename 2018-08-22--19-24-04--281 and camera [-16.0599994659424, 17.5, 6.07649993896484]\n"
     ]
    },
    {
     "name": "stderr",
     "output_type": "stream",
     "text": [
      "\r",
      "                                                                               \r",
      "\r",
      " 55% 4743 |###############################                          |   1.2 B/s"
     ]
    },
    {
     "name": "stdout",
     "output_type": "stream",
     "text": [
      "skipping record wih invalid buffers in snapshot 598066, filename 2018-08-22--19-24-05--016 and camera [-0.0599999986588955, 17.5, 25.0764999389648]\n",
      "skipping record wih invalid buffers in snapshot 598068, filename 2018-08-22--19-24-05--919 and camera [15.9399995803833, 17.5, 6.07649993896484]\n",
      "skipping record wih invalid buffers in snapshot 598067, filename 2018-08-22--19-24-05--497 and camera [-0.0599999986588955, 1.5, 1.07649993896484]\n"
     ]
    },
    {
     "name": "stderr",
     "output_type": "stream",
     "text": [
      " 55% 4746 |###############################                          |   1.2 B/s"
     ]
    },
    {
     "name": "stdout",
     "output_type": "stream",
     "text": [
      "skipping record wih invalid buffers in snapshot 598070, filename 2018-08-22--19-24-06--539 and camera [-16.0599994659424, 17.5, 6.07649993896484]\n",
      "skipping record wih invalid buffers in snapshot 598069, filename 2018-08-22--19-24-06--198 and camera [-0.0599999986588955, 33.5, 6.07649993896484]\n"
     ]
    },
    {
     "name": "stderr",
     "output_type": "stream",
     "text": [
      " 55% 4749 |###############################                          |   1.2 B/s"
     ]
    },
    {
     "name": "stdout",
     "output_type": "stream",
     "text": [
      "skipping record wih invalid buffers in snapshot 598071, filename 2018-08-22--19-24-07--076 and camera [0.480000019073486, 1.5, 1.07649993896484]\n",
      "skipping record wih invalid buffers in snapshot 598072, filename 2018-08-22--19-24-07--401 and camera [-0.0599999986588955, 17.5, 25.0764999389648]\n",
      "skipping record wih invalid buffers in snapshot 598073, filename 2018-08-22--19-24-07--834 and camera [-0.0599999986588955, 1.5, 1.07649993896484]"
     ]
    },
    {
     "name": "stderr",
     "output_type": "stream",
     "text": [
      " 65% 5536 |#####################################                    |   1.2 B/s"
     ]
    }
   ],
   "source": [
    "workers = 8\n",
    "\n",
    "widgets = [progressbar.Percentage(), ' ', progressbar.Counter(), ' ', progressbar.Bar(), ' ',\n",
    "           progressbar.FileTransferSpeed()]\n",
    "\n",
    "pbar = progressbar.ProgressBar(widgets=widgets, maxval=len(results)).start()\n",
    "counter = 0\n",
    "\n",
    "Parallel(n_jobs=workers, backend='threading')(delayed(try_dump_snapshot_to_dataset)(in_directory, get_out_directory(out_directory, i, directory_per_camera), i, run_id) for i in results)\n",
    "print('done')"
   ]
  },
  {
   "cell_type": "markdown",
   "metadata": {},
   "source": [
    "### copying to linux into datagrid dir"
   ]
  },
  {
   "cell_type": "code",
   "execution_count": null,
   "metadata": {
    "scrolled": true
   },
   "outputs": [
    {
     "name": "stderr",
     "output_type": "stream",
     "text": [
      "  8% 812 |#####                                                     |   2.0 B/s"
     ]
    }
   ],
   "source": [
    "def copy_file(in_path, out_path):\n",
    "    if os.path.exists(out_path):\n",
    "        return\n",
    "    copyfile(in_path, out_path)\n",
    "\n",
    "def copy_files(in_dir, out_dir, name):\n",
    "    if 'pbar' in globals() and 'counter' in globals():\n",
    "        global counter\n",
    "        counter += 1\n",
    "        pbar.update(counter)\n",
    "\n",
    "    rgb_name = name+'.jpg'\n",
    "    json_name = name+'.json'\n",
    "    depth_name = name+'-depth.png'\n",
    "    stencil_name = name+'-stencil.png'\n",
    "    \n",
    "    copyfile(os.path.join(in_dir, rgb_name), os.path.join(out_dir, rgb_name))\n",
    "    copyfile(os.path.join(in_dir, json_name), os.path.join(out_dir, json_name))\n",
    "    copyfile(os.path.join(in_dir, depth_name), os.path.join(out_dir, depth_name))\n",
    "    copyfile(os.path.join(in_dir, stencil_name), os.path.join(out_dir, stencil_name))\n",
    "\n",
    "workers = 8\n",
    "\n",
    "windows_in_directory = r'D:\\output-datasets\\offroad-6'\n",
    "linux_out_directory = r'Z:\\offroad-6'\n",
    "\n",
    "if not os.path.exists(linux_out_directory):\n",
    "    os.makedirs(linux_out_directory)\n",
    "\n",
    "widgets = [progressbar.Percentage(), ' ', progressbar.Counter(), ' ', progressbar.Bar(), ' ',\n",
    "           progressbar.FileTransferSpeed()]\n",
    "\n",
    "pbar = progressbar.ProgressBar(widgets=widgets, max_value=len(results)).start()\n",
    "counter = 0\n",
    "\n",
    "Parallel(n_jobs=workers, backend='threading')(\n",
    "    delayed(copy_files)(windows_in_directory, linux_out_directory, i['imagepath']) for i in results)\n"
   ]
  },
  {
   "cell_type": "markdown",
   "metadata": {},
   "source": [
    "### copying original tiffs to linux into datagrid dir, only one run from database"
   ]
  },
  {
   "cell_type": "code",
   "execution_count": 42,
   "metadata": {},
   "outputs": [
    {
     "name": "stderr",
     "output_type": "stream",
     "text": [
      "  0% 42 |                                                           |   0.7 B/s"
     ]
    },
    {
     "ename": "KeyboardInterrupt",
     "evalue": "",
     "output_type": "error",
     "traceback": [
      "\u001b[1;31m---------------------------------------------------------------------------\u001b[0m",
      "\u001b[1;31mKeyboardInterrupt\u001b[0m                         Traceback (most recent call last)",
      "\u001b[1;32m<ipython-input-42-505770c9802e>\u001b[0m in \u001b[0;36m<module>\u001b[1;34m()\u001b[0m\n\u001b[0;32m     29\u001b[0m \u001b[1;33m\u001b[0m\u001b[0m\n\u001b[0;32m     30\u001b[0m Parallel(n_jobs=workers, backend='threading')(\n\u001b[1;32m---> 31\u001b[1;33m     delayed(copy_files)(in_directory, out_directory, i['imagepath']) for i in results)\n\u001b[0m",
      "\u001b[1;32mC:\\ProgramData\\Anaconda3\\lib\\site-packages\\joblib\\parallel.py\u001b[0m in \u001b[0;36m__call__\u001b[1;34m(self, iterable)\u001b[0m\n\u001b[0;32m    787\u001b[0m                 \u001b[1;31m# consumption.\u001b[0m\u001b[1;33m\u001b[0m\u001b[1;33m\u001b[0m\u001b[0m\n\u001b[0;32m    788\u001b[0m                 \u001b[0mself\u001b[0m\u001b[1;33m.\u001b[0m\u001b[0m_iterating\u001b[0m \u001b[1;33m=\u001b[0m \u001b[1;32mFalse\u001b[0m\u001b[1;33m\u001b[0m\u001b[0m\n\u001b[1;32m--> 789\u001b[1;33m             \u001b[0mself\u001b[0m\u001b[1;33m.\u001b[0m\u001b[0mretrieve\u001b[0m\u001b[1;33m(\u001b[0m\u001b[1;33m)\u001b[0m\u001b[1;33m\u001b[0m\u001b[0m\n\u001b[0m\u001b[0;32m    790\u001b[0m             \u001b[1;31m# Make sure that we get a last message telling us we are done\u001b[0m\u001b[1;33m\u001b[0m\u001b[1;33m\u001b[0m\u001b[0m\n\u001b[0;32m    791\u001b[0m             \u001b[0melapsed_time\u001b[0m \u001b[1;33m=\u001b[0m \u001b[0mtime\u001b[0m\u001b[1;33m.\u001b[0m\u001b[0mtime\u001b[0m\u001b[1;33m(\u001b[0m\u001b[1;33m)\u001b[0m \u001b[1;33m-\u001b[0m \u001b[0mself\u001b[0m\u001b[1;33m.\u001b[0m\u001b[0m_start_time\u001b[0m\u001b[1;33m\u001b[0m\u001b[0m\n",
      "\u001b[1;32mC:\\ProgramData\\Anaconda3\\lib\\site-packages\\joblib\\parallel.py\u001b[0m in \u001b[0;36mretrieve\u001b[1;34m(self)\u001b[0m\n\u001b[0;32m    697\u001b[0m             \u001b[1;32mtry\u001b[0m\u001b[1;33m:\u001b[0m\u001b[1;33m\u001b[0m\u001b[0m\n\u001b[0;32m    698\u001b[0m                 \u001b[1;32mif\u001b[0m \u001b[0mgetattr\u001b[0m\u001b[1;33m(\u001b[0m\u001b[0mself\u001b[0m\u001b[1;33m.\u001b[0m\u001b[0m_backend\u001b[0m\u001b[1;33m,\u001b[0m \u001b[1;34m'supports_timeout'\u001b[0m\u001b[1;33m,\u001b[0m \u001b[1;32mFalse\u001b[0m\u001b[1;33m)\u001b[0m\u001b[1;33m:\u001b[0m\u001b[1;33m\u001b[0m\u001b[0m\n\u001b[1;32m--> 699\u001b[1;33m                     \u001b[0mself\u001b[0m\u001b[1;33m.\u001b[0m\u001b[0m_output\u001b[0m\u001b[1;33m.\u001b[0m\u001b[0mextend\u001b[0m\u001b[1;33m(\u001b[0m\u001b[0mjob\u001b[0m\u001b[1;33m.\u001b[0m\u001b[0mget\u001b[0m\u001b[1;33m(\u001b[0m\u001b[0mtimeout\u001b[0m\u001b[1;33m=\u001b[0m\u001b[0mself\u001b[0m\u001b[1;33m.\u001b[0m\u001b[0mtimeout\u001b[0m\u001b[1;33m)\u001b[0m\u001b[1;33m)\u001b[0m\u001b[1;33m\u001b[0m\u001b[0m\n\u001b[0m\u001b[0;32m    700\u001b[0m                 \u001b[1;32melse\u001b[0m\u001b[1;33m:\u001b[0m\u001b[1;33m\u001b[0m\u001b[0m\n\u001b[0;32m    701\u001b[0m                     \u001b[0mself\u001b[0m\u001b[1;33m.\u001b[0m\u001b[0m_output\u001b[0m\u001b[1;33m.\u001b[0m\u001b[0mextend\u001b[0m\u001b[1;33m(\u001b[0m\u001b[0mjob\u001b[0m\u001b[1;33m.\u001b[0m\u001b[0mget\u001b[0m\u001b[1;33m(\u001b[0m\u001b[1;33m)\u001b[0m\u001b[1;33m)\u001b[0m\u001b[1;33m\u001b[0m\u001b[0m\n",
      "\u001b[1;32mC:\\ProgramData\\Anaconda3\\lib\\multiprocessing\\pool.py\u001b[0m in \u001b[0;36mget\u001b[1;34m(self, timeout)\u001b[0m\n\u001b[0;32m    636\u001b[0m \u001b[1;33m\u001b[0m\u001b[0m\n\u001b[0;32m    637\u001b[0m     \u001b[1;32mdef\u001b[0m \u001b[0mget\u001b[0m\u001b[1;33m(\u001b[0m\u001b[0mself\u001b[0m\u001b[1;33m,\u001b[0m \u001b[0mtimeout\u001b[0m\u001b[1;33m=\u001b[0m\u001b[1;32mNone\u001b[0m\u001b[1;33m)\u001b[0m\u001b[1;33m:\u001b[0m\u001b[1;33m\u001b[0m\u001b[0m\n\u001b[1;32m--> 638\u001b[1;33m         \u001b[0mself\u001b[0m\u001b[1;33m.\u001b[0m\u001b[0mwait\u001b[0m\u001b[1;33m(\u001b[0m\u001b[0mtimeout\u001b[0m\u001b[1;33m)\u001b[0m\u001b[1;33m\u001b[0m\u001b[0m\n\u001b[0m\u001b[0;32m    639\u001b[0m         \u001b[1;32mif\u001b[0m \u001b[1;32mnot\u001b[0m \u001b[0mself\u001b[0m\u001b[1;33m.\u001b[0m\u001b[0mready\u001b[0m\u001b[1;33m(\u001b[0m\u001b[1;33m)\u001b[0m\u001b[1;33m:\u001b[0m\u001b[1;33m\u001b[0m\u001b[0m\n\u001b[0;32m    640\u001b[0m             \u001b[1;32mraise\u001b[0m \u001b[0mTimeoutError\u001b[0m\u001b[1;33m\u001b[0m\u001b[0m\n",
      "\u001b[1;32mC:\\ProgramData\\Anaconda3\\lib\\multiprocessing\\pool.py\u001b[0m in \u001b[0;36mwait\u001b[1;34m(self, timeout)\u001b[0m\n\u001b[0;32m    633\u001b[0m \u001b[1;33m\u001b[0m\u001b[0m\n\u001b[0;32m    634\u001b[0m     \u001b[1;32mdef\u001b[0m \u001b[0mwait\u001b[0m\u001b[1;33m(\u001b[0m\u001b[0mself\u001b[0m\u001b[1;33m,\u001b[0m \u001b[0mtimeout\u001b[0m\u001b[1;33m=\u001b[0m\u001b[1;32mNone\u001b[0m\u001b[1;33m)\u001b[0m\u001b[1;33m:\u001b[0m\u001b[1;33m\u001b[0m\u001b[0m\n\u001b[1;32m--> 635\u001b[1;33m         \u001b[0mself\u001b[0m\u001b[1;33m.\u001b[0m\u001b[0m_event\u001b[0m\u001b[1;33m.\u001b[0m\u001b[0mwait\u001b[0m\u001b[1;33m(\u001b[0m\u001b[0mtimeout\u001b[0m\u001b[1;33m)\u001b[0m\u001b[1;33m\u001b[0m\u001b[0m\n\u001b[0m\u001b[0;32m    636\u001b[0m \u001b[1;33m\u001b[0m\u001b[0m\n\u001b[0;32m    637\u001b[0m     \u001b[1;32mdef\u001b[0m \u001b[0mget\u001b[0m\u001b[1;33m(\u001b[0m\u001b[0mself\u001b[0m\u001b[1;33m,\u001b[0m \u001b[0mtimeout\u001b[0m\u001b[1;33m=\u001b[0m\u001b[1;32mNone\u001b[0m\u001b[1;33m)\u001b[0m\u001b[1;33m:\u001b[0m\u001b[1;33m\u001b[0m\u001b[0m\n",
      "\u001b[1;32mC:\\ProgramData\\Anaconda3\\lib\\threading.py\u001b[0m in \u001b[0;36mwait\u001b[1;34m(self, timeout)\u001b[0m\n\u001b[0;32m    549\u001b[0m             \u001b[0msignaled\u001b[0m \u001b[1;33m=\u001b[0m \u001b[0mself\u001b[0m\u001b[1;33m.\u001b[0m\u001b[0m_flag\u001b[0m\u001b[1;33m\u001b[0m\u001b[0m\n\u001b[0;32m    550\u001b[0m             \u001b[1;32mif\u001b[0m \u001b[1;32mnot\u001b[0m \u001b[0msignaled\u001b[0m\u001b[1;33m:\u001b[0m\u001b[1;33m\u001b[0m\u001b[0m\n\u001b[1;32m--> 551\u001b[1;33m                 \u001b[0msignaled\u001b[0m \u001b[1;33m=\u001b[0m \u001b[0mself\u001b[0m\u001b[1;33m.\u001b[0m\u001b[0m_cond\u001b[0m\u001b[1;33m.\u001b[0m\u001b[0mwait\u001b[0m\u001b[1;33m(\u001b[0m\u001b[0mtimeout\u001b[0m\u001b[1;33m)\u001b[0m\u001b[1;33m\u001b[0m\u001b[0m\n\u001b[0m\u001b[0;32m    552\u001b[0m             \u001b[1;32mreturn\u001b[0m \u001b[0msignaled\u001b[0m\u001b[1;33m\u001b[0m\u001b[0m\n\u001b[0;32m    553\u001b[0m \u001b[1;33m\u001b[0m\u001b[0m\n",
      "\u001b[1;32mC:\\ProgramData\\Anaconda3\\lib\\threading.py\u001b[0m in \u001b[0;36mwait\u001b[1;34m(self, timeout)\u001b[0m\n\u001b[0;32m    293\u001b[0m         \u001b[1;32mtry\u001b[0m\u001b[1;33m:\u001b[0m    \u001b[1;31m# restore state no matter what (e.g., KeyboardInterrupt)\u001b[0m\u001b[1;33m\u001b[0m\u001b[0m\n\u001b[0;32m    294\u001b[0m             \u001b[1;32mif\u001b[0m \u001b[0mtimeout\u001b[0m \u001b[1;32mis\u001b[0m \u001b[1;32mNone\u001b[0m\u001b[1;33m:\u001b[0m\u001b[1;33m\u001b[0m\u001b[0m\n\u001b[1;32m--> 295\u001b[1;33m                 \u001b[0mwaiter\u001b[0m\u001b[1;33m.\u001b[0m\u001b[0macquire\u001b[0m\u001b[1;33m(\u001b[0m\u001b[1;33m)\u001b[0m\u001b[1;33m\u001b[0m\u001b[0m\n\u001b[0m\u001b[0;32m    296\u001b[0m                 \u001b[0mgotit\u001b[0m \u001b[1;33m=\u001b[0m \u001b[1;32mTrue\u001b[0m\u001b[1;33m\u001b[0m\u001b[0m\n\u001b[0;32m    297\u001b[0m             \u001b[1;32melse\u001b[0m\u001b[1;33m:\u001b[0m\u001b[1;33m\u001b[0m\u001b[0m\n",
      "\u001b[1;31mKeyboardInterrupt\u001b[0m: "
     ]
    }
   ],
   "source": [
    "def copy_file(in_path, out_path):\n",
    "    if os.path.exists(out_path):\n",
    "        return\n",
    "    copyfile(in_path, out_path)\n",
    "\n",
    "def copy_files(in_dir, out_dir, name):\n",
    "    if 'pbar' in globals() and 'counter' in globals():\n",
    "        global counter\n",
    "        counter += 1\n",
    "        pbar.update(counter)\n",
    "\n",
    "    rgb_name = name+'.tiff'\n",
    "    depth_name = name+'-depth.tiff'\n",
    "    stencil_name = name+'-stencil.tiff'\n",
    "    \n",
    "    copyfile(os.path.join(in_dir, rgb_name), os.path.join(out_dir, rgb_name))\n",
    "    copyfile(os.path.join(in_dir, depth_name), os.path.join(out_dir, depth_name))\n",
    "    copyfile(os.path.join(in_dir, stencil_name), os.path.join(out_dir, stencil_name))\n",
    "\n",
    "workers = 8\n",
    "\n",
    "out_directory = r'Z:\\offroad-4-orig'\n",
    "widgets = [progressbar.Percentage(), ' ', progressbar.Counter(), ' ', progressbar.Bar(), ' ',\n",
    "           progressbar.FileTransferSpeed()]\n",
    "\n",
    "pbar = progressbar.ProgressBar(widgets=widgets, max_value=len(results)).start()\n",
    "counter = 0\n",
    "\n",
    "Parallel(n_jobs=workers, backend='threading')(\n",
    "    delayed(copy_files)(in_directory, out_directory, i['imagepath']) for i in results)\n"
   ]
  },
  {
   "cell_type": "markdown",
   "metadata": {},
   "source": [
    "### checking if all converted images are ok"
   ]
  },
  {
   "cell_type": "code",
   "execution_count": 10,
   "metadata": {},
   "outputs": [
    {
     "name": "stderr",
     "output_type": "stream",
     "text": [
      "  0% 15 |                                                           |   3.9 B/sC:\\ProgramData\\Anaconda3\\lib\\site-packages\\tifffile\\tifffile.py:2642: RuntimeWarning: py_decodelzw encountered unexpected end of stream\n",
      "  strip = decompress(strip)\n",
      " 13% 968 |#######                                                   |   3.9 B/sC:\\ProgramData\\Anaconda3\\lib\\site-packages\\tifffile\\tifffile.py:2577: UserWarning: unpack: string size must be a multiple of element size\n",
      "  warnings.warn(\"unpack: %s\" % e)\n",
      "100% 7250 |#########################################################|   4.4 B/s"
     ]
    },
    {
     "name": "stdout",
     "output_type": "stream",
     "text": [
      "done\n"
     ]
    }
   ],
   "source": [
    "def check_invalid_buffers(in_directory, out_directory, res, run_id, include_entities):\n",
    "    if 'pbar' in globals() and 'counter' in globals():\n",
    "        global counter\n",
    "        counter += 1\n",
    "        pbar.update(counter)\n",
    "    \n",
    "    # skip non-existing files in out_directory, so just check existence of some of 4 files\n",
    "    outfile = os.path.join(out_directory, '{}.json'.format(res['imagepath']))\n",
    "    if not os.path.exists(outfile):\n",
    "        return\n",
    "    \n",
    "    if discard_invalid_buffers and (not is_first_record_in_run(res, run_id)) and \\\n",
    "        are_buffers_same_as_previous(res):\n",
    "        print('found record wih invalid buffers in snapshot {}, filename {} and camera {}'\n",
    "              .format(res['snapshot_id'], res['imagepath'], res['camera_relative_position'].tolist()))\n",
    "        return\n",
    "\n",
    "\n",
    "workers = 8\n",
    "\n",
    "widgets = [progressbar.Percentage(), ' ', progressbar.Counter(), ' ', progressbar.Bar(), ' ',\n",
    "           progressbar.FileTransferSpeed()]\n",
    "\n",
    "pbar = progressbar.ProgressBar(widgets=widgets, maxval=len(results)).start()\n",
    "counter = 0\n",
    "\n",
    "Parallel(n_jobs=workers, backend='threading')(delayed(check_invalid_buffers)(in_directory, get_out_directory(out_directory, i, directory_per_camera), i, run_id, include_entities) for i in results)\n",
    "print('done')"
   ]
  },
  {
   "cell_type": "markdown",
   "metadata": {},
   "source": [
    "### dumping one snapshot, for testing"
   ]
  },
  {
   "cell_type": "code",
   "execution_count": null,
   "metadata": {
    "collapsed": true,
    "scrolled": false
   },
   "outputs": [],
   "source": [
    "dump_snapshot_to_dataset(in_directory, out_directory, results[0])\n"
   ]
  },
  {
   "cell_type": "code",
   "execution_count": null,
   "metadata": {
    "collapsed": true
   },
   "outputs": [],
   "source": [
    "im = np.array(Image.open(os.path.join(out_directory, results[0]['imagepath']+'-depth.png')))\n",
    "print(np.min(im))\n",
    "print(np.max(im))\n"
   ]
  },
  {
   "cell_type": "code",
   "execution_count": null,
   "metadata": {
    "collapsed": true
   },
   "outputs": [],
   "source": [
    "results[0]['snapshot_id']"
   ]
  },
  {
   "cell_type": "code",
   "execution_count": 64,
   "metadata": {},
   "outputs": [
    {
     "data": {
      "text/plain": [
       "{'cam_near_clip': 0.15,\n",
       " 'camera_fov': 90.0,\n",
       " 'camera_pos': array([ 2524.83105469,  3334.53613281,    53.38750458]),\n",
       " 'camera_relative_position': array([-0.06      ,  1.5       ,  1.07649994]),\n",
       " 'camera_relative_rotation': array([ 0.,  0.,  0.]),\n",
       " 'camera_rot': array([-1.26793635, -4.02545595, -0.25146627]),\n",
       " 'current_target': array([2586.0, 3490.0, None], dtype=object),\n",
       " 'currentweather': 'Clear',\n",
       " 'height': 1052,\n",
       " 'imagepath': '2018-08-13--11-15-01--499',\n",
       " 'proj_matrix': array([[  5.49634274e-01,   0.00000000e+00,   0.00000000e+00,\n",
       "           0.00000000e+00],\n",
       "        [  0.00000000e+00,   1.00000000e+00,   0.00000000e+00,\n",
       "           0.00000000e+00],\n",
       "        [  0.00000000e+00,   0.00000000e+00,   1.49945045e-05,\n",
       "           1.50002249e-01],\n",
       "        [  0.00000000e+00,   0.00000000e+00,  -1.00000000e+00,\n",
       "           0.00000000e+00]]),\n",
       " 'snapshot_id': 466517,\n",
       " 'timeofday': datetime.time(12, 5, 35),\n",
       " 'timestamp': datetime.datetime(2018, 8, 13, 11, 15, 1, 499713, tzinfo=psycopg2.tz.FixedOffsetTimezone(offset=0, name=None)),\n",
       " 'view_matrix': array([[  9.97523352e-01,  -4.37807276e-03,   7.01996747e-02,\n",
       "          -2.50772688e+03],\n",
       "        [ -7.00846934e-02,   2.24356686e-02,   9.97288713e-01,\n",
       "           4.88967069e+01],\n",
       "        [ -5.94117919e-03,  -9.99738702e-01,   2.20732675e-02,\n",
       "           3.34748686e+03],\n",
       "        [  0.00000000e+00,   0.00000000e+00,   0.00000000e+00,\n",
       "           1.00000000e+00]]),\n",
       " 'width': 1914}"
      ]
     },
     "execution_count": 64,
     "metadata": {},
     "output_type": "execute_result"
    }
   ],
   "source": [
    "res = results[0]\n",
    "res"
   ]
  },
  {
   "cell_type": "code",
   "execution_count": 10,
   "metadata": {},
   "outputs": [
    {
     "data": {
      "text/plain": [
       "{'camera_-0.06_1.50_1.08__0.00_0.00_0.00': '0',\n",
       " 'camera_-0.06_17.50_25.08__270.00_0.00_90.00': '5',\n",
       " 'camera_-0.06_33.50_6.08__-30.00_0.00_180.00': '2',\n",
       " 'camera_-16.06_17.50_6.08__-30.00_0.00_270.00': '3',\n",
       " 'camera_0.48_1.50_1.08__0.00_0.00_0.00': '4',\n",
       " 'camera_15.94_17.50_6.08__-30.00_0.00_90.00': '1'}"
      ]
     },
     "execution_count": 10,
     "metadata": {},
     "output_type": "execute_result"
    }
   ],
   "source": [
    "camera_names"
   ]
  },
  {
   "cell_type": "code",
   "execution_count": null,
   "metadata": {
    "collapsed": true
   },
   "outputs": [],
   "source": []
  }
 ],
 "metadata": {
  "kernelspec": {
   "display_name": "Python 3",
   "language": "python",
   "name": "python3"
  },
  "language_info": {
   "codemirror_mode": {
    "name": "ipython",
    "version": 3
   },
   "file_extension": ".py",
   "mimetype": "text/x-python",
   "name": "python",
   "nbconvert_exporter": "python",
   "pygments_lexer": "ipython3",
   "version": "3.6.3"
  }
 },
 "nbformat": 4,
 "nbformat_minor": 2
}
