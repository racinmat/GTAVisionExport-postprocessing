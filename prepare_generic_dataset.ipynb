{
 "cells": [
  {
   "cell_type": "code",
   "execution_count": 1,
   "metadata": {
    "collapsed": true
   },
   "outputs": [],
   "source": [
    "import numpy as np\n",
    "import matplotlib.pyplot as plt\n",
    "import visualization\n",
    "import os\n",
    "from gta_math import points_to_homo, ndc_to_view, construct_proj_matrix, view_to_world, construct_view_matrix\n",
    "from visualization import load_depth, load_stencil, save_pointcloud_csv, bbox_from_string\n",
    "import progressbar\n",
    "from joblib import Parallel, delayed\n",
    "from configparser import ConfigParser\n",
    "from PIL import Image\n",
    "import pickle\n",
    "import json\n",
    "import time\n",
    "from shutil import copyfile\n",
    "from functools import lru_cache"
   ]
  },
  {
   "cell_type": "code",
   "execution_count": 6,
   "metadata": {},
   "outputs": [],
   "source": [
    "ini_file = \"gta-postprocessing.ini\"\n",
    "visualization.multi_page = False\n",
    "visualization.ini_file = ini_file\n",
    "visualization.use_cache = False\n",
    "\n",
    "conn = visualization.get_connection_pooled()\n",
    "cur = conn.cursor()\n",
    "\n",
    "CONFIG = ConfigParser()\n",
    "CONFIG.read(ini_file)\n",
    "in_directory = CONFIG[\"Images\"][\"Tiff\"]\n",
    "out_directory = r'D:\\output-datasets\\offroad-9'\n",
    "\n",
    "# for some datasets we don't need entities, which produces lot smaller json files\n",
    "include_entities = False\n",
    "# for some datasets, we want each camera data to be in separate folder\n",
    "directory_per_camera = True\n",
    "camera_names = {}\n",
    "# sometimes buffers are not synced and don't correspond to current camera. \n",
    "# they can be recognized by having same data as previous record\n",
    "discard_invalid_buffers = True"
   ]
  },
  {
   "cell_type": "code",
   "execution_count": 7,
   "metadata": {},
   "outputs": [
    {
     "name": "stdout",
     "output_type": "stream",
     "text": [
      "There are 7250 snapshots\n"
     ]
    }
   ],
   "source": [
    "#run_id = 19\n",
    "#run_id = 3677\n",
    "run_id = 4159\n",
    "\n",
    "cur.execute(\"\"\"SELECT snapshot_id, imagepath, cam_near_clip, camera_fov, width, height, timestamp, timeofday, width, height, \\\n",
    "      ARRAY[st_x(camera_relative_rotation), st_y(camera_relative_rotation), st_z(camera_relative_rotation)] as camera_relative_rotation, \\\n",
    "      ARRAY[st_x(camera_relative_position), st_y(camera_relative_position), st_z(camera_relative_position)] as camera_relative_position, \\\n",
    "      ARRAY[st_x(camera_pos), st_y(camera_pos), st_z(camera_pos)] as camera_pos, \\\n",
    "      ARRAY[st_x(camera_rot), st_y(camera_rot), st_z(camera_rot)] as camera_rot, \\\n",
    "      ARRAY[st_x(current_target), st_y(current_target), st_z(current_target)] as current_target, \\\n",
    "      currentweather \\\n",
    "      FROM snapshots \\\n",
    "      WHERE run_id = {}\n",
    "      ORDER BY timestamp ASC \\\n",
    "    \"\"\".format(run_id))\n",
    "\n",
    "results = []\n",
    "for row in cur:\n",
    "    res = dict(row)\n",
    "    if res['camera_fov'] == 0 and res['cam_near_clip'] == 0:\n",
    "        continue  # somehow malformed data, skipping them\n",
    "    res['camera_rot'] = np.array(res['camera_rot'])\n",
    "    res['camera_pos'] = np.array(res['camera_pos'])\n",
    "    res['camera_relative_rotation'] = np.array(res['camera_relative_rotation'])\n",
    "    res['camera_relative_position'] = np.array(res['camera_relative_position'])\n",
    "    res['current_target'] = np.array(res['current_target'])\n",
    "    res['view_matrix'] = construct_view_matrix(res['camera_pos'], res['camera_rot'])\n",
    "    res['proj_matrix'] = construct_proj_matrix(res['height'], res['width'], res['camera_fov'], res['cam_near_clip'])\n",
    "    results.append(res)\n",
    "\n",
    "print('There are {} snapshots'.format(len(results)))"
   ]
  },
  {
   "cell_type": "code",
   "execution_count": 8,
   "metadata": {},
   "outputs": [],
   "source": [
    "def get_base_name(name):\n",
    "    return os.path.basename(os.path.splitext(name)[0])\n",
    "\n",
    "def get_main_image_name(cameras):\n",
    "    for cam in cameras:\n",
    "        # this is the main camera\n",
    "        if np.array_equal(cam['camera_relative_rotation'], [0, 0, 0]):\n",
    "            return cam['imagepath']\n",
    "    raise Exception('no main image')\n",
    "\n",
    "def load_entities_data(snapshot_id):\n",
    "    conn = visualization.get_connection_pooled()\n",
    "    cur = conn.cursor()\n",
    "    \n",
    "    # start = time.time()\n",
    "\n",
    "    cur.execute(\"\"\"SELECT bbox, \\\n",
    "        ARRAY[st_x(pos), st_y(pos), st_z(pos)] as pos, \\\n",
    "        ARRAY[st_x(rot), st_y(rot), st_z(rot)] as rot, \\\n",
    "        ARRAY[st_xmin(bbox3d), st_xmax(bbox3d), st_ymin(bbox3d), st_ymax(bbox3d), st_zmin(bbox3d), st_zmax(bbox3d)] as bbox3d, \\\n",
    "         type, class, handle, snapshot_id \\\n",
    "        FROM detections \\\n",
    "        WHERE snapshot_id = '{}' \\\n",
    "        \"\"\".format(snapshot_id))\n",
    "\n",
    "    # end = time.time()\n",
    "    # print('time to load from db', end - start)\n",
    "    # start = time.time()\n",
    "\n",
    "    # print(size)\n",
    "    results = []\n",
    "    for row in cur:\n",
    "        res = dict(row)\n",
    "        res['model_sizes'] = np.array(res['bbox3d'])\n",
    "        res['bbox'] = bbox_from_string(res['bbox'])\n",
    "        res['pos'] = np.array(res['pos'])\n",
    "        res['rot'] = np.array(res['rot'])\n",
    "        results.append(res)\n",
    "\n",
    "    # end = time.time()\n",
    "    # print('time to convert arrays to numpy', end - start)\n",
    "    # start = time.time()\n",
    "\n",
    "    return results\n",
    "\n",
    "\n",
    "def convert_rgb(in_directory, out_directory, out_name, name, out_format):\n",
    "    outfile = os.path.join(out_directory, \"{}.{}\".format(out_name, out_format))\n",
    "    # print(outfile)\n",
    "    if os.path.exists(outfile):\n",
    "        return\n",
    "\n",
    "    try:\n",
    "        infile = os.path.join(in_directory, name)\n",
    "        im = Image.open(infile)\n",
    "        im = im.convert(mode=\"RGB\")\n",
    "        im.save(outfile)\n",
    "    except OSError:\n",
    "        # print(\"Skipping invalid file {}\".format(name))\n",
    "        return\n",
    "\n",
    "\n",
    "def convert_depth(in_directory, out_directory, out_name, name, out_format):\n",
    "    outfile = os.path.join(out_directory, \"{}.{}\".format(out_name, out_format))\n",
    "    # print(outfile)\n",
    "    if os.path.exists(outfile):\n",
    "        return\n",
    "\n",
    "    try:\n",
    "        infile = os.path.join(in_directory, name)\n",
    "        depth = load_depth(name)\n",
    "        # print('depth min before: ', np.min(depth))\n",
    "        # print('depth max before: ', np.max(depth))\n",
    "        depth = depth * np.iinfo(np.uint16).max\n",
    "        # print('depth min after: ', np.min(depth))\n",
    "        # print('depth max after: ', np.max(depth))\n",
    "        im = Image.fromarray(depth.astype(np.int32), mode=\"I\")\n",
    "        im.save(outfile)\n",
    "    except OSError:\n",
    "        # print(\"Skipping invalid file {}\".format(name))\n",
    "        return\n",
    "\n",
    "def convert_stencil(in_directory, out_directory, out_name, name, out_format):\n",
    "    outfile = os.path.join(out_directory, \"{}.{}\".format(out_name, out_format))\n",
    "    # print(outfile)\n",
    "    if os.path.exists(outfile):\n",
    "        return\n",
    "\n",
    "    try:\n",
    "        infile = os.path.join(in_directory, name)\n",
    "        stencil = load_stencil(name)\n",
    "        im = Image.fromarray(stencil.astype(np.uint8), mode=\"L\")\n",
    "        im.save(outfile)\n",
    "    except OSError:\n",
    "        # print(\"Skipping invalid file {}\".format(name))\n",
    "        return\n",
    "\n",
    "def get_out_directory(out_directory, res, directory_per_camera):\n",
    "    if directory_per_camera:\n",
    "        # dictionary of camera string representation and indices\n",
    "        global camera_names\n",
    "        camera_directory_name = 'camera_{}__{}'.format(\n",
    "            '_'.join(['{:0.2f}'.format(i) for i in res['camera_relative_position']]), \n",
    "            '_'.join(['{:0.2f}'.format(i) for i in res['camera_relative_rotation']]), \n",
    "        )\n",
    "        if camera_directory_name not in camera_names:\n",
    "            camera_names[camera_directory_name] = str(len(camera_names))\n",
    "        return os.path.join(out_directory, camera_names[camera_directory_name])\n",
    "    else:\n",
    "        return out_directory\n",
    "\n",
    "@lru_cache(maxsize=32)\n",
    "def get_first_record_timestamp_in_run(run_id):\n",
    "    conn = visualization.get_connection_pooled()\n",
    "    cur = conn.cursor()\n",
    "    cur.execute(\"\"\"SELECT min(timestamp) as timestamp \\\n",
    "        FROM snapshots \\\n",
    "        WHERE run_id = {} \\\n",
    "        LIMIT 1 \\\n",
    "        \"\"\".format(run_id))\n",
    "    return cur.fetchone()['timestamp']\n",
    "    \n",
    "def is_first_record_in_run(res, run_id):\n",
    "    first_timestamp = get_first_record_timestamp_in_run(run_id)\n",
    "    return first_timestamp == res['timestamp']\n",
    "    \n",
    "def get_previous_record(res):\n",
    "    conn = visualization.get_connection_pooled()\n",
    "    cur = conn.cursor()\n",
    "    cur.execute(\"\"\"SELECT imagepath, snapshot_id, scene_id \\\n",
    "        FROM snapshots \\\n",
    "        WHERE timestamp < '{}' and run_id = (SELECT run_id from snapshots WHERE snapshot_id = {}) \\\n",
    "        ORDER BY timestamp DESC \\\n",
    "        LIMIT 1 \\\n",
    "        \"\"\".format(res['timestamp'], res['snapshot_id']))\n",
    "    # this should select previous record independently on primary key, without problems with race conditions by persisting in other threads\n",
    "    # and belonging into the same run\n",
    "    results = []\n",
    "    for row in cur:\n",
    "        res = dict(row)\n",
    "        results.append(res)\n",
    "    if len(results) == 0:\n",
    "        print('no previous record for snapshot_id {}'.format(res['snapshot_id']))\n",
    "    return results[0]['imagepath']\n",
    "\n",
    "def are_buffers_same_as_previous(in_directory, res):\n",
    "    name = res['imagepath']\n",
    "    depth = load_depth(name)\n",
    "    stencil = load_stencil(name)\n",
    "    prev_name = get_previous_record(res)\n",
    "    prev_depth = load_depth(prev_name)\n",
    "    prev_stencil = load_stencil(prev_name)\n",
    "    return (depth == prev_depth).all() or (stencil == prev_stencil).all()\n",
    "\n",
    "def try_dump_snapshot_to_dataset(in_directory, out_directory, res, run_id, include_entities):\n",
    "    try:\n",
    "        dump_snapshot_to_dataset(in_directory, out_directory, res, run_id, include_entities)\n",
    "    except Exception as e:\n",
    "        print(e)\n",
    "        pass\n",
    "\n",
    "def dump_snapshot_to_dataset(in_directory, out_directory, res, run_id, include_entities):\n",
    "    if 'pbar' in globals() and 'counter' in globals():\n",
    "        global counter\n",
    "        counter += 1\n",
    "        pbar.update(counter)\n",
    "\n",
    "    start = time.time()\n",
    "    \n",
    "    if not os.path.exists(out_directory):\n",
    "        os.makedirs(out_directory)\n",
    "\n",
    "    if discard_invalid_buffers and (not is_first_record_in_run(res, run_id)) and \\\n",
    "        are_buffers_same_as_previous(in_directory, res):\n",
    "        print('skipping record wih invalid buffers in snapshot {}, filename {} and camera {}'\n",
    "              .format(res['snapshot_id'], res['imagepath'], res['camera_relative_position'].tolist()))\n",
    "        return\n",
    "    \n",
    "    name = res['imagepath']\n",
    "#    convert_rgb(in_directory, out_directory, get_base_name(name), get_base_name(name)+'.tiff', 'png')\n",
    "    convert_rgb(in_directory, out_directory, get_base_name(name), get_base_name(name)+'.tiff', 'jpg')\n",
    "    convert_depth(in_directory, out_directory, get_base_name(name)+'-depth', get_base_name(name), 'png')\n",
    "    convert_stencil(in_directory, out_directory, get_base_name(name)+'-stencil', get_base_name(name), 'png')\n",
    "    # end = time.time()\n",
    "    # print('time to generate images', end - start)\n",
    "    # start = time.time()\n",
    "    \n",
    "    outfile = os.path.join(out_directory, '{}.json'.format(res['imagepath']))\n",
    "    if os.path.exists(outfile):\n",
    "        return\n",
    "\n",
    "    if include_entities:\n",
    "        data = load_entities_data(res['snapshot_id'])\n",
    "\n",
    "        # end = time.time()\n",
    "        # print('loading entities data', end - start)\n",
    "        # start = time.time()\n",
    "    \n",
    "        json_entities_data = []\n",
    "        for i in data:\n",
    "            json_entity = {\n",
    "                'model_sizes': i['model_sizes'].tolist(),\n",
    "                'bbox': i['bbox'].tolist(),\n",
    "                'pos': i['pos'].tolist(),\n",
    "                'rot': i['rot'].tolist(),\n",
    "                'class': i['class'],\n",
    "                'handle': i['handle'],\n",
    "                'type': i['type'],\n",
    "            }\n",
    "            json_entities_data.append(json_entity)\n",
    "\n",
    "    # end = time.time()\n",
    "    # print('dumping entities to json', end - start)\n",
    "    # start = time.time()\n",
    "\n",
    "    json_data = {\n",
    "        'imagepath': res['imagepath'],\n",
    "        'timestamp': res['timestamp'].strftime(\"%Y-%m-%d %H:%M:%S\"),\n",
    "        'timeofday': res['timeofday'].strftime(\"%H:%M:%S\"),\n",
    "        'currentweather': res['currentweather'],\n",
    "        'width': res['width'],\n",
    "        'height': res['height'],\n",
    "        'snapshot_id': res['snapshot_id'],\n",
    "        'camera_rot': res['camera_rot'].tolist(),\n",
    "        'camera_pos': res['camera_pos'].tolist(),\n",
    "        'camera_fov': res['camera_fov'],\n",
    "        'camera_relative_rotation': res['camera_relative_rotation'].tolist(),\n",
    "        'camera_relative_position': res['camera_relative_position'].tolist(),\n",
    "        'current_target': res['current_target'].tolist(),\n",
    "        'view_matrix': res['view_matrix'].tolist(),\n",
    "        'proj_matrix': res['proj_matrix'].tolist(),\n",
    "    }\n",
    "    \n",
    "    if include_entities:\n",
    "        json_data['entities'] = json_entities_data\n",
    "\n",
    "    # end = time.time()\n",
    "    # print('dumping base object to json', end - start)\n",
    "    # start = time.time()\n",
    "\n",
    "    with open(outfile, 'w') as f:\n",
    "        json.dump(json_data, f)\n",
    "    \n",
    "    # end = time.time()\n",
    "    # print('persisting json to file', end - start)\n",
    "    "
   ]
  },
  {
   "cell_type": "markdown",
   "metadata": {},
   "source": [
    "### dumping all data"
   ]
  },
  {
   "cell_type": "code",
   "execution_count": 9,
   "metadata": {
    "scrolled": true
   },
   "outputs": [
    {
     "name": "stderr",
     "output_type": "stream",
     "text": [
      "  0% 12 |                                                           |   2.9 B/sC:\\ProgramData\\Anaconda3\\lib\\site-packages\\tifffile\\tifffile.py:2642: RuntimeWarning: py_decodelzw encountered unexpected end of stream\n",
      "  strip = decompress(strip)\n",
      " 13% 968 |#######                                                   |   2.8 B/sC:\\ProgramData\\Anaconda3\\lib\\site-packages\\tifffile\\tifffile.py:2577: UserWarning: unpack: string size must be a multiple of element size\n",
      "  warnings.warn(\"unpack: %s\" % e)\n",
      " 13% 1007 |#######                                                  |   2.8 B/s"
     ]
    },
    {
     "name": "stdout",
     "output_type": "stream",
     "text": [
      "skipping record wih invalid buffers in snapshot 494200, filename 2018-08-14--12-05-51--079 and camera [-0.0599999986588955, 17.5, 25.0764999389648]\n"
     ]
    },
    {
     "name": "stderr",
     "output_type": "stream",
     "text": [
      " 13% 1010 |#######                                                  |   2.8 B/s"
     ]
    },
    {
     "name": "stdout",
     "output_type": "stream",
     "text": [
      "skipping record wih invalid buffers in snapshot 494202, filename 2018-08-14--12-05-51--813 and camera [15.9399995803833, 17.5, 6.07649993896484]\n",
      "skipping record wih invalid buffers in snapshot 494201, filename 2018-08-14--12-05-51--519 and camera [-0.0599999986588955, 1.5, 1.07649993896484]\n"
     ]
    },
    {
     "name": "stderr",
     "output_type": "stream",
     "text": [
      "\r",
      "                                                                               \r",
      "\r",
      " 13% 1011 |#######                                                  |   2.8 B/s"
     ]
    },
    {
     "name": "stdout",
     "output_type": "stream",
     "text": [
      "skipping record wih invalid buffers in snapshot 494203, filename 2018-08-14--12-05-52--146 and camera [-0.0599999986588955, 33.5, 6.07649993896484]\n"
     ]
    },
    {
     "name": "stderr",
     "output_type": "stream",
     "text": [
      "\r",
      "                                                                               \r",
      "\r",
      " 13% 1012 |#######                                                  |   2.8 B/s"
     ]
    },
    {
     "name": "stdout",
     "output_type": "stream",
     "text": [
      "skipping record wih invalid buffers in snapshot 494204, filename 2018-08-14--12-05-52--426 and camera [-16.0599994659424, 17.5, 6.07649993896484]\n",
      "skipping record wih invalid buffers in snapshot 494205, filename 2018-08-14--12-05-52--725 and camera [0.480000019073486, 1.5, 1.07649993896484]\n"
     ]
    },
    {
     "name": "stderr",
     "output_type": "stream",
     "text": [
      " 14% 1015 |#######                                                  |   2.8 B/s"
     ]
    },
    {
     "name": "stdout",
     "output_type": "stream",
     "text": [
      "skipping record wih invalid buffers in snapshot 494206, filename 2018-08-14--12-05-53--019 and camera [-0.0599999986588955, 17.5, 25.0764999389648]\n",
      "skipping record wih invalid buffers in snapshot 494207, filename 2018-08-14--12-05-53--511 and camera [-0.0599999986588955, 1.5, 1.07649993896484]\n",
      "skipping record wih invalid buffers in snapshot 494208, filename 2018-08-14--12-05-53--840 and camera [15.9399995803833, 17.5, 6.07649993896484]\n"
     ]
    },
    {
     "name": "stderr",
     "output_type": "stream",
     "text": [
      "\r",
      "                                                                               \r",
      "\r",
      " 14% 1017 |#######                                                  |   2.8 B/s"
     ]
    },
    {
     "name": "stdout",
     "output_type": "stream",
     "text": [
      "skipping record wih invalid buffers in snapshot 494209, filename 2018-08-14--12-05-54--123 and camera [-0.0599999986588955, 33.5, 6.07649993896484]\n"
     ]
    },
    {
     "name": "stderr",
     "output_type": "stream",
     "text": [
      " 14% 1019 |########                                                 |   2.8 B/s"
     ]
    },
    {
     "name": "stdout",
     "output_type": "stream",
     "text": [
      "skipping record wih invalid buffers in snapshot 494211, filename 2018-08-14--12-05-54--772 and camera [0.480000019073486, 1.5, 1.07649993896484]\n",
      "skipping record wih invalid buffers in snapshot 494210, filename 2018-08-14--12-05-54--427 and camera [-16.0599994659424, 17.5, 6.07649993896484]\n"
     ]
    },
    {
     "name": "stderr",
     "output_type": "stream",
     "text": [
      " 14% 1022 |########                                                 |   2.8 B/s"
     ]
    },
    {
     "name": "stdout",
     "output_type": "stream",
     "text": [
      "skipping record wih invalid buffers in snapshot 494212, filename 2018-08-14--12-05-55--054 and camera [-0.0599999986588955, 17.5, 25.0764999389648]\n",
      "skipping record wih invalid buffers in snapshot 494213, filename 2018-08-14--12-05-55--518 and camera [-0.0599999986588955, 1.5, 1.07649993896484]\n",
      "skipping record wih invalid buffers in snapshot 494214, filename 2018-08-14--12-05-55--861 and camera [15.9399995803833, 17.5, 6.07649993896484]\n"
     ]
    },
    {
     "name": "stderr",
     "output_type": "stream",
     "text": [
      "\r",
      "                                                                               \r",
      "\r",
      " 14% 1023 |########                                                 |   2.8 B/s"
     ]
    },
    {
     "name": "stdout",
     "output_type": "stream",
     "text": [
      "skipping record wih invalid buffers in snapshot 494215, filename 2018-08-14--12-05-56--200 and camera [-0.0599999986588955, 33.5, 6.07649993896484]\n"
     ]
    },
    {
     "name": "stderr",
     "output_type": "stream",
     "text": [
      "\r",
      "                                                                               \r",
      "\r",
      " 14% 1024 |########                                                 |   2.8 B/s"
     ]
    },
    {
     "name": "stdout",
     "output_type": "stream",
     "text": [
      "skipping record wih invalid buffers in snapshot 494216, filename 2018-08-14--12-05-56--511 and camera [-16.0599994659424, 17.5, 6.07649993896484]\n"
     ]
    },
    {
     "name": "stderr",
     "output_type": "stream",
     "text": [
      " 19% 1433 |###########                                              |   2.9 B/s"
     ]
    },
    {
     "name": "stdout",
     "output_type": "stream",
     "text": [
      "skipping record wih invalid buffers in snapshot 494627, filename 2018-08-14--12-08-21--105 and camera [15.9399995803833, 17.5, 6.07649993896484]\n"
     ]
    },
    {
     "name": "stderr",
     "output_type": "stream",
     "text": [
      " 19% 1437 |###########                                              |   2.9 B/s"
     ]
    },
    {
     "name": "stdout",
     "output_type": "stream",
     "text": [
      "skipping record wih invalid buffers in snapshot 494628, filename 2018-08-14--12-08-21--414 and camera [-0.0599999986588955, 33.5, 6.07649993896484]\n",
      "skipping record wih invalid buffers in snapshot 494629, filename 2018-08-14--12-08-21--736 and camera [-16.0599994659424, 17.5, 6.07649993896484]\n"
     ]
    },
    {
     "name": "stderr",
     "output_type": "stream",
     "text": [
      " 19% 1439 |###########                                              |   2.9 B/s"
     ]
    },
    {
     "name": "stdout",
     "output_type": "stream",
     "text": [
      "skipping record wih invalid buffers in snapshot 494630, filename 2018-08-14--12-08-22--010 and camera [0.480000019073486, 1.5, 1.07649993896484]\n",
      "skipping record wih invalid buffers in snapshot 494631, filename 2018-08-14--12-08-22--320 and camera [-0.0599999986588955, 17.5, 25.0764999389648]\n"
     ]
    },
    {
     "name": "stderr",
     "output_type": "stream",
     "text": [
      " 19% 1442 |###########                                              |   2.9 B/s"
     ]
    },
    {
     "name": "stdout",
     "output_type": "stream",
     "text": [
      "skipping record wih invalid buffers in snapshot 494634, filename 2018-08-14--12-08-23--527 and camera [-0.0599999986588955, 33.5, 6.07649993896484]\n",
      "skipping record wih invalid buffers in snapshot 494633, filename 2018-08-14--12-08-23--230 and camera [15.9399995803833, 17.5, 6.07649993896484]\n"
     ]
    },
    {
     "name": "stderr",
     "output_type": "stream",
     "text": [
      " 19% 1444 |###########                                              |   2.9 B/s"
     ]
    },
    {
     "name": "stdout",
     "output_type": "stream",
     "text": [
      "skipping record wih invalid buffers in snapshot 494635, filename 2018-08-14--12-08-23--855 and camera [-16.0599994659424, 17.5, 6.07649993896484]\n",
      "skipping record wih invalid buffers in snapshot 494636, filename 2018-08-14--12-08-24--179 and camera [0.480000019073486, 1.5, 1.07649993896484]\n",
      "skipping record wih invalid buffers in snapshot 494637, filename 2018-08-14--12-08-24--466 and camera [-0.0599999986588955, 17.5, 25.0764999389648]\n"
     ]
    },
    {
     "name": "stderr",
     "output_type": "stream",
     "text": [
      "\r",
      "                                                                               \r",
      "\r",
      " 19% 1446 |###########                                              |   2.9 B/s"
     ]
    },
    {
     "name": "stdout",
     "output_type": "stream",
     "text": [
      "skipping record wih invalid buffers in snapshot 494639, filename 2018-08-14--12-08-25--280 and camera [15.9399995803833, 17.5, 6.07649993896484]\n",
      "skipping record wih invalid buffers in snapshot 494638, filename 2018-08-14--12-08-24--916 and camera [-0.0599999986588955, 1.5, 1.07649993896484]\n"
     ]
    },
    {
     "name": "stderr",
     "output_type": "stream",
     "text": [
      " 19% 1449 |###########                                              |   2.9 B/s"
     ]
    },
    {
     "name": "stdout",
     "output_type": "stream",
     "text": [
      "skipping record wih invalid buffers in snapshot 494641, filename 2018-08-14--12-08-25--874 and camera [-16.0599994659424, 17.5, 6.07649993896484]\n",
      "skipping record wih invalid buffers in snapshot 494642, filename 2018-08-14--12-08-26--273 and camera [0.480000019073486, 1.5, 1.07649993896484]\n"
     ]
    },
    {
     "name": "stderr",
     "output_type": "stream",
     "text": [
      "\r",
      "                                                                               \r",
      "\r",
      " 20% 1451 |###########                                              |   2.9 B/s"
     ]
    },
    {
     "name": "stdout",
     "output_type": "stream",
     "text": [
      "skipping record wih invalid buffers in snapshot 494643, filename 2018-08-14--12-08-26--681 and camera [-0.0599999986588955, 17.5, 25.0764999389648]\n"
     ]
    },
    {
     "name": "stderr",
     "output_type": "stream",
     "text": [
      "\r",
      "                                                                               \r",
      "\r",
      " 20% 1452 |###########                                              |   2.9 B/s"
     ]
    },
    {
     "name": "stdout",
     "output_type": "stream",
     "text": [
      "skipping record wih invalid buffers in snapshot 494645, filename 2018-08-14--12-08-27--456 and camera [15.9399995803833, 17.5, 6.07649993896484]\n",
      "skipping record wih invalid buffers in snapshot 494644, filename 2018-08-14--12-08-27--141 and camera [-0.0599999986588955, 1.5, 1.07649993896484]\n"
     ]
    },
    {
     "name": "stderr",
     "output_type": "stream",
     "text": [
      " 20% 1456 |###########                                              |   2.9 B/s"
     ]
    },
    {
     "name": "stdout",
     "output_type": "stream",
     "text": [
      "skipping record wih invalid buffers in snapshot 494648, filename 2018-08-14--12-08-28--375 and camera [0.480000019073486, 1.5, 1.07649993896484]\n",
      "skipping record wih invalid buffers in snapshot 494646, filename 2018-08-14--12-08-27--776 and camera [-0.0599999986588955, 33.5, 6.07649993896484]\n",
      "skipping record wih invalid buffers in snapshot 494647, filename 2018-08-14--12-08-28--069 and camera [-16.0599994659424, 17.5, 6.07649993896484]\n"
     ]
    },
    {
     "name": "stderr",
     "output_type": "stream",
     "text": [
      "\r",
      "                                                                               \r",
      "\r",
      " 20% 1457 |###########                                              |   2.9 B/s"
     ]
    },
    {
     "name": "stdout",
     "output_type": "stream",
     "text": [
      "skipping record wih invalid buffers in snapshot 494649, filename 2018-08-14--12-08-28--694 and camera [-0.0599999986588955, 17.5, 25.0764999389648]\n",
      "skipping record wih invalid buffers in snapshot 494651, filename 2018-08-14--12-08-29--435 and camera [15.9399995803833, 17.5, 6.07649993896484]\n"
     ]
    },
    {
     "name": "stderr",
     "output_type": "stream",
     "text": [
      "\r",
      "                                                                               \r",
      "\r",
      " 20% 1459 |###########                                              |   2.9 B/s"
     ]
    },
    {
     "name": "stdout",
     "output_type": "stream",
     "text": [
      "skipping record wih invalid buffers in snapshot 494650, filename 2018-08-14--12-08-29--173 and camera [-0.0599999986588955, 1.5, 1.07649993896484]\n"
     ]
    },
    {
     "name": "stderr",
     "output_type": "stream",
     "text": [
      " 20% 1462 |###########                                              |   2.9 B/s"
     ]
    },
    {
     "name": "stdout",
     "output_type": "stream",
     "text": [
      "skipping record wih invalid buffers in snapshot 494652, filename 2018-08-14--12-08-29--729 and camera [-0.0599999986588955, 33.5, 6.07649993896484]\n",
      "skipping record wih invalid buffers in snapshot 494654, filename 2018-08-14--12-08-30--354 and camera [0.480000019073486, 1.5, 1.07649993896484]\n",
      "skipping record wih invalid buffers in snapshot 494653, filename 2018-08-14--12-08-30--015 and camera [-16.0599994659424, 17.5, 6.07649993896484]\n"
     ]
    },
    {
     "name": "stderr",
     "output_type": "stream",
     "text": [
      "\r",
      "                                                                               \r",
      "\r",
      " 20% 1463 |###########                                              |   2.9 B/s"
     ]
    },
    {
     "name": "stdout",
     "output_type": "stream",
     "text": [
      "skipping record wih invalid buffers in snapshot 494655, filename 2018-08-14--12-08-30--666 and camera [-0.0599999986588955, 17.5, 25.0764999389648]\n"
     ]
    },
    {
     "name": "stderr",
     "output_type": "stream",
     "text": [
      "\r",
      "                                                                               \r",
      "\r",
      " 20% 1464 |###########                                              |   2.9 B/s"
     ]
    },
    {
     "name": "stdout",
     "output_type": "stream",
     "text": [
      "skipping record wih invalid buffers in snapshot 494657, filename 2018-08-14--12-08-31--402 and camera [15.9399995803833, 17.5, 6.07649993896484]\n"
     ]
    },
    {
     "name": "stderr",
     "output_type": "stream",
     "text": [
      " 20% 1468 |###########                                              |   2.9 B/s"
     ]
    },
    {
     "name": "stdout",
     "output_type": "stream",
     "text": [
      "skipping record wih invalid buffers in snapshot 494659, filename 2018-08-14--12-08-32--025 and camera [-16.0599994659424, 17.5, 6.07649993896484]\n",
      "skipping record wih invalid buffers in snapshot 494658, filename 2018-08-14--12-08-31--739 and camera [-0.0599999986588955, 33.5, 6.07649993896484]\n",
      "skipping record wih invalid buffers in snapshot 494660, filename 2018-08-14--12-08-32--349 and camera [0.480000019073486, 1.5, 1.07649993896484]\n"
     ]
    },
    {
     "name": "stderr",
     "output_type": "stream",
     "text": [
      "\r",
      "                                                                               \r",
      "\r",
      " 20% 1469 |###########                                              |   3.0 B/s"
     ]
    },
    {
     "name": "stdout",
     "output_type": "stream",
     "text": [
      "skipping record wih invalid buffers in snapshot 494661, filename 2018-08-14--12-08-32--669 and camera [-0.0599999986588955, 17.5, 25.0764999389648]\n"
     ]
    },
    {
     "name": "stderr",
     "output_type": "stream",
     "text": [
      "\r",
      "                                                                               \r",
      "\r",
      " 20% 1470 |###########                                              |   3.0 B/s"
     ]
    },
    {
     "name": "stdout",
     "output_type": "stream",
     "text": [
      "skipping record wih invalid buffers in snapshot 494662, filename 2018-08-14--12-08-33--116 and camera [-0.0599999986588955, 1.5, 1.07649993896484]\n"
     ]
    },
    {
     "name": "stderr",
     "output_type": "stream",
     "text": [
      "\r",
      "                                                                               \r",
      "\r",
      " 20% 1471 |###########                                              |   3.0 B/s"
     ]
    },
    {
     "name": "stdout",
     "output_type": "stream",
     "text": [
      "skipping record wih invalid buffers in snapshot 494663, filename 2018-08-14--12-08-33--404 and camera [15.9399995803833, 17.5, 6.07649993896484]\n"
     ]
    },
    {
     "name": "stderr",
     "output_type": "stream",
     "text": [
      " 20% 1473 |###########                                              |   3.0 B/s"
     ]
    },
    {
     "name": "stdout",
     "output_type": "stream",
     "text": [
      "skipping record wih invalid buffers in snapshot 494665, filename 2018-08-14--12-08-34--032 and camera [-16.0599994659424, 17.5, 6.07649993896484]\n",
      "skipping record wih invalid buffers in snapshot 494664, filename 2018-08-14--12-08-33--706 and camera [-0.0599999986588955, 33.5, 6.07649993896484]\n"
     ]
    },
    {
     "name": "stderr",
     "output_type": "stream",
     "text": [
      " 30% 2220 |#################                                        |   3.0 B/s"
     ]
    },
    {
     "name": "stdout",
     "output_type": "stream",
     "text": [
      "skipping record wih invalid buffers in snapshot 495412, filename 2018-08-14--12-12-58--784 and camera [-0.0599999986588955, 33.5, 6.07649993896484]\n"
     ]
    },
    {
     "name": "stderr",
     "output_type": "stream",
     "text": [
      "\r",
      "                                                                               \r",
      "\r",
      " 30% 2221 |#################                                        |   3.0 B/s"
     ]
    },
    {
     "name": "stdout",
     "output_type": "stream",
     "text": [
      "skipping record wih invalid buffers in snapshot 495413, filename 2018-08-14--12-12-59--099 and camera [-16.0599994659424, 17.5, 6.07649993896484]\n"
     ]
    },
    {
     "name": "stderr",
     "output_type": "stream",
     "text": [
      "\r",
      "                                                                               \r",
      "\r",
      " 30% 2222 |#################                                        |   3.0 B/s"
     ]
    },
    {
     "name": "stdout",
     "output_type": "stream",
     "text": [
      "skipping record wih invalid buffers in snapshot 495414, filename 2018-08-14--12-12-59--435 and camera [0.480000019073486, 1.5, 1.07649993896484]\n"
     ]
    },
    {
     "name": "stderr",
     "output_type": "stream",
     "text": [
      " 32% 2390 |##################                                       |   3.0 B/s"
     ]
    },
    {
     "name": "stdout",
     "output_type": "stream",
     "text": [
      "skipping record wih invalid buffers in snapshot 495581, filename 2018-08-14--12-13-58--497 and camera [0.480000019073486, 1.5, 1.07649993896484]\n",
      "skipping record wih invalid buffers in snapshot 495582, filename 2018-08-14--12-13-58--813 and camera [-0.0599999986588955, 17.5, 25.0764999389648]\n",
      "skipping record wih invalid buffers in snapshot 495583, filename 2018-08-14--12-13-59--314 and camera [-0.0599999986588955, 1.5, 1.07649993896484]\n",
      "skipping record wih invalid buffers in snapshot 495584, filename 2018-08-14--12-13-59--617 and camera [15.9399995803833, 17.5, 6.07649993896484]\n"
     ]
    },
    {
     "name": "stderr",
     "output_type": "stream",
     "text": [
      " 33% 2393 |##################                                       |   3.0 B/s"
     ]
    },
    {
     "name": "stdout",
     "output_type": "stream",
     "text": [
      "skipping record wih invalid buffers in snapshot 495585, filename 2018-08-14--12-13-59--934 and camera [-0.0599999986588955, 33.5, 6.07649993896484]\n"
     ]
    },
    {
     "name": "stderr",
     "output_type": "stream",
     "text": [
      " 33% 2395 |##################                                       |   3.0 B/s"
     ]
    },
    {
     "name": "stdout",
     "output_type": "stream",
     "text": [
      "skipping record wih invalid buffers in snapshot 495587, filename 2018-08-14--12-14-00--526 and camera [0.480000019073486, 1.5, 1.07649993896484]\n",
      "skipping record wih invalid buffers in snapshot 495589, filename 2018-08-14--12-14-01--338 and camera [-0.0599999986588955, 1.5, 1.07649993896484]\n"
     ]
    },
    {
     "name": "stderr",
     "output_type": "stream",
     "text": [
      " 33% 2398 |##################                                       |   3.0 B/s"
     ]
    },
    {
     "name": "stdout",
     "output_type": "stream",
     "text": [
      "skipping record wih invalid buffers in snapshot 495588, filename 2018-08-14--12-14-00--837 and camera [-0.0599999986588955, 17.5, 25.0764999389648]\n",
      "skipping record wih invalid buffers in snapshot 495586, filename 2018-08-14--12-14-00--249 and camera [-16.0599994659424, 17.5, 6.07649993896484]\n",
      "skipping record wih invalid buffers in snapshot 495590, filename 2018-08-14--12-14-01--640 and camera [15.9399995803833, 17.5, 6.07649993896484]\n"
     ]
    },
    {
     "name": "stderr",
     "output_type": "stream",
     "text": [
      "\r",
      "                                                                               \r",
      "\r",
      " 33% 2399 |##################                                       |   3.0 B/s"
     ]
    },
    {
     "name": "stdout",
     "output_type": "stream",
     "text": [
      "skipping record wih invalid buffers in snapshot 495591, filename 2018-08-14--12-14-01--983 and camera [-0.0599999986588955, 33.5, 6.07649993896484]\n"
     ]
    },
    {
     "name": "stderr",
     "output_type": "stream",
     "text": [
      "\r",
      "                                                                               \r",
      "\r",
      " 33% 2400 |##################                                       |   3.0 B/s"
     ]
    },
    {
     "name": "stdout",
     "output_type": "stream",
     "text": [
      "skipping record wih invalid buffers in snapshot 495593, filename 2018-08-14--12-14-02--617 and camera [0.480000019073486, 1.5, 1.07649993896484]\n",
      "skipping record wih invalid buffers in snapshot 495592, filename 2018-08-14--12-14-02--329 and camera [-16.0599994659424, 17.5, 6.07649993896484]\n"
     ]
    },
    {
     "name": "stderr",
     "output_type": "stream",
     "text": [
      " 33% 2404 |##################                                       |   3.0 B/s"
     ]
    },
    {
     "name": "stdout",
     "output_type": "stream",
     "text": [
      "skipping record wih invalid buffers in snapshot 495594, filename 2018-08-14--12-14-02--937 and camera [-0.0599999986588955, 17.5, 25.0764999389648]\n",
      "skipping record wih invalid buffers in snapshot 495596, filename 2018-08-14--12-14-03--673 and camera [15.9399995803833, 17.5, 6.07649993896484]\n",
      "skipping record wih invalid buffers in snapshot 495595, filename 2018-08-14--12-14-03--402 and camera [-0.0599999986588955, 1.5, 1.07649993896484]\n"
     ]
    },
    {
     "name": "stderr",
     "output_type": "stream",
     "text": [
      "\r",
      "                                                                               \r",
      "\r",
      " 33% 2405 |##################                                       |   3.0 B/s"
     ]
    },
    {
     "name": "stdout",
     "output_type": "stream",
     "text": [
      "skipping record wih invalid buffers in snapshot 495597, filename 2018-08-14--12-14-03--968 and camera [-0.0599999986588955, 33.5, 6.07649993896484]\n"
     ]
    },
    {
     "name": "stderr",
     "output_type": "stream",
     "text": [
      "\r",
      "                                                                               \r",
      "\r",
      " 33% 2406 |##################                                       |   3.0 B/s"
     ]
    },
    {
     "name": "stdout",
     "output_type": "stream",
     "text": [
      "skipping record wih invalid buffers in snapshot 495598, filename 2018-08-14--12-14-04--288 and camera [-16.0599994659424, 17.5, 6.07649993896484]\n"
     ]
    },
    {
     "name": "stderr",
     "output_type": "stream",
     "text": [
      " 33% 2408 |##################                                       |   3.0 B/s"
     ]
    },
    {
     "name": "stdout",
     "output_type": "stream",
     "text": [
      "skipping record wih invalid buffers in snapshot 495599, filename 2018-08-14--12-14-04--567 and camera [0.480000019073486, 1.5, 1.07649993896484]\n",
      "skipping record wih invalid buffers in snapshot 495600, filename 2018-08-14--12-14-04--904 and camera [-0.0599999986588955, 17.5, 25.0764999389648]\n"
     ]
    },
    {
     "name": "stderr",
     "output_type": "stream",
     "text": [
      " 33% 2410 |##################                                       |   3.0 B/s"
     ]
    },
    {
     "name": "stdout",
     "output_type": "stream",
     "text": [
      "skipping record wih invalid buffers in snapshot 495602, filename 2018-08-14--12-14-05--808 and camera [15.9399995803833, 17.5, 6.07649993896484]\n",
      "skipping record wih invalid buffers in snapshot 495601, filename 2018-08-14--12-14-05--466 and camera [-0.0599999986588955, 1.5, 1.07649993896484]\n",
      "skipping record wih invalid buffers in snapshot 495603, filename 2018-08-14--12-14-06--084 and camera [-0.0599999986588955, 33.5, 6.07649993896484]\n"
     ]
    },
    {
     "name": "stderr",
     "output_type": "stream",
     "text": [
      "\r",
      "                                                                               \r",
      "\r",
      " 33% 2412 |##################                                       |   3.0 B/s"
     ]
    },
    {
     "name": "stdout",
     "output_type": "stream",
     "text": [
      "skipping record wih invalid buffers in snapshot 495604, filename 2018-08-14--12-14-06--391 and camera [-16.0599994659424, 17.5, 6.07649993896484]\n"
     ]
    },
    {
     "name": "stderr",
     "output_type": "stream",
     "text": [
      "\r",
      "                                                                               \r",
      "\r",
      " 33% 2413 |##################                                       |   3.0 B/s"
     ]
    },
    {
     "name": "stdout",
     "output_type": "stream",
     "text": [
      "skipping record wih invalid buffers in snapshot 495605, filename 2018-08-14--12-14-06--770 and camera [0.480000019073486, 1.5, 1.07649993896484]\n"
     ]
    },
    {
     "name": "stderr",
     "output_type": "stream",
     "text": [
      "\r",
      "                                                                               \r",
      "\r",
      " 33% 2414 |##################                                       |   3.0 B/s"
     ]
    },
    {
     "name": "stdout",
     "output_type": "stream",
     "text": [
      "skipping record wih invalid buffers in snapshot 495606, filename 2018-08-14--12-14-07--045 and camera [-0.0599999986588955, 17.5, 25.0764999389648]\n",
      "skipping record wih invalid buffers in snapshot 495607, filename 2018-08-14--12-14-07--464 and camera [-0.0599999986588955, 1.5, 1.07649993896484]\n"
     ]
    },
    {
     "name": "stderr",
     "output_type": "stream",
     "text": [
      "\r",
      "                                                                               \r",
      "\r",
      " 33% 2416 |##################                                       |   3.0 B/s"
     ]
    },
    {
     "name": "stdout",
     "output_type": "stream",
     "text": [
      "skipping record wih invalid buffers in snapshot 495608, filename 2018-08-14--12-14-07--757 and camera [15.9399995803833, 17.5, 6.07649993896484]\n",
      "skipping record wih invalid buffers in snapshot 495609, filename 2018-08-14--12-14-08--063 and camera [-0.0599999986588955, 33.5, 6.07649993896484]\n",
      "skipping record wih invalid buffers in snapshot 495610, filename 2018-08-14--12-14-08--385 and camera [-16.0599994659424, 17.5, 6.07649993896484]\n"
     ]
    },
    {
     "name": "stderr",
     "output_type": "stream",
     "text": [
      "\r",
      "                                                                               \r",
      "\r",
      " 33% 2419 |###################                                      |   3.0 B/s"
     ]
    },
    {
     "name": "stdout",
     "output_type": "stream",
     "text": [
      "skipping record wih invalid buffers in snapshot 495611, filename 2018-08-14--12-14-08--671 and camera [0.480000019073486, 1.5, 1.07649993896484]\n"
     ]
    },
    {
     "name": "stderr",
     "output_type": "stream",
     "text": [
      "\r",
      "                                                                               \r",
      "\r",
      " 33% 2420 |###################                                      |   3.0 B/s"
     ]
    },
    {
     "name": "stdout",
     "output_type": "stream",
     "text": [
      "skipping record wih invalid buffers in snapshot 495612, filename 2018-08-14--12-14-08--980 and camera [-0.0599999986588955, 17.5, 25.0764999389648]\n",
      "skipping record wih invalid buffers in snapshot 495613, filename 2018-08-14--12-14-09--441 and camera [-0.0599999986588955, 1.5, 1.07649993896484]\n"
     ]
    },
    {
     "name": "stderr",
     "output_type": "stream",
     "text": [
      " 33% 2424 |###################                                      |   3.0 B/s"
     ]
    },
    {
     "name": "stdout",
     "output_type": "stream",
     "text": [
      "skipping record wih invalid buffers in snapshot 495615, filename 2018-08-14--12-14-10--026 and camera [-0.0599999986588955, 33.5, 6.07649993896484]\n",
      "skipping record wih invalid buffers in snapshot 495614, filename 2018-08-14--12-14-09--717 and camera [15.9399995803833, 17.5, 6.07649993896484]\n",
      "skipping record wih invalid buffers in snapshot 495616, filename 2018-08-14--12-14-10--352 and camera [-16.0599994659424, 17.5, 6.07649993896484]\n"
     ]
    },
    {
     "name": "stderr",
     "output_type": "stream",
     "text": [
      "\r",
      "                                                                               \r",
      "\r",
      " 33% 2425 |###################                                      |   3.0 B/s"
     ]
    },
    {
     "name": "stdout",
     "output_type": "stream",
     "text": [
      "skipping record wih invalid buffers in snapshot 495617, filename 2018-08-14--12-14-10--675 and camera [0.480000019073486, 1.5, 1.07649993896484]\n"
     ]
    },
    {
     "name": "stderr",
     "output_type": "stream",
     "text": [
      " 33% 2427 |###################                                      |   3.0 B/s"
     ]
    },
    {
     "name": "stdout",
     "output_type": "stream",
     "text": [
      "skipping record wih invalid buffers in snapshot 495618, filename 2018-08-14--12-14-10--964 and camera [-0.0599999986588955, 17.5, 25.0764999389648]\n",
      "skipping record wih invalid buffers in snapshot 495619, filename 2018-08-14--12-14-11--423 and camera [-0.0599999986588955, 1.5, 1.07649993896484]\n",
      "skipping record wih invalid buffers in snapshot 495621, filename 2018-08-14--12-14-12--006 and camera [-0.0599999986588955, 33.5, 6.07649993896484]\n"
     ]
    },
    {
     "name": "stderr",
     "output_type": "stream",
     "text": [
      " 33% 2431 |###################                                      |   3.0 B/s"
     ]
    },
    {
     "name": "stdout",
     "output_type": "stream",
     "text": [
      "skipping record wih invalid buffers in snapshot 495620, filename 2018-08-14--12-14-11--744 and camera [15.9399995803833, 17.5, 6.07649993896484]\n",
      "skipping record wih invalid buffers in snapshot 495622, filename 2018-08-14--12-14-12--313 and camera [-16.0599994659424, 17.5, 6.07649993896484]\n",
      "skipping record wih invalid buffers in snapshot 495623, filename 2018-08-14--12-14-12--642 and camera [0.480000019073486, 1.5, 1.07649993896484]\n"
     ]
    },
    {
     "name": "stderr",
     "output_type": "stream",
     "text": [
      " 33% 2434 |###################                                      |   3.0 B/s"
     ]
    },
    {
     "name": "stdout",
     "output_type": "stream",
     "text": [
      "skipping record wih invalid buffers in snapshot 495625, filename 2018-08-14--12-14-13--408 and camera [-0.0599999986588955, 1.5, 1.07649993896484]\n",
      "skipping record wih invalid buffers in snapshot 495626, filename 2018-08-14--12-14-13--705 and camera [15.9399995803833, 17.5, 6.07649993896484]\n",
      "skipping record wih invalid buffers in snapshot 495624, filename 2018-08-14--12-14-12--928 and camera [-0.0599999986588955, 17.5, 25.0764999389648]\n"
     ]
    },
    {
     "name": "stderr",
     "output_type": "stream",
     "text": [
      "\r",
      "                                                                               \r",
      "\r",
      " 33% 2435 |###################                                      |   3.0 B/s"
     ]
    },
    {
     "name": "stdout",
     "output_type": "stream",
     "text": [
      "skipping record wih invalid buffers in snapshot 495627, filename 2018-08-14--12-14-13--995 and camera [-0.0599999986588955, 33.5, 6.07649993896484]\n",
      "skipping record wih invalid buffers in snapshot 495629, filename 2018-08-14--12-14-14--622 and camera [0.480000019073486, 1.5, 1.07649993896484]\n",
      "skipping record wih invalid buffers in snapshot 495628, filename 2018-08-14--12-14-14--290 and camera [-16.0599994659424, 17.5, 6.07649993896484]\n"
     ]
    },
    {
     "name": "stderr",
     "output_type": "stream",
     "text": [
      " 33% 2439 |###################                                      |   3.0 B/s"
     ]
    },
    {
     "name": "stdout",
     "output_type": "stream",
     "text": [
      "skipping record wih invalid buffers in snapshot 495632, filename 2018-08-14--12-14-15--642 and camera [15.9399995803833, 17.5, 6.07649993896484]\n",
      "skipping record wih invalid buffers in snapshot 495630, filename 2018-08-14--12-14-14--896 and camera [-0.0599999986588955, 17.5, 25.0764999389648]\n",
      "skipping record wih invalid buffers in snapshot 495631, filename 2018-08-14--12-14-15--334 and camera [-0.0599999986588955, 1.5, 1.07649993896484]\n"
     ]
    },
    {
     "name": "stderr",
     "output_type": "stream",
     "text": [
      "\r",
      "                                                                               \r",
      "\r",
      " 33% 2441 |###################                                      |   3.0 B/s"
     ]
    },
    {
     "name": "stdout",
     "output_type": "stream",
     "text": [
      "skipping record wih invalid buffers in snapshot 495633, filename 2018-08-14--12-14-15--966 and camera [-0.0599999986588955, 33.5, 6.07649993896484]\n"
     ]
    },
    {
     "name": "stderr",
     "output_type": "stream",
     "text": [
      "\r",
      "                                                                               \r",
      "\r",
      " 33% 2442 |###################                                      |   3.0 B/s"
     ]
    },
    {
     "name": "stdout",
     "output_type": "stream",
     "text": [
      "skipping record wih invalid buffers in snapshot 495635, filename 2018-08-14--12-14-16--551 and camera [0.480000019073486, 1.5, 1.07649993896484]\n",
      "skipping record wih invalid buffers in snapshot 495634, filename 2018-08-14--12-14-16--244 and camera [-16.0599994659424, 17.5, 6.07649993896484]\n"
     ]
    },
    {
     "name": "stderr",
     "output_type": "stream",
     "text": [
      " 33% 2445 |###################                                      |   3.0 B/s"
     ]
    },
    {
     "name": "stdout",
     "output_type": "stream",
     "text": [
      "skipping record wih invalid buffers in snapshot 495636, filename 2018-08-14--12-14-16--879 and camera [-0.0599999986588955, 17.5, 25.0764999389648]\n",
      "skipping record wih invalid buffers in snapshot 495637, filename 2018-08-14--12-14-17--332 and camera [-0.0599999986588955, 1.5, 1.07649993896484]\n"
     ]
    },
    {
     "name": "stderr",
     "output_type": "stream",
     "text": [
      "\r",
      "                                                                               \r",
      "\r",
      " 33% 2446 |###################                                      |   3.0 B/s"
     ]
    },
    {
     "name": "stdout",
     "output_type": "stream",
     "text": [
      "skipping record wih invalid buffers in snapshot 495638, filename 2018-08-14--12-14-17--603 and camera [15.9399995803833, 17.5, 6.07649993896484]\n"
     ]
    },
    {
     "name": "stderr",
     "output_type": "stream",
     "text": [
      "\r",
      "                                                                               \r",
      "\r",
      " 33% 2447 |###################                                      |   3.0 B/s"
     ]
    },
    {
     "name": "stdout",
     "output_type": "stream",
     "text": [
      "skipping record wih invalid buffers in snapshot 495639, filename 2018-08-14--12-14-17--902 and camera [-0.0599999986588955, 33.5, 6.07649993896484]\n"
     ]
    },
    {
     "name": "stderr",
     "output_type": "stream",
     "text": [
      "\r",
      "                                                                               \r",
      "\r",
      " 33% 2448 |###################                                      |   3.0 B/s"
     ]
    },
    {
     "name": "stdout",
     "output_type": "stream",
     "text": [
      "skipping record wih invalid buffers in snapshot 495640, filename 2018-08-14--12-14-18--214 and camera [-16.0599994659424, 17.5, 6.07649993896484]\n",
      "skipping record wih invalid buffers in snapshot 495641, filename 2018-08-14--12-14-18--488 and camera [0.480000019073486, 1.5, 1.07649993896484]\n"
     ]
    },
    {
     "name": "stderr",
     "output_type": "stream",
     "text": [
      "\r",
      "                                                                               \r",
      "\r",
      " 33% 2450 |###################                                      |   3.0 B/s"
     ]
    },
    {
     "name": "stdout",
     "output_type": "stream",
     "text": [
      "skipping record wih invalid buffers in snapshot 495643, filename 2018-08-14--12-14-19--269 and camera [-0.0599999986588955, 1.5, 1.07649993896484]\n",
      "skipping record wih invalid buffers in snapshot 495642, filename 2018-08-14--12-14-18--808 and camera [-0.0599999986588955, 17.5, 25.0764999389648]\n"
     ]
    },
    {
     "name": "stderr",
     "output_type": "stream",
     "text": [
      "\r",
      "                                                                               \r",
      "\r",
      " 33% 2452 |###################                                      |   3.0 B/s"
     ]
    },
    {
     "name": "stdout",
     "output_type": "stream",
     "text": [
      "skipping record wih invalid buffers in snapshot 495644, filename 2018-08-14--12-14-19--557 and camera [15.9399995803833, 17.5, 6.07649993896484]\n",
      "skipping record wih invalid buffers in snapshot 495645, filename 2018-08-14--12-14-19--875 and camera [-0.0599999986588955, 33.5, 6.07649993896484]\n"
     ]
    },
    {
     "name": "stderr",
     "output_type": "stream",
     "text": [
      "\r",
      "                                                                               \r",
      "\r",
      " 33% 2454 |###################                                      |   3.0 B/s"
     ]
    },
    {
     "name": "stdout",
     "output_type": "stream",
     "text": [
      "skipping record wih invalid buffers in snapshot 495646, filename 2018-08-14--12-14-20--188 and camera [-16.0599994659424, 17.5, 6.07649993896484]\n",
      "skipping record wih invalid buffers in snapshot 495647, filename 2018-08-14--12-14-20--511 and camera [0.480000019073486, 1.5, 1.07649993896484]\n"
     ]
    },
    {
     "name": "stderr",
     "output_type": "stream",
     "text": [
      "\r",
      "                                                                               \r",
      "\r",
      " 33% 2456 |###################                                      |   3.0 B/s"
     ]
    },
    {
     "name": "stdout",
     "output_type": "stream",
     "text": [
      "skipping record wih invalid buffers in snapshot 495649, filename 2018-08-14--12-14-21--330 and camera [-0.0599999986588955, 1.5, 1.07649993896484]\n",
      "skipping record wih invalid buffers in snapshot 495648, filename 2018-08-14--12-14-20--795 and camera [-0.0599999986588955, 17.5, 25.0764999389648]\n"
     ]
    },
    {
     "name": "stderr",
     "output_type": "stream",
     "text": [
      "\r",
      "                                                                               \r",
      "\r",
      " 33% 2458 |###################                                      |   3.0 B/s"
     ]
    },
    {
     "name": "stdout",
     "output_type": "stream",
     "text": [
      "skipping record wih invalid buffers in snapshot 495651, filename 2018-08-14--12-14-21--982 and camera [-0.0599999986588955, 33.5, 6.07649993896484]\n",
      "skipping record wih invalid buffers in snapshot 495650, filename 2018-08-14--12-14-21--698 and camera [15.9399995803833, 17.5, 6.07649993896484]\n"
     ]
    },
    {
     "name": "stderr",
     "output_type": "stream",
     "text": [
      " 33% 2461 |###################                                      |   3.0 B/s"
     ]
    },
    {
     "name": "stdout",
     "output_type": "stream",
     "text": [
      "skipping record wih invalid buffers in snapshot 495652, filename 2018-08-14--12-14-22--280 and camera [-16.0599994659424, 17.5, 6.07649993896484]\n",
      "skipping record wih invalid buffers in snapshot 495653, filename 2018-08-14--12-14-22--614 and camera [0.480000019073486, 1.5, 1.07649993896484]\n"
     ]
    },
    {
     "name": "stderr",
     "output_type": "stream",
     "text": [
      "\r",
      "                                                                               \r",
      "\r",
      " 33% 2462 |###################                                      |   3.0 B/s"
     ]
    },
    {
     "name": "stdout",
     "output_type": "stream",
     "text": [
      "skipping record wih invalid buffers in snapshot 495654, filename 2018-08-14--12-14-22--928 and camera [-0.0599999986588955, 17.5, 25.0764999389648]\n",
      "skipping record wih invalid buffers in snapshot 495655, filename 2018-08-14--12-14-23--342 and camera [-0.0599999986588955, 1.5, 1.07649993896484]\n"
     ]
    },
    {
     "name": "stderr",
     "output_type": "stream",
     "text": [
      "\r",
      "                                                                               \r",
      "\r",
      " 33% 2464 |###################                                      |   3.0 B/s"
     ]
    },
    {
     "name": "stdout",
     "output_type": "stream",
     "text": [
      "skipping record wih invalid buffers in snapshot 495657, filename 2018-08-14--12-14-23--967 and camera [-0.0599999986588955, 33.5, 6.07649993896484]\n"
     ]
    },
    {
     "name": "stderr",
     "output_type": "stream",
     "text": [
      " 34% 2467 |###################                                      |   3.0 B/s"
     ]
    },
    {
     "name": "stdout",
     "output_type": "stream",
     "text": [
      "skipping record wih invalid buffers in snapshot 495656, filename 2018-08-14--12-14-23--646 and camera [15.9399995803833, 17.5, 6.07649993896484]\n",
      "skipping record wih invalid buffers in snapshot 495658, filename 2018-08-14--12-14-24--238 and camera [-16.0599994659424, 17.5, 6.07649993896484]\n",
      "skipping record wih invalid buffers in snapshot 495659, filename 2018-08-14--12-14-24--549 and camera [0.480000019073486, 1.5, 1.07649993896484]\n"
     ]
    },
    {
     "name": "stderr",
     "output_type": "stream",
     "text": [
      " 34% 2469 |###################                                      |   3.0 B/s"
     ]
    },
    {
     "name": "stdout",
     "output_type": "stream",
     "text": [
      "skipping record wih invalid buffers in snapshot 495661, filename 2018-08-14--12-14-25--350 and camera [-0.0599999986588955, 1.5, 1.07649993896484]\n",
      "skipping record wih invalid buffers in snapshot 495660, filename 2018-08-14--12-14-24--894 and camera [-0.0599999986588955, 17.5, 25.0764999389648]\n"
     ]
    },
    {
     "name": "stderr",
     "output_type": "stream",
     "text": [
      "\r",
      "                                                                               \r",
      "\r",
      " 34% 2470 |###################                                      |   3.0 B/s"
     ]
    },
    {
     "name": "stdout",
     "output_type": "stream",
     "text": [
      "skipping record wih invalid buffers in snapshot 495662, filename 2018-08-14--12-14-25--642 and camera [15.9399995803833, 17.5, 6.07649993896484]\n"
     ]
    },
    {
     "name": "stderr",
     "output_type": "stream",
     "text": [
      "\r",
      "                                                                               \r",
      "\r",
      " 34% 2471 |###################                                      |   3.0 B/s"
     ]
    },
    {
     "name": "stdout",
     "output_type": "stream",
     "text": [
      "skipping record wih invalid buffers in snapshot 495663, filename 2018-08-14--12-14-25--985 and camera [-0.0599999986588955, 33.5, 6.07649993896484]\n"
     ]
    },
    {
     "name": "stderr",
     "output_type": "stream",
     "text": [
      "\r",
      "                                                                               \r",
      "\r",
      " 34% 2472 |###################                                      |   3.0 B/s"
     ]
    },
    {
     "name": "stdout",
     "output_type": "stream",
     "text": [
      "skipping record wih invalid buffers in snapshot 495664, filename 2018-08-14--12-14-26--306 and camera [-16.0599994659424, 17.5, 6.07649993896484]\n",
      "skipping record wih invalid buffers in snapshot 495665, filename 2018-08-14--12-14-26--595 and camera [0.480000019073486, 1.5, 1.07649993896484]\n"
     ]
    },
    {
     "name": "stderr",
     "output_type": "stream",
     "text": [
      "\r",
      "                                                                               \r",
      "\r",
      " 34% 2474 |###################                                      |   3.0 B/s"
     ]
    },
    {
     "name": "stdout",
     "output_type": "stream",
     "text": [
      "skipping record wih invalid buffers in snapshot 495666, filename 2018-08-14--12-14-27--001 and camera [-0.0599999986588955, 17.5, 25.0764999389648]\n",
      "skipping record wih invalid buffers in snapshot 495667, filename 2018-08-14--12-14-27--483 and camera [-0.0599999986588955, 1.5, 1.07649993896484]\n"
     ]
    },
    {
     "name": "stderr",
     "output_type": "stream",
     "text": [
      "\r",
      "                                                                               \r",
      "\r",
      " 34% 2476 |###################                                      |   3.0 B/s"
     ]
    },
    {
     "name": "stdout",
     "output_type": "stream",
     "text": [
      "skipping record wih invalid buffers in snapshot 495669, filename 2018-08-14--12-14-28--057 and camera [-0.0599999986588955, 33.5, 6.07649993896484]\n",
      "skipping record wih invalid buffers in snapshot 495668, filename 2018-08-14--12-14-27--800 and camera [15.9399995803833, 17.5, 6.07649993896484]\n"
     ]
    },
    {
     "name": "stderr",
     "output_type": "stream",
     "text": [
      " 34% 2480 |###################                                      |   3.0 B/s"
     ]
    },
    {
     "name": "stdout",
     "output_type": "stream",
     "text": [
      "skipping record wih invalid buffers in snapshot 495670, filename 2018-08-14--12-14-28--381 and camera [-16.0599994659424, 17.5, 6.07649993896484]\n",
      "skipping record wih invalid buffers in snapshot 495671, filename 2018-08-14--12-14-28--702 and camera [0.480000019073486, 1.5, 1.07649993896484]\n",
      "skipping record wih invalid buffers in snapshot 495672, filename 2018-08-14--12-14-29--015 and camera [-0.0599999986588955, 17.5, 25.0764999389648]\n"
     ]
    },
    {
     "name": "stderr",
     "output_type": "stream",
     "text": [
      "\r",
      "                                                                               \r",
      "\r",
      " 34% 2481 |###################                                      |   3.0 B/s"
     ]
    },
    {
     "name": "stdout",
     "output_type": "stream",
     "text": [
      "skipping record wih invalid buffers in snapshot 495673, filename 2018-08-14--12-14-29--430 and camera [-0.0599999986588955, 1.5, 1.07649993896484]\n"
     ]
    },
    {
     "name": "stderr",
     "output_type": "stream",
     "text": [
      " 36% 2669 |####################                                     |   3.0 B/s"
     ]
    },
    {
     "name": "stdout",
     "output_type": "stream",
     "text": [
      "skipping record wih invalid buffers in snapshot 495862, filename 2018-08-14--12-15-36--505 and camera [-0.0599999986588955, 17.5, 25.0764999389648]\n"
     ]
    },
    {
     "name": "stderr",
     "output_type": "stream",
     "text": [
      "\r",
      "                                                                               \r",
      "\r",
      " 36% 2671 |####################                                     |   3.0 B/s"
     ]
    },
    {
     "name": "stdout",
     "output_type": "stream",
     "text": [
      "skipping record wih invalid buffers in snapshot 495863, filename 2018-08-14--12-15-36--949 and camera [-0.0599999986588955, 1.5, 1.07649993896484]\n"
     ]
    },
    {
     "name": "stderr",
     "output_type": "stream",
     "text": [
      "\r",
      "                                                                               \r",
      "\r",
      " 36% 2672 |#####################                                    |   3.0 B/s"
     ]
    },
    {
     "name": "stdout",
     "output_type": "stream",
     "text": [
      "skipping record wih invalid buffers in snapshot 495864, filename 2018-08-14--12-15-37--289 and camera [15.9399995803833, 17.5, 6.07649993896484]\n"
     ]
    },
    {
     "name": "stderr",
     "output_type": "stream",
     "text": [
      "\r",
      "                                                                               \r",
      "\r",
      " 36% 2673 |#####################                                    |   3.0 B/s"
     ]
    },
    {
     "name": "stdout",
     "output_type": "stream",
     "text": [
      "skipping record wih invalid buffers in snapshot 495866, filename 2018-08-14--12-15-37--885 and camera [-16.0599994659424, 17.5, 6.07649993896484]\n",
      "skipping record wih invalid buffers in snapshot 495865, filename 2018-08-14--12-15-37--570 and camera [-0.0599999986588955, 33.5, 6.07649993896484]\n"
     ]
    },
    {
     "name": "stderr",
     "output_type": "stream",
     "text": [
      "\r",
      "                                                                               \r",
      "\r",
      " 36% 2675 |#####################                                    |   3.0 B/s"
     ]
    },
    {
     "name": "stdout",
     "output_type": "stream",
     "text": [
      "skipping record wih invalid buffers in snapshot 495867, filename 2018-08-14--12-15-38--212 and camera [0.480000019073486, 1.5, 1.07649993896484]\n",
      "skipping record wih invalid buffers in snapshot 495869, filename 2018-08-14--12-15-38--940 and camera [-0.0599999986588955, 1.5, 1.07649993896484]\n",
      "skipping record wih invalid buffers in snapshot 495868, filename 2018-08-14--12-15-38--489 and camera [-0.0599999986588955, 17.5, 25.0764999389648]\n"
     ]
    },
    {
     "name": "stderr",
     "output_type": "stream",
     "text": [
      " 36% 2679 |#####################                                    |   3.0 B/s"
     ]
    },
    {
     "name": "stdout",
     "output_type": "stream",
     "text": [
      "skipping record wih invalid buffers in snapshot 495870, filename 2018-08-14--12-15-39--243 and camera [15.9399995803833, 17.5, 6.07649993896484]\n",
      "skipping record wih invalid buffers in snapshot 495871, filename 2018-08-14--12-15-39--519 and camera [-0.0599999986588955, 33.5, 6.07649993896484]\n"
     ]
    },
    {
     "name": "stderr",
     "output_type": "stream",
     "text": [
      "\r",
      "                                                                               \r",
      "\r",
      " 36% 2680 |#####################                                    |   3.0 B/s"
     ]
    },
    {
     "name": "stdout",
     "output_type": "stream",
     "text": [
      "skipping record wih invalid buffers in snapshot 495872, filename 2018-08-14--12-15-39--840 and camera [-16.0599994659424, 17.5, 6.07649993896484]\n"
     ]
    },
    {
     "name": "stderr",
     "output_type": "stream",
     "text": [
      "\r",
      "                                                                               \r",
      "\r",
      " 36% 2681 |#####################                                    |   3.0 B/s"
     ]
    },
    {
     "name": "stdout",
     "output_type": "stream",
     "text": [
      "skipping record wih invalid buffers in snapshot 495874, filename 2018-08-14--12-15-40--433 and camera [-0.0599999986588955, 17.5, 25.0764999389648]\n",
      "skipping record wih invalid buffers in snapshot 495873, filename 2018-08-14--12-15-40--155 and camera [0.480000019073486, 1.5, 1.07649993896484]\n",
      "skipping record wih invalid buffers in snapshot 495875, filename 2018-08-14--12-15-40--904 and camera [-0.0599999986588955, 1.5, 1.07649993896484]\n"
     ]
    },
    {
     "name": "stderr",
     "output_type": "stream",
     "text": [
      "\r",
      "                                                                               \r",
      "\r",
      " 37% 2684 |#####################                                    |   3.0 B/s"
     ]
    },
    {
     "name": "stdout",
     "output_type": "stream",
     "text": [
      "skipping record wih invalid buffers in snapshot 495876, filename 2018-08-14--12-15-41--213 and camera [15.9399995803833, 17.5, 6.07649993896484]\n"
     ]
    },
    {
     "name": "stderr",
     "output_type": "stream",
     "text": [
      "\r",
      "                                                                               \r",
      "\r",
      " 37% 2685 |#####################                                    |   3.0 B/s"
     ]
    },
    {
     "name": "stdout",
     "output_type": "stream",
     "text": [
      "skipping record wih invalid buffers in snapshot 495877, filename 2018-08-14--12-15-41--491 and camera [-0.0599999986588955, 33.5, 6.07649993896484]\n"
     ]
    },
    {
     "name": "stderr",
     "output_type": "stream",
     "text": [
      "\r",
      "                                                                               \r",
      "\r",
      " 37% 2686 |#####################                                    |   3.0 B/s"
     ]
    },
    {
     "name": "stdout",
     "output_type": "stream",
     "text": [
      "skipping record wih invalid buffers in snapshot 495878, filename 2018-08-14--12-15-41--870 and camera [-16.0599994659424, 17.5, 6.07649993896484]\n"
     ]
    },
    {
     "name": "stderr",
     "output_type": "stream",
     "text": [
      " 37% 2688 |#####################                                    |   3.0 B/s"
     ]
    },
    {
     "name": "stdout",
     "output_type": "stream",
     "text": [
      "skipping record wih invalid buffers in snapshot 495881, filename 2018-08-14--12-15-42--941 and camera [-0.0599999986588955, 1.5, 1.07649993896484]\n",
      "skipping record wih invalid buffers in snapshot 495880, filename 2018-08-14--12-15-42--520 and camera [-0.0599999986588955, 17.5, 25.0764999389648]\n"
     ]
    },
    {
     "name": "stderr",
     "output_type": "stream",
     "text": [
      " 37% 2690 |#####################                                    |   3.0 B/s"
     ]
    },
    {
     "name": "stdout",
     "output_type": "stream",
     "text": [
      "skipping record wih invalid buffers in snapshot 495879, filename 2018-08-14--12-15-42--192 and camera [0.480000019073486, 1.5, 1.07649993896484]\n",
      "skipping record wih invalid buffers in snapshot 495882, filename 2018-08-14--12-15-43--232 and camera [15.9399995803833, 17.5, 6.07649993896484]\n"
     ]
    },
    {
     "name": "stderr",
     "output_type": "stream",
     "text": [
      "\r",
      "                                                                               \r",
      "\r",
      " 37% 2691 |#####################                                    |   3.0 B/s"
     ]
    },
    {
     "name": "stdout",
     "output_type": "stream",
     "text": [
      "skipping record wih invalid buffers in snapshot 495884, filename 2018-08-14--12-15-43--825 and camera [-16.0599994659424, 17.5, 6.07649993896484]\n",
      "skipping record wih invalid buffers in snapshot 495883, filename 2018-08-14--12-15-43--550 and camera [-0.0599999986588955, 33.5, 6.07649993896484]\n"
     ]
    },
    {
     "name": "stderr",
     "output_type": "stream",
     "text": [
      " 37% 2694 |#####################                                    |   3.0 B/s"
     ]
    },
    {
     "name": "stdout",
     "output_type": "stream",
     "text": [
      "skipping record wih invalid buffers in snapshot 495885, filename 2018-08-14--12-15-44--150 and camera [0.480000019073486, 1.5, 1.07649993896484]\n",
      "skipping record wih invalid buffers in snapshot 495886, filename 2018-08-14--12-15-44--478 and camera [-0.0599999986588955, 17.5, 25.0764999389648]\n"
     ]
    },
    {
     "name": "stderr",
     "output_type": "stream",
     "text": [
      " 37% 2696 |#####################                                    |   3.0 B/s"
     ]
    },
    {
     "name": "stdout",
     "output_type": "stream",
     "text": [
      "skipping record wih invalid buffers in snapshot 495888, filename 2018-08-14--12-15-45--235 and camera [15.9399995803833, 17.5, 6.07649993896484]\n",
      "skipping record wih invalid buffers in snapshot 495887, filename 2018-08-14--12-15-44--960 and camera [-0.0599999986588955, 1.5, 1.07649993896484]\n"
     ]
    },
    {
     "name": "stderr",
     "output_type": "stream",
     "text": [
      " 37% 2698 |#####################                                    |   3.0 B/s"
     ]
    },
    {
     "name": "stdout",
     "output_type": "stream",
     "text": [
      "skipping record wih invalid buffers in snapshot 495890, filename 2018-08-14--12-15-45--882 and camera [-16.0599994659424, 17.5, 6.07649993896484]\n",
      "skipping record wih invalid buffers in snapshot 495889, filename 2018-08-14--12-15-45--538 and camera [-0.0599999986588955, 33.5, 6.07649993896484]\n"
     ]
    },
    {
     "name": "stderr",
     "output_type": "stream",
     "text": [
      "\r",
      "                                                                               \r",
      "\r",
      " 37% 2699 |#####################                                    |   3.0 B/s"
     ]
    },
    {
     "name": "stdout",
     "output_type": "stream",
     "text": [
      "skipping record wih invalid buffers in snapshot 495891, filename 2018-08-14--12-15-46--143 and camera [0.480000019073486, 1.5, 1.07649993896484]\n"
     ]
    },
    {
     "name": "stderr",
     "output_type": "stream",
     "text": [
      "\r",
      "                                                                               \r",
      "\r",
      " 37% 2700 |#####################                                    |   3.0 B/s"
     ]
    },
    {
     "name": "stdout",
     "output_type": "stream",
     "text": [
      "skipping record wih invalid buffers in snapshot 495892, filename 2018-08-14--12-15-46--468 and camera [-0.0599999986588955, 17.5, 25.0764999389648]\n"
     ]
    },
    {
     "name": "stderr",
     "output_type": "stream",
     "text": [
      " 37% 2703 |#####################                                    |   3.0 B/s"
     ]
    },
    {
     "name": "stdout",
     "output_type": "stream",
     "text": [
      "skipping record wih invalid buffers in snapshot 495894, filename 2018-08-14--12-15-47--401 and camera [15.9399995803833, 17.5, 6.07649993896484]skipping record wih invalid buffers in snapshot 495893, filename 2018-08-14--12-15-46--924 and camera [-0.0599999986588955, 1.5, 1.07649993896484]\n",
      "\n",
      "skipping record wih invalid buffers in snapshot 495896, filename 2018-08-14--12-15-48--038 and camera [-16.0599994659424, 17.5, 6.07649993896484]\n"
     ]
    },
    {
     "name": "stderr",
     "output_type": "stream",
     "text": [
      "\r",
      "                                                                               \r",
      "\r",
      " 37% 2704 |#####################                                    |   3.0 B/s"
     ]
    },
    {
     "name": "stdout",
     "output_type": "stream",
     "text": [
      "skipping record wih invalid buffers in snapshot 495895, filename 2018-08-14--12-15-47--704 and camera [-0.0599999986588955, 33.5, 6.07649993896484]\n"
     ]
    },
    {
     "name": "stderr",
     "output_type": "stream",
     "text": [
      "\r",
      "                                                                               \r",
      "\r",
      " 37% 2705 |#####################                                    |   3.0 B/s"
     ]
    },
    {
     "name": "stdout",
     "output_type": "stream",
     "text": [
      "skipping record wih invalid buffers in snapshot 495897, filename 2018-08-14--12-15-48--373 and camera [0.480000019073486, 1.5, 1.07649993896484]\n",
      "skipping record wih invalid buffers in snapshot 495898, filename 2018-08-14--12-15-48--654 and camera [-0.0599999986588955, 17.5, 25.0764999389648]\n"
     ]
    },
    {
     "name": "stderr",
     "output_type": "stream",
     "text": [
      " 37% 2708 |#####################                                    |   3.0 B/s"
     ]
    },
    {
     "name": "stdout",
     "output_type": "stream",
     "text": [
      "skipping record wih invalid buffers in snapshot 495900, filename 2018-08-14--12-15-49--414 and camera [15.9399995803833, 17.5, 6.07649993896484]\n",
      "skipping record wih invalid buffers in snapshot 495899, filename 2018-08-14--12-15-49--088 and camera [-0.0599999986588955, 1.5, 1.07649993896484]\n"
     ]
    },
    {
     "name": "stderr",
     "output_type": "stream",
     "text": [
      "\r",
      "                                                                               \r",
      "\r",
      " 37% 2710 |#####################                                    |   3.0 B/s"
     ]
    },
    {
     "name": "stdout",
     "output_type": "stream",
     "text": [
      "skipping record wih invalid buffers in snapshot 495901, filename 2018-08-14--12-15-49--688 and camera [-0.0599999986588955, 33.5, 6.07649993896484]\n",
      "skipping record wih invalid buffers in snapshot 495902, filename 2018-08-14--12-15-50--024 and camera [-16.0599994659424, 17.5, 6.07649993896484]\n"
     ]
    },
    {
     "name": "stderr",
     "output_type": "stream",
     "text": [
      " 37% 2712 |#####################                                    |   3.0 B/s"
     ]
    },
    {
     "name": "stdout",
     "output_type": "stream",
     "text": [
      "skipping record wih invalid buffers in snapshot 495904, filename 2018-08-14--12-15-50--626 and camera [-0.0599999986588955, 17.5, 25.0764999389648]\n",
      "skipping record wih invalid buffers in snapshot 495903, filename 2018-08-14--12-15-50--338 and camera [0.480000019073486, 1.5, 1.07649993896484]\n"
     ]
    },
    {
     "name": "stderr",
     "output_type": "stream",
     "text": [
      " 37% 2714 |#####################                                    |   3.0 B/s"
     ]
    },
    {
     "name": "stdout",
     "output_type": "stream",
     "text": [
      "skipping record wih invalid buffers in snapshot 495906, filename 2018-08-14--12-15-51--507 and camera [15.9399995803833, 17.5, 6.07649993896484]\n",
      "skipping record wih invalid buffers in snapshot 495905, filename 2018-08-14--12-15-51--139 and camera [-0.0599999986588955, 1.5, 1.07649993896484]\n"
     ]
    },
    {
     "name": "stderr",
     "output_type": "stream",
     "text": [
      "\r",
      "                                                                               \r",
      "\r",
      " 37% 2715 |#####################                                    |   3.0 B/s"
     ]
    },
    {
     "name": "stdout",
     "output_type": "stream",
     "text": [
      "skipping record wih invalid buffers in snapshot 495907, filename 2018-08-14--12-15-51--801 and camera [-0.0599999986588955, 33.5, 6.07649993896484]\n",
      "skipping record wih invalid buffers in snapshot 495908, filename 2018-08-14--12-15-52--119 and camera [-16.0599994659424, 17.5, 6.07649993896484]\n"
     ]
    },
    {
     "name": "stderr",
     "output_type": "stream",
     "text": [
      "\r",
      "                                                                               \r",
      "\r",
      " 37% 2717 |#####################                                    |   3.0 B/s"
     ]
    },
    {
     "name": "stdout",
     "output_type": "stream",
     "text": [
      "skipping record wih invalid buffers in snapshot 495909, filename 2018-08-14--12-15-52--461 and camera [0.480000019073486, 1.5, 1.07649993896484]\n"
     ]
    },
    {
     "name": "stderr",
     "output_type": "stream",
     "text": [
      "\r",
      "                                                                               \r",
      "\r",
      " 37% 2718 |#####################                                    |   3.0 B/s"
     ]
    },
    {
     "name": "stdout",
     "output_type": "stream",
     "text": [
      "skipping record wih invalid buffers in snapshot 495910, filename 2018-08-14--12-15-52--808 and camera [-0.0599999986588955, 17.5, 25.0764999389648]\n"
     ]
    },
    {
     "name": "stderr",
     "output_type": "stream",
     "text": [
      "\r",
      "                                                                               \r",
      "\r",
      " 37% 2719 |#####################                                    |   3.0 B/s"
     ]
    },
    {
     "name": "stdout",
     "output_type": "stream",
     "text": [
      "skipping record wih invalid buffers in snapshot 495911, filename 2018-08-14--12-15-53--247 and camera [-0.0599999986588955, 1.5, 1.07649993896484]\n"
     ]
    },
    {
     "name": "stderr",
     "output_type": "stream",
     "text": [
      "\r",
      "                                                                               \r",
      "\r",
      " 37% 2720 |#####################                                    |   3.0 B/s"
     ]
    },
    {
     "name": "stdout",
     "output_type": "stream",
     "text": [
      "skipping record wih invalid buffers in snapshot 495913, filename 2018-08-14--12-15-53--867 and camera [-0.0599999986588955, 33.5, 6.07649993896484]\n",
      "skipping record wih invalid buffers in snapshot 495914, filename 2018-08-14--12-15-54--141 and camera [-16.0599994659424, 17.5, 6.07649993896484]\n",
      "skipping record wih invalid buffers in snapshot 495912, filename 2018-08-14--12-15-53--550 and camera [15.9399995803833, 17.5, 6.07649993896484]\n"
     ]
    },
    {
     "name": "stderr",
     "output_type": "stream",
     "text": [
      "\r",
      "                                                                               \r",
      "\r",
      " 37% 2723 |#####################                                    |   3.0 B/s"
     ]
    },
    {
     "name": "stdout",
     "output_type": "stream",
     "text": [
      "skipping record wih invalid buffers in snapshot 495915, filename 2018-08-14--12-15-54--457 and camera [0.480000019073486, 1.5, 1.07649993896484]\n"
     ]
    },
    {
     "name": "stderr",
     "output_type": "stream",
     "text": [
      " 37% 2725 |#####################                                    |   3.0 B/s"
     ]
    },
    {
     "name": "stdout",
     "output_type": "stream",
     "text": [
      "skipping record wih invalid buffers in snapshot 495916, filename 2018-08-14--12-15-54--746 and camera [-0.0599999986588955, 17.5, 25.0764999389648]\n",
      "skipping record wih invalid buffers in snapshot 495917, filename 2018-08-14--12-15-55--191 and camera [-0.0599999986588955, 1.5, 1.07649993896484]\n"
     ]
    },
    {
     "name": "stderr",
     "output_type": "stream",
     "text": [
      "\r",
      "                                                                               \r",
      "\r",
      " 37% 2726 |#####################                                    |   3.0 B/s"
     ]
    },
    {
     "name": "stdout",
     "output_type": "stream",
     "text": [
      "skipping record wih invalid buffers in snapshot 495918, filename 2018-08-14--12-15-55--516 and camera [15.9399995803833, 17.5, 6.07649993896484]\n"
     ]
    },
    {
     "name": "stderr",
     "output_type": "stream",
     "text": [
      "\r",
      "                                                                               \r",
      "\r",
      " 37% 2727 |#####################                                    |   3.0 B/s"
     ]
    },
    {
     "name": "stdout",
     "output_type": "stream",
     "text": [
      "skipping record wih invalid buffers in snapshot 495919, filename 2018-08-14--12-15-55--816 and camera [-0.0599999986588955, 33.5, 6.07649993896484]\n",
      "skipping record wih invalid buffers in snapshot 495921, filename 2018-08-14--12-15-56--487 and camera [0.480000019073486, 1.5, 1.07649993896484]\n",
      "skipping record wih invalid buffers in snapshot 495920, filename 2018-08-14--12-15-56--120 and camera [-16.0599994659424, 17.5, 6.07649993896484]\n"
     ]
    },
    {
     "name": "stderr",
     "output_type": "stream",
     "text": [
      "\r",
      "                                                                               \r",
      "\r",
      " 37% 2730 |#####################                                    |   3.0 B/s"
     ]
    },
    {
     "name": "stdout",
     "output_type": "stream",
     "text": [
      "skipping record wih invalid buffers in snapshot 495922, filename 2018-08-14--12-15-56--767 and camera [-0.0599999986588955, 17.5, 25.0764999389648]\n",
      "skipping record wih invalid buffers in snapshot 495923, filename 2018-08-14--12-15-57--201 and camera [-0.0599999986588955, 1.5, 1.07649993896484]\n"
     ]
    },
    {
     "name": "stderr",
     "output_type": "stream",
     "text": [
      "\r",
      "                                                                               \r",
      "\r",
      " 37% 2732 |#####################                                    |   3.0 B/s"
     ]
    },
    {
     "name": "stdout",
     "output_type": "stream",
     "text": [
      "skipping record wih invalid buffers in snapshot 495924, filename 2018-08-14--12-15-57--520 and camera [15.9399995803833, 17.5, 6.07649993896484]\n"
     ]
    },
    {
     "name": "stderr",
     "output_type": "stream",
     "text": [
      " 37% 2735 |#####################                                    |   3.0 B/s"
     ]
    },
    {
     "name": "stdout",
     "output_type": "stream",
     "text": [
      "skipping record wih invalid buffers in snapshot 495927, filename 2018-08-14--12-15-58--485 and camera [0.480000019073486, 1.5, 1.07649993896484]\n",
      "skipping record wih invalid buffers in snapshot 495925, filename 2018-08-14--12-15-57--854 and camera [-0.0599999986588955, 33.5, 6.07649993896484]\n",
      "skipping record wih invalid buffers in snapshot 495926, filename 2018-08-14--12-15-58--150 and camera [-16.0599994659424, 17.5, 6.07649993896484]\n"
     ]
    },
    {
     "name": "stderr",
     "output_type": "stream",
     "text": [
      "\r",
      "                                                                               \r",
      "\r",
      " 37% 2736 |#####################                                    |   3.0 B/s"
     ]
    },
    {
     "name": "stdout",
     "output_type": "stream",
     "text": [
      "skipping record wih invalid buffers in snapshot 495928, filename 2018-08-14--12-15-58--833 and camera [-0.0599999986588955, 17.5, 25.0764999389648]\n",
      "skipping record wih invalid buffers in snapshot 495929, filename 2018-08-14--12-15-59--336 and camera [-0.0599999986588955, 1.5, 1.07649993896484]\n"
     ]
    },
    {
     "name": "stderr",
     "output_type": "stream",
     "text": [
      "\r",
      "                                                                               \r",
      "\r",
      " 37% 2738 |#####################                                    |   3.0 B/s"
     ]
    },
    {
     "name": "stdout",
     "output_type": "stream",
     "text": [
      "skipping record wih invalid buffers in snapshot 495930, filename 2018-08-14--12-15-59--603 and camera [15.9399995803833, 17.5, 6.07649993896484]\n"
     ]
    },
    {
     "name": "stderr",
     "output_type": "stream",
     "text": [
      "\r",
      "                                                                               \r",
      "\r",
      " 37% 2739 |#####################                                    |   3.0 B/s"
     ]
    },
    {
     "name": "stdout",
     "output_type": "stream",
     "text": [
      "skipping record wih invalid buffers in snapshot 495931, filename 2018-08-14--12-15-59--895 and camera [-0.0599999986588955, 33.5, 6.07649993896484]\n",
      "skipping record wih invalid buffers in snapshot 495932, filename 2018-08-14--12-16-00--239 and camera [-16.0599994659424, 17.5, 6.07649993896484]\n"
     ]
    },
    {
     "name": "stderr",
     "output_type": "stream",
     "text": [
      " 37% 2742 |#####################                                    |   3.0 B/s"
     ]
    },
    {
     "name": "stdout",
     "output_type": "stream",
     "text": [
      "skipping record wih invalid buffers in snapshot 495933, filename 2018-08-14--12-16-00--547 and camera [0.480000019073486, 1.5, 1.07649993896484]\n",
      "skipping record wih invalid buffers in snapshot 495934, filename 2018-08-14--12-16-00--839 and camera [-0.0599999986588955, 17.5, 25.0764999389648]\n"
     ]
    },
    {
     "name": "stderr",
     "output_type": "stream",
     "text": [
      "\r",
      "                                                                               \r",
      "\r",
      " 37% 2743 |#####################                                    |   3.0 B/s"
     ]
    },
    {
     "name": "stdout",
     "output_type": "stream",
     "text": [
      "skipping record wih invalid buffers in snapshot 495935, filename 2018-08-14--12-16-01--295 and camera [-0.0599999986588955, 1.5, 1.07649993896484]\n"
     ]
    },
    {
     "name": "stderr",
     "output_type": "stream",
     "text": [
      " 37% 2745 |#####################                                    |   3.0 B/s"
     ]
    },
    {
     "name": "stdout",
     "output_type": "stream",
     "text": [
      "skipping record wih invalid buffers in snapshot 495936, filename 2018-08-14--12-16-01--615 and camera [15.9399995803833, 17.5, 6.07649993896484]\n",
      "skipping record wih invalid buffers in snapshot 495937, filename 2018-08-14--12-16-01--902 and camera [-0.0599999986588955, 33.5, 6.07649993896484]\n"
     ]
    },
    {
     "name": "stderr",
     "output_type": "stream",
     "text": [
      "\r",
      "                                                                               \r",
      "\r",
      " 37% 2746 |#####################                                    |   3.0 B/s"
     ]
    },
    {
     "name": "stdout",
     "output_type": "stream",
     "text": [
      "skipping record wih invalid buffers in snapshot 495938, filename 2018-08-14--12-16-02--220 and camera [-16.0599994659424, 17.5, 6.07649993896484]\n",
      "skipping record wih invalid buffers in snapshot 495939, filename 2018-08-14--12-16-02--537 and camera [0.480000019073486, 1.5, 1.07649993896484]\n"
     ]
    },
    {
     "name": "stderr",
     "output_type": "stream",
     "text": [
      " 37% 2749 |#####################                                    |   3.0 B/s"
     ]
    },
    {
     "name": "stdout",
     "output_type": "stream",
     "text": [
      "skipping record wih invalid buffers in snapshot 495940, filename 2018-08-14--12-16-02--853 and camera [-0.0599999986588955, 17.5, 25.0764999389648]\n",
      "skipping record wih invalid buffers in snapshot 495941, filename 2018-08-14--12-16-03--266 and camera [-0.0599999986588955, 1.5, 1.07649993896484]\n"
     ]
    },
    {
     "name": "stderr",
     "output_type": "stream",
     "text": [
      " 37% 2751 |#####################                                    |   3.0 B/s"
     ]
    },
    {
     "name": "stdout",
     "output_type": "stream",
     "text": [
      "skipping record wih invalid buffers in snapshot 495942, filename 2018-08-14--12-16-03--583 and camera [15.9399995803833, 17.5, 6.07649993896484]\n",
      "skipping record wih invalid buffers in snapshot 495943, filename 2018-08-14--12-16-03--908 and camera [-0.0599999986588955, 33.5, 6.07649993896484]\n"
     ]
    },
    {
     "name": "stderr",
     "output_type": "stream",
     "text": [
      "\r",
      "                                                                               \r",
      "\r",
      " 37% 2752 |#####################                                    |   3.0 B/s"
     ]
    },
    {
     "name": "stdout",
     "output_type": "stream",
     "text": [
      "skipping record wih invalid buffers in snapshot 495944, filename 2018-08-14--12-16-04--201 and camera [-16.0599994659424, 17.5, 6.07649993896484]\n",
      "skipping record wih invalid buffers in snapshot 495945, filename 2018-08-14--12-16-04--500 and camera [0.480000019073486, 1.5, 1.07649993896484]"
     ]
    },
    {
     "name": "stderr",
     "output_type": "stream",
     "text": [
      "\r",
      "                                                                               \r",
      "\r",
      " 37% 2753 |#####################                                    |   3.0 B/s"
     ]
    },
    {
     "name": "stdout",
     "output_type": "stream",
     "text": [
      "\n",
      "skipping record wih invalid buffers in snapshot 495946, filename 2018-08-14--12-16-04--822 and camera [-0.0599999986588955, 17.5, 25.0764999389648]\n"
     ]
    },
    {
     "name": "stderr",
     "output_type": "stream",
     "text": [
      "\r",
      "                                                                               \r",
      "\r",
      " 38% 2755 |#####################                                    |   3.0 B/s"
     ]
    },
    {
     "name": "stdout",
     "output_type": "stream",
     "text": [
      "skipping record wih invalid buffers in snapshot 495947, filename 2018-08-14--12-16-05--294 and camera [-0.0599999986588955, 1.5, 1.07649993896484]\n"
     ]
    },
    {
     "name": "stderr",
     "output_type": "stream",
     "text": [
      "\r",
      "                                                                               \r",
      "\r",
      " 38% 2756 |#####################                                    |   3.0 B/s"
     ]
    },
    {
     "name": "stdout",
     "output_type": "stream",
     "text": [
      "skipping record wih invalid buffers in snapshot 495948, filename 2018-08-14--12-16-05--582 and camera [15.9399995803833, 17.5, 6.07649993896484]\n"
     ]
    },
    {
     "name": "stderr",
     "output_type": "stream",
     "text": [
      " 38% 2759 |#####################                                    |   3.0 B/s"
     ]
    },
    {
     "name": "stdout",
     "output_type": "stream",
     "text": [
      "skipping record wih invalid buffers in snapshot 495950, filename 2018-08-14--12-16-06--226 and camera [-16.0599994659424, 17.5, 6.07649993896484]\n",
      "skipping record wih invalid buffers in snapshot 495949, filename 2018-08-14--12-16-05--895 and camera [-0.0599999986588955, 33.5, 6.07649993896484]\n",
      "skipping record wih invalid buffers in snapshot 495951, filename 2018-08-14--12-16-06--500 and camera [0.480000019073486, 1.5, 1.07649993896484]\n"
     ]
    },
    {
     "name": "stderr",
     "output_type": "stream",
     "text": [
      " 38% 2761 |#####################                                    |   3.0 B/s"
     ]
    },
    {
     "name": "stdout",
     "output_type": "stream",
     "text": [
      "skipping record wih invalid buffers in snapshot 495952, filename 2018-08-14--12-16-06--794 and camera [-0.0599999986588955, 17.5, 25.0764999389648]\n",
      "skipping record wih invalid buffers in snapshot 495953, filename 2018-08-14--12-16-07--258 and camera [-0.0599999986588955, 1.5, 1.07649993896484]\n"
     ]
    },
    {
     "name": "stderr",
     "output_type": "stream",
     "text": [
      "\r",
      "                                                                               \r",
      "\r",
      " 38% 2762 |#####################                                    |   3.0 B/s"
     ]
    },
    {
     "name": "stdout",
     "output_type": "stream",
     "text": [
      "skipping record wih invalid buffers in snapshot 495954, filename 2018-08-14--12-16-07--576 and camera [15.9399995803833, 17.5, 6.07649993896484]\n",
      "skipping record wih invalid buffers in snapshot 495956, filename 2018-08-14--12-16-08--182 and camera [-16.0599994659424, 17.5, 6.07649993896484]\n"
     ]
    },
    {
     "name": "stderr",
     "output_type": "stream",
     "text": [
      "\r",
      "                                                                               \r",
      "\r",
      " 38% 2764 |#####################                                    |   3.0 B/s"
     ]
    },
    {
     "name": "stdout",
     "output_type": "stream",
     "text": [
      "skipping record wih invalid buffers in snapshot 495955, filename 2018-08-14--12-16-07--857 and camera [-0.0599999986588955, 33.5, 6.07649993896484]\n"
     ]
    },
    {
     "name": "stderr",
     "output_type": "stream",
     "text": [
      " 39% 2893 |######################                                   |   3.0 B/s"
     ]
    },
    {
     "name": "stdout",
     "output_type": "stream",
     "text": [
      "skipping record wih invalid buffers in snapshot 496089, filename 2018-08-14--12-16-56--058 and camera [0.480000019073486, 1.5, 1.07649993896484]\n"
     ]
    },
    {
     "name": "stderr",
     "output_type": "stream",
     "text": [
      " 39% 2896 |######################                                   |   3.0 B/s"
     ]
    },
    {
     "name": "stdout",
     "output_type": "stream",
     "text": [
      "skipping record wih invalid buffers in snapshot 496090, filename 2018-08-14--12-16-56--504 and camera [-0.0599999986588955, 17.5, 25.0764999389648]\n"
     ]
    },
    {
     "name": "stderr",
     "output_type": "stream",
     "text": [
      " 39% 2899 |######################                                   |   3.0 B/s"
     ]
    },
    {
     "name": "stdout",
     "output_type": "stream",
     "text": [
      "skipping record wih invalid buffers in snapshot 496091, filename 2018-08-14--12-16-56--946 and camera [-0.0599999986588955, 1.5, 1.07649993896484]\n"
     ]
    },
    {
     "name": "stderr",
     "output_type": "stream",
     "text": [
      "\r",
      "                                                                               \r",
      "\r",
      " 40% 2900 |######################                                   |   3.0 B/s"
     ]
    },
    {
     "name": "stdout",
     "output_type": "stream",
     "text": [
      "skipping record wih invalid buffers in snapshot 496093, filename 2018-08-14--12-16-57--614 and camera [-0.0599999986588955, 33.5, 6.07649993896484]\n",
      "skipping record wih invalid buffers in snapshot 496092, filename 2018-08-14--12-16-57--243 and camera [15.9399995803833, 17.5, 6.07649993896484]\n"
     ]
    },
    {
     "name": "stderr",
     "output_type": "stream",
     "text": [
      " 40% 2904 |######################                                   |   3.0 B/s"
     ]
    },
    {
     "name": "stdout",
     "output_type": "stream",
     "text": [
      "skipping record wih invalid buffers in snapshot 496094, filename 2018-08-14--12-16-57--882 and camera [-16.0599994659424, 17.5, 6.07649993896484]\n",
      "skipping record wih invalid buffers in snapshot 496096, filename 2018-08-14--12-16-58--550 and camera [-0.0599999986588955, 17.5, 25.0764999389648]\n",
      "skipping record wih invalid buffers in snapshot 496097, filename 2018-08-14--12-16-59--024 and camera [-0.0599999986588955, 1.5, 1.07649993896484]\n"
     ]
    },
    {
     "name": "stderr",
     "output_type": "stream",
     "text": [
      " 40% 2906 |######################                                   |   3.0 B/s"
     ]
    },
    {
     "name": "stdout",
     "output_type": "stream",
     "text": [
      "skipping record wih invalid buffers in snapshot 496099, filename 2018-08-14--12-16-59--610 and camera [-0.0599999986588955, 33.5, 6.07649993896484]\n",
      "skipping record wih invalid buffers in snapshot 496098, filename 2018-08-14--12-16-59--305 and camera [15.9399995803833, 17.5, 6.07649993896484]\n"
     ]
    },
    {
     "name": "stderr",
     "output_type": "stream",
     "text": [
      " 40% 2908 |######################                                   |   3.0 B/s"
     ]
    },
    {
     "name": "stdout",
     "output_type": "stream",
     "text": [
      "skipping record wih invalid buffers in snapshot 496100, filename 2018-08-14--12-16-59--933 and camera [-16.0599994659424, 17.5, 6.07649993896484]\n"
     ]
    },
    {
     "name": "stderr",
     "output_type": "stream",
     "text": [
      "\r",
      "                                                                               \r",
      "\r",
      " 40% 2909 |######################                                   |   3.0 B/s"
     ]
    },
    {
     "name": "stdout",
     "output_type": "stream",
     "text": [
      "skipping record wih invalid buffers in snapshot 496102, filename 2018-08-14--12-17-00--536 and camera [-0.0599999986588955, 17.5, 25.0764999389648]\n",
      "skipping record wih invalid buffers in snapshot 496101, filename 2018-08-14--12-17-00--205 and camera [0.480000019073486, 1.5, 1.07649993896484]\n"
     ]
    },
    {
     "name": "stderr",
     "output_type": "stream",
     "text": [
      "\r",
      "                                                                               \r",
      "\r",
      " 40% 2911 |######################                                   |   3.0 B/s"
     ]
    },
    {
     "name": "stdout",
     "output_type": "stream",
     "text": [
      "skipping record wih invalid buffers in snapshot 496103, filename 2018-08-14--12-17-00--996 and camera [-0.0599999986588955, 1.5, 1.07649993896484]\n"
     ]
    },
    {
     "name": "stderr",
     "output_type": "stream",
     "text": [
      "\r",
      "                                                                               \r",
      "\r",
      " 40% 2912 |######################                                   |   3.0 B/s"
     ]
    },
    {
     "name": "stdout",
     "output_type": "stream",
     "text": [
      "skipping record wih invalid buffers in snapshot 496104, filename 2018-08-14--12-17-01--277 and camera [15.9399995803833, 17.5, 6.07649993896484]\n",
      "skipping record wih invalid buffers in snapshot 496105, filename 2018-08-14--12-17-01--622 and camera [-0.0599999986588955, 33.5, 6.07649993896484]\n",
      "skipping record wih invalid buffers in snapshot 496106, filename 2018-08-14--12-17-01--939 and camera [-16.0599994659424, 17.5, 6.07649993896484]\n"
     ]
    },
    {
     "name": "stderr",
     "output_type": "stream",
     "text": [
      " 40% 2915 |######################                                   |   3.0 B/s"
     ]
    },
    {
     "name": "stdout",
     "output_type": "stream",
     "text": [
      "skipping record wih invalid buffers in snapshot 496108, filename 2018-08-14--12-17-02--537 and camera [-0.0599999986588955, 17.5, 25.0764999389648]\n",
      "skipping record wih invalid buffers in snapshot 496107, filename 2018-08-14--12-17-02--234 and camera [0.480000019073486, 1.5, 1.07649993896484]\n"
     ]
    },
    {
     "name": "stderr",
     "output_type": "stream",
     "text": [
      "\r",
      "                                                                               \r",
      "\r",
      " 40% 2917 |######################                                   |   3.0 B/s"
     ]
    },
    {
     "name": "stdout",
     "output_type": "stream",
     "text": [
      "skipping record wih invalid buffers in snapshot 496109, filename 2018-08-14--12-17-03--012 and camera [-0.0599999986588955, 1.5, 1.07649993896484]\n"
     ]
    },
    {
     "name": "stderr",
     "output_type": "stream",
     "text": [
      " 40% 2920 |######################                                   |   3.0 B/s"
     ]
    },
    {
     "name": "stdout",
     "output_type": "stream",
     "text": [
      "skipping record wih invalid buffers in snapshot 496110, filename 2018-08-14--12-17-03--299 and camera [15.9399995803833, 17.5, 6.07649993896484]\n",
      "skipping record wih invalid buffers in snapshot 496111, filename 2018-08-14--12-17-03--616 and camera [-0.0599999986588955, 33.5, 6.07649993896484]\n",
      "skipping record wih invalid buffers in snapshot 496112, filename 2018-08-14--12-17-03--941 and camera [-16.0599994659424, 17.5, 6.07649993896484]\n"
     ]
    },
    {
     "name": "stderr",
     "output_type": "stream",
     "text": [
      " 40% 2922 |######################                                   |   3.0 B/s"
     ]
    },
    {
     "name": "stdout",
     "output_type": "stream",
     "text": [
      "skipping record wih invalid buffers in snapshot 496114, filename 2018-08-14--12-17-04--571 and camera [-0.0599999986588955, 17.5, 25.0764999389648]\n",
      "skipping record wih invalid buffers in snapshot 496113, filename 2018-08-14--12-17-04--287 and camera [0.480000019073486, 1.5, 1.07649993896484]\n"
     ]
    },
    {
     "name": "stderr",
     "output_type": "stream",
     "text": [
      "\r",
      "                                                                               \r",
      "\r",
      " 40% 2923 |######################                                   |   3.0 B/s"
     ]
    },
    {
     "name": "stdout",
     "output_type": "stream",
     "text": [
      "skipping record wih invalid buffers in snapshot 496115, filename 2018-08-14--12-17-05--037 and camera [-0.0599999986588955, 1.5, 1.07649993896484]\n"
     ]
    },
    {
     "name": "stderr",
     "output_type": "stream",
     "text": [
      " 40% 2925 |######################                                   |   3.0 B/s"
     ]
    },
    {
     "name": "stdout",
     "output_type": "stream",
     "text": [
      "skipping record wih invalid buffers in snapshot 496116, filename 2018-08-14--12-17-05--360 and camera [15.9399995803833, 17.5, 6.07649993896484]\n",
      "skipping record wih invalid buffers in snapshot 496117, filename 2018-08-14--12-17-05--649 and camera [-0.0599999986588955, 33.5, 6.07649993896484]\n"
     ]
    },
    {
     "name": "stderr",
     "output_type": "stream",
     "text": [
      "\r",
      "                                                                               \r",
      "\r",
      " 40% 2926 |#######################                                  |   3.0 B/s"
     ]
    },
    {
     "name": "stdout",
     "output_type": "stream",
     "text": [
      "skipping record wih invalid buffers in snapshot 496120, filename 2018-08-14--12-17-06--600 and camera [-0.0599999986588955, 17.5, 25.0764999389648]\n",
      "skipping record wih invalid buffers in snapshot 496118, filename 2018-08-14--12-17-05--969 and camera [-16.0599994659424, 17.5, 6.07649993896484]\n",
      "skipping record wih invalid buffers in snapshot 496119, filename 2018-08-14--12-17-06--320 and camera [0.480000019073486, 1.5, 1.07649993896484]\n"
     ]
    },
    {
     "name": "stderr",
     "output_type": "stream",
     "text": [
      "\r",
      "                                                                               \r",
      "\r",
      " 40% 2929 |#######################                                  |   3.0 B/s"
     ]
    },
    {
     "name": "stdout",
     "output_type": "stream",
     "text": [
      "skipping record wih invalid buffers in snapshot 496121, filename 2018-08-14--12-17-07--026 and camera [-0.0599999986588955, 1.5, 1.07649993896484]\n"
     ]
    },
    {
     "name": "stderr",
     "output_type": "stream",
     "text": [
      "\r",
      "                                                                               \r",
      "\r",
      " 40% 2930 |#######################                                  |   3.0 B/s"
     ]
    },
    {
     "name": "stdout",
     "output_type": "stream",
     "text": [
      "skipping record wih invalid buffers in snapshot 496122, filename 2018-08-14--12-17-07--327 and camera [15.9399995803833, 17.5, 6.07649993896484]\n"
     ]
    },
    {
     "name": "stderr",
     "output_type": "stream",
     "text": [
      "\r",
      "                                                                               \r",
      "\r",
      " 40% 2931 |#######################                                  |   3.0 B/s"
     ]
    },
    {
     "name": "stdout",
     "output_type": "stream",
     "text": [
      "skipping record wih invalid buffers in snapshot 496123, filename 2018-08-14--12-17-07--675 and camera [-0.0599999986588955, 33.5, 6.07649993896484]\n"
     ]
    },
    {
     "name": "stderr",
     "output_type": "stream",
     "text": [
      " 40% 2934 |#######################                                  |   3.0 B/s"
     ]
    },
    {
     "name": "stdout",
     "output_type": "stream",
     "text": [
      "skipping record wih invalid buffers in snapshot 496126, filename 2018-08-14--12-17-08--575 and camera [-0.0599999986588955, 17.5, 25.0764999389648]\n",
      "skipping record wih invalid buffers in snapshot 496125, filename 2018-08-14--12-17-08--241 and camera [0.480000019073486, 1.5, 1.07649993896484]\n",
      "skipping record wih invalid buffers in snapshot 496124, filename 2018-08-14--12-17-07--942 and camera [-16.0599994659424, 17.5, 6.07649993896484]\n",
      "skipping record wih invalid buffers in snapshot 496127, filename 2018-08-14--12-17-09--052 and camera [-0.0599999986588955, 1.5, 1.07649993896484]\n"
     ]
    },
    {
     "name": "stderr",
     "output_type": "stream",
     "text": [
      " 40% 2937 |#######################                                  |   3.0 B/s"
     ]
    },
    {
     "name": "stdout",
     "output_type": "stream",
     "text": [
      "skipping record wih invalid buffers in snapshot 496128, filename 2018-08-14--12-17-09--325 and camera [15.9399995803833, 17.5, 6.07649993896484]\n",
      "skipping record wih invalid buffers in snapshot 496129, filename 2018-08-14--12-17-09--638 and camera [-0.0599999986588955, 33.5, 6.07649993896484]\n"
     ]
    },
    {
     "name": "stderr",
     "output_type": "stream",
     "text": [
      "\r",
      "                                                                               \r",
      "\r",
      " 40% 2938 |#######################                                  |   3.0 B/s"
     ]
    },
    {
     "name": "stdout",
     "output_type": "stream",
     "text": [
      "skipping record wih invalid buffers in snapshot 496130, filename 2018-08-14--12-17-09--957 and camera [-16.0599994659424, 17.5, 6.07649993896484]\n"
     ]
    },
    {
     "name": "stderr",
     "output_type": "stream",
     "text": [
      "\r",
      "                                                                               \r",
      "\r",
      " 40% 2939 |#######################                                  |   3.0 B/s"
     ]
    },
    {
     "name": "stdout",
     "output_type": "stream",
     "text": [
      "skipping record wih invalid buffers in snapshot 496132, filename 2018-08-14--12-17-10--549 and camera [-0.0599999986588955, 17.5, 25.0764999389648]\n",
      "skipping record wih invalid buffers in snapshot 496131, filename 2018-08-14--12-17-10--235 and camera [0.480000019073486, 1.5, 1.07649993896484]\n",
      "skipping record wih invalid buffers in snapshot 496133, filename 2018-08-14--12-17-11--016 and camera [-0.0599999986588955, 1.5, 1.07649993896484]\n"
     ]
    },
    {
     "name": "stderr",
     "output_type": "stream",
     "text": [
      "\r",
      "                                                                               \r",
      "\r",
      " 40% 2942 |#######################                                  |   3.0 B/s"
     ]
    },
    {
     "name": "stdout",
     "output_type": "stream",
     "text": [
      "skipping record wih invalid buffers in snapshot 496135, filename 2018-08-14--12-17-11--629 and camera [-0.0599999986588955, 33.5, 6.07649993896484]\n",
      "skipping record wih invalid buffers in snapshot 496134, filename 2018-08-14--12-17-11--331 and camera [15.9399995803833, 17.5, 6.07649993896484]\n"
     ]
    },
    {
     "name": "stderr",
     "output_type": "stream",
     "text": [
      "\r",
      "                                                                               \r",
      "\r",
      " 40% 2944 |#######################                                  |   3.0 B/s"
     ]
    },
    {
     "name": "stdout",
     "output_type": "stream",
     "text": [
      "skipping record wih invalid buffers in snapshot 496136, filename 2018-08-14--12-17-12--011 and camera [-16.0599994659424, 17.5, 6.07649993896484]\n"
     ]
    },
    {
     "name": "stderr",
     "output_type": "stream",
     "text": [
      "\r",
      "                                                                               \r",
      "\r",
      " 40% 2945 |#######################                                  |   3.0 B/s"
     ]
    },
    {
     "name": "stdout",
     "output_type": "stream",
     "text": [
      "skipping record wih invalid buffers in snapshot 496138, filename 2018-08-14--12-17-12--611 and camera [-0.0599999986588955, 17.5, 25.0764999389648]\n"
     ]
    },
    {
     "name": "stderr",
     "output_type": "stream",
     "text": [
      " 40% 2949 |#######################                                  |   3.0 B/s"
     ]
    },
    {
     "name": "stdout",
     "output_type": "stream",
     "text": [
      "skipping record wih invalid buffers in snapshot 496139, filename 2018-08-14--12-17-13--086 and camera [-0.0599999986588955, 1.5, 1.07649993896484]\n",
      "skipping record wih invalid buffers in snapshot 496137, filename 2018-08-14--12-17-12--333 and camera [0.480000019073486, 1.5, 1.07649993896484]\n",
      "skipping record wih invalid buffers in snapshot 496141, filename 2018-08-14--12-17-13--684 and camera [-0.0599999986588955, 33.5, 6.07649993896484]\n",
      "skipping record wih invalid buffers in snapshot 496140, filename 2018-08-14--12-17-13--403 and camera [15.9399995803833, 17.5, 6.07649993896484]\n"
     ]
    },
    {
     "name": "stderr",
     "output_type": "stream",
     "text": [
      "\r",
      "                                                                               \r",
      "\r",
      " 40% 2950 |#######################                                  |   3.0 B/s"
     ]
    },
    {
     "name": "stdout",
     "output_type": "stream",
     "text": [
      "skipping record wih invalid buffers in snapshot 496142, filename 2018-08-14--12-17-14--025 and camera [-16.0599994659424, 17.5, 6.07649993896484]\n"
     ]
    },
    {
     "name": "stderr",
     "output_type": "stream",
     "text": [
      "\r",
      "                                                                               \r",
      "\r",
      " 40% 2951 |#######################                                  |   3.0 B/s"
     ]
    },
    {
     "name": "stdout",
     "output_type": "stream",
     "text": [
      "skipping record wih invalid buffers in snapshot 496143, filename 2018-08-14--12-17-14--348 and camera [0.480000019073486, 1.5, 1.07649993896484]\n"
     ]
    },
    {
     "name": "stderr",
     "output_type": "stream",
     "text": [
      " 40% 2953 |#######################                                  |   3.0 B/s"
     ]
    },
    {
     "name": "stdout",
     "output_type": "stream",
     "text": [
      "skipping record wih invalid buffers in snapshot 496145, filename 2018-08-14--12-17-15--107 and camera [-0.0599999986588955, 1.5, 1.07649993896484]\n",
      "skipping record wih invalid buffers in snapshot 496144, filename 2018-08-14--12-17-14--674 and camera [-0.0599999986588955, 17.5, 25.0764999389648]\n",
      "skipping record wih invalid buffers in snapshot 496146, filename 2018-08-14--12-17-15--402 and camera [15.9399995803833, 17.5, 6.07649993896484]\n",
      "skipping record wih invalid buffers in snapshot 496148, filename 2018-08-14--12-17-16--012 and camera [-16.0599994659424, 17.5, 6.07649993896484]\n",
      "skipping record wih invalid buffers in snapshot 496147, filename 2018-08-14--12-17-15--733 and camera [-0.0599999986588955, 33.5, 6.07649993896484]\n"
     ]
    },
    {
     "name": "stderr",
     "output_type": "stream",
     "text": [
      "\r",
      "                                                                               \r",
      "\r",
      " 40% 2957 |#######################                                  |   3.0 B/s"
     ]
    },
    {
     "name": "stdout",
     "output_type": "stream",
     "text": [
      "skipping record wih invalid buffers in snapshot 496149, filename 2018-08-14--12-17-16--340 and camera [0.480000019073486, 1.5, 1.07649993896484]\n"
     ]
    },
    {
     "name": "stderr",
     "output_type": "stream",
     "text": [
      " 40% 2959 |#######################                                  |   3.0 B/s"
     ]
    },
    {
     "name": "stdout",
     "output_type": "stream",
     "text": [
      "skipping record wih invalid buffers in snapshot 496150, filename 2018-08-14--12-17-16--651 and camera [-0.0599999986588955, 17.5, 25.0764999389648]\n",
      "skipping record wih invalid buffers in snapshot 496151, filename 2018-08-14--12-17-17--131 and camera [-0.0599999986588955, 1.5, 1.07649993896484]\n"
     ]
    },
    {
     "name": "stderr",
     "output_type": "stream",
     "text": [
      "\r",
      "                                                                               \r",
      "\r",
      " 40% 2960 |#######################                                  |   3.0 B/s"
     ]
    },
    {
     "name": "stdout",
     "output_type": "stream",
     "text": [
      "skipping record wih invalid buffers in snapshot 496154, filename 2018-08-14--12-17-18--073 and camera [-16.0599994659424, 17.5, 6.07649993896484]\n",
      "skipping record wih invalid buffers in snapshot 496153, filename 2018-08-14--12-17-17--755 and camera [-0.0599999986588955, 33.5, 6.07649993896484]\n",
      "skipping record wih invalid buffers in snapshot 496152, filename 2018-08-14--12-17-17--456 and camera [15.9399995803833, 17.5, 6.07649993896484]\n"
     ]
    },
    {
     "name": "stderr",
     "output_type": "stream",
     "text": [
      "\r",
      "                                                                               \r",
      "\r",
      " 40% 2963 |#######################                                  |   3.0 B/s"
     ]
    },
    {
     "name": "stdout",
     "output_type": "stream",
     "text": [
      "skipping record wih invalid buffers in snapshot 496155, filename 2018-08-14--12-17-18--411 and camera [0.480000019073486, 1.5, 1.07649993896484]\n"
     ]
    },
    {
     "name": "stderr",
     "output_type": "stream",
     "text": [
      "\r",
      "                                                                               \r",
      "\r",
      " 40% 2964 |#######################                                  |   3.0 B/s"
     ]
    },
    {
     "name": "stdout",
     "output_type": "stream",
     "text": [
      "skipping record wih invalid buffers in snapshot 496156, filename 2018-08-14--12-17-18--695 and camera [-0.0599999986588955, 17.5, 25.0764999389648]\n"
     ]
    },
    {
     "name": "stderr",
     "output_type": "stream",
     "text": [
      " 60% 4399 |##################################                       |   3.0 B/s"
     ]
    },
    {
     "name": "stdout",
     "output_type": "stream",
     "text": [
      "skipping record wih invalid buffers in snapshot 497591, filename 2018-08-14--12-25-46--169 and camera [15.9399995803833, 17.5, 6.07649993896484]\n"
     ]
    },
    {
     "name": "stderr",
     "output_type": "stream",
     "text": [
      "\r",
      "                                                                               \r",
      "\r",
      " 60% 4400 |##################################                       |   3.0 B/s"
     ]
    },
    {
     "name": "stdout",
     "output_type": "stream",
     "text": [
      "skipping record wih invalid buffers in snapshot 497592, filename 2018-08-14--12-25-46--519 and camera [-0.0599999986588955, 33.5, 6.07649993896484]\n",
      "skipping record wih invalid buffers in snapshot 497595, filename 2018-08-14--12-25-47--449 and camera [-0.0599999986588955, 17.5, 25.0764999389648]\n"
     ]
    },
    {
     "name": "stderr",
     "output_type": "stream",
     "text": [
      "\r",
      "                                                                               \r",
      "\r",
      " 60% 4402 |##################################                       |   3.0 B/s"
     ]
    },
    {
     "name": "stdout",
     "output_type": "stream",
     "text": [
      "skipping record wih invalid buffers in snapshot 497596, filename 2018-08-14--12-25-47--860 and camera [-0.0599999986588955, 1.5, 1.07649993896484]\n",
      "skipping record wih invalid buffers in snapshot 497593, filename 2018-08-14--12-25-46--800 and camera [-16.0599994659424, 17.5, 6.07649993896484]\n",
      "skipping record wih invalid buffers in snapshot 497594, filename 2018-08-14--12-25-47--121 and camera [0.480000019073486, 1.5, 1.07649993896484]\n"
     ]
    },
    {
     "name": "stderr",
     "output_type": "stream",
     "text": [
      "\r",
      "                                                                               \r",
      "\r",
      " 60% 4405 |##################################                       |   3.0 B/s"
     ]
    },
    {
     "name": "stdout",
     "output_type": "stream",
     "text": [
      "skipping record wih invalid buffers in snapshot 497597, filename 2018-08-14--12-25-48--190 and camera [15.9399995803833, 17.5, 6.07649993896484]\n"
     ]
    },
    {
     "name": "stderr",
     "output_type": "stream",
     "text": [
      " 60% 4408 |##################################                       |   3.0 B/s"
     ]
    },
    {
     "name": "stdout",
     "output_type": "stream",
     "text": [
      "skipping record wih invalid buffers in snapshot 497598, filename 2018-08-14--12-25-48--603 and camera [-0.0599999986588955, 33.5, 6.07649993896484]\n",
      "skipping record wih invalid buffers in snapshot 497599, filename 2018-08-14--12-25-49--106 and camera [-16.0599994659424, 17.5, 6.07649993896484]\n",
      "skipping record wih invalid buffers in snapshot 497601, filename 2018-08-14--12-25-49--749 and camera [-0.0599999986588955, 17.5, 25.0764999389648]\n"
     ]
    },
    {
     "name": "stderr",
     "output_type": "stream",
     "text": [
      "\r",
      "                                                                               \r",
      "\r",
      " 60% 4410 |##################################                       |   3.0 B/s"
     ]
    },
    {
     "name": "stdout",
     "output_type": "stream",
     "text": [
      "skipping record wih invalid buffers in snapshot 497600, filename 2018-08-14--12-25-49--424 and camera [0.480000019073486, 1.5, 1.07649993896484]\n",
      "skipping record wih invalid buffers in snapshot 497602, filename 2018-08-14--12-25-50--208 and camera [-0.0599999986588955, 1.5, 1.07649993896484]\n"
     ]
    },
    {
     "name": "stderr",
     "output_type": "stream",
     "text": [
      "\r",
      "                                                                               \r",
      "\r",
      " 60% 4411 |##################################                       |   3.0 B/s"
     ]
    },
    {
     "name": "stdout",
     "output_type": "stream",
     "text": [
      "skipping record wih invalid buffers in snapshot 497603, filename 2018-08-14--12-25-50--503 and camera [15.9399995803833, 17.5, 6.07649993896484]\n"
     ]
    },
    {
     "name": "stderr",
     "output_type": "stream",
     "text": [
      "\r",
      "                                                                               \r",
      "\r",
      " 60% 4412 |##################################                       |   3.0 B/s"
     ]
    },
    {
     "name": "stdout",
     "output_type": "stream",
     "text": [
      "skipping record wih invalid buffers in snapshot 497604, filename 2018-08-14--12-25-50--801 and camera [-0.0599999986588955, 33.5, 6.07649993896484]\n"
     ]
    },
    {
     "name": "stderr",
     "output_type": "stream",
     "text": [
      "\r",
      "                                                                               \r",
      "\r",
      " 60% 4413 |##################################                       |   3.0 B/s"
     ]
    },
    {
     "name": "stdout",
     "output_type": "stream",
     "text": [
      "skipping record wih invalid buffers in snapshot 497605, filename 2018-08-14--12-25-51--125 and camera [-16.0599994659424, 17.5, 6.07649993896484]\n"
     ]
    },
    {
     "name": "stderr",
     "output_type": "stream",
     "text": [
      " 62% 4556 |###################################                      |   3.0 B/s"
     ]
    },
    {
     "name": "stdout",
     "output_type": "stream",
     "text": [
      "skipping record wih invalid buffers in snapshot 497752, filename 2018-08-14--12-26-43--905 and camera [15.9399995803833, 17.5, 6.07649993896484]\n"
     ]
    },
    {
     "name": "stderr",
     "output_type": "stream",
     "text": [
      " 62% 4558 |###################################                      |   3.0 B/s"
     ]
    },
    {
     "name": "stdout",
     "output_type": "stream",
     "text": [
      "skipping record wih invalid buffers in snapshot 497753, filename 2018-08-14--12-26-44--231 and camera [-0.0599999986588955, 33.5, 6.07649993896484]\n"
     ]
    },
    {
     "name": "stderr",
     "output_type": "stream",
     "text": [
      "\r",
      "                                                                               \r",
      "\r",
      " 62% 4560 |###################################                      |   3.0 B/s"
     ]
    },
    {
     "name": "stdout",
     "output_type": "stream",
     "text": [
      "skipping record wih invalid buffers in snapshot 497754, filename 2018-08-14--12-26-44--516 and camera [-16.0599994659424, 17.5, 6.07649993896484]\n"
     ]
    },
    {
     "name": "stderr",
     "output_type": "stream",
     "text": [
      "\r",
      "                                                                               \r",
      "\r",
      " 62% 4563 |###################################                      |   3.0 B/s"
     ]
    },
    {
     "name": "stdout",
     "output_type": "stream",
     "text": [
      "skipping record wih invalid buffers in snapshot 497755, filename 2018-08-14--12-26-44--831 and camera [0.480000019073486, 1.5, 1.07649993896484]\n"
     ]
    },
    {
     "name": "stderr",
     "output_type": "stream",
     "text": [
      " 62% 4565 |###################################                      |   3.0 B/s"
     ]
    },
    {
     "name": "stdout",
     "output_type": "stream",
     "text": [
      "skipping record wih invalid buffers in snapshot 497757, filename 2018-08-14--12-26-45--636 and camera [-0.0599999986588955, 1.5, 1.07649993896484]\n",
      "skipping record wih invalid buffers in snapshot 497756, filename 2018-08-14--12-26-45--159 and camera [-0.0599999986588955, 17.5, 25.0764999389648]\n"
     ]
    },
    {
     "name": "stderr",
     "output_type": "stream",
     "text": [
      " 63% 4568 |###################################                      |   3.0 B/s"
     ]
    },
    {
     "name": "stdout",
     "output_type": "stream",
     "text": [
      "skipping record wih invalid buffers in snapshot 497760, filename 2018-08-14--12-26-46--645 and camera [-16.0599994659424, 17.5, 6.07649993896484]\n",
      "skipping record wih invalid buffers in snapshot 497758, filename 2018-08-14--12-26-45--924 and camera [15.9399995803833, 17.5, 6.07649993896484]\n",
      "skipping record wih invalid buffers in snapshot 497759, filename 2018-08-14--12-26-46--256 and camera [-0.0599999986588955, 33.5, 6.07649993896484]\n"
     ]
    },
    {
     "name": "stderr",
     "output_type": "stream",
     "text": [
      "\r",
      "                                                                               \r",
      "\r",
      " 63% 4569 |###################################                      |   3.0 B/s"
     ]
    },
    {
     "name": "stdout",
     "output_type": "stream",
     "text": [
      "skipping record wih invalid buffers in snapshot 497761, filename 2018-08-14--12-26-46--939 and camera [0.480000019073486, 1.5, 1.07649993896484]\n"
     ]
    },
    {
     "name": "stderr",
     "output_type": "stream",
     "text": [
      "\r",
      "                                                                               \r",
      "\r",
      " 63% 4570 |###################################                      |   3.0 B/s"
     ]
    },
    {
     "name": "stdout",
     "output_type": "stream",
     "text": [
      "skipping record wih invalid buffers in snapshot 497762, filename 2018-08-14--12-26-47--269 and camera [-0.0599999986588955, 17.5, 25.0764999389648]\n"
     ]
    },
    {
     "name": "stderr",
     "output_type": "stream",
     "text": [
      "\r",
      "                                                                               \r",
      "\r",
      " 63% 4571 |###################################                      |   3.0 B/s"
     ]
    },
    {
     "name": "stdout",
     "output_type": "stream",
     "text": [
      "skipping record wih invalid buffers in snapshot 497763, filename 2018-08-14--12-26-47--703 and camera [-0.0599999986588955, 1.5, 1.07649993896484]\n",
      "skipping record wih invalid buffers in snapshot 497765, filename 2018-08-14--12-26-48--378 and camera [-0.0599999986588955, 33.5, 6.07649993896484]\n",
      "skipping record wih invalid buffers in snapshot 497766, filename 2018-08-14--12-26-48--672 and camera [-16.0599994659424, 17.5, 6.07649993896484]\n"
     ]
    },
    {
     "name": "stderr",
     "output_type": "stream",
     "text": [
      " 63% 4575 |###################################                      |   3.0 B/s"
     ]
    },
    {
     "name": "stdout",
     "output_type": "stream",
     "text": [
      "skipping record wih invalid buffers in snapshot 497764, filename 2018-08-14--12-26-48--035 and camera [15.9399995803833, 17.5, 6.07649993896484]\n",
      "skipping record wih invalid buffers in snapshot 497767, filename 2018-08-14--12-26-48--982 and camera [0.480000019073486, 1.5, 1.07649993896484]\n"
     ]
    },
    {
     "name": "stderr",
     "output_type": "stream",
     "text": [
      "\r",
      "                                                                               \r",
      "\r",
      " 63% 4576 |###################################                      |   3.0 B/s"
     ]
    },
    {
     "name": "stdout",
     "output_type": "stream",
     "text": [
      "skipping record wih invalid buffers in snapshot 497768, filename 2018-08-14--12-26-49--312 and camera [-0.0599999986588955, 17.5, 25.0764999389648]\n"
     ]
    },
    {
     "name": "stderr",
     "output_type": "stream",
     "text": [
      " 63% 4580 |####################################                     |   3.0 B/s"
     ]
    },
    {
     "name": "stdout",
     "output_type": "stream",
     "text": [
      "skipping record wih invalid buffers in snapshot 497769, filename 2018-08-14--12-26-49--777 and camera [-0.0599999986588955, 1.5, 1.07649993896484]\n",
      "skipping record wih invalid buffers in snapshot 497771, filename 2018-08-14--12-26-50--371 and camera [-0.0599999986588955, 33.5, 6.07649993896484]\n",
      "skipping record wih invalid buffers in snapshot 497770, filename 2018-08-14--12-26-50--052 and camera [15.9399995803833, 17.5, 6.07649993896484]\n",
      "skipping record wih invalid buffers in snapshot 497773, filename 2018-08-14--12-26-50--980 and camera [0.480000019073486, 1.5, 1.07649993896484]\n",
      "skipping record wih invalid buffers in snapshot 497772, filename 2018-08-14--12-26-50--702 and camera [-16.0599994659424, 17.5, 6.07649993896484]\n"
     ]
    },
    {
     "name": "stderr",
     "output_type": "stream",
     "text": [
      "\r",
      "                                                                               \r",
      "\r",
      " 63% 4582 |####################################                     |   3.0 B/s"
     ]
    },
    {
     "name": "stdout",
     "output_type": "stream",
     "text": [
      "skipping record wih invalid buffers in snapshot 497774, filename 2018-08-14--12-26-51--297 and camera [-0.0599999986588955, 17.5, 25.0764999389648]\n"
     ]
    },
    {
     "name": "stderr",
     "output_type": "stream",
     "text": [
      " 63% 4585 |####################################                     |   3.0 B/s"
     ]
    },
    {
     "name": "stdout",
     "output_type": "stream",
     "text": [
      "skipping record wih invalid buffers in snapshot 497777, filename 2018-08-14--12-26-52--389 and camera [-0.0599999986588955, 33.5, 6.07649993896484]\n",
      "skipping record wih invalid buffers in snapshot 497775, filename 2018-08-14--12-26-51--777 and camera [-0.0599999986588955, 1.5, 1.07649993896484]\n",
      "skipping record wih invalid buffers in snapshot 497779, filename 2018-08-14--12-26-53--020 and camera [0.480000019073486, 1.5, 1.07649993896484]\n",
      "skipping record wih invalid buffers in snapshot 497776, filename 2018-08-14--12-26-52--098 and camera [15.9399995803833, 17.5, 6.07649993896484]\n",
      "skipping record wih invalid buffers in snapshot 497778, filename 2018-08-14--12-26-52--689 and camera [-16.0599994659424, 17.5, 6.07649993896484]\n"
     ]
    },
    {
     "name": "stderr",
     "output_type": "stream",
     "text": [
      "\r",
      "                                                                               \r",
      "\r",
      " 63% 4588 |####################################                     |   3.0 B/s"
     ]
    },
    {
     "name": "stdout",
     "output_type": "stream",
     "text": [
      "skipping record wih invalid buffers in snapshot 497780, filename 2018-08-14--12-26-53--391 and camera [-0.0599999986588955, 17.5, 25.0764999389648]\n"
     ]
    },
    {
     "name": "stderr",
     "output_type": "stream",
     "text": [
      "\r",
      "                                                                               \r",
      "\r",
      " 63% 4589 |####################################                     |   3.0 B/s"
     ]
    },
    {
     "name": "stdout",
     "output_type": "stream",
     "text": [
      "skipping record wih invalid buffers in snapshot 497781, filename 2018-08-14--12-26-53--831 and camera [-0.0599999986588955, 1.5, 1.07649993896484]\n"
     ]
    },
    {
     "name": "stderr",
     "output_type": "stream",
     "text": [
      " 63% 4591 |####################################                     |   3.0 B/s"
     ]
    },
    {
     "name": "stdout",
     "output_type": "stream",
     "text": [
      "skipping record wih invalid buffers in snapshot 497782, filename 2018-08-14--12-26-54--134 and camera [15.9399995803833, 17.5, 6.07649993896484]\n",
      "skipping record wih invalid buffers in snapshot 497784, filename 2018-08-14--12-26-54--733 and camera [-16.0599994659424, 17.5, 6.07649993896484]\n",
      "skipping record wih invalid buffers in snapshot 497785, filename 2018-08-14--12-26-55--053 and camera [0.480000019073486, 1.5, 1.07649993896484]\n"
     ]
    },
    {
     "name": "stderr",
     "output_type": "stream",
     "text": [
      "\r",
      "                                                                               \r",
      "\r",
      " 63% 4593 |####################################                     |   3.0 B/s"
     ]
    },
    {
     "name": "stdout",
     "output_type": "stream",
     "text": [
      "skipping record wih invalid buffers in snapshot 497783, filename 2018-08-14--12-26-54--466 and camera [-0.0599999986588955, 33.5, 6.07649993896484]\n",
      "skipping record wih invalid buffers in snapshot 497786, filename 2018-08-14--12-26-55--384 and camera [-0.0599999986588955, 17.5, 25.0764999389648]\n"
     ]
    },
    {
     "name": "stderr",
     "output_type": "stream",
     "text": [
      "\r",
      "                                                                               \r",
      "\r",
      " 63% 4595 |####################################                     |   3.0 B/s"
     ]
    },
    {
     "name": "stdout",
     "output_type": "stream",
     "text": [
      "skipping record wih invalid buffers in snapshot 497787, filename 2018-08-14--12-26-55--840 and camera [-0.0599999986588955, 1.5, 1.07649993896484]\n"
     ]
    },
    {
     "name": "stderr",
     "output_type": "stream",
     "text": [
      " 63% 4597 |####################################                     |   3.0 B/s"
     ]
    },
    {
     "name": "stdout",
     "output_type": "stream",
     "text": [
      "skipping record wih invalid buffers in snapshot 497788, filename 2018-08-14--12-26-56--143 and camera [15.9399995803833, 17.5, 6.07649993896484]\n",
      "skipping record wih invalid buffers in snapshot 497790, filename 2018-08-14--12-26-56--784 and camera [-16.0599994659424, 17.5, 6.07649993896484]\n"
     ]
    },
    {
     "name": "stderr",
     "output_type": "stream",
     "text": [
      " 63% 4600 |####################################                     |   3.0 B/s"
     ]
    },
    {
     "name": "stdout",
     "output_type": "stream",
     "text": [
      "skipping record wih invalid buffers in snapshot 497792, filename 2018-08-14--12-26-57--378 and camera [-0.0599999986588955, 17.5, 25.0764999389648]\n",
      "skipping record wih invalid buffers in snapshot 497789, filename 2018-08-14--12-26-56--454 and camera [-0.0599999986588955, 33.5, 6.07649993896484]\n",
      "skipping record wih invalid buffers in snapshot 497791, filename 2018-08-14--12-26-57--066 and camera [0.480000019073486, 1.5, 1.07649993896484]\n"
     ]
    },
    {
     "name": "stderr",
     "output_type": "stream",
     "text": [
      "\r",
      "                                                                               \r",
      "\r",
      " 63% 4601 |####################################                     |   3.0 B/s"
     ]
    },
    {
     "name": "stdout",
     "output_type": "stream",
     "text": [
      "skipping record wih invalid buffers in snapshot 497793, filename 2018-08-14--12-26-57--871 and camera [-0.0599999986588955, 1.5, 1.07649993896484]\n"
     ]
    },
    {
     "name": "stderr",
     "output_type": "stream",
     "text": [
      "\r",
      "                                                                               \r",
      "\r",
      " 63% 4602 |####################################                     |   3.0 B/s"
     ]
    },
    {
     "name": "stdout",
     "output_type": "stream",
     "text": [
      "skipping record wih invalid buffers in snapshot 497794, filename 2018-08-14--12-26-58--198 and camera [15.9399995803833, 17.5, 6.07649993896484]\n"
     ]
    },
    {
     "name": "stderr",
     "output_type": "stream",
     "text": [
      "\r",
      "                                                                               \r",
      "\r",
      " 63% 4603 |####################################                     |   3.0 B/s"
     ]
    },
    {
     "name": "stdout",
     "output_type": "stream",
     "text": [
      "skipping record wih invalid buffers in snapshot 497795, filename 2018-08-14--12-26-58--485 and camera [-0.0599999986588955, 33.5, 6.07649993896484]\n"
     ]
    },
    {
     "name": "stderr",
     "output_type": "stream",
     "text": [
      " 65% 4720 |#####################################                    |   3.0 B/s"
     ]
    },
    {
     "name": "stdout",
     "output_type": "stream",
     "text": [
      "skipping record wih invalid buffers in snapshot 497917, filename 2018-08-14--12-27-42--899 and camera [15.9399995803833, 17.5, 6.07649993896484]\n"
     ]
    },
    {
     "name": "stderr",
     "output_type": "stream",
     "text": [
      " 66% 4798 |#####################################                    |   3.0 B/s"
     ]
    },
    {
     "name": "stdout",
     "output_type": "stream",
     "text": [
      "skipping record wih invalid buffers in snapshot 497990, filename 2018-08-14--12-28-08--825 and camera [-16.0599994659424, 17.5, 6.07649993896484]\n",
      "skipping record wih invalid buffers in snapshot 497991, filename 2018-08-14--12-28-09--123 and camera [0.480000019073486, 1.5, 1.07649993896484]\n"
     ]
    },
    {
     "name": "stderr",
     "output_type": "stream",
     "text": [
      "\r",
      "                                                                               \r",
      "\r",
      " 66% 4800 |#####################################                    |   3.0 B/s"
     ]
    },
    {
     "name": "stdout",
     "output_type": "stream",
     "text": [
      "skipping record wih invalid buffers in snapshot 497992, filename 2018-08-14--12-28-09--413 and camera [-0.0599999986588955, 17.5, 25.0764999389648]\n"
     ]
    },
    {
     "name": "stderr",
     "output_type": "stream",
     "text": [
      "\r",
      "                                                                               \r",
      "\r",
      " 66% 4801 |#####################################                    |   3.0 B/s"
     ]
    },
    {
     "name": "stdout",
     "output_type": "stream",
     "text": [
      "skipping record wih invalid buffers in snapshot 497993, filename 2018-08-14--12-28-09--875 and camera [-0.0599999986588955, 1.5, 1.07649993896484]\n"
     ]
    },
    {
     "name": "stderr",
     "output_type": "stream",
     "text": [
      "\r",
      "                                                                               \r",
      "\r",
      " 66% 4802 |#####################################                    |   3.0 B/s"
     ]
    },
    {
     "name": "stdout",
     "output_type": "stream",
     "text": [
      "skipping record wih invalid buffers in snapshot 497995, filename 2018-08-14--12-28-10--784 and camera [-0.0599999986588955, 33.5, 6.07649993896484]\n"
     ]
    },
    {
     "name": "stderr",
     "output_type": "stream",
     "text": [
      "\r",
      "                                                                               \r",
      "\r",
      " 66% 4803 |#####################################                    |   3.0 B/s"
     ]
    },
    {
     "name": "stdout",
     "output_type": "stream",
     "text": [
      "skipping record wih invalid buffers in snapshot 497994, filename 2018-08-14--12-28-10--507 and camera [15.9399995803833, 17.5, 6.07649993896484]\n",
      "skipping record wih invalid buffers in snapshot 497996, filename 2018-08-14--12-28-11--105 and camera [-16.0599994659424, 17.5, 6.07649993896484]\n",
      "skipping record wih invalid buffers in snapshot 497997, filename 2018-08-14--12-28-11--417 and camera [0.480000019073486, 1.5, 1.07649993896484]\n"
     ]
    },
    {
     "name": "stderr",
     "output_type": "stream",
     "text": [
      " 66% 4807 |#####################################                    |   3.0 B/s"
     ]
    },
    {
     "name": "stdout",
     "output_type": "stream",
     "text": [
      "skipping record wih invalid buffers in snapshot 497998, filename 2018-08-14--12-28-11--705 and camera [-0.0599999986588955, 17.5, 25.0764999389648]\n",
      "skipping record wih invalid buffers in snapshot 497999, filename 2018-08-14--12-28-12--138 and camera [-0.0599999986588955, 1.5, 1.07649993896484]\n"
     ]
    },
    {
     "name": "stderr",
     "output_type": "stream",
     "text": [
      "\r",
      "                                                                               \r",
      "\r",
      " 66% 4808 |#####################################                    |   3.0 B/s"
     ]
    },
    {
     "name": "stdout",
     "output_type": "stream",
     "text": [
      "skipping record wih invalid buffers in snapshot 498000, filename 2018-08-14--12-28-12--454 and camera [15.9399995803833, 17.5, 6.07649993896484]\n"
     ]
    },
    {
     "name": "stderr",
     "output_type": "stream",
     "text": [
      "\r",
      "                                                                               \r",
      "\r",
      " 66% 4809 |#####################################                    |   3.0 B/s"
     ]
    },
    {
     "name": "stdout",
     "output_type": "stream",
     "text": [
      "skipping record wih invalid buffers in snapshot 498001, filename 2018-08-14--12-28-12--783 and camera [-0.0599999986588955, 33.5, 6.07649993896484]\n"
     ]
    },
    {
     "name": "stderr",
     "output_type": "stream",
     "text": [
      " 66% 4812 |#####################################                    |   3.0 B/s"
     ]
    },
    {
     "name": "stdout",
     "output_type": "stream",
     "text": [
      "skipping record wih invalid buffers in snapshot 498002, filename 2018-08-14--12-28-13--059 and camera [-16.0599994659424, 17.5, 6.07649993896484]\n",
      "skipping record wih invalid buffers in snapshot 498003, filename 2018-08-14--12-28-13--369 and camera [0.480000019073486, 1.5, 1.07649993896484]\n",
      "skipping record wih invalid buffers in snapshot 498005, filename 2018-08-14--12-28-14--157 and camera [-0.0599999986588955, 1.5, 1.07649993896484]\n",
      "skipping record wih invalid buffers in snapshot 498004, filename 2018-08-14--12-28-13--704 and camera [-0.0599999986588955, 17.5, 25.0764999389648]"
     ]
    },
    {
     "name": "stderr",
     "output_type": "stream",
     "text": [
      "\r",
      "                                                                               \r",
      "\r",
      " 66% 4814 |#####################################                    |   3.0 B/s"
     ]
    },
    {
     "name": "stdout",
     "output_type": "stream",
     "text": [
      "\n",
      "skipping record wih invalid buffers in snapshot 498006, filename 2018-08-14--12-28-14--423 and camera [15.9399995803833, 17.5, 6.07649993896484]\n"
     ]
    },
    {
     "name": "stderr",
     "output_type": "stream",
     "text": [
      "\r",
      "                                                                               \r",
      "\r",
      " 66% 4815 |#####################################                    |   3.0 B/s"
     ]
    },
    {
     "name": "stdout",
     "output_type": "stream",
     "text": [
      "skipping record wih invalid buffers in snapshot 498007, filename 2018-08-14--12-28-14--776 and camera [-0.0599999986588955, 33.5, 6.07649993896484]\n"
     ]
    },
    {
     "name": "stderr",
     "output_type": "stream",
     "text": [
      " 73% 5330 |#########################################                |   3.0 B/s"
     ]
    },
    {
     "name": "stdout",
     "output_type": "stream",
     "text": [
      "skipping record wih invalid buffers in snapshot 498522, filename 2018-08-14--12-31-20--116 and camera [-0.0599999986588955, 17.5, 25.0764999389648]\n",
      "skipping record wih invalid buffers in snapshot 498523, filename 2018-08-14--12-31-20--578 and camera [-0.0599999986588955, 1.5, 1.07649993896484]\n"
     ]
    },
    {
     "name": "stderr",
     "output_type": "stream",
     "text": [
      "\r",
      "                                                                               \r",
      "\r",
      " 73% 5332 |#########################################                |   3.0 B/s"
     ]
    },
    {
     "name": "stdout",
     "output_type": "stream",
     "text": [
      "skipping record wih invalid buffers in snapshot 498524, filename 2018-08-14--12-31-20--852 and camera [15.9399995803833, 17.5, 6.07649993896484]\n"
     ]
    },
    {
     "name": "stderr",
     "output_type": "stream",
     "text": [
      "\r",
      "                                                                               \r",
      "\r",
      " 73% 5333 |#########################################                |   3.0 B/s"
     ]
    },
    {
     "name": "stdout",
     "output_type": "stream",
     "text": [
      "skipping record wih invalid buffers in snapshot 498525, filename 2018-08-14--12-31-21--187 and camera [-0.0599999986588955, 33.5, 6.07649993896484]\n"
     ]
    },
    {
     "name": "stderr",
     "output_type": "stream",
     "text": [
      "\r",
      "                                                                               \r",
      "\r",
      " 73% 5334 |#########################################                |   3.0 B/s"
     ]
    },
    {
     "name": "stdout",
     "output_type": "stream",
     "text": [
      "skipping record wih invalid buffers in snapshot 498526, filename 2018-08-14--12-31-21--520 and camera [-16.0599994659424, 17.5, 6.07649993896484]\n"
     ]
    },
    {
     "name": "stderr",
     "output_type": "stream",
     "text": [
      "\r",
      "                                                                               \r",
      "\r",
      " 73% 5335 |#########################################                |   3.0 B/s"
     ]
    },
    {
     "name": "stdout",
     "output_type": "stream",
     "text": [
      "skipping record wih invalid buffers in snapshot 498527, filename 2018-08-14--12-31-21--797 and camera [0.480000019073486, 1.5, 1.07649993896484]\n",
      "skipping record wih invalid buffers in snapshot 498528, filename 2018-08-14--12-31-22--151 and camera [-0.0599999986588955, 17.5, 25.0764999389648]"
     ]
    },
    {
     "name": "stderr",
     "output_type": "stream",
     "text": [
      "\r",
      "                                                                               \r",
      "\r",
      " 73% 5336 |#########################################                |   3.0 B/s"
     ]
    },
    {
     "name": "stdout",
     "output_type": "stream",
     "text": [
      "\n",
      "skipping record wih invalid buffers in snapshot 498530, filename 2018-08-14--12-31-22--950 and camera [15.9399995803833, 17.5, 6.07649993896484]\n",
      "skipping record wih invalid buffers in snapshot 498529, filename 2018-08-14--12-31-22--661 and camera [-0.0599999986588955, 1.5, 1.07649993896484]\n"
     ]
    },
    {
     "name": "stderr",
     "output_type": "stream",
     "text": [
      "\r",
      "                                                                               \r",
      "\r",
      " 73% 5339 |#########################################                |   3.0 B/s"
     ]
    },
    {
     "name": "stdout",
     "output_type": "stream",
     "text": [
      "skipping record wih invalid buffers in snapshot 498531, filename 2018-08-14--12-31-23--242 and camera [-0.0599999986588955, 33.5, 6.07649993896484]\n"
     ]
    },
    {
     "name": "stderr",
     "output_type": "stream",
     "text": [
      "\r",
      "                                                                               \r",
      "\r",
      " 73% 5340 |#########################################                |   3.0 B/s"
     ]
    },
    {
     "name": "stdout",
     "output_type": "stream",
     "text": [
      "skipping record wih invalid buffers in snapshot 498532, filename 2018-08-14--12-31-23--581 and camera [-16.0599994659424, 17.5, 6.07649993896484]\n"
     ]
    },
    {
     "name": "stderr",
     "output_type": "stream",
     "text": [
      " 73% 5343 |##########################################               |   3.0 B/s"
     ]
    },
    {
     "name": "stdout",
     "output_type": "stream",
     "text": [
      "skipping record wih invalid buffers in snapshot 498533, filename 2018-08-14--12-31-23--918 and camera [0.480000019073486, 1.5, 1.07649993896484]\n",
      "skipping record wih invalid buffers in snapshot 498536, filename 2018-08-14--12-31-24--983 and camera [15.9399995803833, 17.5, 6.07649993896484]\n",
      "skipping record wih invalid buffers in snapshot 498535, filename 2018-08-14--12-31-24--650 and camera [-0.0599999986588955, 1.5, 1.07649993896484]\n"
     ]
    },
    {
     "name": "stderr",
     "output_type": "stream",
     "text": [
      "\r",
      "                                                                               \r",
      "\r",
      " 73% 5345 |##########################################               |   3.0 B/s"
     ]
    },
    {
     "name": "stdout",
     "output_type": "stream",
     "text": [
      "skipping record wih invalid buffers in snapshot 498534, filename 2018-08-14--12-31-24--186 and camera [-0.0599999986588955, 17.5, 25.0764999389648]\n",
      "skipping record wih invalid buffers in snapshot 498537, filename 2018-08-14--12-31-25--259 and camera [-0.0599999986588955, 33.5, 6.07649993896484]\n"
     ]
    },
    {
     "name": "stderr",
     "output_type": "stream",
     "text": [
      "\r",
      "                                                                               \r",
      "\r",
      " 73% 5346 |##########################################               |   3.0 B/s"
     ]
    },
    {
     "name": "stdout",
     "output_type": "stream",
     "text": [
      "skipping record wih invalid buffers in snapshot 498538, filename 2018-08-14--12-31-25--647 and camera [-16.0599994659424, 17.5, 6.07649993896484]\n"
     ]
    },
    {
     "name": "stderr",
     "output_type": "stream",
     "text": [
      " 73% 5348 |##########################################               |   3.0 B/s"
     ]
    },
    {
     "name": "stdout",
     "output_type": "stream",
     "text": [
      "skipping record wih invalid buffers in snapshot 498539, filename 2018-08-14--12-31-25--994 and camera [0.480000019073486, 1.5, 1.07649993896484]\n",
      "skipping record wih invalid buffers in snapshot 498540, filename 2018-08-14--12-31-26--344 and camera [-0.0599999986588955, 17.5, 25.0764999389648]\n"
     ]
    },
    {
     "name": "stderr",
     "output_type": "stream",
     "text": [
      "\r",
      "                                                                               \r",
      "\r",
      " 73% 5349 |##########################################               |   3.0 B/s"
     ]
    },
    {
     "name": "stdout",
     "output_type": "stream",
     "text": [
      "skipping record wih invalid buffers in snapshot 498542, filename 2018-08-14--12-31-27--090 and camera [15.9399995803833, 17.5, 6.07649993896484]\n",
      "skipping record wih invalid buffers in snapshot 498541, filename 2018-08-14--12-31-26--781 and camera [-0.0599999986588955, 1.5, 1.07649993896484]\n"
     ]
    },
    {
     "name": "stderr",
     "output_type": "stream",
     "text": [
      " 73% 5352 |##########################################               |   3.0 B/s"
     ]
    },
    {
     "name": "stdout",
     "output_type": "stream",
     "text": [
      "skipping record wih invalid buffers in snapshot 498543, filename 2018-08-14--12-31-27--403 and camera [-0.0599999986588955, 33.5, 6.07649993896484]\n",
      "skipping record wih invalid buffers in snapshot 498544, filename 2018-08-14--12-31-27--718 and camera [-16.0599994659424, 17.5, 6.07649993896484]\n"
     ]
    },
    {
     "name": "stderr",
     "output_type": "stream",
     "text": [
      "\r",
      "                                                                               \r",
      "\r",
      " 73% 5353 |##########################################               |   3.0 B/s"
     ]
    },
    {
     "name": "stdout",
     "output_type": "stream",
     "text": [
      "skipping record wih invalid buffers in snapshot 498545, filename 2018-08-14--12-31-28--029 and camera [0.480000019073486, 1.5, 1.07649993896484]\n"
     ]
    },
    {
     "name": "stderr",
     "output_type": "stream",
     "text": [
      "\r",
      "                                                                               \r",
      "\r",
      " 73% 5354 |##########################################               |   3.0 B/s"
     ]
    },
    {
     "name": "stdout",
     "output_type": "stream",
     "text": [
      "skipping record wih invalid buffers in snapshot 498546, filename 2018-08-14--12-31-28--303 and camera [-0.0599999986588955, 17.5, 25.0764999389648]\n",
      "skipping record wih invalid buffers in snapshot 498547, filename 2018-08-14--12-31-28--769 and camera [-0.0599999986588955, 1.5, 1.07649993896484]\n"
     ]
    },
    {
     "name": "stderr",
     "output_type": "stream",
     "text": [
      " 73% 5355 |##########################################               |   3.0 B/s"
     ]
    },
    {
     "name": "stdout",
     "output_type": "stream",
     "text": [
      "skipping record wih invalid buffers in snapshot 498548, filename 2018-08-14--12-31-29--087 and camera [15.9399995803833, 17.5, 6.07649993896484]\n"
     ]
    },
    {
     "name": "stderr",
     "output_type": "stream",
     "text": [
      "\r",
      "                                                                               \r",
      "\r",
      " 73% 5357 |##########################################               |   3.0 B/s"
     ]
    },
    {
     "name": "stdout",
     "output_type": "stream",
     "text": [
      "skipping record wih invalid buffers in snapshot 498549, filename 2018-08-14--12-31-29--357 and camera [-0.0599999986588955, 33.5, 6.07649993896484]\n",
      "skipping record wih invalid buffers in snapshot 498550, filename 2018-08-14--12-31-29--666 and camera [-16.0599994659424, 17.5, 6.07649993896484]\n"
     ]
    },
    {
     "name": "stderr",
     "output_type": "stream",
     "text": [
      "\r",
      "                                                                               \r",
      "\r",
      " 73% 5359 |##########################################               |   3.0 B/s"
     ]
    },
    {
     "name": "stdout",
     "output_type": "stream",
     "text": [
      "skipping record wih invalid buffers in snapshot 498551, filename 2018-08-14--12-31-29--996 and camera [0.480000019073486, 1.5, 1.07649993896484]\n"
     ]
    },
    {
     "name": "stderr",
     "output_type": "stream",
     "text": [
      "\r",
      "                                                                               \r",
      "\r",
      " 73% 5360 |##########################################               |   3.0 B/s"
     ]
    },
    {
     "name": "stdout",
     "output_type": "stream",
     "text": [
      "skipping record wih invalid buffers in snapshot 498552, filename 2018-08-14--12-31-30--319 and camera [-0.0599999986588955, 17.5, 25.0764999389648]\n"
     ]
    },
    {
     "name": "stderr",
     "output_type": "stream",
     "text": [
      " 88% 6446 |##################################################       |   3.0 B/s"
     ]
    },
    {
     "name": "stdout",
     "output_type": "stream",
     "text": [
      "skipping record wih invalid buffers in snapshot 499642, filename 2018-08-14--12-38-00--827 and camera [-0.0599999986588955, 1.5, 1.07649993896484]skipping record wih invalid buffers in snapshot 499643, filename 2018-08-14--12-38-01--150 and camera [15.9399995803833, 17.5, 6.07649993896484]skipping record wih invalid buffers in snapshot 499641, filename 2018-08-14--12-38-00--387 and camera [-0.0599999986588955, 17.5, 25.0764999389648]\n",
      "\n",
      "\n"
     ]
    },
    {
     "name": "stderr",
     "output_type": "stream",
     "text": [
      " 88% 6452 |##################################################       |   3.0 B/s"
     ]
    },
    {
     "name": "stdout",
     "output_type": "stream",
     "text": [
      "skipping record wih invalid buffers in snapshot 499646, filename 2018-08-14--12-38-02--088 and camera [0.480000019073486, 1.5, 1.07649993896484]\n"
     ]
    },
    {
     "name": "stderr",
     "output_type": "stream",
     "text": [
      " 89% 6454 |##################################################       |   3.0 B/s"
     ]
    },
    {
     "name": "stdout",
     "output_type": "stream",
     "text": [
      "skipping record wih invalid buffers in snapshot 499644, filename 2018-08-14--12-38-01--488 and camera [-0.0599999986588955, 33.5, 6.07649993896484]\n",
      "skipping record wih invalid buffers in snapshot 499647, filename 2018-08-14--12-38-02--411 and camera [-0.0599999986588955, 17.5, 25.0764999389648]\n",
      "skipping record wih invalid buffers in snapshot 499645, filename 2018-08-14--12-38-01--783 and camera [-16.0599994659424, 17.5, 6.07649993896484]\n"
     ]
    },
    {
     "name": "stderr",
     "output_type": "stream",
     "text": [
      "\r",
      "                                                                               \r",
      "\r",
      " 89% 6456 |##################################################       |   3.0 B/s"
     ]
    },
    {
     "name": "stdout",
     "output_type": "stream",
     "text": [
      "skipping record wih invalid buffers in snapshot 499648, filename 2018-08-14--12-38-02--891 and camera [-0.0599999986588955, 1.5, 1.07649993896484]\n"
     ]
    },
    {
     "name": "stderr",
     "output_type": "stream",
     "text": [
      "\r",
      "                                                                               \r",
      "\r",
      " 89% 6457 |##################################################       |   3.0 B/s"
     ]
    },
    {
     "name": "stdout",
     "output_type": "stream",
     "text": [
      "skipping record wih invalid buffers in snapshot 499649, filename 2018-08-14--12-38-03--180 and camera [15.9399995803833, 17.5, 6.07649993896484]\n"
     ]
    },
    {
     "name": "stderr",
     "output_type": "stream",
     "text": [
      "\r",
      "                                                                               \r",
      "\r",
      " 89% 6458 |##################################################       |   3.0 B/s"
     ]
    },
    {
     "name": "stdout",
     "output_type": "stream",
     "text": [
      "skipping record wih invalid buffers in snapshot 499650, filename 2018-08-14--12-38-03--561 and camera [-0.0599999986588955, 33.5, 6.07649993896484]\n"
     ]
    },
    {
     "name": "stderr",
     "output_type": "stream",
     "text": [
      " 89% 6460 |##################################################       |   3.0 B/s"
     ]
    },
    {
     "name": "stdout",
     "output_type": "stream",
     "text": [
      "skipping record wih invalid buffers in snapshot 499652, filename 2018-08-14--12-38-04--185 and camera [0.480000019073486, 1.5, 1.07649993896484]\n",
      "skipping record wih invalid buffers in snapshot 499651, filename 2018-08-14--12-38-03--909 and camera [-16.0599994659424, 17.5, 6.07649993896484]\n",
      "skipping record wih invalid buffers in snapshot 499653, filename 2018-08-14--12-38-04--497 and camera [-0.0599999986588955, 17.5, 25.0764999389648]\n"
     ]
    },
    {
     "name": "stderr",
     "output_type": "stream",
     "text": [
      "\r",
      "                                                                               \r",
      "\r",
      " 89% 6462 |##################################################       |   3.0 B/s"
     ]
    },
    {
     "name": "stdout",
     "output_type": "stream",
     "text": [
      "skipping record wih invalid buffers in snapshot 499654, filename 2018-08-14--12-38-04--919 and camera [-0.0599999986588955, 1.5, 1.07649993896484]\n"
     ]
    },
    {
     "name": "stderr",
     "output_type": "stream",
     "text": [
      "\r",
      "                                                                               \r",
      "\r",
      " 89% 6463 |##################################################       |   3.0 B/s"
     ]
    },
    {
     "name": "stdout",
     "output_type": "stream",
     "text": [
      "skipping record wih invalid buffers in snapshot 499655, filename 2018-08-14--12-38-05--222 and camera [15.9399995803833, 17.5, 6.07649993896484]\n"
     ]
    },
    {
     "name": "stderr",
     "output_type": "stream",
     "text": [
      "\r",
      "                                                                               \r",
      "\r",
      " 89% 6464 |##################################################       |   3.0 B/s"
     ]
    },
    {
     "name": "stdout",
     "output_type": "stream",
     "text": [
      "skipping record wih invalid buffers in snapshot 499656, filename 2018-08-14--12-38-05--569 and camera [-0.0599999986588955, 33.5, 6.07649993896484]\n"
     ]
    },
    {
     "name": "stderr",
     "output_type": "stream",
     "text": [
      " 89% 6466 |##################################################       |   3.0 B/s"
     ]
    },
    {
     "name": "stdout",
     "output_type": "stream",
     "text": [
      "skipping record wih invalid buffers in snapshot 499657, filename 2018-08-14--12-38-05--855 and camera [-16.0599994659424, 17.5, 6.07649993896484]\n",
      "skipping record wih invalid buffers in snapshot 499658, filename 2018-08-14--12-38-06--152 and camera [0.480000019073486, 1.5, 1.07649993896484]\n"
     ]
    },
    {
     "name": "stderr",
     "output_type": "stream",
     "text": [
      "\r",
      "                                                                               \r",
      "\r",
      " 89% 6467 |##################################################       |   3.0 B/s"
     ]
    },
    {
     "name": "stdout",
     "output_type": "stream",
     "text": [
      "skipping record wih invalid buffers in snapshot 499659, filename 2018-08-14--12-38-06--481 and camera [-0.0599999986588955, 17.5, 25.0764999389648]\n",
      "skipping record wih invalid buffers in snapshot 499660, filename 2018-08-14--12-38-06--952 and camera [-0.0599999986588955, 1.5, 1.07649993896484]\n"
     ]
    },
    {
     "name": "stderr",
     "output_type": "stream",
     "text": [
      "\r",
      "                                                                               \r",
      "\r",
      " 89% 6469 |##################################################       |   3.0 B/s"
     ]
    },
    {
     "name": "stdout",
     "output_type": "stream",
     "text": [
      "skipping record wih invalid buffers in snapshot 499661, filename 2018-08-14--12-38-07--218 and camera [15.9399995803833, 17.5, 6.07649993896484]\n"
     ]
    },
    {
     "name": "stderr",
     "output_type": "stream",
     "text": [
      "\r",
      "                                                                               \r",
      "\r",
      " 89% 6470 |##################################################       |   3.0 B/s"
     ]
    },
    {
     "name": "stdout",
     "output_type": "stream",
     "text": [
      "skipping record wih invalid buffers in snapshot 499662, filename 2018-08-14--12-38-07--531 and camera [-0.0599999986588955, 33.5, 6.07649993896484]\n"
     ]
    },
    {
     "name": "stderr",
     "output_type": "stream",
     "text": [
      "\r",
      "                                                                               \r",
      "\r",
      " 89% 6471 |##################################################       |   3.0 B/s"
     ]
    },
    {
     "name": "stdout",
     "output_type": "stream",
     "text": [
      "skipping record wih invalid buffers in snapshot 499664, filename 2018-08-14--12-38-08--143 and camera [0.480000019073486, 1.5, 1.07649993896484]\n",
      "skipping record wih invalid buffers in snapshot 499663, filename 2018-08-14--12-38-07--864 and camera [-16.0599994659424, 17.5, 6.07649993896484]\n"
     ]
    },
    {
     "name": "stderr",
     "output_type": "stream",
     "text": [
      " 89% 6474 |##################################################       |   3.0 B/s"
     ]
    },
    {
     "name": "stdout",
     "output_type": "stream",
     "text": [
      "skipping record wih invalid buffers in snapshot 499666, filename 2018-08-14--12-38-08--934 and camera [-0.0599999986588955, 1.5, 1.07649993896484]\n",
      "skipping record wih invalid buffers in snapshot 499665, filename 2018-08-14--12-38-08--459 and camera [-0.0599999986588955, 17.5, 25.0764999389648]\n",
      "skipping record wih invalid buffers in snapshot 499667, filename 2018-08-14--12-38-09--242 and camera [15.9399995803833, 17.5, 6.07649993896484]\n"
     ]
    },
    {
     "name": "stderr",
     "output_type": "stream",
     "text": [
      "\r",
      "                                                                               \r",
      "\r",
      " 89% 6476 |##################################################       |   3.0 B/s"
     ]
    },
    {
     "name": "stdout",
     "output_type": "stream",
     "text": [
      "skipping record wih invalid buffers in snapshot 499668, filename 2018-08-14--12-38-09--541 and camera [-0.0599999986588955, 33.5, 6.07649993896484]\n"
     ]
    },
    {
     "name": "stderr",
     "output_type": "stream",
     "text": [
      "\r",
      "                                                                               \r",
      "\r",
      " 89% 6477 |##################################################       |   3.0 B/s"
     ]
    },
    {
     "name": "stdout",
     "output_type": "stream",
     "text": [
      "skipping record wih invalid buffers in snapshot 499669, filename 2018-08-14--12-38-09--912 and camera [-16.0599994659424, 17.5, 6.07649993896484]\n",
      "skipping record wih invalid buffers in snapshot 499670, filename 2018-08-14--12-38-10--242 and camera [0.480000019073486, 1.5, 1.07649993896484]\n"
     ]
    },
    {
     "name": "stderr",
     "output_type": "stream",
     "text": [
      "\r",
      "                                                                               \r",
      "\r",
      " 89% 6479 |##################################################       |   3.0 B/s"
     ]
    },
    {
     "name": "stdout",
     "output_type": "stream",
     "text": [
      "skipping record wih invalid buffers in snapshot 499672, filename 2018-08-14--12-38-10--972 and camera [-0.0599999986588955, 1.5, 1.07649993896484]\n",
      "skipping record wih invalid buffers in snapshot 499671, filename 2018-08-14--12-38-10--552 and camera [-0.0599999986588955, 17.5, 25.0764999389648]\n"
     ]
    },
    {
     "name": "stderr",
     "output_type": "stream",
     "text": [
      " 89% 6482 |##################################################       |   3.0 B/s"
     ]
    },
    {
     "name": "stdout",
     "output_type": "stream",
     "text": [
      "skipping record wih invalid buffers in snapshot 499673, filename 2018-08-14--12-38-11--279 and camera [15.9399995803833, 17.5, 6.07649993896484]\n",
      "skipping record wih invalid buffers in snapshot 499674, filename 2018-08-14--12-38-11--623 and camera [-0.0599999986588955, 33.5, 6.07649993896484]\n"
     ]
    },
    {
     "name": "stderr",
     "output_type": "stream",
     "text": [
      "\r",
      "                                                                               \r",
      "\r",
      " 89% 6483 |##################################################       |   3.0 B/s"
     ]
    },
    {
     "name": "stdout",
     "output_type": "stream",
     "text": [
      "skipping record wih invalid buffers in snapshot 499676, filename 2018-08-14--12-38-12--216 and camera [0.480000019073486, 1.5, 1.07649993896484]\n"
     ]
    },
    {
     "name": "stderr",
     "output_type": "stream",
     "text": [
      "\r",
      "                                                                               \r",
      "\r",
      " 89% 6484 |##################################################       |   3.0 B/s"
     ]
    },
    {
     "name": "stdout",
     "output_type": "stream",
     "text": [
      "skipping record wih invalid buffers in snapshot 499675, filename 2018-08-14--12-38-11--906 and camera [-16.0599994659424, 17.5, 6.07649993896484]\n"
     ]
    },
    {
     "name": "stderr",
     "output_type": "stream",
     "text": [
      " 89% 6486 |##################################################       |   3.0 B/s"
     ]
    },
    {
     "name": "stdout",
     "output_type": "stream",
     "text": [
      "skipping record wih invalid buffers in snapshot 499677, filename 2018-08-14--12-38-12--568 and camera [-0.0599999986588955, 17.5, 25.0764999389648]\n",
      "skipping record wih invalid buffers in snapshot 499678, filename 2018-08-14--12-38-13--036 and camera [-0.0599999986588955, 1.5, 1.07649993896484]\n"
     ]
    },
    {
     "name": "stderr",
     "output_type": "stream",
     "text": [
      "\r",
      "                                                                               \r",
      "\r",
      " 89% 6487 |###################################################      |   3.0 B/s"
     ]
    },
    {
     "name": "stdout",
     "output_type": "stream",
     "text": [
      "skipping record wih invalid buffers in snapshot 499680, filename 2018-08-14--12-38-13--616 and camera [-0.0599999986588955, 33.5, 6.07649993896484]\n",
      "skipping record wih invalid buffers in snapshot 499679, filename 2018-08-14--12-38-13--301 and camera [15.9399995803833, 17.5, 6.07649993896484]\n"
     ]
    },
    {
     "name": "stderr",
     "output_type": "stream",
     "text": [
      "\r",
      "                                                                               \r",
      "\r",
      " 89% 6489 |###################################################      |   3.0 B/s"
     ]
    },
    {
     "name": "stdout",
     "output_type": "stream",
     "text": [
      "skipping record wih invalid buffers in snapshot 499681, filename 2018-08-14--12-38-13--949 and camera [-16.0599994659424, 17.5, 6.07649993896484]\n"
     ]
    },
    {
     "name": "stderr",
     "output_type": "stream",
     "text": [
      "\r",
      "                                                                               \r",
      "\r",
      " 89% 6490 |###################################################      |   3.0 B/s"
     ]
    },
    {
     "name": "stdout",
     "output_type": "stream",
     "text": [
      "skipping record wih invalid buffers in snapshot 499682, filename 2018-08-14--12-38-14--235 and camera [0.480000019073486, 1.5, 1.07649993896484]\n"
     ]
    },
    {
     "name": "stderr",
     "output_type": "stream",
     "text": [
      "\r",
      "                                                                               \r",
      "\r",
      " 89% 6491 |###################################################      |   3.0 B/s"
     ]
    },
    {
     "name": "stdout",
     "output_type": "stream",
     "text": [
      "skipping record wih invalid buffers in snapshot 499683, filename 2018-08-14--12-38-14--542 and camera [-0.0599999986588955, 17.5, 25.0764999389648]\n"
     ]
    },
    {
     "name": "stderr",
     "output_type": "stream",
     "text": [
      " 89% 6493 |###################################################      |   3.0 B/s"
     ]
    },
    {
     "name": "stdout",
     "output_type": "stream",
     "text": [
      "skipping record wih invalid buffers in snapshot 499684, filename 2018-08-14--12-38-15--041 and camera [-0.0599999986588955, 1.5, 1.07649993896484]\n",
      "skipping record wih invalid buffers in snapshot 499685, filename 2018-08-14--12-38-15--346 and camera [15.9399995803833, 17.5, 6.07649993896484]\n",
      "skipping record wih invalid buffers in snapshot 499687, filename 2018-08-14--12-38-15--947 and camera [-16.0599994659424, 17.5, 6.07649993896484]\n"
     ]
    },
    {
     "name": "stderr",
     "output_type": "stream",
     "text": [
      "\r",
      "                                                                               \r",
      "\r",
      " 89% 6495 |###################################################      |   3.0 B/s"
     ]
    },
    {
     "name": "stdout",
     "output_type": "stream",
     "text": [
      "skipping record wih invalid buffers in snapshot 499686, filename 2018-08-14--12-38-15--629 and camera [-0.0599999986588955, 33.5, 6.07649993896484]\n"
     ]
    },
    {
     "name": "stderr",
     "output_type": "stream",
     "text": [
      " 89% 6497 |###################################################      |   3.0 B/s"
     ]
    },
    {
     "name": "stdout",
     "output_type": "stream",
     "text": [
      "skipping record wih invalid buffers in snapshot 499688, filename 2018-08-14--12-38-16--282 and camera [0.480000019073486, 1.5, 1.07649993896484]\n",
      "skipping record wih invalid buffers in snapshot 499689, filename 2018-08-14--12-38-16--593 and camera [-0.0599999986588955, 17.5, 25.0764999389648]\n"
     ]
    },
    {
     "name": "stderr",
     "output_type": "stream",
     "text": [
      " 89% 6499 |###################################################      |   3.0 B/s"
     ]
    },
    {
     "name": "stdout",
     "output_type": "stream",
     "text": [
      "skipping record wih invalid buffers in snapshot 499691, filename 2018-08-14--12-38-17--318 and camera [15.9399995803833, 17.5, 6.07649993896484]\n",
      "skipping record wih invalid buffers in snapshot 499692, filename 2018-08-14--12-38-17--657 and camera [-0.0599999986588955, 33.5, 6.07649993896484]\n"
     ]
    },
    {
     "name": "stderr",
     "output_type": "stream",
     "text": [
      "\r",
      "                                                                               \r",
      "\r",
      " 89% 6501 |###################################################      |   3.0 B/s"
     ]
    },
    {
     "name": "stdout",
     "output_type": "stream",
     "text": [
      "skipping record wih invalid buffers in snapshot 499693, filename 2018-08-14--12-38-17--953 and camera [-16.0599994659424, 17.5, 6.07649993896484]\n",
      "skipping record wih invalid buffers in snapshot 499694, filename 2018-08-14--12-38-18--282 and camera [0.480000019073486, 1.5, 1.07649993896484]\n",
      "skipping record wih invalid buffers in snapshot 499695, filename 2018-08-14--12-38-18--604 and camera [-0.0599999986588955, 17.5, 25.0764999389648]\n"
     ]
    },
    {
     "name": "stderr",
     "output_type": "stream",
     "text": [
      " 89% 6507 |###################################################      |   3.0 B/s"
     ]
    },
    {
     "name": "stdout",
     "output_type": "stream",
     "text": [
      "skipping record wih invalid buffers in snapshot 499698, filename 2018-08-14--12-38-19--838 and camera [-0.0599999986588955, 33.5, 6.07649993896484]\n",
      "skipping record wih invalid buffers in snapshot 499697, filename 2018-08-14--12-38-19--374 and camera [15.9399995803833, 17.5, 6.07649993896484]\n",
      "skipping record wih invalid buffers in snapshot 499699, filename 2018-08-14--12-38-20--148 and camera [-16.0599994659424, 17.5, 6.07649993896484]\n",
      "skipping record wih invalid buffers in snapshot 499700, filename 2018-08-14--12-38-20--481 and camera [0.480000019073486, 1.5, 1.07649993896484]\n"
     ]
    },
    {
     "name": "stderr",
     "output_type": "stream",
     "text": [
      "\r",
      "                                                                               \r",
      "\r",
      " 89% 6508 |###################################################      |   3.0 B/s"
     ]
    },
    {
     "name": "stdout",
     "output_type": "stream",
     "text": [
      "skipping record wih invalid buffers in snapshot 499701, filename 2018-08-14--12-38-20--791 and camera [-0.0599999986588955, 17.5, 25.0764999389648]\n"
     ]
    },
    {
     "name": "stderr",
     "output_type": "stream",
     "text": [
      "\r",
      "                                                                               \r",
      "\r",
      " 89% 6510 |###################################################      |   3.0 B/s"
     ]
    },
    {
     "name": "stdout",
     "output_type": "stream",
     "text": [
      "skipping record wih invalid buffers in snapshot 499704, filename 2018-08-14--12-38-21--847 and camera [-0.0599999986588955, 33.5, 6.07649993896484]\n",
      "skipping record wih invalid buffers in snapshot 499702, filename 2018-08-14--12-38-21--222 and camera [-0.0599999986588955, 1.5, 1.07649993896484]\n"
     ]
    },
    {
     "name": "stderr",
     "output_type": "stream",
     "text": [
      "\r",
      "                                                                               \r",
      "\r",
      " 89% 6512 |###################################################      |   3.0 B/s"
     ]
    },
    {
     "name": "stdout",
     "output_type": "stream",
     "text": [
      "skipping record wih invalid buffers in snapshot 499703, filename 2018-08-14--12-38-21--519 and camera [15.9399995803833, 17.5, 6.07649993896484]\n"
     ]
    },
    {
     "name": "stderr",
     "output_type": "stream",
     "text": [
      "\r",
      "                                                                               \r",
      "\r",
      " 89% 6513 |###################################################      |   3.0 B/s"
     ]
    },
    {
     "name": "stdout",
     "output_type": "stream",
     "text": [
      "skipping record wih invalid buffers in snapshot 499705, filename 2018-08-14--12-38-22--139 and camera [-16.0599994659424, 17.5, 6.07649993896484]\n",
      "skipping record wih invalid buffers in snapshot 499707, filename 2018-08-14--12-38-22--774 and camera [-0.0599999986588955, 17.5, 25.0764999389648]\n",
      "skipping record wih invalid buffers in snapshot 499706, filename 2018-08-14--12-38-22--460 and camera [0.480000019073486, 1.5, 1.07649993896484]\n"
     ]
    },
    {
     "name": "stderr",
     "output_type": "stream",
     "text": [
      "\r",
      "                                                                               \r",
      "\r",
      " 89% 6516 |###################################################      |   3.0 B/s"
     ]
    },
    {
     "name": "stdout",
     "output_type": "stream",
     "text": [
      "skipping record wih invalid buffers in snapshot 499709, filename 2018-08-14--12-38-23--510 and camera [15.9399995803833, 17.5, 6.07649993896484]\n",
      "skipping record wih invalid buffers in snapshot 499708, filename 2018-08-14--12-38-23--244 and camera [-0.0599999986588955, 1.5, 1.07649993896484]\n"
     ]
    },
    {
     "name": "stderr",
     "output_type": "stream",
     "text": [
      "\r",
      "                                                                               \r",
      "\r",
      " 89% 6518 |###################################################      |   3.0 B/s"
     ]
    },
    {
     "name": "stdout",
     "output_type": "stream",
     "text": [
      "skipping record wih invalid buffers in snapshot 499710, filename 2018-08-14--12-38-23--812 and camera [-0.0599999986588955, 33.5, 6.07649993896484]\n"
     ]
    },
    {
     "name": "stderr",
     "output_type": "stream",
     "text": [
      "\r",
      "                                                                               \r",
      "\r",
      " 89% 6519 |###################################################      |   3.0 B/s"
     ]
    },
    {
     "name": "stdout",
     "output_type": "stream",
     "text": [
      "skipping record wih invalid buffers in snapshot 499712, filename 2018-08-14--12-38-24--425 and camera [0.480000019073486, 1.5, 1.07649993896484]\n",
      "skipping record wih invalid buffers in snapshot 499713, filename 2018-08-14--12-38-24--724 and camera [-0.0599999986588955, 17.5, 25.0764999389648]\n",
      "skipping record wih invalid buffers in snapshot 499711, filename 2018-08-14--12-38-24--146 and camera [-16.0599994659424, 17.5, 6.07649993896484]\n"
     ]
    },
    {
     "name": "stderr",
     "output_type": "stream",
     "text": [
      " 89% 6524 |###################################################      |   3.0 B/s"
     ]
    },
    {
     "name": "stdout",
     "output_type": "stream",
     "text": [
      "skipping record wih invalid buffers in snapshot 499714, filename 2018-08-14--12-38-25--204 and camera [-0.0599999986588955, 1.5, 1.07649993896484]\n",
      "skipping record wih invalid buffers in snapshot 499716, filename 2018-08-14--12-38-25--804 and camera [-0.0599999986588955, 33.5, 6.07649993896484]\n",
      "skipping record wih invalid buffers in snapshot 499715, filename 2018-08-14--12-38-25--524 and camera [15.9399995803833, 17.5, 6.07649993896484]\n"
     ]
    },
    {
     "name": "stderr",
     "output_type": "stream",
     "text": [
      " 90% 6526 |###################################################      |   3.0 B/s"
     ]
    },
    {
     "name": "stdout",
     "output_type": "stream",
     "text": [
      "skipping record wih invalid buffers in snapshot 499717, filename 2018-08-14--12-38-26--105 and camera [-16.0599994659424, 17.5, 6.07649993896484]\n",
      "skipping record wih invalid buffers in snapshot 499718, filename 2018-08-14--12-38-26--426 and camera [0.480000019073486, 1.5, 1.07649993896484]\n"
     ]
    },
    {
     "name": "stderr",
     "output_type": "stream",
     "text": [
      " 96% 6995 |######################################################   |   3.0 B/s"
     ]
    },
    {
     "name": "stdout",
     "output_type": "stream",
     "text": [
      "skipping record wih invalid buffers in snapshot 500190, filename 2018-08-14--12-41-16--447 and camera [0.480000019073486, 1.5, 1.07649993896484]\n"
     ]
    },
    {
     "name": "stderr",
     "output_type": "stream",
     "text": [
      "\r",
      "                                                                               \r",
      "\r",
      " 96% 6997 |#######################################################  |   3.0 B/s"
     ]
    },
    {
     "name": "stdout",
     "output_type": "stream",
     "text": [
      "skipping record wih invalid buffers in snapshot 500191, filename 2018-08-14--12-41-16--785 and camera [-0.0599999986588955, 17.5, 25.0764999389648]\n",
      "skipping record wih invalid buffers in snapshot 500192, filename 2018-08-14--12-41-17--227 and camera [-0.0599999986588955, 1.5, 1.07649993896484]\n"
     ]
    },
    {
     "name": "stderr",
     "output_type": "stream",
     "text": [
      " 96% 7001 |#######################################################  |   3.0 B/s"
     ]
    },
    {
     "name": "stdout",
     "output_type": "stream",
     "text": [
      "skipping record wih invalid buffers in snapshot 500194, filename 2018-08-14--12-41-17--863 and camera [-0.0599999986588955, 33.5, 6.07649993896484]\n",
      "skipping record wih invalid buffers in snapshot 500193, filename 2018-08-14--12-41-17--525 and camera [15.9399995803833, 17.5, 6.07649993896484]\n"
     ]
    },
    {
     "name": "stderr",
     "output_type": "stream",
     "text": [
      "\r",
      "                                                                               \r",
      "\r",
      " 96% 7003 |#######################################################  |   3.0 B/s"
     ]
    },
    {
     "name": "stdout",
     "output_type": "stream",
     "text": [
      "skipping record wih invalid buffers in snapshot 500195, filename 2018-08-14--12-41-18--141 and camera [-16.0599994659424, 17.5, 6.07649993896484]\n"
     ]
    },
    {
     "name": "stderr",
     "output_type": "stream",
     "text": [
      "\r",
      "                                                                               \r",
      "\r",
      " 96% 7004 |#######################################################  |   3.0 B/s"
     ]
    },
    {
     "name": "stdout",
     "output_type": "stream",
     "text": [
      "skipping record wih invalid buffers in snapshot 500198, filename 2018-08-14--12-41-19--227 and camera [-0.0599999986588955, 1.5, 1.07649993896484]\n",
      "skipping record wih invalid buffers in snapshot 500197, filename 2018-08-14--12-41-18--754 and camera [-0.0599999986588955, 17.5, 25.0764999389648]\n"
     ]
    },
    {
     "name": "stderr",
     "output_type": "stream",
     "text": [
      " 96% 7008 |#######################################################  |   3.0 B/s"
     ]
    },
    {
     "name": "stdout",
     "output_type": "stream",
     "text": [
      "skipping record wih invalid buffers in snapshot 500199, filename 2018-08-14--12-41-19--555 and camera [15.9399995803833, 17.5, 6.07649993896484]\n",
      "skipping record wih invalid buffers in snapshot 500200, filename 2018-08-14--12-41-19--838 and camera [-0.0599999986588955, 33.5, 6.07649993896484]\n"
     ]
    },
    {
     "name": "stderr",
     "output_type": "stream",
     "text": [
      "\r",
      "                                                                               \r",
      "\r",
      " 96% 7009 |#######################################################  |   3.0 B/s"
     ]
    },
    {
     "name": "stdout",
     "output_type": "stream",
     "text": [
      "skipping record wih invalid buffers in snapshot 500201, filename 2018-08-14--12-41-20--149 and camera [-16.0599994659424, 17.5, 6.07649993896484]\n"
     ]
    },
    {
     "name": "stderr",
     "output_type": "stream",
     "text": [
      "\r",
      "                                                                               \r",
      "\r",
      " 96% 7010 |#######################################################  |   3.0 B/s"
     ]
    },
    {
     "name": "stdout",
     "output_type": "stream",
     "text": [
      "skipping record wih invalid buffers in snapshot 500203, filename 2018-08-14--12-41-20--728 and camera [-0.0599999986588955, 17.5, 25.0764999389648]\n",
      "skipping record wih invalid buffers in snapshot 500202, filename 2018-08-14--12-41-20--464 and camera [0.480000019073486, 1.5, 1.07649993896484]\n"
     ]
    },
    {
     "name": "stderr",
     "output_type": "stream",
     "text": [
      "\r",
      "                                                                               \r",
      "\r",
      " 96% 7012 |#######################################################  |   3.0 B/s"
     ]
    },
    {
     "name": "stdout",
     "output_type": "stream",
     "text": [
      "skipping record wih invalid buffers in snapshot 500204, filename 2018-08-14--12-41-21--178 and camera [-0.0599999986588955, 1.5, 1.07649993896484]\n"
     ]
    },
    {
     "name": "stderr",
     "output_type": "stream",
     "text": [
      " 96% 7014 |#######################################################  |   3.0 B/s"
     ]
    },
    {
     "name": "stdout",
     "output_type": "stream",
     "text": [
      "skipping record wih invalid buffers in snapshot 500205, filename 2018-08-14--12-41-21--504 and camera [15.9399995803833, 17.5, 6.07649993896484]\n",
      "skipping record wih invalid buffers in snapshot 500206, filename 2018-08-14--12-41-21--835 and camera [-0.0599999986588955, 33.5, 6.07649993896484]\n",
      "skipping record wih invalid buffers in snapshot 500207, filename 2018-08-14--12-41-22--120 and camera [-16.0599994659424, 17.5, 6.07649993896484]\n"
     ]
    },
    {
     "name": "stderr",
     "output_type": "stream",
     "text": [
      "\r",
      "                                                                               \r",
      "\r",
      " 96% 7016 |#######################################################  |   3.0 B/s"
     ]
    },
    {
     "name": "stdout",
     "output_type": "stream",
     "text": [
      "skipping record wih invalid buffers in snapshot 500208, filename 2018-08-14--12-41-22--431 and camera [0.480000019073486, 1.5, 1.07649993896484]\n"
     ]
    },
    {
     "name": "stderr",
     "output_type": "stream",
     "text": [
      "\r",
      "                                                                               \r",
      "\r",
      " 96% 7017 |#######################################################  |   3.0 B/s"
     ]
    },
    {
     "name": "stdout",
     "output_type": "stream",
     "text": [
      "skipping record wih invalid buffers in snapshot 500209, filename 2018-08-14--12-41-22--781 and camera [-0.0599999986588955, 17.5, 25.0764999389648]\n"
     ]
    },
    {
     "name": "stderr",
     "output_type": "stream",
     "text": [
      "\r",
      "                                                                               \r",
      "\r",
      " 96% 7018 |#######################################################  |   3.0 B/s"
     ]
    },
    {
     "name": "stdout",
     "output_type": "stream",
     "text": [
      "skipping record wih invalid buffers in snapshot 500210, filename 2018-08-14--12-41-23--251 and camera [-0.0599999986588955, 1.5, 1.07649993896484]\n"
     ]
    },
    {
     "name": "stderr",
     "output_type": "stream",
     "text": [
      " 96% 7020 |#######################################################  |   3.0 B/s"
     ]
    },
    {
     "name": "stdout",
     "output_type": "stream",
     "text": [
      "skipping record wih invalid buffers in snapshot 500211, filename 2018-08-14--12-41-23--545 and camera [15.9399995803833, 17.5, 6.07649993896484]\n",
      "skipping record wih invalid buffers in snapshot 500213, filename 2018-08-14--12-41-24--391 and camera [-16.0599994659424, 17.5, 6.07649993896484]\n",
      "skipping record wih invalid buffers in snapshot 500212, filename 2018-08-14--12-41-24--016 and camera [-0.0599999986588955, 33.5, 6.07649993896484]\n"
     ]
    },
    {
     "name": "stderr",
     "output_type": "stream",
     "text": [
      "\r",
      "                                                                               \r",
      "\r",
      " 96% 7022 |#######################################################  |   3.0 B/s"
     ]
    },
    {
     "name": "stdout",
     "output_type": "stream",
     "text": [
      "skipping record wih invalid buffers in snapshot 500214, filename 2018-08-14--12-41-24--751 and camera [0.480000019073486, 1.5, 1.07649993896484]\n"
     ]
    },
    {
     "name": "stderr",
     "output_type": "stream",
     "text": [
      "\r",
      "                                                                               \r",
      "\r",
      " 96% 7023 |#######################################################  |   3.0 B/s"
     ]
    },
    {
     "name": "stdout",
     "output_type": "stream",
     "text": [
      "skipping record wih invalid buffers in snapshot 500215, filename 2018-08-14--12-41-25--041 and camera [-0.0599999986588955, 17.5, 25.0764999389648]\n"
     ]
    },
    {
     "name": "stderr",
     "output_type": "stream",
     "text": [
      " 96% 7025 |#######################################################  |   3.0 B/s"
     ]
    },
    {
     "name": "stdout",
     "output_type": "stream",
     "text": [
      "skipping record wih invalid buffers in snapshot 500216, filename 2018-08-14--12-41-25--518 and camera [-0.0599999986588955, 1.5, 1.07649993896484]\n",
      "skipping record wih invalid buffers in snapshot 500217, filename 2018-08-14--12-41-25--854 and camera [15.9399995803833, 17.5, 6.07649993896484]\n"
     ]
    },
    {
     "name": "stderr",
     "output_type": "stream",
     "text": [
      " 96% 7027 |#######################################################  |   3.0 B/s"
     ]
    },
    {
     "name": "stdout",
     "output_type": "stream",
     "text": [
      "skipping record wih invalid buffers in snapshot 500219, filename 2018-08-14--12-41-26--463 and camera [-16.0599994659424, 17.5, 6.07649993896484]\n",
      "skipping record wih invalid buffers in snapshot 500220, filename 2018-08-14--12-41-26--819 and camera [0.480000019073486, 1.5, 1.07649993896484]\n",
      "skipping record wih invalid buffers in snapshot 500221, filename 2018-08-14--12-41-27--145 and camera [-0.0599999986588955, 17.5, 25.0764999389648]\n"
     ]
    },
    {
     "name": "stderr",
     "output_type": "stream",
     "text": [
      "\r",
      "                                                                               \r",
      "\r",
      " 96% 7029 |#######################################################  |   3.0 B/s"
     ]
    },
    {
     "name": "stdout",
     "output_type": "stream",
     "text": [
      "skipping record wih invalid buffers in snapshot 500222, filename 2018-08-14--12-41-27--601 and camera [-0.0599999986588955, 1.5, 1.07649993896484]\n",
      "skipping record wih invalid buffers in snapshot 500223, filename 2018-08-14--12-41-27--906 and camera [15.9399995803833, 17.5, 6.07649993896484]\n"
     ]
    },
    {
     "name": "stderr",
     "output_type": "stream",
     "text": [
      " 96% 7032 |#######################################################  |   3.0 B/s"
     ]
    },
    {
     "name": "stdout",
     "output_type": "stream",
     "text": [
      "skipping record wih invalid buffers in snapshot 500224, filename 2018-08-14--12-41-28--255 and camera [-0.0599999986588955, 33.5, 6.07649993896484]\n"
     ]
    },
    {
     "name": "stderr",
     "output_type": "stream",
     "text": [
      " 97% 7035 |#######################################################  |   3.0 B/s"
     ]
    },
    {
     "name": "stdout",
     "output_type": "stream",
     "text": [
      "skipping record wih invalid buffers in snapshot 500226, filename 2018-08-14--12-41-28--841 and camera [0.480000019073486, 1.5, 1.07649993896484]\n",
      "skipping record wih invalid buffers in snapshot 500225, filename 2018-08-14--12-41-28--525 and camera [-16.0599994659424, 17.5, 6.07649993896484]\n",
      "skipping record wih invalid buffers in snapshot 500228, filename 2018-08-14--12-41-29--658 and camera [-0.0599999986588955, 1.5, 1.07649993896484]\n"
     ]
    },
    {
     "name": "stderr",
     "output_type": "stream",
     "text": [
      "\r",
      "                                                                               \r",
      "\r",
      " 97% 7037 |#######################################################  |   3.0 B/s"
     ]
    },
    {
     "name": "stdout",
     "output_type": "stream",
     "text": [
      "skipping record wih invalid buffers in snapshot 500227, filename 2018-08-14--12-41-29--187 and camera [-0.0599999986588955, 17.5, 25.0764999389648]\n",
      "skipping record wih invalid buffers in snapshot 500229, filename 2018-08-14--12-41-29--938 and camera [15.9399995803833, 17.5, 6.07649993896484]\n"
     ]
    },
    {
     "name": "stderr",
     "output_type": "stream",
     "text": [
      "\r",
      "                                                                               \r",
      "\r",
      " 97% 7038 |#######################################################  |   3.0 B/s"
     ]
    },
    {
     "name": "stdout",
     "output_type": "stream",
     "text": [
      "skipping record wih invalid buffers in snapshot 500230, filename 2018-08-14--12-41-30--277 and camera [-0.0599999986588955, 33.5, 6.07649993896484]\n"
     ]
    },
    {
     "name": "stderr",
     "output_type": "stream",
     "text": [
      "\r",
      "                                                                               \r",
      "\r",
      " 97% 7039 |#######################################################  |   3.0 B/s"
     ]
    },
    {
     "name": "stdout",
     "output_type": "stream",
     "text": [
      "skipping record wih invalid buffers in snapshot 500231, filename 2018-08-14--12-41-30--600 and camera [-16.0599994659424, 17.5, 6.07649993896484]\n",
      "skipping record wih invalid buffers in snapshot 500232, filename 2018-08-14--12-41-30--879 and camera [0.480000019073486, 1.5, 1.07649993896484]\n"
     ]
    },
    {
     "name": "stderr",
     "output_type": "stream",
     "text": [
      " 97% 7042 |#######################################################  |   3.0 B/s"
     ]
    },
    {
     "name": "stdout",
     "output_type": "stream",
     "text": [
      "skipping record wih invalid buffers in snapshot 500233, filename 2018-08-14--12-41-31--174 and camera [-0.0599999986588955, 17.5, 25.0764999389648]\n",
      "skipping record wih invalid buffers in snapshot 500235, filename 2018-08-14--12-41-31--985 and camera [15.9399995803833, 17.5, 6.07649993896484]\n",
      "skipping record wih invalid buffers in snapshot 500236, filename 2018-08-14--12-41-32--262 and camera [-0.0599999986588955, 33.5, 6.07649993896484]\n",
      "skipping record wih invalid buffers in snapshot 500234, filename 2018-08-14--12-41-31--661 and camera [-0.0599999986588955, 1.5, 1.07649993896484]\n"
     ]
    },
    {
     "name": "stderr",
     "output_type": "stream",
     "text": [
      "\r",
      "                                                                               \r",
      "\r",
      " 97% 7045 |#######################################################  |   3.0 B/s"
     ]
    },
    {
     "name": "stdout",
     "output_type": "stream",
     "text": [
      "skipping record wih invalid buffers in snapshot 500237, filename 2018-08-14--12-41-32--635 and camera [-16.0599994659424, 17.5, 6.07649993896484]\n"
     ]
    },
    {
     "name": "stderr",
     "output_type": "stream",
     "text": [
      " 98% 7111 |#######################################################  |   3.0 B/s"
     ]
    },
    {
     "name": "stdout",
     "output_type": "stream",
     "text": [
      "skipping record wih invalid buffers in snapshot 500307, filename 2018-08-14--12-41-58--489 and camera [-0.0599999986588955, 33.5, 6.07649993896484]\n"
     ]
    },
    {
     "name": "stderr",
     "output_type": "stream",
     "text": [
      " 98% 7116 |#######################################################  |   3.0 B/s"
     ]
    },
    {
     "name": "stdout",
     "output_type": "stream",
     "text": [
      "skipping record wih invalid buffers in snapshot 500308, filename 2018-08-14--12-41-58--812 and camera [-16.0599994659424, 17.5, 6.07649993896484]\n"
     ]
    },
    {
     "name": "stderr",
     "output_type": "stream",
     "text": [
      "100% 7250 |#########################################################|   3.0 B/s"
     ]
    },
    {
     "name": "stdout",
     "output_type": "stream",
     "text": [
      "done\n"
     ]
    }
   ],
   "source": [
    "workers = 6\n",
    "# todo: kouknout na snímky 33, 34. z kamery 0 u offroad 7, jsou tam nesedící hloubka a stencil\n",
    "widgets = [progressbar.Percentage(), ' ', progressbar.Counter(), ' ', progressbar.Bar(), ' ',\n",
    "           progressbar.FileTransferSpeed()]\n",
    "\n",
    "pbar = progressbar.ProgressBar(widgets=widgets, maxval=len(results)).start()\n",
    "counter = 0\n",
    "\n",
    "Parallel(n_jobs=workers, backend='threading')(delayed(try_dump_snapshot_to_dataset)(in_directory, get_out_directory(out_directory, i, directory_per_camera), i, run_id, include_entities) for i in results)\n",
    "print('done')"
   ]
  },
  {
   "cell_type": "markdown",
   "metadata": {},
   "source": [
    "### copying to linux into datagrid dir"
   ]
  },
  {
   "cell_type": "code",
   "execution_count": null,
   "metadata": {
    "scrolled": true
   },
   "outputs": [
    {
     "name": "stderr",
     "output_type": "stream",
     "text": [
      "  8% 812 |#####                                                     |   2.0 B/s"
     ]
    }
   ],
   "source": [
    "def copy_file(in_path, out_path):\n",
    "    if os.path.exists(out_path):\n",
    "        return\n",
    "    copyfile(in_path, out_path)\n",
    "\n",
    "def copy_files(in_dir, out_dir, name):\n",
    "    if 'pbar' in globals() and 'counter' in globals():\n",
    "        global counter\n",
    "        counter += 1\n",
    "        pbar.update(counter)\n",
    "\n",
    "    rgb_name = name+'.jpg'\n",
    "    json_name = name+'.json'\n",
    "    depth_name = name+'-depth.png'\n",
    "    stencil_name = name+'-stencil.png'\n",
    "    \n",
    "    copyfile(os.path.join(in_dir, rgb_name), os.path.join(out_dir, rgb_name))\n",
    "    copyfile(os.path.join(in_dir, json_name), os.path.join(out_dir, json_name))\n",
    "    copyfile(os.path.join(in_dir, depth_name), os.path.join(out_dir, depth_name))\n",
    "    copyfile(os.path.join(in_dir, stencil_name), os.path.join(out_dir, stencil_name))\n",
    "\n",
    "workers = 8\n",
    "\n",
    "windows_in_directory = r'D:\\output-datasets\\offroad-6'\n",
    "linux_out_directory = r'Z:\\offroad-6'\n",
    "\n",
    "if not os.path.exists(linux_out_directory):\n",
    "    os.makedirs(linux_out_directory)\n",
    "\n",
    "widgets = [progressbar.Percentage(), ' ', progressbar.Counter(), ' ', progressbar.Bar(), ' ',\n",
    "           progressbar.FileTransferSpeed()]\n",
    "\n",
    "pbar = progressbar.ProgressBar(widgets=widgets, max_value=len(results)).start()\n",
    "counter = 0\n",
    "\n",
    "Parallel(n_jobs=workers, backend='threading')(\n",
    "    delayed(copy_files)(windows_in_directory, linux_out_directory, i['imagepath']) for i in results)\n"
   ]
  },
  {
   "cell_type": "markdown",
   "metadata": {},
   "source": [
    "### copying original tiffs to linux into datagrid dir, only one run from database"
   ]
  },
  {
   "cell_type": "code",
   "execution_count": 42,
   "metadata": {},
   "outputs": [
    {
     "name": "stderr",
     "output_type": "stream",
     "text": [
      "  0% 42 |                                                           |   0.7 B/s"
     ]
    },
    {
     "ename": "KeyboardInterrupt",
     "evalue": "",
     "output_type": "error",
     "traceback": [
      "\u001b[1;31m---------------------------------------------------------------------------\u001b[0m",
      "\u001b[1;31mKeyboardInterrupt\u001b[0m                         Traceback (most recent call last)",
      "\u001b[1;32m<ipython-input-42-505770c9802e>\u001b[0m in \u001b[0;36m<module>\u001b[1;34m()\u001b[0m\n\u001b[0;32m     29\u001b[0m \u001b[1;33m\u001b[0m\u001b[0m\n\u001b[0;32m     30\u001b[0m Parallel(n_jobs=workers, backend='threading')(\n\u001b[1;32m---> 31\u001b[1;33m     delayed(copy_files)(in_directory, out_directory, i['imagepath']) for i in results)\n\u001b[0m",
      "\u001b[1;32mC:\\ProgramData\\Anaconda3\\lib\\site-packages\\joblib\\parallel.py\u001b[0m in \u001b[0;36m__call__\u001b[1;34m(self, iterable)\u001b[0m\n\u001b[0;32m    787\u001b[0m                 \u001b[1;31m# consumption.\u001b[0m\u001b[1;33m\u001b[0m\u001b[1;33m\u001b[0m\u001b[0m\n\u001b[0;32m    788\u001b[0m                 \u001b[0mself\u001b[0m\u001b[1;33m.\u001b[0m\u001b[0m_iterating\u001b[0m \u001b[1;33m=\u001b[0m \u001b[1;32mFalse\u001b[0m\u001b[1;33m\u001b[0m\u001b[0m\n\u001b[1;32m--> 789\u001b[1;33m             \u001b[0mself\u001b[0m\u001b[1;33m.\u001b[0m\u001b[0mretrieve\u001b[0m\u001b[1;33m(\u001b[0m\u001b[1;33m)\u001b[0m\u001b[1;33m\u001b[0m\u001b[0m\n\u001b[0m\u001b[0;32m    790\u001b[0m             \u001b[1;31m# Make sure that we get a last message telling us we are done\u001b[0m\u001b[1;33m\u001b[0m\u001b[1;33m\u001b[0m\u001b[0m\n\u001b[0;32m    791\u001b[0m             \u001b[0melapsed_time\u001b[0m \u001b[1;33m=\u001b[0m \u001b[0mtime\u001b[0m\u001b[1;33m.\u001b[0m\u001b[0mtime\u001b[0m\u001b[1;33m(\u001b[0m\u001b[1;33m)\u001b[0m \u001b[1;33m-\u001b[0m \u001b[0mself\u001b[0m\u001b[1;33m.\u001b[0m\u001b[0m_start_time\u001b[0m\u001b[1;33m\u001b[0m\u001b[0m\n",
      "\u001b[1;32mC:\\ProgramData\\Anaconda3\\lib\\site-packages\\joblib\\parallel.py\u001b[0m in \u001b[0;36mretrieve\u001b[1;34m(self)\u001b[0m\n\u001b[0;32m    697\u001b[0m             \u001b[1;32mtry\u001b[0m\u001b[1;33m:\u001b[0m\u001b[1;33m\u001b[0m\u001b[0m\n\u001b[0;32m    698\u001b[0m                 \u001b[1;32mif\u001b[0m \u001b[0mgetattr\u001b[0m\u001b[1;33m(\u001b[0m\u001b[0mself\u001b[0m\u001b[1;33m.\u001b[0m\u001b[0m_backend\u001b[0m\u001b[1;33m,\u001b[0m \u001b[1;34m'supports_timeout'\u001b[0m\u001b[1;33m,\u001b[0m \u001b[1;32mFalse\u001b[0m\u001b[1;33m)\u001b[0m\u001b[1;33m:\u001b[0m\u001b[1;33m\u001b[0m\u001b[0m\n\u001b[1;32m--> 699\u001b[1;33m                     \u001b[0mself\u001b[0m\u001b[1;33m.\u001b[0m\u001b[0m_output\u001b[0m\u001b[1;33m.\u001b[0m\u001b[0mextend\u001b[0m\u001b[1;33m(\u001b[0m\u001b[0mjob\u001b[0m\u001b[1;33m.\u001b[0m\u001b[0mget\u001b[0m\u001b[1;33m(\u001b[0m\u001b[0mtimeout\u001b[0m\u001b[1;33m=\u001b[0m\u001b[0mself\u001b[0m\u001b[1;33m.\u001b[0m\u001b[0mtimeout\u001b[0m\u001b[1;33m)\u001b[0m\u001b[1;33m)\u001b[0m\u001b[1;33m\u001b[0m\u001b[0m\n\u001b[0m\u001b[0;32m    700\u001b[0m                 \u001b[1;32melse\u001b[0m\u001b[1;33m:\u001b[0m\u001b[1;33m\u001b[0m\u001b[0m\n\u001b[0;32m    701\u001b[0m                     \u001b[0mself\u001b[0m\u001b[1;33m.\u001b[0m\u001b[0m_output\u001b[0m\u001b[1;33m.\u001b[0m\u001b[0mextend\u001b[0m\u001b[1;33m(\u001b[0m\u001b[0mjob\u001b[0m\u001b[1;33m.\u001b[0m\u001b[0mget\u001b[0m\u001b[1;33m(\u001b[0m\u001b[1;33m)\u001b[0m\u001b[1;33m)\u001b[0m\u001b[1;33m\u001b[0m\u001b[0m\n",
      "\u001b[1;32mC:\\ProgramData\\Anaconda3\\lib\\multiprocessing\\pool.py\u001b[0m in \u001b[0;36mget\u001b[1;34m(self, timeout)\u001b[0m\n\u001b[0;32m    636\u001b[0m \u001b[1;33m\u001b[0m\u001b[0m\n\u001b[0;32m    637\u001b[0m     \u001b[1;32mdef\u001b[0m \u001b[0mget\u001b[0m\u001b[1;33m(\u001b[0m\u001b[0mself\u001b[0m\u001b[1;33m,\u001b[0m \u001b[0mtimeout\u001b[0m\u001b[1;33m=\u001b[0m\u001b[1;32mNone\u001b[0m\u001b[1;33m)\u001b[0m\u001b[1;33m:\u001b[0m\u001b[1;33m\u001b[0m\u001b[0m\n\u001b[1;32m--> 638\u001b[1;33m         \u001b[0mself\u001b[0m\u001b[1;33m.\u001b[0m\u001b[0mwait\u001b[0m\u001b[1;33m(\u001b[0m\u001b[0mtimeout\u001b[0m\u001b[1;33m)\u001b[0m\u001b[1;33m\u001b[0m\u001b[0m\n\u001b[0m\u001b[0;32m    639\u001b[0m         \u001b[1;32mif\u001b[0m \u001b[1;32mnot\u001b[0m \u001b[0mself\u001b[0m\u001b[1;33m.\u001b[0m\u001b[0mready\u001b[0m\u001b[1;33m(\u001b[0m\u001b[1;33m)\u001b[0m\u001b[1;33m:\u001b[0m\u001b[1;33m\u001b[0m\u001b[0m\n\u001b[0;32m    640\u001b[0m             \u001b[1;32mraise\u001b[0m \u001b[0mTimeoutError\u001b[0m\u001b[1;33m\u001b[0m\u001b[0m\n",
      "\u001b[1;32mC:\\ProgramData\\Anaconda3\\lib\\multiprocessing\\pool.py\u001b[0m in \u001b[0;36mwait\u001b[1;34m(self, timeout)\u001b[0m\n\u001b[0;32m    633\u001b[0m \u001b[1;33m\u001b[0m\u001b[0m\n\u001b[0;32m    634\u001b[0m     \u001b[1;32mdef\u001b[0m \u001b[0mwait\u001b[0m\u001b[1;33m(\u001b[0m\u001b[0mself\u001b[0m\u001b[1;33m,\u001b[0m \u001b[0mtimeout\u001b[0m\u001b[1;33m=\u001b[0m\u001b[1;32mNone\u001b[0m\u001b[1;33m)\u001b[0m\u001b[1;33m:\u001b[0m\u001b[1;33m\u001b[0m\u001b[0m\n\u001b[1;32m--> 635\u001b[1;33m         \u001b[0mself\u001b[0m\u001b[1;33m.\u001b[0m\u001b[0m_event\u001b[0m\u001b[1;33m.\u001b[0m\u001b[0mwait\u001b[0m\u001b[1;33m(\u001b[0m\u001b[0mtimeout\u001b[0m\u001b[1;33m)\u001b[0m\u001b[1;33m\u001b[0m\u001b[0m\n\u001b[0m\u001b[0;32m    636\u001b[0m \u001b[1;33m\u001b[0m\u001b[0m\n\u001b[0;32m    637\u001b[0m     \u001b[1;32mdef\u001b[0m \u001b[0mget\u001b[0m\u001b[1;33m(\u001b[0m\u001b[0mself\u001b[0m\u001b[1;33m,\u001b[0m \u001b[0mtimeout\u001b[0m\u001b[1;33m=\u001b[0m\u001b[1;32mNone\u001b[0m\u001b[1;33m)\u001b[0m\u001b[1;33m:\u001b[0m\u001b[1;33m\u001b[0m\u001b[0m\n",
      "\u001b[1;32mC:\\ProgramData\\Anaconda3\\lib\\threading.py\u001b[0m in \u001b[0;36mwait\u001b[1;34m(self, timeout)\u001b[0m\n\u001b[0;32m    549\u001b[0m             \u001b[0msignaled\u001b[0m \u001b[1;33m=\u001b[0m \u001b[0mself\u001b[0m\u001b[1;33m.\u001b[0m\u001b[0m_flag\u001b[0m\u001b[1;33m\u001b[0m\u001b[0m\n\u001b[0;32m    550\u001b[0m             \u001b[1;32mif\u001b[0m \u001b[1;32mnot\u001b[0m \u001b[0msignaled\u001b[0m\u001b[1;33m:\u001b[0m\u001b[1;33m\u001b[0m\u001b[0m\n\u001b[1;32m--> 551\u001b[1;33m                 \u001b[0msignaled\u001b[0m \u001b[1;33m=\u001b[0m \u001b[0mself\u001b[0m\u001b[1;33m.\u001b[0m\u001b[0m_cond\u001b[0m\u001b[1;33m.\u001b[0m\u001b[0mwait\u001b[0m\u001b[1;33m(\u001b[0m\u001b[0mtimeout\u001b[0m\u001b[1;33m)\u001b[0m\u001b[1;33m\u001b[0m\u001b[0m\n\u001b[0m\u001b[0;32m    552\u001b[0m             \u001b[1;32mreturn\u001b[0m \u001b[0msignaled\u001b[0m\u001b[1;33m\u001b[0m\u001b[0m\n\u001b[0;32m    553\u001b[0m \u001b[1;33m\u001b[0m\u001b[0m\n",
      "\u001b[1;32mC:\\ProgramData\\Anaconda3\\lib\\threading.py\u001b[0m in \u001b[0;36mwait\u001b[1;34m(self, timeout)\u001b[0m\n\u001b[0;32m    293\u001b[0m         \u001b[1;32mtry\u001b[0m\u001b[1;33m:\u001b[0m    \u001b[1;31m# restore state no matter what (e.g., KeyboardInterrupt)\u001b[0m\u001b[1;33m\u001b[0m\u001b[0m\n\u001b[0;32m    294\u001b[0m             \u001b[1;32mif\u001b[0m \u001b[0mtimeout\u001b[0m \u001b[1;32mis\u001b[0m \u001b[1;32mNone\u001b[0m\u001b[1;33m:\u001b[0m\u001b[1;33m\u001b[0m\u001b[0m\n\u001b[1;32m--> 295\u001b[1;33m                 \u001b[0mwaiter\u001b[0m\u001b[1;33m.\u001b[0m\u001b[0macquire\u001b[0m\u001b[1;33m(\u001b[0m\u001b[1;33m)\u001b[0m\u001b[1;33m\u001b[0m\u001b[0m\n\u001b[0m\u001b[0;32m    296\u001b[0m                 \u001b[0mgotit\u001b[0m \u001b[1;33m=\u001b[0m \u001b[1;32mTrue\u001b[0m\u001b[1;33m\u001b[0m\u001b[0m\n\u001b[0;32m    297\u001b[0m             \u001b[1;32melse\u001b[0m\u001b[1;33m:\u001b[0m\u001b[1;33m\u001b[0m\u001b[0m\n",
      "\u001b[1;31mKeyboardInterrupt\u001b[0m: "
     ]
    }
   ],
   "source": [
    "def copy_file(in_path, out_path):\n",
    "    if os.path.exists(out_path):\n",
    "        return\n",
    "    copyfile(in_path, out_path)\n",
    "\n",
    "def copy_files(in_dir, out_dir, name):\n",
    "    if 'pbar' in globals() and 'counter' in globals():\n",
    "        global counter\n",
    "        counter += 1\n",
    "        pbar.update(counter)\n",
    "\n",
    "    rgb_name = name+'.tiff'\n",
    "    depth_name = name+'-depth.tiff'\n",
    "    stencil_name = name+'-stencil.tiff'\n",
    "    \n",
    "    copyfile(os.path.join(in_dir, rgb_name), os.path.join(out_dir, rgb_name))\n",
    "    copyfile(os.path.join(in_dir, depth_name), os.path.join(out_dir, depth_name))\n",
    "    copyfile(os.path.join(in_dir, stencil_name), os.path.join(out_dir, stencil_name))\n",
    "\n",
    "workers = 8\n",
    "\n",
    "out_directory = r'Z:\\offroad-4-orig'\n",
    "widgets = [progressbar.Percentage(), ' ', progressbar.Counter(), ' ', progressbar.Bar(), ' ',\n",
    "           progressbar.FileTransferSpeed()]\n",
    "\n",
    "pbar = progressbar.ProgressBar(widgets=widgets, max_value=len(results)).start()\n",
    "counter = 0\n",
    "\n",
    "Parallel(n_jobs=workers, backend='threading')(\n",
    "    delayed(copy_files)(in_directory, out_directory, i['imagepath']) for i in results)\n"
   ]
  },
  {
   "cell_type": "markdown",
   "metadata": {},
   "source": [
    "### copying videos into datagrid"
   ]
  },
  {
   "cell_type": "code",
   "execution_count": null,
   "metadata": {
    "collapsed": true
   },
   "outputs": [],
   "source": []
  },
  {
   "cell_type": "markdown",
   "metadata": {},
   "source": [
    "### dumping one snapshot, for testing"
   ]
  },
  {
   "cell_type": "code",
   "execution_count": null,
   "metadata": {
    "collapsed": true,
    "scrolled": false
   },
   "outputs": [],
   "source": [
    "dump_snapshot_to_dataset(in_directory, out_directory, results[0])\n"
   ]
  },
  {
   "cell_type": "code",
   "execution_count": null,
   "metadata": {
    "collapsed": true
   },
   "outputs": [],
   "source": [
    "im = np.array(Image.open(os.path.join(out_directory, results[0]['imagepath']+'-depth.png')))\n",
    "print(np.min(im))\n",
    "print(np.max(im))\n"
   ]
  },
  {
   "cell_type": "code",
   "execution_count": null,
   "metadata": {
    "collapsed": true
   },
   "outputs": [],
   "source": [
    "results[0]['snapshot_id']"
   ]
  },
  {
   "cell_type": "code",
   "execution_count": 64,
   "metadata": {},
   "outputs": [
    {
     "data": {
      "text/plain": [
       "{'cam_near_clip': 0.15,\n",
       " 'camera_fov': 90.0,\n",
       " 'camera_pos': array([ 2524.83105469,  3334.53613281,    53.38750458]),\n",
       " 'camera_relative_position': array([-0.06      ,  1.5       ,  1.07649994]),\n",
       " 'camera_relative_rotation': array([ 0.,  0.,  0.]),\n",
       " 'camera_rot': array([-1.26793635, -4.02545595, -0.25146627]),\n",
       " 'current_target': array([2586.0, 3490.0, None], dtype=object),\n",
       " 'currentweather': 'Clear',\n",
       " 'height': 1052,\n",
       " 'imagepath': '2018-08-13--11-15-01--499',\n",
       " 'proj_matrix': array([[  5.49634274e-01,   0.00000000e+00,   0.00000000e+00,\n",
       "           0.00000000e+00],\n",
       "        [  0.00000000e+00,   1.00000000e+00,   0.00000000e+00,\n",
       "           0.00000000e+00],\n",
       "        [  0.00000000e+00,   0.00000000e+00,   1.49945045e-05,\n",
       "           1.50002249e-01],\n",
       "        [  0.00000000e+00,   0.00000000e+00,  -1.00000000e+00,\n",
       "           0.00000000e+00]]),\n",
       " 'snapshot_id': 466517,\n",
       " 'timeofday': datetime.time(12, 5, 35),\n",
       " 'timestamp': datetime.datetime(2018, 8, 13, 11, 15, 1, 499713, tzinfo=psycopg2.tz.FixedOffsetTimezone(offset=0, name=None)),\n",
       " 'view_matrix': array([[  9.97523352e-01,  -4.37807276e-03,   7.01996747e-02,\n",
       "          -2.50772688e+03],\n",
       "        [ -7.00846934e-02,   2.24356686e-02,   9.97288713e-01,\n",
       "           4.88967069e+01],\n",
       "        [ -5.94117919e-03,  -9.99738702e-01,   2.20732675e-02,\n",
       "           3.34748686e+03],\n",
       "        [  0.00000000e+00,   0.00000000e+00,   0.00000000e+00,\n",
       "           1.00000000e+00]]),\n",
       " 'width': 1914}"
      ]
     },
     "execution_count": 64,
     "metadata": {},
     "output_type": "execute_result"
    }
   ],
   "source": [
    "res = results[0]\n",
    "res"
   ]
  },
  {
   "cell_type": "code",
   "execution_count": null,
   "metadata": {
    "collapsed": true
   },
   "outputs": [],
   "source": []
  }
 ],
 "metadata": {
  "kernelspec": {
   "display_name": "Python 3",
   "language": "python",
   "name": "python3"
  },
  "language_info": {
   "codemirror_mode": {
    "name": "ipython",
    "version": 3
   },
   "file_extension": ".py",
   "mimetype": "text/x-python",
   "name": "python",
   "nbconvert_exporter": "python",
   "pygments_lexer": "ipython3",
   "version": "3.6.3"
  }
 },
 "nbformat": 4,
 "nbformat_minor": 2
}
