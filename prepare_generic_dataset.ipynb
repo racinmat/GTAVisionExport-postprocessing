{
 "cells": [
  {
   "cell_type": "code",
   "execution_count": 1,
   "metadata": {
    "collapsed": true
   },
   "outputs": [],
   "source": [
    "import numpy as np\n",
    "import matplotlib.pyplot as plt\n",
    "import visualization\n",
    "import os\n",
    "from gta_math import points_to_homo, ndc_to_view, construct_proj_matrix, view_to_world, construct_view_matrix\n",
    "from visualization import load_depth, load_stencil, save_pointcloud_csv, bbox_from_string, are_buffers_same_as_previous, \\\n",
    "    is_first_record_in_run, camera_to_string\n",
    "import progressbar\n",
    "from joblib import Parallel, delayed\n",
    "from configparser import ConfigParser\n",
    "from PIL import Image\n",
    "import pickle\n",
    "import json\n",
    "import time\n",
    "from shutil import copyfile\n",
    "from functools import lru_cache\n",
    "import scipy.io as sio\n",
    "import tifffile"
   ]
  },
  {
   "cell_type": "code",
   "execution_count": 12,
   "metadata": {
    "collapsed": true
   },
   "outputs": [],
   "source": [
    "ini_file = \"gta-postprocessing.ini\"\n",
    "visualization.multi_page = False\n",
    "visualization.ini_file = ini_file\n",
    "visualization.use_cache = False\n",
    "\n",
    "conn = visualization.get_connection_pooled()\n",
    "cur = conn.cursor()\n",
    "\n",
    "CONFIG = ConfigParser()\n",
    "CONFIG.read(ini_file)\n",
    "in_directory = CONFIG[\"Images\"][\"Tiff\"]\n",
    "out_directory = r'D:\\output-datasets\\offroad-17'\n",
    "\n",
    "# for some datasets we don't need entities, which produces lot smaller json files\n",
    "# for some datasets, we want each camera data to be in separate folder\n",
    "# sometimes buffers are not synced and don't correspond to current camera. \n",
    "# they can be recognized by having same data as previous record\n",
    "discard_invalid_buffers = True\n",
    "\n",
    "\n",
    "# for offroad\n",
    "include_entities = False\n",
    "directory_per_camera = True\n",
    "depth_in_tiff = True # use .tiff format to store depth directly in NDC\n",
    "scene_index_naming = True\n",
    "\n",
    "# for onroad\n",
    "#include_entities = True\n",
    "#directory_per_camera = False\n",
    "#depth_in_tiff = False\n",
    "#scene_index_naming = False\n",
    "\n",
    "\n",
    "if scene_index_naming and not directory_per_camera:\n",
    "    print('BEWARE, THE CONFIGURATION IS WRONG AND YOU MIGHT MISS SOME FILES, MULTIPLE FILES WITH SAME NAME IN ONE DIRECTORY WILL BE THERE')\n"
   ]
  },
  {
   "cell_type": "code",
   "execution_count": 13,
   "metadata": {},
   "outputs": [
    {
     "name": "stdout",
     "output_type": "stream",
     "text": [
      "There are 3145 snapshots\n",
      "{'camera_-16.06_17.50_6.08__-30.00_0.00_270.00': '0', 'camera_-0.06_1.50_1.08__0.00_0.00_0.00': '1', 'camera_-0.06_17.50_25.08__270.00_0.00_90.00': '2', 'camera_-0.06_33.50_6.08__-30.00_0.00_180.00': '3', 'camera_0.48_1.50_1.08__0.00_0.00_0.00': '4', 'camera_15.94_17.50_6.08__-30.00_0.00_90.00': '5'}\n"
     ]
    }
   ],
   "source": [
    "#run_id = 19\n",
    "#run_id = 3677\n",
    "run_id = 4208\n",
    "\n",
    "cur.execute(\"\"\"SELECT snapshot_id, imagepath, cam_near_clip, camera_fov, width, height, timestamp, timeofday, width, height, \\\n",
    "      ARRAY[st_x(camera_relative_rotation), st_y(camera_relative_rotation), st_z(camera_relative_rotation)] as camera_relative_rotation, \\\n",
    "      ARRAY[st_x(camera_relative_position), st_y(camera_relative_position), st_z(camera_relative_position)] as camera_relative_position, \\\n",
    "      ARRAY[st_x(camera_pos), st_y(camera_pos), st_z(camera_pos)] as camera_pos, \\\n",
    "      ARRAY[st_x(camera_rot), st_y(camera_rot), st_z(camera_rot)] as camera_rot, \\\n",
    "      ARRAY[st_x(current_target), st_y(current_target), st_z(current_target)] as current_target, \\\n",
    "      currentweather, scene_id, run_id \\\n",
    "      FROM snapshots \\\n",
    "      WHERE run_id = {}\n",
    "      ORDER BY timestamp ASC \\\n",
    "    \"\"\".format(run_id))\n",
    "\n",
    "results = []\n",
    "for row in cur:\n",
    "    res = dict(row)\n",
    "    if res['camera_fov'] == 0 and res['cam_near_clip'] == 0:\n",
    "        continue  # somehow malformed data, skipping them\n",
    "    res['camera_rot'] = np.array(res['camera_rot'])\n",
    "    res['camera_pos'] = np.array(res['camera_pos'])\n",
    "    res['camera_relative_rotation'] = np.array(res['camera_relative_rotation'])\n",
    "    res['camera_relative_position'] = np.array(res['camera_relative_position'])\n",
    "    res['current_target'] = np.array(res['current_target'])\n",
    "    res['view_matrix'] = construct_view_matrix(res['camera_pos'], res['camera_rot'])\n",
    "    res['proj_matrix'] = construct_proj_matrix(res['height'], res['width'], res['camera_fov'], res['cam_near_clip'])\n",
    "    results.append(res)\n",
    "\n",
    "print('There are {} snapshots'.format(len(results)))\n",
    "\n",
    "# because sometimes I use two cameras heading same direction, pair (position, rotation) is unique identifier\n",
    "cur = conn.cursor()\n",
    "cur.execute(\"\"\"SELECT DISTINCT \\\n",
    "      ARRAY[st_x(camera_relative_rotation), st_y(camera_relative_rotation), st_z(camera_relative_rotation)] as camera_relative_rotation, \n",
    "      ARRAY[st_x(camera_relative_position), st_y(camera_relative_position), st_z(camera_relative_position)] as camera_relative_position \n",
    "      FROM snapshots \\\n",
    "      WHERE run_id = {} AND camera_fov != 0 \\\n",
    "      ORDER BY camera_relative_position, camera_relative_rotation ASC \\\n",
    "    \"\"\".format(run_id))\n",
    "\n",
    "camera_names = {}\n",
    "for i, row in enumerate(cur):\n",
    "    camera_name = camera_to_string(row)\n",
    "    camera_names[camera_name] = str(i)\n",
    "    \n",
    "print(camera_names)\n",
    "\n",
    "# this is for file naming by scene index\n",
    "if scene_index_naming:\n",
    "    # then I get sorted all scene ids\n",
    "    cur = conn.cursor()\n",
    "    cur.execute(\"\"\"SELECT scene_id, min(timestamp) \n",
    "            FROM snapshots\n",
    "            WHERE run_id = %(run_id)s\n",
    "            GROUP BY scene_id\n",
    "          ORDER BY min(timestamp) ASC\n",
    "        \"\"\", {'run_id': run_id})\n",
    "\n",
    "    scenes = {}\n",
    "    for i, row in enumerate(cur):\n",
    "        scenes[row['scene_id']] = f'{i:06}'  # prepend zeros to 5 places\n",
    "\n",
    "    # then I take all imagepaths for all scene ids\n",
    "    cur = conn.cursor()\n",
    "\n",
    "    cur.execute(\"\"\"SELECT scene_id, imagepath\n",
    "          FROM snapshots \\\n",
    "          WHERE run_id = %(run_id)s\n",
    "          ORDER BY timestamp ASC\n",
    "        \"\"\", {'run_id': run_id})\n",
    "\n",
    "    file_names = {}\n",
    "    for i, row in enumerate(cur):\n",
    "        file_names[row['imagepath']] = row['scene_id']\n"
   ]
  },
  {
   "cell_type": "code",
   "execution_count": 14,
   "metadata": {
    "collapsed": true
   },
   "outputs": [],
   "source": [
    "def get_base_name(name):\n",
    "    return os.path.basename(os.path.splitext(name)[0])\n",
    "\n",
    "def get_main_image_name(cameras):\n",
    "    for cam in cameras:\n",
    "        # this is the main camera\n",
    "        if np.array_equal(cam['camera_relative_rotation'], [0, 0, 0]):\n",
    "            return cam['imagepath']\n",
    "    raise Exception('no main image')\n",
    "\n",
    "def load_entities_data(snapshot_id):\n",
    "    conn = visualization.get_connection_pooled()\n",
    "    cur = conn.cursor()\n",
    "    \n",
    "    # start = time.time()\n",
    "\n",
    "    cur.execute(\"\"\"SELECT bbox, \\\n",
    "        ARRAY[st_x(pos), st_y(pos), st_z(pos)] as pos, \\\n",
    "        ARRAY[st_x(rot), st_y(rot), st_z(rot)] as rot, \\\n",
    "        ARRAY[st_xmin(bbox3d), st_xmax(bbox3d), st_ymin(bbox3d), st_ymax(bbox3d), st_zmin(bbox3d), st_zmax(bbox3d)] as bbox3d, \\\n",
    "         type, class, handle, snapshot_id \\\n",
    "        FROM detections \\\n",
    "        WHERE snapshot_id = '{}' \\\n",
    "        \"\"\".format(snapshot_id))\n",
    "\n",
    "    # end = time.time()\n",
    "    # print('time to load from db', end - start)\n",
    "    # start = time.time()\n",
    "\n",
    "    # print(size)\n",
    "    results = []\n",
    "    for row in cur:\n",
    "        res = dict(row)\n",
    "        res['model_sizes'] = np.array(res['bbox3d'])\n",
    "        res['bbox'] = bbox_from_string(res['bbox'])\n",
    "        res['pos'] = np.array(res['pos'])\n",
    "        res['rot'] = np.array(res['rot'])\n",
    "        results.append(res)\n",
    "\n",
    "    # end = time.time()\n",
    "    # print('time to convert arrays to numpy', end - start)\n",
    "    # start = time.time()\n",
    "\n",
    "    return results\n",
    "\n",
    "\n",
    "def convert_rgb(in_directory, out_directory, out_name, name, out_format):\n",
    "    outfile = os.path.join(out_directory, \"{}.{}\".format(out_name, out_format))\n",
    "    # print(outfile)\n",
    "    if os.path.exists(outfile):\n",
    "        return\n",
    "\n",
    "    try:\n",
    "        infile = os.path.join(in_directory, name)\n",
    "        im = Image.open(infile)\n",
    "        im = im.convert(mode=\"RGB\")\n",
    "        im.save(outfile)\n",
    "    except OSError:\n",
    "        # print(\"Skipping invalid file {}\".format(name))\n",
    "        return\n",
    "\n",
    "\n",
    "def convert_depth(in_directory, out_directory, out_name, name, out_format):\n",
    "    outfile = os.path.join(out_directory, \"{}.{}\".format(out_name, out_format))\n",
    "    # print(outfile)\n",
    "    if os.path.exists(outfile):\n",
    "        return\n",
    "\n",
    "    try:\n",
    "        infile = os.path.join(in_directory, name)\n",
    "        depth = load_depth(name)\n",
    "        if out_format in ['png', 'jpg']:\n",
    "            # print('depth min before: ', np.min(depth))\n",
    "            # print('depth max before: ', np.max(depth))\n",
    "            depth = depth * np.iinfo(np.uint16).max\n",
    "            # print('depth min after: ', np.min(depth))\n",
    "            # print('depth max after: ', np.max(depth))\n",
    "            im = Image.fromarray(depth.astype(np.int32), mode=\"I\")\n",
    "            im.save(outfile)\n",
    "        elif out_format == 'mat':\n",
    "            sio.savemat(outfile, {'depth': depth}, do_compression=True)\n",
    "        elif out_format == 'tiff':\n",
    "            tifffile.imsave(outfile, depth)\n",
    "    except OSError:\n",
    "        # print(\"Skipping invalid file {}\".format(name))\n",
    "        return\n",
    "\n",
    "def convert_stencil(in_directory, out_directory, out_name, name, out_format):\n",
    "    outfile = os.path.join(out_directory, \"{}.{}\".format(out_name, out_format))\n",
    "    # print(outfile)\n",
    "    if os.path.exists(outfile):\n",
    "        return\n",
    "\n",
    "    try:\n",
    "        infile = os.path.join(in_directory, name)\n",
    "        stencil = load_stencil(name)\n",
    "        im = Image.fromarray(stencil.astype(np.uint8), mode=\"L\")\n",
    "        im.save(outfile)\n",
    "    except OSError:\n",
    "        # print(\"Skipping invalid file {}\".format(name))\n",
    "        return\n",
    "\n",
    "def get_out_directory(out_directory, res, directory_per_camera):\n",
    "    if directory_per_camera:\n",
    "        return os.path.join(out_directory, camera_names[camera_to_string(res)])\n",
    "    else:\n",
    "        return out_directory\n",
    "\n",
    "def try_dump_snapshot_to_dataset(in_directory, out_directory, res, run_id):\n",
    "    try:\n",
    "        dump_snapshot_to_dataset(in_directory, out_directory, res, run_id)\n",
    "    except Exception as e:\n",
    "        print(e)\n",
    "        pass\n",
    "\n",
    "def dump_snapshot_to_dataset(in_directory, out_directory, res, run_id):\n",
    "    if 'pbar' in globals() and 'counter' in globals():\n",
    "        global counter\n",
    "        counter += 1\n",
    "        pbar.update(counter)\n",
    "\n",
    "    start = time.time()\n",
    "    \n",
    "    if not os.path.exists(out_directory):\n",
    "        os.makedirs(out_directory)\n",
    "\n",
    "    if discard_invalid_buffers and (not is_first_record_in_run(res, run_id)) and \\\n",
    "        are_buffers_same_as_previous(res):\n",
    "        print('skipping record wih invalid buffers in snapshot {}, filename {} and camera {}'\n",
    "              .format(res['snapshot_id'], res['imagepath'], res['camera_relative_position'].tolist()))\n",
    "        return\n",
    "    \n",
    "    name = res['imagepath']\n",
    "    out_name = name\n",
    "    if scene_index_naming:\n",
    "        out_name = scenes[file_names[name]]\n",
    "\n",
    "    convert_rgb(in_directory, out_directory, out_name, name+'.tiff', 'jpg')\n",
    "    if depth_in_tiff:\n",
    "        convert_depth(in_directory, out_directory, out_name+'-depth', name, 'tiff')\n",
    "    else:\n",
    "        convert_depth(in_directory, out_directory, out_name+'-depth', name, 'png')\n",
    "        \n",
    "    convert_stencil(in_directory, out_directory, out_name+'-stencil', name, 'png')\n",
    "    # end = time.time()\n",
    "    # print('time to generate images', end - start)\n",
    "    # start = time.time()\n",
    "    \n",
    "    outfile = os.path.join(out_directory, '{}.json'.format(out_name))\n",
    "    if os.path.exists(outfile):\n",
    "        return\n",
    "\n",
    "    if include_entities:\n",
    "        data = load_entities_data(res['snapshot_id'])\n",
    "\n",
    "        # end = time.time()\n",
    "        # print('loading entities data', end - start)\n",
    "        # start = time.time()\n",
    "    \n",
    "        json_entities_data = []\n",
    "        for i in data:\n",
    "            json_entity = {\n",
    "                'model_sizes': i['model_sizes'].tolist(),\n",
    "                'bbox': i['bbox'].tolist(),\n",
    "                'pos': i['pos'].tolist(),\n",
    "                'rot': i['rot'].tolist(),\n",
    "                'class': i['class'],\n",
    "                'handle': i['handle'],\n",
    "                'type': i['type'],\n",
    "            }\n",
    "            json_entities_data.append(json_entity)\n",
    "\n",
    "    # end = time.time()\n",
    "    # print('dumping entities to json', end - start)\n",
    "    # start = time.time()\n",
    "\n",
    "    json_data = {\n",
    "        'imagepath': res['imagepath'],\n",
    "        'timestamp': res['timestamp'].strftime(\"%Y-%m-%d %H:%M:%S\"),\n",
    "        'timeofday': res['timeofday'].strftime(\"%H:%M:%S\"),\n",
    "        'currentweather': res['currentweather'],\n",
    "        'width': res['width'],\n",
    "        'height': res['height'],\n",
    "        'snapshot_id': res['snapshot_id'],\n",
    "        'scene_id': res['scene_id'],\n",
    "        'run_id': res['run_id'],\n",
    "        'camera_rot': res['camera_rot'].tolist(),\n",
    "        'camera_pos': res['camera_pos'].tolist(),\n",
    "        'camera_fov': res['camera_fov'],\n",
    "        'camera_relative_rotation': res['camera_relative_rotation'].tolist(),\n",
    "        'camera_relative_position': res['camera_relative_position'].tolist(),\n",
    "        'current_target': res['current_target'].tolist(),\n",
    "        'view_matrix': res['view_matrix'].tolist(),\n",
    "        'proj_matrix': res['proj_matrix'].tolist(),\n",
    "    }\n",
    "    \n",
    "    if include_entities:\n",
    "        json_data['entities'] = json_entities_data\n",
    "\n",
    "    # end = time.time()\n",
    "    # print('dumping base object to json', end - start)\n",
    "    # start = time.time()\n",
    "\n",
    "    with open(outfile, 'w') as f:\n",
    "        json.dump(json_data, f)\n",
    "    \n",
    "    # end = time.time()\n",
    "    # print('persisting json to file', end - start)\n",
    "    "
   ]
  },
  {
   "cell_type": "markdown",
   "metadata": {},
   "source": [
    "### dumping all data"
   ]
  },
  {
   "cell_type": "code",
   "execution_count": 15,
   "metadata": {
    "scrolled": true
   },
   "outputs": [
    {
     "name": "stderr",
     "output_type": "stream",
     "text": [
      "\r",
      "                                                                               \r",
      "\r",
      "N/A% 0 |                                                            |   0.0 s/B"
     ]
    },
    {
     "name": "stdout",
     "output_type": "stream",
     "text": [
      "[WinError 183] Cannot create a file when that file already exists: 'D:\\\\output-datasets\\\\offroad-17\\\\1'\n",
      "[WinError 183] Cannot create a file when that file already exists: 'D:\\\\output-datasets\\\\offroad-17\\\\5'\n"
     ]
    },
    {
     "name": "stderr",
     "output_type": "stream",
     "text": [
      "C:\\ProgramData\\Anaconda3\\lib\\site-packages\\tifffile\\tifffile.py:2642: RuntimeWarning: py_decodelzw encountered unexpected end of stream\n",
      "  strip = decompress(strip)\n",
      " 33% 1054 |###################                                      |   2.7 B/s"
     ]
    },
    {
     "name": "stdout",
     "output_type": "stream",
     "text": [
      "skipping record wih invalid buffers in snapshot 613702, filename 2018-08-23--18-06-50--282 and camera [-0.0599999986588955, 17.5, 25.0764999389648]\n"
     ]
    },
    {
     "name": "stderr",
     "output_type": "stream",
     "text": [
      " 33% 1061 |###################                                      |   2.7 B/s"
     ]
    },
    {
     "name": "stdout",
     "output_type": "stream",
     "text": [
      "skipping record wih invalid buffers in snapshot 613704, filename 2018-08-23--18-06-51--122 and camera [15.9399995803833, 17.5, 6.07649993896484]\n",
      "skipping record wih invalid buffers in snapshot 613703, filename 2018-08-23--18-06-50--723 and camera [-0.0599999986588955, 1.5, 1.07649993896484]\n",
      "skipping record wih invalid buffers in snapshot 613705, filename 2018-08-23--18-06-51--502 and camera [-0.0599999986588955, 33.5, 6.07649993896484]\n"
     ]
    },
    {
     "name": "stderr",
     "output_type": "stream",
     "text": [
      "\r",
      "                                                                               \r",
      "\r",
      " 33% 1062 |###################                                      |   2.7 B/s"
     ]
    },
    {
     "name": "stdout",
     "output_type": "stream",
     "text": [
      "skipping record wih invalid buffers in snapshot 613706, filename 2018-08-23--18-06-51--813 and camera [-16.0599994659424, 17.5, 6.07649993896484]\n"
     ]
    },
    {
     "name": "stderr",
     "output_type": "stream",
     "text": [
      "\r",
      "                                                                               \r",
      "\r",
      " 33% 1063 |###################                                      |   2.7 B/s"
     ]
    },
    {
     "name": "stdout",
     "output_type": "stream",
     "text": [
      "skipping record wih invalid buffers in snapshot 613707, filename 2018-08-23--18-06-52--169 and camera [0.480000019073486, 1.5, 1.07649993896484]\n"
     ]
    },
    {
     "name": "stderr",
     "output_type": "stream",
     "text": [
      " 33% 1065 |###################                                      |   2.7 B/s"
     ]
    },
    {
     "name": "stdout",
     "output_type": "stream",
     "text": [
      "skipping record wih invalid buffers in snapshot 613708, filename 2018-08-23--18-06-52--624 and camera [-0.0599999986588955, 17.5, 25.0764999389648]\n",
      "skipping record wih invalid buffers in snapshot 613711, filename 2018-08-23--18-06-54--371 and camera [-0.0599999986588955, 33.5, 6.07649993896484]\n"
     ]
    },
    {
     "name": "stderr",
     "output_type": "stream",
     "text": [
      "\r",
      "                                                                               \r",
      "\r",
      " 33% 1067 |###################                                      |   2.7 B/s"
     ]
    },
    {
     "name": "stdout",
     "output_type": "stream",
     "text": [
      "skipping record wih invalid buffers in snapshot 613712, filename 2018-08-23--18-06-54--689 and camera [-16.0599994659424, 17.5, 6.07649993896484]\n",
      "skipping record wih invalid buffers in snapshot 613710, filename 2018-08-23--18-06-54--035 and camera [15.9399995803833, 17.5, 6.07649993896484]\n",
      "skipping record wih invalid buffers in snapshot 613709, filename 2018-08-23--18-06-53--244 and camera [-0.0599999986588955, 1.5, 1.07649993896484]\n",
      "skipping record wih invalid buffers in snapshot 613713, filename 2018-08-23--18-06-55--025 and camera [0.480000019073486, 1.5, 1.07649993896484]\n"
     ]
    },
    {
     "name": "stderr",
     "output_type": "stream",
     "text": [
      "\r",
      "                                                                               \r",
      "\r",
      " 34% 1070 |###################                                      |   2.7 B/s"
     ]
    },
    {
     "name": "stdout",
     "output_type": "stream",
     "text": [
      "skipping record wih invalid buffers in snapshot 613714, filename 2018-08-23--18-06-55--395 and camera [-0.0599999986588955, 17.5, 25.0764999389648]\n"
     ]
    },
    {
     "name": "stderr",
     "output_type": "stream",
     "text": [
      " 34% 1072 |###################                                      |   2.7 B/s"
     ]
    },
    {
     "name": "stdout",
     "output_type": "stream",
     "text": [
      "skipping record wih invalid buffers in snapshot 613716, filename 2018-08-23--18-06-56--524 and camera [15.9399995803833, 17.5, 6.07649993896484]\n",
      "skipping record wih invalid buffers in snapshot 613719, filename 2018-08-23--18-06-58--843 and camera [0.480000019073486, 1.5, 1.07649993896484]\n"
     ]
    },
    {
     "name": "stderr",
     "output_type": "stream",
     "text": [
      " 34% 1076 |###################                                      |   2.7 B/s"
     ]
    },
    {
     "name": "stdout",
     "output_type": "stream",
     "text": [
      "skipping record wih invalid buffers in snapshot 613721, filename 2018-08-23--18-06-59--375 and camera [-0.0599999986588955, 17.5, 25.0764999389648]\n",
      "skipping record wih invalid buffers in snapshot 613718, filename 2018-08-23--18-06-58--531 and camera [-16.0599994659424, 17.5, 6.07649993896484]\n",
      "skipping record wih invalid buffers in snapshot 613720, filename 2018-08-23--18-06-59--902 and camera [-0.0599999986588955, 1.5, 1.07649993896484]\n",
      "skipping record wih invalid buffers in snapshot 613717, filename 2018-08-23--18-06-57--581 and camera [-0.0599999986588955, 33.5, 6.07649993896484]\n"
     ]
    },
    {
     "name": "stderr",
     "output_type": "stream",
     "text": [
      "\r",
      "                                                                               \r",
      "\r",
      " 34% 1078 |###################                                      |   2.7 B/s"
     ]
    },
    {
     "name": "stdout",
     "output_type": "stream",
     "text": [
      "skipping record wih invalid buffers in snapshot 613722, filename 2018-08-23--18-07-00--325 and camera [15.9399995803833, 17.5, 6.07649993896484]\n"
     ]
    },
    {
     "name": "stderr",
     "output_type": "stream",
     "text": [
      " 34% 1080 |###################                                      |   2.7 B/s"
     ]
    },
    {
     "name": "stdout",
     "output_type": "stream",
     "text": [
      "skipping record wih invalid buffers in snapshot 613723, filename 2018-08-23--18-07-00--668 and camera [-0.0599999986588955, 33.5, 6.07649993896484]\n",
      "skipping record wih invalid buffers in snapshot 613725, filename 2018-08-23--18-07-01--370 and camera [0.480000019073486, 1.5, 1.07649993896484]\n"
     ]
    },
    {
     "name": "stderr",
     "output_type": "stream",
     "text": [
      "\r",
      "                                                                               \r",
      "\r",
      " 34% 1081 |###################                                      |   2.7 B/s"
     ]
    },
    {
     "name": "stdout",
     "output_type": "stream",
     "text": [
      "skipping record wih invalid buffers in snapshot 613724, filename 2018-08-23--18-07-01--010 and camera [-16.0599994659424, 17.5, 6.07649993896484]\n"
     ]
    },
    {
     "name": "stderr",
     "output_type": "stream",
     "text": [
      "\r",
      "                                                                               \r",
      "\r",
      " 34% 1082 |###################                                      |   2.7 B/s"
     ]
    },
    {
     "name": "stdout",
     "output_type": "stream",
     "text": [
      "skipping record wih invalid buffers in snapshot 613728, filename 2018-08-23--18-07-02--797 and camera [15.9399995803833, 17.5, 6.07649993896484]\n",
      "skipping record wih invalid buffers in snapshot 613726, filename 2018-08-23--18-07-01--711 and camera [-0.0599999986588955, 17.5, 25.0764999389648]\n",
      "skipping record wih invalid buffers in snapshot 613729, filename 2018-08-23--18-07-03--527 and camera [-0.0599999986588955, 33.5, 6.07649993896484]\n",
      "skipping record wih invalid buffers in snapshot 613730, filename 2018-08-23--18-07-03--990 and camera [-16.0599994659424, 17.5, 6.07649993896484]\n",
      "skipping record wih invalid buffers in snapshot 613727, filename 2018-08-23--18-07-02--442 and camera [-0.0599999986588955, 1.5, 1.07649993896484]\n"
     ]
    },
    {
     "name": "stderr",
     "output_type": "stream",
     "text": [
      "\r",
      "                                                                               \r",
      "\r",
      " 34% 1087 |###################                                      |   2.7 B/s"
     ]
    },
    {
     "name": "stdout",
     "output_type": "stream",
     "text": [
      "skipping record wih invalid buffers in snapshot 613732, filename 2018-08-23--18-07-04--735 and camera [-0.0599999986588955, 17.5, 25.0764999389648]\n"
     ]
    },
    {
     "name": "stderr",
     "output_type": "stream",
     "text": [
      " 34% 1089 |###################                                      |   2.7 B/s"
     ]
    },
    {
     "name": "stdout",
     "output_type": "stream",
     "text": [
      "skipping record wih invalid buffers in snapshot 613733, filename 2018-08-23--18-07-05--295 and camera [-0.0599999986588955, 1.5, 1.07649993896484]\n",
      "skipping record wih invalid buffers in snapshot 613731, filename 2018-08-23--18-07-04--308 and camera [0.480000019073486, 1.5, 1.07649993896484]\n"
     ]
    },
    {
     "name": "stderr",
     "output_type": "stream",
     "text": [
      " 34% 1092 |###################                                      |   2.7 B/s"
     ]
    },
    {
     "name": "stdout",
     "output_type": "stream",
     "text": [
      "skipping record wih invalid buffers in snapshot 613736, filename 2018-08-23--18-07-06--462 and camera [-16.0599994659424, 17.5, 6.07649993896484]\n",
      "skipping record wih invalid buffers in snapshot 613734, filename 2018-08-23--18-07-05--644 and camera [15.9399995803833, 17.5, 6.07649993896484]\n",
      "skipping record wih invalid buffers in snapshot 613735, filename 2018-08-23--18-07-06--095 and camera [-0.0599999986588955, 33.5, 6.07649993896484]\n"
     ]
    },
    {
     "name": "stderr",
     "output_type": "stream",
     "text": [
      "\r",
      "                                                                               \r",
      "\r",
      " 34% 1094 |###################                                      |   2.7 B/s"
     ]
    },
    {
     "name": "stdout",
     "output_type": "stream",
     "text": [
      "skipping record wih invalid buffers in snapshot 613737, filename 2018-08-23--18-07-06--831 and camera [0.480000019073486, 1.5, 1.07649993896484]\n",
      "skipping record wih invalid buffers in snapshot 613738, filename 2018-08-23--18-07-07--247 and camera [-0.0599999986588955, 17.5, 25.0764999389648]\n"
     ]
    },
    {
     "name": "stderr",
     "output_type": "stream",
     "text": [
      " 34% 1097 |###################                                      |   2.7 B/s"
     ]
    },
    {
     "name": "stdout",
     "output_type": "stream",
     "text": [
      "skipping record wih invalid buffers in snapshot 613741, filename 2018-08-23--18-07-08--501 and camera [-0.0599999986588955, 33.5, 6.07649993896484]\n",
      "skipping record wih invalid buffers in snapshot 613740, filename 2018-08-23--18-07-08--156 and camera [15.9399995803833, 17.5, 6.07649993896484]\n"
     ]
    },
    {
     "name": "stderr",
     "output_type": "stream",
     "text": [
      "\r",
      "                                                                               \r",
      "\r",
      " 34% 1098 |###################                                      |   2.7 B/s"
     ]
    },
    {
     "name": "stdout",
     "output_type": "stream",
     "text": [
      "skipping record wih invalid buffers in snapshot 613742, filename 2018-08-23--18-07-09--115 and camera [-16.0599994659424, 17.5, 6.07649993896484]\n"
     ]
    },
    {
     "name": "stderr",
     "output_type": "stream",
     "text": [
      " 34% 1100 |###################                                      |   2.7 B/s"
     ]
    },
    {
     "name": "stdout",
     "output_type": "stream",
     "text": [
      "skipping record wih invalid buffers in snapshot 613743, filename 2018-08-23--18-07-09--463 and camera [0.480000019073486, 1.5, 1.07649993896484]\n",
      "skipping record wih invalid buffers in snapshot 613746, filename 2018-08-23--18-07-10--741 and camera [15.9399995803833, 17.5, 6.07649993896484]\n"
     ]
    },
    {
     "name": "stderr",
     "output_type": "stream",
     "text": [
      "\r",
      "                                                                               \r",
      "\r",
      " 35% 1102 |###################                                      |   2.7 B/s"
     ]
    },
    {
     "name": "stdout",
     "output_type": "stream",
     "text": [
      "skipping record wih invalid buffers in snapshot 613744, filename 2018-08-23--18-07-09--777 and camera [-0.0599999986588955, 17.5, 25.0764999389648]\n",
      "skipping record wih invalid buffers in snapshot 613745, filename 2018-08-23--18-07-10--402 and camera [-0.0599999986588955, 1.5, 1.07649993896484]\n"
     ]
    },
    {
     "name": "stderr",
     "output_type": "stream",
     "text": [
      "\r",
      "                                                                               \r",
      "\r",
      " 35% 1103 |###################                                      |   2.7 B/s"
     ]
    },
    {
     "name": "stdout",
     "output_type": "stream",
     "text": [
      "skipping record wih invalid buffers in snapshot 613747, filename 2018-08-23--18-07-11--290 and camera [-0.0599999986588955, 33.5, 6.07649993896484]\n",
      "skipping record wih invalid buffers in snapshot 613748, filename 2018-08-23--18-07-11--660 and camera [-16.0599994659424, 17.5, 6.07649993896484]\n"
     ]
    },
    {
     "name": "stderr",
     "output_type": "stream",
     "text": [
      "\r",
      "                                                                               \r",
      "\r",
      " 35% 1105 |####################                                     |   2.7 B/s"
     ]
    },
    {
     "name": "stdout",
     "output_type": "stream",
     "text": [
      "skipping record wih invalid buffers in snapshot 613749, filename 2018-08-23--18-07-12--042 and camera [0.480000019073486, 1.5, 1.07649993896484]\n"
     ]
    },
    {
     "name": "stderr",
     "output_type": "stream",
     "text": [
      " 35% 1107 |####################                                     |   2.7 B/s"
     ]
    },
    {
     "name": "stdout",
     "output_type": "stream",
     "text": [
      "skipping record wih invalid buffers in snapshot 613750, filename 2018-08-23--18-07-12--384 and camera [-0.0599999986588955, 17.5, 25.0764999389648]\n",
      "skipping record wih invalid buffers in snapshot 613754, filename 2018-08-23--18-07-14--205 and camera [-16.0599994659424, 17.5, 6.07649993896484]\n"
     ]
    },
    {
     "name": "stderr",
     "output_type": "stream",
     "text": [
      "\r",
      "                                                                               \r",
      "\r",
      " 35% 1109 |####################                                     |   2.7 B/s"
     ]
    },
    {
     "name": "stdout",
     "output_type": "stream",
     "text": [
      "skipping record wih invalid buffers in snapshot 613751, filename 2018-08-23--18-07-12--896 and camera [-0.0599999986588955, 1.5, 1.07649993896484]\n",
      "skipping record wih invalid buffers in snapshot 613753, filename 2018-08-23--18-07-13--562 and camera [-0.0599999986588955, 33.5, 6.07649993896484]\n",
      "skipping record wih invalid buffers in snapshot 613752, filename 2018-08-23--18-07-13--249 and camera [15.9399995803833, 17.5, 6.07649993896484]\n"
     ]
    },
    {
     "name": "stderr",
     "output_type": "stream",
     "text": [
      "\r",
      "                                                                               \r",
      "\r",
      " 35% 1111 |####################                                     |   2.7 B/s"
     ]
    },
    {
     "name": "stdout",
     "output_type": "stream",
     "text": [
      "skipping record wih invalid buffers in snapshot 613755, filename 2018-08-23--18-07-14--588 and camera [0.480000019073486, 1.5, 1.07649993896484]\n"
     ]
    },
    {
     "name": "stderr",
     "output_type": "stream",
     "text": [
      "\r",
      "                                                                               \r",
      "\r",
      " 35% 1112 |####################                                     |   2.7 B/s"
     ]
    },
    {
     "name": "stdout",
     "output_type": "stream",
     "text": [
      "skipping record wih invalid buffers in snapshot 613756, filename 2018-08-23--18-07-14--941 and camera [-0.0599999986588955, 17.5, 25.0764999389648]\n"
     ]
    },
    {
     "name": "stderr",
     "output_type": "stream",
     "text": [
      "\r",
      "                                                                               \r",
      "\r",
      " 35% 1113 |####################                                     |   2.7 B/s"
     ]
    },
    {
     "name": "stdout",
     "output_type": "stream",
     "text": [
      "skipping record wih invalid buffers in snapshot 613757, filename 2018-08-23--18-07-15--399 and camera [-0.0599999986588955, 1.5, 1.07649993896484]\n"
     ]
    },
    {
     "name": "stderr",
     "output_type": "stream",
     "text": [
      " 35% 1115 |####################                                     |   2.7 B/s"
     ]
    },
    {
     "name": "stdout",
     "output_type": "stream",
     "text": [
      "skipping record wih invalid buffers in snapshot 613758, filename 2018-08-23--18-07-15--733 and camera [15.9399995803833, 17.5, 6.07649993896484]\n",
      "skipping record wih invalid buffers in snapshot 613761, filename 2018-08-23--18-07-17--281 and camera [0.480000019073486, 1.5, 1.07649993896484]\n"
     ]
    },
    {
     "name": "stderr",
     "output_type": "stream",
     "text": [
      "\r",
      "                                                                               \r",
      "\r",
      " 35% 1116 |####################                                     |   2.7 B/s"
     ]
    },
    {
     "name": "stdout",
     "output_type": "stream",
     "text": [
      "skipping record wih invalid buffers in snapshot 613759, filename 2018-08-23--18-07-16--162 and camera [-0.0599999986588955, 33.5, 6.07649993896484]\n",
      "skipping record wih invalid buffers in snapshot 613762, filename 2018-08-23--18-07-17--785 and camera [-0.0599999986588955, 17.5, 25.0764999389648]\n"
     ]
    },
    {
     "name": "stderr",
     "output_type": "stream",
     "text": [
      "\r",
      "                                                                               \r",
      "\r",
      " 35% 1118 |####################                                     |   2.7 B/s"
     ]
    },
    {
     "name": "stdout",
     "output_type": "stream",
     "text": [
      "skipping record wih invalid buffers in snapshot 613760, filename 2018-08-23--18-07-16--504 and camera [-16.0599994659424, 17.5, 6.07649993896484]\n"
     ]
    },
    {
     "name": "stderr",
     "output_type": "stream",
     "text": [
      "\r",
      "                                                                               \r",
      "\r",
      " 35% 1119 |####################                                     |   2.8 B/s"
     ]
    },
    {
     "name": "stdout",
     "output_type": "stream",
     "text": [
      "skipping record wih invalid buffers in snapshot 613763, filename 2018-08-23--18-07-18--529 and camera [-0.0599999986588955, 1.5, 1.07649993896484]\n"
     ]
    },
    {
     "name": "stderr",
     "output_type": "stream",
     "text": [
      " 35% 1121 |####################                                     |   2.8 B/s"
     ]
    },
    {
     "name": "stdout",
     "output_type": "stream",
     "text": [
      "skipping record wih invalid buffers in snapshot 613764, filename 2018-08-23--18-07-18--944 and camera [15.9399995803833, 17.5, 6.07649993896484]\n",
      "skipping record wih invalid buffers in snapshot 613765, filename 2018-08-23--18-07-19--369 and camera [-0.0599999986588955, 33.5, 6.07649993896484]\n"
     ]
    },
    {
     "name": "stderr",
     "output_type": "stream",
     "text": [
      "\r",
      "                                                                               \r",
      "\r",
      " 35% 1122 |####################                                     |   2.8 B/s"
     ]
    },
    {
     "name": "stdout",
     "output_type": "stream",
     "text": [
      "skipping record wih invalid buffers in snapshot 613767, filename 2018-08-23--18-07-20--106 and camera [0.480000019073486, 1.5, 1.07649993896484]\n",
      "skipping record wih invalid buffers in snapshot 613766, filename 2018-08-23--18-07-19--695 and camera [-16.0599994659424, 17.5, 6.07649993896484]\n"
     ]
    },
    {
     "name": "stderr",
     "output_type": "stream",
     "text": [
      " 38% 1220 |######################                                   |   2.8 B/s"
     ]
    },
    {
     "name": "stdout",
     "output_type": "stream",
     "text": [
      "skipping record wih invalid buffers in snapshot 613863, filename 2018-08-23--18-08-07--524 and camera [-0.0599999986588955, 17.5, 25.0764999389648]\n",
      "skipping record wih invalid buffers in snapshot 613865, filename 2018-08-23--18-08-08--571 and camera [15.9399995803833, 17.5, 6.07649993896484]\n",
      "skipping record wih invalid buffers in snapshot 613862, filename 2018-08-23--18-08-07--189 and camera [0.480000019073486, 1.5, 1.07649993896484]\n",
      "skipping record wih invalid buffers in snapshot 613864, filename 2018-08-23--18-08-08--238 and camera [-0.0599999986588955, 1.5, 1.07649993896484]\n"
     ]
    },
    {
     "name": "stderr",
     "output_type": "stream",
     "text": [
      "\r",
      "                                                                               \r",
      "\r",
      " 38% 1222 |######################                                   |   2.8 B/s"
     ]
    },
    {
     "name": "stdout",
     "output_type": "stream",
     "text": [
      "skipping record wih invalid buffers in snapshot 613866, filename 2018-08-23--18-08-08--931 and camera [-0.0599999986588955, 33.5, 6.07649993896484]\n"
     ]
    },
    {
     "name": "stderr",
     "output_type": "stream",
     "text": [
      "\r",
      "                                                                               \r",
      "\r",
      " 38% 1223 |######################                                   |   2.8 B/s"
     ]
    },
    {
     "name": "stdout",
     "output_type": "stream",
     "text": [
      "skipping record wih invalid buffers in snapshot 613867, filename 2018-08-23--18-08-09--262 and camera [-16.0599994659424, 17.5, 6.07649993896484]\n"
     ]
    },
    {
     "name": "stderr",
     "output_type": "stream",
     "text": [
      "\r",
      "                                                                               \r",
      "\r",
      " 38% 1224 |######################                                   |   2.8 B/s"
     ]
    },
    {
     "name": "stdout",
     "output_type": "stream",
     "text": [
      "skipping record wih invalid buffers in snapshot 613868, filename 2018-08-23--18-08-09--630 and camera [0.480000019073486, 1.5, 1.07649993896484]\n",
      "skipping record wih invalid buffers in snapshot 613869, filename 2018-08-23--18-08-09--955 and camera [-0.0599999986588955, 17.5, 25.0764999389648]"
     ]
    },
    {
     "name": "stderr",
     "output_type": "stream",
     "text": [
      " 39% 1227 |######################                                   |   2.8 B/s"
     ]
    },
    {
     "name": "stdout",
     "output_type": "stream",
     "text": [
      "\n",
      "skipping record wih invalid buffers in snapshot 613870, filename 2018-08-23--18-08-10--427 and camera [-0.0599999986588955, 1.5, 1.07649993896484]\n",
      "skipping record wih invalid buffers in snapshot 613873, filename 2018-08-23--18-08-11--624 and camera [-16.0599994659424, 17.5, 6.07649993896484]\n"
     ]
    },
    {
     "name": "stderr",
     "output_type": "stream",
     "text": [
      "\r",
      "                                                                               \r",
      "\r",
      " 39% 1229 |######################                                   |   2.8 B/s"
     ]
    },
    {
     "name": "stdout",
     "output_type": "stream",
     "text": [
      "skipping record wih invalid buffers in snapshot 613872, filename 2018-08-23--18-08-11--160 and camera [-0.0599999986588955, 33.5, 6.07649993896484]\n",
      "skipping record wih invalid buffers in snapshot 613871, filename 2018-08-23--18-08-10--762 and camera [15.9399995803833, 17.5, 6.07649993896484]\n",
      "skipping record wih invalid buffers in snapshot 613874, filename 2018-08-23--18-08-11--983 and camera [0.480000019073486, 1.5, 1.07649993896484]\n"
     ]
    },
    {
     "name": "stderr",
     "output_type": "stream",
     "text": [
      " 39% 1232 |######################                                   |   2.8 B/s"
     ]
    },
    {
     "name": "stdout",
     "output_type": "stream",
     "text": [
      "skipping record wih invalid buffers in snapshot 613876, filename 2018-08-23--18-08-13--056 and camera [-0.0599999986588955, 1.5, 1.07649993896484]\n"
     ]
    },
    {
     "name": "stderr",
     "output_type": "stream",
     "text": [
      " 39% 1235 |######################                                   |   2.8 B/s"
     ]
    },
    {
     "name": "stdout",
     "output_type": "stream",
     "text": [
      "skipping record wih invalid buffers in snapshot 613881, filename 2018-08-23--18-08-14--766 and camera [-0.0599999986588955, 17.5, 25.0764999389648]\n",
      "skipping record wih invalid buffers in snapshot 613877, filename 2018-08-23--18-08-13--369 and camera [15.9399995803833, 17.5, 6.07649993896484]\n",
      "skipping record wih invalid buffers in snapshot 613878, filename 2018-08-23--18-08-13--691 and camera [-0.0599999986588955, 33.5, 6.07649993896484]\n",
      "skipping record wih invalid buffers in snapshot 613879, filename 2018-08-23--18-08-14--084 and camera [-16.0599994659424, 17.5, 6.07649993896484]\n"
     ]
    },
    {
     "name": "stderr",
     "output_type": "stream",
     "text": [
      "\r",
      "                                                                               \r",
      "\r",
      " 39% 1237 |######################                                   |   2.8 B/s"
     ]
    },
    {
     "name": "stdout",
     "output_type": "stream",
     "text": [
      "skipping record wih invalid buffers in snapshot 613880, filename 2018-08-23--18-08-14--405 and camera [0.480000019073486, 1.5, 1.07649993896484]\n",
      "skipping record wih invalid buffers in snapshot 613882, filename 2018-08-23--18-08-15--451 and camera [-0.0599999986588955, 1.5, 1.07649993896484]\n"
     ]
    },
    {
     "name": "stderr",
     "output_type": "stream",
     "text": [
      "\r",
      "                                                                               \r",
      "\r",
      " 39% 1239 |######################                                   |   2.8 B/s"
     ]
    },
    {
     "name": "stdout",
     "output_type": "stream",
     "text": [
      "skipping record wih invalid buffers in snapshot 613883, filename 2018-08-23--18-08-15--776 and camera [15.9399995803833, 17.5, 6.07649993896484]\n"
     ]
    },
    {
     "name": "stderr",
     "output_type": "stream",
     "text": [
      " 39% 1241 |######################                                   |   2.8 B/s"
     ]
    },
    {
     "name": "stdout",
     "output_type": "stream",
     "text": [
      "skipping record wih invalid buffers in snapshot 613884, filename 2018-08-23--18-08-16--162 and camera [-0.0599999986588955, 33.5, 6.07649993896484]\n",
      "skipping record wih invalid buffers in snapshot 613888, filename 2018-08-23--18-08-17--976 and camera [-0.0599999986588955, 1.5, 1.07649993896484]\n"
     ]
    },
    {
     "name": "stderr",
     "output_type": "stream",
     "text": [
      " 39% 1244 |######################                                   |   2.8 B/s"
     ]
    },
    {
     "name": "stdout",
     "output_type": "stream",
     "text": [
      "skipping record wih invalid buffers in snapshot 613885, filename 2018-08-23--18-08-16--540 and camera [-16.0599994659424, 17.5, 6.07649993896484]\n",
      "skipping record wih invalid buffers in snapshot 613889, filename 2018-08-23--18-08-18--347 and camera [15.9399995803833, 17.5, 6.07649993896484]\n",
      "skipping record wih invalid buffers in snapshot 613887, filename 2018-08-23--18-08-17--200 and camera [-0.0599999986588955, 17.5, 25.0764999389648]\n",
      "skipping record wih invalid buffers in snapshot 613886, filename 2018-08-23--18-08-16--845 and camera [0.480000019073486, 1.5, 1.07649993896484]\n",
      "skipping record wih invalid buffers in snapshot 613890, filename 2018-08-23--18-08-18--685 and camera [-0.0599999986588955, 33.5, 6.07649993896484]\n"
     ]
    },
    {
     "name": "stderr",
     "output_type": "stream",
     "text": [
      "\r",
      "                                                                               \r",
      "\r",
      " 39% 1247 |######################                                   |   2.8 B/s"
     ]
    },
    {
     "name": "stdout",
     "output_type": "stream",
     "text": [
      "skipping record wih invalid buffers in snapshot 613892, filename 2018-08-23--18-08-19--673 and camera [0.480000019073486, 1.5, 1.07649993896484]\n",
      "skipping record wih invalid buffers in snapshot 613891, filename 2018-08-23--18-08-19--314 and camera [-16.0599994659424, 17.5, 6.07649993896484]\n"
     ]
    },
    {
     "name": "stderr",
     "output_type": "stream",
     "text": [
      "\r",
      "                                                                               \r",
      "\r",
      " 39% 1249 |######################                                   |   2.8 B/s"
     ]
    },
    {
     "name": "stdout",
     "output_type": "stream",
     "text": [
      "skipping record wih invalid buffers in snapshot 613893, filename 2018-08-23--18-08-20--050 and camera [-0.0599999986588955, 17.5, 25.0764999389648]\n"
     ]
    },
    {
     "name": "stderr",
     "output_type": "stream",
     "text": [
      "\r",
      "                                                                               \r",
      "\r",
      " 39% 1250 |######################                                   |   2.8 B/s"
     ]
    },
    {
     "name": "stdout",
     "output_type": "stream",
     "text": [
      "skipping record wih invalid buffers in snapshot 613895, filename 2018-08-23--18-08-20--896 and camera [15.9399995803833, 17.5, 6.07649993896484]\n",
      "skipping record wih invalid buffers in snapshot 613894, filename 2018-08-23--18-08-20--586 and camera [-0.0599999986588955, 1.5, 1.07649993896484]\n",
      "skipping record wih invalid buffers in snapshot 613897, filename 2018-08-23--18-08-21--898 and camera [-16.0599994659424, 17.5, 6.07649993896484]\n",
      "skipping record wih invalid buffers in snapshot 613898, filename 2018-08-23--18-08-22--194 and camera [0.480000019073486, 1.5, 1.07649993896484]\n"
     ]
    },
    {
     "name": "stderr",
     "output_type": "stream",
     "text": [
      " 39% 1256 |######################                                   |   2.8 B/s"
     ]
    },
    {
     "name": "stdout",
     "output_type": "stream",
     "text": [
      "skipping record wih invalid buffers in snapshot 613896, filename 2018-08-23--18-08-21--226 and camera [-0.0599999986588955, 33.5, 6.07649993896484]\n",
      "skipping record wih invalid buffers in snapshot 613899, filename 2018-08-23--18-08-22--549 and camera [-0.0599999986588955, 17.5, 25.0764999389648]\n",
      "skipping record wih invalid buffers in snapshot 613900, filename 2018-08-23--18-08-23--129 and camera [-0.0599999986588955, 1.5, 1.07649993896484]\n"
     ]
    },
    {
     "name": "stderr",
     "output_type": "stream",
     "text": [
      "\r",
      "                                                                               \r",
      "\r",
      " 39% 1257 |######################                                   |   2.8 B/s"
     ]
    },
    {
     "name": "stdout",
     "output_type": "stream",
     "text": [
      "skipping record wih invalid buffers in snapshot 613901, filename 2018-08-23--18-08-23--477 and camera [15.9399995803833, 17.5, 6.07649993896484]\n"
     ]
    },
    {
     "name": "stderr",
     "output_type": "stream",
     "text": [
      " 40% 1260 |######################                                   |   2.8 B/s"
     ]
    },
    {
     "name": "stdout",
     "output_type": "stream",
     "text": [
      "skipping record wih invalid buffers in snapshot 613902, filename 2018-08-23--18-08-23--809 and camera [-0.0599999986588955, 33.5, 6.07649993896484]\n",
      "skipping record wih invalid buffers in snapshot 613903, filename 2018-08-23--18-08-24--171 and camera [-16.0599994659424, 17.5, 6.07649993896484]\n",
      "skipping record wih invalid buffers in snapshot 613904, filename 2018-08-23--18-08-24--522 and camera [0.480000019073486, 1.5, 1.07649993896484]\n",
      "skipping record wih invalid buffers in snapshot 613905, filename 2018-08-23--18-08-24--846 and camera [-0.0599999986588955, 17.5, 25.0764999389648]\n",
      "skipping record wih invalid buffers in snapshot 613906, filename 2018-08-23--18-08-25--361 and camera [-0.0599999986588955, 1.5, 1.07649993896484]\n",
      "skipping record wih invalid buffers in snapshot 613907, filename 2018-08-23--18-08-25--704 and camera [15.9399995803833, 17.5, 6.07649993896484]"
     ]
    },
    {
     "name": "stderr",
     "output_type": "stream",
     "text": [
      "\r",
      "                                                                               \r",
      "\r",
      " 40% 1263 |######################                                   |   2.8 B/s"
     ]
    },
    {
     "name": "stdout",
     "output_type": "stream",
     "text": [
      "\n",
      "skipping record wih invalid buffers in snapshot 613908, filename 2018-08-23--18-08-26--175 and camera [-0.0599999986588955, 33.5, 6.07649993896484]\n"
     ]
    },
    {
     "name": "stderr",
     "output_type": "stream",
     "text": [
      "\r",
      "                                                                               \r",
      "\r",
      " 40% 1265 |######################                                   |   2.8 B/s"
     ]
    },
    {
     "name": "stdout",
     "output_type": "stream",
     "text": [
      "skipping record wih invalid buffers in snapshot 613909, filename 2018-08-23--18-08-26--790 and camera [-16.0599994659424, 17.5, 6.07649993896484]\n"
     ]
    },
    {
     "name": "stderr",
     "output_type": "stream",
     "text": [
      " 40% 1267 |######################                                   |   2.8 B/s"
     ]
    },
    {
     "name": "stdout",
     "output_type": "stream",
     "text": [
      "skipping record wih invalid buffers in snapshot 613910, filename 2018-08-23--18-08-27--871 and camera [0.480000019073486, 1.5, 1.07649993896484]\n",
      "skipping record wih invalid buffers in snapshot 613911, filename 2018-08-23--18-08-28--178 and camera [-0.0599999986588955, 17.5, 25.0764999389648]\n"
     ]
    },
    {
     "name": "stderr",
     "output_type": "stream",
     "text": [
      " 40% 1269 |######################                                   |   2.8 B/s"
     ]
    },
    {
     "name": "stdout",
     "output_type": "stream",
     "text": [
      "skipping record wih invalid buffers in snapshot 613914, filename 2018-08-23--18-08-30--159 and camera [-0.0599999986588955, 33.5, 6.07649993896484]\n",
      "skipping record wih invalid buffers in snapshot 613916, filename 2018-08-23--18-08-30--905 and camera [0.480000019073486, 1.5, 1.07649993896484]\n"
     ]
    },
    {
     "name": "stderr",
     "output_type": "stream",
     "text": [
      "\r",
      "                                                                               \r",
      "\r",
      " 40% 1271 |#######################                                  |   2.8 B/s"
     ]
    },
    {
     "name": "stdout",
     "output_type": "stream",
     "text": [
      "skipping record wih invalid buffers in snapshot 613915, filename 2018-08-23--18-08-30--467 and camera [-16.0599994659424, 17.5, 6.07649993896484]\n",
      "skipping record wih invalid buffers in snapshot 613917, filename 2018-08-23--18-08-31--276 and camera [-0.0599999986588955, 17.5, 25.0764999389648]\n"
     ]
    },
    {
     "name": "stderr",
     "output_type": "stream",
     "text": [
      " 40% 1274 |#######################                                  |   2.8 B/s"
     ]
    },
    {
     "name": "stdout",
     "output_type": "stream",
     "text": [
      "skipping record wih invalid buffers in snapshot 613918, filename 2018-08-23--18-08-31--789 and camera [-0.0599999986588955, 1.5, 1.07649993896484]\n"
     ]
    },
    {
     "name": "stderr",
     "output_type": "stream",
     "text": [
      " 40% 1276 |#######################                                  |   2.8 B/s"
     ]
    },
    {
     "name": "stdout",
     "output_type": "stream",
     "text": [
      "skipping record wih invalid buffers in snapshot 613920, filename 2018-08-23--18-08-32--604 and camera [-0.0599999986588955, 33.5, 6.07649993896484]\n",
      "skipping record wih invalid buffers in snapshot 613922, filename 2018-08-23--18-08-33--321 and camera [0.480000019073486, 1.5, 1.07649993896484]\n"
     ]
    },
    {
     "name": "stderr",
     "output_type": "stream",
     "text": [
      " 40% 1278 |#######################                                  |   2.8 B/s"
     ]
    },
    {
     "name": "stdout",
     "output_type": "stream",
     "text": [
      "skipping record wih invalid buffers in snapshot 613919, filename 2018-08-23--18-08-32--179 and camera [15.9399995803833, 17.5, 6.07649993896484]\n",
      "skipping record wih invalid buffers in snapshot 613921, filename 2018-08-23--18-08-33--023 and camera [-16.0599994659424, 17.5, 6.07649993896484]\n",
      "skipping record wih invalid buffers in snapshot 613924, filename 2018-08-23--18-08-34--287 and camera [-0.0599999986588955, 1.5, 1.07649993896484]\n"
     ]
    },
    {
     "name": "stderr",
     "output_type": "stream",
     "text": [
      "\r",
      "                                                                               \r",
      "\r",
      " 40% 1280 |#######################                                  |   2.8 B/s"
     ]
    },
    {
     "name": "stdout",
     "output_type": "stream",
     "text": [
      "skipping record wih invalid buffers in snapshot 613923, filename 2018-08-23--18-08-33--701 and camera [-0.0599999986588955, 17.5, 25.0764999389648]\n"
     ]
    },
    {
     "name": "stderr",
     "output_type": "stream",
     "text": [
      " 40% 1282 |#######################                                  |   2.8 B/s"
     ]
    },
    {
     "name": "stdout",
     "output_type": "stream",
     "text": [
      "skipping record wih invalid buffers in snapshot 613926, filename 2018-08-23--18-08-35--354 and camera [-0.0599999986588955, 33.5, 6.07649993896484]\n",
      "skipping record wih invalid buffers in snapshot 613925, filename 2018-08-23--18-08-34--639 and camera [15.9399995803833, 17.5, 6.07649993896484]\n"
     ]
    },
    {
     "name": "stderr",
     "output_type": "stream",
     "text": [
      "\r",
      "                                                                               \r",
      "\r",
      " 40% 1283 |#######################                                  |   2.8 B/s"
     ]
    },
    {
     "name": "stdout",
     "output_type": "stream",
     "text": [
      "skipping record wih invalid buffers in snapshot 613927, filename 2018-08-23--18-08-35--765 and camera [-16.0599994659424, 17.5, 6.07649993896484]\n"
     ]
    },
    {
     "name": "stderr",
     "output_type": "stream",
     "text": [
      " 40% 1286 |#######################                                  |   2.8 B/s"
     ]
    },
    {
     "name": "stdout",
     "output_type": "stream",
     "text": [
      "skipping record wih invalid buffers in snapshot 613928, filename 2018-08-23--18-08-36--127 and camera [0.480000019073486, 1.5, 1.07649993896484]\n",
      "skipping record wih invalid buffers in snapshot 613930, filename 2018-08-23--18-08-36--946 and camera [-0.0599999986588955, 1.5, 1.07649993896484]\n",
      "skipping record wih invalid buffers in snapshot 613929, filename 2018-08-23--18-08-36--457 and camera [-0.0599999986588955, 17.5, 25.0764999389648]\n"
     ]
    },
    {
     "name": "stderr",
     "output_type": "stream",
     "text": [
      " 40% 1289 |#######################                                  |   2.9 B/s"
     ]
    },
    {
     "name": "stdout",
     "output_type": "stream",
     "text": [
      "skipping record wih invalid buffers in snapshot 613931, filename 2018-08-23--18-08-37--306 and camera [15.9399995803833, 17.5, 6.07649993896484]\n",
      "skipping record wih invalid buffers in snapshot 613934, filename 2018-08-23--18-08-38--334 and camera [0.480000019073486, 1.5, 1.07649993896484]\n",
      "skipping record wih invalid buffers in snapshot 613932, filename 2018-08-23--18-08-37--615 and camera [-0.0599999986588955, 33.5, 6.07649993896484]\n",
      "skipping record wih invalid buffers in snapshot 613933, filename 2018-08-23--18-08-37--946 and camera [-16.0599994659424, 17.5, 6.07649993896484]\n"
     ]
    },
    {
     "name": "stderr",
     "output_type": "stream",
     "text": [
      "\r",
      "                                                                               \r",
      "\r",
      " 41% 1291 |#######################                                  |   2.9 B/s"
     ]
    },
    {
     "name": "stdout",
     "output_type": "stream",
     "text": [
      "skipping record wih invalid buffers in snapshot 613935, filename 2018-08-23--18-08-38--742 and camera [-0.0599999986588955, 17.5, 25.0764999389648]\n"
     ]
    },
    {
     "name": "stderr",
     "output_type": "stream",
     "text": [
      "\r",
      "                                                                               \r",
      "\r",
      " 41% 1292 |#######################                                  |   2.8 B/s"
     ]
    },
    {
     "name": "stdout",
     "output_type": "stream",
     "text": [
      "skipping record wih invalid buffers in snapshot 613936, filename 2018-08-23--18-08-39--221 and camera [-0.0599999986588955, 1.5, 1.07649993896484]\n",
      "skipping record wih invalid buffers in snapshot 613940, filename 2018-08-23--18-08-40--931 and camera [0.480000019073486, 1.5, 1.07649993896484]\n",
      "skipping record wih invalid buffers in snapshot 613937, filename 2018-08-23--18-08-39--558 and camera [15.9399995803833, 17.5, 6.07649993896484]\n"
     ]
    },
    {
     "name": "stderr",
     "output_type": "stream",
     "text": [
      " 41% 1298 |#######################                                  |   2.9 B/s"
     ]
    },
    {
     "name": "stdout",
     "output_type": "stream",
     "text": [
      "skipping record wih invalid buffers in snapshot 613938, filename 2018-08-23--18-08-39--970 and camera [-0.0599999986588955, 33.5, 6.07649993896484]\n",
      "skipping record wih invalid buffers in snapshot 613939, filename 2018-08-23--18-08-40--569 and camera [-16.0599994659424, 17.5, 6.07649993896484]\n",
      "skipping record wih invalid buffers in snapshot 613941, filename 2018-08-23--18-08-41--243 and camera [-0.0599999986588955, 17.5, 25.0764999389648]\n",
      "skipping record wih invalid buffers in snapshot 613942, filename 2018-08-23--18-08-41--793 and camera [-0.0599999986588955, 1.5, 1.07649993896484]\n"
     ]
    },
    {
     "name": "stderr",
     "output_type": "stream",
     "text": [
      "\r",
      "                                                                               \r",
      "\r",
      " 41% 1299 |#######################                                  |   2.9 B/s"
     ]
    },
    {
     "name": "stdout",
     "output_type": "stream",
     "text": [
      "skipping record wih invalid buffers in snapshot 613943, filename 2018-08-23--18-08-42--122 and camera [15.9399995803833, 17.5, 6.07649993896484]\n"
     ]
    },
    {
     "name": "stderr",
     "output_type": "stream",
     "text": [
      " 41% 1301 |#######################                                  |   2.9 B/s"
     ]
    },
    {
     "name": "stdout",
     "output_type": "stream",
     "text": [
      "skipping record wih invalid buffers in snapshot 613944, filename 2018-08-23--18-08-42--458 and camera [-0.0599999986588955, 33.5, 6.07649993896484]\n",
      "skipping record wih invalid buffers in snapshot 613947, filename 2018-08-23--18-08-43--667 and camera [-0.0599999986588955, 17.5, 25.0764999389648]\n"
     ]
    },
    {
     "name": "stderr",
     "output_type": "stream",
     "text": [
      " 41% 1303 |#######################                                  |   2.9 B/s"
     ]
    },
    {
     "name": "stdout",
     "output_type": "stream",
     "text": [
      "skipping record wih invalid buffers in snapshot 613946, filename 2018-08-23--18-08-43--304 and camera [0.480000019073486, 1.5, 1.07649993896484]\n",
      "skipping record wih invalid buffers in snapshot 613951, filename 2018-08-23--18-08-45--808 and camera [-16.0599994659424, 17.5, 6.07649993896484]\n"
     ]
    },
    {
     "name": "stderr",
     "output_type": "stream",
     "text": [
      "\r",
      "                                                                               \r",
      "\r",
      " 41% 1305 |#######################                                  |   2.9 B/s"
     ]
    },
    {
     "name": "stdout",
     "output_type": "stream",
     "text": [
      "skipping record wih invalid buffers in snapshot 613949, filename 2018-08-23--18-08-45--046 and camera [15.9399995803833, 17.5, 6.07649993896484]\n",
      "skipping record wih invalid buffers in snapshot 613948, filename 2018-08-23--18-08-44--220 and camera [-0.0599999986588955, 1.5, 1.07649993896484]\n",
      "skipping record wih invalid buffers in snapshot 613950, filename 2018-08-23--18-08-45--427 and camera [-0.0599999986588955, 33.5, 6.07649993896484]\n",
      "skipping record wih invalid buffers in snapshot 613945, filename 2018-08-23--18-08-42--792 and camera [-16.0599994659424, 17.5, 6.07649993896484]\n"
     ]
    },
    {
     "name": "stderr",
     "output_type": "stream",
     "text": [
      "\r",
      "                                                                               \r",
      "\r",
      " 41% 1308 |#######################                                  |   2.9 B/s"
     ]
    },
    {
     "name": "stdout",
     "output_type": "stream",
     "text": [
      "skipping record wih invalid buffers in snapshot 613952, filename 2018-08-23--18-08-46--099 and camera [0.480000019073486, 1.5, 1.07649993896484]\n"
     ]
    },
    {
     "name": "stderr",
     "output_type": "stream",
     "text": [
      "\r",
      "                                                                               \r",
      "\r",
      " 41% 1309 |#######################                                  |   2.9 B/s"
     ]
    },
    {
     "name": "stdout",
     "output_type": "stream",
     "text": [
      "skipping record wih invalid buffers in snapshot 613953, filename 2018-08-23--18-08-46--460 and camera [-0.0599999986588955, 17.5, 25.0764999389648]\n"
     ]
    },
    {
     "name": "stderr",
     "output_type": "stream",
     "text": [
      " 43% 1381 |#########################                                |   2.9 B/s"
     ]
    },
    {
     "name": "stdout",
     "output_type": "stream",
     "text": [
      "skipping record wih invalid buffers in snapshot 614028, filename 2018-08-23--18-09-21--297 and camera [-0.0599999986588955, 33.5, 6.07649993896484]\n",
      "skipping record wih invalid buffers in snapshot 614027, filename 2018-08-23--18-09-20--833 and camera [15.9399995803833, 17.5, 6.07649993896484]\n"
     ]
    },
    {
     "name": "stderr",
     "output_type": "stream",
     "text": [
      " 44% 1385 |#########################                                |   2.9 B/s"
     ]
    },
    {
     "name": "stdout",
     "output_type": "stream",
     "text": [
      "skipping record wih invalid buffers in snapshot 614029, filename 2018-08-23--18-09-21--676 and camera [-16.0599994659424, 17.5, 6.07649993896484]\n"
     ]
    },
    {
     "name": "stderr",
     "output_type": "stream",
     "text": [
      "\r",
      "                                                                               \r",
      "\r",
      " 44% 1386 |#########################                                |   2.9 B/s"
     ]
    },
    {
     "name": "stdout",
     "output_type": "stream",
     "text": [
      "skipping record wih invalid buffers in snapshot 614030, filename 2018-08-23--18-09-22--162 and camera [0.480000019073486, 1.5, 1.07649993896484]\n",
      "skipping record wih invalid buffers in snapshot 614031, filename 2018-08-23--18-09-22--479 and camera [-0.0599999986588955, 17.5, 25.0764999389648]\n",
      "skipping record wih invalid buffers in snapshot 614033, filename 2018-08-23--18-09-23--417 and camera [15.9399995803833, 17.5, 6.07649993896484]"
     ]
    },
    {
     "name": "stderr",
     "output_type": "stream",
     "text": [
      " 44% 1390 |#########################                                |   2.9 B/s"
     ]
    },
    {
     "name": "stdout",
     "output_type": "stream",
     "text": [
      "\n",
      "skipping record wih invalid buffers in snapshot 614034, filename 2018-08-23--18-09-23--713 and camera [-0.0599999986588955, 33.5, 6.07649993896484]\n",
      "skipping record wih invalid buffers in snapshot 614035, filename 2018-08-23--18-09-24--223 and camera [-16.0599994659424, 17.5, 6.07649993896484]\n"
     ]
    },
    {
     "name": "stderr",
     "output_type": "stream",
     "text": [
      "\r",
      "                                                                               \r",
      "\r",
      " 44% 1391 |#########################                                |   2.9 B/s"
     ]
    },
    {
     "name": "stdout",
     "output_type": "stream",
     "text": [
      "skipping record wih invalid buffers in snapshot 614036, filename 2018-08-23--18-09-24--558 and camera [0.480000019073486, 1.5, 1.07649993896484]\n"
     ]
    },
    {
     "name": "stderr",
     "output_type": "stream",
     "text": [
      " 52% 1645 |#############################                            |   2.9 B/s"
     ]
    },
    {
     "name": "stdout",
     "output_type": "stream",
     "text": [
      "skipping record wih invalid buffers in snapshot 614294, filename 2018-08-23--18-11-26--669 and camera [-0.0599999986588955, 1.5, 1.07649993896484]\n",
      "skipping record wih invalid buffers in snapshot 614293, filename 2018-08-23--18-11-26--175 and camera [-0.0599999986588955, 17.5, 25.0764999389648]\n"
     ]
    },
    {
     "name": "stderr",
     "output_type": "stream",
     "text": [
      "\r",
      "                                                                               \r",
      "\r",
      " 52% 1647 |#############################                            |   2.9 B/s"
     ]
    },
    {
     "name": "stdout",
     "output_type": "stream",
     "text": [
      "skipping record wih invalid buffers in snapshot 614295, filename 2018-08-23--18-11-27--007 and camera [15.9399995803833, 17.5, 6.07649993896484]\n"
     ]
    },
    {
     "name": "stderr",
     "output_type": "stream",
     "text": [
      " 52% 1651 |#############################                            |   2.9 B/s"
     ]
    },
    {
     "name": "stdout",
     "output_type": "stream",
     "text": [
      "skipping record wih invalid buffers in snapshot 614296, filename 2018-08-23--18-11-27--395 and camera [-0.0599999986588955, 33.5, 6.07649993896484]\n"
     ]
    },
    {
     "name": "stderr",
     "output_type": "stream",
     "text": [
      " 52% 1654 |#############################                            |   3.0 B/s"
     ]
    },
    {
     "name": "stdout",
     "output_type": "stream",
     "text": [
      "skipping record wih invalid buffers in snapshot 614298, filename 2018-08-23--18-11-28--142 and camera [0.480000019073486, 1.5, 1.07649993896484]\n",
      "skipping record wih invalid buffers in snapshot 614297, filename 2018-08-23--18-11-27--726 and camera [-16.0599994659424, 17.5, 6.07649993896484]\n",
      "skipping record wih invalid buffers in snapshot 614299, filename 2018-08-23--18-11-28--529 and camera [-0.0599999986588955, 17.5, 25.0764999389648]\n"
     ]
    },
    {
     "name": "stderr",
     "output_type": "stream",
     "text": [
      "\r",
      "                                                                               \r",
      "\r",
      " 52% 1656 |##############################                           |   3.0 B/s"
     ]
    },
    {
     "name": "stdout",
     "output_type": "stream",
     "text": [
      "skipping record wih invalid buffers in snapshot 614300, filename 2018-08-23--18-11-29--095 and camera [-0.0599999986588955, 1.5, 1.07649993896484]\n",
      "skipping record wih invalid buffers in snapshot 614301, filename 2018-08-23--18-11-29--458 and camera [15.9399995803833, 17.5, 6.07649993896484]\n"
     ]
    },
    {
     "name": "stderr",
     "output_type": "stream",
     "text": [
      " 52% 1659 |##############################                           |   2.9 B/s"
     ]
    },
    {
     "name": "stdout",
     "output_type": "stream",
     "text": [
      "skipping record wih invalid buffers in snapshot 614302, filename 2018-08-23--18-11-29--811 and camera [-0.0599999986588955, 33.5, 6.07649993896484]\n",
      "skipping record wih invalid buffers in snapshot 614303, filename 2018-08-23--18-11-30--192 and camera [-16.0599994659424, 17.5, 6.07649993896484]\n"
     ]
    },
    {
     "name": "stderr",
     "output_type": "stream",
     "text": [
      "\r",
      "                                                                               \r",
      "\r",
      " 52% 1661 |##############################                           |   3.0 B/s"
     ]
    },
    {
     "name": "stdout",
     "output_type": "stream",
     "text": [
      "skipping record wih invalid buffers in snapshot 614306, filename 2018-08-23--18-11-31--910 and camera [-0.0599999986588955, 1.5, 1.07649993896484]\n",
      "skipping record wih invalid buffers in snapshot 614307, filename 2018-08-23--18-11-32--291 and camera [15.9399995803833, 17.5, 6.07649993896484]\n",
      "skipping record wih invalid buffers in snapshot 614305, filename 2018-08-23--18-11-31--417 and camera [-0.0599999986588955, 17.5, 25.0764999389648]\n",
      "skipping record wih invalid buffers in snapshot 614304, filename 2018-08-23--18-11-30--991 and camera [0.480000019073486, 1.5, 1.07649993896484]\n"
     ]
    },
    {
     "name": "stderr",
     "output_type": "stream",
     "text": [
      "\r",
      "                                                                               \r",
      "\r",
      " 52% 1664 |##############################                           |   3.0 B/s"
     ]
    },
    {
     "name": "stdout",
     "output_type": "stream",
     "text": [
      "skipping record wih invalid buffers in snapshot 614309, filename 2018-08-23--18-11-33--119 and camera [-16.0599994659424, 17.5, 6.07649993896484]\n",
      "skipping record wih invalid buffers in snapshot 614308, filename 2018-08-23--18-11-32--816 and camera [-0.0599999986588955, 33.5, 6.07649993896484]\n"
     ]
    },
    {
     "name": "stderr",
     "output_type": "stream",
     "text": [
      "\r",
      "                                                                               \r",
      "\r",
      " 52% 1666 |##############################                           |   3.0 B/s"
     ]
    },
    {
     "name": "stdout",
     "output_type": "stream",
     "text": [
      "skipping record wih invalid buffers in snapshot 614310, filename 2018-08-23--18-11-33--476 and camera [0.480000019073486, 1.5, 1.07649993896484]\n",
      "skipping record wih invalid buffers in snapshot 614311, filename 2018-08-23--18-11-33--849 and camera [-0.0599999986588955, 17.5, 25.0764999389648]\n",
      "skipping record wih invalid buffers in snapshot 614312, filename 2018-08-23--18-11-34--355 and camera [-0.0599999986588955, 1.5, 1.07649993896484]\n",
      "skipping record wih invalid buffers in snapshot 614313, filename 2018-08-23--18-11-34--696 and camera [15.9399995803833, 17.5, 6.07649993896484]\n"
     ]
    },
    {
     "name": "stderr",
     "output_type": "stream",
     "text": [
      "\r",
      "                                                                               \r",
      "\r",
      " 53% 1670 |##############################                           |   3.0 B/s"
     ]
    },
    {
     "name": "stdout",
     "output_type": "stream",
     "text": [
      "skipping record wih invalid buffers in snapshot 614315, filename 2018-08-23--18-11-35--703 and camera [-16.0599994659424, 17.5, 6.07649993896484]\n",
      "skipping record wih invalid buffers in snapshot 614314, filename 2018-08-23--18-11-35--082 and camera [-0.0599999986588955, 33.5, 6.07649993896484]\n"
     ]
    },
    {
     "name": "stderr",
     "output_type": "stream",
     "text": [
      "\r",
      "                                                                               \r",
      "\r",
      " 53% 1672 |##############################                           |   3.0 B/s"
     ]
    },
    {
     "name": "stdout",
     "output_type": "stream",
     "text": [
      "skipping record wih invalid buffers in snapshot 614316, filename 2018-08-23--18-11-36--196 and camera [0.480000019073486, 1.5, 1.07649993896484]\n"
     ]
    },
    {
     "name": "stderr",
     "output_type": "stream",
     "text": [
      " 63% 2000 |####################################                     |   2.9 B/s"
     ]
    },
    {
     "name": "stdout",
     "output_type": "stream",
     "text": [
      "skipping record wih invalid buffers in snapshot 614646, filename 2018-08-23--18-14-13--756 and camera [-0.0599999986588955, 17.5, 25.0764999389648]\n",
      "skipping record wih invalid buffers in snapshot 614645, filename 2018-08-23--18-14-13--367 and camera [0.480000019073486, 1.5, 1.07649993896484]\n"
     ]
    },
    {
     "name": "stderr",
     "output_type": "stream",
     "text": [
      " 88% 2782 |##################################################       |   3.1 B/s"
     ]
    },
    {
     "name": "stdout",
     "output_type": "stream",
     "text": [
      "skipping record wih invalid buffers in snapshot 615430, filename 2018-08-23--18-20-27--706 and camera [0.480000019073486, 1.5, 1.07649993896484]\n"
     ]
    },
    {
     "name": "stderr",
     "output_type": "stream",
     "text": [
      "\r",
      "                                                                               \r",
      "\r",
      " 88% 2783 |##################################################       |   3.1 B/s"
     ]
    },
    {
     "name": "stdout",
     "output_type": "stream",
     "text": [
      "skipping record wih invalid buffers in snapshot 615431, filename 2018-08-23--18-20-28--013 and camera [-0.0599999986588955, 17.5, 25.0764999389648]\n"
     ]
    },
    {
     "name": "stderr",
     "output_type": "stream",
     "text": [
      " 93% 2954 |#####################################################    |   3.1 B/s"
     ]
    },
    {
     "name": "stdout",
     "output_type": "stream",
     "text": [
      "skipping record wih invalid buffers in snapshot 615597, filename 2018-08-23--18-21-45--698 and camera [-16.0599994659424, 17.5, 6.07649993896484]\n",
      "skipping record wih invalid buffers in snapshot 615598, filename 2018-08-23--18-21-46--163 and camera [0.480000019073486, 1.5, 1.07649993896484]\n",
      "skipping record wih invalid buffers in snapshot 615599, filename 2018-08-23--18-21-46--738 and camera [-0.0599999986588955, 17.5, 25.0764999389648]\n"
     ]
    },
    {
     "name": "stderr",
     "output_type": "stream",
     "text": [
      "\r",
      "                                                                               \r",
      "\r",
      " 93% 2956 |#####################################################    |   3.1 B/s"
     ]
    },
    {
     "name": "stdout",
     "output_type": "stream",
     "text": [
      "skipping record wih invalid buffers in snapshot 615600, filename 2018-08-23--18-21-47--205 and camera [-0.0599999986588955, 1.5, 1.07649993896484]\n"
     ]
    },
    {
     "name": "stderr",
     "output_type": "stream",
     "text": [
      " 94% 2958 |#####################################################    |   3.1 B/s"
     ]
    },
    {
     "name": "stdout",
     "output_type": "stream",
     "text": [
      "skipping record wih invalid buffers in snapshot 615601, filename 2018-08-23--18-21-47--936 and camera [15.9399995803833, 17.5, 6.07649993896484]\n",
      "skipping record wih invalid buffers in snapshot 615602, filename 2018-08-23--18-21-48--335 and camera [-0.0599999986588955, 33.5, 6.07649993896484]\n"
     ]
    },
    {
     "name": "stderr",
     "output_type": "stream",
     "text": [
      " 94% 2960 |#####################################################    |   3.1 B/s"
     ]
    },
    {
     "name": "stdout",
     "output_type": "stream",
     "text": [
      "skipping record wih invalid buffers in snapshot 615603, filename 2018-08-23--18-21-48--714 and camera [-16.0599994659424, 17.5, 6.07649993896484]\n",
      "skipping record wih invalid buffers in snapshot 615604, filename 2018-08-23--18-21-49--046 and camera [0.480000019073486, 1.5, 1.07649993896484]\n"
     ]
    },
    {
     "name": "stderr",
     "output_type": "stream",
     "text": [
      "\r",
      "                                                                               \r",
      "\r",
      " 94% 2962 |#####################################################    |   3.1 B/s"
     ]
    },
    {
     "name": "stdout",
     "output_type": "stream",
     "text": [
      "skipping record wih invalid buffers in snapshot 615605, filename 2018-08-23--18-21-49--609 and camera [-0.0599999986588955, 17.5, 25.0764999389648]\n",
      "skipping record wih invalid buffers in snapshot 615607, filename 2018-08-23--18-21-50--887 and camera [15.9399995803833, 17.5, 6.07649993896484]\n",
      "skipping record wih invalid buffers in snapshot 615606, filename 2018-08-23--18-21-50--529 and camera [-0.0599999986588955, 1.5, 1.07649993896484]\n"
     ]
    },
    {
     "name": "stderr",
     "output_type": "stream",
     "text": [
      "\r",
      "                                                                               \r",
      "\r",
      " 94% 2964 |#####################################################    |   3.1 B/s"
     ]
    },
    {
     "name": "stdout",
     "output_type": "stream",
     "text": [
      "skipping record wih invalid buffers in snapshot 615608, filename 2018-08-23--18-21-51--629 and camera [-0.0599999986588955, 33.5, 6.07649993896484]\n"
     ]
    },
    {
     "name": "stderr",
     "output_type": "stream",
     "text": [
      "\r",
      "                                                                               \r",
      "\r",
      " 94% 2965 |#####################################################    |   3.1 B/s"
     ]
    },
    {
     "name": "stdout",
     "output_type": "stream",
     "text": [
      "skipping record wih invalid buffers in snapshot 615609, filename 2018-08-23--18-21-52--159 and camera [-16.0599994659424, 17.5, 6.07649993896484]\n"
     ]
    },
    {
     "name": "stderr",
     "output_type": "stream",
     "text": [
      "\r",
      "                                                                               \r",
      "\r",
      " 94% 2966 |#####################################################    |   3.1 B/s"
     ]
    },
    {
     "name": "stdout",
     "output_type": "stream",
     "text": [
      "skipping record wih invalid buffers in snapshot 615610, filename 2018-08-23--18-21-52--559 and camera [0.480000019073486, 1.5, 1.07649993896484]\n"
     ]
    },
    {
     "name": "stderr",
     "output_type": "stream",
     "text": [
      "\r",
      "                                                                               \r",
      "\r",
      " 94% 2967 |#####################################################    |   3.1 B/s"
     ]
    },
    {
     "name": "stdout",
     "output_type": "stream",
     "text": [
      "skipping record wih invalid buffers in snapshot 615611, filename 2018-08-23--18-21-52--932 and camera [-0.0599999986588955, 17.5, 25.0764999389648]\n"
     ]
    },
    {
     "name": "stderr",
     "output_type": "stream",
     "text": [
      "\r",
      "                                                                               \r",
      "\r",
      " 94% 2968 |#####################################################    |   3.1 B/s"
     ]
    },
    {
     "name": "stdout",
     "output_type": "stream",
     "text": [
      "skipping record wih invalid buffers in snapshot 615612, filename 2018-08-23--18-21-53--412 and camera [-0.0599999986588955, 1.5, 1.07649993896484]\n"
     ]
    },
    {
     "name": "stderr",
     "output_type": "stream",
     "text": [
      "100% 3145 |#########################################################|   3.1 B/s"
     ]
    },
    {
     "name": "stdout",
     "output_type": "stream",
     "text": [
      "done\n"
     ]
    }
   ],
   "source": [
    "workers = 8\n",
    "\n",
    "widgets = [progressbar.Percentage(), ' ', progressbar.Counter(), ' ', progressbar.Bar(), ' ',\n",
    "           progressbar.FileTransferSpeed()]\n",
    "\n",
    "pbar = progressbar.ProgressBar(widgets=widgets, maxval=len(results)).start()\n",
    "counter = 0\n",
    "\n",
    "Parallel(n_jobs=workers, backend='threading')(delayed(try_dump_snapshot_to_dataset)(in_directory, get_out_directory(out_directory, i, directory_per_camera), i, run_id) for i in results)\n",
    "print('done')"
   ]
  },
  {
   "cell_type": "markdown",
   "metadata": {},
   "source": [
    "### copying to linux into datagrid dir"
   ]
  },
  {
   "cell_type": "code",
   "execution_count": null,
   "metadata": {
    "scrolled": true
   },
   "outputs": [
    {
     "name": "stderr",
     "output_type": "stream",
     "text": [
      "  8% 812 |#####                                                     |   2.0 B/s"
     ]
    }
   ],
   "source": [
    "def copy_file(in_path, out_path):\n",
    "    if os.path.exists(out_path):\n",
    "        return\n",
    "    copyfile(in_path, out_path)\n",
    "\n",
    "def copy_files(in_dir, out_dir, name):\n",
    "    if 'pbar' in globals() and 'counter' in globals():\n",
    "        global counter\n",
    "        counter += 1\n",
    "        pbar.update(counter)\n",
    "\n",
    "    rgb_name = name+'.jpg'\n",
    "    json_name = name+'.json'\n",
    "    depth_name = name+'-depth.png'\n",
    "    stencil_name = name+'-stencil.png'\n",
    "    \n",
    "    copyfile(os.path.join(in_dir, rgb_name), os.path.join(out_dir, rgb_name))\n",
    "    copyfile(os.path.join(in_dir, json_name), os.path.join(out_dir, json_name))\n",
    "    copyfile(os.path.join(in_dir, depth_name), os.path.join(out_dir, depth_name))\n",
    "    copyfile(os.path.join(in_dir, stencil_name), os.path.join(out_dir, stencil_name))\n",
    "\n",
    "workers = 8\n",
    "\n",
    "windows_in_directory = r'D:\\output-datasets\\offroad-6'\n",
    "linux_out_directory = r'Z:\\offroad-6'\n",
    "\n",
    "if not os.path.exists(linux_out_directory):\n",
    "    os.makedirs(linux_out_directory)\n",
    "\n",
    "widgets = [progressbar.Percentage(), ' ', progressbar.Counter(), ' ', progressbar.Bar(), ' ',\n",
    "           progressbar.FileTransferSpeed()]\n",
    "\n",
    "pbar = progressbar.ProgressBar(widgets=widgets, max_value=len(results)).start()\n",
    "counter = 0\n",
    "\n",
    "Parallel(n_jobs=workers, backend='threading')(\n",
    "    delayed(copy_files)(windows_in_directory, linux_out_directory, i['imagepath']) for i in results)\n"
   ]
  },
  {
   "cell_type": "markdown",
   "metadata": {},
   "source": [
    "### copying original tiffs to linux into datagrid dir, only one run from database"
   ]
  },
  {
   "cell_type": "code",
   "execution_count": 42,
   "metadata": {},
   "outputs": [
    {
     "name": "stderr",
     "output_type": "stream",
     "text": [
      "  0% 42 |                                                           |   0.7 B/s"
     ]
    },
    {
     "ename": "KeyboardInterrupt",
     "evalue": "",
     "output_type": "error",
     "traceback": [
      "\u001b[1;31m---------------------------------------------------------------------------\u001b[0m",
      "\u001b[1;31mKeyboardInterrupt\u001b[0m                         Traceback (most recent call last)",
      "\u001b[1;32m<ipython-input-42-505770c9802e>\u001b[0m in \u001b[0;36m<module>\u001b[1;34m()\u001b[0m\n\u001b[0;32m     29\u001b[0m \u001b[1;33m\u001b[0m\u001b[0m\n\u001b[0;32m     30\u001b[0m Parallel(n_jobs=workers, backend='threading')(\n\u001b[1;32m---> 31\u001b[1;33m     delayed(copy_files)(in_directory, out_directory, i['imagepath']) for i in results)\n\u001b[0m",
      "\u001b[1;32mC:\\ProgramData\\Anaconda3\\lib\\site-packages\\joblib\\parallel.py\u001b[0m in \u001b[0;36m__call__\u001b[1;34m(self, iterable)\u001b[0m\n\u001b[0;32m    787\u001b[0m                 \u001b[1;31m# consumption.\u001b[0m\u001b[1;33m\u001b[0m\u001b[1;33m\u001b[0m\u001b[0m\n\u001b[0;32m    788\u001b[0m                 \u001b[0mself\u001b[0m\u001b[1;33m.\u001b[0m\u001b[0m_iterating\u001b[0m \u001b[1;33m=\u001b[0m \u001b[1;32mFalse\u001b[0m\u001b[1;33m\u001b[0m\u001b[0m\n\u001b[1;32m--> 789\u001b[1;33m             \u001b[0mself\u001b[0m\u001b[1;33m.\u001b[0m\u001b[0mretrieve\u001b[0m\u001b[1;33m(\u001b[0m\u001b[1;33m)\u001b[0m\u001b[1;33m\u001b[0m\u001b[0m\n\u001b[0m\u001b[0;32m    790\u001b[0m             \u001b[1;31m# Make sure that we get a last message telling us we are done\u001b[0m\u001b[1;33m\u001b[0m\u001b[1;33m\u001b[0m\u001b[0m\n\u001b[0;32m    791\u001b[0m             \u001b[0melapsed_time\u001b[0m \u001b[1;33m=\u001b[0m \u001b[0mtime\u001b[0m\u001b[1;33m.\u001b[0m\u001b[0mtime\u001b[0m\u001b[1;33m(\u001b[0m\u001b[1;33m)\u001b[0m \u001b[1;33m-\u001b[0m \u001b[0mself\u001b[0m\u001b[1;33m.\u001b[0m\u001b[0m_start_time\u001b[0m\u001b[1;33m\u001b[0m\u001b[0m\n",
      "\u001b[1;32mC:\\ProgramData\\Anaconda3\\lib\\site-packages\\joblib\\parallel.py\u001b[0m in \u001b[0;36mretrieve\u001b[1;34m(self)\u001b[0m\n\u001b[0;32m    697\u001b[0m             \u001b[1;32mtry\u001b[0m\u001b[1;33m:\u001b[0m\u001b[1;33m\u001b[0m\u001b[0m\n\u001b[0;32m    698\u001b[0m                 \u001b[1;32mif\u001b[0m \u001b[0mgetattr\u001b[0m\u001b[1;33m(\u001b[0m\u001b[0mself\u001b[0m\u001b[1;33m.\u001b[0m\u001b[0m_backend\u001b[0m\u001b[1;33m,\u001b[0m \u001b[1;34m'supports_timeout'\u001b[0m\u001b[1;33m,\u001b[0m \u001b[1;32mFalse\u001b[0m\u001b[1;33m)\u001b[0m\u001b[1;33m:\u001b[0m\u001b[1;33m\u001b[0m\u001b[0m\n\u001b[1;32m--> 699\u001b[1;33m                     \u001b[0mself\u001b[0m\u001b[1;33m.\u001b[0m\u001b[0m_output\u001b[0m\u001b[1;33m.\u001b[0m\u001b[0mextend\u001b[0m\u001b[1;33m(\u001b[0m\u001b[0mjob\u001b[0m\u001b[1;33m.\u001b[0m\u001b[0mget\u001b[0m\u001b[1;33m(\u001b[0m\u001b[0mtimeout\u001b[0m\u001b[1;33m=\u001b[0m\u001b[0mself\u001b[0m\u001b[1;33m.\u001b[0m\u001b[0mtimeout\u001b[0m\u001b[1;33m)\u001b[0m\u001b[1;33m)\u001b[0m\u001b[1;33m\u001b[0m\u001b[0m\n\u001b[0m\u001b[0;32m    700\u001b[0m                 \u001b[1;32melse\u001b[0m\u001b[1;33m:\u001b[0m\u001b[1;33m\u001b[0m\u001b[0m\n\u001b[0;32m    701\u001b[0m                     \u001b[0mself\u001b[0m\u001b[1;33m.\u001b[0m\u001b[0m_output\u001b[0m\u001b[1;33m.\u001b[0m\u001b[0mextend\u001b[0m\u001b[1;33m(\u001b[0m\u001b[0mjob\u001b[0m\u001b[1;33m.\u001b[0m\u001b[0mget\u001b[0m\u001b[1;33m(\u001b[0m\u001b[1;33m)\u001b[0m\u001b[1;33m)\u001b[0m\u001b[1;33m\u001b[0m\u001b[0m\n",
      "\u001b[1;32mC:\\ProgramData\\Anaconda3\\lib\\multiprocessing\\pool.py\u001b[0m in \u001b[0;36mget\u001b[1;34m(self, timeout)\u001b[0m\n\u001b[0;32m    636\u001b[0m \u001b[1;33m\u001b[0m\u001b[0m\n\u001b[0;32m    637\u001b[0m     \u001b[1;32mdef\u001b[0m \u001b[0mget\u001b[0m\u001b[1;33m(\u001b[0m\u001b[0mself\u001b[0m\u001b[1;33m,\u001b[0m \u001b[0mtimeout\u001b[0m\u001b[1;33m=\u001b[0m\u001b[1;32mNone\u001b[0m\u001b[1;33m)\u001b[0m\u001b[1;33m:\u001b[0m\u001b[1;33m\u001b[0m\u001b[0m\n\u001b[1;32m--> 638\u001b[1;33m         \u001b[0mself\u001b[0m\u001b[1;33m.\u001b[0m\u001b[0mwait\u001b[0m\u001b[1;33m(\u001b[0m\u001b[0mtimeout\u001b[0m\u001b[1;33m)\u001b[0m\u001b[1;33m\u001b[0m\u001b[0m\n\u001b[0m\u001b[0;32m    639\u001b[0m         \u001b[1;32mif\u001b[0m \u001b[1;32mnot\u001b[0m \u001b[0mself\u001b[0m\u001b[1;33m.\u001b[0m\u001b[0mready\u001b[0m\u001b[1;33m(\u001b[0m\u001b[1;33m)\u001b[0m\u001b[1;33m:\u001b[0m\u001b[1;33m\u001b[0m\u001b[0m\n\u001b[0;32m    640\u001b[0m             \u001b[1;32mraise\u001b[0m \u001b[0mTimeoutError\u001b[0m\u001b[1;33m\u001b[0m\u001b[0m\n",
      "\u001b[1;32mC:\\ProgramData\\Anaconda3\\lib\\multiprocessing\\pool.py\u001b[0m in \u001b[0;36mwait\u001b[1;34m(self, timeout)\u001b[0m\n\u001b[0;32m    633\u001b[0m \u001b[1;33m\u001b[0m\u001b[0m\n\u001b[0;32m    634\u001b[0m     \u001b[1;32mdef\u001b[0m \u001b[0mwait\u001b[0m\u001b[1;33m(\u001b[0m\u001b[0mself\u001b[0m\u001b[1;33m,\u001b[0m \u001b[0mtimeout\u001b[0m\u001b[1;33m=\u001b[0m\u001b[1;32mNone\u001b[0m\u001b[1;33m)\u001b[0m\u001b[1;33m:\u001b[0m\u001b[1;33m\u001b[0m\u001b[0m\n\u001b[1;32m--> 635\u001b[1;33m         \u001b[0mself\u001b[0m\u001b[1;33m.\u001b[0m\u001b[0m_event\u001b[0m\u001b[1;33m.\u001b[0m\u001b[0mwait\u001b[0m\u001b[1;33m(\u001b[0m\u001b[0mtimeout\u001b[0m\u001b[1;33m)\u001b[0m\u001b[1;33m\u001b[0m\u001b[0m\n\u001b[0m\u001b[0;32m    636\u001b[0m \u001b[1;33m\u001b[0m\u001b[0m\n\u001b[0;32m    637\u001b[0m     \u001b[1;32mdef\u001b[0m \u001b[0mget\u001b[0m\u001b[1;33m(\u001b[0m\u001b[0mself\u001b[0m\u001b[1;33m,\u001b[0m \u001b[0mtimeout\u001b[0m\u001b[1;33m=\u001b[0m\u001b[1;32mNone\u001b[0m\u001b[1;33m)\u001b[0m\u001b[1;33m:\u001b[0m\u001b[1;33m\u001b[0m\u001b[0m\n",
      "\u001b[1;32mC:\\ProgramData\\Anaconda3\\lib\\threading.py\u001b[0m in \u001b[0;36mwait\u001b[1;34m(self, timeout)\u001b[0m\n\u001b[0;32m    549\u001b[0m             \u001b[0msignaled\u001b[0m \u001b[1;33m=\u001b[0m \u001b[0mself\u001b[0m\u001b[1;33m.\u001b[0m\u001b[0m_flag\u001b[0m\u001b[1;33m\u001b[0m\u001b[0m\n\u001b[0;32m    550\u001b[0m             \u001b[1;32mif\u001b[0m \u001b[1;32mnot\u001b[0m \u001b[0msignaled\u001b[0m\u001b[1;33m:\u001b[0m\u001b[1;33m\u001b[0m\u001b[0m\n\u001b[1;32m--> 551\u001b[1;33m                 \u001b[0msignaled\u001b[0m \u001b[1;33m=\u001b[0m \u001b[0mself\u001b[0m\u001b[1;33m.\u001b[0m\u001b[0m_cond\u001b[0m\u001b[1;33m.\u001b[0m\u001b[0mwait\u001b[0m\u001b[1;33m(\u001b[0m\u001b[0mtimeout\u001b[0m\u001b[1;33m)\u001b[0m\u001b[1;33m\u001b[0m\u001b[0m\n\u001b[0m\u001b[0;32m    552\u001b[0m             \u001b[1;32mreturn\u001b[0m \u001b[0msignaled\u001b[0m\u001b[1;33m\u001b[0m\u001b[0m\n\u001b[0;32m    553\u001b[0m \u001b[1;33m\u001b[0m\u001b[0m\n",
      "\u001b[1;32mC:\\ProgramData\\Anaconda3\\lib\\threading.py\u001b[0m in \u001b[0;36mwait\u001b[1;34m(self, timeout)\u001b[0m\n\u001b[0;32m    293\u001b[0m         \u001b[1;32mtry\u001b[0m\u001b[1;33m:\u001b[0m    \u001b[1;31m# restore state no matter what (e.g., KeyboardInterrupt)\u001b[0m\u001b[1;33m\u001b[0m\u001b[0m\n\u001b[0;32m    294\u001b[0m             \u001b[1;32mif\u001b[0m \u001b[0mtimeout\u001b[0m \u001b[1;32mis\u001b[0m \u001b[1;32mNone\u001b[0m\u001b[1;33m:\u001b[0m\u001b[1;33m\u001b[0m\u001b[0m\n\u001b[1;32m--> 295\u001b[1;33m                 \u001b[0mwaiter\u001b[0m\u001b[1;33m.\u001b[0m\u001b[0macquire\u001b[0m\u001b[1;33m(\u001b[0m\u001b[1;33m)\u001b[0m\u001b[1;33m\u001b[0m\u001b[0m\n\u001b[0m\u001b[0;32m    296\u001b[0m                 \u001b[0mgotit\u001b[0m \u001b[1;33m=\u001b[0m \u001b[1;32mTrue\u001b[0m\u001b[1;33m\u001b[0m\u001b[0m\n\u001b[0;32m    297\u001b[0m             \u001b[1;32melse\u001b[0m\u001b[1;33m:\u001b[0m\u001b[1;33m\u001b[0m\u001b[0m\n",
      "\u001b[1;31mKeyboardInterrupt\u001b[0m: "
     ]
    }
   ],
   "source": [
    "def copy_file(in_path, out_path):\n",
    "    if os.path.exists(out_path):\n",
    "        return\n",
    "    copyfile(in_path, out_path)\n",
    "\n",
    "def copy_files(in_dir, out_dir, name):\n",
    "    if 'pbar' in globals() and 'counter' in globals():\n",
    "        global counter\n",
    "        counter += 1\n",
    "        pbar.update(counter)\n",
    "\n",
    "    rgb_name = name+'.tiff'\n",
    "    depth_name = name+'-depth.tiff'\n",
    "    stencil_name = name+'-stencil.tiff'\n",
    "    \n",
    "    copyfile(os.path.join(in_dir, rgb_name), os.path.join(out_dir, rgb_name))\n",
    "    copyfile(os.path.join(in_dir, depth_name), os.path.join(out_dir, depth_name))\n",
    "    copyfile(os.path.join(in_dir, stencil_name), os.path.join(out_dir, stencil_name))\n",
    "\n",
    "workers = 8\n",
    "\n",
    "out_directory = r'Z:\\offroad-4-orig'\n",
    "widgets = [progressbar.Percentage(), ' ', progressbar.Counter(), ' ', progressbar.Bar(), ' ',\n",
    "           progressbar.FileTransferSpeed()]\n",
    "\n",
    "pbar = progressbar.ProgressBar(widgets=widgets, max_value=len(results)).start()\n",
    "counter = 0\n",
    "\n",
    "Parallel(n_jobs=workers, backend='threading')(\n",
    "    delayed(copy_files)(in_directory, out_directory, i['imagepath']) for i in results)\n"
   ]
  },
  {
   "cell_type": "markdown",
   "metadata": {},
   "source": [
    "### checking if all converted images are ok"
   ]
  },
  {
   "cell_type": "code",
   "execution_count": 10,
   "metadata": {},
   "outputs": [
    {
     "name": "stderr",
     "output_type": "stream",
     "text": [
      "  0% 15 |                                                           |   3.9 B/sC:\\ProgramData\\Anaconda3\\lib\\site-packages\\tifffile\\tifffile.py:2642: RuntimeWarning: py_decodelzw encountered unexpected end of stream\n",
      "  strip = decompress(strip)\n",
      " 13% 968 |#######                                                   |   3.9 B/sC:\\ProgramData\\Anaconda3\\lib\\site-packages\\tifffile\\tifffile.py:2577: UserWarning: unpack: string size must be a multiple of element size\n",
      "  warnings.warn(\"unpack: %s\" % e)\n",
      "100% 7250 |#########################################################|   4.4 B/s"
     ]
    },
    {
     "name": "stdout",
     "output_type": "stream",
     "text": [
      "done\n"
     ]
    }
   ],
   "source": [
    "def check_invalid_buffers(in_directory, out_directory, res, run_id, include_entities):\n",
    "    if 'pbar' in globals() and 'counter' in globals():\n",
    "        global counter\n",
    "        counter += 1\n",
    "        pbar.update(counter)\n",
    "    \n",
    "    # skip non-existing files in out_directory, so just check existence of some of 4 files\n",
    "    outfile = os.path.join(out_directory, '{}.json'.format(res['imagepath']))\n",
    "    if not os.path.exists(outfile):\n",
    "        return\n",
    "    \n",
    "    if discard_invalid_buffers and (not is_first_record_in_run(res, run_id)) and \\\n",
    "        are_buffers_same_as_previous(res):\n",
    "        print('found record wih invalid buffers in snapshot {}, filename {} and camera {}'\n",
    "              .format(res['snapshot_id'], res['imagepath'], res['camera_relative_position'].tolist()))\n",
    "        return\n",
    "\n",
    "\n",
    "workers = 8\n",
    "\n",
    "widgets = [progressbar.Percentage(), ' ', progressbar.Counter(), ' ', progressbar.Bar(), ' ',\n",
    "           progressbar.FileTransferSpeed()]\n",
    "\n",
    "pbar = progressbar.ProgressBar(widgets=widgets, maxval=len(results)).start()\n",
    "counter = 0\n",
    "\n",
    "Parallel(n_jobs=workers, backend='threading')(delayed(check_invalid_buffers)(in_directory, get_out_directory(out_directory, i, directory_per_camera), i, run_id, include_entities) for i in results)\n",
    "print('done')"
   ]
  },
  {
   "cell_type": "markdown",
   "metadata": {},
   "source": [
    "### dumping one snapshot, for testing"
   ]
  },
  {
   "cell_type": "code",
   "execution_count": null,
   "metadata": {
    "collapsed": true,
    "scrolled": false
   },
   "outputs": [],
   "source": [
    "dump_snapshot_to_dataset(in_directory, out_directory, results[0])\n"
   ]
  },
  {
   "cell_type": "code",
   "execution_count": null,
   "metadata": {
    "collapsed": true
   },
   "outputs": [],
   "source": [
    "im = np.array(Image.open(os.path.join(out_directory, results[0]['imagepath']+'-depth.png')))\n",
    "print(np.min(im))\n",
    "print(np.max(im))\n"
   ]
  },
  {
   "cell_type": "code",
   "execution_count": null,
   "metadata": {
    "collapsed": true
   },
   "outputs": [],
   "source": [
    "results[0]['snapshot_id']"
   ]
  },
  {
   "cell_type": "code",
   "execution_count": 64,
   "metadata": {},
   "outputs": [
    {
     "data": {
      "text/plain": [
       "{'cam_near_clip': 0.15,\n",
       " 'camera_fov': 90.0,\n",
       " 'camera_pos': array([ 2524.83105469,  3334.53613281,    53.38750458]),\n",
       " 'camera_relative_position': array([-0.06      ,  1.5       ,  1.07649994]),\n",
       " 'camera_relative_rotation': array([ 0.,  0.,  0.]),\n",
       " 'camera_rot': array([-1.26793635, -4.02545595, -0.25146627]),\n",
       " 'current_target': array([2586.0, 3490.0, None], dtype=object),\n",
       " 'currentweather': 'Clear',\n",
       " 'height': 1052,\n",
       " 'imagepath': '2018-08-13--11-15-01--499',\n",
       " 'proj_matrix': array([[  5.49634274e-01,   0.00000000e+00,   0.00000000e+00,\n",
       "           0.00000000e+00],\n",
       "        [  0.00000000e+00,   1.00000000e+00,   0.00000000e+00,\n",
       "           0.00000000e+00],\n",
       "        [  0.00000000e+00,   0.00000000e+00,   1.49945045e-05,\n",
       "           1.50002249e-01],\n",
       "        [  0.00000000e+00,   0.00000000e+00,  -1.00000000e+00,\n",
       "           0.00000000e+00]]),\n",
       " 'snapshot_id': 466517,\n",
       " 'timeofday': datetime.time(12, 5, 35),\n",
       " 'timestamp': datetime.datetime(2018, 8, 13, 11, 15, 1, 499713, tzinfo=psycopg2.tz.FixedOffsetTimezone(offset=0, name=None)),\n",
       " 'view_matrix': array([[  9.97523352e-01,  -4.37807276e-03,   7.01996747e-02,\n",
       "          -2.50772688e+03],\n",
       "        [ -7.00846934e-02,   2.24356686e-02,   9.97288713e-01,\n",
       "           4.88967069e+01],\n",
       "        [ -5.94117919e-03,  -9.99738702e-01,   2.20732675e-02,\n",
       "           3.34748686e+03],\n",
       "        [  0.00000000e+00,   0.00000000e+00,   0.00000000e+00,\n",
       "           1.00000000e+00]]),\n",
       " 'width': 1914}"
      ]
     },
     "execution_count": 64,
     "metadata": {},
     "output_type": "execute_result"
    }
   ],
   "source": [
    "res = results[0]\n",
    "res"
   ]
  },
  {
   "cell_type": "code",
   "execution_count": 10,
   "metadata": {},
   "outputs": [
    {
     "data": {
      "text/plain": [
       "{'camera_-0.06_1.50_1.08__0.00_0.00_0.00': '0',\n",
       " 'camera_-0.06_17.50_25.08__270.00_0.00_90.00': '5',\n",
       " 'camera_-0.06_33.50_6.08__-30.00_0.00_180.00': '2',\n",
       " 'camera_-16.06_17.50_6.08__-30.00_0.00_270.00': '3',\n",
       " 'camera_0.48_1.50_1.08__0.00_0.00_0.00': '4',\n",
       " 'camera_15.94_17.50_6.08__-30.00_0.00_90.00': '1'}"
      ]
     },
     "execution_count": 10,
     "metadata": {},
     "output_type": "execute_result"
    }
   ],
   "source": [
    "camera_names"
   ]
  },
  {
   "cell_type": "code",
   "execution_count": null,
   "metadata": {
    "collapsed": true
   },
   "outputs": [],
   "source": []
  }
 ],
 "metadata": {
  "kernelspec": {
   "display_name": "Python 3",
   "language": "python",
   "name": "python3"
  },
  "language_info": {
   "codemirror_mode": {
    "name": "ipython",
    "version": 3
   },
   "file_extension": ".py",
   "mimetype": "text/x-python",
   "name": "python",
   "nbconvert_exporter": "python",
   "pygments_lexer": "ipython3",
   "version": "3.6.3"
  }
 },
 "nbformat": 4,
 "nbformat_minor": 2
}
