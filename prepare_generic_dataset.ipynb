{
 "cells": [
  {
   "cell_type": "code",
   "execution_count": 7,
   "metadata": {
    "collapsed": true
   },
   "outputs": [],
   "source": [
    "import numpy as np\n",
    "import matplotlib.pyplot as plt\n",
    "import visualization\n",
    "import os\n",
    "from gta_math import points_to_homo, ndc_to_view, construct_proj_matrix, view_to_world, construct_view_matrix\n",
    "from visualization import load_depth, load_stencil, save_pointcloud_csv, bbox_from_string, are_buffers_same_as_previous, \\\n",
    "    is_first_record_in_run, camera_to_string\n",
    "import progressbar\n",
    "from joblib import Parallel, delayed\n",
    "from configparser import ConfigParser\n",
    "from PIL import Image\n",
    "import pickle\n",
    "import json\n",
    "import time\n",
    "from shutil import copyfile\n",
    "from functools import lru_cache"
   ]
  },
  {
   "cell_type": "code",
   "execution_count": 8,
   "metadata": {},
   "outputs": [],
   "source": [
    "ini_file = \"gta-postprocessing.ini\"\n",
    "visualization.multi_page = False\n",
    "visualization.ini_file = ini_file\n",
    "visualization.use_cache = False\n",
    "\n",
    "conn = visualization.get_connection_pooled()\n",
    "cur = conn.cursor()\n",
    "\n",
    "CONFIG = ConfigParser()\n",
    "CONFIG.read(ini_file)\n",
    "in_directory = CONFIG[\"Images\"][\"Tiff\"]\n",
    "out_directory = r'D:\\output-datasets\\onroad-11'\n",
    "\n",
    "# for some datasets we don't need entities, which produces lot smaller json files\n",
    "# for some datasets, we want each camera data to be in separate folder\n",
    "# sometimes buffers are not synced and don't correspond to current camera. \n",
    "# they can be recognized by having same data as previous record\n",
    "include_entities = True\n",
    "directory_per_camera = False\n",
    "\n",
    "discard_invalid_buffers = True"
   ]
  },
  {
   "cell_type": "code",
   "execution_count": 9,
   "metadata": {},
   "outputs": [
    {
     "name": "stdout",
     "output_type": "stream",
     "text": [
      "There are 7059 snapshots\n",
      "{'camera_-0.80_0.80_0.40__0.00_0.00_90.00': '0', 'camera_0.00_-2.30_0.30__0.00_0.00_180.00': '1', 'camera_0.00_2.00_0.30__0.00_0.00_0.00': '2', 'camera_0.80_0.80_0.40__0.00_0.00_270.00': '3'}\n"
     ]
    }
   ],
   "source": [
    "#run_id = 19\n",
    "#run_id = 3677\n",
    "run_id = 4196\n",
    "\n",
    "cur.execute(\"\"\"SELECT snapshot_id, imagepath, cam_near_clip, camera_fov, width, height, timestamp, timeofday, width, height, \\\n",
    "      ARRAY[st_x(camera_relative_rotation), st_y(camera_relative_rotation), st_z(camera_relative_rotation)] as camera_relative_rotation, \\\n",
    "      ARRAY[st_x(camera_relative_position), st_y(camera_relative_position), st_z(camera_relative_position)] as camera_relative_position, \\\n",
    "      ARRAY[st_x(camera_pos), st_y(camera_pos), st_z(camera_pos)] as camera_pos, \\\n",
    "      ARRAY[st_x(camera_rot), st_y(camera_rot), st_z(camera_rot)] as camera_rot, \\\n",
    "      ARRAY[st_x(current_target), st_y(current_target), st_z(current_target)] as current_target, \\\n",
    "      currentweather, scene_id \\\n",
    "      FROM snapshots \\\n",
    "      WHERE run_id = {}\n",
    "      ORDER BY timestamp ASC \\\n",
    "    \"\"\".format(run_id))\n",
    "\n",
    "results = []\n",
    "for row in cur:\n",
    "    res = dict(row)\n",
    "    if res['camera_fov'] == 0 and res['cam_near_clip'] == 0:\n",
    "        continue  # somehow malformed data, skipping them\n",
    "    res['camera_rot'] = np.array(res['camera_rot'])\n",
    "    res['camera_pos'] = np.array(res['camera_pos'])\n",
    "    res['camera_relative_rotation'] = np.array(res['camera_relative_rotation'])\n",
    "    res['camera_relative_position'] = np.array(res['camera_relative_position'])\n",
    "    res['current_target'] = np.array(res['current_target'])\n",
    "    res['view_matrix'] = construct_view_matrix(res['camera_pos'], res['camera_rot'])\n",
    "    res['proj_matrix'] = construct_proj_matrix(res['height'], res['width'], res['camera_fov'], res['cam_near_clip'])\n",
    "    results.append(res)\n",
    "\n",
    "print('There are {} snapshots'.format(len(results)))\n",
    "\n",
    "# because sometimes I use two cameras heading same direction, pair (position, rotation) is unique identifier\n",
    "cur.execute(\"\"\"SELECT DISTINCT \\\n",
    "      ARRAY[st_x(camera_relative_rotation), st_y(camera_relative_rotation), st_z(camera_relative_rotation)] as camera_relative_rotation, \n",
    "      ARRAY[st_x(camera_relative_position), st_y(camera_relative_position), st_z(camera_relative_position)] as camera_relative_position \n",
    "      FROM snapshots \\\n",
    "      WHERE run_id = {} AND camera_fov != 0 \\\n",
    "      ORDER BY camera_relative_position, camera_relative_rotation ASC \\\n",
    "    \"\"\".format(run_id))\n",
    "\n",
    "camera_names = {}\n",
    "for i, row in enumerate(cur):\n",
    "    camera_name = camera_to_string(row)\n",
    "    camera_names[camera_name] = str(i)\n",
    "    \n",
    "print(camera_names)\n"
   ]
  },
  {
   "cell_type": "code",
   "execution_count": 10,
   "metadata": {
    "collapsed": true
   },
   "outputs": [],
   "source": [
    "def get_base_name(name):\n",
    "    return os.path.basename(os.path.splitext(name)[0])\n",
    "\n",
    "def get_main_image_name(cameras):\n",
    "    for cam in cameras:\n",
    "        # this is the main camera\n",
    "        if np.array_equal(cam['camera_relative_rotation'], [0, 0, 0]):\n",
    "            return cam['imagepath']\n",
    "    raise Exception('no main image')\n",
    "\n",
    "def load_entities_data(snapshot_id):\n",
    "    conn = visualization.get_connection_pooled()\n",
    "    cur = conn.cursor()\n",
    "    \n",
    "    # start = time.time()\n",
    "\n",
    "    cur.execute(\"\"\"SELECT bbox, \\\n",
    "        ARRAY[st_x(pos), st_y(pos), st_z(pos)] as pos, \\\n",
    "        ARRAY[st_x(rot), st_y(rot), st_z(rot)] as rot, \\\n",
    "        ARRAY[st_xmin(bbox3d), st_xmax(bbox3d), st_ymin(bbox3d), st_ymax(bbox3d), st_zmin(bbox3d), st_zmax(bbox3d)] as bbox3d, \\\n",
    "         type, class, handle, snapshot_id \\\n",
    "        FROM detections \\\n",
    "        WHERE snapshot_id = '{}' \\\n",
    "        \"\"\".format(snapshot_id))\n",
    "\n",
    "    # end = time.time()\n",
    "    # print('time to load from db', end - start)\n",
    "    # start = time.time()\n",
    "\n",
    "    # print(size)\n",
    "    results = []\n",
    "    for row in cur:\n",
    "        res = dict(row)\n",
    "        res['model_sizes'] = np.array(res['bbox3d'])\n",
    "        res['bbox'] = bbox_from_string(res['bbox'])\n",
    "        res['pos'] = np.array(res['pos'])\n",
    "        res['rot'] = np.array(res['rot'])\n",
    "        results.append(res)\n",
    "\n",
    "    # end = time.time()\n",
    "    # print('time to convert arrays to numpy', end - start)\n",
    "    # start = time.time()\n",
    "\n",
    "    return results\n",
    "\n",
    "\n",
    "def convert_rgb(in_directory, out_directory, out_name, name, out_format):\n",
    "    outfile = os.path.join(out_directory, \"{}.{}\".format(out_name, out_format))\n",
    "    # print(outfile)\n",
    "    if os.path.exists(outfile):\n",
    "        return\n",
    "\n",
    "    try:\n",
    "        infile = os.path.join(in_directory, name)\n",
    "        im = Image.open(infile)\n",
    "        im = im.convert(mode=\"RGB\")\n",
    "        im.save(outfile)\n",
    "    except OSError:\n",
    "        # print(\"Skipping invalid file {}\".format(name))\n",
    "        return\n",
    "\n",
    "\n",
    "def convert_depth(in_directory, out_directory, out_name, name, out_format):\n",
    "    outfile = os.path.join(out_directory, \"{}.{}\".format(out_name, out_format))\n",
    "    # print(outfile)\n",
    "    if os.path.exists(outfile):\n",
    "        return\n",
    "\n",
    "    try:\n",
    "        infile = os.path.join(in_directory, name)\n",
    "        depth = load_depth(name)\n",
    "        # print('depth min before: ', np.min(depth))\n",
    "        # print('depth max before: ', np.max(depth))\n",
    "        depth = depth * np.iinfo(np.uint16).max\n",
    "        # print('depth min after: ', np.min(depth))\n",
    "        # print('depth max after: ', np.max(depth))\n",
    "        im = Image.fromarray(depth.astype(np.int32), mode=\"I\")\n",
    "        im.save(outfile)\n",
    "    except OSError:\n",
    "        # print(\"Skipping invalid file {}\".format(name))\n",
    "        return\n",
    "\n",
    "def convert_stencil(in_directory, out_directory, out_name, name, out_format):\n",
    "    outfile = os.path.join(out_directory, \"{}.{}\".format(out_name, out_format))\n",
    "    # print(outfile)\n",
    "    if os.path.exists(outfile):\n",
    "        return\n",
    "\n",
    "    try:\n",
    "        infile = os.path.join(in_directory, name)\n",
    "        stencil = load_stencil(name)\n",
    "        im = Image.fromarray(stencil.astype(np.uint8), mode=\"L\")\n",
    "        im.save(outfile)\n",
    "    except OSError:\n",
    "        # print(\"Skipping invalid file {}\".format(name))\n",
    "        return\n",
    "\n",
    "def get_out_directory(out_directory, res, directory_per_camera):\n",
    "    if directory_per_camera:\n",
    "        return os.path.join(out_directory, camera_names[camera_to_string(res)])\n",
    "    else:\n",
    "        return out_directory\n",
    "\n",
    "def try_dump_snapshot_to_dataset(in_directory, out_directory, res, run_id, include_entities):\n",
    "    try:\n",
    "        dump_snapshot_to_dataset(in_directory, out_directory, res, run_id, include_entities)\n",
    "    except Exception as e:\n",
    "        print(e)\n",
    "        pass\n",
    "\n",
    "def dump_snapshot_to_dataset(in_directory, out_directory, res, run_id, include_entities):\n",
    "    if 'pbar' in globals() and 'counter' in globals():\n",
    "        global counter\n",
    "        counter += 1\n",
    "        pbar.update(counter)\n",
    "\n",
    "    start = time.time()\n",
    "    \n",
    "    if not os.path.exists(out_directory):\n",
    "        os.makedirs(out_directory)\n",
    "\n",
    "    if discard_invalid_buffers and (not is_first_record_in_run(res, run_id)) and \\\n",
    "        are_buffers_same_as_previous(res):\n",
    "        print('skipping record wih invalid buffers in snapshot {}, filename {} and camera {}'\n",
    "              .format(res['snapshot_id'], res['imagepath'], res['camera_relative_position'].tolist()))\n",
    "        return\n",
    "    \n",
    "    name = res['imagepath']\n",
    "#    convert_rgb(in_directory, out_directory, get_base_name(name), get_base_name(name)+'.tiff', 'png')\n",
    "    convert_rgb(in_directory, out_directory, get_base_name(name), get_base_name(name)+'.tiff', 'jpg')\n",
    "    convert_depth(in_directory, out_directory, get_base_name(name)+'-depth', get_base_name(name), 'png')\n",
    "    convert_stencil(in_directory, out_directory, get_base_name(name)+'-stencil', get_base_name(name), 'png')\n",
    "    # end = time.time()\n",
    "    # print('time to generate images', end - start)\n",
    "    # start = time.time()\n",
    "    \n",
    "    outfile = os.path.join(out_directory, '{}.json'.format(res['imagepath']))\n",
    "    if os.path.exists(outfile):\n",
    "        return\n",
    "\n",
    "    if include_entities:\n",
    "        data = load_entities_data(res['snapshot_id'])\n",
    "\n",
    "        # end = time.time()\n",
    "        # print('loading entities data', end - start)\n",
    "        # start = time.time()\n",
    "    \n",
    "        json_entities_data = []\n",
    "        for i in data:\n",
    "            json_entity = {\n",
    "                'model_sizes': i['model_sizes'].tolist(),\n",
    "                'bbox': i['bbox'].tolist(),\n",
    "                'pos': i['pos'].tolist(),\n",
    "                'rot': i['rot'].tolist(),\n",
    "                'class': i['class'],\n",
    "                'handle': i['handle'],\n",
    "                'type': i['type'],\n",
    "            }\n",
    "            json_entities_data.append(json_entity)\n",
    "\n",
    "    # end = time.time()\n",
    "    # print('dumping entities to json', end - start)\n",
    "    # start = time.time()\n",
    "\n",
    "    json_data = {\n",
    "        'imagepath': res['imagepath'],\n",
    "        'timestamp': res['timestamp'].strftime(\"%Y-%m-%d %H:%M:%S\"),\n",
    "        'timeofday': res['timeofday'].strftime(\"%H:%M:%S\"),\n",
    "        'currentweather': res['currentweather'],\n",
    "        'width': res['width'],\n",
    "        'height': res['height'],\n",
    "        'snapshot_id': res['snapshot_id'],\n",
    "        'scene_id': res['scene_id'],\n",
    "        'camera_rot': res['camera_rot'].tolist(),\n",
    "        'camera_pos': res['camera_pos'].tolist(),\n",
    "        'camera_fov': res['camera_fov'],\n",
    "        'camera_relative_rotation': res['camera_relative_rotation'].tolist(),\n",
    "        'camera_relative_position': res['camera_relative_position'].tolist(),\n",
    "        'current_target': res['current_target'].tolist(),\n",
    "        'view_matrix': res['view_matrix'].tolist(),\n",
    "        'proj_matrix': res['proj_matrix'].tolist(),\n",
    "    }\n",
    "    \n",
    "    if include_entities:\n",
    "        json_data['entities'] = json_entities_data\n",
    "\n",
    "    # end = time.time()\n",
    "    # print('dumping base object to json', end - start)\n",
    "    # start = time.time()\n",
    "\n",
    "    with open(outfile, 'w') as f:\n",
    "        json.dump(json_data, f)\n",
    "    \n",
    "    # end = time.time()\n",
    "    # print('persisting json to file', end - start)\n",
    "    "
   ]
  },
  {
   "cell_type": "markdown",
   "metadata": {},
   "source": [
    "### dumping all data"
   ]
  },
  {
   "cell_type": "code",
   "execution_count": null,
   "metadata": {
    "scrolled": true
   },
   "outputs": [
    {
     "name": "stderr",
     "output_type": "stream",
     "text": [
      "\r",
      "                                                                               \r",
      "\r",
      "N/A% 0 |                                                            |   0.0 s/B"
     ]
    },
    {
     "name": "stdout",
     "output_type": "stream",
     "text": [
      "[WinError 183] Cannot create a file when that file already exists: 'D:\\\\output-datasets\\\\onroad-11'\n",
      "[WinError 183] Cannot create a file when that file already exists: 'D:\\\\output-datasets\\\\onroad-11'\n"
     ]
    },
    {
     "name": "stderr",
     "output_type": "stream",
     "text": [
      " 17% 1224 |#########                                                |   1.6 B/s"
     ]
    },
    {
     "name": "stdout",
     "output_type": "stream",
     "text": [
      "skipping record wih invalid buffers in snapshot 576794, filename 2018-08-21--18-58-13--510 and camera [0.0, 2.0, 0.300000011920929]\n",
      "skipping record wih invalid buffers in snapshot 576795, filename 2018-08-21--18-58-13--823 and camera [-0.800000011920929, 0.800000011920929, 0.400000005960464]skipping record wih invalid buffers in snapshot 576792, filename 2018-08-21--18-58-12--687 and camera [0.0, -2.29999995231628, 0.300000011920929]\n",
      "\n",
      "skipping record wih invalid buffers in snapshot 576793, filename 2018-08-21--18-58-13--044 and camera [0.800000011920929, 0.800000011920929, 0.400000005960464]\n",
      "skipping record wih invalid buffers in snapshot 576791, filename 2018-08-21--18-58-12--348 and camera [-0.800000011920929, 0.800000011920929, 0.400000005960464]\n",
      "skipping record wih invalid buffers in snapshot 576796, filename 2018-08-21--18-58-14--201 and camera [0.0, -2.29999995231628, 0.300000011920929]\n",
      "skipping record wih invalid buffers in snapshot 576797, filename 2018-08-21--18-58-14--594 and camera [0.800000011920929, 0.800000011920929, 0.400000005960464]\n"
     ]
    },
    {
     "name": "stderr",
     "output_type": "stream",
     "text": [
      " 17% 1232 |#########                                                |   1.6 B/s"
     ]
    },
    {
     "name": "stdout",
     "output_type": "stream",
     "text": [
      "skipping record wih invalid buffers in snapshot 576801, filename 2018-08-21--18-58-16--095 and camera [0.800000011920929, 0.800000011920929, 0.400000005960464]\n",
      "skipping record wih invalid buffers in snapshot 576800, filename 2018-08-21--18-58-15--777 and camera [0.0, -2.29999995231628, 0.300000011920929]\n",
      "skipping record wih invalid buffers in snapshot 576799, filename 2018-08-21--18-58-15--433 and camera [-0.800000011920929, 0.800000011920929, 0.400000005960464]\n",
      "skipping record wih invalid buffers in snapshot 576798, filename 2018-08-21--18-58-15--113 and camera [0.0, 2.0, 0.300000011920929]\n",
      "skipping record wih invalid buffers in snapshot 576802, filename 2018-08-21--18-58-16--568 and camera [0.0, 2.0, 0.300000011920929]\n",
      "skipping record wih invalid buffers in snapshot 576803, filename 2018-08-21--18-58-16--896 and camera [-0.800000011920929, 0.800000011920929, 0.400000005960464]\n",
      "skipping record wih invalid buffers in snapshot 576804, filename 2018-08-21--18-58-17--254 and camera [0.0, -2.29999995231628, 0.300000011920929]\n",
      "skipping record wih invalid buffers in snapshot 576805, filename 2018-08-21--18-58-17--579 and camera [0.800000011920929, 0.800000011920929, 0.400000005960464]\n"
     ]
    },
    {
     "name": "stderr",
     "output_type": "stream",
     "text": [
      " 17% 1237 |#########                                                |   1.6 B/s"
     ]
    },
    {
     "name": "stdout",
     "output_type": "stream",
     "text": [
      "skipping record wih invalid buffers in snapshot 576810, filename 2018-08-21--18-58-19--569 and camera [0.0, 2.0, 0.300000011920929]\n",
      "skipping record wih invalid buffers in snapshot 576812, filename 2018-08-21--18-58-20--348 and camera [0.0, -2.29999995231628, 0.300000011920929]\n",
      "skipping record wih invalid buffers in snapshot 576809, filename 2018-08-21--18-58-19--074 and camera [0.800000011920929, 0.800000011920929, 0.400000005960464]\n",
      "skipping record wih invalid buffers in snapshot 576813, filename 2018-08-21--18-58-20--704 and camera [0.800000011920929, 0.800000011920929, 0.400000005960464]\n",
      "skipping record wih invalid buffers in snapshot 576811, filename 2018-08-21--18-58-19--992 and camera [-0.800000011920929, 0.800000011920929, 0.400000005960464]skipping record wih invalid buffers in snapshot 576807, filename 2018-08-21--18-58-18--401 and camera [-0.800000011920929, 0.800000011920929, 0.400000005960464]\n",
      "\n",
      "skipping record wih invalid buffers in snapshot 576808, filename 2018-08-21--18-58-18--745 and camera [0.0, -2.29999995231628, 0.300000011920929]\n"
     ]
    },
    {
     "name": "stderr",
     "output_type": "stream",
     "text": [
      " 17% 1243 |##########                                               |   1.6 B/s"
     ]
    },
    {
     "name": "stdout",
     "output_type": "stream",
     "text": [
      "skipping record wih invalid buffers in snapshot 576818, filename 2018-08-21--18-58-22--900 and camera [0.0, 2.0, 0.300000011920929]\n",
      "skipping record wih invalid buffers in snapshot 576816, filename 2018-08-21--18-58-21--991 and camera [0.0, -2.29999995231628, 0.300000011920929]\n"
     ]
    },
    {
     "name": "stderr",
     "output_type": "stream",
     "text": [
      "\r",
      "                                                                               \r",
      "\r",
      " 17% 1248 |##########                                               |   1.6 B/s"
     ]
    },
    {
     "name": "stdout",
     "output_type": "stream",
     "text": [
      "skipping record wih invalid buffers in snapshot 576815, filename 2018-08-21--18-58-21--655 and camera [-0.800000011920929, 0.800000011920929, 0.400000005960464]\n",
      "skipping record wih invalid buffers in snapshot 576814, filename 2018-08-21--18-58-21--245 and camera [0.0, 2.0, 0.300000011920929]\n",
      "skipping record wih invalid buffers in snapshot 576819, filename 2018-08-21--18-58-23--208 and camera [-0.800000011920929, 0.800000011920929, 0.400000005960464]\n",
      "skipping record wih invalid buffers in snapshot 576817, filename 2018-08-21--18-58-22--373 and camera [0.800000011920929, 0.800000011920929, 0.400000005960464]\n",
      "skipping record wih invalid buffers in snapshot 576820, filename 2018-08-21--18-58-23--549 and camera [0.0, -2.29999995231628, 0.300000011920929]\n"
     ]
    },
    {
     "name": "stderr",
     "output_type": "stream",
     "text": [
      "\r",
      "                                                                               \r",
      "\r",
      " 17% 1249 |##########                                               |   1.6 B/s"
     ]
    },
    {
     "name": "stdout",
     "output_type": "stream",
     "text": [
      "skipping record wih invalid buffers in snapshot 576821, filename 2018-08-21--18-58-23--914 and camera [0.800000011920929, 0.800000011920929, 0.400000005960464]\n"
     ]
    },
    {
     "name": "stderr",
     "output_type": "stream",
     "text": [
      " 17% 1252 |##########                                               |   1.6 B/s"
     ]
    },
    {
     "name": "stdout",
     "output_type": "stream",
     "text": [
      "skipping record wih invalid buffers in snapshot 576827, filename 2018-08-21--18-58-26--288 and camera [-0.800000011920929, 0.800000011920929, 0.400000005960464]\n",
      "skipping record wih invalid buffers in snapshot 576826, filename 2018-08-21--18-58-25--865 and camera [0.0, 2.0, 0.300000011920929]\n",
      "skipping record wih invalid buffers in snapshot 576822, filename 2018-08-21--18-58-24--371 and camera [0.0, 2.0, 0.300000011920929]\n",
      "skipping record wih invalid buffers in snapshot 576825, filename 2018-08-21--18-58-25--407 and camera [0.800000011920929, 0.800000011920929, 0.400000005960464]\n",
      "skipping record wih invalid buffers in snapshot 576823, filename 2018-08-21--18-58-24--724 and camera [-0.800000011920929, 0.800000011920929, 0.400000005960464]\n",
      "skipping record wih invalid buffers in snapshot 576824, filename 2018-08-21--18-58-25--074 and camera [0.0, -2.29999995231628, 0.300000011920929]\n",
      "skipping record wih invalid buffers in snapshot 576828, filename 2018-08-21--18-58-26--662 and camera [0.0, -2.29999995231628, 0.300000011920929]\n"
     ]
    },
    {
     "name": "stderr",
     "output_type": "stream",
     "text": [
      "\r",
      "                                                                               \r",
      "\r",
      " 17% 1257 |##########                                               |   1.6 B/s"
     ]
    },
    {
     "name": "stdout",
     "output_type": "stream",
     "text": [
      "skipping record wih invalid buffers in snapshot 576829, filename 2018-08-21--18-58-26--988 and camera [0.800000011920929, 0.800000011920929, 0.400000005960464]\n"
     ]
    },
    {
     "name": "stderr",
     "output_type": "stream",
     "text": [
      " 17% 1261 |##########                                               |   1.6 B/s"
     ]
    },
    {
     "name": "stdout",
     "output_type": "stream",
     "text": [
      "skipping record wih invalid buffers in snapshot 576831, filename 2018-08-21--18-58-27--803 and camera [-0.800000011920929, 0.800000011920929, 0.400000005960464]\n",
      "skipping record wih invalid buffers in snapshot 576836, filename 2018-08-21--18-58-29--667 and camera [0.0, -2.29999995231628, 0.300000011920929]\n",
      "skipping record wih invalid buffers in snapshot 576830, filename 2018-08-21--18-58-27--470 and camera [0.0, 2.0, 0.300000011920929]\n",
      "skipping record wih invalid buffers in snapshot 576835, filename 2018-08-21--18-58-29--314 and camera [-0.800000011920929, 0.800000011920929, 0.400000005960464]\n",
      "skipping record wih invalid buffers in snapshot 576833, filename 2018-08-21--18-58-28--476 and camera [0.800000011920929, 0.800000011920929, 0.400000005960464]skipping record wih invalid buffers in snapshot 576832, filename 2018-08-21--18-58-28--123 and camera [0.0, -2.29999995231628, 0.300000011920929]\n",
      "\n",
      "skipping record wih invalid buffers in snapshot 576837, filename 2018-08-21--18-58-30--022 and camera [0.800000011920929, 0.800000011920929, 0.400000005960464]\n"
     ]
    },
    {
     "name": "stderr",
     "output_type": "stream",
     "text": [
      " 18% 1273 |##########                                               |   1.6 B/s"
     ]
    },
    {
     "name": "stdout",
     "output_type": "stream",
     "text": [
      "skipping record wih invalid buffers in snapshot 576841, filename 2018-08-21--18-58-31--525 and camera [0.800000011920929, 0.800000011920929, 0.400000005960464]\n",
      "skipping record wih invalid buffers in snapshot 576838, filename 2018-08-21--18-58-30--505 and camera [0.0, 2.0, 0.300000011920929]\n",
      "skipping record wih invalid buffers in snapshot 576844, filename 2018-08-21--18-58-32--716 and camera [0.0, -2.29999995231628, 0.300000011920929]\n",
      "skipping record wih invalid buffers in snapshot 576840, filename 2018-08-21--18-58-31--197 and camera [0.0, -2.29999995231628, 0.300000011920929]\n",
      "skipping record wih invalid buffers in snapshot 576843, filename 2018-08-21--18-58-32--316 and camera [-0.800000011920929, 0.800000011920929, 0.400000005960464]\n",
      "skipping record wih invalid buffers in snapshot 576839, filename 2018-08-21--18-58-30--853 and camera [-0.800000011920929, 0.800000011920929, 0.400000005960464]\n",
      "skipping record wih invalid buffers in snapshot 576842, filename 2018-08-21--18-58-31--995 and camera [0.0, 2.0, 0.300000011920929]\n",
      "skipping record wih invalid buffers in snapshot 576845, filename 2018-08-21--18-58-33--042 and camera [0.800000011920929, 0.800000011920929, 0.400000005960464]\n"
     ]
    },
    {
     "name": "stderr",
     "output_type": "stream",
     "text": [
      " 18% 1279 |##########                                               |   1.6 B/s"
     ]
    },
    {
     "name": "stdout",
     "output_type": "stream",
     "text": [
      "skipping record wih invalid buffers in snapshot 576846, filename 2018-08-21--18-58-33--504 and camera [0.0, 2.0, 0.300000011920929]\n",
      "skipping record wih invalid buffers in snapshot 576848, filename 2018-08-21--18-58-34--235 and camera [0.0, -2.29999995231628, 0.300000011920929]\n",
      "skipping record wih invalid buffers in snapshot 576849, filename 2018-08-21--18-58-34--558 and camera [0.800000011920929, 0.800000011920929, 0.400000005960464]\n",
      "skipping record wih invalid buffers in snapshot 576852, filename 2018-08-21--18-58-35--696 and camera [0.0, -2.29999995231628, 0.300000011920929]skipping record wih invalid buffers in snapshot 576847, filename 2018-08-21--18-58-33--852 and camera [-0.800000011920929, 0.800000011920929, 0.400000005960464]\n",
      "\n",
      "skipping record wih invalid buffers in snapshot 576850, filename 2018-08-21--18-58-35--062 and camera [0.0, 2.0, 0.300000011920929]\n",
      "skipping record wih invalid buffers in snapshot 576853, filename 2018-08-21--18-58-36--073 and camera [0.800000011920929, 0.800000011920929, 0.400000005960464]\n"
     ]
    },
    {
     "name": "stderr",
     "output_type": "stream",
     "text": [
      "\r",
      "                                                                               \r",
      "\r",
      " 18% 1281 |##########                                               |   1.6 B/s"
     ]
    },
    {
     "name": "stdout",
     "output_type": "stream",
     "text": [
      "skipping record wih invalid buffers in snapshot 576851, filename 2018-08-21--18-58-35--396 and camera [-0.800000011920929, 0.800000011920929, 0.400000005960464]\n"
     ]
    },
    {
     "name": "stderr",
     "output_type": "stream",
     "text": [
      " 18% 1283 |##########                                               |   1.6 B/s"
     ]
    },
    {
     "name": "stdout",
     "output_type": "stream",
     "text": [
      "skipping record wih invalid buffers in snapshot 576854, filename 2018-08-21--18-58-36--597 and camera [0.0, 2.0, 0.300000011920929]\n",
      "skipping record wih invalid buffers in snapshot 576855, filename 2018-08-21--18-58-36--945 and camera [-0.800000011920929, 0.800000011920929, 0.400000005960464]\n"
     ]
    },
    {
     "name": "stderr",
     "output_type": "stream",
     "text": [
      " 33% 2339 |##################                                       |   2.0 B/s"
     ]
    },
    {
     "name": "stdout",
     "output_type": "stream",
     "text": [
      "skipping record wih invalid buffers in snapshot 577916, filename 2018-08-21--19-05-40--403 and camera [0.800000011920929, 0.800000011920929, 0.400000005960464]\n",
      "skipping record wih invalid buffers in snapshot 577915, filename 2018-08-21--19-05-40--098 and camera [0.0, -2.29999995231628, 0.300000011920929]\n",
      "skipping record wih invalid buffers in snapshot 577914, filename 2018-08-21--19-05-39--727 and camera [-0.800000011920929, 0.800000011920929, 0.400000005960464]skipping record wih invalid buffers in snapshot 577913, filename 2018-08-21--19-05-39--397 and camera [0.0, 2.0, 0.300000011920929]\n",
      "\n",
      "skipping record wih invalid buffers in snapshot 577917, filename 2018-08-21--19-05-40--901 and camera [0.0, 2.0, 0.300000011920929]\n",
      "skipping record wih invalid buffers in snapshot 577918, filename 2018-08-21--19-05-41--240 and camera [-0.800000011920929, 0.800000011920929, 0.400000005960464]\n"
     ]
    },
    {
     "name": "stderr",
     "output_type": "stream",
     "text": [
      " 33% 2350 |##################                                       |   2.0 B/s"
     ]
    },
    {
     "name": "stdout",
     "output_type": "stream",
     "text": [
      "skipping record wih invalid buffers in snapshot 577919, filename 2018-08-21--19-05-41--587 and camera [0.0, -2.29999995231628, 0.300000011920929]\n",
      "skipping record wih invalid buffers in snapshot 577921, filename 2018-08-21--19-05-42--425 and camera [0.0, 2.0, 0.300000011920929]\n",
      "skipping record wih invalid buffers in snapshot 577924, filename 2018-08-21--19-05-43--412 and camera [0.800000011920929, 0.800000011920929, 0.400000005960464]\n",
      "skipping record wih invalid buffers in snapshot 577925, filename 2018-08-21--19-05-43--960 and camera [0.0, 2.0, 0.300000011920929]\n",
      "skipping record wih invalid buffers in snapshot 577922, filename 2018-08-21--19-05-42--761 and camera [-0.800000011920929, 0.800000011920929, 0.400000005960464]\n",
      "skipping record wih invalid buffers in snapshot 577920, filename 2018-08-21--19-05-41--904 and camera [0.800000011920929, 0.800000011920929, 0.400000005960464]\n",
      "skipping record wih invalid buffers in snapshot 577926, filename 2018-08-21--19-05-44--295 and camera [-0.800000011920929, 0.800000011920929, 0.400000005960464]\n",
      "skipping record wih invalid buffers in snapshot 577923, filename 2018-08-21--19-05-43--059 and camera [0.0, -2.29999995231628, 0.300000011920929]\n"
     ]
    },
    {
     "name": "stderr",
     "output_type": "stream",
     "text": [
      "\r",
      "                                                                               \r",
      "\r",
      " 33% 2355 |###################                                      |   2.0 B/s"
     ]
    },
    {
     "name": "stdout",
     "output_type": "stream",
     "text": [
      "skipping record wih invalid buffers in snapshot 577927, filename 2018-08-21--19-05-44--667 and camera [0.0, -2.29999995231628, 0.300000011920929]\n"
     ]
    },
    {
     "name": "stderr",
     "output_type": "stream",
     "text": [
      " 37% 2648 |#####################                                    |   2.1 B/s"
     ]
    },
    {
     "name": "stdout",
     "output_type": "stream",
     "text": [
      "skipping record wih invalid buffers in snapshot 578220, filename 2018-08-21--19-07-42--987 and camera [0.0, 2.0, 0.300000011920929]\n"
     ]
    },
    {
     "name": "stderr",
     "output_type": "stream",
     "text": [
      " 37% 2652 |#####################                                    |   2.1 B/s"
     ]
    },
    {
     "name": "stdout",
     "output_type": "stream",
     "text": [
      "skipping record wih invalid buffers in snapshot 578223, filename 2018-08-21--19-07-44--042 and camera [0.800000011920929, 0.800000011920929, 0.400000005960464]\n",
      "skipping record wih invalid buffers in snapshot 578221, filename 2018-08-21--19-07-43--289 and camera [-0.800000011920929, 0.800000011920929, 0.400000005960464]\n",
      "skipping record wih invalid buffers in snapshot 578226, filename 2018-08-21--19-07-45--225 and camera [0.0, -2.29999995231628, 0.300000011920929]\n",
      "skipping record wih invalid buffers in snapshot 578225, filename 2018-08-21--19-07-44--895 and camera [-0.800000011920929, 0.800000011920929, 0.400000005960464]\n",
      "skipping record wih invalid buffers in snapshot 578224, filename 2018-08-21--19-07-44--600 and camera [0.0, 2.0, 0.300000011920929]\n",
      "skipping record wih invalid buffers in snapshot 578222, filename 2018-08-21--19-07-43--641 and camera [0.0, -2.29999995231628, 0.300000011920929]\n",
      "skipping record wih invalid buffers in snapshot 578227, filename 2018-08-21--19-07-45--581 and camera [0.800000011920929, 0.800000011920929, 0.400000005960464]\n"
     ]
    },
    {
     "name": "stderr",
     "output_type": "stream",
     "text": [
      " 37% 2657 |#####################                                    |   2.1 B/s"
     ]
    },
    {
     "name": "stdout",
     "output_type": "stream",
     "text": [
      "skipping record wih invalid buffers in snapshot 578228, filename 2018-08-21--19-07-46--077 and camera [0.0, 2.0, 0.300000011920929]\n",
      "skipping record wih invalid buffers in snapshot 578230, filename 2018-08-21--19-07-46--771 and camera [0.0, -2.29999995231628, 0.300000011920929]\n"
     ]
    },
    {
     "name": "stderr",
     "output_type": "stream",
     "text": [
      " 37% 2662 |#####################                                    |   2.1 B/s"
     ]
    },
    {
     "name": "stdout",
     "output_type": "stream",
     "text": [
      "skipping record wih invalid buffers in snapshot 578233, filename 2018-08-21--19-07-47--906 and camera [-0.800000011920929, 0.800000011920929, 0.400000005960464]\n",
      "skipping record wih invalid buffers in snapshot 578231, filename 2018-08-21--19-07-47--113 and camera [0.800000011920929, 0.800000011920929, 0.400000005960464]\n",
      "skipping record wih invalid buffers in snapshot 578234, filename 2018-08-21--19-07-48--258 and camera [0.0, -2.29999995231628, 0.300000011920929]\n",
      "skipping record wih invalid buffers in snapshot 578232, filename 2018-08-21--19-07-47--579 and camera [0.0, 2.0, 0.300000011920929]\n",
      "skipping record wih invalid buffers in snapshot 578229, filename 2018-08-21--19-07-46--399 and camera [-0.800000011920929, 0.800000011920929, 0.400000005960464]\n",
      "skipping record wih invalid buffers in snapshot 578235, filename 2018-08-21--19-07-48--567 and camera [0.800000011920929, 0.800000011920929, 0.400000005960464]\n"
     ]
    },
    {
     "name": "stderr",
     "output_type": "stream",
     "text": [
      "\r",
      "                                                                               \r",
      "\r",
      " 37% 2664 |#####################                                    |   2.1 B/s"
     ]
    },
    {
     "name": "stdout",
     "output_type": "stream",
     "text": [
      "skipping record wih invalid buffers in snapshot 578236, filename 2018-08-21--19-07-49--066 and camera [0.0, 2.0, 0.300000011920929]\n"
     ]
    },
    {
     "name": "stderr",
     "output_type": "stream",
     "text": [
      "\r",
      "                                                                               \r",
      "\r",
      " 37% 2665 |#####################                                    |   2.1 B/s"
     ]
    },
    {
     "name": "stdout",
     "output_type": "stream",
     "text": [
      "skipping record wih invalid buffers in snapshot 578237, filename 2018-08-21--19-07-49--389 and camera [-0.800000011920929, 0.800000011920929, 0.400000005960464]\n"
     ]
    },
    {
     "name": "stderr",
     "output_type": "stream",
     "text": [
      " 37% 2669 |#####################                                    |   2.1 B/s"
     ]
    },
    {
     "name": "stdout",
     "output_type": "stream",
     "text": [
      "skipping record wih invalid buffers in snapshot 578238, filename 2018-08-21--19-07-49--736 and camera [0.0, -2.29999995231628, 0.300000011920929]\n",
      "skipping record wih invalid buffers in snapshot 578239, filename 2018-08-21--19-07-50--052 and camera [0.800000011920929, 0.800000011920929, 0.400000005960464]\n",
      "skipping record wih invalid buffers in snapshot 578240, filename 2018-08-21--19-07-50--544 and camera [0.0, 2.0, 0.300000011920929]\n",
      "skipping record wih invalid buffers in snapshot 578241, filename 2018-08-21--19-07-50--900 and camera [-0.800000011920929, 0.800000011920929, 0.400000005960464]\n",
      "skipping record wih invalid buffers in snapshot 578242, filename 2018-08-21--19-07-51--247 and camera [0.0, -2.29999995231628, 0.300000011920929]\n"
     ]
    },
    {
     "name": "stderr",
     "output_type": "stream",
     "text": [
      " 39% 2769 |######################                                   |   2.2 B/s"
     ]
    },
    {
     "name": "stdout",
     "output_type": "stream",
     "text": [
      "skipping record wih invalid buffers in snapshot 578345, filename 2018-08-21--19-08-32--454 and camera [-0.800000011920929, 0.800000011920929, 0.400000005960464]\n"
     ]
    },
    {
     "name": "stderr",
     "output_type": "stream",
     "text": [
      " 42% 2980 |########################                                 |   2.2 B/sC:\\ProgramData\\Anaconda3\\lib\\site-packages\\tifffile\\tifffile.py:2642: RuntimeWarning: py_decodelzw encountered unexpected end of stream\n",
      "  strip = decompress(strip)\n",
      " 44% 3137 |#########################                                |   2.3 B/s"
     ]
    },
    {
     "name": "stdout",
     "output_type": "stream",
     "text": [
      "skipping record wih invalid buffers in snapshot 578712, filename 2018-08-21--19-11-02--738 and camera [0.0, 2.0, 0.300000011920929]\n",
      "skipping record wih invalid buffers in snapshot 578711, filename 2018-08-21--19-11-02--243 and camera [0.800000011920929, 0.800000011920929, 0.400000005960464]\n",
      "skipping record wih invalid buffers in snapshot 578713, filename 2018-08-21--19-11-03--060 and camera [-0.800000011920929, 0.800000011920929, 0.400000005960464]\n"
     ]
    },
    {
     "name": "stderr",
     "output_type": "stream",
     "text": [
      "\r",
      "                                                                               \r",
      "\r",
      " 44% 3139 |#########################                                |   2.3 B/s"
     ]
    },
    {
     "name": "stdout",
     "output_type": "stream",
     "text": [
      "skipping record wih invalid buffers in snapshot 578714, filename 2018-08-21--19-11-03--414 and camera [0.0, -2.29999995231628, 0.300000011920929]\n"
     ]
    },
    {
     "name": "stderr",
     "output_type": "stream",
     "text": [
      " 44% 3146 |#########################                                |   2.3 B/s"
     ]
    },
    {
     "name": "stdout",
     "output_type": "stream",
     "text": [
      "skipping record wih invalid buffers in snapshot 578715, filename 2018-08-21--19-11-03--817 and camera [0.800000011920929, 0.800000011920929, 0.400000005960464]\n",
      "skipping record wih invalid buffers in snapshot 578717, filename 2018-08-21--19-11-04--691 and camera [-0.800000011920929, 0.800000011920929, 0.400000005960464]\n",
      "skipping record wih invalid buffers in snapshot 578718, filename 2018-08-21--19-11-05--085 and camera [0.0, -2.29999995231628, 0.300000011920929]\n",
      "skipping record wih invalid buffers in snapshot 578720, filename 2018-08-21--19-11-05--870 and camera [0.0, 2.0, 0.300000011920929]\n"
     ]
    },
    {
     "name": "stderr",
     "output_type": "stream",
     "text": [
      "\r",
      "                                                                               \r",
      "\r",
      " 44% 3150 |#########################                                |   2.3 B/s"
     ]
    },
    {
     "name": "stdout",
     "output_type": "stream",
     "text": [
      "skipping record wih invalid buffers in snapshot 578716, filename 2018-08-21--19-11-04--314 and camera [0.0, 2.0, 0.300000011920929]\n",
      "skipping record wih invalid buffers in snapshot 578722, filename 2018-08-21--19-11-06--557 and camera [0.0, -2.29999995231628, 0.300000011920929]skipping record wih invalid buffers in snapshot 578721, filename 2018-08-21--19-11-06--200 and camera [-0.800000011920929, 0.800000011920929, 0.400000005960464]\n",
      "\n",
      "skipping record wih invalid buffers in snapshot 578719, filename 2018-08-21--19-11-05--403 and camera [0.800000011920929, 0.800000011920929, 0.400000005960464]\n"
     ]
    },
    {
     "name": "stderr",
     "output_type": "stream",
     "text": [
      " 44% 3152 |#########################                                |   2.3 B/s"
     ]
    },
    {
     "name": "stdout",
     "output_type": "stream",
     "text": [
      "skipping record wih invalid buffers in snapshot 578723, filename 2018-08-21--19-11-06--872 and camera [0.800000011920929, 0.800000011920929, 0.400000005960464]\n",
      "skipping record wih invalid buffers in snapshot 578724, filename 2018-08-21--19-11-07--343 and camera [0.0, 2.0, 0.300000011920929]\n"
     ]
    },
    {
     "name": "stderr",
     "output_type": "stream",
     "text": [
      "\r",
      "                                                                               \r",
      "\r",
      " 44% 3153 |#########################                                |   2.3 B/s"
     ]
    },
    {
     "name": "stdout",
     "output_type": "stream",
     "text": [
      "skipping record wih invalid buffers in snapshot 578729, filename 2018-08-21--19-11-09--174 and camera [-0.800000011920929, 0.800000011920929, 0.400000005960464]\n",
      "skipping record wih invalid buffers in snapshot 578728, filename 2018-08-21--19-11-08--839 and camera [0.0, 2.0, 0.300000011920929]\n",
      "skipping record wih invalid buffers in snapshot 578725, filename 2018-08-21--19-11-07--678 and camera [-0.800000011920929, 0.800000011920929, 0.400000005960464]\n",
      "skipping record wih invalid buffers in snapshot 578726, filename 2018-08-21--19-11-08--014 and camera [0.0, -2.29999995231628, 0.300000011920929]\n",
      "skipping record wih invalid buffers in snapshot 578727, filename 2018-08-21--19-11-08--337 and camera [0.800000011920929, 0.800000011920929, 0.400000005960464]\n"
     ]
    },
    {
     "name": "stderr",
     "output_type": "stream",
     "text": [
      " 51% 3603 |#############################                            |   2.4 B/s"
     ]
    },
    {
     "name": "stdout",
     "output_type": "stream",
     "text": [
      "skipping record wih invalid buffers in snapshot 579175, filename 2018-08-21--19-14-01--981 and camera [0.800000011920929, 0.800000011920929, 0.400000005960464]\n"
     ]
    },
    {
     "name": "stderr",
     "output_type": "stream",
     "text": [
      "\r",
      "                                                                               \r",
      "\r",
      " 51% 3604 |#############################                            |   2.4 B/s"
     ]
    },
    {
     "name": "stdout",
     "output_type": "stream",
     "text": [
      "skipping record wih invalid buffers in snapshot 579176, filename 2018-08-21--19-14-02--490 and camera [0.0, 2.0, 0.300000011920929]\n",
      "skipping record wih invalid buffers in snapshot 579178, filename 2018-08-21--19-14-03--111 and camera [0.0, -2.29999995231628, 0.300000011920929]\n",
      "skipping record wih invalid buffers in snapshot 579179, filename 2018-08-21--19-14-03--456 and camera [0.800000011920929, 0.800000011920929, 0.400000005960464]\n",
      "skipping record wih invalid buffers in snapshot 579180, filename 2018-08-21--19-14-03--979 and camera [0.0, 2.0, 0.300000011920929]\n",
      "skipping record wih invalid buffers in snapshot 579177, filename 2018-08-21--19-14-02--829 and camera [-0.800000011920929, 0.800000011920929, 0.400000005960464]\n"
     ]
    },
    {
     "name": "stderr",
     "output_type": "stream",
     "text": [
      " 51% 3610 |#############################                            |   2.4 B/s"
     ]
    },
    {
     "name": "stdout",
     "output_type": "stream",
     "text": [
      "skipping record wih invalid buffers in snapshot 579181, filename 2018-08-21--19-14-04--275 and camera [-0.800000011920929, 0.800000011920929, 0.400000005960464]\n",
      "skipping record wih invalid buffers in snapshot 579182, filename 2018-08-21--19-14-04--619 and camera [0.0, -2.29999995231628, 0.300000011920929]\n",
      "skipping record wih invalid buffers in snapshot 579183, filename 2018-08-21--19-14-04--952 and camera [0.800000011920929, 0.800000011920929, 0.400000005960464]\n"
     ]
    },
    {
     "name": "stderr",
     "output_type": "stream",
     "text": [
      "\r",
      "                                                                               \r",
      "\r",
      " 51% 3613 |#############################                            |   2.4 B/s"
     ]
    },
    {
     "name": "stdout",
     "output_type": "stream",
     "text": [
      "skipping record wih invalid buffers in snapshot 579184, filename 2018-08-21--19-14-05--410 and camera [0.0, 2.0, 0.300000011920929]\n",
      "skipping record wih invalid buffers in snapshot 579186, filename 2018-08-21--19-14-06--050 and camera [0.0, -2.29999995231628, 0.300000011920929]\n"
     ]
    },
    {
     "name": "stderr",
     "output_type": "stream",
     "text": [
      "\r",
      "                                                                               \r",
      "\r",
      " 51% 3614 |#############################                            |   2.4 B/s"
     ]
    },
    {
     "name": "stdout",
     "output_type": "stream",
     "text": [
      "skipping record wih invalid buffers in snapshot 579187, filename 2018-08-21--19-14-06--346 and camera [0.800000011920929, 0.800000011920929, 0.400000005960464]skipping record wih invalid buffers in snapshot 579185, filename 2018-08-21--19-14-05--721 and camera [-0.800000011920929, 0.800000011920929, 0.400000005960464]\n",
      "\n",
      "skipping record wih invalid buffers in snapshot 579188, filename 2018-08-21--19-14-06--829 and camera [0.0, 2.0, 0.300000011920929]\n"
     ]
    },
    {
     "name": "stderr",
     "output_type": "stream",
     "text": [
      " 51% 3620 |#############################                            |   2.4 B/s"
     ]
    },
    {
     "name": "stdout",
     "output_type": "stream",
     "text": [
      "skipping record wih invalid buffers in snapshot 579191, filename 2018-08-21--19-14-07--771 and camera [0.800000011920929, 0.800000011920929, 0.400000005960464]\n",
      "skipping record wih invalid buffers in snapshot 579189, filename 2018-08-21--19-14-07--146 and camera [-0.800000011920929, 0.800000011920929, 0.400000005960464]\n",
      "skipping record wih invalid buffers in snapshot 579192, filename 2018-08-21--19-14-08--266 and camera [0.0, 2.0, 0.300000011920929]\n",
      "skipping record wih invalid buffers in snapshot 579190, filename 2018-08-21--19-14-07--475 and camera [0.0, -2.29999995231628, 0.300000011920929]\n"
     ]
    },
    {
     "name": "stderr",
     "output_type": "stream",
     "text": [
      "\r",
      "                                                                               \r",
      "\r",
      " 51% 3622 |#############################                            |   2.4 B/s"
     ]
    },
    {
     "name": "stdout",
     "output_type": "stream",
     "text": [
      "skipping record wih invalid buffers in snapshot 579193, filename 2018-08-21--19-14-08--595 and camera [-0.800000011920929, 0.800000011920929, 0.400000005960464]\n",
      "skipping record wih invalid buffers in snapshot 579196, filename 2018-08-21--19-14-09--711 and camera [0.0, 2.0, 0.300000011920929]\n",
      "skipping record wih invalid buffers in snapshot 579195, filename 2018-08-21--19-14-09--214 and camera [0.800000011920929, 0.800000011920929, 0.400000005960464]\n"
     ]
    },
    {
     "name": "stderr",
     "output_type": "stream",
     "text": [
      "\r",
      "                                                                               \r",
      "\r",
      " 51% 3624 |#############################                            |   2.4 B/s"
     ]
    },
    {
     "name": "stdout",
     "output_type": "stream",
     "text": [
      "skipping record wih invalid buffers in snapshot 579194, filename 2018-08-21--19-14-08--919 and camera [0.0, -2.29999995231628, 0.300000011920929]\n"
     ]
    },
    {
     "name": "stderr",
     "output_type": "stream",
     "text": [
      "\r",
      "                                                                               \r",
      "\r",
      " 51% 3625 |#############################                            |   2.4 B/s"
     ]
    },
    {
     "name": "stdout",
     "output_type": "stream",
     "text": [
      "skipping record wih invalid buffers in snapshot 579197, filename 2018-08-21--19-14-10--028 and camera [-0.800000011920929, 0.800000011920929, 0.400000005960464]\n",
      "skipping record wih invalid buffers in snapshot 579199, filename 2018-08-21--19-14-10--740 and camera [0.800000011920929, 0.800000011920929, 0.400000005960464]\n",
      "skipping record wih invalid buffers in snapshot 579203, filename 2018-08-21--19-14-12--274 and camera [0.800000011920929, 0.800000011920929, 0.400000005960464]"
     ]
    },
    {
     "name": "stderr",
     "output_type": "stream",
     "text": [
      " 51% 3629 |#############################                            |   2.4 B/s"
     ]
    },
    {
     "name": "stdout",
     "output_type": "stream",
     "text": [
      "\n",
      "skipping record wih invalid buffers in snapshot 579198, filename 2018-08-21--19-14-10--409 and camera [0.0, -2.29999995231628, 0.300000011920929]\n",
      "skipping record wih invalid buffers in snapshot 579201, filename 2018-08-21--19-14-11--658 and camera [-0.800000011920929, 0.800000011920929, 0.400000005960464]\n",
      "skipping record wih invalid buffers in snapshot 579202, filename 2018-08-21--19-14-11--969 and camera [0.0, -2.29999995231628, 0.300000011920929]\n",
      "skipping record wih invalid buffers in snapshot 579200, filename 2018-08-21--19-14-11--295 and camera [0.0, 2.0, 0.300000011920929]\n"
     ]
    },
    {
     "name": "stderr",
     "output_type": "stream",
     "text": [
      "\r",
      "                                                                               \r",
      "\r",
      " 51% 3632 |#############################                            |   2.4 B/s"
     ]
    },
    {
     "name": "stdout",
     "output_type": "stream",
     "text": [
      "skipping record wih invalid buffers in snapshot 579204, filename 2018-08-21--19-14-12--779 and camera [0.0, 2.0, 0.300000011920929]\n"
     ]
    },
    {
     "name": "stderr",
     "output_type": "stream",
     "text": [
      " 51% 3635 |#############################                            |   2.4 B/s"
     ]
    },
    {
     "name": "stdout",
     "output_type": "stream",
     "text": [
      "skipping record wih invalid buffers in snapshot 579205, filename 2018-08-21--19-14-13--100 and camera [-0.800000011920929, 0.800000011920929, 0.400000005960464]\n",
      "skipping record wih invalid buffers in snapshot 579206, filename 2018-08-21--19-14-13--386 and camera [0.0, -2.29999995231628, 0.300000011920929]\n",
      "skipping record wih invalid buffers in snapshot 579210, filename 2018-08-21--19-14-14--855 and camera [0.0, -2.29999995231628, 0.300000011920929]\n",
      "skipping record wih invalid buffers in snapshot 579208, filename 2018-08-21--19-14-14--212 and camera [0.0, 2.0, 0.300000011920929]\n"
     ]
    },
    {
     "name": "stderr",
     "output_type": "stream",
     "text": [
      "\r",
      "                                                                               \r",
      "\r",
      " 51% 3639 |#############################                            |   2.4 B/s"
     ]
    },
    {
     "name": "stdout",
     "output_type": "stream",
     "text": [
      "skipping record wih invalid buffers in snapshot 579207, filename 2018-08-21--19-14-13--709 and camera [0.800000011920929, 0.800000011920929, 0.400000005960464]\n",
      "skipping record wih invalid buffers in snapshot 579211, filename 2018-08-21--19-14-15--160 and camera [0.800000011920929, 0.800000011920929, 0.400000005960464]\n",
      "skipping record wih invalid buffers in snapshot 579209, filename 2018-08-21--19-14-14--528 and camera [-0.800000011920929, 0.800000011920929, 0.400000005960464]\n"
     ]
    },
    {
     "name": "stderr",
     "output_type": "stream",
     "text": [
      " 54% 3822 |##############################                           |   2.4 B/s"
     ]
    },
    {
     "name": "stdout",
     "output_type": "stream",
     "text": [
      "skipping record wih invalid buffers in snapshot 579394, filename 2018-08-21--19-15-28--042 and camera [0.0, -2.29999995231628, 0.300000011920929]\n",
      "skipping record wih invalid buffers in snapshot 579395, filename 2018-08-21--19-15-28--384 and camera [0.800000011920929, 0.800000011920929, 0.400000005960464]\n",
      "skipping record wih invalid buffers in snapshot 579396, filename 2018-08-21--19-15-28--919 and camera [0.0, 2.0, 0.300000011920929]\n"
     ]
    },
    {
     "name": "stderr",
     "output_type": "stream",
     "text": [
      "\r",
      "                                                                               \r",
      "\r",
      " 54% 3824 |##############################                           |   2.4 B/s"
     ]
    },
    {
     "name": "stdout",
     "output_type": "stream",
     "text": [
      "skipping record wih invalid buffers in snapshot 579397, filename 2018-08-21--19-15-29--260 and camera [-0.800000011920929, 0.800000011920929, 0.400000005960464]\n",
      "skipping record wih invalid buffers in snapshot 579398, filename 2018-08-21--19-15-29--552 and camera [0.0, -2.29999995231628, 0.300000011920929]\n"
     ]
    },
    {
     "name": "stderr",
     "output_type": "stream",
     "text": [
      "\r",
      "                                                                               \r",
      "\r",
      " 54% 3826 |##############################                           |   2.4 B/s"
     ]
    },
    {
     "name": "stdout",
     "output_type": "stream",
     "text": [
      "skipping record wih invalid buffers in snapshot 579399, filename 2018-08-21--19-15-30--008 and camera [0.800000011920929, 0.800000011920929, 0.400000005960464]\n"
     ]
    },
    {
     "name": "stderr",
     "output_type": "stream",
     "text": [
      "\r",
      "                                                                               \r",
      "\r",
      " 54% 3828 |##############################                           |   2.4 B/s"
     ]
    },
    {
     "name": "stdout",
     "output_type": "stream",
     "text": [
      "skipping record wih invalid buffers in snapshot 579400, filename 2018-08-21--19-15-30--711 and camera [0.0, 2.0, 0.300000011920929]\n"
     ]
    },
    {
     "name": "stderr",
     "output_type": "stream",
     "text": [
      " 54% 3830 |##############################                           |   2.4 B/s"
     ]
    },
    {
     "name": "stdout",
     "output_type": "stream",
     "text": [
      "skipping record wih invalid buffers in snapshot 579403, filename 2018-08-21--19-15-31--954 and camera [0.800000011920929, 0.800000011920929, 0.400000005960464]\n",
      "skipping record wih invalid buffers in snapshot 579402, filename 2018-08-21--19-15-31--616 and camera [0.0, -2.29999995231628, 0.300000011920929]\n"
     ]
    },
    {
     "name": "stderr",
     "output_type": "stream",
     "text": [
      "\r",
      "                                                                               \r",
      "\r",
      " 54% 3833 |##############################                           |   2.4 B/s"
     ]
    },
    {
     "name": "stdout",
     "output_type": "stream",
     "text": [
      "skipping record wih invalid buffers in snapshot 579407, filename 2018-08-21--19-15-33--415 and camera [0.800000011920929, 0.800000011920929, 0.400000005960464]\n",
      "skipping record wih invalid buffers in snapshot 579404, filename 2018-08-21--19-15-32--443 and camera [0.0, 2.0, 0.300000011920929]\n",
      "skipping record wih invalid buffers in snapshot 579405, filename 2018-08-21--19-15-32--750 and camera [-0.800000011920929, 0.800000011920929, 0.400000005960464]\n"
     ]
    },
    {
     "name": "stderr",
     "output_type": "stream",
     "text": [
      "\r",
      "                                                                               \r",
      "\r",
      " 54% 3835 |##############################                           |   2.4 B/s"
     ]
    },
    {
     "name": "stdout",
     "output_type": "stream",
     "text": [
      "skipping record wih invalid buffers in snapshot 579408, filename 2018-08-21--19-15-33--874 and camera [0.0, 2.0, 0.300000011920929]\n",
      "skipping record wih invalid buffers in snapshot 579406, filename 2018-08-21--19-15-33--071 and camera [0.0, -2.29999995231628, 0.300000011920929]\n"
     ]
    },
    {
     "name": "stderr",
     "output_type": "stream",
     "text": [
      "\r",
      "                                                                               \r",
      "\r",
      " 54% 3837 |##############################                           |   2.4 B/s"
     ]
    },
    {
     "name": "stdout",
     "output_type": "stream",
     "text": [
      "skipping record wih invalid buffers in snapshot 579409, filename 2018-08-21--19-15-34--199 and camera [-0.800000011920929, 0.800000011920929, 0.400000005960464]\n"
     ]
    },
    {
     "name": "stderr",
     "output_type": "stream",
     "text": [
      "\r",
      "                                                                               \r",
      "\r",
      " 54% 3838 |##############################                           |   2.4 B/s"
     ]
    },
    {
     "name": "stdout",
     "output_type": "stream",
     "text": [
      "skipping record wih invalid buffers in snapshot 579410, filename 2018-08-21--19-15-34--549 and camera [0.0, -2.29999995231628, 0.300000011920929]\n"
     ]
    },
    {
     "name": "stderr",
     "output_type": "stream",
     "text": [
      "\r",
      "                                                                               \r",
      "\r",
      " 54% 3839 |##############################                           |   2.4 B/s"
     ]
    },
    {
     "name": "stdout",
     "output_type": "stream",
     "text": [
      "skipping record wih invalid buffers in snapshot 579411, filename 2018-08-21--19-15-34--895 and camera [0.800000011920929, 0.800000011920929, 0.400000005960464]\n"
     ]
    },
    {
     "name": "stderr",
     "output_type": "stream",
     "text": [
      " 56% 4010 |################################                         |   2.4 B/s"
     ]
    },
    {
     "name": "stdout",
     "output_type": "stream",
     "text": [
      "skipping record wih invalid buffers in snapshot 579587, filename 2018-08-21--19-16-44--692 and camera [0.800000011920929, 0.800000011920929, 0.400000005960464]\n",
      "skipping record wih invalid buffers in snapshot 579588, filename 2018-08-21--19-16-45--192 and camera [0.0, 2.0, 0.300000011920929]\n",
      "skipping record wih invalid buffers in snapshot 579589, filename 2018-08-21--19-16-45--539 and camera [-0.800000011920929, 0.800000011920929, 0.400000005960464]\n"
     ]
    },
    {
     "name": "stderr",
     "output_type": "stream",
     "text": [
      " 56% 4018 |################################                         |   2.4 B/s"
     ]
    },
    {
     "name": "stdout",
     "output_type": "stream",
     "text": [
      "skipping record wih invalid buffers in snapshot 579590, filename 2018-08-21--19-16-45--843 and camera [0.0, -2.29999995231628, 0.300000011920929]\n"
     ]
    },
    {
     "name": "stderr",
     "output_type": "stream",
     "text": [
      " 56% 4020 |################################                         |   2.4 B/s"
     ]
    },
    {
     "name": "stdout",
     "output_type": "stream",
     "text": [
      "skipping record wih invalid buffers in snapshot 579591, filename 2018-08-21--19-16-46--197 and camera [0.800000011920929, 0.800000011920929, 0.400000005960464]\n"
     ]
    },
    {
     "name": "stderr",
     "output_type": "stream",
     "text": [
      " 61% 4312 |##################################                       |   2.5 B/sC:\\ProgramData\\Anaconda3\\lib\\site-packages\\tifffile\\tifffile.py:2577: UserWarning: unpack: string size must be a multiple of element size\n",
      "  warnings.warn(\"unpack: %s\" % e)\n",
      " 65% 4635 |#####################################                    |   2.5 B/s"
     ]
    },
    {
     "name": "stdout",
     "output_type": "stream",
     "text": [
      "skipping record wih invalid buffers in snapshot 580212, filename 2018-08-21--19-20-58--795 and camera [0.0, -2.29999995231628, 0.300000011920929]\n"
     ]
    },
    {
     "name": "stderr",
     "output_type": "stream",
     "text": [
      "\r",
      "                                                                               \r",
      "\r",
      " 65% 4637 |#####################################                    |   2.5 B/s"
     ]
    },
    {
     "name": "stdout",
     "output_type": "stream",
     "text": [
      "skipping record wih invalid buffers in snapshot 580211, filename 2018-08-21--19-20-58--496 and camera [-0.800000011920929, 0.800000011920929, 0.400000005960464]skipping record wih invalid buffers in snapshot 580213, filename 2018-08-21--19-20-59--156 and camera [0.800000011920929, 0.800000011920929, 0.400000005960464]\n",
      "\n"
     ]
    },
    {
     "name": "stderr",
     "output_type": "stream",
     "text": [
      " 65% 4642 |#####################################                    |   2.5 B/s"
     ]
    },
    {
     "name": "stdout",
     "output_type": "stream",
     "text": [
      "skipping record wih invalid buffers in snapshot 580214, filename 2018-08-21--19-20-59--665 and camera [0.0, 2.0, 0.300000011920929]\n"
     ]
    },
    {
     "name": "stderr",
     "output_type": "stream",
     "text": [
      "\r",
      "                                                                               \r",
      "\r",
      " 65% 4643 |#####################################                    |   2.5 B/s"
     ]
    },
    {
     "name": "stdout",
     "output_type": "stream",
     "text": [
      "skipping record wih invalid buffers in snapshot 580215, filename 2018-08-21--19-20-59--964 and camera [-0.800000011920929, 0.800000011920929, 0.400000005960464]\n",
      "skipping record wih invalid buffers in snapshot 580216, filename 2018-08-21--19-21-00--322 and camera [0.0, -2.29999995231628, 0.300000011920929]\n"
     ]
    },
    {
     "name": "stderr",
     "output_type": "stream",
     "text": [
      " 65% 4647 |#####################################                    |   2.5 B/s"
     ]
    },
    {
     "name": "stdout",
     "output_type": "stream",
     "text": [
      "skipping record wih invalid buffers in snapshot 580218, filename 2018-08-21--19-21-01--191 and camera [0.0, 2.0, 0.300000011920929]\n",
      "skipping record wih invalid buffers in snapshot 580219, filename 2018-08-21--19-21-01--525 and camera [-0.800000011920929, 0.800000011920929, 0.400000005960464]\n",
      "skipping record wih invalid buffers in snapshot 580217, filename 2018-08-21--19-21-00--662 and camera [0.800000011920929, 0.800000011920929, 0.400000005960464]\n"
     ]
    },
    {
     "name": "stderr",
     "output_type": "stream",
     "text": [
      "\r",
      "                                                                               \r",
      "\r",
      " 65% 4648 |#####################################                    |   2.5 B/s"
     ]
    },
    {
     "name": "stdout",
     "output_type": "stream",
     "text": [
      "skipping record wih invalid buffers in snapshot 580220, filename 2018-08-21--19-21-01--873 and camera [0.0, -2.29999995231628, 0.300000011920929]\n",
      "skipping record wih invalid buffers in snapshot 580221, filename 2018-08-21--19-21-02--206 and camera [0.800000011920929, 0.800000011920929, 0.400000005960464]\n"
     ]
    },
    {
     "name": "stderr",
     "output_type": "stream",
     "text": [
      "\r",
      "                                                                               \r",
      "\r",
      " 65% 4650 |#####################################                    |   2.5 B/s"
     ]
    },
    {
     "name": "stdout",
     "output_type": "stream",
     "text": [
      "skipping record wih invalid buffers in snapshot 580222, filename 2018-08-21--19-21-02--703 and camera [0.0, 2.0, 0.300000011920929]\n"
     ]
    },
    {
     "name": "stderr",
     "output_type": "stream",
     "text": [
      " 65% 4653 |#####################################                    |   2.5 B/s"
     ]
    },
    {
     "name": "stdout",
     "output_type": "stream",
     "text": [
      "skipping record wih invalid buffers in snapshot 580225, filename 2018-08-21--19-21-03--908 and camera [0.800000011920929, 0.800000011920929, 0.400000005960464]\n",
      "skipping record wih invalid buffers in snapshot 580224, filename 2018-08-21--19-21-03--402 and camera [0.0, -2.29999995231628, 0.300000011920929]\n",
      "skipping record wih invalid buffers in snapshot 580228, filename 2018-08-21--19-21-05--158 and camera [0.0, -2.29999995231628, 0.300000011920929]\n",
      "skipping record wih invalid buffers in snapshot 580227, filename 2018-08-21--19-21-04--785 and camera [-0.800000011920929, 0.800000011920929, 0.400000005960464]\n",
      "skipping record wih invalid buffers in snapshot 580223, filename 2018-08-21--19-21-03--046 and camera [-0.800000011920929, 0.800000011920929, 0.400000005960464]\n",
      "skipping record wih invalid buffers in snapshot 580229, filename 2018-08-21--19-21-05--462 and camera [0.800000011920929, 0.800000011920929, 0.400000005960464]\n"
     ]
    },
    {
     "name": "stderr",
     "output_type": "stream",
     "text": [
      "\r",
      "                                                                               \r",
      "\r",
      " 65% 4657 |#####################################                    |   2.5 B/s"
     ]
    },
    {
     "name": "stdout",
     "output_type": "stream",
     "text": [
      "skipping record wih invalid buffers in snapshot 580230, filename 2018-08-21--19-21-05--947 and camera [0.0, 2.0, 0.300000011920929]\n"
     ]
    },
    {
     "name": "stderr",
     "output_type": "stream",
     "text": [
      " 66% 4660 |#####################################                    |   2.5 B/s"
     ]
    },
    {
     "name": "stdout",
     "output_type": "stream",
     "text": [
      "skipping record wih invalid buffers in snapshot 580233, filename 2018-08-21--19-21-06--976 and camera [0.800000011920929, 0.800000011920929, 0.400000005960464]\n",
      "skipping record wih invalid buffers in snapshot 580232, filename 2018-08-21--19-21-06--671 and camera [0.0, -2.29999995231628, 0.300000011920929]\n"
     ]
    },
    {
     "name": "stderr",
     "output_type": "stream",
     "text": [
      "\r",
      "                                                                               \r",
      "\r",
      " 66% 4661 |#####################################                    |   2.5 B/s"
     ]
    },
    {
     "name": "stdout",
     "output_type": "stream",
     "text": [
      "skipping record wih invalid buffers in snapshot 580231, filename 2018-08-21--19-21-06--312 and camera [-0.800000011920929, 0.800000011920929, 0.400000005960464]\n",
      "skipping record wih invalid buffers in snapshot 580237, filename 2018-08-21--19-21-08--530 and camera [0.800000011920929, 0.800000011920929, 0.400000005960464]\n",
      "skipping record wih invalid buffers in snapshot 580236, filename 2018-08-21--19-21-08--180 and camera [0.0, -2.29999995231628, 0.300000011920929]\n"
     ]
    },
    {
     "name": "stderr",
     "output_type": "stream",
     "text": [
      "\r",
      "                                                                               \r",
      "\r",
      " 66% 4664 |#####################################                    |   2.5 B/s"
     ]
    },
    {
     "name": "stdout",
     "output_type": "stream",
     "text": [
      "skipping record wih invalid buffers in snapshot 580238, filename 2018-08-21--19-21-09--034 and camera [0.0, 2.0, 0.300000011920929]\n"
     ]
    },
    {
     "name": "stderr",
     "output_type": "stream",
     "text": [
      " 66% 4668 |#####################################                    |   2.5 B/s"
     ]
    },
    {
     "name": "stdout",
     "output_type": "stream",
     "text": [
      "skipping record wih invalid buffers in snapshot 580242, filename 2018-08-21--19-21-10--516 and camera [0.0, 2.0, 0.300000011920929]\n",
      "skipping record wih invalid buffers in snapshot 580243, filename 2018-08-21--19-21-10--888 and camera [-0.800000011920929, 0.800000011920929, 0.400000005960464]\n"
     ]
    },
    {
     "name": "stderr",
     "output_type": "stream",
     "text": [
      "\r",
      "                                                                               \r",
      "\r",
      " 66% 4669 |#####################################                    |   2.5 B/s"
     ]
    },
    {
     "name": "stdout",
     "output_type": "stream",
     "text": [
      "skipping record wih invalid buffers in snapshot 580240, filename 2018-08-21--19-21-09--709 and camera [0.0, -2.29999995231628, 0.300000011920929]\n",
      "skipping record wih invalid buffers in snapshot 580239, filename 2018-08-21--19-21-09--364 and camera [-0.800000011920929, 0.800000011920929, 0.400000005960464]\n",
      "skipping record wih invalid buffers in snapshot 580241, filename 2018-08-21--19-21-10--041 and camera [0.800000011920929, 0.800000011920929, 0.400000005960464]\n"
     ]
    },
    {
     "name": "stderr",
     "output_type": "stream",
     "text": [
      "\r",
      "                                                                               \r",
      "\r",
      " 66% 4672 |#####################################                    |   2.5 B/s"
     ]
    },
    {
     "name": "stdout",
     "output_type": "stream",
     "text": [
      "skipping record wih invalid buffers in snapshot 580244, filename 2018-08-21--19-21-11--288 and camera [0.0, -2.29999995231628, 0.300000011920929]\n"
     ]
    },
    {
     "name": "stderr",
     "output_type": "stream",
     "text": [
      "\r",
      "                                                                               \r",
      "\r",
      " 66% 4673 |#####################################                    |   2.5 B/s"
     ]
    },
    {
     "name": "stdout",
     "output_type": "stream",
     "text": [
      "skipping record wih invalid buffers in snapshot 580245, filename 2018-08-21--19-21-11--583 and camera [0.800000011920929, 0.800000011920929, 0.400000005960464]\n",
      "skipping record wih invalid buffers in snapshot 580246, filename 2018-08-21--19-21-12--050 and camera [0.0, 2.0, 0.300000011920929]\n"
     ]
    },
    {
     "name": "stderr",
     "output_type": "stream",
     "text": [
      "\r",
      "                                                                               \r",
      "\r",
      " 66% 4675 |#####################################                    |   2.5 B/s"
     ]
    },
    {
     "name": "stdout",
     "output_type": "stream",
     "text": [
      "skipping record wih invalid buffers in snapshot 580247, filename 2018-08-21--19-21-12--379 and camera [-0.800000011920929, 0.800000011920929, 0.400000005960464]\n"
     ]
    },
    {
     "name": "stderr",
     "output_type": "stream",
     "text": [
      " 66% 4679 |#####################################                    |   2.5 B/s"
     ]
    },
    {
     "name": "stdout",
     "output_type": "stream",
     "text": [
      "skipping record wih invalid buffers in snapshot 580249, filename 2018-08-21--19-21-13--016 and camera [0.800000011920929, 0.800000011920929, 0.400000005960464]\n",
      "skipping record wih invalid buffers in snapshot 580251, filename 2018-08-21--19-21-13--840 and camera [-0.800000011920929, 0.800000011920929, 0.400000005960464]\n",
      "skipping record wih invalid buffers in snapshot 580252, filename 2018-08-21--19-21-14--184 and camera [0.0, -2.29999995231628, 0.300000011920929]\n",
      "skipping record wih invalid buffers in snapshot 580250, filename 2018-08-21--19-21-13--486 and camera [0.0, 2.0, 0.300000011920929]\n"
     ]
    },
    {
     "name": "stderr",
     "output_type": "stream",
     "text": [
      " 66% 4682 |#####################################                    |   2.5 B/s"
     ]
    },
    {
     "name": "stdout",
     "output_type": "stream",
     "text": [
      "skipping record wih invalid buffers in snapshot 580253, filename 2018-08-21--19-21-14--484 and camera [0.800000011920929, 0.800000011920929, 0.400000005960464]\n",
      "skipping record wih invalid buffers in snapshot 580254, filename 2018-08-21--19-21-14--978 and camera [0.0, 2.0, 0.300000011920929]\n"
     ]
    },
    {
     "name": "stderr",
     "output_type": "stream",
     "text": [
      "\r",
      "                                                                               \r",
      "\r",
      " 66% 4683 |#####################################                    |   2.5 B/s"
     ]
    },
    {
     "name": "stdout",
     "output_type": "stream",
     "text": [
      "skipping record wih invalid buffers in snapshot 580255, filename 2018-08-21--19-21-15--312 and camera [-0.800000011920929, 0.800000011920929, 0.400000005960464]\n",
      "skipping record wih invalid buffers in snapshot 580256, filename 2018-08-21--19-21-15--616 and camera [0.0, -2.29999995231628, 0.300000011920929]\n"
     ]
    },
    {
     "name": "stderr",
     "output_type": "stream",
     "text": [
      " 66% 4686 |#####################################                    |   2.5 B/s"
     ]
    },
    {
     "name": "stdout",
     "output_type": "stream",
     "text": [
      "skipping record wih invalid buffers in snapshot 580258, filename 2018-08-21--19-21-16--448 and camera [0.0, 2.0, 0.300000011920929]\n",
      "skipping record wih invalid buffers in snapshot 580257, filename 2018-08-21--19-21-15--958 and camera [0.800000011920929, 0.800000011920929, 0.400000005960464]\n"
     ]
    },
    {
     "name": "stderr",
     "output_type": "stream",
     "text": [
      " 69% 4931 |#######################################                  |   2.5 B/s"
     ]
    },
    {
     "name": "stdout",
     "output_type": "stream",
     "text": [
      "skipping record wih invalid buffers in snapshot 580509, filename 2018-08-21--19-22-58--152 and camera [0.0, -2.29999995231628, 0.300000011920929]\n"
     ]
    },
    {
     "name": "stderr",
     "output_type": "stream",
     "text": [
      "\r",
      "                                                                               \r",
      "\r",
      " 69% 4932 |#######################################                  |   2.5 B/s"
     ]
    },
    {
     "name": "stdout",
     "output_type": "stream",
     "text": [
      "skipping record wih invalid buffers in snapshot 580510, filename 2018-08-21--19-22-58--498 and camera [0.800000011920929, 0.800000011920929, 0.400000005960464]\n"
     ]
    },
    {
     "name": "stderr",
     "output_type": "stream",
     "text": [
      " 69% 4939 |#######################################                  |   2.5 B/s"
     ]
    },
    {
     "name": "stdout",
     "output_type": "stream",
     "text": [
      "skipping record wih invalid buffers in snapshot 580511, filename 2018-08-21--19-22-58--987 and camera [0.0, 2.0, 0.300000011920929]\n",
      "skipping record wih invalid buffers in snapshot 580512, filename 2018-08-21--19-22-59--345 and camera [-0.800000011920929, 0.800000011920929, 0.400000005960464]\n"
     ]
    },
    {
     "name": "stderr",
     "output_type": "stream",
     "text": [
      "\r",
      "                                                                               \r",
      "\r",
      " 69% 4941 |#######################################                  |   2.5 B/s"
     ]
    },
    {
     "name": "stdout",
     "output_type": "stream",
     "text": [
      "skipping record wih invalid buffers in snapshot 580514, filename 2018-08-21--19-23-00--005 and camera [0.800000011920929, 0.800000011920929, 0.400000005960464]\n",
      "skipping record wih invalid buffers in snapshot 580515, filename 2018-08-21--19-23-00--527 and camera [0.0, 2.0, 0.300000011920929]\n"
     ]
    },
    {
     "name": "stderr",
     "output_type": "stream",
     "text": [
      "\r",
      "                                                                               \r",
      "\r",
      " 70% 4943 |#######################################                  |   2.5 B/s"
     ]
    },
    {
     "name": "stdout",
     "output_type": "stream",
     "text": [
      "skipping record wih invalid buffers in snapshot 580518, filename 2018-08-21--19-23-01--562 and camera [0.800000011920929, 0.800000011920929, 0.400000005960464]\n",
      "skipping record wih invalid buffers in snapshot 580516, filename 2018-08-21--19-23-00--866 and camera [-0.800000011920929, 0.800000011920929, 0.400000005960464]\n",
      "skipping record wih invalid buffers in snapshot 580517, filename 2018-08-21--19-23-01--172 and camera [0.0, -2.29999995231628, 0.300000011920929]\n",
      "skipping record wih invalid buffers in snapshot 580513, filename 2018-08-21--19-22-59--642 and camera [0.0, -2.29999995231628, 0.300000011920929]\n"
     ]
    },
    {
     "name": "stderr",
     "output_type": "stream",
     "text": [
      "\r",
      "                                                                               \r",
      "\r",
      " 70% 4947 |#######################################                  |   2.5 B/s"
     ]
    },
    {
     "name": "stdout",
     "output_type": "stream",
     "text": [
      "skipping record wih invalid buffers in snapshot 580519, filename 2018-08-21--19-23-02--081 and camera [0.0, 2.0, 0.300000011920929]\n",
      "skipping record wih invalid buffers in snapshot 580520, filename 2018-08-21--19-23-02--453 and camera [-0.800000011920929, 0.800000011920929, 0.400000005960464]\n"
     ]
    },
    {
     "name": "stderr",
     "output_type": "stream",
     "text": [
      " 70% 4954 |########################################                 |   2.5 B/s"
     ]
    },
    {
     "name": "stdout",
     "output_type": "stream",
     "text": [
      "skipping record wih invalid buffers in snapshot 580523, filename 2018-08-21--19-23-03--637 and camera [0.0, 2.0, 0.300000011920929]skipping record wih invalid buffers in snapshot 580524, filename 2018-08-21--19-23-03--998 and camera [-0.800000011920929, 0.800000011920929, 0.400000005960464]\n",
      "\n",
      "skipping record wih invalid buffers in snapshot 580521, filename 2018-08-21--19-23-02--804 and camera [0.0, -2.29999995231628, 0.300000011920929]\n",
      "skipping record wih invalid buffers in snapshot 580525, filename 2018-08-21--19-23-04--346 and camera [0.0, -2.29999995231628, 0.300000011920929]\n",
      "skipping record wih invalid buffers in snapshot 580522, filename 2018-08-21--19-23-03--157 and camera [0.800000011920929, 0.800000011920929, 0.400000005960464]\n",
      "skipping record wih invalid buffers in snapshot 580526, filename 2018-08-21--19-23-04--641 and camera [0.800000011920929, 0.800000011920929, 0.400000005960464]\n"
     ]
    },
    {
     "name": "stderr",
     "output_type": "stream",
     "text": [
      " 70% 4956 |########################################                 |   2.5 B/s"
     ]
    },
    {
     "name": "stdout",
     "output_type": "stream",
     "text": [
      "skipping record wih invalid buffers in snapshot 580527, filename 2018-08-21--19-23-05--124 and camera [0.0, 2.0, 0.300000011920929]\n",
      "skipping record wih invalid buffers in snapshot 580528, filename 2018-08-21--19-23-05--465 and camera [-0.800000011920929, 0.800000011920929, 0.400000005960464]\n"
     ]
    },
    {
     "name": "stderr",
     "output_type": "stream",
     "text": [
      "\r",
      "                                                                               \r",
      "\r",
      " 70% 4957 |########################################                 |   2.5 B/s"
     ]
    },
    {
     "name": "stdout",
     "output_type": "stream",
     "text": [
      "skipping record wih invalid buffers in snapshot 580531, filename 2018-08-21--19-23-06--598 and camera [0.0, 2.0, 0.300000011920929]\n",
      "skipping record wih invalid buffers in snapshot 580530, filename 2018-08-21--19-23-06--109 and camera [0.800000011920929, 0.800000011920929, 0.400000005960464]\n",
      "skipping record wih invalid buffers in snapshot 580529, filename 2018-08-21--19-23-05--808 and camera [0.0, -2.29999995231628, 0.300000011920929]\n"
     ]
    },
    {
     "name": "stderr",
     "output_type": "stream",
     "text": [
      " 70% 4964 |########################################                 |   2.5 B/s"
     ]
    },
    {
     "name": "stdout",
     "output_type": "stream",
     "text": [
      "skipping record wih invalid buffers in snapshot 580532, filename 2018-08-21--19-23-06--950 and camera [-0.800000011920929, 0.800000011920929, 0.400000005960464]\n",
      "skipping record wih invalid buffers in snapshot 580533, filename 2018-08-21--19-23-07--319 and camera [0.0, -2.29999995231628, 0.300000011920929]\n",
      "skipping record wih invalid buffers in snapshot 580534, filename 2018-08-21--19-23-07--611 and camera [0.800000011920929, 0.800000011920929, 0.400000005960464]\n",
      "skipping record wih invalid buffers in snapshot 580535, filename 2018-08-21--19-23-08--122 and camera [0.0, 2.0, 0.300000011920929]\n",
      "skipping record wih invalid buffers in snapshot 580536, filename 2018-08-21--19-23-08--466 and camera [-0.800000011920929, 0.800000011920929, 0.400000005960464]\n"
     ]
    },
    {
     "name": "stderr",
     "output_type": "stream",
     "text": [
      " 70% 4966 |########################################                 |   2.5 B/s"
     ]
    },
    {
     "name": "stdout",
     "output_type": "stream",
     "text": [
      "skipping record wih invalid buffers in snapshot 580539, filename 2018-08-21--19-23-09--642 and camera [0.0, 2.0, 0.300000011920929]\n",
      "skipping record wih invalid buffers in snapshot 580537, filename 2018-08-21--19-23-08--773 and camera [0.0, -2.29999995231628, 0.300000011920929]\n",
      "skipping record wih invalid buffers in snapshot 580538, filename 2018-08-21--19-23-09--112 and camera [0.800000011920929, 0.800000011920929, 0.400000005960464]\n",
      "skipping record wih invalid buffers in snapshot 580541, filename 2018-08-21--19-23-10--294 and camera [0.0, -2.29999995231628, 0.300000011920929]\n",
      "skipping record wih invalid buffers in snapshot 580544, filename 2018-08-21--19-23-11--472 and camera [-0.800000011920929, 0.800000011920929, 0.400000005960464]\n",
      "skipping record wih invalid buffers in snapshot 580543, filename 2018-08-21--19-23-11--158 and camera [0.0, 2.0, 0.300000011920929]\n"
     ]
    },
    {
     "name": "stderr",
     "output_type": "stream",
     "text": [
      "\r",
      "                                                                               \r",
      "\r",
      " 70% 4971 |########################################                 |   2.5 B/s"
     ]
    },
    {
     "name": "stdout",
     "output_type": "stream",
     "text": [
      "skipping record wih invalid buffers in snapshot 580542, filename 2018-08-21--19-23-10--638 and camera [0.800000011920929, 0.800000011920929, 0.400000005960464]\n",
      "skipping record wih invalid buffers in snapshot 580540, filename 2018-08-21--19-23-09--994 and camera [-0.800000011920929, 0.800000011920929, 0.400000005960464]\n"
     ]
    },
    {
     "name": "stderr",
     "output_type": "stream",
     "text": [
      " 70% 4977 |########################################                 |   2.5 B/s"
     ]
    },
    {
     "name": "stdout",
     "output_type": "stream",
     "text": [
      "skipping record wih invalid buffers in snapshot 580545, filename 2018-08-21--19-23-11--828 and camera [0.0, -2.29999995231628, 0.300000011920929]\n",
      "skipping record wih invalid buffers in snapshot 580549, filename 2018-08-21--19-23-13--337 and camera [0.0, -2.29999995231628, 0.300000011920929]\n",
      "skipping record wih invalid buffers in snapshot 580548, filename 2018-08-21--19-23-13--002 and camera [-0.800000011920929, 0.800000011920929, 0.400000005960464]\n",
      "skipping record wih invalid buffers in snapshot 580550, filename 2018-08-21--19-23-13--702 and camera [0.800000011920929, 0.800000011920929, 0.400000005960464]\n",
      "skipping record wih invalid buffers in snapshot 580546, filename 2018-08-21--19-23-12--174 and camera [0.800000011920929, 0.800000011920929, 0.400000005960464]\n",
      "skipping record wih invalid buffers in snapshot 580547, filename 2018-08-21--19-23-12--654 and camera [0.0, 2.0, 0.300000011920929]\n"
     ]
    },
    {
     "name": "stderr",
     "output_type": "stream",
     "text": [
      "\r",
      "                                                                               \r",
      "\r",
      " 70% 4979 |########################################                 |   2.5 B/s"
     ]
    },
    {
     "name": "stdout",
     "output_type": "stream",
     "text": [
      "skipping record wih invalid buffers in snapshot 580551, filename 2018-08-21--19-23-14--205 and camera [0.0, 2.0, 0.300000011920929]\n",
      "skipping record wih invalid buffers in snapshot 580552, filename 2018-08-21--19-23-14--644 and camera [-0.800000011920929, 0.800000011920929, 0.400000005960464]\n"
     ]
    },
    {
     "name": "stderr",
     "output_type": "stream",
     "text": [
      " 70% 4982 |########################################                 |   2.5 B/s"
     ]
    },
    {
     "name": "stdout",
     "output_type": "stream",
     "text": [
      "skipping record wih invalid buffers in snapshot 580555, filename 2018-08-21--19-23-15--981 and camera [0.0, 2.0, 0.300000011920929]\n",
      "skipping record wih invalid buffers in snapshot 580553, filename 2018-08-21--19-23-15--002 and camera [0.0, -2.29999995231628, 0.300000011920929]\n",
      "skipping record wih invalid buffers in snapshot 580557, filename 2018-08-21--19-23-16--702 and camera [0.0, -2.29999995231628, 0.300000011920929]\n",
      "skipping record wih invalid buffers in snapshot 580556, filename 2018-08-21--19-23-16--344 and camera [-0.800000011920929, 0.800000011920929, 0.400000005960464]"
     ]
    },
    {
     "name": "stderr",
     "output_type": "stream",
     "text": [
      "\r",
      "                                                                               \r",
      "\r",
      " 70% 4987 |########################################                 |   2.5 B/s"
     ]
    },
    {
     "name": "stdout",
     "output_type": "stream",
     "text": [
      "\n",
      "skipping record wih invalid buffers in snapshot 580554, filename 2018-08-21--19-23-15--452 and camera [0.800000011920929, 0.800000011920929, 0.400000005960464]skipping record wih invalid buffers in snapshot 580558, filename 2018-08-21--19-23-17--099 and camera [0.800000011920929, 0.800000011920929, 0.400000005960464]\n",
      "\n",
      "skipping record wih invalid buffers in snapshot 580560, filename 2018-08-21--19-23-18--224 and camera [-0.800000011920929, 0.800000011920929, 0.400000005960464]\n",
      "skipping record wih invalid buffers in snapshot 580559, filename 2018-08-21--19-23-17--818 and camera [0.0, 2.0, 0.300000011920929]\n"
     ]
    },
    {
     "name": "stderr",
     "output_type": "stream",
     "text": [
      " 70% 4990 |########################################                 |   2.5 B/s"
     ]
    },
    {
     "name": "stdout",
     "output_type": "stream",
     "text": [
      "skipping record wih invalid buffers in snapshot 580561, filename 2018-08-21--19-23-18--536 and camera [0.0, -2.29999995231628, 0.300000011920929]\n",
      "skipping record wih invalid buffers in snapshot 580564, filename 2018-08-21--19-23-19--812 and camera [-0.800000011920929, 0.800000011920929, 0.400000005960464]\n",
      "skipping record wih invalid buffers in snapshot 580565, filename 2018-08-21--19-23-20--149 and camera [0.0, -2.29999995231628, 0.300000011920929]\n",
      "skipping record wih invalid buffers in snapshot 580563, filename 2018-08-21--19-23-19--441 and camera [0.0, 2.0, 0.300000011920929]\n",
      "skipping record wih invalid buffers in snapshot 580568, filename 2018-08-21--19-23-21--426 and camera [-0.800000011920929, 0.800000011920929, 0.400000005960464]\n"
     ]
    },
    {
     "name": "stderr",
     "output_type": "stream",
     "text": [
      "\r",
      "                                                                               \r",
      "\r",
      " 70% 4994 |########################################                 |   2.5 B/s"
     ]
    },
    {
     "name": "stdout",
     "output_type": "stream",
     "text": [
      "skipping record wih invalid buffers in snapshot 580567, filename 2018-08-21--19-23-21--062 and camera [0.0, 2.0, 0.300000011920929]\n",
      "skipping record wih invalid buffers in snapshot 580566, filename 2018-08-21--19-23-20--507 and camera [0.800000011920929, 0.800000011920929, 0.400000005960464]\n",
      "skipping record wih invalid buffers in snapshot 580562, filename 2018-08-21--19-23-18--909 and camera [0.800000011920929, 0.800000011920929, 0.400000005960464]\n"
     ]
    },
    {
     "name": "stderr",
     "output_type": "stream",
     "text": [
      " 70% 5000 |########################################                 |   2.5 B/s"
     ]
    },
    {
     "name": "stdout",
     "output_type": "stream",
     "text": [
      "skipping record wih invalid buffers in snapshot 580572, filename 2018-08-21--19-23-23--025 and camera [-0.800000011920929, 0.800000011920929, 0.400000005960464]\n",
      "skipping record wih invalid buffers in snapshot 580569, filename 2018-08-21--19-23-21--759 and camera [0.0, -2.29999995231628, 0.300000011920929]\n",
      "skipping record wih invalid buffers in snapshot 580570, filename 2018-08-21--19-23-22--120 and camera [0.800000011920929, 0.800000011920929, 0.400000005960464]\n",
      "skipping record wih invalid buffers in snapshot 580573, filename 2018-08-21--19-23-23--349 and camera [0.0, -2.29999995231628, 0.300000011920929]\n",
      "skipping record wih invalid buffers in snapshot 580571, filename 2018-08-21--19-23-22--666 and camera [0.0, 2.0, 0.300000011920929]\n"
     ]
    },
    {
     "name": "stderr",
     "output_type": "stream",
     "text": [
      " 73% 5169 |#########################################                |   2.6 B/s"
     ]
    },
    {
     "name": "stdout",
     "output_type": "stream",
     "text": [
      "skipping record wih invalid buffers in snapshot 580744, filename 2018-08-21--19-24-34--381 and camera [0.800000011920929, 0.800000011920929, 0.400000005960464]\n"
     ]
    },
    {
     "name": "stderr",
     "output_type": "stream",
     "text": [
      " 73% 5173 |#########################################                |   2.6 B/s"
     ]
    },
    {
     "name": "stdout",
     "output_type": "stream",
     "text": [
      "skipping record wih invalid buffers in snapshot 580745, filename 2018-08-21--19-24-34--883 and camera [0.0, 2.0, 0.300000011920929]\n"
     ]
    },
    {
     "name": "stderr",
     "output_type": "stream",
     "text": [
      "\r",
      "                                                                               \r",
      "\r",
      " 73% 5174 |#########################################                |   2.6 B/s"
     ]
    },
    {
     "name": "stdout",
     "output_type": "stream",
     "text": [
      "skipping record wih invalid buffers in snapshot 580746, filename 2018-08-21--19-24-35--246 and camera [-0.800000011920929, 0.800000011920929, 0.400000005960464]\n"
     ]
    },
    {
     "name": "stderr",
     "output_type": "stream",
     "text": [
      " 79% 5609 |#############################################            |   2.6 B/s"
     ]
    },
    {
     "name": "stdout",
     "output_type": "stream",
     "text": [
      "skipping record wih invalid buffers in snapshot 581178, filename 2018-08-21--19-27-36--639 and camera [0.0, -2.29999995231628, 0.300000011920929]\n",
      "skipping record wih invalid buffers in snapshot 581179, filename 2018-08-21--19-27-36--989 and camera [0.800000011920929, 0.800000011920929, 0.400000005960464]\n",
      "skipping record wih invalid buffers in snapshot 581183, filename 2018-08-21--19-27-38--589 and camera [0.800000011920929, 0.800000011920929, 0.400000005960464]\n",
      "skipping record wih invalid buffers in snapshot 581182, filename 2018-08-21--19-27-38--219 and camera [0.0, -2.29999995231628, 0.300000011920929]\n",
      "skipping record wih invalid buffers in snapshot 581185, filename 2018-08-21--19-27-39--480 and camera [-0.800000011920929, 0.800000011920929, 0.400000005960464]\n",
      "skipping record wih invalid buffers in snapshot 581181, filename 2018-08-21--19-27-37--890 and camera [-0.800000011920929, 0.800000011920929, 0.400000005960464]\n",
      "skipping record wih invalid buffers in snapshot 581180, filename 2018-08-21--19-27-37--533 and camera [0.0, 2.0, 0.300000011920929]\n"
     ]
    },
    {
     "name": "stderr",
     "output_type": "stream",
     "text": [
      " 79% 5616 |#############################################            |   2.6 B/s"
     ]
    },
    {
     "name": "stdout",
     "output_type": "stream",
     "text": [
      "skipping record wih invalid buffers in snapshot 581186, filename 2018-08-21--19-27-39--800 and camera [0.0, -2.29999995231628, 0.300000011920929]\n",
      "skipping record wih invalid buffers in snapshot 581188, filename 2018-08-21--19-27-40--692 and camera [0.0, 2.0, 0.300000011920929]\n",
      "skipping record wih invalid buffers in snapshot 581190, filename 2018-08-21--19-27-41--353 and camera [0.0, -2.29999995231628, 0.300000011920929]\n",
      "skipping record wih invalid buffers in snapshot 581189, filename 2018-08-21--19-27-41--044 and camera [-0.800000011920929, 0.800000011920929, 0.400000005960464]\n",
      "skipping record wih invalid buffers in snapshot 581191, filename 2018-08-21--19-27-41--713 and camera [0.800000011920929, 0.800000011920929, 0.400000005960464]\n",
      "skipping record wih invalid buffers in snapshot 581187, filename 2018-08-21--19-27-40--162 and camera [0.800000011920929, 0.800000011920929, 0.400000005960464]\n"
     ]
    },
    {
     "name": "stderr",
     "output_type": "stream",
     "text": [
      "\r",
      "                                                                               \r",
      "\r",
      " 79% 5620 |#############################################            |   2.6 B/s"
     ]
    },
    {
     "name": "stdout",
     "output_type": "stream",
     "text": [
      "skipping record wih invalid buffers in snapshot 581193, filename 2018-08-21--19-27-42--953 and camera [-0.800000011920929, 0.800000011920929, 0.400000005960464]\n"
     ]
    },
    {
     "name": "stderr",
     "output_type": "stream",
     "text": [
      "\r",
      "                                                                               \r",
      "\r",
      " 79% 5621 |#############################################            |   2.6 B/s"
     ]
    },
    {
     "name": "stdout",
     "output_type": "stream",
     "text": [
      "skipping record wih invalid buffers in snapshot 581195, filename 2018-08-21--19-27-43--721 and camera [0.800000011920929, 0.800000011920929, 0.400000005960464]\n",
      "skipping record wih invalid buffers in snapshot 581194, filename 2018-08-21--19-27-43--310 and camera [0.0, -2.29999995231628, 0.300000011920929]\n"
     ]
    },
    {
     "name": "stderr",
     "output_type": "stream",
     "text": [
      "\r",
      "                                                                               \r",
      "\r",
      " 79% 5624 |#############################################            |   2.6 B/s"
     ]
    },
    {
     "name": "stdout",
     "output_type": "stream",
     "text": [
      "skipping record wih invalid buffers in snapshot 581198, filename 2018-08-21--19-27-44--931 and camera [0.0, -2.29999995231628, 0.300000011920929]\n",
      "skipping record wih invalid buffers in snapshot 581196, filename 2018-08-21--19-27-44--233 and camera [0.0, 2.0, 0.300000011920929]\n",
      "skipping record wih invalid buffers in snapshot 581197, filename 2018-08-21--19-27-44--597 and camera [-0.800000011920929, 0.800000011920929, 0.400000005960464]\n"
     ]
    },
    {
     "name": "stderr",
     "output_type": "stream",
     "text": [
      "\r",
      "                                                                               \r",
      "\r",
      " 79% 5627 |#############################################            |   2.6 B/s"
     ]
    },
    {
     "name": "stdout",
     "output_type": "stream",
     "text": [
      "skipping record wih invalid buffers in snapshot 581200, filename 2018-08-21--19-27-45--866 and camera [0.0, 2.0, 0.300000011920929]\n",
      "skipping record wih invalid buffers in snapshot 581199, filename 2018-08-21--19-27-45--293 and camera [0.800000011920929, 0.800000011920929, 0.400000005960464]\n"
     ]
    },
    {
     "name": "stderr",
     "output_type": "stream",
     "text": [
      "\r",
      "                                                                               \r",
      "\r",
      " 79% 5629 |#############################################            |   2.6 B/s"
     ]
    },
    {
     "name": "stdout",
     "output_type": "stream",
     "text": [
      "skipping record wih invalid buffers in snapshot 581202, filename 2018-08-21--19-27-46--591 and camera [0.0, -2.29999995231628, 0.300000011920929]\n",
      "skipping record wih invalid buffers in snapshot 581203, filename 2018-08-21--19-27-46--994 and camera [0.800000011920929, 0.800000011920929, 0.400000005960464]\n"
     ]
    },
    {
     "name": "stderr",
     "output_type": "stream",
     "text": [
      "\r",
      "                                                                               \r",
      "\r",
      " 79% 5631 |#############################################            |   2.6 B/s"
     ]
    },
    {
     "name": "stdout",
     "output_type": "stream",
     "text": [
      "skipping record wih invalid buffers in snapshot 581201, filename 2018-08-21--19-27-46--278 and camera [-0.800000011920929, 0.800000011920929, 0.400000005960464]\n"
     ]
    },
    {
     "name": "stderr",
     "output_type": "stream",
     "text": [
      " 84% 5985 |################################################         |   2.6 B/s"
     ]
    },
    {
     "name": "stdout",
     "output_type": "stream",
     "text": [
      "skipping record wih invalid buffers in snapshot 581562, filename 2018-08-21--19-30-15--568 and camera [-0.800000011920929, 0.800000011920929, 0.400000005960464]\n"
     ]
    },
    {
     "name": "stderr",
     "output_type": "stream",
     "text": [
      " 86% 6123 |#################################################        |   2.6 B/s"
     ]
    },
    {
     "name": "stdout",
     "output_type": "stream",
     "text": [
      "skipping record wih invalid buffers in snapshot 581695, filename 2018-08-21--19-31-11--927 and camera [0.0, 2.0, 0.300000011920929]\n"
     ]
    },
    {
     "name": "stderr",
     "output_type": "stream",
     "text": [
      "\r",
      "                                                                               \r",
      "\r",
      " 86% 6124 |#################################################        |   2.6 B/s"
     ]
    },
    {
     "name": "stdout",
     "output_type": "stream",
     "text": [
      "skipping record wih invalid buffers in snapshot 581696, filename 2018-08-21--19-31-12--361 and camera [-0.800000011920929, 0.800000011920929, 0.400000005960464]\n"
     ]
    },
    {
     "name": "stderr",
     "output_type": "stream",
     "text": [
      " 87% 6168 |#################################################        |   2.6 B/s"
     ]
    },
    {
     "name": "stdout",
     "output_type": "stream",
     "text": [
      "skipping record wih invalid buffers in snapshot 581745, filename 2018-08-21--19-31-32--308 and camera [0.0, -2.29999995231628, 0.300000011920929]\n"
     ]
    },
    {
     "name": "stderr",
     "output_type": "stream",
     "text": [
      " 87% 6174 |#################################################        |   2.6 B/s"
     ]
    },
    {
     "name": "stdout",
     "output_type": "stream",
     "text": [
      "skipping record wih invalid buffers in snapshot 581747, filename 2018-08-21--19-31-33--154 and camera [0.0, 2.0, 0.300000011920929]\n"
     ]
    },
    {
     "name": "stderr",
     "output_type": "stream",
     "text": [
      " 87% 6177 |#################################################        |   2.6 B/s"
     ]
    },
    {
     "name": "stdout",
     "output_type": "stream",
     "text": [
      "skipping record wih invalid buffers in snapshot 581746, filename 2018-08-21--19-31-32--680 and camera [0.800000011920929, 0.800000011920929, 0.400000005960464]\n",
      "skipping record wih invalid buffers in snapshot 581748, filename 2018-08-21--19-31-33--482 and camera [-0.800000011920929, 0.800000011920929, 0.400000005960464]\n",
      "skipping record wih invalid buffers in snapshot 581749, filename 2018-08-21--19-31-33--853 and camera [0.0, -2.29999995231628, 0.300000011920929]\n"
     ]
    },
    {
     "name": "stderr",
     "output_type": "stream",
     "text": [
      "\r",
      "                                                                               \r",
      "\r",
      " 87% 6178 |#################################################        |   2.6 B/s"
     ]
    },
    {
     "name": "stdout",
     "output_type": "stream",
     "text": [
      "skipping record wih invalid buffers in snapshot 581750, filename 2018-08-21--19-31-34--162 and camera [0.800000011920929, 0.800000011920929, 0.400000005960464]\n"
     ]
    },
    {
     "name": "stderr",
     "output_type": "stream",
     "text": [
      " 88% 6212 |##################################################       |   2.7 B/s"
     ]
    },
    {
     "name": "stdout",
     "output_type": "stream",
     "text": [
      "skipping record wih invalid buffers in snapshot 581788, filename 2018-08-21--19-31-50--101 and camera [-0.800000011920929, 0.800000011920929, 0.400000005960464]\n",
      "skipping record wih invalid buffers in snapshot 581789, filename 2018-08-21--19-31-50--458 and camera [0.0, -2.29999995231628, 0.300000011920929]\n"
     ]
    },
    {
     "name": "stderr",
     "output_type": "stream",
     "text": [
      "\r",
      "                                                                               \r",
      "\r",
      " 88% 6215 |##################################################       |   2.7 B/s"
     ]
    },
    {
     "name": "stdout",
     "output_type": "stream",
     "text": [
      "skipping record wih invalid buffers in snapshot 581790, filename 2018-08-21--19-31-50--773 and camera [0.800000011920929, 0.800000011920929, 0.400000005960464]\n"
     ]
    },
    {
     "name": "stderr",
     "output_type": "stream",
     "text": [
      " 88% 6220 |##################################################       |   2.7 B/s"
     ]
    },
    {
     "name": "stdout",
     "output_type": "stream",
     "text": [
      "skipping record wih invalid buffers in snapshot 581791, filename 2018-08-21--19-31-51--244 and camera [0.0, 2.0, 0.300000011920929]\n",
      "skipping record wih invalid buffers in snapshot 581794, filename 2018-08-21--19-31-52--399 and camera [0.800000011920929, 0.800000011920929, 0.400000005960464]\n"
     ]
    },
    {
     "name": "stderr",
     "output_type": "stream",
     "text": [
      "\r",
      "                                                                               \r",
      "\r",
      " 88% 6221 |##################################################       |   2.7 B/s"
     ]
    },
    {
     "name": "stdout",
     "output_type": "stream",
     "text": [
      "skipping record wih invalid buffers in snapshot 581792, filename 2018-08-21--19-31-51--691 and camera [-0.800000011920929, 0.800000011920929, 0.400000005960464]\n",
      "skipping record wih invalid buffers in snapshot 581793, filename 2018-08-21--19-31-52--075 and camera [0.0, -2.29999995231628, 0.300000011920929]\n"
     ]
    },
    {
     "name": "stderr",
     "output_type": "stream",
     "text": [
      "\r",
      "                                                                               \r",
      "\r",
      " 88% 6223 |##################################################       |   2.7 B/s"
     ]
    },
    {
     "name": "stdout",
     "output_type": "stream",
     "text": [
      "skipping record wih invalid buffers in snapshot 581795, filename 2018-08-21--19-31-52--948 and camera [0.0, 2.0, 0.300000011920929]\n"
     ]
    },
    {
     "name": "stderr",
     "output_type": "stream",
     "text": [
      " 88% 6226 |##################################################       |   2.7 B/s"
     ]
    },
    {
     "name": "stdout",
     "output_type": "stream",
     "text": [
      "skipping record wih invalid buffers in snapshot 581796, filename 2018-08-21--19-31-53--342 and camera [-0.800000011920929, 0.800000011920929, 0.400000005960464]\n",
      "skipping record wih invalid buffers in snapshot 581798, filename 2018-08-21--19-31-54--017 and camera [0.800000011920929, 0.800000011920929, 0.400000005960464]\n",
      "skipping record wih invalid buffers in snapshot 581797, filename 2018-08-21--19-31-53--668 and camera [0.0, -2.29999995231628, 0.300000011920929]\n"
     ]
    },
    {
     "name": "stderr",
     "output_type": "stream",
     "text": [
      "\r",
      "                                                                               \r",
      "\r",
      " 88% 6227 |##################################################       |   2.7 B/s"
     ]
    },
    {
     "name": "stdout",
     "output_type": "stream",
     "text": [
      "skipping record wih invalid buffers in snapshot 581800, filename 2018-08-21--19-31-54--894 and camera [-0.800000011920929, 0.800000011920929, 0.400000005960464]\n",
      "skipping record wih invalid buffers in snapshot 581799, filename 2018-08-21--19-31-54--549 and camera [0.0, 2.0, 0.300000011920929]\n"
     ]
    },
    {
     "name": "stderr",
     "output_type": "stream",
     "text": [
      " 88% 6231 |##################################################       |   2.7 B/s"
     ]
    },
    {
     "name": "stdout",
     "output_type": "stream",
     "text": [
      "skipping record wih invalid buffers in snapshot 581801, filename 2018-08-21--19-31-55--197 and camera [0.0, -2.29999995231628, 0.300000011920929]\n",
      "skipping record wih invalid buffers in snapshot 581802, filename 2018-08-21--19-31-55--562 and camera [0.800000011920929, 0.800000011920929, 0.400000005960464]\n",
      "skipping record wih invalid buffers in snapshot 581803, filename 2018-08-21--19-31-56--073 and camera [0.0, 2.0, 0.300000011920929]\n"
     ]
    },
    {
     "name": "stderr",
     "output_type": "stream",
     "text": [
      "\r",
      "                                                                               \r",
      "\r",
      " 88% 6232 |##################################################       |   2.7 B/s"
     ]
    },
    {
     "name": "stdout",
     "output_type": "stream",
     "text": [
      "skipping record wih invalid buffers in snapshot 581804, filename 2018-08-21--19-31-56--421 and camera [-0.800000011920929, 0.800000011920929, 0.400000005960464]\n"
     ]
    },
    {
     "name": "stderr",
     "output_type": "stream",
     "text": [
      "\r",
      "                                                                               \r",
      "\r",
      " 88% 6233 |##################################################       |   2.7 B/s"
     ]
    },
    {
     "name": "stdout",
     "output_type": "stream",
     "text": [
      "skipping record wih invalid buffers in snapshot 581805, filename 2018-08-21--19-31-56--746 and camera [0.0, -2.29999995231628, 0.300000011920929]\n",
      "skipping record wih invalid buffers in snapshot 581806, filename 2018-08-21--19-31-57--241 and camera [0.800000011920929, 0.800000011920929, 0.400000005960464]\n"
     ]
    },
    {
     "name": "stderr",
     "output_type": "stream",
     "text": [
      "\r",
      "                                                                               \r",
      "\r",
      " 88% 6235 |##################################################       |   2.7 B/s"
     ]
    },
    {
     "name": "stdout",
     "output_type": "stream",
     "text": [
      "skipping record wih invalid buffers in snapshot 581807, filename 2018-08-21--19-31-57--791 and camera [0.0, 2.0, 0.300000011920929]\n",
      "skipping record wih invalid buffers in snapshot 581808, filename 2018-08-21--19-31-58--151 and camera [-0.800000011920929, 0.800000011920929, 0.400000005960464]\n"
     ]
    },
    {
     "name": "stderr",
     "output_type": "stream",
     "text": [
      " 88% 6239 |##################################################       |   2.7 B/s"
     ]
    },
    {
     "name": "stdout",
     "output_type": "stream",
     "text": [
      "skipping record wih invalid buffers in snapshot 581812, filename 2018-08-21--19-31-59--668 and camera [-0.800000011920929, 0.800000011920929, 0.400000005960464]\n",
      "skipping record wih invalid buffers in snapshot 581809, filename 2018-08-21--19-31-58--463 and camera [0.0, -2.29999995231628, 0.300000011920929]\n",
      "skipping record wih invalid buffers in snapshot 581811, filename 2018-08-21--19-31-59--351 and camera [0.0, 2.0, 0.300000011920929]\n",
      "skipping record wih invalid buffers in snapshot 581810, filename 2018-08-21--19-31-58--823 and camera [0.800000011920929, 0.800000011920929, 0.400000005960464]\n"
     ]
    },
    {
     "name": "stderr",
     "output_type": "stream",
     "text": [
      "\r",
      "                                                                               \r",
      "\r",
      " 88% 6241 |##################################################       |   2.7 B/s"
     ]
    },
    {
     "name": "stdout",
     "output_type": "stream",
     "text": [
      "skipping record wih invalid buffers in snapshot 581813, filename 2018-08-21--19-32-00--032 and camera [0.0, -2.29999995231628, 0.300000011920929]\n",
      "skipping record wih invalid buffers in snapshot 581814, filename 2018-08-21--19-32-00--394 and camera [0.800000011920929, 0.800000011920929, 0.400000005960464]\n"
     ]
    },
    {
     "name": "stderr",
     "output_type": "stream",
     "text": [
      "\r",
      "                                                                               \r",
      "\r",
      " 88% 6243 |##################################################       |   2.7 B/s"
     ]
    },
    {
     "name": "stdout",
     "output_type": "stream",
     "text": [
      "skipping record wih invalid buffers in snapshot 581815, filename 2018-08-21--19-32-00--901 and camera [0.0, 2.0, 0.300000011920929]\n",
      "skipping record wih invalid buffers in snapshot 581816, filename 2018-08-21--19-32-01--235 and camera [-0.800000011920929, 0.800000011920929, 0.400000005960464]\n"
     ]
    },
    {
     "name": "stderr",
     "output_type": "stream",
     "text": [
      "\r",
      "                                                                               \r",
      "\r",
      " 88% 6245 |##################################################       |   2.7 B/s"
     ]
    },
    {
     "name": "stdout",
     "output_type": "stream",
     "text": [
      "skipping record wih invalid buffers in snapshot 581817, filename 2018-08-21--19-32-01--679 and camera [0.0, -2.29999995231628, 0.300000011920929]\n",
      "skipping record wih invalid buffers in snapshot 581819, filename 2018-08-21--19-32-02--515 and camera [0.0, 2.0, 0.300000011920929]\n",
      "skipping record wih invalid buffers in snapshot 581820, filename 2018-08-21--19-32-02--856 and camera [-0.800000011920929, 0.800000011920929, 0.400000005960464]\n",
      "skipping record wih invalid buffers in snapshot 581818, filename 2018-08-21--19-32-02--014 and camera [0.800000011920929, 0.800000011920929, 0.400000005960464]\n"
     ]
    },
    {
     "name": "stderr",
     "output_type": "stream",
     "text": [
      "\r",
      "                                                                               \r",
      "\r",
      " 88% 6249 |##################################################       |   2.7 B/s"
     ]
    },
    {
     "name": "stdout",
     "output_type": "stream",
     "text": [
      "skipping record wih invalid buffers in snapshot 581821, filename 2018-08-21--19-32-03--230 and camera [0.0, -2.29999995231628, 0.300000011920929]\n"
     ]
    },
    {
     "name": "stderr",
     "output_type": "stream",
     "text": [
      " 88% 6251 |##################################################       |   2.7 B/s"
     ]
    },
    {
     "name": "stdout",
     "output_type": "stream",
     "text": [
      "skipping record wih invalid buffers in snapshot 581822, filename 2018-08-21--19-32-03--536 and camera [0.800000011920929, 0.800000011920929, 0.400000005960464]\n",
      "skipping record wih invalid buffers in snapshot 581823, filename 2018-08-21--19-32-04--013 and camera [0.0, 2.0, 0.300000011920929]\n"
     ]
    },
    {
     "name": "stderr",
     "output_type": "stream",
     "text": [
      " 88% 6254 |##################################################       |   2.7 B/s"
     ]
    },
    {
     "name": "stdout",
     "output_type": "stream",
     "text": [
      "skipping record wih invalid buffers in snapshot 581828, filename 2018-08-21--19-32-05--858 and camera [-0.800000011920929, 0.800000011920929, 0.400000005960464]\n",
      "skipping record wih invalid buffers in snapshot 581825, filename 2018-08-21--19-32-04--678 and camera [0.0, -2.29999995231628, 0.300000011920929]\n",
      "skipping record wih invalid buffers in snapshot 581830, filename 2018-08-21--19-32-06--568 and camera [0.800000011920929, 0.800000011920929, 0.400000005960464]\n",
      "skipping record wih invalid buffers in snapshot 581829, filename 2018-08-21--19-32-06--218 and camera [0.0, -2.29999995231628, 0.300000011920929]\n",
      "skipping record wih invalid buffers in snapshot 581827, filename 2018-08-21--19-32-05--531 and camera [0.0, 2.0, 0.300000011920929]\n",
      "skipping record wih invalid buffers in snapshot 581826, filename 2018-08-21--19-32-05--058 and camera [0.800000011920929, 0.800000011920929, 0.400000005960464]\n"
     ]
    },
    {
     "name": "stderr",
     "output_type": "stream",
     "text": [
      "\r",
      "                                                                               \r",
      "\r",
      " 88% 6259 |##################################################       |   2.7 B/s"
     ]
    },
    {
     "name": "stdout",
     "output_type": "stream",
     "text": [
      "skipping record wih invalid buffers in snapshot 581831, filename 2018-08-21--19-32-07--047 and camera [0.0, 2.0, 0.300000011920929]\n"
     ]
    },
    {
     "name": "stderr",
     "output_type": "stream",
     "text": [
      " 88% 6264 |##################################################       |   2.7 B/s"
     ]
    },
    {
     "name": "stdout",
     "output_type": "stream",
     "text": [
      "skipping record wih invalid buffers in snapshot 581836, filename 2018-08-21--19-32-08--953 and camera [-0.800000011920929, 0.800000011920929, 0.400000005960464]skipping record wih invalid buffers in snapshot 581832, filename 2018-08-21--19-32-07--384 and camera [-0.800000011920929, 0.800000011920929, 0.400000005960464]\n",
      "\n",
      "skipping record wih invalid buffers in snapshot 581835, filename 2018-08-21--19-32-08--570 and camera [0.0, 2.0, 0.300000011920929]\n",
      "skipping record wih invalid buffers in snapshot 581834, filename 2018-08-21--19-32-08--080 and camera [0.800000011920929, 0.800000011920929, 0.400000005960464]\n",
      "skipping record wih invalid buffers in snapshot 581837, filename 2018-08-21--19-32-09--318 and camera [0.0, -2.29999995231628, 0.300000011920929]\n"
     ]
    },
    {
     "name": "stderr",
     "output_type": "stream",
     "text": [
      " 88% 6266 |##################################################       |   2.7 B/s"
     ]
    },
    {
     "name": "stdout",
     "output_type": "stream",
     "text": [
      "skipping record wih invalid buffers in snapshot 581839, filename 2018-08-21--19-32-10--179 and camera [0.0, 2.0, 0.300000011920929]\n",
      "skipping record wih invalid buffers in snapshot 581838, filename 2018-08-21--19-32-09--655 and camera [0.800000011920929, 0.800000011920929, 0.400000005960464]\n",
      "skipping record wih invalid buffers in snapshot 581833, filename 2018-08-21--19-32-07--765 and camera [0.0, -2.29999995231628, 0.300000011920929]\n"
     ]
    },
    {
     "name": "stderr",
     "output_type": "stream",
     "text": [
      " 88% 6269 |##################################################       |   2.7 B/s"
     ]
    },
    {
     "name": "stdout",
     "output_type": "stream",
     "text": [
      "skipping record wih invalid buffers in snapshot 581841, filename 2018-08-21--19-32-10--833 and camera [0.0, -2.29999995231628, 0.300000011920929]\n",
      "skipping record wih invalid buffers in snapshot 581843, filename 2018-08-21--19-32-11--715 and camera [0.0, 2.0, 0.300000011920929]\n"
     ]
    },
    {
     "name": "stderr",
     "output_type": "stream",
     "text": [
      "\r",
      "                                                                               \r",
      "\r",
      " 88% 6271 |##################################################       |   2.7 B/s"
     ]
    },
    {
     "name": "stdout",
     "output_type": "stream",
     "text": [
      "skipping record wih invalid buffers in snapshot 581840, filename 2018-08-21--19-32-10--494 and camera [-0.800000011920929, 0.800000011920929, 0.400000005960464]\n",
      "skipping record wih invalid buffers in snapshot 581842, filename 2018-08-21--19-32-11--193 and camera [0.800000011920929, 0.800000011920929, 0.400000005960464]\n",
      "skipping record wih invalid buffers in snapshot 581844, filename 2018-08-21--19-32-12--006 and camera [-0.800000011920929, 0.800000011920929, 0.400000005960464]\n"
     ]
    },
    {
     "name": "stderr",
     "output_type": "stream",
     "text": [
      "\r",
      "                                                                               \r",
      "\r",
      " 88% 6273 |##################################################       |   2.7 B/s"
     ]
    },
    {
     "name": "stdout",
     "output_type": "stream",
     "text": [
      "skipping record wih invalid buffers in snapshot 581845, filename 2018-08-21--19-32-12--407 and camera [0.0, -2.29999995231628, 0.300000011920929]\n",
      "skipping record wih invalid buffers in snapshot 581847, filename 2018-08-21--19-32-13--263 and camera [0.0, 2.0, 0.300000011920929]\n",
      "skipping record wih invalid buffers in snapshot 581846, filename 2018-08-21--19-32-12--773 and camera [0.800000011920929, 0.800000011920929, 0.400000005960464]\n"
     ]
    },
    {
     "name": "stderr",
     "output_type": "stream",
     "text": [
      " 88% 6279 |##################################################       |   2.7 B/s"
     ]
    },
    {
     "name": "stdout",
     "output_type": "stream",
     "text": [
      "skipping record wih invalid buffers in snapshot 581853, filename 2018-08-21--19-32-15--483 and camera [0.0, -2.29999995231628, 0.300000011920929]\n",
      "skipping record wih invalid buffers in snapshot 581849, filename 2018-08-21--19-32-13--962 and camera [0.0, -2.29999995231628, 0.300000011920929]\n",
      "skipping record wih invalid buffers in snapshot 581848, filename 2018-08-21--19-32-13--589 and camera [-0.800000011920929, 0.800000011920929, 0.400000005960464]\n",
      "skipping record wih invalid buffers in snapshot 581851, filename 2018-08-21--19-32-14--807 and camera [0.0, 2.0, 0.300000011920929]\n"
     ]
    },
    {
     "name": "stderr",
     "output_type": "stream",
     "text": [
      " 89% 6283 |##################################################       |   2.7 B/s"
     ]
    },
    {
     "name": "stdout",
     "output_type": "stream",
     "text": [
      "skipping record wih invalid buffers in snapshot 581855, filename 2018-08-21--19-32-16--339 and camera [0.0, 2.0, 0.300000011920929]\n",
      "skipping record wih invalid buffers in snapshot 581850, filename 2018-08-21--19-32-14--339 and camera [0.800000011920929, 0.800000011920929, 0.400000005960464]\n",
      "skipping record wih invalid buffers in snapshot 581854, filename 2018-08-21--19-32-15--836 and camera [0.800000011920929, 0.800000011920929, 0.400000005960464]\n",
      "skipping record wih invalid buffers in snapshot 581852, filename 2018-08-21--19-32-15--157 and camera [-0.800000011920929, 0.800000011920929, 0.400000005960464]\n"
     ]
    },
    {
     "name": "stderr",
     "output_type": "stream",
     "text": [
      " 89% 6285 |##################################################       |   2.7 B/s"
     ]
    },
    {
     "name": "stdout",
     "output_type": "stream",
     "text": [
      "skipping record wih invalid buffers in snapshot 581857, filename 2018-08-21--19-32-16--985 and camera [0.0, -2.29999995231628, 0.300000011920929]\n",
      "skipping record wih invalid buffers in snapshot 581856, filename 2018-08-21--19-32-16--676 and camera [-0.800000011920929, 0.800000011920929, 0.400000005960464]\n",
      "skipping record wih invalid buffers in snapshot 581859, filename 2018-08-21--19-32-17--869 and camera [0.0, 2.0, 0.300000011920929]\n"
     ]
    },
    {
     "name": "stderr",
     "output_type": "stream",
     "text": [
      "\r",
      "                                                                               \r",
      "\r",
      " 89% 6289 |##################################################       |   2.7 B/s"
     ]
    },
    {
     "name": "stdout",
     "output_type": "stream",
     "text": [
      "skipping record wih invalid buffers in snapshot 581860, filename 2018-08-21--19-32-18--211 and camera [-0.800000011920929, 0.800000011920929, 0.400000005960464]\n",
      "skipping record wih invalid buffers in snapshot 581858, filename 2018-08-21--19-32-17--347 and camera [0.800000011920929, 0.800000011920929, 0.400000005960464]\n",
      "skipping record wih invalid buffers in snapshot 581862, filename 2018-08-21--19-32-18--878 and camera [0.800000011920929, 0.800000011920929, 0.400000005960464]\n",
      "skipping record wih invalid buffers in snapshot 581863, filename 2018-08-21--19-32-19--412 and camera [0.0, 2.0, 0.300000011920929]\n",
      "skipping record wih invalid buffers in snapshot 581861, filename 2018-08-21--19-32-18--527 and camera [0.0, -2.29999995231628, 0.300000011920929]\n"
     ]
    },
    {
     "name": "stderr",
     "output_type": "stream",
     "text": [
      " 89% 6294 |##################################################       |   2.7 B/s"
     ]
    },
    {
     "name": "stdout",
     "output_type": "stream",
     "text": [
      "skipping record wih invalid buffers in snapshot 581871, filename 2018-08-21--19-32-22--647 and camera [0.0, 2.0, 0.300000011920929]\n",
      "skipping record wih invalid buffers in snapshot 581865, filename 2018-08-21--19-32-20--097 and camera [0.0, -2.29999995231628, 0.300000011920929]\n",
      "skipping record wih invalid buffers in snapshot 581868, filename 2018-08-21--19-32-21--274 and camera [-0.800000011920929, 0.800000011920929, 0.400000005960464]\n",
      "skipping record wih invalid buffers in snapshot 581867, filename 2018-08-21--19-32-20--973 and camera [0.0, 2.0, 0.300000011920929]\n",
      "skipping record wih invalid buffers in snapshot 581869, filename 2018-08-21--19-32-21--615 and camera [0.0, -2.29999995231628, 0.300000011920929]\n"
     ]
    },
    {
     "name": "stderr",
     "output_type": "stream",
     "text": [
      "\r",
      "                                                                               \r",
      "\r",
      "                                                                               \r",
      "\r",
      " 89% 6298 |##################################################       |   2.7 B/s\r",
      " 89% 6298 |##################################################       |   2.7 B/s"
     ]
    },
    {
     "name": "stdout",
     "output_type": "stream",
     "text": [
      "skipping record wih invalid buffers in snapshot 581870, filename 2018-08-21--19-32-22--070 and camera [0.800000011920929, 0.800000011920929, 0.400000005960464]\n",
      "skipping record wih invalid buffers in snapshot 581866, filename 2018-08-21--19-32-20--457 and camera [0.800000011920929, 0.800000011920929, 0.400000005960464]\n"
     ]
    },
    {
     "name": "stderr",
     "output_type": "stream",
     "text": [
      " 89% 6300 |##################################################       |   2.7 B/s"
     ]
    },
    {
     "name": "stdout",
     "output_type": "stream",
     "text": [
      "skipping record wih invalid buffers in snapshot 581873, filename 2018-08-21--19-32-23--333 and camera [0.0, -2.29999995231628, 0.300000011920929]\n",
      "skipping record wih invalid buffers in snapshot 581872, filename 2018-08-21--19-32-22--974 and camera [-0.800000011920929, 0.800000011920929, 0.400000005960464]\n"
     ]
    },
    {
     "name": "stderr",
     "output_type": "stream",
     "text": [
      "\r",
      "                                                                               \r",
      "\r",
      " 89% 6302 |##################################################       |   2.7 B/s"
     ]
    },
    {
     "name": "stdout",
     "output_type": "stream",
     "text": [
      "skipping record wih invalid buffers in snapshot 581877, filename 2018-08-21--19-32-24--949 and camera [0.0, -2.29999995231628, 0.300000011920929]\n",
      "skipping record wih invalid buffers in snapshot 581875, filename 2018-08-21--19-32-24--175 and camera [0.0, 2.0, 0.300000011920929]\n",
      "skipping record wih invalid buffers in snapshot 581874, filename 2018-08-21--19-32-23--705 and camera [0.800000011920929, 0.800000011920929, 0.400000005960464]\n",
      "skipping record wih invalid buffers in snapshot 581876, filename 2018-08-21--19-32-24--515 and camera [-0.800000011920929, 0.800000011920929, 0.400000005960464]\n"
     ]
    },
    {
     "name": "stderr",
     "output_type": "stream",
     "text": [
      "\r",
      "                                                                               \r",
      "\r",
      " 89% 6306 |##################################################       |   2.7 B/s"
     ]
    },
    {
     "name": "stdout",
     "output_type": "stream",
     "text": [
      "skipping record wih invalid buffers in snapshot 581878, filename 2018-08-21--19-32-25--267 and camera [0.800000011920929, 0.800000011920929, 0.400000005960464]\n"
     ]
    },
    {
     "name": "stderr",
     "output_type": "stream",
     "text": [
      "\r",
      "                                                                               \r",
      "\r",
      " 89% 6307 |##################################################       |   2.7 B/s"
     ]
    },
    {
     "name": "stdout",
     "output_type": "stream",
     "text": [
      "skipping record wih invalid buffers in snapshot 581879, filename 2018-08-21--19-32-25--776 and camera [0.0, 2.0, 0.300000011920929]\n"
     ]
    },
    {
     "name": "stderr",
     "output_type": "stream",
     "text": [
      " 89% 6309 |##################################################       |   2.7 B/s"
     ]
    },
    {
     "name": "stdout",
     "output_type": "stream",
     "text": [
      "skipping record wih invalid buffers in snapshot 581880, filename 2018-08-21--19-32-26--121 and camera [-0.800000011920929, 0.800000011920929, 0.400000005960464]\n",
      "skipping record wih invalid buffers in snapshot 581881, filename 2018-08-21--19-32-26--447 and camera [0.0, -2.29999995231628, 0.300000011920929]\n",
      "skipping record wih invalid buffers in snapshot 581882, filename 2018-08-21--19-32-26--825 and camera [0.800000011920929, 0.800000011920929, 0.400000005960464]\n",
      "skipping record wih invalid buffers in snapshot 581883, filename 2018-08-21--19-32-27--340 and camera [0.0, 2.0, 0.300000011920929]\n",
      "skipping record wih invalid buffers in snapshot 581885, filename 2018-08-21--19-32-28--020 and camera [0.0, -2.29999995231628, 0.300000011920929]\n"
     ]
    },
    {
     "name": "stderr",
     "output_type": "stream",
     "text": [
      "\r",
      "                                                                               \r",
      "\r",
      " 89% 6313 |##################################################       |   2.7 B/s"
     ]
    },
    {
     "name": "stdout",
     "output_type": "stream",
     "text": [
      "skipping record wih invalid buffers in snapshot 581886, filename 2018-08-21--19-32-28--424 and camera [0.800000011920929, 0.800000011920929, 0.400000005960464]\n",
      "skipping record wih invalid buffers in snapshot 581884, filename 2018-08-21--19-32-27--683 and camera [-0.800000011920929, 0.800000011920929, 0.400000005960464]\n"
     ]
    },
    {
     "name": "stderr",
     "output_type": "stream",
     "text": [
      "\r",
      "                                                                               \r",
      "\r",
      " 89% 6315 |##################################################       |   2.7 B/s"
     ]
    },
    {
     "name": "stdout",
     "output_type": "stream",
     "text": [
      "skipping record wih invalid buffers in snapshot 581887, filename 2018-08-21--19-32-29--003 and camera [0.0, 2.0, 0.300000011920929]\n"
     ]
    },
    {
     "name": "stderr",
     "output_type": "stream",
     "text": [
      " 89% 6317 |###################################################      |   2.7 B/s"
     ]
    },
    {
     "name": "stdout",
     "output_type": "stream",
     "text": [
      "skipping record wih invalid buffers in snapshot 581889, filename 2018-08-21--19-32-29--788 and camera [0.0, -2.29999995231628, 0.300000011920929]\n",
      "skipping record wih invalid buffers in snapshot 581888, filename 2018-08-21--19-32-29--316 and camera [-0.800000011920929, 0.800000011920929, 0.400000005960464]\n",
      "skipping record wih invalid buffers in snapshot 581890, filename 2018-08-21--19-32-30--154 and camera [0.800000011920929, 0.800000011920929, 0.400000005960464]\n"
     ]
    },
    {
     "name": "stderr",
     "output_type": "stream",
     "text": [
      " 90% 6412 |###################################################      |   2.7 B/s"
     ]
    },
    {
     "name": "stdout",
     "output_type": "stream",
     "text": [
      "skipping record wih invalid buffers in snapshot 581990, filename 2018-08-21--19-33-10--706 and camera [0.0, 2.0, 0.300000011920929]\n"
     ]
    },
    {
     "name": "stderr",
     "output_type": "stream",
     "text": [
      " 90% 6416 |###################################################      |   2.7 B/s"
     ]
    },
    {
     "name": "stdout",
     "output_type": "stream",
     "text": [
      "skipping record wih invalid buffers in snapshot 581989, filename 2018-08-21--19-33-10--257 and camera [0.800000011920929, 0.800000011920929, 0.400000005960464]\n",
      "skipping record wih invalid buffers in snapshot 581987, filename 2018-08-21--19-33-09--559 and camera [-0.800000011920929, 0.800000011920929, 0.400000005960464]\n",
      "skipping record wih invalid buffers in snapshot 581988, filename 2018-08-21--19-33-09--894 and camera [0.0, -2.29999995231628, 0.300000011920929]\n",
      "skipping record wih invalid buffers in snapshot 581991, filename 2018-08-21--19-33-11--014 and camera [-0.800000011920929, 0.800000011920929, 0.400000005960464]\n"
     ]
    },
    {
     "name": "stderr",
     "output_type": "stream",
     "text": [
      " 90% 6420 |###################################################      |   2.7 B/s"
     ]
    },
    {
     "name": "stdout",
     "output_type": "stream",
     "text": [
      "skipping record wih invalid buffers in snapshot 581992, filename 2018-08-21--19-33-11--341 and camera [0.0, -2.29999995231628, 0.300000011920929]\n"
     ]
    },
    {
     "name": "stderr",
     "output_type": "stream",
     "text": [
      " 90% 6422 |###################################################      |   2.7 B/s"
     ]
    },
    {
     "name": "stdout",
     "output_type": "stream",
     "text": [
      "skipping record wih invalid buffers in snapshot 581993, filename 2018-08-21--19-33-11--656 and camera [0.800000011920929, 0.800000011920929, 0.400000005960464]\n",
      "skipping record wih invalid buffers in snapshot 581994, filename 2018-08-21--19-33-12--141 and camera [0.0, 2.0, 0.300000011920929]\n",
      "skipping record wih invalid buffers in snapshot 581995, filename 2018-08-21--19-33-12--499 and camera [-0.800000011920929, 0.800000011920929, 0.400000005960464]\n"
     ]
    },
    {
     "name": "stderr",
     "output_type": "stream",
     "text": [
      "\r",
      "                                                                               \r",
      "\r",
      " 91% 6425 |###################################################      |   2.7 B/s"
     ]
    },
    {
     "name": "stdout",
     "output_type": "stream",
     "text": [
      "skipping record wih invalid buffers in snapshot 581996, filename 2018-08-21--19-33-12--801 and camera [0.0, -2.29999995231628, 0.300000011920929]\n",
      "skipping record wih invalid buffers in snapshot 581997, filename 2018-08-21--19-33-13--195 and camera [0.800000011920929, 0.800000011920929, 0.400000005960464]\n"
     ]
    },
    {
     "name": "stderr",
     "output_type": "stream",
     "text": [
      "\r",
      "                                                                               \r",
      "\r",
      " 91% 6426 |###################################################      |   2.7 B/s"
     ]
    },
    {
     "name": "stdout",
     "output_type": "stream",
     "text": [
      "skipping record wih invalid buffers in snapshot 581999, filename 2018-08-21--19-33-14--032 and camera [-0.800000011920929, 0.800000011920929, 0.400000005960464]\n",
      "skipping record wih invalid buffers in snapshot 581998, filename 2018-08-21--19-33-13--702 and camera [0.0, 2.0, 0.300000011920929]\n"
     ]
    },
    {
     "name": "stderr",
     "output_type": "stream",
     "text": [
      "\r",
      "                                                                               \r",
      "\r",
      " 91% 6428 |###################################################      |   2.7 B/s"
     ]
    },
    {
     "name": "stdout",
     "output_type": "stream",
     "text": [
      "skipping record wih invalid buffers in snapshot 582000, filename 2018-08-21--19-33-14--343 and camera [0.0, -2.29999995231628, 0.300000011920929]\n"
     ]
    },
    {
     "name": "stderr",
     "output_type": "stream",
     "text": [
      "\r",
      "                                                                               \r",
      "\r",
      " 91% 6429 |###################################################      |   2.7 B/s"
     ]
    },
    {
     "name": "stdout",
     "output_type": "stream",
     "text": [
      "skipping record wih invalid buffers in snapshot 582002, filename 2018-08-21--19-33-15--204 and camera [0.0, 2.0, 0.300000011920929]\n",
      "skipping record wih invalid buffers in snapshot 582001, filename 2018-08-21--19-33-14--694 and camera [0.800000011920929, 0.800000011920929, 0.400000005960464]\n"
     ]
    },
    {
     "name": "stderr",
     "output_type": "stream",
     "text": [
      " 93% 6631 |#####################################################    |   2.7 B/s"
     ]
    },
    {
     "name": "stdout",
     "output_type": "stream",
     "text": [
      "skipping record wih invalid buffers in snapshot 582210, filename 2018-08-21--19-34-36--499 and camera [0.0, 2.0, 0.300000011920929]\n",
      "skipping record wih invalid buffers in snapshot 582209, filename 2018-08-21--19-34-36--006 and camera [0.800000011920929, 0.800000011920929, 0.400000005960464]\n",
      "skipping record wih invalid buffers in snapshot 582208, filename 2018-08-21--19-34-35--661 and camera [0.0, -2.29999995231628, 0.300000011920929]\n"
     ]
    },
    {
     "name": "stderr",
     "output_type": "stream",
     "text": [
      " 94% 6641 |#####################################################    |   2.7 B/s"
     ]
    },
    {
     "name": "stdout",
     "output_type": "stream",
     "text": [
      "skipping record wih invalid buffers in snapshot 582213, filename 2018-08-21--19-34-37--441 and camera [0.800000011920929, 0.800000011920929, 0.400000005960464]\n",
      "skipping record wih invalid buffers in snapshot 582212, filename 2018-08-21--19-34-37--090 and camera [0.0, -2.29999995231628, 0.300000011920929]\n",
      "skipping record wih invalid buffers in snapshot 582211, filename 2018-08-21--19-34-36--773 and camera [-0.800000011920929, 0.800000011920929, 0.400000005960464]\n",
      "skipping record wih invalid buffers in snapshot 582217, filename 2018-08-21--19-34-38--874 and camera [0.800000011920929, 0.800000011920929, 0.400000005960464]\n",
      "skipping record wih invalid buffers in snapshot 582216, filename 2018-08-21--19-34-38--586 and camera [0.0, -2.29999995231628, 0.300000011920929]\n",
      "skipping record wih invalid buffers in snapshot 582215, filename 2018-08-21--19-34-38--243 and camera [-0.800000011920929, 0.800000011920929, 0.400000005960464]skipping record wih invalid buffers in snapshot 582214, filename 2018-08-21--19-34-37--902 and camera [0.0, 2.0, 0.300000011920929]\n",
      "\n",
      "skipping record wih invalid buffers in snapshot 582218, filename 2018-08-21--19-34-39--349 and camera [0.0, 2.0, 0.300000011920929]\n"
     ]
    },
    {
     "name": "stderr",
     "output_type": "stream",
     "text": [
      "\r",
      "                                                                               \r",
      "\r",
      " 94% 6647 |#####################################################    |   2.7 B/s"
     ]
    },
    {
     "name": "stdout",
     "output_type": "stream",
     "text": [
      "skipping record wih invalid buffers in snapshot 582219, filename 2018-08-21--19-34-39--663 and camera [-0.800000011920929, 0.800000011920929, 0.400000005960464]\n"
     ]
    },
    {
     "name": "stderr",
     "output_type": "stream",
     "text": [
      " 94% 6667 |#####################################################    |   2.7 B/s"
     ]
    },
    {
     "name": "stdout",
     "output_type": "stream",
     "text": [
      "skipping record wih invalid buffers in snapshot 582239, filename 2018-08-21--19-34-47--744 and camera [-0.800000011920929, 0.800000011920929, 0.400000005960464]\n",
      "skipping record wih invalid buffers in snapshot 582240, filename 2018-08-21--19-34-48--115 and camera [0.0, -2.29999995231628, 0.300000011920929]\n",
      "skipping record wih invalid buffers in snapshot 582241, filename 2018-08-21--19-34-48--455 and camera [0.800000011920929, 0.800000011920929, 0.400000005960464]\n",
      "skipping record wih invalid buffers in snapshot 582242, filename 2018-08-21--19-34-48--940 and camera [0.0, 2.0, 0.300000011920929]\n"
     ]
    },
    {
     "name": "stderr",
     "output_type": "stream",
     "text": [
      " 94% 6671 |#####################################################    |   2.7 B/s"
     ]
    },
    {
     "name": "stdout",
     "output_type": "stream",
     "text": [
      "skipping record wih invalid buffers in snapshot 582243, filename 2018-08-21--19-34-49--277 and camera [-0.800000011920929, 0.800000011920929, 0.400000005960464]\n"
     ]
    },
    {
     "name": "stderr",
     "output_type": "stream",
     "text": [
      "\r",
      "                                                                               \r",
      "\r",
      " 94% 6672 |#####################################################    |   2.7 B/s"
     ]
    },
    {
     "name": "stdout",
     "output_type": "stream",
     "text": [
      "skipping record wih invalid buffers in snapshot 582244, filename 2018-08-21--19-34-49--612 and camera [0.0, -2.29999995231628, 0.300000011920929]\n"
     ]
    },
    {
     "name": "stderr",
     "output_type": "stream",
     "text": [
      " 99% 7050 |######################################################## |   2.7 B/s"
     ]
    }
   ],
   "source": [
    "workers = 8\n",
    "\n",
    "widgets = [progressbar.Percentage(), ' ', progressbar.Counter(), ' ', progressbar.Bar(), ' ',\n",
    "           progressbar.FileTransferSpeed()]\n",
    "\n",
    "pbar = progressbar.ProgressBar(widgets=widgets, maxval=len(results)).start()\n",
    "counter = 0\n",
    "\n",
    "Parallel(n_jobs=workers, backend='threading')(delayed(try_dump_snapshot_to_dataset)(in_directory, get_out_directory(out_directory, i, directory_per_camera), i, run_id, include_entities) for i in results)\n",
    "print('done')"
   ]
  },
  {
   "cell_type": "markdown",
   "metadata": {},
   "source": [
    "### copying to linux into datagrid dir"
   ]
  },
  {
   "cell_type": "code",
   "execution_count": null,
   "metadata": {
    "scrolled": true
   },
   "outputs": [
    {
     "name": "stderr",
     "output_type": "stream",
     "text": [
      "  8% 812 |#####                                                     |   2.0 B/s"
     ]
    }
   ],
   "source": [
    "def copy_file(in_path, out_path):\n",
    "    if os.path.exists(out_path):\n",
    "        return\n",
    "    copyfile(in_path, out_path)\n",
    "\n",
    "def copy_files(in_dir, out_dir, name):\n",
    "    if 'pbar' in globals() and 'counter' in globals():\n",
    "        global counter\n",
    "        counter += 1\n",
    "        pbar.update(counter)\n",
    "\n",
    "    rgb_name = name+'.jpg'\n",
    "    json_name = name+'.json'\n",
    "    depth_name = name+'-depth.png'\n",
    "    stencil_name = name+'-stencil.png'\n",
    "    \n",
    "    copyfile(os.path.join(in_dir, rgb_name), os.path.join(out_dir, rgb_name))\n",
    "    copyfile(os.path.join(in_dir, json_name), os.path.join(out_dir, json_name))\n",
    "    copyfile(os.path.join(in_dir, depth_name), os.path.join(out_dir, depth_name))\n",
    "    copyfile(os.path.join(in_dir, stencil_name), os.path.join(out_dir, stencil_name))\n",
    "\n",
    "workers = 8\n",
    "\n",
    "windows_in_directory = r'D:\\output-datasets\\offroad-6'\n",
    "linux_out_directory = r'Z:\\offroad-6'\n",
    "\n",
    "if not os.path.exists(linux_out_directory):\n",
    "    os.makedirs(linux_out_directory)\n",
    "\n",
    "widgets = [progressbar.Percentage(), ' ', progressbar.Counter(), ' ', progressbar.Bar(), ' ',\n",
    "           progressbar.FileTransferSpeed()]\n",
    "\n",
    "pbar = progressbar.ProgressBar(widgets=widgets, max_value=len(results)).start()\n",
    "counter = 0\n",
    "\n",
    "Parallel(n_jobs=workers, backend='threading')(\n",
    "    delayed(copy_files)(windows_in_directory, linux_out_directory, i['imagepath']) for i in results)\n"
   ]
  },
  {
   "cell_type": "markdown",
   "metadata": {},
   "source": [
    "### copying original tiffs to linux into datagrid dir, only one run from database"
   ]
  },
  {
   "cell_type": "code",
   "execution_count": 42,
   "metadata": {},
   "outputs": [
    {
     "name": "stderr",
     "output_type": "stream",
     "text": [
      "  0% 42 |                                                           |   0.7 B/s"
     ]
    },
    {
     "ename": "KeyboardInterrupt",
     "evalue": "",
     "output_type": "error",
     "traceback": [
      "\u001b[1;31m---------------------------------------------------------------------------\u001b[0m",
      "\u001b[1;31mKeyboardInterrupt\u001b[0m                         Traceback (most recent call last)",
      "\u001b[1;32m<ipython-input-42-505770c9802e>\u001b[0m in \u001b[0;36m<module>\u001b[1;34m()\u001b[0m\n\u001b[0;32m     29\u001b[0m \u001b[1;33m\u001b[0m\u001b[0m\n\u001b[0;32m     30\u001b[0m Parallel(n_jobs=workers, backend='threading')(\n\u001b[1;32m---> 31\u001b[1;33m     delayed(copy_files)(in_directory, out_directory, i['imagepath']) for i in results)\n\u001b[0m",
      "\u001b[1;32mC:\\ProgramData\\Anaconda3\\lib\\site-packages\\joblib\\parallel.py\u001b[0m in \u001b[0;36m__call__\u001b[1;34m(self, iterable)\u001b[0m\n\u001b[0;32m    787\u001b[0m                 \u001b[1;31m# consumption.\u001b[0m\u001b[1;33m\u001b[0m\u001b[1;33m\u001b[0m\u001b[0m\n\u001b[0;32m    788\u001b[0m                 \u001b[0mself\u001b[0m\u001b[1;33m.\u001b[0m\u001b[0m_iterating\u001b[0m \u001b[1;33m=\u001b[0m \u001b[1;32mFalse\u001b[0m\u001b[1;33m\u001b[0m\u001b[0m\n\u001b[1;32m--> 789\u001b[1;33m             \u001b[0mself\u001b[0m\u001b[1;33m.\u001b[0m\u001b[0mretrieve\u001b[0m\u001b[1;33m(\u001b[0m\u001b[1;33m)\u001b[0m\u001b[1;33m\u001b[0m\u001b[0m\n\u001b[0m\u001b[0;32m    790\u001b[0m             \u001b[1;31m# Make sure that we get a last message telling us we are done\u001b[0m\u001b[1;33m\u001b[0m\u001b[1;33m\u001b[0m\u001b[0m\n\u001b[0;32m    791\u001b[0m             \u001b[0melapsed_time\u001b[0m \u001b[1;33m=\u001b[0m \u001b[0mtime\u001b[0m\u001b[1;33m.\u001b[0m\u001b[0mtime\u001b[0m\u001b[1;33m(\u001b[0m\u001b[1;33m)\u001b[0m \u001b[1;33m-\u001b[0m \u001b[0mself\u001b[0m\u001b[1;33m.\u001b[0m\u001b[0m_start_time\u001b[0m\u001b[1;33m\u001b[0m\u001b[0m\n",
      "\u001b[1;32mC:\\ProgramData\\Anaconda3\\lib\\site-packages\\joblib\\parallel.py\u001b[0m in \u001b[0;36mretrieve\u001b[1;34m(self)\u001b[0m\n\u001b[0;32m    697\u001b[0m             \u001b[1;32mtry\u001b[0m\u001b[1;33m:\u001b[0m\u001b[1;33m\u001b[0m\u001b[0m\n\u001b[0;32m    698\u001b[0m                 \u001b[1;32mif\u001b[0m \u001b[0mgetattr\u001b[0m\u001b[1;33m(\u001b[0m\u001b[0mself\u001b[0m\u001b[1;33m.\u001b[0m\u001b[0m_backend\u001b[0m\u001b[1;33m,\u001b[0m \u001b[1;34m'supports_timeout'\u001b[0m\u001b[1;33m,\u001b[0m \u001b[1;32mFalse\u001b[0m\u001b[1;33m)\u001b[0m\u001b[1;33m:\u001b[0m\u001b[1;33m\u001b[0m\u001b[0m\n\u001b[1;32m--> 699\u001b[1;33m                     \u001b[0mself\u001b[0m\u001b[1;33m.\u001b[0m\u001b[0m_output\u001b[0m\u001b[1;33m.\u001b[0m\u001b[0mextend\u001b[0m\u001b[1;33m(\u001b[0m\u001b[0mjob\u001b[0m\u001b[1;33m.\u001b[0m\u001b[0mget\u001b[0m\u001b[1;33m(\u001b[0m\u001b[0mtimeout\u001b[0m\u001b[1;33m=\u001b[0m\u001b[0mself\u001b[0m\u001b[1;33m.\u001b[0m\u001b[0mtimeout\u001b[0m\u001b[1;33m)\u001b[0m\u001b[1;33m)\u001b[0m\u001b[1;33m\u001b[0m\u001b[0m\n\u001b[0m\u001b[0;32m    700\u001b[0m                 \u001b[1;32melse\u001b[0m\u001b[1;33m:\u001b[0m\u001b[1;33m\u001b[0m\u001b[0m\n\u001b[0;32m    701\u001b[0m                     \u001b[0mself\u001b[0m\u001b[1;33m.\u001b[0m\u001b[0m_output\u001b[0m\u001b[1;33m.\u001b[0m\u001b[0mextend\u001b[0m\u001b[1;33m(\u001b[0m\u001b[0mjob\u001b[0m\u001b[1;33m.\u001b[0m\u001b[0mget\u001b[0m\u001b[1;33m(\u001b[0m\u001b[1;33m)\u001b[0m\u001b[1;33m)\u001b[0m\u001b[1;33m\u001b[0m\u001b[0m\n",
      "\u001b[1;32mC:\\ProgramData\\Anaconda3\\lib\\multiprocessing\\pool.py\u001b[0m in \u001b[0;36mget\u001b[1;34m(self, timeout)\u001b[0m\n\u001b[0;32m    636\u001b[0m \u001b[1;33m\u001b[0m\u001b[0m\n\u001b[0;32m    637\u001b[0m     \u001b[1;32mdef\u001b[0m \u001b[0mget\u001b[0m\u001b[1;33m(\u001b[0m\u001b[0mself\u001b[0m\u001b[1;33m,\u001b[0m \u001b[0mtimeout\u001b[0m\u001b[1;33m=\u001b[0m\u001b[1;32mNone\u001b[0m\u001b[1;33m)\u001b[0m\u001b[1;33m:\u001b[0m\u001b[1;33m\u001b[0m\u001b[0m\n\u001b[1;32m--> 638\u001b[1;33m         \u001b[0mself\u001b[0m\u001b[1;33m.\u001b[0m\u001b[0mwait\u001b[0m\u001b[1;33m(\u001b[0m\u001b[0mtimeout\u001b[0m\u001b[1;33m)\u001b[0m\u001b[1;33m\u001b[0m\u001b[0m\n\u001b[0m\u001b[0;32m    639\u001b[0m         \u001b[1;32mif\u001b[0m \u001b[1;32mnot\u001b[0m \u001b[0mself\u001b[0m\u001b[1;33m.\u001b[0m\u001b[0mready\u001b[0m\u001b[1;33m(\u001b[0m\u001b[1;33m)\u001b[0m\u001b[1;33m:\u001b[0m\u001b[1;33m\u001b[0m\u001b[0m\n\u001b[0;32m    640\u001b[0m             \u001b[1;32mraise\u001b[0m \u001b[0mTimeoutError\u001b[0m\u001b[1;33m\u001b[0m\u001b[0m\n",
      "\u001b[1;32mC:\\ProgramData\\Anaconda3\\lib\\multiprocessing\\pool.py\u001b[0m in \u001b[0;36mwait\u001b[1;34m(self, timeout)\u001b[0m\n\u001b[0;32m    633\u001b[0m \u001b[1;33m\u001b[0m\u001b[0m\n\u001b[0;32m    634\u001b[0m     \u001b[1;32mdef\u001b[0m \u001b[0mwait\u001b[0m\u001b[1;33m(\u001b[0m\u001b[0mself\u001b[0m\u001b[1;33m,\u001b[0m \u001b[0mtimeout\u001b[0m\u001b[1;33m=\u001b[0m\u001b[1;32mNone\u001b[0m\u001b[1;33m)\u001b[0m\u001b[1;33m:\u001b[0m\u001b[1;33m\u001b[0m\u001b[0m\n\u001b[1;32m--> 635\u001b[1;33m         \u001b[0mself\u001b[0m\u001b[1;33m.\u001b[0m\u001b[0m_event\u001b[0m\u001b[1;33m.\u001b[0m\u001b[0mwait\u001b[0m\u001b[1;33m(\u001b[0m\u001b[0mtimeout\u001b[0m\u001b[1;33m)\u001b[0m\u001b[1;33m\u001b[0m\u001b[0m\n\u001b[0m\u001b[0;32m    636\u001b[0m \u001b[1;33m\u001b[0m\u001b[0m\n\u001b[0;32m    637\u001b[0m     \u001b[1;32mdef\u001b[0m \u001b[0mget\u001b[0m\u001b[1;33m(\u001b[0m\u001b[0mself\u001b[0m\u001b[1;33m,\u001b[0m \u001b[0mtimeout\u001b[0m\u001b[1;33m=\u001b[0m\u001b[1;32mNone\u001b[0m\u001b[1;33m)\u001b[0m\u001b[1;33m:\u001b[0m\u001b[1;33m\u001b[0m\u001b[0m\n",
      "\u001b[1;32mC:\\ProgramData\\Anaconda3\\lib\\threading.py\u001b[0m in \u001b[0;36mwait\u001b[1;34m(self, timeout)\u001b[0m\n\u001b[0;32m    549\u001b[0m             \u001b[0msignaled\u001b[0m \u001b[1;33m=\u001b[0m \u001b[0mself\u001b[0m\u001b[1;33m.\u001b[0m\u001b[0m_flag\u001b[0m\u001b[1;33m\u001b[0m\u001b[0m\n\u001b[0;32m    550\u001b[0m             \u001b[1;32mif\u001b[0m \u001b[1;32mnot\u001b[0m \u001b[0msignaled\u001b[0m\u001b[1;33m:\u001b[0m\u001b[1;33m\u001b[0m\u001b[0m\n\u001b[1;32m--> 551\u001b[1;33m                 \u001b[0msignaled\u001b[0m \u001b[1;33m=\u001b[0m \u001b[0mself\u001b[0m\u001b[1;33m.\u001b[0m\u001b[0m_cond\u001b[0m\u001b[1;33m.\u001b[0m\u001b[0mwait\u001b[0m\u001b[1;33m(\u001b[0m\u001b[0mtimeout\u001b[0m\u001b[1;33m)\u001b[0m\u001b[1;33m\u001b[0m\u001b[0m\n\u001b[0m\u001b[0;32m    552\u001b[0m             \u001b[1;32mreturn\u001b[0m \u001b[0msignaled\u001b[0m\u001b[1;33m\u001b[0m\u001b[0m\n\u001b[0;32m    553\u001b[0m \u001b[1;33m\u001b[0m\u001b[0m\n",
      "\u001b[1;32mC:\\ProgramData\\Anaconda3\\lib\\threading.py\u001b[0m in \u001b[0;36mwait\u001b[1;34m(self, timeout)\u001b[0m\n\u001b[0;32m    293\u001b[0m         \u001b[1;32mtry\u001b[0m\u001b[1;33m:\u001b[0m    \u001b[1;31m# restore state no matter what (e.g., KeyboardInterrupt)\u001b[0m\u001b[1;33m\u001b[0m\u001b[0m\n\u001b[0;32m    294\u001b[0m             \u001b[1;32mif\u001b[0m \u001b[0mtimeout\u001b[0m \u001b[1;32mis\u001b[0m \u001b[1;32mNone\u001b[0m\u001b[1;33m:\u001b[0m\u001b[1;33m\u001b[0m\u001b[0m\n\u001b[1;32m--> 295\u001b[1;33m                 \u001b[0mwaiter\u001b[0m\u001b[1;33m.\u001b[0m\u001b[0macquire\u001b[0m\u001b[1;33m(\u001b[0m\u001b[1;33m)\u001b[0m\u001b[1;33m\u001b[0m\u001b[0m\n\u001b[0m\u001b[0;32m    296\u001b[0m                 \u001b[0mgotit\u001b[0m \u001b[1;33m=\u001b[0m \u001b[1;32mTrue\u001b[0m\u001b[1;33m\u001b[0m\u001b[0m\n\u001b[0;32m    297\u001b[0m             \u001b[1;32melse\u001b[0m\u001b[1;33m:\u001b[0m\u001b[1;33m\u001b[0m\u001b[0m\n",
      "\u001b[1;31mKeyboardInterrupt\u001b[0m: "
     ]
    }
   ],
   "source": [
    "def copy_file(in_path, out_path):\n",
    "    if os.path.exists(out_path):\n",
    "        return\n",
    "    copyfile(in_path, out_path)\n",
    "\n",
    "def copy_files(in_dir, out_dir, name):\n",
    "    if 'pbar' in globals() and 'counter' in globals():\n",
    "        global counter\n",
    "        counter += 1\n",
    "        pbar.update(counter)\n",
    "\n",
    "    rgb_name = name+'.tiff'\n",
    "    depth_name = name+'-depth.tiff'\n",
    "    stencil_name = name+'-stencil.tiff'\n",
    "    \n",
    "    copyfile(os.path.join(in_dir, rgb_name), os.path.join(out_dir, rgb_name))\n",
    "    copyfile(os.path.join(in_dir, depth_name), os.path.join(out_dir, depth_name))\n",
    "    copyfile(os.path.join(in_dir, stencil_name), os.path.join(out_dir, stencil_name))\n",
    "\n",
    "workers = 8\n",
    "\n",
    "out_directory = r'Z:\\offroad-4-orig'\n",
    "widgets = [progressbar.Percentage(), ' ', progressbar.Counter(), ' ', progressbar.Bar(), ' ',\n",
    "           progressbar.FileTransferSpeed()]\n",
    "\n",
    "pbar = progressbar.ProgressBar(widgets=widgets, max_value=len(results)).start()\n",
    "counter = 0\n",
    "\n",
    "Parallel(n_jobs=workers, backend='threading')(\n",
    "    delayed(copy_files)(in_directory, out_directory, i['imagepath']) for i in results)\n"
   ]
  },
  {
   "cell_type": "markdown",
   "metadata": {},
   "source": [
    "### checking if all converted images are ok"
   ]
  },
  {
   "cell_type": "code",
   "execution_count": 10,
   "metadata": {},
   "outputs": [
    {
     "name": "stderr",
     "output_type": "stream",
     "text": [
      "  0% 15 |                                                           |   3.9 B/sC:\\ProgramData\\Anaconda3\\lib\\site-packages\\tifffile\\tifffile.py:2642: RuntimeWarning: py_decodelzw encountered unexpected end of stream\n",
      "  strip = decompress(strip)\n",
      " 13% 968 |#######                                                   |   3.9 B/sC:\\ProgramData\\Anaconda3\\lib\\site-packages\\tifffile\\tifffile.py:2577: UserWarning: unpack: string size must be a multiple of element size\n",
      "  warnings.warn(\"unpack: %s\" % e)\n",
      "100% 7250 |#########################################################|   4.4 B/s"
     ]
    },
    {
     "name": "stdout",
     "output_type": "stream",
     "text": [
      "done\n"
     ]
    }
   ],
   "source": [
    "def check_invalid_buffers(in_directory, out_directory, res, run_id, include_entities):\n",
    "    if 'pbar' in globals() and 'counter' in globals():\n",
    "        global counter\n",
    "        counter += 1\n",
    "        pbar.update(counter)\n",
    "    \n",
    "    # skip non-existing files in out_directory, so just check existence of some of 4 files\n",
    "    outfile = os.path.join(out_directory, '{}.json'.format(res['imagepath']))\n",
    "    if not os.path.exists(outfile):\n",
    "        return\n",
    "    \n",
    "    if discard_invalid_buffers and (not is_first_record_in_run(res, run_id)) and \\\n",
    "        are_buffers_same_as_previous(res):\n",
    "        print('found record wih invalid buffers in snapshot {}, filename {} and camera {}'\n",
    "              .format(res['snapshot_id'], res['imagepath'], res['camera_relative_position'].tolist()))\n",
    "        return\n",
    "\n",
    "\n",
    "workers = 8\n",
    "\n",
    "widgets = [progressbar.Percentage(), ' ', progressbar.Counter(), ' ', progressbar.Bar(), ' ',\n",
    "           progressbar.FileTransferSpeed()]\n",
    "\n",
    "pbar = progressbar.ProgressBar(widgets=widgets, maxval=len(results)).start()\n",
    "counter = 0\n",
    "\n",
    "Parallel(n_jobs=workers, backend='threading')(delayed(check_invalid_buffers)(in_directory, get_out_directory(out_directory, i, directory_per_camera), i, run_id, include_entities) for i in results)\n",
    "print('done')"
   ]
  },
  {
   "cell_type": "markdown",
   "metadata": {},
   "source": [
    "### dumping one snapshot, for testing"
   ]
  },
  {
   "cell_type": "code",
   "execution_count": null,
   "metadata": {
    "collapsed": true,
    "scrolled": false
   },
   "outputs": [],
   "source": [
    "dump_snapshot_to_dataset(in_directory, out_directory, results[0])\n"
   ]
  },
  {
   "cell_type": "code",
   "execution_count": null,
   "metadata": {
    "collapsed": true
   },
   "outputs": [],
   "source": [
    "im = np.array(Image.open(os.path.join(out_directory, results[0]['imagepath']+'-depth.png')))\n",
    "print(np.min(im))\n",
    "print(np.max(im))\n"
   ]
  },
  {
   "cell_type": "code",
   "execution_count": null,
   "metadata": {
    "collapsed": true
   },
   "outputs": [],
   "source": [
    "results[0]['snapshot_id']"
   ]
  },
  {
   "cell_type": "code",
   "execution_count": 64,
   "metadata": {},
   "outputs": [
    {
     "data": {
      "text/plain": [
       "{'cam_near_clip': 0.15,\n",
       " 'camera_fov': 90.0,\n",
       " 'camera_pos': array([ 2524.83105469,  3334.53613281,    53.38750458]),\n",
       " 'camera_relative_position': array([-0.06      ,  1.5       ,  1.07649994]),\n",
       " 'camera_relative_rotation': array([ 0.,  0.,  0.]),\n",
       " 'camera_rot': array([-1.26793635, -4.02545595, -0.25146627]),\n",
       " 'current_target': array([2586.0, 3490.0, None], dtype=object),\n",
       " 'currentweather': 'Clear',\n",
       " 'height': 1052,\n",
       " 'imagepath': '2018-08-13--11-15-01--499',\n",
       " 'proj_matrix': array([[  5.49634274e-01,   0.00000000e+00,   0.00000000e+00,\n",
       "           0.00000000e+00],\n",
       "        [  0.00000000e+00,   1.00000000e+00,   0.00000000e+00,\n",
       "           0.00000000e+00],\n",
       "        [  0.00000000e+00,   0.00000000e+00,   1.49945045e-05,\n",
       "           1.50002249e-01],\n",
       "        [  0.00000000e+00,   0.00000000e+00,  -1.00000000e+00,\n",
       "           0.00000000e+00]]),\n",
       " 'snapshot_id': 466517,\n",
       " 'timeofday': datetime.time(12, 5, 35),\n",
       " 'timestamp': datetime.datetime(2018, 8, 13, 11, 15, 1, 499713, tzinfo=psycopg2.tz.FixedOffsetTimezone(offset=0, name=None)),\n",
       " 'view_matrix': array([[  9.97523352e-01,  -4.37807276e-03,   7.01996747e-02,\n",
       "          -2.50772688e+03],\n",
       "        [ -7.00846934e-02,   2.24356686e-02,   9.97288713e-01,\n",
       "           4.88967069e+01],\n",
       "        [ -5.94117919e-03,  -9.99738702e-01,   2.20732675e-02,\n",
       "           3.34748686e+03],\n",
       "        [  0.00000000e+00,   0.00000000e+00,   0.00000000e+00,\n",
       "           1.00000000e+00]]),\n",
       " 'width': 1914}"
      ]
     },
     "execution_count": 64,
     "metadata": {},
     "output_type": "execute_result"
    }
   ],
   "source": [
    "res = results[0]\n",
    "res"
   ]
  },
  {
   "cell_type": "code",
   "execution_count": 10,
   "metadata": {},
   "outputs": [
    {
     "data": {
      "text/plain": [
       "{'camera_-0.06_1.50_1.08__0.00_0.00_0.00': '0',\n",
       " 'camera_-0.06_17.50_25.08__270.00_0.00_90.00': '5',\n",
       " 'camera_-0.06_33.50_6.08__-30.00_0.00_180.00': '2',\n",
       " 'camera_-16.06_17.50_6.08__-30.00_0.00_270.00': '3',\n",
       " 'camera_0.48_1.50_1.08__0.00_0.00_0.00': '4',\n",
       " 'camera_15.94_17.50_6.08__-30.00_0.00_90.00': '1'}"
      ]
     },
     "execution_count": 10,
     "metadata": {},
     "output_type": "execute_result"
    }
   ],
   "source": [
    "camera_names"
   ]
  },
  {
   "cell_type": "code",
   "execution_count": null,
   "metadata": {
    "collapsed": true
   },
   "outputs": [],
   "source": []
  }
 ],
 "metadata": {
  "kernelspec": {
   "display_name": "Python 3",
   "language": "python",
   "name": "python3"
  },
  "language_info": {
   "codemirror_mode": {
    "name": "ipython",
    "version": 3
   },
   "file_extension": ".py",
   "mimetype": "text/x-python",
   "name": "python",
   "nbconvert_exporter": "python",
   "pygments_lexer": "ipython3",
   "version": "3.6.3"
  }
 },
 "nbformat": 4,
 "nbformat_minor": 2
}
