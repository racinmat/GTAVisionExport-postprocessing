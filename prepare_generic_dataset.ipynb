{
 "cells": [
  {
   "cell_type": "code",
   "execution_count": 1,
   "metadata": {
    "collapsed": true
   },
   "outputs": [],
   "source": [
    "import numpy as np\n",
    "import matplotlib.pyplot as plt\n",
    "import visualization\n",
    "import os\n",
    "from gta_math import points_to_homo, ndc_to_view, construct_proj_matrix, view_to_world, construct_view_matrix\n",
    "from visualization import load_depth, load_stencil, save_pointcloud_csv, bbox_from_string, are_buffers_same_as_previous, \\\n",
    "    is_first_record_in_run, camera_to_string\n",
    "import progressbar\n",
    "from joblib import Parallel, delayed\n",
    "from configparser import ConfigParser\n",
    "from PIL import Image\n",
    "import pickle\n",
    "import json\n",
    "import time\n",
    "from shutil import copyfile\n",
    "from functools import lru_cache"
   ]
  },
  {
   "cell_type": "code",
   "execution_count": 6,
   "metadata": {},
   "outputs": [],
   "source": [
    "ini_file = \"gta-postprocessing.ini\"\n",
    "visualization.multi_page = False\n",
    "visualization.ini_file = ini_file\n",
    "visualization.use_cache = False\n",
    "\n",
    "conn = visualization.get_connection_pooled()\n",
    "cur = conn.cursor()\n",
    "\n",
    "CONFIG = ConfigParser()\n",
    "CONFIG.read(ini_file)\n",
    "in_directory = CONFIG[\"Images\"][\"Tiff\"]\n",
    "out_directory = r'D:\\output-datasets\\onroad-4'\n",
    "\n",
    "# for some datasets we don't need entities, which produces lot smaller json files\n",
    "# for some datasets, we want each camera data to be in separate folder\n",
    "# sometimes buffers are not synced and don't correspond to current camera. \n",
    "# they can be recognized by having same data as previous record\n",
    "include_entities = True\n",
    "directory_per_camera = False\n",
    "\n",
    "discard_invalid_buffers = True"
   ]
  },
  {
   "cell_type": "code",
   "execution_count": 7,
   "metadata": {},
   "outputs": [
    {
     "name": "stdout",
     "output_type": "stream",
     "text": [
      "There are 2076 snapshots\n",
      "{'camera_-0.80_0.80_0.40__0.00_0.00_90.00': '0', 'camera_0.00_-2.30_0.30__0.00_0.00_180.00': '1', 'camera_0.00_2.00_0.30__0.00_0.00_0.00': '2', 'camera_0.80_0.80_0.40__0.00_0.00_270.00': '3'}\n"
     ]
    }
   ],
   "source": [
    "#run_id = 19\n",
    "#run_id = 3677\n",
    "run_id = 4180\n",
    "\n",
    "cur.execute(\"\"\"SELECT snapshot_id, imagepath, cam_near_clip, camera_fov, width, height, timestamp, timeofday, width, height, \\\n",
    "      ARRAY[st_x(camera_relative_rotation), st_y(camera_relative_rotation), st_z(camera_relative_rotation)] as camera_relative_rotation, \\\n",
    "      ARRAY[st_x(camera_relative_position), st_y(camera_relative_position), st_z(camera_relative_position)] as camera_relative_position, \\\n",
    "      ARRAY[st_x(camera_pos), st_y(camera_pos), st_z(camera_pos)] as camera_pos, \\\n",
    "      ARRAY[st_x(camera_rot), st_y(camera_rot), st_z(camera_rot)] as camera_rot, \\\n",
    "      ARRAY[st_x(current_target), st_y(current_target), st_z(current_target)] as current_target, \\\n",
    "      currentweather, scene_id \\\n",
    "      FROM snapshots \\\n",
    "      WHERE run_id = {}\n",
    "      ORDER BY timestamp ASC \\\n",
    "    \"\"\".format(run_id))\n",
    "\n",
    "results = []\n",
    "for row in cur:\n",
    "    res = dict(row)\n",
    "    if res['camera_fov'] == 0 and res['cam_near_clip'] == 0:\n",
    "        continue  # somehow malformed data, skipping them\n",
    "    res['camera_rot'] = np.array(res['camera_rot'])\n",
    "    res['camera_pos'] = np.array(res['camera_pos'])\n",
    "    res['camera_relative_rotation'] = np.array(res['camera_relative_rotation'])\n",
    "    res['camera_relative_position'] = np.array(res['camera_relative_position'])\n",
    "    res['current_target'] = np.array(res['current_target'])\n",
    "    res['view_matrix'] = construct_view_matrix(res['camera_pos'], res['camera_rot'])\n",
    "    res['proj_matrix'] = construct_proj_matrix(res['height'], res['width'], res['camera_fov'], res['cam_near_clip'])\n",
    "    results.append(res)\n",
    "\n",
    "print('There are {} snapshots'.format(len(results)))\n",
    "\n",
    "# because sometimes I use two cameras heading same direction, pair (position, rotation) is unique identifier\n",
    "cur.execute(\"\"\"SELECT DISTINCT \\\n",
    "      ARRAY[st_x(camera_relative_rotation), st_y(camera_relative_rotation), st_z(camera_relative_rotation)] as camera_relative_rotation, \n",
    "      ARRAY[st_x(camera_relative_position), st_y(camera_relative_position), st_z(camera_relative_position)] as camera_relative_position \n",
    "      FROM snapshots \\\n",
    "      WHERE run_id = {} AND camera_fov != 0 \\\n",
    "      ORDER BY camera_relative_position, camera_relative_rotation ASC \\\n",
    "    \"\"\".format(run_id))\n",
    "\n",
    "camera_names = {}\n",
    "for i, row in enumerate(cur):\n",
    "    camera_name = camera_to_string(row)\n",
    "    camera_names[camera_name] = str(i)\n",
    "    \n",
    "print(camera_names)\n"
   ]
  },
  {
   "cell_type": "code",
   "execution_count": 8,
   "metadata": {
    "collapsed": true
   },
   "outputs": [],
   "source": [
    "def get_base_name(name):\n",
    "    return os.path.basename(os.path.splitext(name)[0])\n",
    "\n",
    "def get_main_image_name(cameras):\n",
    "    for cam in cameras:\n",
    "        # this is the main camera\n",
    "        if np.array_equal(cam['camera_relative_rotation'], [0, 0, 0]):\n",
    "            return cam['imagepath']\n",
    "    raise Exception('no main image')\n",
    "\n",
    "def load_entities_data(snapshot_id):\n",
    "    conn = visualization.get_connection_pooled()\n",
    "    cur = conn.cursor()\n",
    "    \n",
    "    # start = time.time()\n",
    "\n",
    "    cur.execute(\"\"\"SELECT bbox, \\\n",
    "        ARRAY[st_x(pos), st_y(pos), st_z(pos)] as pos, \\\n",
    "        ARRAY[st_x(rot), st_y(rot), st_z(rot)] as rot, \\\n",
    "        ARRAY[st_xmin(bbox3d), st_xmax(bbox3d), st_ymin(bbox3d), st_ymax(bbox3d), st_zmin(bbox3d), st_zmax(bbox3d)] as bbox3d, \\\n",
    "         type, class, handle, snapshot_id \\\n",
    "        FROM detections \\\n",
    "        WHERE snapshot_id = '{}' \\\n",
    "        \"\"\".format(snapshot_id))\n",
    "\n",
    "    # end = time.time()\n",
    "    # print('time to load from db', end - start)\n",
    "    # start = time.time()\n",
    "\n",
    "    # print(size)\n",
    "    results = []\n",
    "    for row in cur:\n",
    "        res = dict(row)\n",
    "        res['model_sizes'] = np.array(res['bbox3d'])\n",
    "        res['bbox'] = bbox_from_string(res['bbox'])\n",
    "        res['pos'] = np.array(res['pos'])\n",
    "        res['rot'] = np.array(res['rot'])\n",
    "        results.append(res)\n",
    "\n",
    "    # end = time.time()\n",
    "    # print('time to convert arrays to numpy', end - start)\n",
    "    # start = time.time()\n",
    "\n",
    "    return results\n",
    "\n",
    "\n",
    "def convert_rgb(in_directory, out_directory, out_name, name, out_format):\n",
    "    outfile = os.path.join(out_directory, \"{}.{}\".format(out_name, out_format))\n",
    "    # print(outfile)\n",
    "    if os.path.exists(outfile):\n",
    "        return\n",
    "\n",
    "    try:\n",
    "        infile = os.path.join(in_directory, name)\n",
    "        im = Image.open(infile)\n",
    "        im = im.convert(mode=\"RGB\")\n",
    "        im.save(outfile)\n",
    "    except OSError:\n",
    "        # print(\"Skipping invalid file {}\".format(name))\n",
    "        return\n",
    "\n",
    "\n",
    "def convert_depth(in_directory, out_directory, out_name, name, out_format):\n",
    "    outfile = os.path.join(out_directory, \"{}.{}\".format(out_name, out_format))\n",
    "    # print(outfile)\n",
    "    if os.path.exists(outfile):\n",
    "        return\n",
    "\n",
    "    try:\n",
    "        infile = os.path.join(in_directory, name)\n",
    "        depth = load_depth(name)\n",
    "        # print('depth min before: ', np.min(depth))\n",
    "        # print('depth max before: ', np.max(depth))\n",
    "        depth = depth * np.iinfo(np.uint16).max\n",
    "        # print('depth min after: ', np.min(depth))\n",
    "        # print('depth max after: ', np.max(depth))\n",
    "        im = Image.fromarray(depth.astype(np.int32), mode=\"I\")\n",
    "        im.save(outfile)\n",
    "    except OSError:\n",
    "        # print(\"Skipping invalid file {}\".format(name))\n",
    "        return\n",
    "\n",
    "def convert_stencil(in_directory, out_directory, out_name, name, out_format):\n",
    "    outfile = os.path.join(out_directory, \"{}.{}\".format(out_name, out_format))\n",
    "    # print(outfile)\n",
    "    if os.path.exists(outfile):\n",
    "        return\n",
    "\n",
    "    try:\n",
    "        infile = os.path.join(in_directory, name)\n",
    "        stencil = load_stencil(name)\n",
    "        im = Image.fromarray(stencil.astype(np.uint8), mode=\"L\")\n",
    "        im.save(outfile)\n",
    "    except OSError:\n",
    "        # print(\"Skipping invalid file {}\".format(name))\n",
    "        return\n",
    "\n",
    "def get_out_directory(out_directory, res, directory_per_camera):\n",
    "    if directory_per_camera:\n",
    "        return os.path.join(out_directory, camera_names[camera_to_string(res)])\n",
    "    else:\n",
    "        return out_directory\n",
    "\n",
    "def try_dump_snapshot_to_dataset(in_directory, out_directory, res, run_id, include_entities):\n",
    "    try:\n",
    "        dump_snapshot_to_dataset(in_directory, out_directory, res, run_id, include_entities)\n",
    "    except Exception as e:\n",
    "        print(e)\n",
    "        pass\n",
    "\n",
    "def dump_snapshot_to_dataset(in_directory, out_directory, res, run_id, include_entities):\n",
    "    if 'pbar' in globals() and 'counter' in globals():\n",
    "        global counter\n",
    "        counter += 1\n",
    "        pbar.update(counter)\n",
    "\n",
    "    start = time.time()\n",
    "    \n",
    "    if not os.path.exists(out_directory):\n",
    "        os.makedirs(out_directory)\n",
    "\n",
    "    if discard_invalid_buffers and (not is_first_record_in_run(res, run_id)) and \\\n",
    "        are_buffers_same_as_previous(res):\n",
    "        print('skipping record wih invalid buffers in snapshot {}, filename {} and camera {}'\n",
    "              .format(res['snapshot_id'], res['imagepath'], res['camera_relative_position'].tolist()))\n",
    "        return\n",
    "    \n",
    "    name = res['imagepath']\n",
    "#    convert_rgb(in_directory, out_directory, get_base_name(name), get_base_name(name)+'.tiff', 'png')\n",
    "    convert_rgb(in_directory, out_directory, get_base_name(name), get_base_name(name)+'.tiff', 'jpg')\n",
    "    convert_depth(in_directory, out_directory, get_base_name(name)+'-depth', get_base_name(name), 'png')\n",
    "    convert_stencil(in_directory, out_directory, get_base_name(name)+'-stencil', get_base_name(name), 'png')\n",
    "    # end = time.time()\n",
    "    # print('time to generate images', end - start)\n",
    "    # start = time.time()\n",
    "    \n",
    "    outfile = os.path.join(out_directory, '{}.json'.format(res['imagepath']))\n",
    "    if os.path.exists(outfile):\n",
    "        return\n",
    "\n",
    "    if include_entities:\n",
    "        data = load_entities_data(res['snapshot_id'])\n",
    "\n",
    "        # end = time.time()\n",
    "        # print('loading entities data', end - start)\n",
    "        # start = time.time()\n",
    "    \n",
    "        json_entities_data = []\n",
    "        for i in data:\n",
    "            json_entity = {\n",
    "                'model_sizes': i['model_sizes'].tolist(),\n",
    "                'bbox': i['bbox'].tolist(),\n",
    "                'pos': i['pos'].tolist(),\n",
    "                'rot': i['rot'].tolist(),\n",
    "                'class': i['class'],\n",
    "                'handle': i['handle'],\n",
    "                'type': i['type'],\n",
    "            }\n",
    "            json_entities_data.append(json_entity)\n",
    "\n",
    "    # end = time.time()\n",
    "    # print('dumping entities to json', end - start)\n",
    "    # start = time.time()\n",
    "\n",
    "    json_data = {\n",
    "        'imagepath': res['imagepath'],\n",
    "        'timestamp': res['timestamp'].strftime(\"%Y-%m-%d %H:%M:%S\"),\n",
    "        'timeofday': res['timeofday'].strftime(\"%H:%M:%S\"),\n",
    "        'currentweather': res['currentweather'],\n",
    "        'width': res['width'],\n",
    "        'height': res['height'],\n",
    "        'snapshot_id': res['snapshot_id'],\n",
    "        'scene_id': res['scene_id'],\n",
    "        'camera_rot': res['camera_rot'].tolist(),\n",
    "        'camera_pos': res['camera_pos'].tolist(),\n",
    "        'camera_fov': res['camera_fov'],\n",
    "        'camera_relative_rotation': res['camera_relative_rotation'].tolist(),\n",
    "        'camera_relative_position': res['camera_relative_position'].tolist(),\n",
    "        'current_target': res['current_target'].tolist(),\n",
    "        'view_matrix': res['view_matrix'].tolist(),\n",
    "        'proj_matrix': res['proj_matrix'].tolist(),\n",
    "    }\n",
    "    \n",
    "    if include_entities:\n",
    "        json_data['entities'] = json_entities_data\n",
    "\n",
    "    # end = time.time()\n",
    "    # print('dumping base object to json', end - start)\n",
    "    # start = time.time()\n",
    "\n",
    "    with open(outfile, 'w') as f:\n",
    "        json.dump(json_data, f)\n",
    "    \n",
    "    # end = time.time()\n",
    "    # print('persisting json to file', end - start)\n",
    "    "
   ]
  },
  {
   "cell_type": "markdown",
   "metadata": {},
   "source": [
    "### dumping all data"
   ]
  },
  {
   "cell_type": "code",
   "execution_count": 9,
   "metadata": {
    "scrolled": true
   },
   "outputs": [
    {
     "name": "stderr",
     "output_type": "stream",
     "text": [
      "\r",
      "                                                                               \r",
      "\r",
      "N/A% 0 |                                                            |   0.0 s/B"
     ]
    },
    {
     "name": "stdout",
     "output_type": "stream",
     "text": [
      "[WinError 183] Cannot create a file when that file already exists: 'D:\\\\output-datasets\\\\onroad-4'[WinError 183] Cannot create a file when that file already exists: 'D:\\\\output-datasets\\\\onroad-4'[WinError 183] Cannot create a file when that file already exists: 'D:\\\\output-datasets\\\\onroad-4'[WinError 183] Cannot create a file when that file already exists: 'D:\\\\output-datasets\\\\onroad-4'[WinError 183] Cannot create a file when that file already exists: 'D:\\\\output-datasets\\\\onroad-4'[WinError 183] Cannot create a file when that file already exists: 'D:\\\\output-datasets\\\\onroad-4'\n",
      "\n",
      "\n",
      "\n",
      "\n",
      "\n"
     ]
    },
    {
     "name": "stderr",
     "output_type": "stream",
     "text": [
      "  9% 207 |#####                                                     |   4.8 B/s"
     ]
    },
    {
     "name": "stdout",
     "output_type": "stream",
     "text": [
      "skipping record wih invalid buffers in snapshot 525388, filename 2018-08-16--16-45-46--251 and camera [-0.800000011920929, 0.800000011920929, 0.400000005960464]\n",
      "skipping record wih invalid buffers in snapshot 525387, filename 2018-08-16--16-45-45--862 and camera [0.0, 2.0, 0.300000011920929]\n"
     ]
    },
    {
     "name": "stderr",
     "output_type": "stream",
     "text": [
      " 10% 210 |#####                                                     |   4.8 B/s"
     ]
    },
    {
     "name": "stdout",
     "output_type": "stream",
     "text": [
      "skipping record wih invalid buffers in snapshot 525389, filename 2018-08-16--16-45-46--629 and camera [0.0, -2.29999995231628, 0.300000011920929]\n",
      "skipping record wih invalid buffers in snapshot 525390, filename 2018-08-16--16-45-46--961 and camera [0.800000011920929, 0.800000011920929, 0.400000005960464]\n"
     ]
    },
    {
     "name": "stderr",
     "output_type": "stream",
     "text": [
      " 10% 212 |#####                                                     |   4.8 B/s"
     ]
    },
    {
     "name": "stdout",
     "output_type": "stream",
     "text": [
      "skipping record wih invalid buffers in snapshot 525391, filename 2018-08-16--16-45-47--398 and camera [0.0, 2.0, 0.300000011920929]\n"
     ]
    },
    {
     "name": "stderr",
     "output_type": "stream",
     "text": [
      " 10% 216 |######                                                    |   4.8 B/s"
     ]
    },
    {
     "name": "stdout",
     "output_type": "stream",
     "text": [
      "skipping record wih invalid buffers in snapshot 525395, filename 2018-08-16--16-45-48--840 and camera [0.0, 2.0, 0.300000011920929]\n",
      "skipping record wih invalid buffers in snapshot 525393, filename 2018-08-16--16-45-48--077 and camera [0.0, -2.29999995231628, 0.300000011920929]\n",
      "skipping record wih invalid buffers in snapshot 525392, filename 2018-08-16--16-45-47--723 and camera [-0.800000011920929, 0.800000011920929, 0.400000005960464]\n",
      "skipping record wih invalid buffers in snapshot 525397, filename 2018-08-16--16-45-49--530 and camera [0.0, -2.29999995231628, 0.300000011920929]\n",
      "skipping record wih invalid buffers in snapshot 525396, filename 2018-08-16--16-45-49--197 and camera [-0.800000011920929, 0.800000011920929, 0.400000005960464]skipping record wih invalid buffers in snapshot 525394, filename 2018-08-16--16-45-48--375 and camera [0.800000011920929, 0.800000011920929, 0.400000005960464]\n",
      "\n",
      "skipping record wih invalid buffers in snapshot 525398, filename 2018-08-16--16-45-49--804 and camera [0.800000011920929, 0.800000011920929, 0.400000005960464]\n"
     ]
    },
    {
     "name": "stderr",
     "output_type": "stream",
     "text": [
      "\r",
      "                                                                               \r",
      "\r",
      " 10% 220 |######                                                    |   4.9 B/s"
     ]
    },
    {
     "name": "stdout",
     "output_type": "stream",
     "text": [
      "skipping record wih invalid buffers in snapshot 525399, filename 2018-08-16--16-45-50--279 and camera [0.0, 2.0, 0.300000011920929]\n"
     ]
    },
    {
     "name": "stderr",
     "output_type": "stream",
     "text": [
      " 10% 222 |######                                                    |   4.9 B/s"
     ]
    },
    {
     "name": "stdout",
     "output_type": "stream",
     "text": [
      "skipping record wih invalid buffers in snapshot 525401, filename 2018-08-16--16-45-50--960 and camera [0.0, -2.29999995231628, 0.300000011920929]\n",
      "skipping record wih invalid buffers in snapshot 525400, filename 2018-08-16--16-45-50--635 and camera [-0.800000011920929, 0.800000011920929, 0.400000005960464]\n",
      "skipping record wih invalid buffers in snapshot 525402, filename 2018-08-16--16-45-51--238 and camera [0.800000011920929, 0.800000011920929, 0.400000005960464]\n",
      "skipping record wih invalid buffers in snapshot 525404, filename 2018-08-16--16-45-52--335 and camera [-0.800000011920929, 0.800000011920929, 0.400000005960464]\n"
     ]
    },
    {
     "name": "stderr",
     "output_type": "stream",
     "text": [
      " 10% 226 |######                                                    |   4.9 B/s"
     ]
    },
    {
     "name": "stdout",
     "output_type": "stream",
     "text": [
      "skipping record wih invalid buffers in snapshot 525403, filename 2018-08-16--16-45-51--989 and camera [0.0, 2.0, 0.300000011920929]\n",
      "skipping record wih invalid buffers in snapshot 525406, filename 2018-08-16--16-45-52--949 and camera [0.800000011920929, 0.800000011920929, 0.400000005960464]\n",
      "skipping record wih invalid buffers in snapshot 525405, filename 2018-08-16--16-45-52--597 and camera [0.0, -2.29999995231628, 0.300000011920929]\n"
     ]
    },
    {
     "name": "stderr",
     "output_type": "stream",
     "text": [
      "\r",
      "                                                                               \r",
      "\r",
      " 10% 228 |######                                                    |   4.9 B/s"
     ]
    },
    {
     "name": "stdout",
     "output_type": "stream",
     "text": [
      "skipping record wih invalid buffers in snapshot 525407, filename 2018-08-16--16-45-53--451 and camera [0.0, 2.0, 0.300000011920929]\n"
     ]
    },
    {
     "name": "stderr",
     "output_type": "stream",
     "text": [
      " 11% 232 |######                                                    |   4.9 B/s"
     ]
    },
    {
     "name": "stdout",
     "output_type": "stream",
     "text": [
      "skipping record wih invalid buffers in snapshot 525408, filename 2018-08-16--16-45-53--855 and camera [-0.800000011920929, 0.800000011920929, 0.400000005960464]\n",
      "skipping record wih invalid buffers in snapshot 525411, filename 2018-08-16--16-45-54--931 and camera [0.0, 2.0, 0.300000011920929]\n",
      "skipping record wih invalid buffers in snapshot 525409, filename 2018-08-16--16-45-54--122 and camera [0.0, -2.29999995231628, 0.300000011920929]\n",
      "skipping record wih invalid buffers in snapshot 525414, filename 2018-08-16--16-45-55--870 and camera [0.800000011920929, 0.800000011920929, 0.400000005960464]\n",
      "skipping record wih invalid buffers in snapshot 525410, filename 2018-08-16--16-45-54--427 and camera [0.800000011920929, 0.800000011920929, 0.400000005960464]\n"
     ]
    },
    {
     "name": "stderr",
     "output_type": "stream",
     "text": [
      "\r",
      "                                                                               \r",
      "\r",
      " 11% 234 |######                                                    |   5.0 B/s"
     ]
    },
    {
     "name": "stdout",
     "output_type": "stream",
     "text": [
      "skipping record wih invalid buffers in snapshot 525412, filename 2018-08-16--16-45-55--224 and camera [-0.800000011920929, 0.800000011920929, 0.400000005960464]\n",
      "skipping record wih invalid buffers in snapshot 525413, filename 2018-08-16--16-45-55--553 and camera [0.0, -2.29999995231628, 0.300000011920929]\n"
     ]
    },
    {
     "name": "stderr",
     "output_type": "stream",
     "text": [
      "\r",
      "                                                                               \r",
      "\r",
      " 11% 236 |######                                                    |   5.0 B/s"
     ]
    },
    {
     "name": "stdout",
     "output_type": "stream",
     "text": [
      "skipping record wih invalid buffers in snapshot 525415, filename 2018-08-16--16-45-56--349 and camera [0.0, 2.0, 0.300000011920929]\n"
     ]
    },
    {
     "name": "stderr",
     "output_type": "stream",
     "text": [
      " 11% 239 |######                                                    |   5.0 B/s"
     ]
    },
    {
     "name": "stdout",
     "output_type": "stream",
     "text": [
      "skipping record wih invalid buffers in snapshot 525417, filename 2018-08-16--16-45-56--981 and camera [0.0, -2.29999995231628, 0.300000011920929]\n",
      "skipping record wih invalid buffers in snapshot 525421, filename 2018-08-16--16-45-58--417 and camera [0.0, -2.29999995231628, 0.300000011920929]\n",
      "skipping record wih invalid buffers in snapshot 525418, filename 2018-08-16--16-45-57--303 and camera [0.800000011920929, 0.800000011920929, 0.400000005960464]\n"
     ]
    },
    {
     "name": "stderr",
     "output_type": "stream",
     "text": [
      "\r",
      "                                                                               \r",
      "\r",
      " 11% 243 |######                                                    |   5.0 B/s"
     ]
    },
    {
     "name": "stdout",
     "output_type": "stream",
     "text": [
      "skipping record wih invalid buffers in snapshot 525420, filename 2018-08-16--16-45-58--154 and camera [-0.800000011920929, 0.800000011920929, 0.400000005960464]\n",
      "skipping record wih invalid buffers in snapshot 525416, filename 2018-08-16--16-45-56--706 and camera [-0.800000011920929, 0.800000011920929, 0.400000005960464]\n",
      "skipping record wih invalid buffers in snapshot 525422, filename 2018-08-16--16-45-58--712 and camera [0.800000011920929, 0.800000011920929, 0.400000005960464]\n",
      "skipping record wih invalid buffers in snapshot 525419, filename 2018-08-16--16-45-57--804 and camera [0.0, 2.0, 0.300000011920929]\n"
     ]
    },
    {
     "name": "stderr",
     "output_type": "stream",
     "text": [
      "\r",
      "                                                                               \r",
      "\r",
      " 11% 244 |######                                                    |   5.0 B/s"
     ]
    },
    {
     "name": "stdout",
     "output_type": "stream",
     "text": [
      "skipping record wih invalid buffers in snapshot 525423, filename 2018-08-16--16-45-59--226 and camera [0.0, 2.0, 0.300000011920929]\n"
     ]
    },
    {
     "name": "stderr",
     "output_type": "stream",
     "text": [
      " 11% 246 |######                                                    |   5.0 B/s"
     ]
    },
    {
     "name": "stdout",
     "output_type": "stream",
     "text": [
      "skipping record wih invalid buffers in snapshot 525424, filename 2018-08-16--16-45-59--561 and camera [-0.800000011920929, 0.800000011920929, 0.400000005960464]\n",
      "skipping record wih invalid buffers in snapshot 525425, filename 2018-08-16--16-45-59--823 and camera [0.0, -2.29999995231628, 0.300000011920929]\n"
     ]
    },
    {
     "name": "stderr",
     "output_type": "stream",
     "text": [
      " 12% 251 |#######                                                   |   5.1 B/s"
     ]
    },
    {
     "name": "stdout",
     "output_type": "stream",
     "text": [
      "skipping record wih invalid buffers in snapshot 525430, filename 2018-08-16--16-46-01--542 and camera [0.800000011920929, 0.800000011920929, 0.400000005960464]\n",
      "skipping record wih invalid buffers in snapshot 525429, filename 2018-08-16--16-46-01--230 and camera [0.0, -2.29999995231628, 0.300000011920929]\n",
      "skipping record wih invalid buffers in snapshot 525426, filename 2018-08-16--16-46-00--145 and camera [0.800000011920929, 0.800000011920929, 0.400000005960464]\n",
      "skipping record wih invalid buffers in snapshot 525428, filename 2018-08-16--16-46-00--947 and camera [-0.800000011920929, 0.800000011920929, 0.400000005960464]\n",
      "skipping record wih invalid buffers in snapshot 525427, filename 2018-08-16--16-46-00--656 and camera [0.0, 2.0, 0.300000011920929]\n"
     ]
    },
    {
     "name": "stderr",
     "output_type": "stream",
     "text": [
      "\r",
      "                                                                               \r",
      "\r",
      " 12% 252 |#######                                                   |   5.1 B/s"
     ]
    },
    {
     "name": "stdout",
     "output_type": "stream",
     "text": [
      "skipping record wih invalid buffers in snapshot 525431, filename 2018-08-16--16-46-02--042 and camera [0.0, 2.0, 0.300000011920929]\n"
     ]
    },
    {
     "name": "stderr",
     "output_type": "stream",
     "text": [
      "\r",
      "                                                                               \r",
      "\r",
      " 12% 253 |#######                                                   |   5.0 B/s"
     ]
    },
    {
     "name": "stdout",
     "output_type": "stream",
     "text": [
      "skipping record wih invalid buffers in snapshot 525432, filename 2018-08-16--16-46-02--386 and camera [-0.800000011920929, 0.800000011920929, 0.400000005960464]\n"
     ]
    },
    {
     "name": "stderr",
     "output_type": "stream",
     "text": [
      "\r",
      "                                                                               \r",
      "\r",
      " 12% 254 |#######                                                   |   5.0 B/s"
     ]
    },
    {
     "name": "stdout",
     "output_type": "stream",
     "text": [
      "skipping record wih invalid buffers in snapshot 525433, filename 2018-08-16--16-46-02--653 and camera [0.0, -2.29999995231628, 0.300000011920929]\n",
      "skipping record wih invalid buffers in snapshot 525434, filename 2018-08-16--16-46-02--966 and camera [0.800000011920929, 0.800000011920929, 0.400000005960464]\n",
      "skipping record wih invalid buffers in snapshot 525436, filename 2018-08-16--16-46-03--806 and camera [-0.800000011920929, 0.800000011920929, 0.400000005960464]"
     ]
    },
    {
     "name": "stderr",
     "output_type": "stream",
     "text": [
      " 12% 260 |#######                                                   |   5.1 B/s"
     ]
    },
    {
     "name": "stdout",
     "output_type": "stream",
     "text": [
      "\n",
      "skipping record wih invalid buffers in snapshot 525437, filename 2018-08-16--16-46-04--062 and camera [0.0, -2.29999995231628, 0.300000011920929]\n",
      "skipping record wih invalid buffers in snapshot 525435, filename 2018-08-16--16-46-03--482 and camera [0.0, 2.0, 0.300000011920929]\n",
      "skipping record wih invalid buffers in snapshot 525438, filename 2018-08-16--16-46-04--395 and camera [0.800000011920929, 0.800000011920929, 0.400000005960464]\n",
      "skipping record wih invalid buffers in snapshot 525439, filename 2018-08-16--16-46-04--912 and camera [0.0, 2.0, 0.300000011920929]\n"
     ]
    },
    {
     "name": "stderr",
     "output_type": "stream",
     "text": [
      "\r",
      "                                                                               \r",
      "\r",
      " 12% 261 |#######                                                   |   5.1 B/s"
     ]
    },
    {
     "name": "stdout",
     "output_type": "stream",
     "text": [
      "skipping record wih invalid buffers in snapshot 525440, filename 2018-08-16--16-46-05--197 and camera [-0.800000011920929, 0.800000011920929, 0.400000005960464]\n"
     ]
    },
    {
     "name": "stderr",
     "output_type": "stream",
     "text": [
      "\r",
      "                                                                               \r",
      "\r",
      " 12% 262 |#######                                                   |   5.1 B/s"
     ]
    },
    {
     "name": "stdout",
     "output_type": "stream",
     "text": [
      "skipping record wih invalid buffers in snapshot 525442, filename 2018-08-16--16-46-05--840 and camera [0.800000011920929, 0.800000011920929, 0.400000005960464]\n",
      "skipping record wih invalid buffers in snapshot 525441, filename 2018-08-16--16-46-05--500 and camera [0.0, -2.29999995231628, 0.300000011920929]\n"
     ]
    },
    {
     "name": "stderr",
     "output_type": "stream",
     "text": [
      " 12% 265 |#######                                                   |   5.1 B/s"
     ]
    },
    {
     "name": "stdout",
     "output_type": "stream",
     "text": [
      "skipping record wih invalid buffers in snapshot 525444, filename 2018-08-16--16-46-06--910 and camera [-0.800000011920929, 0.800000011920929, 0.400000005960464]\n",
      "skipping record wih invalid buffers in snapshot 525443, filename 2018-08-16--16-46-06--349 and camera [0.0, 2.0, 0.300000011920929]\n",
      "skipping record wih invalid buffers in snapshot 525447, filename 2018-08-16--16-46-08--113 and camera [0.0, 2.0, 0.300000011920929]\n"
     ]
    },
    {
     "name": "stderr",
     "output_type": "stream",
     "text": [
      "\r",
      "                                                                               \r",
      "\r",
      " 12% 267 |#######                                                   |   5.1 B/s"
     ]
    },
    {
     "name": "stdout",
     "output_type": "stream",
     "text": [
      "skipping record wih invalid buffers in snapshot 525446, filename 2018-08-16--16-46-07--629 and camera [0.800000011920929, 0.800000011920929, 0.400000005960464]\n",
      "skipping record wih invalid buffers in snapshot 525445, filename 2018-08-16--16-46-07--288 and camera [0.0, -2.29999995231628, 0.300000011920929]\n"
     ]
    },
    {
     "name": "stderr",
     "output_type": "stream",
     "text": [
      "\r",
      "                                                                               \r",
      "\r",
      " 12% 269 |#######                                                   |   5.1 B/s"
     ]
    },
    {
     "name": "stdout",
     "output_type": "stream",
     "text": [
      "skipping record wih invalid buffers in snapshot 525449, filename 2018-08-16--16-46-08--791 and camera [0.0, -2.29999995231628, 0.300000011920929]\n",
      "skipping record wih invalid buffers in snapshot 525448, filename 2018-08-16--16-46-08--452 and camera [-0.800000011920929, 0.800000011920929, 0.400000005960464]\n"
     ]
    },
    {
     "name": "stderr",
     "output_type": "stream",
     "text": [
      " 13% 272 |#######                                                   |   5.1 B/s"
     ]
    },
    {
     "name": "stdout",
     "output_type": "stream",
     "text": [
      "skipping record wih invalid buffers in snapshot 525450, filename 2018-08-16--16-46-09--100 and camera [0.800000011920929, 0.800000011920929, 0.400000005960464]\n",
      "skipping record wih invalid buffers in snapshot 525451, filename 2018-08-16--16-46-09--626 and camera [0.0, 2.0, 0.300000011920929]\n"
     ]
    },
    {
     "name": "stderr",
     "output_type": "stream",
     "text": [
      "\r",
      "                                                                               \r",
      "\r",
      " 13% 274 |#######                                                   |   5.1 B/s"
     ]
    },
    {
     "name": "stdout",
     "output_type": "stream",
     "text": [
      "skipping record wih invalid buffers in snapshot 525452, filename 2018-08-16--16-46-10--204 and camera [-0.800000011920929, 0.800000011920929, 0.400000005960464]\n",
      "skipping record wih invalid buffers in snapshot 525453, filename 2018-08-16--16-46-10--752 and camera [0.0, -2.29999995231628, 0.300000011920929]\n"
     ]
    },
    {
     "name": "stderr",
     "output_type": "stream",
     "text": [
      " 13% 276 |#######                                                   |   5.1 B/s"
     ]
    },
    {
     "name": "stdout",
     "output_type": "stream",
     "text": [
      "skipping record wih invalid buffers in snapshot 525455, filename 2018-08-16--16-46-11--517 and camera [0.0, 2.0, 0.300000011920929]\n",
      "skipping record wih invalid buffers in snapshot 525454, filename 2018-08-16--16-46-11--051 and camera [0.800000011920929, 0.800000011920929, 0.400000005960464]\n"
     ]
    },
    {
     "name": "stderr",
     "output_type": "stream",
     "text": [
      " 13% 280 |#######                                                   |   5.1 B/s"
     ]
    },
    {
     "name": "stdout",
     "output_type": "stream",
     "text": [
      "skipping record wih invalid buffers in snapshot 525456, filename 2018-08-16--16-46-11--836 and camera [-0.800000011920929, 0.800000011920929, 0.400000005960464]\n",
      "skipping record wih invalid buffers in snapshot 525457, filename 2018-08-16--16-46-12--185 and camera [0.0, -2.29999995231628, 0.300000011920929]\n",
      "skipping record wih invalid buffers in snapshot 525458, filename 2018-08-16--16-46-12--527 and camera [0.800000011920929, 0.800000011920929, 0.400000005960464]\n",
      "skipping record wih invalid buffers in snapshot 525459, filename 2018-08-16--16-46-12--977 and camera [0.0, 2.0, 0.300000011920929]\n"
     ]
    },
    {
     "name": "stderr",
     "output_type": "stream",
     "text": [
      "\r",
      "                                                                               \r",
      "\r",
      " 13% 281 |#######                                                   |   5.1 B/s"
     ]
    },
    {
     "name": "stdout",
     "output_type": "stream",
     "text": [
      "skipping record wih invalid buffers in snapshot 525460, filename 2018-08-16--16-46-13--774 and camera [-0.800000011920929, 0.800000011920929, 0.400000005960464]\n",
      "skipping record wih invalid buffers in snapshot 525461, filename 2018-08-16--16-46-14--207 and camera [0.0, -2.29999995231628, 0.300000011920929]\n"
     ]
    },
    {
     "name": "stderr",
     "output_type": "stream",
     "text": [
      " 13% 283 |#######                                                   |   5.1 B/s"
     ]
    },
    {
     "name": "stdout",
     "output_type": "stream",
     "text": [
      "skipping record wih invalid buffers in snapshot 525463, filename 2018-08-16--16-46-14--981 and camera [0.0, 2.0, 0.300000011920929]\n",
      "skipping record wih invalid buffers in snapshot 525462, filename 2018-08-16--16-46-14--496 and camera [0.800000011920929, 0.800000011920929, 0.400000005960464]\n"
     ]
    },
    {
     "name": "stderr",
     "output_type": "stream",
     "text": [
      " 13% 287 |########                                                  |   5.1 B/s"
     ]
    },
    {
     "name": "stdout",
     "output_type": "stream",
     "text": [
      "skipping record wih invalid buffers in snapshot 525466, filename 2018-08-16--16-46-15--965 and camera [0.800000011920929, 0.800000011920929, 0.400000005960464]\n",
      "skipping record wih invalid buffers in snapshot 525464, filename 2018-08-16--16-46-15--317 and camera [-0.800000011920929, 0.800000011920929, 0.400000005960464]\n",
      "skipping record wih invalid buffers in snapshot 525465, filename 2018-08-16--16-46-15--662 and camera [0.0, -2.29999995231628, 0.300000011920929]\n"
     ]
    },
    {
     "name": "stderr",
     "output_type": "stream",
     "text": [
      "\r",
      "                                                                               \r",
      "\r",
      " 13% 288 |########                                                  |   5.1 B/s"
     ]
    },
    {
     "name": "stdout",
     "output_type": "stream",
     "text": [
      "skipping record wih invalid buffers in snapshot 525467, filename 2018-08-16--16-46-16--460 and camera [0.0, 2.0, 0.300000011920929]\n",
      "skipping record wih invalid buffers in snapshot 525468, filename 2018-08-16--16-46-16--809 and camera [-0.800000011920929, 0.800000011920929, 0.400000005960464]\n"
     ]
    },
    {
     "name": "stderr",
     "output_type": "stream",
     "text": [
      "\r",
      "                                                                               \r",
      "\r",
      " 13% 290 |########                                                  |   5.1 B/s"
     ]
    },
    {
     "name": "stdout",
     "output_type": "stream",
     "text": [
      "skipping record wih invalid buffers in snapshot 525469, filename 2018-08-16--16-46-17--143 and camera [0.0, -2.29999995231628, 0.300000011920929]\n"
     ]
    },
    {
     "name": "stderr",
     "output_type": "stream",
     "text": [
      " 14% 292 |########                                                  |   5.1 B/s"
     ]
    },
    {
     "name": "stdout",
     "output_type": "stream",
     "text": [
      "skipping record wih invalid buffers in snapshot 525470, filename 2018-08-16--16-46-17--474 and camera [0.800000011920929, 0.800000011920929, 0.400000005960464]\n"
     ]
    },
    {
     "name": "stderr",
     "output_type": "stream",
     "text": [
      " 23% 494 |#############                                             |   5.1 B/s"
     ]
    },
    {
     "name": "stdout",
     "output_type": "stream",
     "text": [
      "skipping record wih invalid buffers in snapshot 525675, filename 2018-08-16--16-47-40--130 and camera [0.0, 2.0, 0.300000011920929]\n"
     ]
    },
    {
     "name": "stderr",
     "output_type": "stream",
     "text": [
      " 27% 580 |################                                          |   5.1 B/s"
     ]
    },
    {
     "name": "stdout",
     "output_type": "stream",
     "text": [
      "skipping record wih invalid buffers in snapshot 525761, filename 2018-08-16--16-48-15--493 and camera [0.0, 2.0, 0.300000011920929]\n"
     ]
    },
    {
     "name": "stderr",
     "output_type": "stream",
     "text": [
      " 28% 583 |################                                          |   5.1 B/s"
     ]
    },
    {
     "name": "stdout",
     "output_type": "stream",
     "text": [
      "skipping record wih invalid buffers in snapshot 525762, filename 2018-08-16--16-48-15--808 and camera [-0.800000011920929, 0.800000011920929, 0.400000005960464]\n"
     ]
    },
    {
     "name": "stderr",
     "output_type": "stream",
     "text": [
      "\r",
      "                                                                               \r",
      "\r",
      " 28% 584 |################                                          |   5.1 B/s"
     ]
    },
    {
     "name": "stdout",
     "output_type": "stream",
     "text": [
      "skipping record wih invalid buffers in snapshot 525763, filename 2018-08-16--16-48-16--145 and camera [0.0, -2.29999995231628, 0.300000011920929]\n"
     ]
    },
    {
     "name": "stderr",
     "output_type": "stream",
     "text": [
      " 28% 586 |################                                          |   5.1 B/s"
     ]
    },
    {
     "name": "stdout",
     "output_type": "stream",
     "text": [
      "skipping record wih invalid buffers in snapshot 525764, filename 2018-08-16--16-48-16--452 and camera [0.800000011920929, 0.800000011920929, 0.400000005960464]\n",
      "skipping record wih invalid buffers in snapshot 525765, filename 2018-08-16--16-48-17--017 and camera [0.0, 2.0, 0.300000011920929]\n"
     ]
    },
    {
     "name": "stderr",
     "output_type": "stream",
     "text": [
      "\r",
      "                                                                               \r",
      "\r",
      " 28% 587 |################                                          |   5.1 B/s"
     ]
    },
    {
     "name": "stdout",
     "output_type": "stream",
     "text": [
      "skipping record wih invalid buffers in snapshot 525766, filename 2018-08-16--16-48-17--393 and camera [-0.800000011920929, 0.800000011920929, 0.400000005960464]\n",
      "skipping record wih invalid buffers in snapshot 525767, filename 2018-08-16--16-48-17--745 and camera [0.0, -2.29999995231628, 0.300000011920929]\n"
     ]
    },
    {
     "name": "stderr",
     "output_type": "stream",
     "text": [
      "\r",
      "                                                                               \r",
      "\r",
      " 28% 589 |################                                          |   5.1 B/s"
     ]
    },
    {
     "name": "stdout",
     "output_type": "stream",
     "text": [
      "skipping record wih invalid buffers in snapshot 525768, filename 2018-08-16--16-48-18--053 and camera [0.800000011920929, 0.800000011920929, 0.400000005960464]\n",
      "skipping record wih invalid buffers in snapshot 525770, filename 2018-08-16--16-48-18--867 and camera [-0.800000011920929, 0.800000011920929, 0.400000005960464]\n",
      "skipping record wih invalid buffers in snapshot 525769, filename 2018-08-16--16-48-18--521 and camera [0.0, 2.0, 0.300000011920929]\n"
     ]
    },
    {
     "name": "stderr",
     "output_type": "stream",
     "text": [
      "\r",
      "                                                                               \r",
      "\r",
      " 28% 592 |################                                          |   5.1 B/s"
     ]
    },
    {
     "name": "stdout",
     "output_type": "stream",
     "text": [
      "skipping record wih invalid buffers in snapshot 525772, filename 2018-08-16--16-48-19--485 and camera [0.800000011920929, 0.800000011920929, 0.400000005960464]\n"
     ]
    },
    {
     "name": "stderr",
     "output_type": "stream",
     "text": [
      "\r",
      "                                                                               \r",
      "\r",
      " 28% 593 |################                                          |   5.1 B/s"
     ]
    },
    {
     "name": "stdout",
     "output_type": "stream",
     "text": [
      "skipping record wih invalid buffers in snapshot 525771, filename 2018-08-16--16-48-19--173 and camera [0.0, -2.29999995231628, 0.300000011920929]\n",
      "skipping record wih invalid buffers in snapshot 525773, filename 2018-08-16--16-48-19--967 and camera [0.0, 2.0, 0.300000011920929]\n"
     ]
    },
    {
     "name": "stderr",
     "output_type": "stream",
     "text": [
      " 28% 596 |################                                          |   5.1 B/s"
     ]
    },
    {
     "name": "stdout",
     "output_type": "stream",
     "text": [
      "skipping record wih invalid buffers in snapshot 525777, filename 2018-08-16--16-48-21--557 and camera [0.0, 2.0, 0.300000011920929]\n",
      "skipping record wih invalid buffers in snapshot 525776, filename 2018-08-16--16-48-21--090 and camera [0.800000011920929, 0.800000011920929, 0.400000005960464]\n"
     ]
    },
    {
     "name": "stderr",
     "output_type": "stream",
     "text": [
      "\r",
      "                                                                               \r",
      "\r",
      " 28% 597 |################                                          |   5.1 B/s"
     ]
    },
    {
     "name": "stdout",
     "output_type": "stream",
     "text": [
      "skipping record wih invalid buffers in snapshot 525774, filename 2018-08-16--16-48-20--467 and camera [-0.800000011920929, 0.800000011920929, 0.400000005960464]\n",
      "skipping record wih invalid buffers in snapshot 525778, filename 2018-08-16--16-48-21--915 and camera [-0.800000011920929, 0.800000011920929, 0.400000005960464]\n",
      "skipping record wih invalid buffers in snapshot 525775, filename 2018-08-16--16-48-20--799 and camera [0.0, -2.29999995231628, 0.300000011920929]\n"
     ]
    },
    {
     "name": "stderr",
     "output_type": "stream",
     "text": [
      "\r",
      "                                                                               \r",
      "\r",
      " 28% 600 |################                                          |   5.1 B/s"
     ]
    },
    {
     "name": "stdout",
     "output_type": "stream",
     "text": [
      "skipping record wih invalid buffers in snapshot 525779, filename 2018-08-16--16-48-22--270 and camera [0.0, -2.29999995231628, 0.300000011920929]\n"
     ]
    },
    {
     "name": "stderr",
     "output_type": "stream",
     "text": [
      "\r",
      "                                                                               \r",
      "\r",
      " 28% 601 |################                                          |   5.1 B/s"
     ]
    },
    {
     "name": "stdout",
     "output_type": "stream",
     "text": [
      "skipping record wih invalid buffers in snapshot 525780, filename 2018-08-16--16-48-22--583 and camera [0.800000011920929, 0.800000011920929, 0.400000005960464]\n",
      "skipping record wih invalid buffers in snapshot 525781, filename 2018-08-16--16-48-23--113 and camera [0.0, 2.0, 0.300000011920929]\n"
     ]
    },
    {
     "name": "stderr",
     "output_type": "stream",
     "text": [
      " 29% 604 |################                                          |   5.1 B/s"
     ]
    },
    {
     "name": "stdout",
     "output_type": "stream",
     "text": [
      "skipping record wih invalid buffers in snapshot 525782, filename 2018-08-16--16-48-23--472 and camera [-0.800000011920929, 0.800000011920929, 0.400000005960464]\n",
      "skipping record wih invalid buffers in snapshot 525783, filename 2018-08-16--16-48-23--743 and camera [0.0, -2.29999995231628, 0.300000011920929]\n",
      "skipping record wih invalid buffers in snapshot 525786, filename 2018-08-16--16-48-25--256 and camera [-0.800000011920929, 0.800000011920929, 0.400000005960464]\n"
     ]
    },
    {
     "name": "stderr",
     "output_type": "stream",
     "text": [
      " 29% 608 |################                                          |   5.1 B/s"
     ]
    },
    {
     "name": "stdout",
     "output_type": "stream",
     "text": [
      "skipping record wih invalid buffers in snapshot 525784, filename 2018-08-16--16-48-24--097 and camera [0.800000011920929, 0.800000011920929, 0.400000005960464]\n",
      "skipping record wih invalid buffers in snapshot 525785, filename 2018-08-16--16-48-24--639 and camera [0.0, 2.0, 0.300000011920929]\n",
      "skipping record wih invalid buffers in snapshot 525787, filename 2018-08-16--16-48-25--641 and camera [0.0, -2.29999995231628, 0.300000011920929]\n",
      "skipping record wih invalid buffers in snapshot 525788, filename 2018-08-16--16-48-26--000 and camera [0.800000011920929, 0.800000011920929, 0.400000005960464]\n"
     ]
    },
    {
     "name": "stderr",
     "output_type": "stream",
     "text": [
      "\r",
      "                                                                               \r",
      "\r",
      " 29% 610 |#################                                         |   5.1 B/s"
     ]
    },
    {
     "name": "stdout",
     "output_type": "stream",
     "text": [
      "skipping record wih invalid buffers in snapshot 525789, filename 2018-08-16--16-48-26--486 and camera [0.0, 2.0, 0.300000011920929]\n"
     ]
    },
    {
     "name": "stderr",
     "output_type": "stream",
     "text": [
      " 29% 612 |#################                                         |   5.1 B/s"
     ]
    },
    {
     "name": "stdout",
     "output_type": "stream",
     "text": [
      "skipping record wih invalid buffers in snapshot 525790, filename 2018-08-16--16-48-26--809 and camera [-0.800000011920929, 0.800000011920929, 0.400000005960464]\n",
      "skipping record wih invalid buffers in snapshot 525793, filename 2018-08-16--16-48-28--296 and camera [0.0, 2.0, 0.300000011920929]\n"
     ]
    },
    {
     "name": "stderr",
     "output_type": "stream",
     "text": [
      " 29% 614 |#################                                         |   5.1 B/s"
     ]
    },
    {
     "name": "stdout",
     "output_type": "stream",
     "text": [
      "skipping record wih invalid buffers in snapshot 525791, filename 2018-08-16--16-48-27--371 and camera [0.0, -2.29999995231628, 0.300000011920929]\n",
      "skipping record wih invalid buffers in snapshot 525795, filename 2018-08-16--16-48-28--982 and camera [0.0, -2.29999995231628, 0.300000011920929]\n",
      "skipping record wih invalid buffers in snapshot 525792, filename 2018-08-16--16-48-27--684 and camera [0.800000011920929, 0.800000011920929, 0.400000005960464]\n"
     ]
    },
    {
     "name": "stderr",
     "output_type": "stream",
     "text": [
      " 29% 618 |#################                                         |   5.1 B/s"
     ]
    },
    {
     "name": "stdout",
     "output_type": "stream",
     "text": [
      "skipping record wih invalid buffers in snapshot 525796, filename 2018-08-16--16-48-29--287 and camera [0.800000011920929, 0.800000011920929, 0.400000005960464]\n",
      "skipping record wih invalid buffers in snapshot 525794, filename 2018-08-16--16-48-28--639 and camera [-0.800000011920929, 0.800000011920929, 0.400000005960464]\n",
      "skipping record wih invalid buffers in snapshot 525797, filename 2018-08-16--16-48-29--775 and camera [0.0, 2.0, 0.300000011920929]\n"
     ]
    },
    {
     "name": "stderr",
     "output_type": "stream",
     "text": [
      "\r",
      "                                                                               \r",
      "\r",
      " 29% 619 |#################                                         |   5.1 B/s"
     ]
    },
    {
     "name": "stdout",
     "output_type": "stream",
     "text": [
      "skipping record wih invalid buffers in snapshot 525798, filename 2018-08-16--16-48-30--261 and camera [-0.800000011920929, 0.800000011920929, 0.400000005960464]\n"
     ]
    },
    {
     "name": "stderr",
     "output_type": "stream",
     "text": [
      " 29% 621 |#################                                         |   5.1 B/s"
     ]
    },
    {
     "name": "stdout",
     "output_type": "stream",
     "text": [
      "skipping record wih invalid buffers in snapshot 525799, filename 2018-08-16--16-48-30--632 and camera [0.0, -2.29999995231628, 0.300000011920929]\n",
      "skipping record wih invalid buffers in snapshot 525800, filename 2018-08-16--16-48-31--003 and camera [0.800000011920929, 0.800000011920929, 0.400000005960464]\n",
      "skipping record wih invalid buffers in snapshot 525801, filename 2018-08-16--16-48-31--468 and camera [0.0, 2.0, 0.300000011920929]\n"
     ]
    },
    {
     "name": "stderr",
     "output_type": "stream",
     "text": [
      "\r",
      "                                                                               \r",
      "\r",
      " 30% 623 |#################                                         |   5.1 B/s"
     ]
    },
    {
     "name": "stdout",
     "output_type": "stream",
     "text": [
      "skipping record wih invalid buffers in snapshot 525802, filename 2018-08-16--16-48-31--934 and camera [-0.800000011920929, 0.800000011920929, 0.400000005960464]\n"
     ]
    },
    {
     "name": "stderr",
     "output_type": "stream",
     "text": [
      " 32% 681 |###################                                       |   5.1 B/s"
     ]
    },
    {
     "name": "stdout",
     "output_type": "stream",
     "text": [
      "skipping record wih invalid buffers in snapshot 525863, filename 2018-08-16--16-48-59--636 and camera [0.0, -2.29999995231628, 0.300000011920929]\n"
     ]
    },
    {
     "name": "stderr",
     "output_type": "stream",
     "text": [
      " 33% 686 |###################                                       |   5.1 B/s"
     ]
    },
    {
     "name": "stdout",
     "output_type": "stream",
     "text": [
      "skipping record wih invalid buffers in snapshot 525864, filename 2018-08-16--16-49-00--025 and camera [0.800000011920929, 0.800000011920929, 0.400000005960464]\n",
      "skipping record wih invalid buffers in snapshot 525865, filename 2018-08-16--16-49-00--552 and camera [0.0, 2.0, 0.300000011920929]\n"
     ]
    },
    {
     "name": "stderr",
     "output_type": "stream",
     "text": [
      " 33% 688 |###################                                       |   5.1 B/s"
     ]
    },
    {
     "name": "stdout",
     "output_type": "stream",
     "text": [
      "skipping record wih invalid buffers in snapshot 525866, filename 2018-08-16--16-49-00--891 and camera [-0.800000011920929, 0.800000011920929, 0.400000005960464]\n",
      "skipping record wih invalid buffers in snapshot 525868, filename 2018-08-16--16-49-01--551 and camera [0.800000011920929, 0.800000011920929, 0.400000005960464]\n"
     ]
    },
    {
     "name": "stderr",
     "output_type": "stream",
     "text": [
      " 33% 691 |###################                                       |   5.1 B/s"
     ]
    },
    {
     "name": "stdout",
     "output_type": "stream",
     "text": [
      "skipping record wih invalid buffers in snapshot 525869, filename 2018-08-16--16-49-02--106 and camera [0.0, 2.0, 0.300000011920929]\n",
      "skipping record wih invalid buffers in snapshot 525870, filename 2018-08-16--16-49-02--468 and camera [-0.800000011920929, 0.800000011920929, 0.400000005960464]\n"
     ]
    },
    {
     "name": "stderr",
     "output_type": "stream",
     "text": [
      " 33% 695 |###################                                       |   5.1 B/s"
     ]
    },
    {
     "name": "stdout",
     "output_type": "stream",
     "text": [
      "skipping record wih invalid buffers in snapshot 525872, filename 2018-08-16--16-49-03--123 and camera [0.800000011920929, 0.800000011920929, 0.400000005960464]\n",
      "skipping record wih invalid buffers in snapshot 525873, filename 2018-08-16--16-49-03--667 and camera [0.0, 2.0, 0.300000011920929]\n",
      "skipping record wih invalid buffers in snapshot 525874, filename 2018-08-16--16-49-04--103 and camera [-0.800000011920929, 0.800000011920929, 0.400000005960464]\n"
     ]
    },
    {
     "name": "stderr",
     "output_type": "stream",
     "text": [
      "\r",
      "                                                                               \r",
      "\r",
      " 33% 696 |###################                                       |   5.1 B/s"
     ]
    },
    {
     "name": "stdout",
     "output_type": "stream",
     "text": [
      "skipping record wih invalid buffers in snapshot 525875, filename 2018-08-16--16-49-04--417 and camera [0.0, -2.29999995231628, 0.300000011920929]\n"
     ]
    },
    {
     "name": "stderr",
     "output_type": "stream",
     "text": [
      " 33% 699 |###################                                       |   5.1 B/s"
     ]
    },
    {
     "name": "stdout",
     "output_type": "stream",
     "text": [
      "skipping record wih invalid buffers in snapshot 525876, filename 2018-08-16--16-49-04--820 and camera [0.800000011920929, 0.800000011920929, 0.400000005960464]\n",
      "skipping record wih invalid buffers in snapshot 525878, filename 2018-08-16--16-49-05--641 and camera [-0.800000011920929, 0.800000011920929, 0.400000005960464]\n",
      "skipping record wih invalid buffers in snapshot 525877, filename 2018-08-16--16-49-05--327 and camera [0.0, 2.0, 0.300000011920929]\n"
     ]
    },
    {
     "name": "stderr",
     "output_type": "stream",
     "text": [
      "\r",
      "                                                                               \r",
      "\r",
      " 33% 700 |###################                                       |   5.1 B/s"
     ]
    },
    {
     "name": "stdout",
     "output_type": "stream",
     "text": [
      "skipping record wih invalid buffers in snapshot 525882, filename 2018-08-16--16-49-07--300 and camera [-0.800000011920929, 0.800000011920929, 0.400000005960464]\n",
      "skipping record wih invalid buffers in snapshot 525879, filename 2018-08-16--16-49-06--060 and camera [0.0, -2.29999995231628, 0.300000011920929]\n"
     ]
    },
    {
     "name": "stderr",
     "output_type": "stream",
     "text": [
      " 33% 703 |###################                                       |   5.1 B/s"
     ]
    },
    {
     "name": "stdout",
     "output_type": "stream",
     "text": [
      "skipping record wih invalid buffers in snapshot 525880, filename 2018-08-16--16-49-06--447 and camera [0.800000011920929, 0.800000011920929, 0.400000005960464]\n",
      "skipping record wih invalid buffers in snapshot 525881, filename 2018-08-16--16-49-06--924 and camera [0.0, 2.0, 0.300000011920929]\n",
      "skipping record wih invalid buffers in snapshot 525883, filename 2018-08-16--16-49-07--689 and camera [0.0, -2.29999995231628, 0.300000011920929]\n"
     ]
    },
    {
     "name": "stderr",
     "output_type": "stream",
     "text": [
      " 34% 706 |###################                                       |   5.2 B/s"
     ]
    },
    {
     "name": "stdout",
     "output_type": "stream",
     "text": [
      "skipping record wih invalid buffers in snapshot 525885, filename 2018-08-16--16-49-08--493 and camera [0.0, 2.0, 0.300000011920929]\n",
      "skipping record wih invalid buffers in snapshot 525884, filename 2018-08-16--16-49-08--017 and camera [0.800000011920929, 0.800000011920929, 0.400000005960464]\n",
      "skipping record wih invalid buffers in snapshot 525886, filename 2018-08-16--16-49-08--925 and camera [-0.800000011920929, 0.800000011920929, 0.400000005960464]\n",
      "skipping record wih invalid buffers in snapshot 525888, filename 2018-08-16--16-49-09--635 and camera [0.800000011920929, 0.800000011920929, 0.400000005960464]\n"
     ]
    },
    {
     "name": "stderr",
     "output_type": "stream",
     "text": [
      "\r",
      "                                                                               \r",
      "\r",
      " 34% 709 |###################                                       |   5.2 B/s"
     ]
    },
    {
     "name": "stdout",
     "output_type": "stream",
     "text": [
      "skipping record wih invalid buffers in snapshot 525887, filename 2018-08-16--16-49-09--293 and camera [0.0, -2.29999995231628, 0.300000011920929]\n"
     ]
    },
    {
     "name": "stderr",
     "output_type": "stream",
     "text": [
      " 39% 819 |######################                                    |   5.2 B/sC:\\ProgramData\\Anaconda3\\lib\\site-packages\\tifffile\\tifffile.py:2642: RuntimeWarning: py_decodelzw encountered unexpected end of stream\n",
      "  strip = decompress(strip)\n",
      " 46% 968 |###########################                               |   5.1 B/s"
     ]
    },
    {
     "name": "stdout",
     "output_type": "stream",
     "text": [
      "skipping record wih invalid buffers in snapshot 526150, filename 2018-08-16--16-51-02--495 and camera [0.800000011920929, 0.800000011920929, 0.400000005960464]\n",
      "skipping record wih invalid buffers in snapshot 526153, filename 2018-08-16--16-51-03--695 and camera [0.0, -2.29999995231628, 0.300000011920929]\n",
      "skipping record wih invalid buffers in snapshot 526152, filename 2018-08-16--16-51-03--410 and camera [-0.800000011920929, 0.800000011920929, 0.400000005960464]\n",
      "skipping record wih invalid buffers in snapshot 526151, filename 2018-08-16--16-51-03--037 and camera [0.0, 2.0, 0.300000011920929]\n"
     ]
    },
    {
     "name": "stderr",
     "output_type": "stream",
     "text": [
      " 46% 974 |###########################                               |   5.1 B/s"
     ]
    },
    {
     "name": "stdout",
     "output_type": "stream",
     "text": [
      "skipping record wih invalid buffers in snapshot 526154, filename 2018-08-16--16-51-04--027 and camera [0.800000011920929, 0.800000011920929, 0.400000005960464]\n"
     ]
    },
    {
     "name": "stderr",
     "output_type": "stream",
     "text": [
      " 47% 977 |###########################                               |   5.1 B/s"
     ]
    },
    {
     "name": "stdout",
     "output_type": "stream",
     "text": [
      "skipping record wih invalid buffers in snapshot 526155, filename 2018-08-16--16-51-04--563 and camera [0.0, 2.0, 0.300000011920929]\n",
      "skipping record wih invalid buffers in snapshot 526156, filename 2018-08-16--16-51-04--898 and camera [-0.800000011920929, 0.800000011920929, 0.400000005960464]\n",
      "skipping record wih invalid buffers in snapshot 526157, filename 2018-08-16--16-51-05--208 and camera [0.0, -2.29999995231628, 0.300000011920929]\n"
     ]
    },
    {
     "name": "stderr",
     "output_type": "stream",
     "text": [
      " 47% 981 |###########################                               |   5.1 B/s"
     ]
    },
    {
     "name": "stdout",
     "output_type": "stream",
     "text": [
      "skipping record wih invalid buffers in snapshot 526158, filename 2018-08-16--16-51-05--618 and camera [0.800000011920929, 0.800000011920929, 0.400000005960464]\n",
      "skipping record wih invalid buffers in snapshot 526160, filename 2018-08-16--16-51-06--524 and camera [-0.800000011920929, 0.800000011920929, 0.400000005960464]\n",
      "skipping record wih invalid buffers in snapshot 526159, filename 2018-08-16--16-51-06--161 and camera [0.0, 2.0, 0.300000011920929]\n"
     ]
    },
    {
     "name": "stderr",
     "output_type": "stream",
     "text": [
      "\r",
      "                                                                               \r",
      "\r",
      " 47% 983 |###########################                               |   5.1 B/s"
     ]
    },
    {
     "name": "stdout",
     "output_type": "stream",
     "text": [
      "skipping record wih invalid buffers in snapshot 526161, filename 2018-08-16--16-51-06--801 and camera [0.0, -2.29999995231628, 0.300000011920929]\n",
      "skipping record wih invalid buffers in snapshot 526162, filename 2018-08-16--16-51-07--392 and camera [0.800000011920929, 0.800000011920929, 0.400000005960464]\n"
     ]
    },
    {
     "name": "stderr",
     "output_type": "stream",
     "text": [
      " 47% 985 |###########################                               |   5.1 B/s"
     ]
    },
    {
     "name": "stdout",
     "output_type": "stream",
     "text": [
      "skipping record wih invalid buffers in snapshot 526163, filename 2018-08-16--16-51-07--906 and camera [0.0, 2.0, 0.300000011920929]\n",
      "skipping record wih invalid buffers in snapshot 526165, filename 2018-08-16--16-51-08--539 and camera [0.0, -2.29999995231628, 0.300000011920929]\n"
     ]
    },
    {
     "name": "stderr",
     "output_type": "stream",
     "text": [
      " 47% 989 |###########################                               |   5.1 B/s"
     ]
    },
    {
     "name": "stdout",
     "output_type": "stream",
     "text": [
      "skipping record wih invalid buffers in snapshot 526166, filename 2018-08-16--16-51-08--932 and camera [0.800000011920929, 0.800000011920929, 0.400000005960464]\n",
      "skipping record wih invalid buffers in snapshot 526164, filename 2018-08-16--16-51-08--201 and camera [-0.800000011920929, 0.800000011920929, 0.400000005960464]\n",
      "skipping record wih invalid buffers in snapshot 526167, filename 2018-08-16--16-51-09--453 and camera [0.0, 2.0, 0.300000011920929]\n",
      "skipping record wih invalid buffers in snapshot 526168, filename 2018-08-16--16-51-09--789 and camera [-0.800000011920929, 0.800000011920929, 0.400000005960464]\n"
     ]
    },
    {
     "name": "stderr",
     "output_type": "stream",
     "text": [
      " 47% 991 |###########################                               |   5.1 B/s"
     ]
    },
    {
     "name": "stdout",
     "output_type": "stream",
     "text": [
      "skipping record wih invalid buffers in snapshot 526170, filename 2018-08-16--16-51-10--505 and camera [0.800000011920929, 0.800000011920929, 0.400000005960464]\n",
      "skipping record wih invalid buffers in snapshot 526172, filename 2018-08-16--16-51-11--438 and camera [-0.800000011920929, 0.800000011920929, 0.400000005960464]\n"
     ]
    },
    {
     "name": "stderr",
     "output_type": "stream",
     "text": [
      " 47% 994 |###########################                               |   5.1 B/s"
     ]
    },
    {
     "name": "stdout",
     "output_type": "stream",
     "text": [
      "skipping record wih invalid buffers in snapshot 526171, filename 2018-08-16--16-51-11--000 and camera [0.0, 2.0, 0.300000011920929]\n",
      "skipping record wih invalid buffers in snapshot 526176, filename 2018-08-16--16-51-13--009 and camera [-0.800000011920929, 0.800000011920929, 0.400000005960464]\n"
     ]
    },
    {
     "name": "stderr",
     "output_type": "stream",
     "text": [
      "\r",
      "                                                                               \r",
      "\r",
      " 47% 995 |###########################                               |   5.1 B/s"
     ]
    },
    {
     "name": "stdout",
     "output_type": "stream",
     "text": [
      "skipping record wih invalid buffers in snapshot 526175, filename 2018-08-16--16-51-12--599 and camera [0.0, 2.0, 0.300000011920929]\n",
      "skipping record wih invalid buffers in snapshot 526173, filename 2018-08-16--16-51-11--791 and camera [0.0, -2.29999995231628, 0.300000011920929]\n",
      "skipping record wih invalid buffers in snapshot 526174, filename 2018-08-16--16-51-12--117 and camera [0.800000011920929, 0.800000011920929, 0.400000005960464]\n"
     ]
    },
    {
     "name": "stderr",
     "output_type": "stream",
     "text": [
      " 48% 999 |###########################                               |   5.1 B/s"
     ]
    },
    {
     "name": "stdout",
     "output_type": "stream",
     "text": [
      "skipping record wih invalid buffers in snapshot 526177, filename 2018-08-16--16-51-13--330 and camera [0.0, -2.29999995231628, 0.300000011920929]\n",
      "skipping record wih invalid buffers in snapshot 526178, filename 2018-08-16--16-51-13--765 and camera [0.800000011920929, 0.800000011920929, 0.400000005960464]\n"
     ]
    },
    {
     "name": "stderr",
     "output_type": "stream",
     "text": [
      " 48% 1001 |###########################                              |   5.1 B/s"
     ]
    },
    {
     "name": "stdout",
     "output_type": "stream",
     "text": [
      "skipping record wih invalid buffers in snapshot 526179, filename 2018-08-16--16-51-14--383 and camera [0.0, 2.0, 0.300000011920929]\n",
      "skipping record wih invalid buffers in snapshot 526180, filename 2018-08-16--16-51-14--706 and camera [-0.800000011920929, 0.800000011920929, 0.400000005960464]\n"
     ]
    },
    {
     "name": "stderr",
     "output_type": "stream",
     "text": [
      "\r",
      "                                                                               \r",
      "\r",
      " 48% 1002 |###########################                              |   5.1 B/s"
     ]
    },
    {
     "name": "stdout",
     "output_type": "stream",
     "text": [
      "skipping record wih invalid buffers in snapshot 526181, filename 2018-08-16--16-51-15--053 and camera [0.0, -2.29999995231628, 0.300000011920929]\n",
      "skipping record wih invalid buffers in snapshot 526182, filename 2018-08-16--16-51-15--428 and camera [0.800000011920929, 0.800000011920929, 0.400000005960464]\n"
     ]
    },
    {
     "name": "stderr",
     "output_type": "stream",
     "text": [
      "\r",
      "                                                                               \r",
      "\r",
      " 48% 1004 |###########################                              |   5.1 B/s"
     ]
    },
    {
     "name": "stdout",
     "output_type": "stream",
     "text": [
      "skipping record wih invalid buffers in snapshot 526183, filename 2018-08-16--16-51-16--003 and camera [0.0, 2.0, 0.300000011920929]\n"
     ]
    },
    {
     "name": "stderr",
     "output_type": "stream",
     "text": [
      " 48% 1007 |###########################                              |   5.1 B/s"
     ]
    },
    {
     "name": "stdout",
     "output_type": "stream",
     "text": [
      "skipping record wih invalid buffers in snapshot 526186, filename 2018-08-16--16-51-17--019 and camera [0.800000011920929, 0.800000011920929, 0.400000005960464]\n",
      "skipping record wih invalid buffers in snapshot 526184, filename 2018-08-16--16-51-16--320 and camera [-0.800000011920929, 0.800000011920929, 0.400000005960464]\n",
      "skipping record wih invalid buffers in snapshot 526185, filename 2018-08-16--16-51-16--652 and camera [0.0, -2.29999995231628, 0.300000011920929]\n"
     ]
    },
    {
     "name": "stderr",
     "output_type": "stream",
     "text": [
      " 50% 1055 |############################                             |   5.1 B/s"
     ]
    },
    {
     "name": "stdout",
     "output_type": "stream",
     "text": [
      "skipping record wih invalid buffers in snapshot 526237, filename 2018-08-16--16-51-40--983 and camera [0.0, -2.29999995231628, 0.300000011920929]\n"
     ]
    },
    {
     "name": "stderr",
     "output_type": "stream",
     "text": [
      " 51% 1059 |#############################                            |   5.1 B/s"
     ]
    },
    {
     "name": "stdout",
     "output_type": "stream",
     "text": [
      "skipping record wih invalid buffers in snapshot 526238, filename 2018-08-16--16-51-41--308 and camera [0.800000011920929, 0.800000011920929, 0.400000005960464]\n",
      "skipping record wih invalid buffers in snapshot 526239, filename 2018-08-16--16-51-41--849 and camera [0.0, 2.0, 0.300000011920929]\n"
     ]
    },
    {
     "name": "stderr",
     "output_type": "stream",
     "text": [
      "\r",
      "                                                                               \r",
      "\r",
      " 51% 1062 |#############################                            |   5.1 B/s"
     ]
    },
    {
     "name": "stdout",
     "output_type": "stream",
     "text": [
      "skipping record wih invalid buffers in snapshot 526240, filename 2018-08-16--16-51-42--324 and camera [-0.800000011920929, 0.800000011920929, 0.400000005960464]\n",
      "skipping record wih invalid buffers in snapshot 526241, filename 2018-08-16--16-51-42--699 and camera [0.0, -2.29999995231628, 0.300000011920929]\n"
     ]
    },
    {
     "name": "stderr",
     "output_type": "stream",
     "text": [
      " 51% 1065 |#############################                            |   5.1 B/s"
     ]
    },
    {
     "name": "stdout",
     "output_type": "stream",
     "text": [
      "skipping record wih invalid buffers in snapshot 526243, filename 2018-08-16--16-51-43--771 and camera [0.0, 2.0, 0.300000011920929]\n",
      "skipping record wih invalid buffers in snapshot 526242, filename 2018-08-16--16-51-43--022 and camera [0.800000011920929, 0.800000011920929, 0.400000005960464]\n",
      "skipping record wih invalid buffers in snapshot 526245, filename 2018-08-16--16-51-44--438 and camera [0.0, -2.29999995231628, 0.300000011920929]\n"
     ]
    },
    {
     "name": "stderr",
     "output_type": "stream",
     "text": [
      " 51% 1067 |#############################                            |   5.1 B/s"
     ]
    },
    {
     "name": "stdout",
     "output_type": "stream",
     "text": [
      "skipping record wih invalid buffers in snapshot 526244, filename 2018-08-16--16-51-44--142 and camera [-0.800000011920929, 0.800000011920929, 0.400000005960464]\n",
      "skipping record wih invalid buffers in snapshot 526246, filename 2018-08-16--16-51-44--840 and camera [0.800000011920929, 0.800000011920929, 0.400000005960464]\n"
     ]
    },
    {
     "name": "stderr",
     "output_type": "stream",
     "text": [
      "\r",
      "                                                                               \r",
      "\r",
      " 51% 1070 |#############################                            |   5.2 B/s"
     ]
    },
    {
     "name": "stdout",
     "output_type": "stream",
     "text": [
      "skipping record wih invalid buffers in snapshot 526247, filename 2018-08-16--16-51-45--406 and camera [0.0, 2.0, 0.300000011920929]\n",
      "skipping record wih invalid buffers in snapshot 526249, filename 2018-08-16--16-51-46--075 and camera [0.0, -2.29999995231628, 0.300000011920929]\n",
      "skipping record wih invalid buffers in snapshot 526248, filename 2018-08-16--16-51-45--794 and camera [-0.800000011920929, 0.800000011920929, 0.400000005960464]\n"
     ]
    },
    {
     "name": "stderr",
     "output_type": "stream",
     "text": [
      " 56% 1163 |###############################                          |   5.1 B/s"
     ]
    },
    {
     "name": "stdout",
     "output_type": "stream",
     "text": [
      "skipping record wih invalid buffers in snapshot 526341, filename 2018-08-16--16-52-26--756 and camera [0.0, -2.29999995231628, 0.300000011920929]\n",
      "skipping record wih invalid buffers in snapshot 526343, filename 2018-08-16--16-52-27--762 and camera [0.0, 2.0, 0.300000011920929]\n",
      "skipping record wih invalid buffers in snapshot 526342, filename 2018-08-16--16-52-27--115 and camera [0.800000011920929, 0.800000011920929, 0.400000005960464]\n"
     ]
    },
    {
     "name": "stderr",
     "output_type": "stream",
     "text": [
      "\r",
      "                                                                               \r",
      "\r",
      " 56% 1165 |###############################                          |   5.1 B/s"
     ]
    },
    {
     "name": "stdout",
     "output_type": "stream",
     "text": [
      "skipping record wih invalid buffers in snapshot 526344, filename 2018-08-16--16-52-28--061 and camera [-0.800000011920929, 0.800000011920929, 0.400000005960464]\n"
     ]
    },
    {
     "name": "stderr",
     "output_type": "stream",
     "text": [
      "\r",
      "                                                                               \r",
      "\r",
      " 56% 1166 |################################                         |   5.1 B/s"
     ]
    },
    {
     "name": "stdout",
     "output_type": "stream",
     "text": [
      "skipping record wih invalid buffers in snapshot 526347, filename 2018-08-16--16-52-29--476 and camera [0.0, 2.0, 0.300000011920929]\n",
      "skipping record wih invalid buffers in snapshot 526346, filename 2018-08-16--16-52-28--925 and camera [0.800000011920929, 0.800000011920929, 0.400000005960464]\n",
      "skipping record wih invalid buffers in snapshot 526345, filename 2018-08-16--16-52-28--555 and camera [0.0, -2.29999995231628, 0.300000011920929]\n",
      "skipping record wih invalid buffers in snapshot 526348, filename 2018-08-16--16-52-29--830 and camera [-0.800000011920929, 0.800000011920929, 0.400000005960464]\n"
     ]
    },
    {
     "name": "stderr",
     "output_type": "stream",
     "text": [
      "\r",
      "                                                                               \r",
      "\r",
      " 56% 1170 |################################                         |   5.1 B/s"
     ]
    },
    {
     "name": "stdout",
     "output_type": "stream",
     "text": [
      "skipping record wih invalid buffers in snapshot 526351, filename 2018-08-16--16-52-31--316 and camera [0.0, 2.0, 0.300000011920929]\n",
      "skipping record wih invalid buffers in snapshot 526350, filename 2018-08-16--16-52-30--638 and camera [0.800000011920929, 0.800000011920929, 0.400000005960464]\n",
      "skipping record wih invalid buffers in snapshot 526349, filename 2018-08-16--16-52-30--136 and camera [0.0, -2.29999995231628, 0.300000011920929]\n"
     ]
    },
    {
     "name": "stderr",
     "output_type": "stream",
     "text": [
      "\r",
      "                                                                               \r",
      "\r",
      " 56% 1173 |################################                         |   5.1 B/s"
     ]
    },
    {
     "name": "stdout",
     "output_type": "stream",
     "text": [
      "skipping record wih invalid buffers in snapshot 526352, filename 2018-08-16--16-52-31--675 and camera [-0.800000011920929, 0.800000011920929, 0.400000005960464]\n"
     ]
    },
    {
     "name": "stderr",
     "output_type": "stream",
     "text": [
      " 56% 1176 |################################                         |   5.1 B/s"
     ]
    },
    {
     "name": "stdout",
     "output_type": "stream",
     "text": [
      "skipping record wih invalid buffers in snapshot 526355, filename 2018-08-16--16-52-32--859 and camera [0.0, 2.0, 0.300000011920929]\n",
      "skipping record wih invalid buffers in snapshot 526356, filename 2018-08-16--16-52-33--204 and camera [-0.800000011920929, 0.800000011920929, 0.400000005960464]\n",
      "skipping record wih invalid buffers in snapshot 526354, filename 2018-08-16--16-52-32--319 and camera [0.800000011920929, 0.800000011920929, 0.400000005960464]\n",
      "skipping record wih invalid buffers in snapshot 526353, filename 2018-08-16--16-52-31--952 and camera [0.0, -2.29999995231628, 0.300000011920929]\n"
     ]
    },
    {
     "name": "stderr",
     "output_type": "stream",
     "text": [
      " 56% 1180 |################################                         |   5.2 B/s"
     ]
    },
    {
     "name": "stdout",
     "output_type": "stream",
     "text": [
      "skipping record wih invalid buffers in snapshot 526357, filename 2018-08-16--16-52-33--487 and camera [0.0, -2.29999995231628, 0.300000011920929]\n",
      "skipping record wih invalid buffers in snapshot 526359, filename 2018-08-16--16-52-34--803 and camera [0.0, 2.0, 0.300000011920929]\n",
      "skipping record wih invalid buffers in snapshot 526358, filename 2018-08-16--16-52-34--342 and camera [0.800000011920929, 0.800000011920929, 0.400000005960464]\n"
     ]
    },
    {
     "name": "stderr",
     "output_type": "stream",
     "text": [
      "\r",
      "                                                                               \r",
      "\r",
      " 56% 1181 |################################                         |   5.2 B/s"
     ]
    },
    {
     "name": "stdout",
     "output_type": "stream",
     "text": [
      "skipping record wih invalid buffers in snapshot 526360, filename 2018-08-16--16-52-35--261 and camera [-0.800000011920929, 0.800000011920929, 0.400000005960464]\n"
     ]
    },
    {
     "name": "stderr",
     "output_type": "stream",
     "text": [
      " 56% 1183 |################################                         |   5.2 B/s"
     ]
    },
    {
     "name": "stdout",
     "output_type": "stream",
     "text": [
      "skipping record wih invalid buffers in snapshot 526361, filename 2018-08-16--16-52-35--648 and camera [0.0, -2.29999995231628, 0.300000011920929]\n",
      "skipping record wih invalid buffers in snapshot 526362, filename 2018-08-16--16-52-35--944 and camera [0.800000011920929, 0.800000011920929, 0.400000005960464]\n"
     ]
    },
    {
     "name": "stderr",
     "output_type": "stream",
     "text": [
      " 57% 1187 |################################                         |   5.2 B/s"
     ]
    },
    {
     "name": "stdout",
     "output_type": "stream",
     "text": [
      "skipping record wih invalid buffers in snapshot 526367, filename 2018-08-16--16-52-38--160 and camera [0.0, 2.0, 0.300000011920929]\n",
      "skipping record wih invalid buffers in snapshot 526364, filename 2018-08-16--16-52-36--872 and camera [-0.800000011920929, 0.800000011920929, 0.400000005960464]\n",
      "skipping record wih invalid buffers in snapshot 526363, filename 2018-08-16--16-52-36--445 and camera [0.0, 2.0, 0.300000011920929]\n",
      "skipping record wih invalid buffers in snapshot 526365, filename 2018-08-16--16-52-37--277 and camera [0.0, -2.29999995231628, 0.300000011920929]\n",
      "skipping record wih invalid buffers in snapshot 526366, filename 2018-08-16--16-52-37--614 and camera [0.800000011920929, 0.800000011920929, 0.400000005960464]\n"
     ]
    },
    {
     "name": "stderr",
     "output_type": "stream",
     "text": [
      "\r",
      "                                                                               \r",
      "\r",
      " 57% 1189 |################################                         |   5.2 B/s"
     ]
    },
    {
     "name": "stdout",
     "output_type": "stream",
     "text": [
      "skipping record wih invalid buffers in snapshot 526368, filename 2018-08-16--16-52-38--550 and camera [-0.800000011920929, 0.800000011920929, 0.400000005960464]\n"
     ]
    },
    {
     "name": "stderr",
     "output_type": "stream",
     "text": [
      "\r",
      "                                                                               \r",
      "\r",
      " 57% 1190 |################################                         |   5.2 B/s"
     ]
    },
    {
     "name": "stdout",
     "output_type": "stream",
     "text": [
      "skipping record wih invalid buffers in snapshot 526370, filename 2018-08-16--16-52-39--231 and camera [0.800000011920929, 0.800000011920929, 0.400000005960464]\n",
      "skipping record wih invalid buffers in snapshot 526369, filename 2018-08-16--16-52-38--868 and camera [0.0, -2.29999995231628, 0.300000011920929]\n"
     ]
    },
    {
     "name": "stderr",
     "output_type": "stream",
     "text": [
      "\r",
      "                                                                               \r",
      "\r",
      " 57% 1192 |################################                         |   5.2 B/s"
     ]
    },
    {
     "name": "stdout",
     "output_type": "stream",
     "text": [
      "skipping record wih invalid buffers in snapshot 526373, filename 2018-08-16--16-52-40--398 and camera [0.0, -2.29999995231628, 0.300000011920929]skipping record wih invalid buffers in snapshot 526372, filename 2018-08-16--16-52-40--115 and camera [-0.800000011920929, 0.800000011920929, 0.400000005960464]\n",
      "\n",
      "skipping record wih invalid buffers in snapshot 526374, filename 2018-08-16--16-52-40--746 and camera [0.800000011920929, 0.800000011920929, 0.400000005960464]\n",
      "skipping record wih invalid buffers in snapshot 526375, filename 2018-08-16--16-52-41--492 and camera [0.0, 2.0, 0.300000011920929]\n"
     ]
    },
    {
     "name": "stderr",
     "output_type": "stream",
     "text": [
      "\r",
      "                                                                               \r",
      "\r",
      " 57% 1196 |################################                         |   5.2 B/s"
     ]
    },
    {
     "name": "stdout",
     "output_type": "stream",
     "text": [
      "skipping record wih invalid buffers in snapshot 526376, filename 2018-08-16--16-52-41--888 and camera [-0.800000011920929, 0.800000011920929, 0.400000005960464]\n"
     ]
    },
    {
     "name": "stderr",
     "output_type": "stream",
     "text": [
      "\r",
      "                                                                               \r",
      "\r",
      " 57% 1197 |################################                         |   5.2 B/s"
     ]
    },
    {
     "name": "stdout",
     "output_type": "stream",
     "text": [
      "skipping record wih invalid buffers in snapshot 526378, filename 2018-08-16--16-52-42--588 and camera [0.800000011920929, 0.800000011920929, 0.400000005960464]\n"
     ]
    },
    {
     "name": "stderr",
     "output_type": "stream",
     "text": [
      " 57% 1199 |################################                         |   5.2 B/s"
     ]
    },
    {
     "name": "stdout",
     "output_type": "stream",
     "text": [
      "skipping record wih invalid buffers in snapshot 526377, filename 2018-08-16--16-52-42--190 and camera [0.0, -2.29999995231628, 0.300000011920929]\n"
     ]
    },
    {
     "name": "stderr",
     "output_type": "stream",
     "text": [
      " 57% 1201 |################################                         |   5.2 B/s"
     ]
    },
    {
     "name": "stdout",
     "output_type": "stream",
     "text": [
      "skipping record wih invalid buffers in snapshot 526380, filename 2018-08-16--16-52-43--596 and camera [-0.800000011920929, 0.800000011920929, 0.400000005960464]\n",
      "skipping record wih invalid buffers in snapshot 526382, filename 2018-08-16--16-52-44--471 and camera [0.800000011920929, 0.800000011920929, 0.400000005960464]\n",
      "skipping record wih invalid buffers in snapshot 526381, filename 2018-08-16--16-52-43--930 and camera [0.0, -2.29999995231628, 0.300000011920929]\n",
      "skipping record wih invalid buffers in snapshot 526379, filename 2018-08-16--16-52-43--128 and camera [0.0, 2.0, 0.300000011920929]\n"
     ]
    },
    {
     "name": "stderr",
     "output_type": "stream",
     "text": [
      " 58% 1205 |#################################                        |   5.2 B/s"
     ]
    },
    {
     "name": "stdout",
     "output_type": "stream",
     "text": [
      "skipping record wih invalid buffers in snapshot 526383, filename 2018-08-16--16-52-44--946 and camera [0.0, 2.0, 0.300000011920929]\n",
      "skipping record wih invalid buffers in snapshot 526384, filename 2018-08-16--16-52-45--289 and camera [-0.800000011920929, 0.800000011920929, 0.400000005960464]\n"
     ]
    },
    {
     "name": "stderr",
     "output_type": "stream",
     "text": [
      "\r",
      "                                                                               \r",
      "\r",
      " 58% 1206 |#################################                        |   5.2 B/s"
     ]
    },
    {
     "name": "stdout",
     "output_type": "stream",
     "text": [
      "skipping record wih invalid buffers in snapshot 526385, filename 2018-08-16--16-52-45--622 and camera [0.0, -2.29999995231628, 0.300000011920929]\n",
      "skipping record wih invalid buffers in snapshot 526386, filename 2018-08-16--16-52-45--946 and camera [0.800000011920929, 0.800000011920929, 0.400000005960464]\n"
     ]
    },
    {
     "name": "stderr",
     "output_type": "stream",
     "text": [
      " 58% 1209 |#################################                        |   5.2 B/s"
     ]
    },
    {
     "name": "stdout",
     "output_type": "stream",
     "text": [
      "skipping record wih invalid buffers in snapshot 526387, filename 2018-08-16--16-52-46--456 and camera [0.0, 2.0, 0.300000011920929]\n",
      "skipping record wih invalid buffers in snapshot 526389, filename 2018-08-16--16-52-47--186 and camera [0.0, -2.29999995231628, 0.300000011920929]\n",
      "skipping record wih invalid buffers in snapshot 526390, filename 2018-08-16--16-52-47--493 and camera [0.800000011920929, 0.800000011920929, 0.400000005960464]\n"
     ]
    },
    {
     "name": "stderr",
     "output_type": "stream",
     "text": [
      "\r",
      "                                                                               \r",
      "\r",
      " 58% 1211 |#################################                        |   5.2 B/s"
     ]
    },
    {
     "name": "stdout",
     "output_type": "stream",
     "text": [
      "skipping record wih invalid buffers in snapshot 526388, filename 2018-08-16--16-52-46--828 and camera [-0.800000011920929, 0.800000011920929, 0.400000005960464]\n",
      "skipping record wih invalid buffers in snapshot 526391, filename 2018-08-16--16-52-48--020 and camera [0.0, 2.0, 0.300000011920929]\n"
     ]
    },
    {
     "name": "stderr",
     "output_type": "stream",
     "text": [
      "\r",
      "                                                                               \r",
      "\r",
      " 58% 1213 |#################################                        |   5.2 B/s"
     ]
    },
    {
     "name": "stdout",
     "output_type": "stream",
     "text": [
      "skipping record wih invalid buffers in snapshot 526392, filename 2018-08-16--16-52-48--381 and camera [-0.800000011920929, 0.800000011920929, 0.400000005960464]\n"
     ]
    },
    {
     "name": "stderr",
     "output_type": "stream",
     "text": [
      " 58% 1215 |#################################                        |   5.2 B/s"
     ]
    },
    {
     "name": "stdout",
     "output_type": "stream",
     "text": [
      "skipping record wih invalid buffers in snapshot 526393, filename 2018-08-16--16-52-48--681 and camera [0.0, -2.29999995231628, 0.300000011920929]\n",
      "skipping record wih invalid buffers in snapshot 526394, filename 2018-08-16--16-52-49--001 and camera [0.800000011920929, 0.800000011920929, 0.400000005960464]\n"
     ]
    },
    {
     "name": "stderr",
     "output_type": "stream",
     "text": [
      " 61% 1270 |##################################                       |   5.2 B/s"
     ]
    },
    {
     "name": "stdout",
     "output_type": "stream",
     "text": [
      "skipping record wih invalid buffers in snapshot 526454, filename 2018-08-16--16-53-12--917 and camera [0.800000011920929, 0.800000011920929, 0.400000005960464]\n",
      "skipping record wih invalid buffers in snapshot 526453, filename 2018-08-16--16-53-12--619 and camera [0.0, -2.29999995231628, 0.300000011920929]\n"
     ]
    },
    {
     "name": "stderr",
     "output_type": "stream",
     "text": [
      " 61% 1273 |##################################                       |   5.2 B/s"
     ]
    },
    {
     "name": "stdout",
     "output_type": "stream",
     "text": [
      "skipping record wih invalid buffers in snapshot 526455, filename 2018-08-16--16-53-13--383 and camera [0.0, 2.0, 0.300000011920929]\n"
     ]
    },
    {
     "name": "stderr",
     "output_type": "stream",
     "text": [
      "\r",
      "                                                                               \r",
      "\r",
      " 61% 1275 |###################################                      |   5.2 B/s"
     ]
    },
    {
     "name": "stdout",
     "output_type": "stream",
     "text": [
      "skipping record wih invalid buffers in snapshot 526456, filename 2018-08-16--16-53-13--731 and camera [-0.800000011920929, 0.800000011920929, 0.400000005960464]\n"
     ]
    },
    {
     "name": "stderr",
     "output_type": "stream",
     "text": [
      "\r",
      "                                                                               \r",
      "\r",
      " 61% 1278 |###################################                      |   5.2 B/s"
     ]
    },
    {
     "name": "stdout",
     "output_type": "stream",
     "text": [
      "skipping record wih invalid buffers in snapshot 526457, filename 2018-08-16--16-53-14--076 and camera [0.0, -2.29999995231628, 0.300000011920929]\n"
     ]
    },
    {
     "name": "stderr",
     "output_type": "stream",
     "text": [
      "\r",
      "                                                                               \r",
      "\r",
      " 61% 1279 |###################################                      |   5.1 B/s"
     ]
    },
    {
     "name": "stdout",
     "output_type": "stream",
     "text": [
      "skipping record wih invalid buffers in snapshot 526458, filename 2018-08-16--16-53-14--373 and camera [0.800000011920929, 0.800000011920929, 0.400000005960464]\n"
     ]
    },
    {
     "name": "stderr",
     "output_type": "stream",
     "text": [
      " 61% 1281 |###################################                      |   5.1 B/s"
     ]
    },
    {
     "name": "stdout",
     "output_type": "stream",
     "text": [
      "skipping record wih invalid buffers in snapshot 526464, filename 2018-08-16--16-53-16--918 and camera [-0.800000011920929, 0.800000011920929, 0.400000005960464]\n",
      "skipping record wih invalid buffers in snapshot 526459, filename 2018-08-16--16-53-14--850 and camera [0.0, 2.0, 0.300000011920929]\n",
      "skipping record wih invalid buffers in snapshot 526460, filename 2018-08-16--16-53-15--280 and camera [-0.800000011920929, 0.800000011920929, 0.400000005960464]\n",
      "skipping record wih invalid buffers in snapshot 526462, filename 2018-08-16--16-53-16--030 and camera [0.800000011920929, 0.800000011920929, 0.400000005960464]"
     ]
    },
    {
     "name": "stderr",
     "output_type": "stream",
     "text": [
      " 61% 1285 |###################################                      |   5.2 B/s"
     ]
    },
    {
     "name": "stdout",
     "output_type": "stream",
     "text": [
      "\n",
      "skipping record wih invalid buffers in snapshot 526461, filename 2018-08-16--16-53-15--650 and camera [0.0, -2.29999995231628, 0.300000011920929]\n",
      "skipping record wih invalid buffers in snapshot 526463, filename 2018-08-16--16-53-16--598 and camera [0.0, 2.0, 0.300000011920929]\n"
     ]
    },
    {
     "name": "stderr",
     "output_type": "stream",
     "text": [
      "\r",
      "                                                                               \r",
      "\r",
      " 61% 1286 |###################################                      |   5.1 B/s"
     ]
    },
    {
     "name": "stdout",
     "output_type": "stream",
     "text": [
      "skipping record wih invalid buffers in snapshot 526465, filename 2018-08-16--16-53-17--254 and camera [0.0, -2.29999995231628, 0.300000011920929]\n"
     ]
    },
    {
     "name": "stderr",
     "output_type": "stream",
     "text": [
      " 62% 1288 |###################################                      |   5.1 B/s"
     ]
    },
    {
     "name": "stdout",
     "output_type": "stream",
     "text": [
      "skipping record wih invalid buffers in snapshot 526466, filename 2018-08-16--16-53-17--608 and camera [0.800000011920929, 0.800000011920929, 0.400000005960464]\n",
      "skipping record wih invalid buffers in snapshot 526467, filename 2018-08-16--16-53-18--132 and camera [0.0, 2.0, 0.300000011920929]\n",
      "skipping record wih invalid buffers in snapshot 526470, filename 2018-08-16--16-53-19--117 and camera [0.800000011920929, 0.800000011920929, 0.400000005960464]\n"
     ]
    },
    {
     "name": "stderr",
     "output_type": "stream",
     "text": [
      " 62% 1293 |###################################                      |   5.1 B/s"
     ]
    },
    {
     "name": "stdout",
     "output_type": "stream",
     "text": [
      "skipping record wih invalid buffers in snapshot 526469, filename 2018-08-16--16-53-18--780 and camera [0.0, -2.29999995231628, 0.300000011920929]\n",
      "skipping record wih invalid buffers in snapshot 526468, filename 2018-08-16--16-53-18--428 and camera [-0.800000011920929, 0.800000011920929, 0.400000005960464]\n",
      "skipping record wih invalid buffers in snapshot 526472, filename 2018-08-16--16-53-19--910 and camera [-0.800000011920929, 0.800000011920929, 0.400000005960464]\n",
      "skipping record wih invalid buffers in snapshot 526471, filename 2018-08-16--16-53-19--593 and camera [0.0, 2.0, 0.300000011920929]\n"
     ]
    },
    {
     "name": "stderr",
     "output_type": "stream",
     "text": [
      " 62% 1296 |###################################                      |   5.2 B/s"
     ]
    },
    {
     "name": "stdout",
     "output_type": "stream",
     "text": [
      "skipping record wih invalid buffers in snapshot 526475, filename 2018-08-16--16-53-21--098 and camera [0.0, 2.0, 0.300000011920929]\n",
      "skipping record wih invalid buffers in snapshot 526473, filename 2018-08-16--16-53-20--240 and camera [0.0, -2.29999995231628, 0.300000011920929]\n",
      "skipping record wih invalid buffers in snapshot 526474, filename 2018-08-16--16-53-20--584 and camera [0.800000011920929, 0.800000011920929, 0.400000005960464]\n"
     ]
    },
    {
     "name": "stderr",
     "output_type": "stream",
     "text": [
      "\r",
      "                                                                               \r",
      "\r",
      " 62% 1297 |###################################                      |   5.1 B/s"
     ]
    },
    {
     "name": "stdout",
     "output_type": "stream",
     "text": [
      "skipping record wih invalid buffers in snapshot 526476, filename 2018-08-16--16-53-21--390 and camera [-0.800000011920929, 0.800000011920929, 0.400000005960464]\n"
     ]
    },
    {
     "name": "stderr",
     "output_type": "stream",
     "text": [
      " 62% 1300 |###################################                      |   5.2 B/s"
     ]
    },
    {
     "name": "stdout",
     "output_type": "stream",
     "text": [
      "skipping record wih invalid buffers in snapshot 526477, filename 2018-08-16--16-53-21--698 and camera [0.0, -2.29999995231628, 0.300000011920929]\n",
      "skipping record wih invalid buffers in snapshot 526480, filename 2018-08-16--16-53-22--876 and camera [-0.800000011920929, 0.800000011920929, 0.400000005960464]\n",
      "skipping record wih invalid buffers in snapshot 526479, filename 2018-08-16--16-53-22--564 and camera [0.0, 2.0, 0.300000011920929]\n",
      "skipping record wih invalid buffers in snapshot 526478, filename 2018-08-16--16-53-22--052 and camera [0.800000011920929, 0.800000011920929, 0.400000005960464]"
     ]
    },
    {
     "name": "stderr",
     "output_type": "stream",
     "text": [
      " 62% 1302 |###################################                      |   5.2 B/s"
     ]
    },
    {
     "name": "stdout",
     "output_type": "stream",
     "text": [
      "\n",
      "skipping record wih invalid buffers in snapshot 526482, filename 2018-08-16--16-53-23--595 and camera [0.800000011920929, 0.800000011920929, 0.400000005960464]\n",
      "skipping record wih invalid buffers in snapshot 526481, filename 2018-08-16--16-53-23--206 and camera [0.0, -2.29999995231628, 0.300000011920929]\n"
     ]
    },
    {
     "name": "stderr",
     "output_type": "stream",
     "text": [
      " 62% 1306 |###################################                      |   5.2 B/s"
     ]
    },
    {
     "name": "stdout",
     "output_type": "stream",
     "text": [
      "skipping record wih invalid buffers in snapshot 526484, filename 2018-08-16--16-53-24--372 and camera [-0.800000011920929, 0.800000011920929, 0.400000005960464]\n",
      "skipping record wih invalid buffers in snapshot 526485, filename 2018-08-16--16-53-24--834 and camera [0.0, -2.29999995231628, 0.300000011920929]\n"
     ]
    },
    {
     "name": "stderr",
     "output_type": "stream",
     "text": [
      " 63% 1309 |###################################                      |   5.2 B/s"
     ]
    },
    {
     "name": "stdout",
     "output_type": "stream",
     "text": [
      "skipping record wih invalid buffers in snapshot 526486, filename 2018-08-16--16-53-25--230 and camera [0.800000011920929, 0.800000011920929, 0.400000005960464]\n",
      "skipping record wih invalid buffers in snapshot 526487, filename 2018-08-16--16-53-25--693 and camera [0.0, 2.0, 0.300000011920929]\n",
      "skipping record wih invalid buffers in snapshot 526488, filename 2018-08-16--16-53-26--029 and camera [-0.800000011920929, 0.800000011920929, 0.400000005960464]\n"
     ]
    },
    {
     "name": "stderr",
     "output_type": "stream",
     "text": [
      " 63% 1311 |###################################                      |   5.2 B/s"
     ]
    },
    {
     "name": "stdout",
     "output_type": "stream",
     "text": [
      "skipping record wih invalid buffers in snapshot 526490, filename 2018-08-16--16-53-26--649 and camera [0.800000011920929, 0.800000011920929, 0.400000005960464]\n",
      "skipping record wih invalid buffers in snapshot 526489, filename 2018-08-16--16-53-26--314 and camera [0.0, -2.29999995231628, 0.300000011920929]\n"
     ]
    },
    {
     "name": "stderr",
     "output_type": "stream",
     "text": [
      " 63% 1314 |####################################                     |   5.2 B/s"
     ]
    },
    {
     "name": "stdout",
     "output_type": "stream",
     "text": [
      "skipping record wih invalid buffers in snapshot 526492, filename 2018-08-16--16-53-27--504 and camera [-0.800000011920929, 0.800000011920929, 0.400000005960464]\n",
      "skipping record wih invalid buffers in snapshot 526493, filename 2018-08-16--16-53-27--820 and camera [0.0, -2.29999995231628, 0.300000011920929]\n",
      "skipping record wih invalid buffers in snapshot 526491, filename 2018-08-16--16-53-27--152 and camera [0.0, 2.0, 0.300000011920929]\n"
     ]
    },
    {
     "name": "stderr",
     "output_type": "stream",
     "text": [
      "\r",
      "                                                                               \r",
      "\r",
      " 63% 1315 |####################################                     |   5.2 B/s"
     ]
    },
    {
     "name": "stdout",
     "output_type": "stream",
     "text": [
      "skipping record wih invalid buffers in snapshot 526495, filename 2018-08-16--16-53-28--662 and camera [0.0, 2.0, 0.300000011920929]\n",
      "skipping record wih invalid buffers in snapshot 526494, filename 2018-08-16--16-53-28--167 and camera [0.800000011920929, 0.800000011920929, 0.400000005960464]\n"
     ]
    },
    {
     "name": "stderr",
     "output_type": "stream",
     "text": [
      "\r",
      "                                                                               \r",
      "\r",
      " 63% 1317 |####################################                     |   5.2 B/s"
     ]
    },
    {
     "name": "stdout",
     "output_type": "stream",
     "text": [
      "skipping record wih invalid buffers in snapshot 526496, filename 2018-08-16--16-53-29--092 and camera [-0.800000011920929, 0.800000011920929, 0.400000005960464]\n",
      "skipping record wih invalid buffers in snapshot 526497, filename 2018-08-16--16-53-29--381 and camera [0.0, -2.29999995231628, 0.300000011920929]\n"
     ]
    },
    {
     "name": "stderr",
     "output_type": "stream",
     "text": [
      "\r",
      "                                                                               \r",
      "\r",
      " 63% 1319 |####################################                     |   5.2 B/s"
     ]
    },
    {
     "name": "stdout",
     "output_type": "stream",
     "text": [
      "skipping record wih invalid buffers in snapshot 526498, filename 2018-08-16--16-53-29--754 and camera [0.800000011920929, 0.800000011920929, 0.400000005960464]\n"
     ]
    },
    {
     "name": "stderr",
     "output_type": "stream",
     "text": [
      "\r",
      "                                                                               \r",
      "\r",
      " 63% 1320 |####################################                     |   5.2 B/s"
     ]
    },
    {
     "name": "stdout",
     "output_type": "stream",
     "text": [
      "skipping record wih invalid buffers in snapshot 526499, filename 2018-08-16--16-53-30--298 and camera [0.0, 2.0, 0.300000011920929]\n"
     ]
    },
    {
     "name": "stderr",
     "output_type": "stream",
     "text": [
      " 63% 1323 |####################################                     |   5.2 B/s"
     ]
    },
    {
     "name": "stdout",
     "output_type": "stream",
     "text": [
      "skipping record wih invalid buffers in snapshot 526503, filename 2018-08-16--16-53-31--794 and camera [0.0, 2.0, 0.300000011920929]\n",
      "skipping record wih invalid buffers in snapshot 526500, filename 2018-08-16--16-53-30--603 and camera [-0.800000011920929, 0.800000011920929, 0.400000005960464]\n",
      "skipping record wih invalid buffers in snapshot 526502, filename 2018-08-16--16-53-31--265 and camera [0.800000011920929, 0.800000011920929, 0.400000005960464]\n"
     ]
    },
    {
     "name": "stderr",
     "output_type": "stream",
     "text": [
      "\r",
      "                                                                               \r",
      "\r",
      " 63% 1326 |####################################                     |   5.2 B/s"
     ]
    },
    {
     "name": "stdout",
     "output_type": "stream",
     "text": [
      "skipping record wih invalid buffers in snapshot 526505, filename 2018-08-16--16-53-32--432 and camera [0.0, -2.29999995231628, 0.300000011920929]\n",
      "skipping record wih invalid buffers in snapshot 526504, filename 2018-08-16--16-53-32--093 and camera [-0.800000011920929, 0.800000011920929, 0.400000005960464]\n"
     ]
    },
    {
     "name": "stderr",
     "output_type": "stream",
     "text": [
      "\r",
      "                                                                               \r",
      "\r",
      " 63% 1327 |####################################                     |   5.2 B/s"
     ]
    },
    {
     "name": "stdout",
     "output_type": "stream",
     "text": [
      "skipping record wih invalid buffers in snapshot 526506, filename 2018-08-16--16-53-32--784 and camera [0.800000011920929, 0.800000011920929, 0.400000005960464]\n",
      "skipping record wih invalid buffers in snapshot 526507, filename 2018-08-16--16-53-33--226 and camera [0.0, 2.0, 0.300000011920929]\n"
     ]
    },
    {
     "name": "stderr",
     "output_type": "stream",
     "text": [
      " 64% 1331 |####################################                     |   5.2 B/s"
     ]
    },
    {
     "name": "stdout",
     "output_type": "stream",
     "text": [
      "skipping record wih invalid buffers in snapshot 526508, filename 2018-08-16--16-53-33--883 and camera [-0.800000011920929, 0.800000011920929, 0.400000005960464]\n",
      "skipping record wih invalid buffers in snapshot 526509, filename 2018-08-16--16-53-34--287 and camera [0.0, -2.29999995231628, 0.300000011920929]\n",
      "skipping record wih invalid buffers in snapshot 526511, filename 2018-08-16--16-53-35--113 and camera [0.0, 2.0, 0.300000011920929]\n",
      "skipping record wih invalid buffers in snapshot 526512, filename 2018-08-16--16-53-35--424 and camera [-0.800000011920929, 0.800000011920929, 0.400000005960464]\n"
     ]
    },
    {
     "name": "stderr",
     "output_type": "stream",
     "text": [
      "\r",
      "                                                                               \r",
      "\r",
      " 64% 1334 |####################################                     |   5.2 B/s"
     ]
    },
    {
     "name": "stdout",
     "output_type": "stream",
     "text": [
      "skipping record wih invalid buffers in snapshot 526510, filename 2018-08-16--16-53-34--649 and camera [0.800000011920929, 0.800000011920929, 0.400000005960464]\n",
      "skipping record wih invalid buffers in snapshot 526513, filename 2018-08-16--16-53-36--150 and camera [0.0, -2.29999995231628, 0.300000011920929]\n"
     ]
    },
    {
     "name": "stderr",
     "output_type": "stream",
     "text": [
      "\r",
      "                                                                               \r",
      "\r",
      " 64% 1335 |####################################                     |   5.2 B/s"
     ]
    },
    {
     "name": "stdout",
     "output_type": "stream",
     "text": [
      "skipping record wih invalid buffers in snapshot 526514, filename 2018-08-16--16-53-36--451 and camera [0.800000011920929, 0.800000011920929, 0.400000005960464]\n",
      "skipping record wih invalid buffers in snapshot 526515, filename 2018-08-16--16-53-36--935 and camera [0.0, 2.0, 0.300000011920929]\n"
     ]
    },
    {
     "name": "stderr",
     "output_type": "stream",
     "text": [
      " 64% 1338 |####################################                     |   5.2 B/s"
     ]
    },
    {
     "name": "stdout",
     "output_type": "stream",
     "text": [
      "skipping record wih invalid buffers in snapshot 526516, filename 2018-08-16--16-53-37--300 and camera [-0.800000011920929, 0.800000011920929, 0.400000005960464]\n",
      "skipping record wih invalid buffers in snapshot 526517, filename 2018-08-16--16-53-37--642 and camera [0.0, -2.29999995231628, 0.300000011920929]\n"
     ]
    },
    {
     "name": "stderr",
     "output_type": "stream",
     "text": [
      " 64% 1341 |####################################                     |   5.2 B/s"
     ]
    },
    {
     "name": "stdout",
     "output_type": "stream",
     "text": [
      "skipping record wih invalid buffers in snapshot 526520, filename 2018-08-16--16-53-38--984 and camera [-0.800000011920929, 0.800000011920929, 0.400000005960464]\n",
      "skipping record wih invalid buffers in snapshot 526518, filename 2018-08-16--16-53-37--967 and camera [0.800000011920929, 0.800000011920929, 0.400000005960464]\n",
      "skipping record wih invalid buffers in snapshot 526519, filename 2018-08-16--16-53-38--652 and camera [0.0, 2.0, 0.300000011920929]\n",
      "skipping record wih invalid buffers in snapshot 526521, filename 2018-08-16--16-53-39--283 and camera [0.0, -2.29999995231628, 0.300000011920929]\n"
     ]
    },
    {
     "name": "stderr",
     "output_type": "stream",
     "text": [
      " 64% 1345 |####################################                     |   5.2 B/s"
     ]
    },
    {
     "name": "stdout",
     "output_type": "stream",
     "text": [
      "skipping record wih invalid buffers in snapshot 526522, filename 2018-08-16--16-53-39--629 and camera [0.800000011920929, 0.800000011920929, 0.400000005960464]\n",
      "skipping record wih invalid buffers in snapshot 526523, filename 2018-08-16--16-53-40--139 and camera [0.0, 2.0, 0.300000011920929]\n",
      "skipping record wih invalid buffers in snapshot 526524, filename 2018-08-16--16-53-40--512 and camera [-0.800000011920929, 0.800000011920929, 0.400000005960464]\n"
     ]
    },
    {
     "name": "stderr",
     "output_type": "stream",
     "text": [
      "\r",
      "                                                                               \r",
      "\r",
      " 64% 1346 |####################################                     |   5.2 B/s"
     ]
    },
    {
     "name": "stdout",
     "output_type": "stream",
     "text": [
      "skipping record wih invalid buffers in snapshot 526525, filename 2018-08-16--16-53-40--799 and camera [0.0, -2.29999995231628, 0.300000011920929]\n"
     ]
    },
    {
     "name": "stderr",
     "output_type": "stream",
     "text": [
      " 65% 1350 |#####################################                    |   5.2 B/s"
     ]
    },
    {
     "name": "stdout",
     "output_type": "stream",
     "text": [
      "skipping record wih invalid buffers in snapshot 526526, filename 2018-08-16--16-53-41--119 and camera [0.800000011920929, 0.800000011920929, 0.400000005960464]\n",
      "skipping record wih invalid buffers in snapshot 526529, filename 2018-08-16--16-53-42--310 and camera [0.0, -2.29999995231628, 0.300000011920929]\n",
      "skipping record wih invalid buffers in snapshot 526527, filename 2018-08-16--16-53-41--603 and camera [0.0, 2.0, 0.300000011920929]\n",
      "skipping record wih invalid buffers in snapshot 526528, filename 2018-08-16--16-53-41--933 and camera [-0.800000011920929, 0.800000011920929, 0.400000005960464]\n"
     ]
    },
    {
     "name": "stderr",
     "output_type": "stream",
     "text": [
      " 65% 1352 |#####################################                    |   5.2 B/s"
     ]
    },
    {
     "name": "stdout",
     "output_type": "stream",
     "text": [
      "skipping record wih invalid buffers in snapshot 526530, filename 2018-08-16--16-53-42--625 and camera [0.800000011920929, 0.800000011920929, 0.400000005960464]\n",
      "skipping record wih invalid buffers in snapshot 526531, filename 2018-08-16--16-53-43--091 and camera [0.0, 2.0, 0.300000011920929]\n"
     ]
    },
    {
     "name": "stderr",
     "output_type": "stream",
     "text": [
      " 65% 1354 |#####################################                    |   5.2 B/s"
     ]
    },
    {
     "name": "stdout",
     "output_type": "stream",
     "text": [
      "skipping record wih invalid buffers in snapshot 526532, filename 2018-08-16--16-53-43--448 and camera [-0.800000011920929, 0.800000011920929, 0.400000005960464]\n",
      "skipping record wih invalid buffers in snapshot 526533, filename 2018-08-16--16-53-43--899 and camera [0.0, -2.29999995231628, 0.300000011920929]\n"
     ]
    },
    {
     "name": "stderr",
     "output_type": "stream",
     "text": [
      " 65% 1356 |#####################################                    |   5.2 B/s"
     ]
    },
    {
     "name": "stdout",
     "output_type": "stream",
     "text": [
      "skipping record wih invalid buffers in snapshot 526534, filename 2018-08-16--16-53-44--239 and camera [0.800000011920929, 0.800000011920929, 0.400000005960464]\n",
      "skipping record wih invalid buffers in snapshot 526536, filename 2018-08-16--16-53-45--207 and camera [-0.800000011920929, 0.800000011920929, 0.400000005960464]\n",
      "skipping record wih invalid buffers in snapshot 526535, filename 2018-08-16--16-53-44--804 and camera [0.0, 2.0, 0.300000011920929]\n"
     ]
    },
    {
     "name": "stderr",
     "output_type": "stream",
     "text": [
      "\r",
      "                                                                               \r",
      "\r",
      " 65% 1358 |#####################################                    |   5.2 B/s"
     ]
    },
    {
     "name": "stdout",
     "output_type": "stream",
     "text": [
      "skipping record wih invalid buffers in snapshot 526537, filename 2018-08-16--16-53-45--519 and camera [0.0, -2.29999995231628, 0.300000011920929]\n",
      "skipping record wih invalid buffers in snapshot 526538, filename 2018-08-16--16-53-45--841 and camera [0.800000011920929, 0.800000011920929, 0.400000005960464]"
     ]
    },
    {
     "name": "stderr",
     "output_type": "stream",
     "text": [
      " 65% 1362 |#####################################                    |   5.2 B/s"
     ]
    },
    {
     "name": "stdout",
     "output_type": "stream",
     "text": [
      "\n",
      "skipping record wih invalid buffers in snapshot 526541, filename 2018-08-16--16-53-46--974 and camera [0.0, -2.29999995231628, 0.300000011920929]\n",
      "skipping record wih invalid buffers in snapshot 526539, filename 2018-08-16--16-53-46--353 and camera [0.0, 2.0, 0.300000011920929]\n",
      "skipping record wih invalid buffers in snapshot 526540, filename 2018-08-16--16-53-46--680 and camera [-0.800000011920929, 0.800000011920929, 0.400000005960464]\n"
     ]
    },
    {
     "name": "stderr",
     "output_type": "stream",
     "text": [
      " 65% 1365 |#####################################                    |   5.2 B/s"
     ]
    },
    {
     "name": "stdout",
     "output_type": "stream",
     "text": [
      "skipping record wih invalid buffers in snapshot 526542, filename 2018-08-16--16-53-47--329 and camera [0.800000011920929, 0.800000011920929, 0.400000005960464]\n",
      "skipping record wih invalid buffers in snapshot 526543, filename 2018-08-16--16-53-47--854 and camera [0.0, 2.0, 0.300000011920929]\n",
      "skipping record wih invalid buffers in snapshot 526544, filename 2018-08-16--16-53-48--155 and camera [-0.800000011920929, 0.800000011920929, 0.400000005960464]\n",
      "skipping record wih invalid buffers in snapshot 526545, filename 2018-08-16--16-53-48--583 and camera [0.0, -2.29999995231628, 0.300000011920929]\n",
      "skipping record wih invalid buffers in snapshot 526546, filename 2018-08-16--16-53-49--071 and camera [0.800000011920929, 0.800000011920929, 0.400000005960464]"
     ]
    },
    {
     "name": "stderr",
     "output_type": "stream",
     "text": [
      " 65% 1369 |#####################################                    |   5.2 B/s"
     ]
    },
    {
     "name": "stdout",
     "output_type": "stream",
     "text": [
      "\n",
      "skipping record wih invalid buffers in snapshot 526548, filename 2018-08-16--16-53-49--937 and camera [-0.800000011920929, 0.800000011920929, 0.400000005960464]\n",
      "skipping record wih invalid buffers in snapshot 526547, filename 2018-08-16--16-53-49--652 and camera [0.0, 2.0, 0.300000011920929]\n"
     ]
    },
    {
     "name": "stderr",
     "output_type": "stream",
     "text": [
      "\r",
      "                                                                               \r",
      "\r",
      " 65% 1370 |#####################################                    |   5.2 B/s"
     ]
    },
    {
     "name": "stdout",
     "output_type": "stream",
     "text": [
      "skipping record wih invalid buffers in snapshot 526549, filename 2018-08-16--16-53-50--375 and camera [0.0, -2.29999995231628, 0.300000011920929]\n"
     ]
    },
    {
     "name": "stderr",
     "output_type": "stream",
     "text": [
      "\r",
      "                                                                               \r",
      "\r",
      " 66% 1371 |#####################################                    |   5.2 B/s"
     ]
    },
    {
     "name": "stdout",
     "output_type": "stream",
     "text": [
      "skipping record wih invalid buffers in snapshot 526550, filename 2018-08-16--16-53-50--709 and camera [0.800000011920929, 0.800000011920929, 0.400000005960464]\n"
     ]
    },
    {
     "name": "stderr",
     "output_type": "stream",
     "text": [
      " 66% 1375 |#####################################                    |   5.2 B/s"
     ]
    },
    {
     "name": "stdout",
     "output_type": "stream",
     "text": [
      "skipping record wih invalid buffers in snapshot 526556, filename 2018-08-16--16-53-54--447 and camera [-0.800000011920929, 0.800000011920929, 0.400000005960464]\n",
      "skipping record wih invalid buffers in snapshot 526557, filename 2018-08-16--16-53-54--727 and camera [0.0, -2.29999995231628, 0.300000011920929]\n"
     ]
    },
    {
     "name": "stderr",
     "output_type": "stream",
     "text": [
      "\r",
      "                                                                               \r",
      "\r",
      " 66% 1377 |#####################################                    |   5.2 B/s"
     ]
    },
    {
     "name": "stdout",
     "output_type": "stream",
     "text": [
      "skipping record wih invalid buffers in snapshot 526558, filename 2018-08-16--16-53-55--177 and camera [0.800000011920929, 0.800000011920929, 0.400000005960464]\n"
     ]
    },
    {
     "name": "stderr",
     "output_type": "stream",
     "text": [
      " 66% 1380 |#####################################                    |   5.2 B/s"
     ]
    },
    {
     "name": "stdout",
     "output_type": "stream",
     "text": [
      "skipping record wih invalid buffers in snapshot 526559, filename 2018-08-16--16-53-55--842 and camera [0.0, 2.0, 0.300000011920929]\n",
      "skipping record wih invalid buffers in snapshot 526561, filename 2018-08-16--16-53-56--465 and camera [0.0, -2.29999995231628, 0.300000011920929]\n",
      "skipping record wih invalid buffers in snapshot 526560, filename 2018-08-16--16-53-56--190 and camera [-0.800000011920929, 0.800000011920929, 0.400000005960464]\n"
     ]
    },
    {
     "name": "stderr",
     "output_type": "stream",
     "text": [
      "\r",
      "                                                                               \r",
      "\r",
      " 66% 1383 |#####################################                    |   5.2 B/s"
     ]
    },
    {
     "name": "stdout",
     "output_type": "stream",
     "text": [
      "skipping record wih invalid buffers in snapshot 526562, filename 2018-08-16--16-53-56--818 and camera [0.800000011920929, 0.800000011920929, 0.400000005960464]\n"
     ]
    },
    {
     "name": "stderr",
     "output_type": "stream",
     "text": [
      " 76% 1582 |###########################################              |   5.2 B/s"
     ]
    },
    {
     "name": "stdout",
     "output_type": "stream",
     "text": [
      "skipping record wih invalid buffers in snapshot 526767, filename 2018-08-16--16-55-18--515 and camera [-0.800000011920929, 0.800000011920929, 0.400000005960464]\n",
      "skipping record wih invalid buffers in snapshot 526766, filename 2018-08-16--16-55-18--179 and camera [0.0, 2.0, 0.300000011920929]\n"
     ]
    },
    {
     "name": "stderr",
     "output_type": "stream",
     "text": [
      "\r",
      "                                                                               \r",
      "\r",
      " 76% 1586 |###########################################              |   5.2 B/s"
     ]
    },
    {
     "name": "stdout",
     "output_type": "stream",
     "text": [
      "skipping record wih invalid buffers in snapshot 526768, filename 2018-08-16--16-55-18--784 and camera [0.0, -2.29999995231628, 0.300000011920929]\n"
     ]
    },
    {
     "name": "stderr",
     "output_type": "stream",
     "text": [
      " 76% 1590 |###########################################              |   5.2 B/s"
     ]
    },
    {
     "name": "stdout",
     "output_type": "stream",
     "text": [
      "skipping record wih invalid buffers in snapshot 526769, filename 2018-08-16--16-55-19--168 and camera [0.800000011920929, 0.800000011920929, 0.400000005960464]\n"
     ]
    },
    {
     "name": "stderr",
     "output_type": "stream",
     "text": [
      "\r",
      "                                                                               \r",
      "\r",
      " 76% 1591 |###########################################              |   5.2 B/s"
     ]
    },
    {
     "name": "stdout",
     "output_type": "stream",
     "text": [
      "skipping record wih invalid buffers in snapshot 526771, filename 2018-08-16--16-55-20--405 and camera [-0.800000011920929, 0.800000011920929, 0.400000005960464]\n",
      "skipping record wih invalid buffers in snapshot 526770, filename 2018-08-16--16-55-19--718 and camera [0.0, 2.0, 0.300000011920929]\n"
     ]
    },
    {
     "name": "stderr",
     "output_type": "stream",
     "text": [
      " 76% 1594 |###########################################              |   5.2 B/s"
     ]
    },
    {
     "name": "stdout",
     "output_type": "stream",
     "text": [
      "skipping record wih invalid buffers in snapshot 526774, filename 2018-08-16--16-55-21--686 and camera [0.0, 2.0, 0.300000011920929]\n",
      "skipping record wih invalid buffers in snapshot 526773, filename 2018-08-16--16-55-21--148 and camera [0.800000011920929, 0.800000011920929, 0.400000005960464]\n",
      "skipping record wih invalid buffers in snapshot 526775, filename 2018-08-16--16-55-21--987 and camera [-0.800000011920929, 0.800000011920929, 0.400000005960464]\n"
     ]
    },
    {
     "name": "stderr",
     "output_type": "stream",
     "text": [
      "\r",
      "                                                                               \r",
      "\r",
      " 76% 1597 |###########################################              |   5.2 B/s"
     ]
    },
    {
     "name": "stdout",
     "output_type": "stream",
     "text": [
      "skipping record wih invalid buffers in snapshot 526772, filename 2018-08-16--16-55-20--688 and camera [0.0, -2.29999995231628, 0.300000011920929]\n",
      "skipping record wih invalid buffers in snapshot 526776, filename 2018-08-16--16-55-22--300 and camera [0.0, -2.29999995231628, 0.300000011920929]\n"
     ]
    },
    {
     "name": "stderr",
     "output_type": "stream",
     "text": [
      "\r",
      "                                                                               \r",
      "\r",
      " 76% 1598 |###########################################              |   5.2 B/s"
     ]
    },
    {
     "name": "stdout",
     "output_type": "stream",
     "text": [
      "skipping record wih invalid buffers in snapshot 526777, filename 2018-08-16--16-55-22--656 and camera [0.800000011920929, 0.800000011920929, 0.400000005960464]\n"
     ]
    },
    {
     "name": "stderr",
     "output_type": "stream",
     "text": [
      " 77% 1600 |###########################################              |   5.2 B/s"
     ]
    },
    {
     "name": "stdout",
     "output_type": "stream",
     "text": [
      "skipping record wih invalid buffers in snapshot 526778, filename 2018-08-16--16-55-23--164 and camera [0.0, 2.0, 0.300000011920929]\n",
      "skipping record wih invalid buffers in snapshot 526779, filename 2018-08-16--16-55-23--453 and camera [-0.800000011920929, 0.800000011920929, 0.400000005960464]\n"
     ]
    },
    {
     "name": "stderr",
     "output_type": "stream",
     "text": [
      " 77% 1603 |############################################             |   5.2 B/s"
     ]
    },
    {
     "name": "stdout",
     "output_type": "stream",
     "text": [
      "skipping record wih invalid buffers in snapshot 526782, filename 2018-08-16--16-55-24--584 and camera [0.0, 2.0, 0.300000011920929]\n",
      "skipping record wih invalid buffers in snapshot 526780, filename 2018-08-16--16-55-23--784 and camera [0.0, -2.29999995231628, 0.300000011920929]\n",
      "skipping record wih invalid buffers in snapshot 526781, filename 2018-08-16--16-55-24--135 and camera [0.800000011920929, 0.800000011920929, 0.400000005960464]\n"
     ]
    },
    {
     "name": "stderr",
     "output_type": "stream",
     "text": [
      "\r",
      "                                                                               \r",
      "\r",
      " 77% 1604 |############################################             |   5.2 B/s"
     ]
    },
    {
     "name": "stdout",
     "output_type": "stream",
     "text": [
      "skipping record wih invalid buffers in snapshot 526784, filename 2018-08-16--16-55-25--248 and camera [0.0, -2.29999995231628, 0.300000011920929]\n",
      "skipping record wih invalid buffers in snapshot 526783, filename 2018-08-16--16-55-24--899 and camera [-0.800000011920929, 0.800000011920929, 0.400000005960464]\n"
     ]
    },
    {
     "name": "stderr",
     "output_type": "stream",
     "text": [
      "\r",
      "                                                                               \r",
      "\r",
      " 77% 1606 |############################################             |   5.2 B/s"
     ]
    },
    {
     "name": "stdout",
     "output_type": "stream",
     "text": [
      "skipping record wih invalid buffers in snapshot 526785, filename 2018-08-16--16-55-25--609 and camera [0.800000011920929, 0.800000011920929, 0.400000005960464]\n"
     ]
    },
    {
     "name": "stderr",
     "output_type": "stream",
     "text": [
      "\r",
      "                                                                               \r",
      "\r",
      " 77% 1607 |############################################             |   5.2 B/s"
     ]
    },
    {
     "name": "stdout",
     "output_type": "stream",
     "text": [
      "skipping record wih invalid buffers in snapshot 526786, filename 2018-08-16--16-55-26--054 and camera [0.0, 2.0, 0.300000011920929]\n"
     ]
    },
    {
     "name": "stderr",
     "output_type": "stream",
     "text": [
      " 81% 1693 |##############################################           |   5.2 B/s"
     ]
    },
    {
     "name": "stdout",
     "output_type": "stream",
     "text": [
      "skipping record wih invalid buffers in snapshot 526877, filename 2018-08-16--16-56-03--238 and camera [0.0, -2.29999995231628, 0.300000011920929]\n"
     ]
    },
    {
     "name": "stderr",
     "output_type": "stream",
     "text": [
      " 81% 1697 |##############################################           |   5.2 B/s"
     ]
    },
    {
     "name": "stdout",
     "output_type": "stream",
     "text": [
      "skipping record wih invalid buffers in snapshot 526878, filename 2018-08-16--16-56-03--830 and camera [0.800000011920929, 0.800000011920929, 0.400000005960464]\n"
     ]
    },
    {
     "name": "stderr",
     "output_type": "stream",
     "text": [
      " 94% 1957 |#####################################################    |   5.1 B/s"
     ]
    },
    {
     "name": "stdout",
     "output_type": "stream",
     "text": [
      "skipping record wih invalid buffers in snapshot 527137, filename 2018-08-16--16-57-49--995 and camera [-0.800000011920929, 0.800000011920929, 0.400000005960464]\n"
     ]
    },
    {
     "name": "stderr",
     "output_type": "stream",
     "text": [
      " 94% 1960 |#####################################################    |   5.1 B/s"
     ]
    },
    {
     "name": "stdout",
     "output_type": "stream",
     "text": [
      "skipping record wih invalid buffers in snapshot 527140, filename 2018-08-16--16-57-51--154 and camera [0.0, 2.0, 0.300000011920929]\n",
      "skipping record wih invalid buffers in snapshot 527138, filename 2018-08-16--16-57-50--314 and camera [0.0, -2.29999995231628, 0.300000011920929]\n"
     ]
    },
    {
     "name": "stderr",
     "output_type": "stream",
     "text": [
      "\r",
      "                                                                               \r",
      "\r",
      " 94% 1962 |#####################################################    |   5.1 B/s"
     ]
    },
    {
     "name": "stdout",
     "output_type": "stream",
     "text": [
      "skipping record wih invalid buffers in snapshot 527139, filename 2018-08-16--16-57-50--669 and camera [0.800000011920929, 0.800000011920929, 0.400000005960464]\n",
      "skipping record wih invalid buffers in snapshot 527143, filename 2018-08-16--16-57-52--117 and camera [0.800000011920929, 0.800000011920929, 0.400000005960464]\n",
      "skipping record wih invalid buffers in snapshot 527142, filename 2018-08-16--16-57-51--823 and camera [0.0, -2.29999995231628, 0.300000011920929]\n"
     ]
    },
    {
     "name": "stderr",
     "output_type": "stream",
     "text": [
      "\r",
      "                                                                               \r",
      "\r",
      " 94% 1964 |#####################################################    |   5.1 B/s"
     ]
    },
    {
     "name": "stdout",
     "output_type": "stream",
     "text": [
      "skipping record wih invalid buffers in snapshot 527141, filename 2018-08-16--16-57-51--491 and camera [-0.800000011920929, 0.800000011920929, 0.400000005960464]\n"
     ]
    },
    {
     "name": "stderr",
     "output_type": "stream",
     "text": [
      " 99% 2075 |######################################################## |   5.0 B/s"
     ]
    },
    {
     "name": "stdout",
     "output_type": "stream",
     "text": [
      "done\n"
     ]
    }
   ],
   "source": [
    "workers = 8\n",
    "\n",
    "widgets = [progressbar.Percentage(), ' ', progressbar.Counter(), ' ', progressbar.Bar(), ' ',\n",
    "           progressbar.FileTransferSpeed()]\n",
    "\n",
    "pbar = progressbar.ProgressBar(widgets=widgets, maxval=len(results)).start()\n",
    "counter = 0\n",
    "\n",
    "Parallel(n_jobs=workers, backend='threading')(delayed(try_dump_snapshot_to_dataset)(in_directory, get_out_directory(out_directory, i, directory_per_camera), i, run_id, include_entities) for i in results)\n",
    "print('done')"
   ]
  },
  {
   "cell_type": "markdown",
   "metadata": {},
   "source": [
    "### copying to linux into datagrid dir"
   ]
  },
  {
   "cell_type": "code",
   "execution_count": null,
   "metadata": {
    "scrolled": true
   },
   "outputs": [
    {
     "name": "stderr",
     "output_type": "stream",
     "text": [
      "  8% 812 |#####                                                     |   2.0 B/s"
     ]
    }
   ],
   "source": [
    "def copy_file(in_path, out_path):\n",
    "    if os.path.exists(out_path):\n",
    "        return\n",
    "    copyfile(in_path, out_path)\n",
    "\n",
    "def copy_files(in_dir, out_dir, name):\n",
    "    if 'pbar' in globals() and 'counter' in globals():\n",
    "        global counter\n",
    "        counter += 1\n",
    "        pbar.update(counter)\n",
    "\n",
    "    rgb_name = name+'.jpg'\n",
    "    json_name = name+'.json'\n",
    "    depth_name = name+'-depth.png'\n",
    "    stencil_name = name+'-stencil.png'\n",
    "    \n",
    "    copyfile(os.path.join(in_dir, rgb_name), os.path.join(out_dir, rgb_name))\n",
    "    copyfile(os.path.join(in_dir, json_name), os.path.join(out_dir, json_name))\n",
    "    copyfile(os.path.join(in_dir, depth_name), os.path.join(out_dir, depth_name))\n",
    "    copyfile(os.path.join(in_dir, stencil_name), os.path.join(out_dir, stencil_name))\n",
    "\n",
    "workers = 8\n",
    "\n",
    "windows_in_directory = r'D:\\output-datasets\\offroad-6'\n",
    "linux_out_directory = r'Z:\\offroad-6'\n",
    "\n",
    "if not os.path.exists(linux_out_directory):\n",
    "    os.makedirs(linux_out_directory)\n",
    "\n",
    "widgets = [progressbar.Percentage(), ' ', progressbar.Counter(), ' ', progressbar.Bar(), ' ',\n",
    "           progressbar.FileTransferSpeed()]\n",
    "\n",
    "pbar = progressbar.ProgressBar(widgets=widgets, max_value=len(results)).start()\n",
    "counter = 0\n",
    "\n",
    "Parallel(n_jobs=workers, backend='threading')(\n",
    "    delayed(copy_files)(windows_in_directory, linux_out_directory, i['imagepath']) for i in results)\n"
   ]
  },
  {
   "cell_type": "markdown",
   "metadata": {},
   "source": [
    "### copying original tiffs to linux into datagrid dir, only one run from database"
   ]
  },
  {
   "cell_type": "code",
   "execution_count": 42,
   "metadata": {},
   "outputs": [
    {
     "name": "stderr",
     "output_type": "stream",
     "text": [
      "  0% 42 |                                                           |   0.7 B/s"
     ]
    },
    {
     "ename": "KeyboardInterrupt",
     "evalue": "",
     "output_type": "error",
     "traceback": [
      "\u001b[1;31m---------------------------------------------------------------------------\u001b[0m",
      "\u001b[1;31mKeyboardInterrupt\u001b[0m                         Traceback (most recent call last)",
      "\u001b[1;32m<ipython-input-42-505770c9802e>\u001b[0m in \u001b[0;36m<module>\u001b[1;34m()\u001b[0m\n\u001b[0;32m     29\u001b[0m \u001b[1;33m\u001b[0m\u001b[0m\n\u001b[0;32m     30\u001b[0m Parallel(n_jobs=workers, backend='threading')(\n\u001b[1;32m---> 31\u001b[1;33m     delayed(copy_files)(in_directory, out_directory, i['imagepath']) for i in results)\n\u001b[0m",
      "\u001b[1;32mC:\\ProgramData\\Anaconda3\\lib\\site-packages\\joblib\\parallel.py\u001b[0m in \u001b[0;36m__call__\u001b[1;34m(self, iterable)\u001b[0m\n\u001b[0;32m    787\u001b[0m                 \u001b[1;31m# consumption.\u001b[0m\u001b[1;33m\u001b[0m\u001b[1;33m\u001b[0m\u001b[0m\n\u001b[0;32m    788\u001b[0m                 \u001b[0mself\u001b[0m\u001b[1;33m.\u001b[0m\u001b[0m_iterating\u001b[0m \u001b[1;33m=\u001b[0m \u001b[1;32mFalse\u001b[0m\u001b[1;33m\u001b[0m\u001b[0m\n\u001b[1;32m--> 789\u001b[1;33m             \u001b[0mself\u001b[0m\u001b[1;33m.\u001b[0m\u001b[0mretrieve\u001b[0m\u001b[1;33m(\u001b[0m\u001b[1;33m)\u001b[0m\u001b[1;33m\u001b[0m\u001b[0m\n\u001b[0m\u001b[0;32m    790\u001b[0m             \u001b[1;31m# Make sure that we get a last message telling us we are done\u001b[0m\u001b[1;33m\u001b[0m\u001b[1;33m\u001b[0m\u001b[0m\n\u001b[0;32m    791\u001b[0m             \u001b[0melapsed_time\u001b[0m \u001b[1;33m=\u001b[0m \u001b[0mtime\u001b[0m\u001b[1;33m.\u001b[0m\u001b[0mtime\u001b[0m\u001b[1;33m(\u001b[0m\u001b[1;33m)\u001b[0m \u001b[1;33m-\u001b[0m \u001b[0mself\u001b[0m\u001b[1;33m.\u001b[0m\u001b[0m_start_time\u001b[0m\u001b[1;33m\u001b[0m\u001b[0m\n",
      "\u001b[1;32mC:\\ProgramData\\Anaconda3\\lib\\site-packages\\joblib\\parallel.py\u001b[0m in \u001b[0;36mretrieve\u001b[1;34m(self)\u001b[0m\n\u001b[0;32m    697\u001b[0m             \u001b[1;32mtry\u001b[0m\u001b[1;33m:\u001b[0m\u001b[1;33m\u001b[0m\u001b[0m\n\u001b[0;32m    698\u001b[0m                 \u001b[1;32mif\u001b[0m \u001b[0mgetattr\u001b[0m\u001b[1;33m(\u001b[0m\u001b[0mself\u001b[0m\u001b[1;33m.\u001b[0m\u001b[0m_backend\u001b[0m\u001b[1;33m,\u001b[0m \u001b[1;34m'supports_timeout'\u001b[0m\u001b[1;33m,\u001b[0m \u001b[1;32mFalse\u001b[0m\u001b[1;33m)\u001b[0m\u001b[1;33m:\u001b[0m\u001b[1;33m\u001b[0m\u001b[0m\n\u001b[1;32m--> 699\u001b[1;33m                     \u001b[0mself\u001b[0m\u001b[1;33m.\u001b[0m\u001b[0m_output\u001b[0m\u001b[1;33m.\u001b[0m\u001b[0mextend\u001b[0m\u001b[1;33m(\u001b[0m\u001b[0mjob\u001b[0m\u001b[1;33m.\u001b[0m\u001b[0mget\u001b[0m\u001b[1;33m(\u001b[0m\u001b[0mtimeout\u001b[0m\u001b[1;33m=\u001b[0m\u001b[0mself\u001b[0m\u001b[1;33m.\u001b[0m\u001b[0mtimeout\u001b[0m\u001b[1;33m)\u001b[0m\u001b[1;33m)\u001b[0m\u001b[1;33m\u001b[0m\u001b[0m\n\u001b[0m\u001b[0;32m    700\u001b[0m                 \u001b[1;32melse\u001b[0m\u001b[1;33m:\u001b[0m\u001b[1;33m\u001b[0m\u001b[0m\n\u001b[0;32m    701\u001b[0m                     \u001b[0mself\u001b[0m\u001b[1;33m.\u001b[0m\u001b[0m_output\u001b[0m\u001b[1;33m.\u001b[0m\u001b[0mextend\u001b[0m\u001b[1;33m(\u001b[0m\u001b[0mjob\u001b[0m\u001b[1;33m.\u001b[0m\u001b[0mget\u001b[0m\u001b[1;33m(\u001b[0m\u001b[1;33m)\u001b[0m\u001b[1;33m)\u001b[0m\u001b[1;33m\u001b[0m\u001b[0m\n",
      "\u001b[1;32mC:\\ProgramData\\Anaconda3\\lib\\multiprocessing\\pool.py\u001b[0m in \u001b[0;36mget\u001b[1;34m(self, timeout)\u001b[0m\n\u001b[0;32m    636\u001b[0m \u001b[1;33m\u001b[0m\u001b[0m\n\u001b[0;32m    637\u001b[0m     \u001b[1;32mdef\u001b[0m \u001b[0mget\u001b[0m\u001b[1;33m(\u001b[0m\u001b[0mself\u001b[0m\u001b[1;33m,\u001b[0m \u001b[0mtimeout\u001b[0m\u001b[1;33m=\u001b[0m\u001b[1;32mNone\u001b[0m\u001b[1;33m)\u001b[0m\u001b[1;33m:\u001b[0m\u001b[1;33m\u001b[0m\u001b[0m\n\u001b[1;32m--> 638\u001b[1;33m         \u001b[0mself\u001b[0m\u001b[1;33m.\u001b[0m\u001b[0mwait\u001b[0m\u001b[1;33m(\u001b[0m\u001b[0mtimeout\u001b[0m\u001b[1;33m)\u001b[0m\u001b[1;33m\u001b[0m\u001b[0m\n\u001b[0m\u001b[0;32m    639\u001b[0m         \u001b[1;32mif\u001b[0m \u001b[1;32mnot\u001b[0m \u001b[0mself\u001b[0m\u001b[1;33m.\u001b[0m\u001b[0mready\u001b[0m\u001b[1;33m(\u001b[0m\u001b[1;33m)\u001b[0m\u001b[1;33m:\u001b[0m\u001b[1;33m\u001b[0m\u001b[0m\n\u001b[0;32m    640\u001b[0m             \u001b[1;32mraise\u001b[0m \u001b[0mTimeoutError\u001b[0m\u001b[1;33m\u001b[0m\u001b[0m\n",
      "\u001b[1;32mC:\\ProgramData\\Anaconda3\\lib\\multiprocessing\\pool.py\u001b[0m in \u001b[0;36mwait\u001b[1;34m(self, timeout)\u001b[0m\n\u001b[0;32m    633\u001b[0m \u001b[1;33m\u001b[0m\u001b[0m\n\u001b[0;32m    634\u001b[0m     \u001b[1;32mdef\u001b[0m \u001b[0mwait\u001b[0m\u001b[1;33m(\u001b[0m\u001b[0mself\u001b[0m\u001b[1;33m,\u001b[0m \u001b[0mtimeout\u001b[0m\u001b[1;33m=\u001b[0m\u001b[1;32mNone\u001b[0m\u001b[1;33m)\u001b[0m\u001b[1;33m:\u001b[0m\u001b[1;33m\u001b[0m\u001b[0m\n\u001b[1;32m--> 635\u001b[1;33m         \u001b[0mself\u001b[0m\u001b[1;33m.\u001b[0m\u001b[0m_event\u001b[0m\u001b[1;33m.\u001b[0m\u001b[0mwait\u001b[0m\u001b[1;33m(\u001b[0m\u001b[0mtimeout\u001b[0m\u001b[1;33m)\u001b[0m\u001b[1;33m\u001b[0m\u001b[0m\n\u001b[0m\u001b[0;32m    636\u001b[0m \u001b[1;33m\u001b[0m\u001b[0m\n\u001b[0;32m    637\u001b[0m     \u001b[1;32mdef\u001b[0m \u001b[0mget\u001b[0m\u001b[1;33m(\u001b[0m\u001b[0mself\u001b[0m\u001b[1;33m,\u001b[0m \u001b[0mtimeout\u001b[0m\u001b[1;33m=\u001b[0m\u001b[1;32mNone\u001b[0m\u001b[1;33m)\u001b[0m\u001b[1;33m:\u001b[0m\u001b[1;33m\u001b[0m\u001b[0m\n",
      "\u001b[1;32mC:\\ProgramData\\Anaconda3\\lib\\threading.py\u001b[0m in \u001b[0;36mwait\u001b[1;34m(self, timeout)\u001b[0m\n\u001b[0;32m    549\u001b[0m             \u001b[0msignaled\u001b[0m \u001b[1;33m=\u001b[0m \u001b[0mself\u001b[0m\u001b[1;33m.\u001b[0m\u001b[0m_flag\u001b[0m\u001b[1;33m\u001b[0m\u001b[0m\n\u001b[0;32m    550\u001b[0m             \u001b[1;32mif\u001b[0m \u001b[1;32mnot\u001b[0m \u001b[0msignaled\u001b[0m\u001b[1;33m:\u001b[0m\u001b[1;33m\u001b[0m\u001b[0m\n\u001b[1;32m--> 551\u001b[1;33m                 \u001b[0msignaled\u001b[0m \u001b[1;33m=\u001b[0m \u001b[0mself\u001b[0m\u001b[1;33m.\u001b[0m\u001b[0m_cond\u001b[0m\u001b[1;33m.\u001b[0m\u001b[0mwait\u001b[0m\u001b[1;33m(\u001b[0m\u001b[0mtimeout\u001b[0m\u001b[1;33m)\u001b[0m\u001b[1;33m\u001b[0m\u001b[0m\n\u001b[0m\u001b[0;32m    552\u001b[0m             \u001b[1;32mreturn\u001b[0m \u001b[0msignaled\u001b[0m\u001b[1;33m\u001b[0m\u001b[0m\n\u001b[0;32m    553\u001b[0m \u001b[1;33m\u001b[0m\u001b[0m\n",
      "\u001b[1;32mC:\\ProgramData\\Anaconda3\\lib\\threading.py\u001b[0m in \u001b[0;36mwait\u001b[1;34m(self, timeout)\u001b[0m\n\u001b[0;32m    293\u001b[0m         \u001b[1;32mtry\u001b[0m\u001b[1;33m:\u001b[0m    \u001b[1;31m# restore state no matter what (e.g., KeyboardInterrupt)\u001b[0m\u001b[1;33m\u001b[0m\u001b[0m\n\u001b[0;32m    294\u001b[0m             \u001b[1;32mif\u001b[0m \u001b[0mtimeout\u001b[0m \u001b[1;32mis\u001b[0m \u001b[1;32mNone\u001b[0m\u001b[1;33m:\u001b[0m\u001b[1;33m\u001b[0m\u001b[0m\n\u001b[1;32m--> 295\u001b[1;33m                 \u001b[0mwaiter\u001b[0m\u001b[1;33m.\u001b[0m\u001b[0macquire\u001b[0m\u001b[1;33m(\u001b[0m\u001b[1;33m)\u001b[0m\u001b[1;33m\u001b[0m\u001b[0m\n\u001b[0m\u001b[0;32m    296\u001b[0m                 \u001b[0mgotit\u001b[0m \u001b[1;33m=\u001b[0m \u001b[1;32mTrue\u001b[0m\u001b[1;33m\u001b[0m\u001b[0m\n\u001b[0;32m    297\u001b[0m             \u001b[1;32melse\u001b[0m\u001b[1;33m:\u001b[0m\u001b[1;33m\u001b[0m\u001b[0m\n",
      "\u001b[1;31mKeyboardInterrupt\u001b[0m: "
     ]
    }
   ],
   "source": [
    "def copy_file(in_path, out_path):\n",
    "    if os.path.exists(out_path):\n",
    "        return\n",
    "    copyfile(in_path, out_path)\n",
    "\n",
    "def copy_files(in_dir, out_dir, name):\n",
    "    if 'pbar' in globals() and 'counter' in globals():\n",
    "        global counter\n",
    "        counter += 1\n",
    "        pbar.update(counter)\n",
    "\n",
    "    rgb_name = name+'.tiff'\n",
    "    depth_name = name+'-depth.tiff'\n",
    "    stencil_name = name+'-stencil.tiff'\n",
    "    \n",
    "    copyfile(os.path.join(in_dir, rgb_name), os.path.join(out_dir, rgb_name))\n",
    "    copyfile(os.path.join(in_dir, depth_name), os.path.join(out_dir, depth_name))\n",
    "    copyfile(os.path.join(in_dir, stencil_name), os.path.join(out_dir, stencil_name))\n",
    "\n",
    "workers = 8\n",
    "\n",
    "out_directory = r'Z:\\offroad-4-orig'\n",
    "widgets = [progressbar.Percentage(), ' ', progressbar.Counter(), ' ', progressbar.Bar(), ' ',\n",
    "           progressbar.FileTransferSpeed()]\n",
    "\n",
    "pbar = progressbar.ProgressBar(widgets=widgets, max_value=len(results)).start()\n",
    "counter = 0\n",
    "\n",
    "Parallel(n_jobs=workers, backend='threading')(\n",
    "    delayed(copy_files)(in_directory, out_directory, i['imagepath']) for i in results)\n"
   ]
  },
  {
   "cell_type": "markdown",
   "metadata": {},
   "source": [
    "### checking if all converted images are ok"
   ]
  },
  {
   "cell_type": "code",
   "execution_count": 10,
   "metadata": {},
   "outputs": [
    {
     "name": "stderr",
     "output_type": "stream",
     "text": [
      "  0% 15 |                                                           |   3.9 B/sC:\\ProgramData\\Anaconda3\\lib\\site-packages\\tifffile\\tifffile.py:2642: RuntimeWarning: py_decodelzw encountered unexpected end of stream\n",
      "  strip = decompress(strip)\n",
      " 13% 968 |#######                                                   |   3.9 B/sC:\\ProgramData\\Anaconda3\\lib\\site-packages\\tifffile\\tifffile.py:2577: UserWarning: unpack: string size must be a multiple of element size\n",
      "  warnings.warn(\"unpack: %s\" % e)\n",
      "100% 7250 |#########################################################|   4.4 B/s"
     ]
    },
    {
     "name": "stdout",
     "output_type": "stream",
     "text": [
      "done\n"
     ]
    }
   ],
   "source": [
    "def check_invalid_buffers(in_directory, out_directory, res, run_id, include_entities):\n",
    "    if 'pbar' in globals() and 'counter' in globals():\n",
    "        global counter\n",
    "        counter += 1\n",
    "        pbar.update(counter)\n",
    "    \n",
    "    # skip non-existing files in out_directory, so just check existence of some of 4 files\n",
    "    outfile = os.path.join(out_directory, '{}.json'.format(res['imagepath']))\n",
    "    if not os.path.exists(outfile):\n",
    "        return\n",
    "    \n",
    "    if discard_invalid_buffers and (not is_first_record_in_run(res, run_id)) and \\\n",
    "        are_buffers_same_as_previous(res):\n",
    "        print('found record wih invalid buffers in snapshot {}, filename {} and camera {}'\n",
    "              .format(res['snapshot_id'], res['imagepath'], res['camera_relative_position'].tolist()))\n",
    "        return\n",
    "\n",
    "\n",
    "workers = 8\n",
    "\n",
    "widgets = [progressbar.Percentage(), ' ', progressbar.Counter(), ' ', progressbar.Bar(), ' ',\n",
    "           progressbar.FileTransferSpeed()]\n",
    "\n",
    "pbar = progressbar.ProgressBar(widgets=widgets, maxval=len(results)).start()\n",
    "counter = 0\n",
    "\n",
    "Parallel(n_jobs=workers, backend='threading')(delayed(check_invalid_buffers)(in_directory, get_out_directory(out_directory, i, directory_per_camera), i, run_id, include_entities) for i in results)\n",
    "print('done')"
   ]
  },
  {
   "cell_type": "markdown",
   "metadata": {},
   "source": [
    "### dumping one snapshot, for testing"
   ]
  },
  {
   "cell_type": "code",
   "execution_count": null,
   "metadata": {
    "collapsed": true,
    "scrolled": false
   },
   "outputs": [],
   "source": [
    "dump_snapshot_to_dataset(in_directory, out_directory, results[0])\n"
   ]
  },
  {
   "cell_type": "code",
   "execution_count": null,
   "metadata": {
    "collapsed": true
   },
   "outputs": [],
   "source": [
    "im = np.array(Image.open(os.path.join(out_directory, results[0]['imagepath']+'-depth.png')))\n",
    "print(np.min(im))\n",
    "print(np.max(im))\n"
   ]
  },
  {
   "cell_type": "code",
   "execution_count": null,
   "metadata": {
    "collapsed": true
   },
   "outputs": [],
   "source": [
    "results[0]['snapshot_id']"
   ]
  },
  {
   "cell_type": "code",
   "execution_count": 64,
   "metadata": {},
   "outputs": [
    {
     "data": {
      "text/plain": [
       "{'cam_near_clip': 0.15,\n",
       " 'camera_fov': 90.0,\n",
       " 'camera_pos': array([ 2524.83105469,  3334.53613281,    53.38750458]),\n",
       " 'camera_relative_position': array([-0.06      ,  1.5       ,  1.07649994]),\n",
       " 'camera_relative_rotation': array([ 0.,  0.,  0.]),\n",
       " 'camera_rot': array([-1.26793635, -4.02545595, -0.25146627]),\n",
       " 'current_target': array([2586.0, 3490.0, None], dtype=object),\n",
       " 'currentweather': 'Clear',\n",
       " 'height': 1052,\n",
       " 'imagepath': '2018-08-13--11-15-01--499',\n",
       " 'proj_matrix': array([[  5.49634274e-01,   0.00000000e+00,   0.00000000e+00,\n",
       "           0.00000000e+00],\n",
       "        [  0.00000000e+00,   1.00000000e+00,   0.00000000e+00,\n",
       "           0.00000000e+00],\n",
       "        [  0.00000000e+00,   0.00000000e+00,   1.49945045e-05,\n",
       "           1.50002249e-01],\n",
       "        [  0.00000000e+00,   0.00000000e+00,  -1.00000000e+00,\n",
       "           0.00000000e+00]]),\n",
       " 'snapshot_id': 466517,\n",
       " 'timeofday': datetime.time(12, 5, 35),\n",
       " 'timestamp': datetime.datetime(2018, 8, 13, 11, 15, 1, 499713, tzinfo=psycopg2.tz.FixedOffsetTimezone(offset=0, name=None)),\n",
       " 'view_matrix': array([[  9.97523352e-01,  -4.37807276e-03,   7.01996747e-02,\n",
       "          -2.50772688e+03],\n",
       "        [ -7.00846934e-02,   2.24356686e-02,   9.97288713e-01,\n",
       "           4.88967069e+01],\n",
       "        [ -5.94117919e-03,  -9.99738702e-01,   2.20732675e-02,\n",
       "           3.34748686e+03],\n",
       "        [  0.00000000e+00,   0.00000000e+00,   0.00000000e+00,\n",
       "           1.00000000e+00]]),\n",
       " 'width': 1914}"
      ]
     },
     "execution_count": 64,
     "metadata": {},
     "output_type": "execute_result"
    }
   ],
   "source": [
    "res = results[0]\n",
    "res"
   ]
  },
  {
   "cell_type": "code",
   "execution_count": 10,
   "metadata": {},
   "outputs": [
    {
     "data": {
      "text/plain": [
       "{'camera_-0.06_1.50_1.08__0.00_0.00_0.00': '0',\n",
       " 'camera_-0.06_17.50_25.08__270.00_0.00_90.00': '5',\n",
       " 'camera_-0.06_33.50_6.08__-30.00_0.00_180.00': '2',\n",
       " 'camera_-16.06_17.50_6.08__-30.00_0.00_270.00': '3',\n",
       " 'camera_0.48_1.50_1.08__0.00_0.00_0.00': '4',\n",
       " 'camera_15.94_17.50_6.08__-30.00_0.00_90.00': '1'}"
      ]
     },
     "execution_count": 10,
     "metadata": {},
     "output_type": "execute_result"
    }
   ],
   "source": [
    "camera_names"
   ]
  },
  {
   "cell_type": "code",
   "execution_count": null,
   "metadata": {
    "collapsed": true
   },
   "outputs": [],
   "source": []
  }
 ],
 "metadata": {
  "kernelspec": {
   "display_name": "Python 3",
   "language": "python",
   "name": "python3"
  },
  "language_info": {
   "codemirror_mode": {
    "name": "ipython",
    "version": 3
   },
   "file_extension": ".py",
   "mimetype": "text/x-python",
   "name": "python",
   "nbconvert_exporter": "python",
   "pygments_lexer": "ipython3",
   "version": "3.6.3"
  }
 },
 "nbformat": 4,
 "nbformat_minor": 2
}
