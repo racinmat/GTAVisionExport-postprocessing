{
 "cells": [
  {
   "cell_type": "code",
   "execution_count": 1,
   "metadata": {
    "collapsed": true
   },
   "outputs": [],
   "source": [
    "import numpy as np\n",
    "import os\n",
    "from configparser import ConfigParser\n",
    "from visualization import load_depth, draw3dbboxes_pillow, camera_to_string\n",
    "import visualization\n",
    "from PIL import Image\n",
    "import pickle\n",
    "import json\n",
    "import time\n",
    "from shutil import copyfile\n",
    "import moviepy\n",
    "from moviepy.editor import *\n",
    "import matplotlib.pyplot as plt\n",
    "import matplotlib as mpl\n",
    "from joblib import Parallel, delayed"
   ]
  },
  {
   "cell_type": "code",
   "execution_count": 10,
   "metadata": {
    "collapsed": true
   },
   "outputs": [],
   "source": [
    "ini_file = \"gta-postprocessing.ini\"\n",
    "visualization.multi_page = False\n",
    "visualization.ini_file = ini_file\n",
    "visualization.use_cache = False\n",
    "\n",
    "conn = visualization.get_connection()\n",
    "cur = conn.cursor()\n",
    "\n",
    "CONFIG = ConfigParser()\n",
    "CONFIG.read(ini_file)\n",
    "in_directory = r'D:\\output-datasets\\onroad-4'\n",
    "out_directory = r'D:\\showing-videos\\onroad-4'\n",
    "\n",
    "directory_per_camera = False"
   ]
  },
  {
   "cell_type": "code",
   "execution_count": 11,
   "metadata": {},
   "outputs": [
    {
     "name": "stdout",
     "output_type": "stream",
     "text": [
      "There are 2076 snapshots\n"
     ]
    }
   ],
   "source": [
    "#run_id = 19\n",
    "#run_id = 3677\n",
    "run_id = 4180\n",
    "\n",
    "cur.execute(\"\"\"SELECT imagepath, \\\n",
    "      ARRAY[st_x(camera_relative_rotation), st_y(camera_relative_rotation), st_z(camera_relative_rotation)] as camera_relative_rotation,\n",
    "      ARRAY[st_x(camera_relative_position), st_y(camera_relative_position), st_z(camera_relative_position)] as camera_relative_position \n",
    "      FROM snapshots \\\n",
    "      WHERE run_id = {} AND camera_fov != 0 \\\n",
    "      ORDER BY timestamp ASC \\\n",
    "    \"\"\".format(run_id))\n",
    "# camera fov is sanity check for malformed images\n",
    "results = []\n",
    "for row in cur:\n",
    "    res = dict(row)\n",
    "    #res['camera_relative_rotation'] = np.array(res['camera_relative_rotation'])\n",
    "    results.append(res)\n",
    "\n",
    "print('There are {} snapshots'.format(len(results)))"
   ]
  },
  {
   "cell_type": "code",
   "execution_count": 12,
   "metadata": {},
   "outputs": [
    {
     "name": "stdout",
     "output_type": "stream",
     "text": [
      "there are following relative camera rotations\n",
      "[0.0, 0.0, 90.0]\n",
      "[-0.800000011920929, 0.800000011920929, 0.400000005960464]\n",
      "[0.0, 0.0, 180.0]\n",
      "[0.0, -2.29999995231628, 0.300000011920929]\n",
      "[0.0, 0.0, 0.0]\n",
      "[0.0, 2.0, 0.300000011920929]\n",
      "[0.0, 0.0, 270.0]\n",
      "[0.800000011920929, 0.800000011920929, 0.400000005960464]\n"
     ]
    }
   ],
   "source": [
    "# because sometimes I use two cameras heading same direction, pair (position, rotation) is unique identifier\n",
    "cur.execute(\"\"\"SELECT DISTINCT \\\n",
    "      ARRAY[st_x(camera_relative_rotation), st_y(camera_relative_rotation), st_z(camera_relative_rotation)] as camera_relative_rotation, \n",
    "      ARRAY[st_x(camera_relative_position), st_y(camera_relative_position), st_z(camera_relative_position)] as camera_relative_position \n",
    "      FROM snapshots \\\n",
    "      WHERE run_id = {} AND camera_fov != 0 \\\n",
    "      ORDER BY camera_relative_position, camera_relative_rotation ASC \\\n",
    "    \"\"\".format(run_id))\n",
    "# camera fov is sanity check for malformed images\n",
    "print('there are following relative camera rotations')\n",
    "cam_configurations = []\n",
    "camera_names = {}\n",
    "for i, row in enumerate(cur):\n",
    "    print(row['camera_relative_rotation'])\n",
    "    print(row['camera_relative_position'])\n",
    "    cam_configurations.append((row['camera_relative_rotation'], row['camera_relative_position']))\n",
    "    camera_name = camera_to_string(row)\n",
    "    camera_names[camera_name] = str(i)\n"
   ]
  },
  {
   "cell_type": "code",
   "execution_count": 13,
   "metadata": {
    "collapsed": true
   },
   "outputs": [],
   "source": [
    "def split_results_by_relative_cam_configurations(results):\n",
    "    res_groups = {}\n",
    "    for cam_conf in cam_configurations:\n",
    "        res_groups[str(cam_conf)] = [i for i in results if (i['camera_relative_rotation'], i['camera_relative_position']) == cam_conf]\n",
    "    return res_groups\n",
    "\n",
    "def result_group_to_video(results, suffix):\n",
    "    if directory_per_camera:\n",
    "        img_sequence = [os.path.join(in_directory, camera_names[camera_to_string(i)], i['imagepath']+suffix) for i in results]\n",
    "    else:\n",
    "        img_sequence = [os.path.join(in_directory, i['imagepath']+suffix) for i in results]\n",
    "    \n",
    "    img_sequence = [i for i in img_sequence if os.path.exists(i)]\n",
    "    clip = ImageSequenceClip(img_sequence, fps=10)\n",
    "    return clip\n",
    "\n",
    "def process_depth_image(image):\n",
    "    image = np.array(image.convert('RGB')) / np.iinfo(np.uint16).max\n",
    "    return image\n",
    "    \n",
    "def result_depth_group_to_video(results, suffix):\n",
    "    img_sequence = [os.path.join(in_directory, i['imagepath']+suffix) for i in results]\n",
    "    img_sequence = [Image.open(i) for i in img_sequence]\n",
    "    workers = 8\n",
    "    img_sequence = Parallel(n_jobs=workers, backend='threading')(delayed(process_depth_image)(i) for i in img_sequence)\n",
    "    clip = ImageSequenceClip(img_sequence, fps=10)\n",
    "    # moviepy does not work with grayscale images yet\n",
    "    #clip = clip.fl_image(process_depth_image)\n",
    "    return clip\n",
    "\n",
    "def process_stencil_image(colors, image):\n",
    "    image = np.array(image) % 8\n",
    "    image = colors[image]\n",
    "    return image\n",
    "    \n",
    "def result_stencil_group_to_video(results, suffix):\n",
    "    colors = (plt.cm.viridis(np.linspace(0, 1, 8))[:, :3] * np.iinfo(np.uint8).max).astype(np.uint8)\n",
    "    img_sequence = [os.path.join(in_directory, i['imagepath']+suffix) for i in results]\n",
    "    img_sequence = [Image.open(i) for i in img_sequence]  # IO operation, no need to perallelize\n",
    "    # from 60 to 16 seconds sppedup, nice, all cores at full load\n",
    "    workers = 8\n",
    "    img_sequence = Parallel(n_jobs=workers, backend='threading')(delayed(process_stencil_image)(colors, i) for i in img_sequence)\n",
    "    clip = ImageSequenceClip(img_sequence, fps=10)\n",
    "    # moviepy does not work with grayscale images yet\n",
    "    #clip = clip.fl_image(process_stencil_image)\n",
    "    return clip\n"
   ]
  },
  {
   "cell_type": "markdown",
   "metadata": {},
   "source": [
    "### preparing data"
   ]
  },
  {
   "cell_type": "code",
   "execution_count": 14,
   "metadata": {
    "collapsed": true,
    "scrolled": true
   },
   "outputs": [],
   "source": [
    "result_groups = split_results_by_relative_cam_configurations(results)\n"
   ]
  },
  {
   "cell_type": "code",
   "execution_count": 15,
   "metadata": {},
   "outputs": [
    {
     "name": "stdout",
     "output_type": "stream",
     "text": [
      "([0.0, 0.0, 90.0], [-0.800000011920929, 0.800000011920929, 0.400000005960464])\n",
      "519\n",
      "([0.0, 0.0, 180.0], [0.0, -2.29999995231628, 0.300000011920929])\n",
      "523\n",
      "([0.0, 0.0, 0.0], [0.0, 2.0, 0.300000011920929])\n",
      "521\n",
      "([0.0, 0.0, 270.0], [0.800000011920929, 0.800000011920929, 0.400000005960464])\n",
      "513\n"
     ]
    }
   ],
   "source": [
    "for cam_conf, res in result_groups.items():\n",
    "    print(cam_conf)\n",
    "    print(len(res))"
   ]
  },
  {
   "cell_type": "markdown",
   "metadata": {},
   "source": [
    "### dumping data to videos"
   ]
  },
  {
   "cell_type": "code",
   "execution_count": 16,
   "metadata": {
    "scrolled": false
   },
   "outputs": [
    {
     "name": "stdout",
     "output_type": "stream",
     "text": [
      "[MoviePy] >>>> Building video D:\\showing-videos\\onroad-4\\camera-([0.0, 0.0, 90.0], [-0.800000011920929, 0.800000011920929, 0.400000005960464]).mp4\n",
      "[MoviePy] Writing video D:\\showing-videos\\onroad-4\\camera-([0.0, 0.0, 90.0], [-0.800000011920929, 0.800000011920929, 0.400000005960464]).mp4\n"
     ]
    },
    {
     "name": "stderr",
     "output_type": "stream",
     "text": [
      "100%|████████████████████████████████████████████████████████████████████████████████| 422/422 [00:16<00:00, 25.66it/s]\n"
     ]
    },
    {
     "name": "stdout",
     "output_type": "stream",
     "text": [
      "[MoviePy] Done.\n",
      "[MoviePy] >>>> Video ready: D:\\showing-videos\\onroad-4\\camera-([0.0, 0.0, 90.0], [-0.800000011920929, 0.800000011920929, 0.400000005960464]).mp4 \n",
      "\n",
      "[MoviePy] >>>> Building video D:\\showing-videos\\onroad-4\\camera-([0.0, 0.0, 180.0], [0.0, -2.29999995231628, 0.300000011920929]).mp4\n",
      "[MoviePy] Writing video D:\\showing-videos\\onroad-4\\camera-([0.0, 0.0, 180.0], [0.0, -2.29999995231628, 0.300000011920929]).mp4\n"
     ]
    },
    {
     "name": "stderr",
     "output_type": "stream",
     "text": [
      "100%|████████████████████████████████████████████████████████████████████████████████| 426/426 [00:16<00:00, 25.40it/s]\n"
     ]
    },
    {
     "name": "stdout",
     "output_type": "stream",
     "text": [
      "[MoviePy] Done.\n",
      "[MoviePy] >>>> Video ready: D:\\showing-videos\\onroad-4\\camera-([0.0, 0.0, 180.0], [0.0, -2.29999995231628, 0.300000011920929]).mp4 \n",
      "\n",
      "[MoviePy] >>>> Building video D:\\showing-videos\\onroad-4\\camera-([0.0, 0.0, 0.0], [0.0, 2.0, 0.300000011920929]).mp4\n",
      "[MoviePy] Writing video D:\\showing-videos\\onroad-4\\camera-([0.0, 0.0, 0.0], [0.0, 2.0, 0.300000011920929]).mp4\n"
     ]
    },
    {
     "name": "stderr",
     "output_type": "stream",
     "text": [
      "100%|████████████████████████████████████████████████████████████████████████████████| 427/427 [00:17<00:00, 24.98it/s]\n"
     ]
    },
    {
     "name": "stdout",
     "output_type": "stream",
     "text": [
      "[MoviePy] Done.\n",
      "[MoviePy] >>>> Video ready: D:\\showing-videos\\onroad-4\\camera-([0.0, 0.0, 0.0], [0.0, 2.0, 0.300000011920929]).mp4 \n",
      "\n",
      "[MoviePy] >>>> Building video D:\\showing-videos\\onroad-4\\camera-([0.0, 0.0, 270.0], [0.800000011920929, 0.800000011920929, 0.400000005960464]).mp4\n",
      "[MoviePy] Writing video D:\\showing-videos\\onroad-4\\camera-([0.0, 0.0, 270.0], [0.800000011920929, 0.800000011920929, 0.400000005960464]).mp4\n"
     ]
    },
    {
     "name": "stderr",
     "output_type": "stream",
     "text": [
      "100%|████████████████████████████████████████████████████████████████████████████████| 413/413 [00:16<00:00, 25.54it/s]\n"
     ]
    },
    {
     "name": "stdout",
     "output_type": "stream",
     "text": [
      "[MoviePy] Done.\n",
      "[MoviePy] >>>> Video ready: D:\\showing-videos\\onroad-4\\camera-([0.0, 0.0, 270.0], [0.800000011920929, 0.800000011920929, 0.400000005960464]).mp4 \n",
      "\n"
     ]
    }
   ],
   "source": [
    "# splitting individual videos into functions, so they are not buffered at once into the memory\n",
    "def make_rgb_video(cam_conf, res):\n",
    "    clip = result_group_to_video(res, '.jpg')\n",
    "    video_name = os.path.join(out_directory, \"camera-{}.mp4\".format(cam_conf))\n",
    "    clip.write_videofile(video_name, audio=False, codec='mpeg4', threads=8)\n",
    "\n",
    "def make_depth_video(cam_conf, res):\n",
    "    depth_clip = result_depth_group_to_video(res, '-depth.png')\n",
    "    video_name = os.path.join(out_directory, \"camera-{}-depth.mp4\".format(cam_conf))\n",
    "    depth_clip.write_videofile(video_name, audio=False, codec='mpeg4')\n",
    "\n",
    "def make_stencil_video(cam_conf, res):\n",
    "    stencil_clip = result_stencil_group_to_video(res, '-stencil.png')\n",
    "    video_name = os.path.join(out_directory, \"camera-{}-stencil.mp4\".format(cam_conf))\n",
    "    stencil_clip.write_videofile(video_name, audio=False, codec='mpeg4')\n",
    "\n",
    "if not os.path.exists(out_directory):\n",
    "    os.makedirs(out_directory)\n",
    "\n",
    "for cam_conf, res in result_groups.items():\n",
    "    make_rgb_video(cam_conf, res)\n",
    "    # beware, following two lines eat shitload of RAM\n",
    "    #make_depth_video(cam_conf, res)\n",
    "    #make_stencil_video(cam_conf, res)\n",
    "    \n",
    "#time to load images 23.967074155807495\n",
    "#time to transform images 51.597939252853394\n",
    "#time to prepare sequence clip 0.0010004043579101562\n",
    "\n",
    "#time to load images 0.28050708770751953\n",
    "#time to transform images 63.57286500930786\n",
    "#time to prepare sequence clip 0.0005006790161132812"
   ]
  },
  {
   "cell_type": "code",
   "execution_count": 9,
   "metadata": {
    "collapsed": true
   },
   "outputs": [],
   "source": [
    "# copied from ImageSequenceClip constructor\n",
    "def find_image_index(clip, t):\n",
    "    return max([i for i in range(len(clip.sequence))\n",
    "                      if clip.images_starts[i]<=t])\n",
    "\n",
    "def get_base_name(name):\n",
    "    return os.path.basename(os.path.splitext(name)[0])\n",
    "\n",
    "def draw_bboxes(rgb, path, directory):\n",
    "    base_name = get_base_name(path)\n",
    "    depth_file = os.path.join(directory, '{}-depth.png'.format(base_name))\n",
    "    stencil_file = os.path.join(directory, '{}-stencil.png'.format(base_name))\n",
    "    json_file = os.path.join(directory, '{}.json'.format(base_name))\n",
    "    depth = np.array(Image.open(depth_file))\n",
    "    depth = depth / np.iinfo(np.uint16).max  # normalizing into NDC\n",
    "    stencil = np.array(Image.open(stencil_file))\n",
    "    with open(json_file, mode='r') as f:\n",
    "        data = json.load(f)\n",
    "    im = draw3dbboxes_pillow(rgb, depth, stencil, data)\n",
    "    return np.array(im)\n",
    "    \n",
    "def result_group_to_video_with_bboxes(results, suffix):\n",
    "    img_sequence = [os.path.join(in_directory, i['imagepath']+suffix) for i in results]\n",
    "    img_sequence = [i for i in img_sequence if os.path.exists(i)]\n",
    "    clip = ImageSequenceClip(img_sequence, fps=10)\n",
    "    #clip = clip.fl_image(draw_bboxes)\n",
    "    clip = clip.fl(lambda gf, t: draw_bboxes(gf(t), clip.sequence[find_image_index(clip, t)], in_directory), []) # instead of fl_image, here I use fl, so I access both image and its name\n",
    "\n",
    "    return clip\n",
    "\n",
    "def make_rgb_video_with_bboxes(cam_conf, res):\n",
    "    clip = result_group_to_video_with_bboxes(res, '.jpg')\n",
    "    video_name = os.path.join(out_directory, \"camera-{}-annotated.mp4\".format(cam_conf))\n",
    "    clip.write_videofile(video_name, audio=False, codec='mpeg4', threads=8)\n"
   ]
  },
  {
   "cell_type": "code",
   "execution_count": 9,
   "metadata": {
    "scrolled": true
   },
   "outputs": [
    {
     "name": "stdout",
     "output_type": "stream",
     "text": [
      "[MoviePy] >>>> Building video D:\\showing-videos\\onroad-1\\camera-([0.0, 0.0, 0.0], [0.0, 2.0, 0.300000011920929])-annotated.mp4\n",
      "[MoviePy] Writing video D:\\showing-videos\\onroad-1\\camera-([0.0, 0.0, 0.0], [0.0, 2.0, 0.300000011920929])-annotated.mp4\n"
     ]
    },
    {
     "name": "stderr",
     "output_type": "stream",
     "text": [
      "100%|██████████████████████████████████████████████████████████████████████████████| 1292/1292 [17:31<00:00,  1.96s/it]\n"
     ]
    },
    {
     "name": "stdout",
     "output_type": "stream",
     "text": [
      "[MoviePy] Done.\n",
      "[MoviePy] >>>> Video ready: D:\\showing-videos\\onroad-1\\camera-([0.0, 0.0, 0.0], [0.0, 2.0, 0.300000011920929])-annotated.mp4 \n",
      "\n"
     ]
    }
   ],
   "source": [
    "for cam_conf, res in result_groups.items():\n",
    "    if '[0.0, 0.0, 0.0]' not in cam_conf:\n",
    "        continue\n",
    "    make_rgb_video_with_bboxes(cam_conf, res)\n",
    "    break\n"
   ]
  },
  {
   "cell_type": "code",
   "execution_count": null,
   "metadata": {
    "collapsed": true
   },
   "outputs": [],
   "source": [
    "name = os.path.join(in_directory, result_groups['[0, 0, 0]'][0]['imagepath']+'-depth.png')\n",
    "depth_arr = np.array(Image.open(name).convert('RGB'))\n",
    "depth_arr_2 = np.array(Image.open(name).convert('L').convert('RGB'))\n",
    "depth_arr_3 = np.array(Image.open(name).convert('L'))\n",
    "arr_single = np.array(Image.open(name))"
   ]
  },
  {
   "cell_type": "code",
   "execution_count": null,
   "metadata": {
    "collapsed": true
   },
   "outputs": [],
   "source": [
    "depth_arr.max()"
   ]
  },
  {
   "cell_type": "code",
   "execution_count": null,
   "metadata": {
    "collapsed": true
   },
   "outputs": [],
   "source": [
    "arr_single.max()"
   ]
  },
  {
   "cell_type": "code",
   "execution_count": null,
   "metadata": {
    "collapsed": true
   },
   "outputs": [],
   "source": [
    "import matplotlib.pyplot as plt\n",
    "\n",
    "fig = plt.figure(figsize=(10, 10))\n",
    "plt.imshow(arr_single, cmap='gray')\n",
    "plt.show()"
   ]
  },
  {
   "cell_type": "code",
   "execution_count": null,
   "metadata": {
    "collapsed": true
   },
   "outputs": [],
   "source": [
    "fig = plt.figure(figsize=(10, 10))\n",
    "plt.imshow(depth_arr_3, cmap='gray')\n",
    "plt.show()"
   ]
  },
  {
   "cell_type": "code",
   "execution_count": null,
   "metadata": {
    "collapsed": true
   },
   "outputs": [],
   "source": [
    "fig = plt.figure(figsize=(10, 10))\n",
    "plt.imshow(depth_arr_2)\n",
    "plt.show()"
   ]
  },
  {
   "cell_type": "code",
   "execution_count": null,
   "metadata": {
    "collapsed": true
   },
   "outputs": [],
   "source": [
    "fig = plt.figure(figsize=(10, 10))\n",
    "plt.imshow(depth_arr)\n",
    "plt.show()"
   ]
  },
  {
   "cell_type": "code",
   "execution_count": null,
   "metadata": {
    "collapsed": true
   },
   "outputs": [],
   "source": [
    "fig = plt.figure(figsize=(10, 10))\n",
    "plt.hist(arr_single.flatten())\n",
    "plt.show()"
   ]
  },
  {
   "cell_type": "code",
   "execution_count": null,
   "metadata": {
    "collapsed": true
   },
   "outputs": [],
   "source": [
    "fig = plt.figure(figsize=(10, 10))\n",
    "plt.hist(depth_arr.flatten())\n",
    "plt.show()"
   ]
  },
  {
   "cell_type": "code",
   "execution_count": null,
   "metadata": {
    "collapsed": true
   },
   "outputs": [],
   "source": [
    "fig = plt.figure(figsize=(10, 10))\n",
    "plt.hist(depth_arr_2.flatten())\n",
    "plt.show()"
   ]
  },
  {
   "cell_type": "code",
   "execution_count": null,
   "metadata": {
    "collapsed": true
   },
   "outputs": [],
   "source": [
    "fig = plt.figure(figsize=(10, 10))\n",
    "plt.hist(depth_arr_3.flatten())\n",
    "plt.show()"
   ]
  },
  {
   "cell_type": "code",
   "execution_count": 37,
   "metadata": {},
   "outputs": [
    {
     "ename": "NameError",
     "evalue": "name 'arr_single' is not defined",
     "output_type": "error",
     "traceback": [
      "\u001b[1;31m---------------------------------------------------------------------------\u001b[0m",
      "\u001b[1;31mNameError\u001b[0m                                 Traceback (most recent call last)",
      "\u001b[1;32m<ipython-input-37-3a506197b515>\u001b[0m in \u001b[0;36m<module>\u001b[1;34m()\u001b[0m\n\u001b[1;32m----> 1\u001b[1;33m \u001b[0marr_single_cropped\u001b[0m \u001b[1;33m=\u001b[0m \u001b[0marr_single\u001b[0m\u001b[1;33m[\u001b[0m\u001b[0marr_single\u001b[0m \u001b[1;33m<\u001b[0m \u001b[1;36m256\u001b[0m\u001b[1;33m]\u001b[0m\u001b[1;33m\u001b[0m\u001b[0m\n\u001b[0m\u001b[0;32m      2\u001b[0m \u001b[0mfig\u001b[0m \u001b[1;33m=\u001b[0m \u001b[0mplt\u001b[0m\u001b[1;33m.\u001b[0m\u001b[0mfigure\u001b[0m\u001b[1;33m(\u001b[0m\u001b[0mfigsize\u001b[0m\u001b[1;33m=\u001b[0m\u001b[1;33m(\u001b[0m\u001b[1;36m10\u001b[0m\u001b[1;33m,\u001b[0m \u001b[1;36m10\u001b[0m\u001b[1;33m)\u001b[0m\u001b[1;33m)\u001b[0m\u001b[1;33m\u001b[0m\u001b[0m\n\u001b[0;32m      3\u001b[0m \u001b[0mplt\u001b[0m\u001b[1;33m.\u001b[0m\u001b[0mhist\u001b[0m\u001b[1;33m(\u001b[0m\u001b[0marr_single_cropped\u001b[0m\u001b[1;33m.\u001b[0m\u001b[0mflatten\u001b[0m\u001b[1;33m(\u001b[0m\u001b[1;33m)\u001b[0m\u001b[1;33m)\u001b[0m\u001b[1;33m\u001b[0m\u001b[0m\n\u001b[0;32m      4\u001b[0m \u001b[0mplt\u001b[0m\u001b[1;33m.\u001b[0m\u001b[0mshow\u001b[0m\u001b[1;33m(\u001b[0m\u001b[1;33m)\u001b[0m\u001b[1;33m\u001b[0m\u001b[0m\n",
      "\u001b[1;31mNameError\u001b[0m: name 'arr_single' is not defined"
     ]
    }
   ],
   "source": [
    "arr_single_cropped = arr_single[arr_single < 256]\n",
    "fig = plt.figure(figsize=(10, 10))\n",
    "plt.hist(arr_single_cropped.flatten())\n",
    "plt.show()"
   ]
  },
  {
   "cell_type": "code",
   "execution_count": 116,
   "metadata": {
    "collapsed": true
   },
   "outputs": [],
   "source": [
    "im_stencil = os.path.join(in_directory, next(iter(result_groups.values()))[0]['imagepath']+'-stencil.png')\n",
    "im_stencil = np.array(Image.open(im_stencil))\n",
    "im_stencil = im_stencil % 8\n",
    "colors = (plt.cm.viridis(np.linspace(0, 1, 8))[:, :3] * np.iinfo(np.uint8).max).astype(np.uint8)\n",
    "im_stencil = colors[im_stencil]"
   ]
  },
  {
   "cell_type": "code",
   "execution_count": 117,
   "metadata": {},
   "outputs": [
    {
     "data": {
      "image/png": "[encoded data removed]",
      "text/plain": [
       "<matplotlib.figure.Figure at 0x24c80693828>"
      ]
     },
     "metadata": {},
     "output_type": "display_data"
    }
   ],
   "source": [
    "fig = plt.figure(figsize=(10, 10))\n",
    "ii = plt.imshow(im_stencil)\n",
    "plt.colorbar(ii)\n",
    "plt.show()"
   ]
  },
  {
   "cell_type": "code",
   "execution_count": 56,
   "metadata": {},
   "outputs": [
    {
     "data": {
      "image/png": "[encoded data removed]",
      "text/plain": [
       "<matplotlib.figure.Figure at 0x24c806eb438>"
      ]
     },
     "metadata": {},
     "output_type": "display_data"
    }
   ],
   "source": [
    "fig = plt.figure(figsize=(10, 10))\n",
    "plt.hist(im_stencil.flatten())\n",
    "plt.show()"
   ]
  }
 ],
 "metadata": {
  "kernelspec": {
   "display_name": "Python 3",
   "language": "python",
   "name": "python3"
  },
  "language_info": {
   "codemirror_mode": {
    "name": "ipython",
    "version": 3
   },
   "file_extension": ".py",
   "mimetype": "text/x-python",
   "name": "python",
   "nbconvert_exporter": "python",
   "pygments_lexer": "ipython3",
   "version": "3.6.3"
  }
 },
 "nbformat": 4,
 "nbformat_minor": 2
}
